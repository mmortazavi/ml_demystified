{
  "nbformat": 4,
  "nbformat_minor": 0,
  "metadata": {
    "colab": {
      "provenance": []
    },
    "kernelspec": {
      "name": "python3",
      "display_name": "Python 3"
    },
    "language_info": {
      "name": "python"
    }
  },
  "cells": [
    {
      "cell_type": "code",
      "source": [
        "import math\n",
        "import pandas as pd"
      ],
      "metadata": {
        "id": "cYlgcTm7JIn_"
      },
      "execution_count": 17,
      "outputs": []
    },
    {
      "cell_type": "code",
      "source": [
        "from google.colab import files\n",
        "uploaded = files.upload()"
      ],
      "metadata": {
        "colab": {
          "base_uri": "https://localhost:8080/",
          "height": 74
        },
        "id": "I_z2f27_Qe2w",
        "outputId": "b4174f5c-f78b-430a-82a8-0ff06b34ef14"
      },
      "execution_count": 19,
      "outputs": [
        {
          "output_type": "display_data",
          "data": {
            "text/plain": [
              "<IPython.core.display.HTML object>"
            ],
            "text/html": [
              "\n",
              "     <input type=\"file\" id=\"files-296aaf65-4946-4043-91c5-b0269896e715\" name=\"files[]\" multiple disabled\n",
              "        style=\"border:none\" />\n",
              "     <output id=\"result-296aaf65-4946-4043-91c5-b0269896e715\">\n",
              "      Upload widget is only available when the cell has been executed in the\n",
              "      current browser session. Please rerun this cell to enable.\n",
              "      </output>\n",
              "      <script>// Copyright 2017 Google LLC\n",
              "//\n",
              "// Licensed under the Apache License, Version 2.0 (the \"License\");\n",
              "// you may not use this file except in compliance with the License.\n",
              "// You may obtain a copy of the License at\n",
              "//\n",
              "//      http://www.apache.org/licenses/LICENSE-2.0\n",
              "//\n",
              "// Unless required by applicable law or agreed to in writing, software\n",
              "// distributed under the License is distributed on an \"AS IS\" BASIS,\n",
              "// WITHOUT WARRANTIES OR CONDITIONS OF ANY KIND, either express or implied.\n",
              "// See the License for the specific language governing permissions and\n",
              "// limitations under the License.\n",
              "\n",
              "/**\n",
              " * @fileoverview Helpers for google.colab Python module.\n",
              " */\n",
              "(function(scope) {\n",
              "function span(text, styleAttributes = {}) {\n",
              "  const element = document.createElement('span');\n",
              "  element.textContent = text;\n",
              "  for (const key of Object.keys(styleAttributes)) {\n",
              "    element.style[key] = styleAttributes[key];\n",
              "  }\n",
              "  return element;\n",
              "}\n",
              "\n",
              "// Max number of bytes which will be uploaded at a time.\n",
              "const MAX_PAYLOAD_SIZE = 100 * 1024;\n",
              "\n",
              "function _uploadFiles(inputId, outputId) {\n",
              "  const steps = uploadFilesStep(inputId, outputId);\n",
              "  const outputElement = document.getElementById(outputId);\n",
              "  // Cache steps on the outputElement to make it available for the next call\n",
              "  // to uploadFilesContinue from Python.\n",
              "  outputElement.steps = steps;\n",
              "\n",
              "  return _uploadFilesContinue(outputId);\n",
              "}\n",
              "\n",
              "// This is roughly an async generator (not supported in the browser yet),\n",
              "// where there are multiple asynchronous steps and the Python side is going\n",
              "// to poll for completion of each step.\n",
              "// This uses a Promise to block the python side on completion of each step,\n",
              "// then passes the result of the previous step as the input to the next step.\n",
              "function _uploadFilesContinue(outputId) {\n",
              "  const outputElement = document.getElementById(outputId);\n",
              "  const steps = outputElement.steps;\n",
              "\n",
              "  const next = steps.next(outputElement.lastPromiseValue);\n",
              "  return Promise.resolve(next.value.promise).then((value) => {\n",
              "    // Cache the last promise value to make it available to the next\n",
              "    // step of the generator.\n",
              "    outputElement.lastPromiseValue = value;\n",
              "    return next.value.response;\n",
              "  });\n",
              "}\n",
              "\n",
              "/**\n",
              " * Generator function which is called between each async step of the upload\n",
              " * process.\n",
              " * @param {string} inputId Element ID of the input file picker element.\n",
              " * @param {string} outputId Element ID of the output display.\n",
              " * @return {!Iterable<!Object>} Iterable of next steps.\n",
              " */\n",
              "function* uploadFilesStep(inputId, outputId) {\n",
              "  const inputElement = document.getElementById(inputId);\n",
              "  inputElement.disabled = false;\n",
              "\n",
              "  const outputElement = document.getElementById(outputId);\n",
              "  outputElement.innerHTML = '';\n",
              "\n",
              "  const pickedPromise = new Promise((resolve) => {\n",
              "    inputElement.addEventListener('change', (e) => {\n",
              "      resolve(e.target.files);\n",
              "    });\n",
              "  });\n",
              "\n",
              "  const cancel = document.createElement('button');\n",
              "  inputElement.parentElement.appendChild(cancel);\n",
              "  cancel.textContent = 'Cancel upload';\n",
              "  const cancelPromise = new Promise((resolve) => {\n",
              "    cancel.onclick = () => {\n",
              "      resolve(null);\n",
              "    };\n",
              "  });\n",
              "\n",
              "  // Wait for the user to pick the files.\n",
              "  const files = yield {\n",
              "    promise: Promise.race([pickedPromise, cancelPromise]),\n",
              "    response: {\n",
              "      action: 'starting',\n",
              "    }\n",
              "  };\n",
              "\n",
              "  cancel.remove();\n",
              "\n",
              "  // Disable the input element since further picks are not allowed.\n",
              "  inputElement.disabled = true;\n",
              "\n",
              "  if (!files) {\n",
              "    return {\n",
              "      response: {\n",
              "        action: 'complete',\n",
              "      }\n",
              "    };\n",
              "  }\n",
              "\n",
              "  for (const file of files) {\n",
              "    const li = document.createElement('li');\n",
              "    li.append(span(file.name, {fontWeight: 'bold'}));\n",
              "    li.append(span(\n",
              "        `(${file.type || 'n/a'}) - ${file.size} bytes, ` +\n",
              "        `last modified: ${\n",
              "            file.lastModifiedDate ? file.lastModifiedDate.toLocaleDateString() :\n",
              "                                    'n/a'} - `));\n",
              "    const percent = span('0% done');\n",
              "    li.appendChild(percent);\n",
              "\n",
              "    outputElement.appendChild(li);\n",
              "\n",
              "    const fileDataPromise = new Promise((resolve) => {\n",
              "      const reader = new FileReader();\n",
              "      reader.onload = (e) => {\n",
              "        resolve(e.target.result);\n",
              "      };\n",
              "      reader.readAsArrayBuffer(file);\n",
              "    });\n",
              "    // Wait for the data to be ready.\n",
              "    let fileData = yield {\n",
              "      promise: fileDataPromise,\n",
              "      response: {\n",
              "        action: 'continue',\n",
              "      }\n",
              "    };\n",
              "\n",
              "    // Use a chunked sending to avoid message size limits. See b/62115660.\n",
              "    let position = 0;\n",
              "    do {\n",
              "      const length = Math.min(fileData.byteLength - position, MAX_PAYLOAD_SIZE);\n",
              "      const chunk = new Uint8Array(fileData, position, length);\n",
              "      position += length;\n",
              "\n",
              "      const base64 = btoa(String.fromCharCode.apply(null, chunk));\n",
              "      yield {\n",
              "        response: {\n",
              "          action: 'append',\n",
              "          file: file.name,\n",
              "          data: base64,\n",
              "        },\n",
              "      };\n",
              "\n",
              "      let percentDone = fileData.byteLength === 0 ?\n",
              "          100 :\n",
              "          Math.round((position / fileData.byteLength) * 100);\n",
              "      percent.textContent = `${percentDone}% done`;\n",
              "\n",
              "    } while (position < fileData.byteLength);\n",
              "  }\n",
              "\n",
              "  // All done.\n",
              "  yield {\n",
              "    response: {\n",
              "      action: 'complete',\n",
              "    }\n",
              "  };\n",
              "}\n",
              "\n",
              "scope.google = scope.google || {};\n",
              "scope.google.colab = scope.google.colab || {};\n",
              "scope.google.colab._files = {\n",
              "  _uploadFiles,\n",
              "  _uploadFilesContinue,\n",
              "};\n",
              "})(self);\n",
              "</script> "
            ]
          },
          "metadata": {}
        },
        {
          "output_type": "stream",
          "name": "stdout",
          "text": [
            "Saving XRD_dis.csv to XRD_dis.csv\n"
          ]
        }
      ]
    },
    {
      "cell_type": "code",
      "source": [
        "data = pd.read_csv(\"/content/XRD_dis.csv\")"
      ],
      "metadata": {
        "id": "R5ygB7jJQq6i"
      },
      "execution_count": 20,
      "outputs": []
    },
    {
      "cell_type": "markdown",
      "source": [
        "Dislocation Density"
      ],
      "metadata": {
        "id": "w7tfU4oq1CTy"
      }
    },
    {
      "cell_type": "code",
      "source": [
        "def dislocation_density(theta,FWHM):\n",
        "  landa = 1.54*10\n",
        "  k = 0.89\n",
        "  theta = theta/2\n",
        "  theta = math.radians(theta)\n",
        "  cos = math.cos(theta)\n",
        "  FWHM = FWHM\n",
        "  Scherrer = (k*landa)/(FWHM*cos)\n",
        "  scherrer_width = (((Scherrer)**2)*10**-4)\n",
        "  dislocation = 1/(scherrer_width)\n",
        "  print('dislocation_density:',dislocation)\n",
        "\n",
        ""
      ],
      "metadata": {
        "id": "3BQWMWeWNjMa"
      },
      "execution_count": 21,
      "outputs": []
    },
    {
      "cell_type": "markdown",
      "source": [
        "###Sample1"
      ],
      "metadata": {
        "id": "tY-3KwGl1Qlk"
      }
    },
    {
      "cell_type": "code",
      "source": [
        "print('Sample1_1')\n",
        "dislocation_density(32.25,0.45)\n",
        "print('Sample1_2')\n",
        "dislocation_density(34.9,0.35)\n",
        "print('Sample1_3')\n",
        "dislocation_density(36.86,0.51)\n",
        "print('Sample1_4')\n",
        "dislocation_density(48.29,0.57)\n",
        "print('Sample1_5')\n",
        "dislocation_density(57.39,0.54)\n",
        "print('Sample1_6')\n",
        "dislocation_density(63.89,0.92)"
      ],
      "metadata": {
        "colab": {
          "base_uri": "https://localhost:8080/"
        },
        "id": "WKDBFq5hN1gG",
        "outputId": "5cfba912-8344-48d7-8aa5-4674d26ccc83"
      },
      "execution_count": 22,
      "outputs": [
        {
          "output_type": "stream",
          "name": "stdout",
          "text": [
            "Sample1_1\n",
            "dislocation_density: 9.948125044410835\n",
            "Sample1_2\n",
            "dislocation_density: 5.934611115452633\n",
            "Sample1_3\n",
            "dislocation_density: 12.461961657249255\n",
            "Sample1_4\n",
            "dislocation_density: 14.401461289188017\n",
            "Sample1_5\n",
            "dislocation_density: 11.944046775652517\n",
            "Sample1_6\n",
            "dislocation_density: 32.44259743004741\n"
          ]
        }
      ]
    },
    {
      "cell_type": "markdown",
      "source": [
        "###Sample2"
      ],
      "metadata": {
        "id": "4YsaSS0XaPf_"
      }
    },
    {
      "cell_type": "code",
      "source": [
        "print('Sample2_1')\n",
        "dislocation_density(32.09,0.30)\n",
        "print('Sample2_2')\n",
        "dislocation_density(34.84,0.21)\n",
        "print('Sample2_3')\n",
        "dislocation_density(36.79,0.34)\n",
        "print('Sample2_4')\n",
        "dislocation_density(48.22,0.37)\n",
        "print('Sample2_5')\n",
        "dislocation_density(57.01,0.61)\n",
        "print('Sample2_6')\n",
        "dislocation_density(63.73,0.54)"
      ],
      "metadata": {
        "colab": {
          "base_uri": "https://localhost:8080/"
        },
        "id": "iJoVHgBtaO3o",
        "outputId": "9a6bd250-694a-4973-feab-6e1e9466564f"
      },
      "execution_count": 23,
      "outputs": [
        {
          "output_type": "stream",
          "name": "stdout",
          "text": [
            "Sample2_1\n",
            "dislocation_density: 4.424950575894337\n",
            "Sample2_2\n",
            "dislocation_density: 2.137162744291233\n",
            "Sample2_3\n",
            "dislocation_density: 5.540902717239615\n",
            "Sample2_4\n",
            "dislocation_density: 6.071527250797603\n",
            "Sample2_5\n",
            "dislocation_density: 15.296570251651742\n",
            "Sample2_6\n",
            "dislocation_density: 11.196506020604687\n"
          ]
        }
      ]
    },
    {
      "cell_type": "markdown",
      "source": [
        "###Sample3"
      ],
      "metadata": {
        "id": "8TKI35Vkhw2B"
      }
    },
    {
      "cell_type": "code",
      "source": [
        "print('Sample3_1')\n",
        "dislocation_density(32.12,0.19)\n",
        "print('Sample3_2')\n",
        "dislocation_density(34.81,0.2)\n",
        "print('Sample3_3')\n",
        "dislocation_density(36.69,0.24)\n",
        "print('Sample3_4')\n",
        "dislocation_density(48.19,0.27)\n",
        "print('Sample3_5')\n",
        "dislocation_density(57.42,0.3)\n",
        "print('Sample3_6')\n",
        "dislocation_density(63.69,0.36)"
      ],
      "metadata": {
        "colab": {
          "base_uri": "https://localhost:8080/"
        },
        "id": "0JJQ4kcYg-9j",
        "outputId": "55c916cf-0248-4701-b5cf-cb2a93f6681e"
      },
      "execution_count": 24,
      "outputs": [
        {
          "output_type": "stream",
          "name": "stdout",
          "text": [
            "Sample3_1\n",
            "dislocation_density: 1.7746294582609707\n",
            "Sample3_2\n",
            "dislocation_density: 1.9387879542210784\n",
            "Sample3_3\n",
            "dislocation_density: 2.762465624934236\n",
            "Sample3_4\n",
            "dislocation_density: 3.2338789531661085\n",
            "Sample3_5\n",
            "dislocation_density: 3.685377471586547\n",
            "Sample3_6\n",
            "dislocation_density: 4.978383994654408\n"
          ]
        }
      ]
    },
    {
      "cell_type": "markdown",
      "source": [
        "###Sample4"
      ],
      "metadata": {
        "id": "63YyAawWkaYT"
      }
    },
    {
      "cell_type": "code",
      "source": [
        "print('Sample4_1')\n",
        "dislocation_density(32.12,0.45)\n",
        "print('Sample4_2')\n",
        "dislocation_density(34.84,0.39)\n",
        "print('Sample4_3')\n",
        "dislocation_density(36.69,0.52)\n",
        "print('Sample4_4')\n",
        "dislocation_density(48.22,0.73)\n",
        "print('Sample4_5')\n",
        "dislocation_density(57.42,0.74)\n",
        "print('Sample4_6')\n",
        "dislocation_density(63.83,0.76)"
      ],
      "metadata": {
        "colab": {
          "base_uri": "https://localhost:8080/"
        },
        "id": "W1KeCopjkZ6b",
        "outputId": "dc706b40-bed5-4e71-af67-fa7456731abc"
      },
      "execution_count": 25,
      "outputs": [
        {
          "output_type": "stream",
          "name": "stdout",
          "text": [
            "Sample4_1\n",
            "dislocation_density: 9.954638927918188\n",
            "Sample4_2\n",
            "dislocation_density: 7.371030689494251\n",
            "Sample4_3\n",
            "dislocation_density: 12.968241405941273\n",
            "Sample4_4\n",
            "dislocation_density: 23.634162687728576\n",
            "Sample4_5\n",
            "dislocation_density: 22.423474482675488\n",
            "Sample4_6\n",
            "dislocation_density: 22.153918877745216\n"
          ]
        }
      ]
    },
    {
      "cell_type": "markdown",
      "source": [
        "###Sample5"
      ],
      "metadata": {
        "id": "Q_LTAc7lfYkA"
      }
    },
    {
      "cell_type": "code",
      "source": [
        "print('Sample5_1')\n",
        "dislocation_density(32.12,0.19)\n",
        "print('Sample5_2')\n",
        "dislocation_density(34.9,0.17)\n",
        "print('Sample5_3')\n",
        "dislocation_density(36.72,0.23)\n",
        "print('Sample5_4')\n",
        "dislocation_density(48.16,0.24)\n",
        "print('Sample5_5')\n",
        "dislocation_density(57.32,0.36)\n",
        "print('Sample5_6')\n",
        "dislocation_density(63.76,0.25)"
      ],
      "metadata": {
        "colab": {
          "base_uri": "https://localhost:8080/"
        },
        "id": "A2MPgGbMfbDQ",
        "outputId": "40408727-307c-415d-8cd6-8ac854ff0e24"
      },
      "execution_count": 26,
      "outputs": [
        {
          "output_type": "stream",
          "name": "stdout",
          "text": [
            "Sample5_1\n",
            "dislocation_density: 1.7746294582609707\n",
            "Sample5_2\n",
            "dislocation_density: 1.40008376519658\n",
            "Sample5_3\n",
            "dislocation_density: 2.5366154648503847\n",
            "Sample5_4\n",
            "dislocation_density: 2.5557617999661675\n",
            "Sample5_5\n",
            "dislocation_density: 5.312013824848078\n",
            "Sample5_6\n",
            "dislocation_density: 2.3990186570245577\n"
          ]
        }
      ]
    },
    {
      "cell_type": "markdown",
      "source": [
        "\n",
        "\n",
        "---\n",
        "\n"
      ],
      "metadata": {
        "id": "xFej6kMDkVEb"
      }
    },
    {
      "cell_type": "code",
      "source": [
        "Samples = ['Sample1','Sample2','Sample3','Sample4','Sample5']\n",
        "peak1 = [9.9481,4.4249,1.7746,9.9546,1.7746]\n",
        "peak2 = [5.9346,2.1371,1.9387,7.3710,1.4000]\n",
        "peak3 = [12.4619,5.5409,2.7624,12.9682,2.5366]\n",
        "peak4 = [14.4014,6.0715,3.2338,23.6341,2.5557]\n",
        "peak5 = [11.9440,15.2965,3.6853,22.4234,5.3120]\n",
        "peak6 = [32.4425,11.1965,4.9783,22.1539,2.3990]\n",
        "dis = pd.DataFrame({\n",
        "    'Sample': Samples,\n",
        "    'peak1' : peak1,\n",
        "    'peak2' : peak2,\n",
        "    'peak3' : peak3,\n",
        "    'peak4' : peak4,\n",
        "    'peak5' : peak5,\n",
        "    'peak6' : peak6})\n",
        "dis"
      ],
      "metadata": {
        "colab": {
          "base_uri": "https://localhost:8080/",
          "height": 206
        },
        "id": "HMzCL4jch0Sd",
        "outputId": "9be12c02-73c2-4820-b776-fc2f62e9c7b8"
      },
      "execution_count": 27,
      "outputs": [
        {
          "output_type": "execute_result",
          "data": {
            "text/plain": [
              "    Sample   peak1   peak2    peak3    peak4    peak5    peak6\n",
              "0  Sample1  9.9481  5.9346  12.4619  14.4014  11.9440  32.4425\n",
              "1  Sample2  4.4249  2.1371   5.5409   6.0715  15.2965  11.1965\n",
              "2  Sample3  1.7746  1.9387   2.7624   3.2338   3.6853   4.9783\n",
              "3  Sample4  9.9546  7.3710  12.9682  23.6341  22.4234  22.1539\n",
              "4  Sample5  1.7746  1.4000   2.5366   2.5557   5.3120   2.3990"
            ],
            "text/html": [
              "\n",
              "  <div id=\"df-1e7eeadd-0a50-4f71-bcd3-6107e0bc2d51\" class=\"colab-df-container\">\n",
              "    <div>\n",
              "<style scoped>\n",
              "    .dataframe tbody tr th:only-of-type {\n",
              "        vertical-align: middle;\n",
              "    }\n",
              "\n",
              "    .dataframe tbody tr th {\n",
              "        vertical-align: top;\n",
              "    }\n",
              "\n",
              "    .dataframe thead th {\n",
              "        text-align: right;\n",
              "    }\n",
              "</style>\n",
              "<table border=\"1\" class=\"dataframe\">\n",
              "  <thead>\n",
              "    <tr style=\"text-align: right;\">\n",
              "      <th></th>\n",
              "      <th>Sample</th>\n",
              "      <th>peak1</th>\n",
              "      <th>peak2</th>\n",
              "      <th>peak3</th>\n",
              "      <th>peak4</th>\n",
              "      <th>peak5</th>\n",
              "      <th>peak6</th>\n",
              "    </tr>\n",
              "  </thead>\n",
              "  <tbody>\n",
              "    <tr>\n",
              "      <th>0</th>\n",
              "      <td>Sample1</td>\n",
              "      <td>9.9481</td>\n",
              "      <td>5.9346</td>\n",
              "      <td>12.4619</td>\n",
              "      <td>14.4014</td>\n",
              "      <td>11.9440</td>\n",
              "      <td>32.4425</td>\n",
              "    </tr>\n",
              "    <tr>\n",
              "      <th>1</th>\n",
              "      <td>Sample2</td>\n",
              "      <td>4.4249</td>\n",
              "      <td>2.1371</td>\n",
              "      <td>5.5409</td>\n",
              "      <td>6.0715</td>\n",
              "      <td>15.2965</td>\n",
              "      <td>11.1965</td>\n",
              "    </tr>\n",
              "    <tr>\n",
              "      <th>2</th>\n",
              "      <td>Sample3</td>\n",
              "      <td>1.7746</td>\n",
              "      <td>1.9387</td>\n",
              "      <td>2.7624</td>\n",
              "      <td>3.2338</td>\n",
              "      <td>3.6853</td>\n",
              "      <td>4.9783</td>\n",
              "    </tr>\n",
              "    <tr>\n",
              "      <th>3</th>\n",
              "      <td>Sample4</td>\n",
              "      <td>9.9546</td>\n",
              "      <td>7.3710</td>\n",
              "      <td>12.9682</td>\n",
              "      <td>23.6341</td>\n",
              "      <td>22.4234</td>\n",
              "      <td>22.1539</td>\n",
              "    </tr>\n",
              "    <tr>\n",
              "      <th>4</th>\n",
              "      <td>Sample5</td>\n",
              "      <td>1.7746</td>\n",
              "      <td>1.4000</td>\n",
              "      <td>2.5366</td>\n",
              "      <td>2.5557</td>\n",
              "      <td>5.3120</td>\n",
              "      <td>2.3990</td>\n",
              "    </tr>\n",
              "  </tbody>\n",
              "</table>\n",
              "</div>\n",
              "    <div class=\"colab-df-buttons\">\n",
              "\n",
              "  <div class=\"colab-df-container\">\n",
              "    <button class=\"colab-df-convert\" onclick=\"convertToInteractive('df-1e7eeadd-0a50-4f71-bcd3-6107e0bc2d51')\"\n",
              "            title=\"Convert this dataframe to an interactive table.\"\n",
              "            style=\"display:none;\">\n",
              "\n",
              "  <svg xmlns=\"http://www.w3.org/2000/svg\" height=\"24px\" viewBox=\"0 -960 960 960\">\n",
              "    <path d=\"M120-120v-720h720v720H120Zm60-500h600v-160H180v160Zm220 220h160v-160H400v160Zm0 220h160v-160H400v160ZM180-400h160v-160H180v160Zm440 0h160v-160H620v160ZM180-180h160v-160H180v160Zm440 0h160v-160H620v160Z\"/>\n",
              "  </svg>\n",
              "    </button>\n",
              "\n",
              "  <style>\n",
              "    .colab-df-container {\n",
              "      display:flex;\n",
              "      gap: 12px;\n",
              "    }\n",
              "\n",
              "    .colab-df-convert {\n",
              "      background-color: #E8F0FE;\n",
              "      border: none;\n",
              "      border-radius: 50%;\n",
              "      cursor: pointer;\n",
              "      display: none;\n",
              "      fill: #1967D2;\n",
              "      height: 32px;\n",
              "      padding: 0 0 0 0;\n",
              "      width: 32px;\n",
              "    }\n",
              "\n",
              "    .colab-df-convert:hover {\n",
              "      background-color: #E2EBFA;\n",
              "      box-shadow: 0px 1px 2px rgba(60, 64, 67, 0.3), 0px 1px 3px 1px rgba(60, 64, 67, 0.15);\n",
              "      fill: #174EA6;\n",
              "    }\n",
              "\n",
              "    .colab-df-buttons div {\n",
              "      margin-bottom: 4px;\n",
              "    }\n",
              "\n",
              "    [theme=dark] .colab-df-convert {\n",
              "      background-color: #3B4455;\n",
              "      fill: #D2E3FC;\n",
              "    }\n",
              "\n",
              "    [theme=dark] .colab-df-convert:hover {\n",
              "      background-color: #434B5C;\n",
              "      box-shadow: 0px 1px 3px 1px rgba(0, 0, 0, 0.15);\n",
              "      filter: drop-shadow(0px 1px 2px rgba(0, 0, 0, 0.3));\n",
              "      fill: #FFFFFF;\n",
              "    }\n",
              "  </style>\n",
              "\n",
              "    <script>\n",
              "      const buttonEl =\n",
              "        document.querySelector('#df-1e7eeadd-0a50-4f71-bcd3-6107e0bc2d51 button.colab-df-convert');\n",
              "      buttonEl.style.display =\n",
              "        google.colab.kernel.accessAllowed ? 'block' : 'none';\n",
              "\n",
              "      async function convertToInteractive(key) {\n",
              "        const element = document.querySelector('#df-1e7eeadd-0a50-4f71-bcd3-6107e0bc2d51');\n",
              "        const dataTable =\n",
              "          await google.colab.kernel.invokeFunction('convertToInteractive',\n",
              "                                                    [key], {});\n",
              "        if (!dataTable) return;\n",
              "\n",
              "        const docLinkHtml = 'Like what you see? Visit the ' +\n",
              "          '<a target=\"_blank\" href=https://colab.research.google.com/notebooks/data_table.ipynb>data table notebook</a>'\n",
              "          + ' to learn more about interactive tables.';\n",
              "        element.innerHTML = '';\n",
              "        dataTable['output_type'] = 'display_data';\n",
              "        await google.colab.output.renderOutput(dataTable, element);\n",
              "        const docLink = document.createElement('div');\n",
              "        docLink.innerHTML = docLinkHtml;\n",
              "        element.appendChild(docLink);\n",
              "      }\n",
              "    </script>\n",
              "  </div>\n",
              "\n",
              "\n",
              "<div id=\"df-557d3f4e-a6a0-467a-8279-656840449f9a\">\n",
              "  <button class=\"colab-df-quickchart\" onclick=\"quickchart('df-557d3f4e-a6a0-467a-8279-656840449f9a')\"\n",
              "            title=\"Suggest charts\"\n",
              "            style=\"display:none;\">\n",
              "\n",
              "<svg xmlns=\"http://www.w3.org/2000/svg\" height=\"24px\"viewBox=\"0 0 24 24\"\n",
              "     width=\"24px\">\n",
              "    <g>\n",
              "        <path d=\"M19 3H5c-1.1 0-2 .9-2 2v14c0 1.1.9 2 2 2h14c1.1 0 2-.9 2-2V5c0-1.1-.9-2-2-2zM9 17H7v-7h2v7zm4 0h-2V7h2v10zm4 0h-2v-4h2v4z\"/>\n",
              "    </g>\n",
              "</svg>\n",
              "  </button>\n",
              "\n",
              "<style>\n",
              "  .colab-df-quickchart {\n",
              "      --bg-color: #E8F0FE;\n",
              "      --fill-color: #1967D2;\n",
              "      --hover-bg-color: #E2EBFA;\n",
              "      --hover-fill-color: #174EA6;\n",
              "      --disabled-fill-color: #AAA;\n",
              "      --disabled-bg-color: #DDD;\n",
              "  }\n",
              "\n",
              "  [theme=dark] .colab-df-quickchart {\n",
              "      --bg-color: #3B4455;\n",
              "      --fill-color: #D2E3FC;\n",
              "      --hover-bg-color: #434B5C;\n",
              "      --hover-fill-color: #FFFFFF;\n",
              "      --disabled-bg-color: #3B4455;\n",
              "      --disabled-fill-color: #666;\n",
              "  }\n",
              "\n",
              "  .colab-df-quickchart {\n",
              "    background-color: var(--bg-color);\n",
              "    border: none;\n",
              "    border-radius: 50%;\n",
              "    cursor: pointer;\n",
              "    display: none;\n",
              "    fill: var(--fill-color);\n",
              "    height: 32px;\n",
              "    padding: 0;\n",
              "    width: 32px;\n",
              "  }\n",
              "\n",
              "  .colab-df-quickchart:hover {\n",
              "    background-color: var(--hover-bg-color);\n",
              "    box-shadow: 0 1px 2px rgba(60, 64, 67, 0.3), 0 1px 3px 1px rgba(60, 64, 67, 0.15);\n",
              "    fill: var(--button-hover-fill-color);\n",
              "  }\n",
              "\n",
              "  .colab-df-quickchart-complete:disabled,\n",
              "  .colab-df-quickchart-complete:disabled:hover {\n",
              "    background-color: var(--disabled-bg-color);\n",
              "    fill: var(--disabled-fill-color);\n",
              "    box-shadow: none;\n",
              "  }\n",
              "\n",
              "  .colab-df-spinner {\n",
              "    border: 2px solid var(--fill-color);\n",
              "    border-color: transparent;\n",
              "    border-bottom-color: var(--fill-color);\n",
              "    animation:\n",
              "      spin 1s steps(1) infinite;\n",
              "  }\n",
              "\n",
              "  @keyframes spin {\n",
              "    0% {\n",
              "      border-color: transparent;\n",
              "      border-bottom-color: var(--fill-color);\n",
              "      border-left-color: var(--fill-color);\n",
              "    }\n",
              "    20% {\n",
              "      border-color: transparent;\n",
              "      border-left-color: var(--fill-color);\n",
              "      border-top-color: var(--fill-color);\n",
              "    }\n",
              "    30% {\n",
              "      border-color: transparent;\n",
              "      border-left-color: var(--fill-color);\n",
              "      border-top-color: var(--fill-color);\n",
              "      border-right-color: var(--fill-color);\n",
              "    }\n",
              "    40% {\n",
              "      border-color: transparent;\n",
              "      border-right-color: var(--fill-color);\n",
              "      border-top-color: var(--fill-color);\n",
              "    }\n",
              "    60% {\n",
              "      border-color: transparent;\n",
              "      border-right-color: var(--fill-color);\n",
              "    }\n",
              "    80% {\n",
              "      border-color: transparent;\n",
              "      border-right-color: var(--fill-color);\n",
              "      border-bottom-color: var(--fill-color);\n",
              "    }\n",
              "    90% {\n",
              "      border-color: transparent;\n",
              "      border-bottom-color: var(--fill-color);\n",
              "    }\n",
              "  }\n",
              "</style>\n",
              "\n",
              "  <script>\n",
              "    async function quickchart(key) {\n",
              "      const quickchartButtonEl =\n",
              "        document.querySelector('#' + key + ' button');\n",
              "      quickchartButtonEl.disabled = true;  // To prevent multiple clicks.\n",
              "      quickchartButtonEl.classList.add('colab-df-spinner');\n",
              "      try {\n",
              "        const charts = await google.colab.kernel.invokeFunction(\n",
              "            'suggestCharts', [key], {});\n",
              "      } catch (error) {\n",
              "        console.error('Error during call to suggestCharts:', error);\n",
              "      }\n",
              "      quickchartButtonEl.classList.remove('colab-df-spinner');\n",
              "      quickchartButtonEl.classList.add('colab-df-quickchart-complete');\n",
              "    }\n",
              "    (() => {\n",
              "      let quickchartButtonEl =\n",
              "        document.querySelector('#df-557d3f4e-a6a0-467a-8279-656840449f9a button');\n",
              "      quickchartButtonEl.style.display =\n",
              "        google.colab.kernel.accessAllowed ? 'block' : 'none';\n",
              "    })();\n",
              "  </script>\n",
              "</div>\n",
              "    </div>\n",
              "  </div>\n"
            ]
          },
          "metadata": {},
          "execution_count": 27
        }
      ]
    }
  ]
}