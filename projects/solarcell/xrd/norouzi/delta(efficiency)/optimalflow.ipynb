{
 "cells": [
  {
   "cell_type": "code",
   "execution_count": null,
   "metadata": {},
   "outputs": [],
   "source": [
    "pip install optimalflow"
   ]
  },
  {
   "cell_type": "code",
   "execution_count": 3,
   "metadata": {},
   "outputs": [],
   "source": [
    "import pandas as pd\n",
    "from optimalflow.autoFS import dynaFS_reg"
   ]
  },
  {
   "cell_type": "code",
   "execution_count": null,
   "metadata": {},
   "outputs": [],
   "source": [
    "#paper1, XRD\n",
    "paper1 = pd.read_excel(\"C:/Users/PQ/Desktop/Solar Cell/data.xlsx\",sheet_name='Paper1')\n",
    "Paper1 = paper1.drop(columns=['delta(eff,9.3)','delta(eff,12)'])\n",
    "features_paper1 = Paper1.drop('delta(eff)', axis=1)\n",
    "label_paper1 = Paper1['delta(eff)']\n",
    "#========================================================================================\n",
    "reg_fs_demo = dynaFS_reg(fs_num=5, cv=3, input_from_file = True, random_state=42)\n",
    "reg_fs_demo.fit(features_paper1,label_paper1)"
   ]
  },
  {
   "cell_type": "code",
   "execution_count": 15,
   "metadata": {},
   "outputs": [],
   "source": [
    "#paper2, XRD\n",
    "paper2 = pd.read_excel(\"C:/Users/PQ/Desktop/Solar Cell/data.xlsx\",sheet_name='Paper2')\n",
    "Paper2 = paper2.drop(columns=['delta(eff,9.3)','delta(eff,12)'])\n",
    "features_paper2 = Paper2.drop('delta(eff)', axis=1)\n",
    "label_paper2 = Paper2['delta(eff)']\n",
    "#========================================================================================\n",
    "reg_fs_demo = dynaFS_reg(fs_num=5, cv=3, input_from_file = True, random_state=42)\n",
    "reg_fs_demo.fit(features_paper2,label_paper2)"
   ]
  },
  {
   "cell_type": "code",
   "execution_count": 17,
   "metadata": {},
   "outputs": [],
   "source": [
    "#paper1&2, XRD\n",
    "papar1_2 = pd.read_excel(\"C:/Users/PQ/Desktop/Solar Cell/data.xlsx\",sheet_name='Paper1&2')\n",
    "Paper1_2 = papar1_2.drop(columns=['delta(eff,9.3)','delta(eff,12)'])\n",
    "features_paper1_2 = Paper1_2.drop('delta(eff)', axis=1)\n",
    "label_paper1_2 = Paper1_2['delta(eff)']\n",
    "#========================================================================================\n",
    "reg_fs_demo = dynaFS_reg(fs_num=5, cv=3, input_from_file = True, random_state=42)\n",
    "reg_fs_demo.fit(features_paper1_2,label_paper1_2)"
   ]
  }
 ],
 "metadata": {
  "kernelspec": {
   "display_name": "Python 3",
   "language": "python",
   "name": "python3"
  },
  "language_info": {
   "codemirror_mode": {
    "name": "ipython",
    "version": 3
   },
   "file_extension": ".py",
   "mimetype": "text/x-python",
   "name": "python",
   "nbconvert_exporter": "python",
   "pygments_lexer": "ipython3",
   "version": "3.10.5"
  }
 },
 "nbformat": 4,
 "nbformat_minor": 2
}
