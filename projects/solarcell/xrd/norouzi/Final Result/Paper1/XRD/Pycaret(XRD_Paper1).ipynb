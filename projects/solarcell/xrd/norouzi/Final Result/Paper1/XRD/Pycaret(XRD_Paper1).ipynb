{
  "nbformat": 4,
  "nbformat_minor": 0,
  "metadata": {
    "colab": {
      "provenance": []
    },
    "kernelspec": {
      "name": "python3",
      "display_name": "Python 3"
    },
    "language_info": {
      "name": "python"
    },
    "widgets": {
      "application/vnd.jupyter.widget-state+json": {
        "d6180130848844e1b42db4787e85982f": {
          "model_module": "@jupyter-widgets/controls",
          "model_name": "HBoxModel",
          "model_module_version": "1.5.0",
          "state": {
            "_dom_classes": [],
            "_model_module": "@jupyter-widgets/controls",
            "_model_module_version": "1.5.0",
            "_model_name": "HBoxModel",
            "_view_count": null,
            "_view_module": "@jupyter-widgets/controls",
            "_view_module_version": "1.5.0",
            "_view_name": "HBoxView",
            "box_style": "",
            "children": [
              "IPY_MODEL_b0d906f4d1ee40979d09937883414ea7",
              "IPY_MODEL_3fc7dd3f7b004d1eb52063d568437c51",
              "IPY_MODEL_9add967b29cc4190b70a7fba2b9ff90e"
            ],
            "layout": "IPY_MODEL_4b303c247b0245d391ee2f7865f7f491"
          }
        },
        "b0d906f4d1ee40979d09937883414ea7": {
          "model_module": "@jupyter-widgets/controls",
          "model_name": "HTMLModel",
          "model_module_version": "1.5.0",
          "state": {
            "_dom_classes": [],
            "_model_module": "@jupyter-widgets/controls",
            "_model_module_version": "1.5.0",
            "_model_name": "HTMLModel",
            "_view_count": null,
            "_view_module": "@jupyter-widgets/controls",
            "_view_module_version": "1.5.0",
            "_view_name": "HTMLView",
            "description": "",
            "description_tooltip": null,
            "layout": "IPY_MODEL_ec6f155e4f1446ec865a4e7b49ff4450",
            "placeholder": "​",
            "style": "IPY_MODEL_8b38ccc4e8454592a31794298be670b1",
            "value": "Processing: 100%"
          }
        },
        "3fc7dd3f7b004d1eb52063d568437c51": {
          "model_module": "@jupyter-widgets/controls",
          "model_name": "FloatProgressModel",
          "model_module_version": "1.5.0",
          "state": {
            "_dom_classes": [],
            "_model_module": "@jupyter-widgets/controls",
            "_model_module_version": "1.5.0",
            "_model_name": "FloatProgressModel",
            "_view_count": null,
            "_view_module": "@jupyter-widgets/controls",
            "_view_module_version": "1.5.0",
            "_view_name": "ProgressView",
            "bar_style": "",
            "description": "",
            "description_tooltip": null,
            "layout": "IPY_MODEL_7494a882bc834ae0ae1465b6207f0040",
            "max": 81,
            "min": 0,
            "orientation": "horizontal",
            "style": "IPY_MODEL_554e0931997b45d793cb33fc5a0ed124",
            "value": 81
          }
        },
        "9add967b29cc4190b70a7fba2b9ff90e": {
          "model_module": "@jupyter-widgets/controls",
          "model_name": "HTMLModel",
          "model_module_version": "1.5.0",
          "state": {
            "_dom_classes": [],
            "_model_module": "@jupyter-widgets/controls",
            "_model_module_version": "1.5.0",
            "_model_name": "HTMLModel",
            "_view_count": null,
            "_view_module": "@jupyter-widgets/controls",
            "_view_module_version": "1.5.0",
            "_view_name": "HTMLView",
            "description": "",
            "description_tooltip": null,
            "layout": "IPY_MODEL_26585617929f4ad5be5c52a63c23bcdc",
            "placeholder": "​",
            "style": "IPY_MODEL_c242f964103647d49b98c3ecb85886f8",
            "value": " 81/81 [00:12&lt;00:00,  6.77it/s]"
          }
        },
        "4b303c247b0245d391ee2f7865f7f491": {
          "model_module": "@jupyter-widgets/base",
          "model_name": "LayoutModel",
          "model_module_version": "1.2.0",
          "state": {
            "_model_module": "@jupyter-widgets/base",
            "_model_module_version": "1.2.0",
            "_model_name": "LayoutModel",
            "_view_count": null,
            "_view_module": "@jupyter-widgets/base",
            "_view_module_version": "1.2.0",
            "_view_name": "LayoutView",
            "align_content": null,
            "align_items": null,
            "align_self": null,
            "border": null,
            "bottom": null,
            "display": null,
            "flex": null,
            "flex_flow": null,
            "grid_area": null,
            "grid_auto_columns": null,
            "grid_auto_flow": null,
            "grid_auto_rows": null,
            "grid_column": null,
            "grid_gap": null,
            "grid_row": null,
            "grid_template_areas": null,
            "grid_template_columns": null,
            "grid_template_rows": null,
            "height": null,
            "justify_content": null,
            "justify_items": null,
            "left": null,
            "margin": null,
            "max_height": null,
            "max_width": null,
            "min_height": null,
            "min_width": null,
            "object_fit": null,
            "object_position": null,
            "order": null,
            "overflow": null,
            "overflow_x": null,
            "overflow_y": null,
            "padding": null,
            "right": null,
            "top": null,
            "visibility": "hidden",
            "width": null
          }
        },
        "ec6f155e4f1446ec865a4e7b49ff4450": {
          "model_module": "@jupyter-widgets/base",
          "model_name": "LayoutModel",
          "model_module_version": "1.2.0",
          "state": {
            "_model_module": "@jupyter-widgets/base",
            "_model_module_version": "1.2.0",
            "_model_name": "LayoutModel",
            "_view_count": null,
            "_view_module": "@jupyter-widgets/base",
            "_view_module_version": "1.2.0",
            "_view_name": "LayoutView",
            "align_content": null,
            "align_items": null,
            "align_self": null,
            "border": null,
            "bottom": null,
            "display": null,
            "flex": null,
            "flex_flow": null,
            "grid_area": null,
            "grid_auto_columns": null,
            "grid_auto_flow": null,
            "grid_auto_rows": null,
            "grid_column": null,
            "grid_gap": null,
            "grid_row": null,
            "grid_template_areas": null,
            "grid_template_columns": null,
            "grid_template_rows": null,
            "height": null,
            "justify_content": null,
            "justify_items": null,
            "left": null,
            "margin": null,
            "max_height": null,
            "max_width": null,
            "min_height": null,
            "min_width": null,
            "object_fit": null,
            "object_position": null,
            "order": null,
            "overflow": null,
            "overflow_x": null,
            "overflow_y": null,
            "padding": null,
            "right": null,
            "top": null,
            "visibility": null,
            "width": null
          }
        },
        "8b38ccc4e8454592a31794298be670b1": {
          "model_module": "@jupyter-widgets/controls",
          "model_name": "DescriptionStyleModel",
          "model_module_version": "1.5.0",
          "state": {
            "_model_module": "@jupyter-widgets/controls",
            "_model_module_version": "1.5.0",
            "_model_name": "DescriptionStyleModel",
            "_view_count": null,
            "_view_module": "@jupyter-widgets/base",
            "_view_module_version": "1.2.0",
            "_view_name": "StyleView",
            "description_width": ""
          }
        },
        "7494a882bc834ae0ae1465b6207f0040": {
          "model_module": "@jupyter-widgets/base",
          "model_name": "LayoutModel",
          "model_module_version": "1.2.0",
          "state": {
            "_model_module": "@jupyter-widgets/base",
            "_model_module_version": "1.2.0",
            "_model_name": "LayoutModel",
            "_view_count": null,
            "_view_module": "@jupyter-widgets/base",
            "_view_module_version": "1.2.0",
            "_view_name": "LayoutView",
            "align_content": null,
            "align_items": null,
            "align_self": null,
            "border": null,
            "bottom": null,
            "display": null,
            "flex": null,
            "flex_flow": null,
            "grid_area": null,
            "grid_auto_columns": null,
            "grid_auto_flow": null,
            "grid_auto_rows": null,
            "grid_column": null,
            "grid_gap": null,
            "grid_row": null,
            "grid_template_areas": null,
            "grid_template_columns": null,
            "grid_template_rows": null,
            "height": null,
            "justify_content": null,
            "justify_items": null,
            "left": null,
            "margin": null,
            "max_height": null,
            "max_width": null,
            "min_height": null,
            "min_width": null,
            "object_fit": null,
            "object_position": null,
            "order": null,
            "overflow": null,
            "overflow_x": null,
            "overflow_y": null,
            "padding": null,
            "right": null,
            "top": null,
            "visibility": null,
            "width": null
          }
        },
        "554e0931997b45d793cb33fc5a0ed124": {
          "model_module": "@jupyter-widgets/controls",
          "model_name": "ProgressStyleModel",
          "model_module_version": "1.5.0",
          "state": {
            "_model_module": "@jupyter-widgets/controls",
            "_model_module_version": "1.5.0",
            "_model_name": "ProgressStyleModel",
            "_view_count": null,
            "_view_module": "@jupyter-widgets/base",
            "_view_module_version": "1.2.0",
            "_view_name": "StyleView",
            "bar_color": null,
            "description_width": ""
          }
        },
        "26585617929f4ad5be5c52a63c23bcdc": {
          "model_module": "@jupyter-widgets/base",
          "model_name": "LayoutModel",
          "model_module_version": "1.2.0",
          "state": {
            "_model_module": "@jupyter-widgets/base",
            "_model_module_version": "1.2.0",
            "_model_name": "LayoutModel",
            "_view_count": null,
            "_view_module": "@jupyter-widgets/base",
            "_view_module_version": "1.2.0",
            "_view_name": "LayoutView",
            "align_content": null,
            "align_items": null,
            "align_self": null,
            "border": null,
            "bottom": null,
            "display": null,
            "flex": null,
            "flex_flow": null,
            "grid_area": null,
            "grid_auto_columns": null,
            "grid_auto_flow": null,
            "grid_auto_rows": null,
            "grid_column": null,
            "grid_gap": null,
            "grid_row": null,
            "grid_template_areas": null,
            "grid_template_columns": null,
            "grid_template_rows": null,
            "height": null,
            "justify_content": null,
            "justify_items": null,
            "left": null,
            "margin": null,
            "max_height": null,
            "max_width": null,
            "min_height": null,
            "min_width": null,
            "object_fit": null,
            "object_position": null,
            "order": null,
            "overflow": null,
            "overflow_x": null,
            "overflow_y": null,
            "padding": null,
            "right": null,
            "top": null,
            "visibility": null,
            "width": null
          }
        },
        "c242f964103647d49b98c3ecb85886f8": {
          "model_module": "@jupyter-widgets/controls",
          "model_name": "DescriptionStyleModel",
          "model_module_version": "1.5.0",
          "state": {
            "_model_module": "@jupyter-widgets/controls",
            "_model_module_version": "1.5.0",
            "_model_name": "DescriptionStyleModel",
            "_view_count": null,
            "_view_module": "@jupyter-widgets/base",
            "_view_module_version": "1.2.0",
            "_view_name": "StyleView",
            "description_width": ""
          }
        },
        "02a475fec83e4a648ef55a44521af2ab": {
          "model_module": "@jupyter-widgets/controls",
          "model_name": "HBoxModel",
          "model_module_version": "1.5.0",
          "state": {
            "_dom_classes": [],
            "_model_module": "@jupyter-widgets/controls",
            "_model_module_version": "1.5.0",
            "_model_name": "HBoxModel",
            "_view_count": null,
            "_view_module": "@jupyter-widgets/controls",
            "_view_module_version": "1.5.0",
            "_view_name": "HBoxView",
            "box_style": "",
            "children": [
              "IPY_MODEL_ab75ea2038464d7e8503c160a6b9624d",
              "IPY_MODEL_52aec74c1e17407e9fd03aabb68cbac2",
              "IPY_MODEL_4d2b092d2aca43adbbb90e3a1f22a67e"
            ],
            "layout": "IPY_MODEL_cd80d76a79dd48458ed94c9979686bb2"
          }
        },
        "ab75ea2038464d7e8503c160a6b9624d": {
          "model_module": "@jupyter-widgets/controls",
          "model_name": "HTMLModel",
          "model_module_version": "1.5.0",
          "state": {
            "_dom_classes": [],
            "_model_module": "@jupyter-widgets/controls",
            "_model_module_version": "1.5.0",
            "_model_name": "HTMLModel",
            "_view_count": null,
            "_view_module": "@jupyter-widgets/controls",
            "_view_module_version": "1.5.0",
            "_view_name": "HTMLView",
            "description": "",
            "description_tooltip": null,
            "layout": "IPY_MODEL_60a1ae56078746348f959bf2d27d37f1",
            "placeholder": "​",
            "style": "IPY_MODEL_0e60626b006c41b39db6c6bd263a4c92",
            "value": "Processing:  75%"
          }
        },
        "52aec74c1e17407e9fd03aabb68cbac2": {
          "model_module": "@jupyter-widgets/controls",
          "model_name": "FloatProgressModel",
          "model_module_version": "1.5.0",
          "state": {
            "_dom_classes": [],
            "_model_module": "@jupyter-widgets/controls",
            "_model_module_version": "1.5.0",
            "_model_name": "FloatProgressModel",
            "_view_count": null,
            "_view_module": "@jupyter-widgets/controls",
            "_view_module_version": "1.5.0",
            "_view_name": "ProgressView",
            "bar_style": "danger",
            "description": "",
            "description_tooltip": null,
            "layout": "IPY_MODEL_944ce1fc04f1449abdc1af9ffcb40794",
            "max": 4,
            "min": 0,
            "orientation": "horizontal",
            "style": "IPY_MODEL_5da72cc3701b4b248f34111e179cd50a",
            "value": 3
          }
        },
        "4d2b092d2aca43adbbb90e3a1f22a67e": {
          "model_module": "@jupyter-widgets/controls",
          "model_name": "HTMLModel",
          "model_module_version": "1.5.0",
          "state": {
            "_dom_classes": [],
            "_model_module": "@jupyter-widgets/controls",
            "_model_module_version": "1.5.0",
            "_model_name": "HTMLModel",
            "_view_count": null,
            "_view_module": "@jupyter-widgets/controls",
            "_view_module_version": "1.5.0",
            "_view_name": "HTMLView",
            "description": "",
            "description_tooltip": null,
            "layout": "IPY_MODEL_b986025a06bb48cbb4100a468f0c7063",
            "placeholder": "​",
            "style": "IPY_MODEL_960fd3e181414ee094f0938d443fd488",
            "value": " 3/4 [00:00&lt;00:00,  3.41it/s]"
          }
        },
        "cd80d76a79dd48458ed94c9979686bb2": {
          "model_module": "@jupyter-widgets/base",
          "model_name": "LayoutModel",
          "model_module_version": "1.2.0",
          "state": {
            "_model_module": "@jupyter-widgets/base",
            "_model_module_version": "1.2.0",
            "_model_name": "LayoutModel",
            "_view_count": null,
            "_view_module": "@jupyter-widgets/base",
            "_view_module_version": "1.2.0",
            "_view_name": "LayoutView",
            "align_content": null,
            "align_items": null,
            "align_self": null,
            "border": null,
            "bottom": null,
            "display": null,
            "flex": null,
            "flex_flow": null,
            "grid_area": null,
            "grid_auto_columns": null,
            "grid_auto_flow": null,
            "grid_auto_rows": null,
            "grid_column": null,
            "grid_gap": null,
            "grid_row": null,
            "grid_template_areas": null,
            "grid_template_columns": null,
            "grid_template_rows": null,
            "height": null,
            "justify_content": null,
            "justify_items": null,
            "left": null,
            "margin": null,
            "max_height": null,
            "max_width": null,
            "min_height": null,
            "min_width": null,
            "object_fit": null,
            "object_position": null,
            "order": null,
            "overflow": null,
            "overflow_x": null,
            "overflow_y": null,
            "padding": null,
            "right": null,
            "top": null,
            "visibility": null,
            "width": null
          }
        },
        "60a1ae56078746348f959bf2d27d37f1": {
          "model_module": "@jupyter-widgets/base",
          "model_name": "LayoutModel",
          "model_module_version": "1.2.0",
          "state": {
            "_model_module": "@jupyter-widgets/base",
            "_model_module_version": "1.2.0",
            "_model_name": "LayoutModel",
            "_view_count": null,
            "_view_module": "@jupyter-widgets/base",
            "_view_module_version": "1.2.0",
            "_view_name": "LayoutView",
            "align_content": null,
            "align_items": null,
            "align_self": null,
            "border": null,
            "bottom": null,
            "display": null,
            "flex": null,
            "flex_flow": null,
            "grid_area": null,
            "grid_auto_columns": null,
            "grid_auto_flow": null,
            "grid_auto_rows": null,
            "grid_column": null,
            "grid_gap": null,
            "grid_row": null,
            "grid_template_areas": null,
            "grid_template_columns": null,
            "grid_template_rows": null,
            "height": null,
            "justify_content": null,
            "justify_items": null,
            "left": null,
            "margin": null,
            "max_height": null,
            "max_width": null,
            "min_height": null,
            "min_width": null,
            "object_fit": null,
            "object_position": null,
            "order": null,
            "overflow": null,
            "overflow_x": null,
            "overflow_y": null,
            "padding": null,
            "right": null,
            "top": null,
            "visibility": null,
            "width": null
          }
        },
        "0e60626b006c41b39db6c6bd263a4c92": {
          "model_module": "@jupyter-widgets/controls",
          "model_name": "DescriptionStyleModel",
          "model_module_version": "1.5.0",
          "state": {
            "_model_module": "@jupyter-widgets/controls",
            "_model_module_version": "1.5.0",
            "_model_name": "DescriptionStyleModel",
            "_view_count": null,
            "_view_module": "@jupyter-widgets/base",
            "_view_module_version": "1.2.0",
            "_view_name": "StyleView",
            "description_width": ""
          }
        },
        "944ce1fc04f1449abdc1af9ffcb40794": {
          "model_module": "@jupyter-widgets/base",
          "model_name": "LayoutModel",
          "model_module_version": "1.2.0",
          "state": {
            "_model_module": "@jupyter-widgets/base",
            "_model_module_version": "1.2.0",
            "_model_name": "LayoutModel",
            "_view_count": null,
            "_view_module": "@jupyter-widgets/base",
            "_view_module_version": "1.2.0",
            "_view_name": "LayoutView",
            "align_content": null,
            "align_items": null,
            "align_self": null,
            "border": null,
            "bottom": null,
            "display": null,
            "flex": null,
            "flex_flow": null,
            "grid_area": null,
            "grid_auto_columns": null,
            "grid_auto_flow": null,
            "grid_auto_rows": null,
            "grid_column": null,
            "grid_gap": null,
            "grid_row": null,
            "grid_template_areas": null,
            "grid_template_columns": null,
            "grid_template_rows": null,
            "height": null,
            "justify_content": null,
            "justify_items": null,
            "left": null,
            "margin": null,
            "max_height": null,
            "max_width": null,
            "min_height": null,
            "min_width": null,
            "object_fit": null,
            "object_position": null,
            "order": null,
            "overflow": null,
            "overflow_x": null,
            "overflow_y": null,
            "padding": null,
            "right": null,
            "top": null,
            "visibility": null,
            "width": null
          }
        },
        "5da72cc3701b4b248f34111e179cd50a": {
          "model_module": "@jupyter-widgets/controls",
          "model_name": "ProgressStyleModel",
          "model_module_version": "1.5.0",
          "state": {
            "_model_module": "@jupyter-widgets/controls",
            "_model_module_version": "1.5.0",
            "_model_name": "ProgressStyleModel",
            "_view_count": null,
            "_view_module": "@jupyter-widgets/base",
            "_view_module_version": "1.2.0",
            "_view_name": "StyleView",
            "bar_color": null,
            "description_width": ""
          }
        },
        "b986025a06bb48cbb4100a468f0c7063": {
          "model_module": "@jupyter-widgets/base",
          "model_name": "LayoutModel",
          "model_module_version": "1.2.0",
          "state": {
            "_model_module": "@jupyter-widgets/base",
            "_model_module_version": "1.2.0",
            "_model_name": "LayoutModel",
            "_view_count": null,
            "_view_module": "@jupyter-widgets/base",
            "_view_module_version": "1.2.0",
            "_view_name": "LayoutView",
            "align_content": null,
            "align_items": null,
            "align_self": null,
            "border": null,
            "bottom": null,
            "display": null,
            "flex": null,
            "flex_flow": null,
            "grid_area": null,
            "grid_auto_columns": null,
            "grid_auto_flow": null,
            "grid_auto_rows": null,
            "grid_column": null,
            "grid_gap": null,
            "grid_row": null,
            "grid_template_areas": null,
            "grid_template_columns": null,
            "grid_template_rows": null,
            "height": null,
            "justify_content": null,
            "justify_items": null,
            "left": null,
            "margin": null,
            "max_height": null,
            "max_width": null,
            "min_height": null,
            "min_width": null,
            "object_fit": null,
            "object_position": null,
            "order": null,
            "overflow": null,
            "overflow_x": null,
            "overflow_y": null,
            "padding": null,
            "right": null,
            "top": null,
            "visibility": null,
            "width": null
          }
        },
        "960fd3e181414ee094f0938d443fd488": {
          "model_module": "@jupyter-widgets/controls",
          "model_name": "DescriptionStyleModel",
          "model_module_version": "1.5.0",
          "state": {
            "_model_module": "@jupyter-widgets/controls",
            "_model_module_version": "1.5.0",
            "_model_name": "DescriptionStyleModel",
            "_view_count": null,
            "_view_module": "@jupyter-widgets/base",
            "_view_module_version": "1.2.0",
            "_view_name": "StyleView",
            "description_width": ""
          }
        },
        "e276a0df047e4e41a83c21bbec53a122": {
          "model_module": "@jupyter-widgets/controls",
          "model_name": "VBoxModel",
          "model_module_version": "1.5.0",
          "state": {
            "_dom_classes": [
              "widget-interact"
            ],
            "_model_module": "@jupyter-widgets/controls",
            "_model_module_version": "1.5.0",
            "_model_name": "VBoxModel",
            "_view_count": null,
            "_view_module": "@jupyter-widgets/controls",
            "_view_module_version": "1.5.0",
            "_view_name": "VBoxView",
            "box_style": "",
            "children": [
              "IPY_MODEL_2e98f14939de4900908474da98e1a469",
              "IPY_MODEL_ea654ef121544c698cb3e761ec10d906"
            ],
            "layout": "IPY_MODEL_15ef2feb369e4fec84744acd55b1e760"
          }
        },
        "2e98f14939de4900908474da98e1a469": {
          "model_module": "@jupyter-widgets/controls",
          "model_name": "ToggleButtonsModel",
          "model_module_version": "1.5.0",
          "state": {
            "_dom_classes": [],
            "_model_module": "@jupyter-widgets/controls",
            "_model_module_version": "1.5.0",
            "_model_name": "ToggleButtonsModel",
            "_options_labels": [
              "Pipeline Plot",
              "Hyperparameters",
              "Residuals",
              "Prediction Error",
              "Cooks Distance",
              "Feature Selection",
              "Learning Curve",
              "Manifold Learning",
              "Validation Curve",
              "Feature Importance",
              "Feature Importance (All)",
              "Decision Tree",
              "Interactive Residuals"
            ],
            "_view_count": null,
            "_view_module": "@jupyter-widgets/controls",
            "_view_module_version": "1.5.0",
            "_view_name": "ToggleButtonsView",
            "button_style": "",
            "description": "Plot Type:",
            "description_tooltip": null,
            "disabled": false,
            "icons": [
              ""
            ],
            "index": 2,
            "layout": "IPY_MODEL_ea9869d84ce542c58ad7dc19c3c1d077",
            "style": "IPY_MODEL_41fb9601985d4c269ff71d0cc3e56805",
            "tooltips": []
          }
        },
        "ea654ef121544c698cb3e761ec10d906": {
          "model_module": "@jupyter-widgets/output",
          "model_name": "OutputModel",
          "model_module_version": "1.0.0",
          "state": {
            "_dom_classes": [],
            "_model_module": "@jupyter-widgets/output",
            "_model_module_version": "1.0.0",
            "_model_name": "OutputModel",
            "_view_count": null,
            "_view_module": "@jupyter-widgets/output",
            "_view_module_version": "1.0.0",
            "_view_name": "OutputView",
            "layout": "IPY_MODEL_8ac10e673535427db716011ed79b2771",
            "msg_id": "",
            "outputs": [
              {
                "output_type": "display_data",
                "data": {
                  "text/plain": "<Figure size 800x550 with 2 Axes>",
                  "image/png": "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\n"
                },
                "metadata": {}
              }
            ]
          }
        },
        "15ef2feb369e4fec84744acd55b1e760": {
          "model_module": "@jupyter-widgets/base",
          "model_name": "LayoutModel",
          "model_module_version": "1.2.0",
          "state": {
            "_model_module": "@jupyter-widgets/base",
            "_model_module_version": "1.2.0",
            "_model_name": "LayoutModel",
            "_view_count": null,
            "_view_module": "@jupyter-widgets/base",
            "_view_module_version": "1.2.0",
            "_view_name": "LayoutView",
            "align_content": null,
            "align_items": null,
            "align_self": null,
            "border": null,
            "bottom": null,
            "display": null,
            "flex": null,
            "flex_flow": null,
            "grid_area": null,
            "grid_auto_columns": null,
            "grid_auto_flow": null,
            "grid_auto_rows": null,
            "grid_column": null,
            "grid_gap": null,
            "grid_row": null,
            "grid_template_areas": null,
            "grid_template_columns": null,
            "grid_template_rows": null,
            "height": null,
            "justify_content": null,
            "justify_items": null,
            "left": null,
            "margin": null,
            "max_height": null,
            "max_width": null,
            "min_height": null,
            "min_width": null,
            "object_fit": null,
            "object_position": null,
            "order": null,
            "overflow": null,
            "overflow_x": null,
            "overflow_y": null,
            "padding": null,
            "right": null,
            "top": null,
            "visibility": null,
            "width": null
          }
        },
        "ea9869d84ce542c58ad7dc19c3c1d077": {
          "model_module": "@jupyter-widgets/base",
          "model_name": "LayoutModel",
          "model_module_version": "1.2.0",
          "state": {
            "_model_module": "@jupyter-widgets/base",
            "_model_module_version": "1.2.0",
            "_model_name": "LayoutModel",
            "_view_count": null,
            "_view_module": "@jupyter-widgets/base",
            "_view_module_version": "1.2.0",
            "_view_name": "LayoutView",
            "align_content": null,
            "align_items": null,
            "align_self": null,
            "border": null,
            "bottom": null,
            "display": null,
            "flex": null,
            "flex_flow": null,
            "grid_area": null,
            "grid_auto_columns": null,
            "grid_auto_flow": null,
            "grid_auto_rows": null,
            "grid_column": null,
            "grid_gap": null,
            "grid_row": null,
            "grid_template_areas": null,
            "grid_template_columns": null,
            "grid_template_rows": null,
            "height": null,
            "justify_content": null,
            "justify_items": null,
            "left": null,
            "margin": null,
            "max_height": null,
            "max_width": null,
            "min_height": null,
            "min_width": null,
            "object_fit": null,
            "object_position": null,
            "order": null,
            "overflow": null,
            "overflow_x": null,
            "overflow_y": null,
            "padding": null,
            "right": null,
            "top": null,
            "visibility": null,
            "width": null
          }
        },
        "41fb9601985d4c269ff71d0cc3e56805": {
          "model_module": "@jupyter-widgets/controls",
          "model_name": "ToggleButtonsStyleModel",
          "model_module_version": "1.5.0",
          "state": {
            "_model_module": "@jupyter-widgets/controls",
            "_model_module_version": "1.5.0",
            "_model_name": "ToggleButtonsStyleModel",
            "_view_count": null,
            "_view_module": "@jupyter-widgets/base",
            "_view_module_version": "1.2.0",
            "_view_name": "StyleView",
            "button_width": "",
            "description_width": "",
            "font_weight": ""
          }
        },
        "8ac10e673535427db716011ed79b2771": {
          "model_module": "@jupyter-widgets/base",
          "model_name": "LayoutModel",
          "model_module_version": "1.2.0",
          "state": {
            "_model_module": "@jupyter-widgets/base",
            "_model_module_version": "1.2.0",
            "_model_name": "LayoutModel",
            "_view_count": null,
            "_view_module": "@jupyter-widgets/base",
            "_view_module_version": "1.2.0",
            "_view_name": "LayoutView",
            "align_content": null,
            "align_items": null,
            "align_self": null,
            "border": null,
            "bottom": null,
            "display": null,
            "flex": null,
            "flex_flow": null,
            "grid_area": null,
            "grid_auto_columns": null,
            "grid_auto_flow": null,
            "grid_auto_rows": null,
            "grid_column": null,
            "grid_gap": null,
            "grid_row": null,
            "grid_template_areas": null,
            "grid_template_columns": null,
            "grid_template_rows": null,
            "height": null,
            "justify_content": null,
            "justify_items": null,
            "left": null,
            "margin": null,
            "max_height": null,
            "max_width": null,
            "min_height": null,
            "min_width": null,
            "object_fit": null,
            "object_position": null,
            "order": null,
            "overflow": null,
            "overflow_x": null,
            "overflow_y": null,
            "padding": null,
            "right": null,
            "top": null,
            "visibility": null,
            "width": null
          }
        },
        "6e88742fc8fb4dc4b5048be86ba8d3fe": {
          "model_module": "@jupyter-widgets/controls",
          "model_name": "HBoxModel",
          "model_module_version": "1.5.0",
          "state": {
            "_dom_classes": [],
            "_model_module": "@jupyter-widgets/controls",
            "_model_module_version": "1.5.0",
            "_model_name": "HBoxModel",
            "_view_count": null,
            "_view_module": "@jupyter-widgets/controls",
            "_view_module_version": "1.5.0",
            "_view_name": "HBoxView",
            "box_style": "",
            "children": [
              "IPY_MODEL_fbcbd02814f24bfc885aa8c8373b0a0b",
              "IPY_MODEL_edf96fbc398643ecabe1bd4d2ac96ae8",
              "IPY_MODEL_90ac56be76e74f45993da7e3e8a2481c"
            ],
            "layout": "IPY_MODEL_e5925d7b96204ce981b963df82d3e7bf"
          }
        },
        "fbcbd02814f24bfc885aa8c8373b0a0b": {
          "model_module": "@jupyter-widgets/controls",
          "model_name": "HTMLModel",
          "model_module_version": "1.5.0",
          "state": {
            "_dom_classes": [],
            "_model_module": "@jupyter-widgets/controls",
            "_model_module_version": "1.5.0",
            "_model_name": "HTMLModel",
            "_view_count": null,
            "_view_module": "@jupyter-widgets/controls",
            "_view_module_version": "1.5.0",
            "_view_name": "HTMLView",
            "description": "",
            "description_tooltip": null,
            "layout": "IPY_MODEL_a4ae7af3655642d0a155637ba7eb1d47",
            "placeholder": "​",
            "style": "IPY_MODEL_eb3eb3d78752462f8f7c3cd8e9f3acc2",
            "value": "Processing:  75%"
          }
        },
        "edf96fbc398643ecabe1bd4d2ac96ae8": {
          "model_module": "@jupyter-widgets/controls",
          "model_name": "FloatProgressModel",
          "model_module_version": "1.5.0",
          "state": {
            "_dom_classes": [],
            "_model_module": "@jupyter-widgets/controls",
            "_model_module_version": "1.5.0",
            "_model_name": "FloatProgressModel",
            "_view_count": null,
            "_view_module": "@jupyter-widgets/controls",
            "_view_module_version": "1.5.0",
            "_view_name": "ProgressView",
            "bar_style": "danger",
            "description": "",
            "description_tooltip": null,
            "layout": "IPY_MODEL_ce3b922c626e4af3b317eac6e96ba622",
            "max": 4,
            "min": 0,
            "orientation": "horizontal",
            "style": "IPY_MODEL_62f3d3c7832f44cb907cfa24b9f0d182",
            "value": 3
          }
        },
        "90ac56be76e74f45993da7e3e8a2481c": {
          "model_module": "@jupyter-widgets/controls",
          "model_name": "HTMLModel",
          "model_module_version": "1.5.0",
          "state": {
            "_dom_classes": [],
            "_model_module": "@jupyter-widgets/controls",
            "_model_module_version": "1.5.0",
            "_model_name": "HTMLModel",
            "_view_count": null,
            "_view_module": "@jupyter-widgets/controls",
            "_view_module_version": "1.5.0",
            "_view_name": "HTMLView",
            "description": "",
            "description_tooltip": null,
            "layout": "IPY_MODEL_0401d48d19214e4193d18be32ad1f46d",
            "placeholder": "​",
            "style": "IPY_MODEL_acaa453cf8cc4d32a66e83a6d6bcc3a6",
            "value": " 3/4 [00:00&lt;00:00,  4.55it/s]"
          }
        },
        "e5925d7b96204ce981b963df82d3e7bf": {
          "model_module": "@jupyter-widgets/base",
          "model_name": "LayoutModel",
          "model_module_version": "1.2.0",
          "state": {
            "_model_module": "@jupyter-widgets/base",
            "_model_module_version": "1.2.0",
            "_model_name": "LayoutModel",
            "_view_count": null,
            "_view_module": "@jupyter-widgets/base",
            "_view_module_version": "1.2.0",
            "_view_name": "LayoutView",
            "align_content": null,
            "align_items": null,
            "align_self": null,
            "border": null,
            "bottom": null,
            "display": null,
            "flex": null,
            "flex_flow": null,
            "grid_area": null,
            "grid_auto_columns": null,
            "grid_auto_flow": null,
            "grid_auto_rows": null,
            "grid_column": null,
            "grid_gap": null,
            "grid_row": null,
            "grid_template_areas": null,
            "grid_template_columns": null,
            "grid_template_rows": null,
            "height": null,
            "justify_content": null,
            "justify_items": null,
            "left": null,
            "margin": null,
            "max_height": null,
            "max_width": null,
            "min_height": null,
            "min_width": null,
            "object_fit": null,
            "object_position": null,
            "order": null,
            "overflow": null,
            "overflow_x": null,
            "overflow_y": null,
            "padding": null,
            "right": null,
            "top": null,
            "visibility": null,
            "width": null
          }
        },
        "a4ae7af3655642d0a155637ba7eb1d47": {
          "model_module": "@jupyter-widgets/base",
          "model_name": "LayoutModel",
          "model_module_version": "1.2.0",
          "state": {
            "_model_module": "@jupyter-widgets/base",
            "_model_module_version": "1.2.0",
            "_model_name": "LayoutModel",
            "_view_count": null,
            "_view_module": "@jupyter-widgets/base",
            "_view_module_version": "1.2.0",
            "_view_name": "LayoutView",
            "align_content": null,
            "align_items": null,
            "align_self": null,
            "border": null,
            "bottom": null,
            "display": null,
            "flex": null,
            "flex_flow": null,
            "grid_area": null,
            "grid_auto_columns": null,
            "grid_auto_flow": null,
            "grid_auto_rows": null,
            "grid_column": null,
            "grid_gap": null,
            "grid_row": null,
            "grid_template_areas": null,
            "grid_template_columns": null,
            "grid_template_rows": null,
            "height": null,
            "justify_content": null,
            "justify_items": null,
            "left": null,
            "margin": null,
            "max_height": null,
            "max_width": null,
            "min_height": null,
            "min_width": null,
            "object_fit": null,
            "object_position": null,
            "order": null,
            "overflow": null,
            "overflow_x": null,
            "overflow_y": null,
            "padding": null,
            "right": null,
            "top": null,
            "visibility": null,
            "width": null
          }
        },
        "eb3eb3d78752462f8f7c3cd8e9f3acc2": {
          "model_module": "@jupyter-widgets/controls",
          "model_name": "DescriptionStyleModel",
          "model_module_version": "1.5.0",
          "state": {
            "_model_module": "@jupyter-widgets/controls",
            "_model_module_version": "1.5.0",
            "_model_name": "DescriptionStyleModel",
            "_view_count": null,
            "_view_module": "@jupyter-widgets/base",
            "_view_module_version": "1.2.0",
            "_view_name": "StyleView",
            "description_width": ""
          }
        },
        "ce3b922c626e4af3b317eac6e96ba622": {
          "model_module": "@jupyter-widgets/base",
          "model_name": "LayoutModel",
          "model_module_version": "1.2.0",
          "state": {
            "_model_module": "@jupyter-widgets/base",
            "_model_module_version": "1.2.0",
            "_model_name": "LayoutModel",
            "_view_count": null,
            "_view_module": "@jupyter-widgets/base",
            "_view_module_version": "1.2.0",
            "_view_name": "LayoutView",
            "align_content": null,
            "align_items": null,
            "align_self": null,
            "border": null,
            "bottom": null,
            "display": null,
            "flex": null,
            "flex_flow": null,
            "grid_area": null,
            "grid_auto_columns": null,
            "grid_auto_flow": null,
            "grid_auto_rows": null,
            "grid_column": null,
            "grid_gap": null,
            "grid_row": null,
            "grid_template_areas": null,
            "grid_template_columns": null,
            "grid_template_rows": null,
            "height": null,
            "justify_content": null,
            "justify_items": null,
            "left": null,
            "margin": null,
            "max_height": null,
            "max_width": null,
            "min_height": null,
            "min_width": null,
            "object_fit": null,
            "object_position": null,
            "order": null,
            "overflow": null,
            "overflow_x": null,
            "overflow_y": null,
            "padding": null,
            "right": null,
            "top": null,
            "visibility": null,
            "width": null
          }
        },
        "62f3d3c7832f44cb907cfa24b9f0d182": {
          "model_module": "@jupyter-widgets/controls",
          "model_name": "ProgressStyleModel",
          "model_module_version": "1.5.0",
          "state": {
            "_model_module": "@jupyter-widgets/controls",
            "_model_module_version": "1.5.0",
            "_model_name": "ProgressStyleModel",
            "_view_count": null,
            "_view_module": "@jupyter-widgets/base",
            "_view_module_version": "1.2.0",
            "_view_name": "StyleView",
            "bar_color": null,
            "description_width": ""
          }
        },
        "0401d48d19214e4193d18be32ad1f46d": {
          "model_module": "@jupyter-widgets/base",
          "model_name": "LayoutModel",
          "model_module_version": "1.2.0",
          "state": {
            "_model_module": "@jupyter-widgets/base",
            "_model_module_version": "1.2.0",
            "_model_name": "LayoutModel",
            "_view_count": null,
            "_view_module": "@jupyter-widgets/base",
            "_view_module_version": "1.2.0",
            "_view_name": "LayoutView",
            "align_content": null,
            "align_items": null,
            "align_self": null,
            "border": null,
            "bottom": null,
            "display": null,
            "flex": null,
            "flex_flow": null,
            "grid_area": null,
            "grid_auto_columns": null,
            "grid_auto_flow": null,
            "grid_auto_rows": null,
            "grid_column": null,
            "grid_gap": null,
            "grid_row": null,
            "grid_template_areas": null,
            "grid_template_columns": null,
            "grid_template_rows": null,
            "height": null,
            "justify_content": null,
            "justify_items": null,
            "left": null,
            "margin": null,
            "max_height": null,
            "max_width": null,
            "min_height": null,
            "min_width": null,
            "object_fit": null,
            "object_position": null,
            "order": null,
            "overflow": null,
            "overflow_x": null,
            "overflow_y": null,
            "padding": null,
            "right": null,
            "top": null,
            "visibility": null,
            "width": null
          }
        },
        "acaa453cf8cc4d32a66e83a6d6bcc3a6": {
          "model_module": "@jupyter-widgets/controls",
          "model_name": "DescriptionStyleModel",
          "model_module_version": "1.5.0",
          "state": {
            "_model_module": "@jupyter-widgets/controls",
            "_model_module_version": "1.5.0",
            "_model_name": "DescriptionStyleModel",
            "_view_count": null,
            "_view_module": "@jupyter-widgets/base",
            "_view_module_version": "1.2.0",
            "_view_name": "StyleView",
            "description_width": ""
          }
        },
        "bab9704553514a4290b68914e9fe0e85": {
          "model_module": "@jupyter-widgets/controls",
          "model_name": "VBoxModel",
          "model_module_version": "1.5.0",
          "state": {
            "_dom_classes": [
              "widget-interact"
            ],
            "_model_module": "@jupyter-widgets/controls",
            "_model_module_version": "1.5.0",
            "_model_name": "VBoxModel",
            "_view_count": null,
            "_view_module": "@jupyter-widgets/controls",
            "_view_module_version": "1.5.0",
            "_view_name": "VBoxView",
            "box_style": "",
            "children": [
              "IPY_MODEL_c0c474e01cce470b826b50d144bc8122",
              "IPY_MODEL_7d5216948bde439ea9b9e51f60e5bc1f"
            ],
            "layout": "IPY_MODEL_ccc0a1e12a844dcdb1e61233864b61ca"
          }
        },
        "c0c474e01cce470b826b50d144bc8122": {
          "model_module": "@jupyter-widgets/controls",
          "model_name": "ToggleButtonsModel",
          "model_module_version": "1.5.0",
          "state": {
            "_dom_classes": [],
            "_model_module": "@jupyter-widgets/controls",
            "_model_module_version": "1.5.0",
            "_model_name": "ToggleButtonsModel",
            "_options_labels": [
              "Pipeline Plot",
              "Hyperparameters",
              "Residuals",
              "Prediction Error",
              "Cooks Distance",
              "Feature Selection",
              "Learning Curve",
              "Manifold Learning",
              "Validation Curve",
              "Feature Importance",
              "Feature Importance (All)",
              "Decision Tree",
              "Interactive Residuals"
            ],
            "_view_count": null,
            "_view_module": "@jupyter-widgets/controls",
            "_view_module_version": "1.5.0",
            "_view_name": "ToggleButtonsView",
            "button_style": "",
            "description": "Plot Type:",
            "description_tooltip": null,
            "disabled": false,
            "icons": [
              ""
            ],
            "index": 2,
            "layout": "IPY_MODEL_a0b4f16e28394d6abbaba0279ebc7329",
            "style": "IPY_MODEL_9fb7a98484c241b39e4ef80b45a17d7f",
            "tooltips": []
          }
        },
        "7d5216948bde439ea9b9e51f60e5bc1f": {
          "model_module": "@jupyter-widgets/output",
          "model_name": "OutputModel",
          "model_module_version": "1.0.0",
          "state": {
            "_dom_classes": [],
            "_model_module": "@jupyter-widgets/output",
            "_model_module_version": "1.0.0",
            "_model_name": "OutputModel",
            "_view_count": null,
            "_view_module": "@jupyter-widgets/output",
            "_view_module_version": "1.0.0",
            "_view_name": "OutputView",
            "layout": "IPY_MODEL_87e6e571a9094e0592b816a38e05e1d9",
            "msg_id": "",
            "outputs": [
              {
                "output_type": "display_data",
                "data": {
                  "text/plain": "<Figure size 800x550 with 2 Axes>",
                  "image/png": "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\n"
                },
                "metadata": {}
              }
            ]
          }
        },
        "ccc0a1e12a844dcdb1e61233864b61ca": {
          "model_module": "@jupyter-widgets/base",
          "model_name": "LayoutModel",
          "model_module_version": "1.2.0",
          "state": {
            "_model_module": "@jupyter-widgets/base",
            "_model_module_version": "1.2.0",
            "_model_name": "LayoutModel",
            "_view_count": null,
            "_view_module": "@jupyter-widgets/base",
            "_view_module_version": "1.2.0",
            "_view_name": "LayoutView",
            "align_content": null,
            "align_items": null,
            "align_self": null,
            "border": null,
            "bottom": null,
            "display": null,
            "flex": null,
            "flex_flow": null,
            "grid_area": null,
            "grid_auto_columns": null,
            "grid_auto_flow": null,
            "grid_auto_rows": null,
            "grid_column": null,
            "grid_gap": null,
            "grid_row": null,
            "grid_template_areas": null,
            "grid_template_columns": null,
            "grid_template_rows": null,
            "height": null,
            "justify_content": null,
            "justify_items": null,
            "left": null,
            "margin": null,
            "max_height": null,
            "max_width": null,
            "min_height": null,
            "min_width": null,
            "object_fit": null,
            "object_position": null,
            "order": null,
            "overflow": null,
            "overflow_x": null,
            "overflow_y": null,
            "padding": null,
            "right": null,
            "top": null,
            "visibility": null,
            "width": null
          }
        },
        "a0b4f16e28394d6abbaba0279ebc7329": {
          "model_module": "@jupyter-widgets/base",
          "model_name": "LayoutModel",
          "model_module_version": "1.2.0",
          "state": {
            "_model_module": "@jupyter-widgets/base",
            "_model_module_version": "1.2.0",
            "_model_name": "LayoutModel",
            "_view_count": null,
            "_view_module": "@jupyter-widgets/base",
            "_view_module_version": "1.2.0",
            "_view_name": "LayoutView",
            "align_content": null,
            "align_items": null,
            "align_self": null,
            "border": null,
            "bottom": null,
            "display": null,
            "flex": null,
            "flex_flow": null,
            "grid_area": null,
            "grid_auto_columns": null,
            "grid_auto_flow": null,
            "grid_auto_rows": null,
            "grid_column": null,
            "grid_gap": null,
            "grid_row": null,
            "grid_template_areas": null,
            "grid_template_columns": null,
            "grid_template_rows": null,
            "height": null,
            "justify_content": null,
            "justify_items": null,
            "left": null,
            "margin": null,
            "max_height": null,
            "max_width": null,
            "min_height": null,
            "min_width": null,
            "object_fit": null,
            "object_position": null,
            "order": null,
            "overflow": null,
            "overflow_x": null,
            "overflow_y": null,
            "padding": null,
            "right": null,
            "top": null,
            "visibility": null,
            "width": null
          }
        },
        "9fb7a98484c241b39e4ef80b45a17d7f": {
          "model_module": "@jupyter-widgets/controls",
          "model_name": "ToggleButtonsStyleModel",
          "model_module_version": "1.5.0",
          "state": {
            "_model_module": "@jupyter-widgets/controls",
            "_model_module_version": "1.5.0",
            "_model_name": "ToggleButtonsStyleModel",
            "_view_count": null,
            "_view_module": "@jupyter-widgets/base",
            "_view_module_version": "1.2.0",
            "_view_name": "StyleView",
            "button_width": "",
            "description_width": "",
            "font_weight": ""
          }
        },
        "87e6e571a9094e0592b816a38e05e1d9": {
          "model_module": "@jupyter-widgets/base",
          "model_name": "LayoutModel",
          "model_module_version": "1.2.0",
          "state": {
            "_model_module": "@jupyter-widgets/base",
            "_model_module_version": "1.2.0",
            "_model_name": "LayoutModel",
            "_view_count": null,
            "_view_module": "@jupyter-widgets/base",
            "_view_module_version": "1.2.0",
            "_view_name": "LayoutView",
            "align_content": null,
            "align_items": null,
            "align_self": null,
            "border": null,
            "bottom": null,
            "display": null,
            "flex": null,
            "flex_flow": null,
            "grid_area": null,
            "grid_auto_columns": null,
            "grid_auto_flow": null,
            "grid_auto_rows": null,
            "grid_column": null,
            "grid_gap": null,
            "grid_row": null,
            "grid_template_areas": null,
            "grid_template_columns": null,
            "grid_template_rows": null,
            "height": null,
            "justify_content": null,
            "justify_items": null,
            "left": null,
            "margin": null,
            "max_height": null,
            "max_width": null,
            "min_height": null,
            "min_width": null,
            "object_fit": null,
            "object_position": null,
            "order": null,
            "overflow": null,
            "overflow_x": null,
            "overflow_y": null,
            "padding": null,
            "right": null,
            "top": null,
            "visibility": null,
            "width": null
          }
        }
      }
    }
  },
  "cells": [
    {
      "cell_type": "code",
      "execution_count": null,
      "metadata": {
        "id": "8SMeF0WCwxps"
      },
      "outputs": [],
      "source": [
        "!pip install pycaret"
      ]
    },
    {
      "cell_type": "code",
      "source": [
        "!pip install shap"
      ],
      "metadata": {
        "id": "c28Q_H9gLD3M"
      },
      "execution_count": null,
      "outputs": []
    },
    {
      "cell_type": "code",
      "source": [
        "import pandas as pd\n",
        "import matplotlib.pyplot as plt\n",
        "from pycaret.regression import *"
      ],
      "metadata": {
        "id": "qvr12WMww31L"
      },
      "execution_count": 3,
      "outputs": []
    },
    {
      "cell_type": "code",
      "source": [
        "from google.colab import files\n",
        "uploaded = files.upload()"
      ],
      "metadata": {
        "id": "GJAnJWBqxI0A"
      },
      "execution_count": null,
      "outputs": []
    },
    {
      "cell_type": "code",
      "source": [
        "data = pd.read_excel('/content/data_paper1.xlsx',sheet_name='XRD')"
      ],
      "metadata": {
        "id": "9oT-8NBaxFIk"
      },
      "execution_count": 16,
      "outputs": []
    },
    {
      "cell_type": "code",
      "source": [
        "s = setup(data,target = 'delta(eff)', train_size = 0.9, session_id=78)"
      ],
      "metadata": {
        "colab": {
          "base_uri": "https://localhost:8080/",
          "height": 645
        },
        "id": "OBX8zvplxUqM",
        "outputId": "100343f9-6fcc-46eb-de75-078805002994"
      },
      "execution_count": 26,
      "outputs": [
        {
          "output_type": "display_data",
          "data": {
            "text/plain": [
              "<pandas.io.formats.style.Styler at 0x7913be1f9de0>"
            ],
            "text/html": [
              "<style type=\"text/css\">\n",
              "#T_f6e98_row8_col1 {\n",
              "  background-color: lightgreen;\n",
              "}\n",
              "</style>\n",
              "<table id=\"T_f6e98\" class=\"dataframe\">\n",
              "  <thead>\n",
              "    <tr>\n",
              "      <th class=\"blank level0\" >&nbsp;</th>\n",
              "      <th id=\"T_f6e98_level0_col0\" class=\"col_heading level0 col0\" >Description</th>\n",
              "      <th id=\"T_f6e98_level0_col1\" class=\"col_heading level0 col1\" >Value</th>\n",
              "    </tr>\n",
              "  </thead>\n",
              "  <tbody>\n",
              "    <tr>\n",
              "      <th id=\"T_f6e98_level0_row0\" class=\"row_heading level0 row0\" >0</th>\n",
              "      <td id=\"T_f6e98_row0_col0\" class=\"data row0 col0\" >Session id</td>\n",
              "      <td id=\"T_f6e98_row0_col1\" class=\"data row0 col1\" >78</td>\n",
              "    </tr>\n",
              "    <tr>\n",
              "      <th id=\"T_f6e98_level0_row1\" class=\"row_heading level0 row1\" >1</th>\n",
              "      <td id=\"T_f6e98_row1_col0\" class=\"data row1 col0\" >Target</td>\n",
              "      <td id=\"T_f6e98_row1_col1\" class=\"data row1 col1\" >delta(eff)</td>\n",
              "    </tr>\n",
              "    <tr>\n",
              "      <th id=\"T_f6e98_level0_row2\" class=\"row_heading level0 row2\" >2</th>\n",
              "      <td id=\"T_f6e98_row2_col0\" class=\"data row2 col0\" >Target type</td>\n",
              "      <td id=\"T_f6e98_row2_col1\" class=\"data row2 col1\" >Regression</td>\n",
              "    </tr>\n",
              "    <tr>\n",
              "      <th id=\"T_f6e98_level0_row3\" class=\"row_heading level0 row3\" >3</th>\n",
              "      <td id=\"T_f6e98_row3_col0\" class=\"data row3 col0\" >Original data shape</td>\n",
              "      <td id=\"T_f6e98_row3_col1\" class=\"data row3 col1\" >(27, 20)</td>\n",
              "    </tr>\n",
              "    <tr>\n",
              "      <th id=\"T_f6e98_level0_row4\" class=\"row_heading level0 row4\" >4</th>\n",
              "      <td id=\"T_f6e98_row4_col0\" class=\"data row4 col0\" >Transformed data shape</td>\n",
              "      <td id=\"T_f6e98_row4_col1\" class=\"data row4 col1\" >(27, 20)</td>\n",
              "    </tr>\n",
              "    <tr>\n",
              "      <th id=\"T_f6e98_level0_row5\" class=\"row_heading level0 row5\" >5</th>\n",
              "      <td id=\"T_f6e98_row5_col0\" class=\"data row5 col0\" >Transformed train set shape</td>\n",
              "      <td id=\"T_f6e98_row5_col1\" class=\"data row5 col1\" >(24, 20)</td>\n",
              "    </tr>\n",
              "    <tr>\n",
              "      <th id=\"T_f6e98_level0_row6\" class=\"row_heading level0 row6\" >6</th>\n",
              "      <td id=\"T_f6e98_row6_col0\" class=\"data row6 col0\" >Transformed test set shape</td>\n",
              "      <td id=\"T_f6e98_row6_col1\" class=\"data row6 col1\" >(3, 20)</td>\n",
              "    </tr>\n",
              "    <tr>\n",
              "      <th id=\"T_f6e98_level0_row7\" class=\"row_heading level0 row7\" >7</th>\n",
              "      <td id=\"T_f6e98_row7_col0\" class=\"data row7 col0\" >Numeric features</td>\n",
              "      <td id=\"T_f6e98_row7_col1\" class=\"data row7 col1\" >19</td>\n",
              "    </tr>\n",
              "    <tr>\n",
              "      <th id=\"T_f6e98_level0_row8\" class=\"row_heading level0 row8\" >8</th>\n",
              "      <td id=\"T_f6e98_row8_col0\" class=\"data row8 col0\" >Preprocess</td>\n",
              "      <td id=\"T_f6e98_row8_col1\" class=\"data row8 col1\" >True</td>\n",
              "    </tr>\n",
              "    <tr>\n",
              "      <th id=\"T_f6e98_level0_row9\" class=\"row_heading level0 row9\" >9</th>\n",
              "      <td id=\"T_f6e98_row9_col0\" class=\"data row9 col0\" >Imputation type</td>\n",
              "      <td id=\"T_f6e98_row9_col1\" class=\"data row9 col1\" >simple</td>\n",
              "    </tr>\n",
              "    <tr>\n",
              "      <th id=\"T_f6e98_level0_row10\" class=\"row_heading level0 row10\" >10</th>\n",
              "      <td id=\"T_f6e98_row10_col0\" class=\"data row10 col0\" >Numeric imputation</td>\n",
              "      <td id=\"T_f6e98_row10_col1\" class=\"data row10 col1\" >mean</td>\n",
              "    </tr>\n",
              "    <tr>\n",
              "      <th id=\"T_f6e98_level0_row11\" class=\"row_heading level0 row11\" >11</th>\n",
              "      <td id=\"T_f6e98_row11_col0\" class=\"data row11 col0\" >Categorical imputation</td>\n",
              "      <td id=\"T_f6e98_row11_col1\" class=\"data row11 col1\" >mode</td>\n",
              "    </tr>\n",
              "    <tr>\n",
              "      <th id=\"T_f6e98_level0_row12\" class=\"row_heading level0 row12\" >12</th>\n",
              "      <td id=\"T_f6e98_row12_col0\" class=\"data row12 col0\" >Fold Generator</td>\n",
              "      <td id=\"T_f6e98_row12_col1\" class=\"data row12 col1\" >KFold</td>\n",
              "    </tr>\n",
              "    <tr>\n",
              "      <th id=\"T_f6e98_level0_row13\" class=\"row_heading level0 row13\" >13</th>\n",
              "      <td id=\"T_f6e98_row13_col0\" class=\"data row13 col0\" >Fold Number</td>\n",
              "      <td id=\"T_f6e98_row13_col1\" class=\"data row13 col1\" >10</td>\n",
              "    </tr>\n",
              "    <tr>\n",
              "      <th id=\"T_f6e98_level0_row14\" class=\"row_heading level0 row14\" >14</th>\n",
              "      <td id=\"T_f6e98_row14_col0\" class=\"data row14 col0\" >CPU Jobs</td>\n",
              "      <td id=\"T_f6e98_row14_col1\" class=\"data row14 col1\" >-1</td>\n",
              "    </tr>\n",
              "    <tr>\n",
              "      <th id=\"T_f6e98_level0_row15\" class=\"row_heading level0 row15\" >15</th>\n",
              "      <td id=\"T_f6e98_row15_col0\" class=\"data row15 col0\" >Use GPU</td>\n",
              "      <td id=\"T_f6e98_row15_col1\" class=\"data row15 col1\" >False</td>\n",
              "    </tr>\n",
              "    <tr>\n",
              "      <th id=\"T_f6e98_level0_row16\" class=\"row_heading level0 row16\" >16</th>\n",
              "      <td id=\"T_f6e98_row16_col0\" class=\"data row16 col0\" >Log Experiment</td>\n",
              "      <td id=\"T_f6e98_row16_col1\" class=\"data row16 col1\" >False</td>\n",
              "    </tr>\n",
              "    <tr>\n",
              "      <th id=\"T_f6e98_level0_row17\" class=\"row_heading level0 row17\" >17</th>\n",
              "      <td id=\"T_f6e98_row17_col0\" class=\"data row17 col0\" >Experiment Name</td>\n",
              "      <td id=\"T_f6e98_row17_col1\" class=\"data row17 col1\" >reg-default-name</td>\n",
              "    </tr>\n",
              "    <tr>\n",
              "      <th id=\"T_f6e98_level0_row18\" class=\"row_heading level0 row18\" >18</th>\n",
              "      <td id=\"T_f6e98_row18_col0\" class=\"data row18 col0\" >USI</td>\n",
              "      <td id=\"T_f6e98_row18_col1\" class=\"data row18 col1\" >d8ff</td>\n",
              "    </tr>\n",
              "  </tbody>\n",
              "</table>\n"
            ]
          },
          "metadata": {}
        }
      ]
    },
    {
      "cell_type": "code",
      "source": [
        "best = compare_models(cross_validation=False)"
      ],
      "metadata": {
        "colab": {
          "base_uri": "https://localhost:8080/",
          "height": 645,
          "referenced_widgets": [
            "d6180130848844e1b42db4787e85982f",
            "b0d906f4d1ee40979d09937883414ea7",
            "3fc7dd3f7b004d1eb52063d568437c51",
            "9add967b29cc4190b70a7fba2b9ff90e",
            "4b303c247b0245d391ee2f7865f7f491",
            "ec6f155e4f1446ec865a4e7b49ff4450",
            "8b38ccc4e8454592a31794298be670b1",
            "7494a882bc834ae0ae1465b6207f0040",
            "554e0931997b45d793cb33fc5a0ed124",
            "26585617929f4ad5be5c52a63c23bcdc",
            "c242f964103647d49b98c3ecb85886f8"
          ]
        },
        "id": "WJgHe2tfxZ6B",
        "outputId": "b68d2fa6-19b9-4bc5-eb8a-fe40a1305682"
      },
      "execution_count": 27,
      "outputs": [
        {
          "output_type": "display_data",
          "data": {
            "text/plain": [
              "<IPython.core.display.HTML object>"
            ],
            "text/html": []
          },
          "metadata": {}
        },
        {
          "output_type": "display_data",
          "data": {
            "text/plain": [
              "<pandas.io.formats.style.Styler at 0x7913dee1bcd0>"
            ],
            "text/html": [
              "<style type=\"text/css\">\n",
              "#T_66977 th {\n",
              "  text-align: left;\n",
              "}\n",
              "#T_66977_row0_col0, #T_66977_row1_col0, #T_66977_row1_col1, #T_66977_row1_col2, #T_66977_row1_col3, #T_66977_row1_col4, #T_66977_row1_col5, #T_66977_row1_col6, #T_66977_row2_col0, #T_66977_row2_col1, #T_66977_row2_col2, #T_66977_row2_col3, #T_66977_row2_col4, #T_66977_row2_col5, #T_66977_row2_col6, #T_66977_row3_col0, #T_66977_row3_col1, #T_66977_row3_col2, #T_66977_row3_col3, #T_66977_row3_col4, #T_66977_row3_col5, #T_66977_row3_col6, #T_66977_row4_col0, #T_66977_row4_col1, #T_66977_row4_col2, #T_66977_row4_col3, #T_66977_row4_col4, #T_66977_row4_col5, #T_66977_row4_col6, #T_66977_row5_col0, #T_66977_row5_col1, #T_66977_row5_col2, #T_66977_row5_col3, #T_66977_row5_col4, #T_66977_row5_col5, #T_66977_row5_col6, #T_66977_row6_col0, #T_66977_row6_col1, #T_66977_row6_col2, #T_66977_row6_col3, #T_66977_row6_col4, #T_66977_row6_col5, #T_66977_row6_col6, #T_66977_row7_col0, #T_66977_row7_col1, #T_66977_row7_col2, #T_66977_row7_col3, #T_66977_row7_col4, #T_66977_row7_col5, #T_66977_row7_col6, #T_66977_row8_col0, #T_66977_row8_col1, #T_66977_row8_col2, #T_66977_row8_col3, #T_66977_row8_col4, #T_66977_row8_col5, #T_66977_row8_col6, #T_66977_row9_col0, #T_66977_row9_col1, #T_66977_row9_col2, #T_66977_row9_col3, #T_66977_row9_col4, #T_66977_row9_col5, #T_66977_row9_col6, #T_66977_row10_col0, #T_66977_row10_col1, #T_66977_row10_col2, #T_66977_row10_col3, #T_66977_row10_col4, #T_66977_row10_col5, #T_66977_row10_col6, #T_66977_row11_col0, #T_66977_row11_col1, #T_66977_row11_col2, #T_66977_row11_col3, #T_66977_row11_col4, #T_66977_row11_col5, #T_66977_row11_col6, #T_66977_row12_col0, #T_66977_row12_col1, #T_66977_row12_col2, #T_66977_row12_col3, #T_66977_row12_col4, #T_66977_row12_col5, #T_66977_row12_col6, #T_66977_row13_col0, #T_66977_row13_col1, #T_66977_row13_col2, #T_66977_row13_col3, #T_66977_row13_col4, #T_66977_row13_col5, #T_66977_row13_col6, #T_66977_row14_col0, #T_66977_row14_col1, #T_66977_row14_col2, #T_66977_row14_col3, #T_66977_row14_col4, #T_66977_row14_col5, #T_66977_row14_col6, #T_66977_row15_col0, #T_66977_row15_col1, #T_66977_row15_col2, #T_66977_row15_col3, #T_66977_row15_col4, #T_66977_row15_col5, #T_66977_row15_col6, #T_66977_row16_col0, #T_66977_row16_col1, #T_66977_row16_col2, #T_66977_row16_col3, #T_66977_row16_col4, #T_66977_row16_col5, #T_66977_row16_col6, #T_66977_row17_col0, #T_66977_row17_col1, #T_66977_row17_col2, #T_66977_row17_col3, #T_66977_row17_col4, #T_66977_row17_col5, #T_66977_row17_col6, #T_66977_row18_col0, #T_66977_row18_col1, #T_66977_row18_col2, #T_66977_row18_col3, #T_66977_row18_col4, #T_66977_row18_col5, #T_66977_row18_col6 {\n",
              "  text-align: left;\n",
              "}\n",
              "#T_66977_row0_col1, #T_66977_row0_col2, #T_66977_row0_col3, #T_66977_row0_col4, #T_66977_row0_col5, #T_66977_row0_col6 {\n",
              "  text-align: left;\n",
              "  background-color: yellow;\n",
              "}\n",
              "#T_66977_row0_col7, #T_66977_row1_col7, #T_66977_row2_col7, #T_66977_row3_col7, #T_66977_row4_col7, #T_66977_row5_col7, #T_66977_row6_col7, #T_66977_row13_col7, #T_66977_row14_col7, #T_66977_row16_col7 {\n",
              "  text-align: left;\n",
              "  background-color: lightgrey;\n",
              "}\n",
              "#T_66977_row7_col7, #T_66977_row8_col7, #T_66977_row9_col7, #T_66977_row10_col7, #T_66977_row11_col7, #T_66977_row12_col7, #T_66977_row15_col7, #T_66977_row17_col7, #T_66977_row18_col7 {\n",
              "  text-align: left;\n",
              "  background-color: yellow;\n",
              "  background-color: lightgrey;\n",
              "}\n",
              "</style>\n",
              "<table id=\"T_66977\" class=\"dataframe\">\n",
              "  <thead>\n",
              "    <tr>\n",
              "      <th class=\"blank level0\" >&nbsp;</th>\n",
              "      <th id=\"T_66977_level0_col0\" class=\"col_heading level0 col0\" >Model</th>\n",
              "      <th id=\"T_66977_level0_col1\" class=\"col_heading level0 col1\" >MAE</th>\n",
              "      <th id=\"T_66977_level0_col2\" class=\"col_heading level0 col2\" >MSE</th>\n",
              "      <th id=\"T_66977_level0_col3\" class=\"col_heading level0 col3\" >RMSE</th>\n",
              "      <th id=\"T_66977_level0_col4\" class=\"col_heading level0 col4\" >R2</th>\n",
              "      <th id=\"T_66977_level0_col5\" class=\"col_heading level0 col5\" >RMSLE</th>\n",
              "      <th id=\"T_66977_level0_col6\" class=\"col_heading level0 col6\" >MAPE</th>\n",
              "      <th id=\"T_66977_level0_col7\" class=\"col_heading level0 col7\" >TT (Sec)</th>\n",
              "    </tr>\n",
              "  </thead>\n",
              "  <tbody>\n",
              "    <tr>\n",
              "      <th id=\"T_66977_level0_row0\" class=\"row_heading level0 row0\" >xgboost</th>\n",
              "      <td id=\"T_66977_row0_col0\" class=\"data row0 col0\" >Extreme Gradient Boosting</td>\n",
              "      <td id=\"T_66977_row0_col1\" class=\"data row0 col1\" >0.1020</td>\n",
              "      <td id=\"T_66977_row0_col2\" class=\"data row0 col2\" >0.0111</td>\n",
              "      <td id=\"T_66977_row0_col3\" class=\"data row0 col3\" >0.1052</td>\n",
              "      <td id=\"T_66977_row0_col4\" class=\"data row0 col4\" >0.9793</td>\n",
              "      <td id=\"T_66977_row0_col5\" class=\"data row0 col5\" >0.0466</td>\n",
              "      <td id=\"T_66977_row0_col6\" class=\"data row0 col6\" >0.0873</td>\n",
              "      <td id=\"T_66977_row0_col7\" class=\"data row0 col7\" >0.0500</td>\n",
              "    </tr>\n",
              "    <tr>\n",
              "      <th id=\"T_66977_level0_row1\" class=\"row_heading level0 row1\" >gbr</th>\n",
              "      <td id=\"T_66977_row1_col0\" class=\"data row1 col0\" >Gradient Boosting Regressor</td>\n",
              "      <td id=\"T_66977_row1_col1\" class=\"data row1 col1\" >0.1378</td>\n",
              "      <td id=\"T_66977_row1_col2\" class=\"data row1 col2\" >0.0255</td>\n",
              "      <td id=\"T_66977_row1_col3\" class=\"data row1 col3\" >0.1598</td>\n",
              "      <td id=\"T_66977_row1_col4\" class=\"data row1 col4\" >0.9522</td>\n",
              "      <td id=\"T_66977_row1_col5\" class=\"data row1 col5\" >0.0682</td>\n",
              "      <td id=\"T_66977_row1_col6\" class=\"data row1 col6\" >0.1226</td>\n",
              "      <td id=\"T_66977_row1_col7\" class=\"data row1 col7\" >0.0800</td>\n",
              "    </tr>\n",
              "    <tr>\n",
              "      <th id=\"T_66977_level0_row2\" class=\"row_heading level0 row2\" >dt</th>\n",
              "      <td id=\"T_66977_row2_col0\" class=\"data row2 col0\" >Decision Tree Regressor</td>\n",
              "      <td id=\"T_66977_row2_col1\" class=\"data row2 col1\" >0.1467</td>\n",
              "      <td id=\"T_66977_row2_col2\" class=\"data row2 col2\" >0.0304</td>\n",
              "      <td id=\"T_66977_row2_col3\" class=\"data row2 col3\" >0.1744</td>\n",
              "      <td id=\"T_66977_row2_col4\" class=\"data row2 col4\" >0.9431</td>\n",
              "      <td id=\"T_66977_row2_col5\" class=\"data row2 col5\" >0.0747</td>\n",
              "      <td id=\"T_66977_row2_col6\" class=\"data row2 col6\" >0.1138</td>\n",
              "      <td id=\"T_66977_row2_col7\" class=\"data row2 col7\" >0.0300</td>\n",
              "    </tr>\n",
              "    <tr>\n",
              "      <th id=\"T_66977_level0_row3\" class=\"row_heading level0 row3\" >et</th>\n",
              "      <td id=\"T_66977_row3_col0\" class=\"data row3 col0\" >Extra Trees Regressor</td>\n",
              "      <td id=\"T_66977_row3_col1\" class=\"data row3 col1\" >0.2210</td>\n",
              "      <td id=\"T_66977_row3_col2\" class=\"data row3 col2\" >0.0735</td>\n",
              "      <td id=\"T_66977_row3_col3\" class=\"data row3 col3\" >0.2711</td>\n",
              "      <td id=\"T_66977_row3_col4\" class=\"data row3 col4\" >0.8624</td>\n",
              "      <td id=\"T_66977_row3_col5\" class=\"data row3 col5\" >0.0963</td>\n",
              "      <td id=\"T_66977_row3_col6\" class=\"data row3 col6\" >0.1569</td>\n",
              "      <td id=\"T_66977_row3_col7\" class=\"data row3 col7\" >0.1300</td>\n",
              "    </tr>\n",
              "    <tr>\n",
              "      <th id=\"T_66977_level0_row4\" class=\"row_heading level0 row4\" >rf</th>\n",
              "      <td id=\"T_66977_row4_col0\" class=\"data row4 col0\" >Random Forest Regressor</td>\n",
              "      <td id=\"T_66977_row4_col1\" class=\"data row4 col1\" >0.2769</td>\n",
              "      <td id=\"T_66977_row4_col2\" class=\"data row4 col2\" >0.0956</td>\n",
              "      <td id=\"T_66977_row4_col3\" class=\"data row4 col3\" >0.3092</td>\n",
              "      <td id=\"T_66977_row4_col4\" class=\"data row4 col4\" >0.8210</td>\n",
              "      <td id=\"T_66977_row4_col5\" class=\"data row4 col5\" >0.1227</td>\n",
              "      <td id=\"T_66977_row4_col6\" class=\"data row4 col6\" >0.2269</td>\n",
              "      <td id=\"T_66977_row4_col7\" class=\"data row4 col7\" >0.1800</td>\n",
              "    </tr>\n",
              "    <tr>\n",
              "      <th id=\"T_66977_level0_row5\" class=\"row_heading level0 row5\" >knn</th>\n",
              "      <td id=\"T_66977_row5_col0\" class=\"data row5 col0\" >K Neighbors Regressor</td>\n",
              "      <td id=\"T_66977_row5_col1\" class=\"data row5 col1\" >0.3807</td>\n",
              "      <td id=\"T_66977_row5_col2\" class=\"data row5 col2\" >0.1501</td>\n",
              "      <td id=\"T_66977_row5_col3\" class=\"data row5 col3\" >0.3875</td>\n",
              "      <td id=\"T_66977_row5_col4\" class=\"data row5 col4\" >0.7190</td>\n",
              "      <td id=\"T_66977_row5_col5\" class=\"data row5 col5\" >0.1586</td>\n",
              "      <td id=\"T_66977_row5_col6\" class=\"data row5 col6\" >0.3203</td>\n",
              "      <td id=\"T_66977_row5_col7\" class=\"data row5 col7\" >0.0300</td>\n",
              "    </tr>\n",
              "    <tr>\n",
              "      <th id=\"T_66977_level0_row6\" class=\"row_heading level0 row6\" >br</th>\n",
              "      <td id=\"T_66977_row6_col0\" class=\"data row6 col0\" >Bayesian Ridge</td>\n",
              "      <td id=\"T_66977_row6_col1\" class=\"data row6 col1\" >0.3873</td>\n",
              "      <td id=\"T_66977_row6_col2\" class=\"data row6 col2\" >0.1605</td>\n",
              "      <td id=\"T_66977_row6_col3\" class=\"data row6 col3\" >0.4007</td>\n",
              "      <td id=\"T_66977_row6_col4\" class=\"data row6 col4\" >0.6995</td>\n",
              "      <td id=\"T_66977_row6_col5\" class=\"data row6 col5\" >0.1501</td>\n",
              "      <td id=\"T_66977_row6_col6\" class=\"data row6 col6\" >0.2883</td>\n",
              "      <td id=\"T_66977_row6_col7\" class=\"data row6 col7\" >0.0300</td>\n",
              "    </tr>\n",
              "    <tr>\n",
              "      <th id=\"T_66977_level0_row7\" class=\"row_heading level0 row7\" >en</th>\n",
              "      <td id=\"T_66977_row7_col0\" class=\"data row7 col0\" >Elastic Net</td>\n",
              "      <td id=\"T_66977_row7_col1\" class=\"data row7 col1\" >0.3926</td>\n",
              "      <td id=\"T_66977_row7_col2\" class=\"data row7 col2\" >0.1646</td>\n",
              "      <td id=\"T_66977_row7_col3\" class=\"data row7 col3\" >0.4058</td>\n",
              "      <td id=\"T_66977_row7_col4\" class=\"data row7 col4\" >0.6919</td>\n",
              "      <td id=\"T_66977_row7_col5\" class=\"data row7 col5\" >0.1522</td>\n",
              "      <td id=\"T_66977_row7_col6\" class=\"data row7 col6\" >0.2931</td>\n",
              "      <td id=\"T_66977_row7_col7\" class=\"data row7 col7\" >0.0200</td>\n",
              "    </tr>\n",
              "    <tr>\n",
              "      <th id=\"T_66977_level0_row8\" class=\"row_heading level0 row8\" >lasso</th>\n",
              "      <td id=\"T_66977_row8_col0\" class=\"data row8 col0\" >Lasso Regression</td>\n",
              "      <td id=\"T_66977_row8_col1\" class=\"data row8 col1\" >0.3963</td>\n",
              "      <td id=\"T_66977_row8_col2\" class=\"data row8 col2\" >0.1712</td>\n",
              "      <td id=\"T_66977_row8_col3\" class=\"data row8 col3\" >0.4138</td>\n",
              "      <td id=\"T_66977_row8_col4\" class=\"data row8 col4\" >0.6795</td>\n",
              "      <td id=\"T_66977_row8_col5\" class=\"data row8 col5\" >0.1543</td>\n",
              "      <td id=\"T_66977_row8_col6\" class=\"data row8 col6\" >0.2917</td>\n",
              "      <td id=\"T_66977_row8_col7\" class=\"data row8 col7\" >0.0200</td>\n",
              "    </tr>\n",
              "    <tr>\n",
              "      <th id=\"T_66977_level0_row9\" class=\"row_heading level0 row9\" >llar</th>\n",
              "      <td id=\"T_66977_row9_col0\" class=\"data row9 col0\" >Lasso Least Angle Regression</td>\n",
              "      <td id=\"T_66977_row9_col1\" class=\"data row9 col1\" >0.3963</td>\n",
              "      <td id=\"T_66977_row9_col2\" class=\"data row9 col2\" >0.1713</td>\n",
              "      <td id=\"T_66977_row9_col3\" class=\"data row9 col3\" >0.4138</td>\n",
              "      <td id=\"T_66977_row9_col4\" class=\"data row9 col4\" >0.6795</td>\n",
              "      <td id=\"T_66977_row9_col5\" class=\"data row9 col5\" >0.1543</td>\n",
              "      <td id=\"T_66977_row9_col6\" class=\"data row9 col6\" >0.2918</td>\n",
              "      <td id=\"T_66977_row9_col7\" class=\"data row9 col7\" >0.0200</td>\n",
              "    </tr>\n",
              "    <tr>\n",
              "      <th id=\"T_66977_level0_row10\" class=\"row_heading level0 row10\" >omp</th>\n",
              "      <td id=\"T_66977_row10_col0\" class=\"data row10 col0\" >Orthogonal Matching Pursuit</td>\n",
              "      <td id=\"T_66977_row10_col1\" class=\"data row10 col1\" >0.3118</td>\n",
              "      <td id=\"T_66977_row10_col2\" class=\"data row10 col2\" >0.1787</td>\n",
              "      <td id=\"T_66977_row10_col3\" class=\"data row10 col3\" >0.4227</td>\n",
              "      <td id=\"T_66977_row10_col4\" class=\"data row10 col4\" >0.6655</td>\n",
              "      <td id=\"T_66977_row10_col5\" class=\"data row10 col5\" >0.1399</td>\n",
              "      <td id=\"T_66977_row10_col6\" class=\"data row10 col6\" >0.1498</td>\n",
              "      <td id=\"T_66977_row10_col7\" class=\"data row10 col7\" >0.0200</td>\n",
              "    </tr>\n",
              "    <tr>\n",
              "      <th id=\"T_66977_level0_row11\" class=\"row_heading level0 row11\" >ridge</th>\n",
              "      <td id=\"T_66977_row11_col0\" class=\"data row11 col0\" >Ridge Regression</td>\n",
              "      <td id=\"T_66977_row11_col1\" class=\"data row11 col1\" >0.3488</td>\n",
              "      <td id=\"T_66977_row11_col2\" class=\"data row11 col2\" >0.1958</td>\n",
              "      <td id=\"T_66977_row11_col3\" class=\"data row11 col3\" >0.4425</td>\n",
              "      <td id=\"T_66977_row11_col4\" class=\"data row11 col4\" >0.6335</td>\n",
              "      <td id=\"T_66977_row11_col5\" class=\"data row11 col5\" >0.1698</td>\n",
              "      <td id=\"T_66977_row11_col6\" class=\"data row11 col6\" >0.3061</td>\n",
              "      <td id=\"T_66977_row11_col7\" class=\"data row11 col7\" >0.0200</td>\n",
              "    </tr>\n",
              "    <tr>\n",
              "      <th id=\"T_66977_level0_row12\" class=\"row_heading level0 row12\" >lr</th>\n",
              "      <td id=\"T_66977_row12_col0\" class=\"data row12 col0\" >Linear Regression</td>\n",
              "      <td id=\"T_66977_row12_col1\" class=\"data row12 col1\" >0.3485</td>\n",
              "      <td id=\"T_66977_row12_col2\" class=\"data row12 col2\" >0.1988</td>\n",
              "      <td id=\"T_66977_row12_col3\" class=\"data row12 col3\" >0.4458</td>\n",
              "      <td id=\"T_66977_row12_col4\" class=\"data row12 col4\" >0.6280</td>\n",
              "      <td id=\"T_66977_row12_col5\" class=\"data row12 col5\" >0.1709</td>\n",
              "      <td id=\"T_66977_row12_col6\" class=\"data row12 col6\" >0.3071</td>\n",
              "      <td id=\"T_66977_row12_col7\" class=\"data row12 col7\" >0.0200</td>\n",
              "    </tr>\n",
              "    <tr>\n",
              "      <th id=\"T_66977_level0_row13\" class=\"row_heading level0 row13\" >ada</th>\n",
              "      <td id=\"T_66977_row13_col0\" class=\"data row13 col0\" >AdaBoost Regressor</td>\n",
              "      <td id=\"T_66977_row13_col1\" class=\"data row13 col1\" >0.3667</td>\n",
              "      <td id=\"T_66977_row13_col2\" class=\"data row13 col2\" >0.2029</td>\n",
              "      <td id=\"T_66977_row13_col3\" class=\"data row13 col3\" >0.4504</td>\n",
              "      <td id=\"T_66977_row13_col4\" class=\"data row13 col4\" >0.6203</td>\n",
              "      <td id=\"T_66977_row13_col5\" class=\"data row13 col5\" >0.1636</td>\n",
              "      <td id=\"T_66977_row13_col6\" class=\"data row13 col6\" >0.2599</td>\n",
              "      <td id=\"T_66977_row13_col7\" class=\"data row13 col7\" >0.1000</td>\n",
              "    </tr>\n",
              "    <tr>\n",
              "      <th id=\"T_66977_level0_row14\" class=\"row_heading level0 row14\" >huber</th>\n",
              "      <td id=\"T_66977_row14_col0\" class=\"data row14 col0\" >Huber Regressor</td>\n",
              "      <td id=\"T_66977_row14_col1\" class=\"data row14 col1\" >0.4621</td>\n",
              "      <td id=\"T_66977_row14_col2\" class=\"data row14 col2\" >0.3355</td>\n",
              "      <td id=\"T_66977_row14_col3\" class=\"data row14 col3\" >0.5793</td>\n",
              "      <td id=\"T_66977_row14_col4\" class=\"data row14 col4\" >0.3720</td>\n",
              "      <td id=\"T_66977_row14_col5\" class=\"data row14 col5\" >0.2024</td>\n",
              "      <td id=\"T_66977_row14_col6\" class=\"data row14 col6\" >0.3510</td>\n",
              "      <td id=\"T_66977_row14_col7\" class=\"data row14 col7\" >0.0500</td>\n",
              "    </tr>\n",
              "    <tr>\n",
              "      <th id=\"T_66977_level0_row15\" class=\"row_heading level0 row15\" >par</th>\n",
              "      <td id=\"T_66977_row15_col0\" class=\"data row15 col0\" >Passive Aggressive Regressor</td>\n",
              "      <td id=\"T_66977_row15_col1\" class=\"data row15 col1\" >0.5031</td>\n",
              "      <td id=\"T_66977_row15_col2\" class=\"data row15 col2\" >0.3540</td>\n",
              "      <td id=\"T_66977_row15_col3\" class=\"data row15 col3\" >0.5950</td>\n",
              "      <td id=\"T_66977_row15_col4\" class=\"data row15 col4\" >0.3375</td>\n",
              "      <td id=\"T_66977_row15_col5\" class=\"data row15 col5\" >0.2427</td>\n",
              "      <td id=\"T_66977_row15_col6\" class=\"data row15 col6\" >0.4972</td>\n",
              "      <td id=\"T_66977_row15_col7\" class=\"data row15 col7\" >0.0200</td>\n",
              "    </tr>\n",
              "    <tr>\n",
              "      <th id=\"T_66977_level0_row16\" class=\"row_heading level0 row16\" >lightgbm</th>\n",
              "      <td id=\"T_66977_row16_col0\" class=\"data row16 col0\" >Light Gradient Boosting Machine</td>\n",
              "      <td id=\"T_66977_row16_col1\" class=\"data row16 col1\" >0.6765</td>\n",
              "      <td id=\"T_66977_row16_col2\" class=\"data row16 col2\" >0.6034</td>\n",
              "      <td id=\"T_66977_row16_col3\" class=\"data row16 col3\" >0.7768</td>\n",
              "      <td id=\"T_66977_row16_col4\" class=\"data row16 col4\" >-0.1294</td>\n",
              "      <td id=\"T_66977_row16_col5\" class=\"data row16 col5\" >0.3080</td>\n",
              "      <td id=\"T_66977_row16_col6\" class=\"data row16 col6\" >0.5308</td>\n",
              "      <td id=\"T_66977_row16_col7\" class=\"data row16 col7\" >0.0300</td>\n",
              "    </tr>\n",
              "    <tr>\n",
              "      <th id=\"T_66977_level0_row17\" class=\"row_heading level0 row17\" >dummy</th>\n",
              "      <td id=\"T_66977_row17_col0\" class=\"data row17 col0\" >Dummy Regressor</td>\n",
              "      <td id=\"T_66977_row17_col1\" class=\"data row17 col1\" >0.6765</td>\n",
              "      <td id=\"T_66977_row17_col2\" class=\"data row17 col2\" >0.6034</td>\n",
              "      <td id=\"T_66977_row17_col3\" class=\"data row17 col3\" >0.7768</td>\n",
              "      <td id=\"T_66977_row17_col4\" class=\"data row17 col4\" >-0.1294</td>\n",
              "      <td id=\"T_66977_row17_col5\" class=\"data row17 col5\" >0.3080</td>\n",
              "      <td id=\"T_66977_row17_col6\" class=\"data row17 col6\" >0.5308</td>\n",
              "      <td id=\"T_66977_row17_col7\" class=\"data row17 col7\" >0.0200</td>\n",
              "    </tr>\n",
              "    <tr>\n",
              "      <th id=\"T_66977_level0_row18\" class=\"row_heading level0 row18\" >lar</th>\n",
              "      <td id=\"T_66977_row18_col0\" class=\"data row18 col0\" >Least Angle Regression</td>\n",
              "      <td id=\"T_66977_row18_col1\" class=\"data row18 col1\" >16382.9004</td>\n",
              "      <td id=\"T_66977_row18_col2\" class=\"data row18 col2\" >268399408.0000</td>\n",
              "      <td id=\"T_66977_row18_col3\" class=\"data row18 col3\" >16382.8994</td>\n",
              "      <td id=\"T_66977_row18_col4\" class=\"data row18 col4\" >-502348802.0336</td>\n",
              "      <td id=\"T_66977_row18_col5\" class=\"data row18 col5\" >8.8237</td>\n",
              "      <td id=\"T_66977_row18_col6\" class=\"data row18 col6\" >14256.7471</td>\n",
              "      <td id=\"T_66977_row18_col7\" class=\"data row18 col7\" >0.0200</td>\n",
              "    </tr>\n",
              "  </tbody>\n",
              "</table>\n"
            ]
          },
          "metadata": {}
        },
        {
          "output_type": "display_data",
          "data": {
            "text/plain": [
              "Processing:   0%|          | 0/81 [00:00<?, ?it/s]"
            ],
            "application/vnd.jupyter.widget-view+json": {
              "version_major": 2,
              "version_minor": 0,
              "model_id": "d6180130848844e1b42db4787e85982f"
            }
          },
          "metadata": {
            "application/vnd.jupyter.widget-view+json": {
              "colab": {
                "custom_widget_manager": {
                  "url": "https://ssl.gstatic.com/colaboratory-static/widgets/colab-cdn-widget-manager/2b70e893a8ba7c0f/manager.min.js"
                }
              }
            }
          }
        },
        {
          "output_type": "display_data",
          "data": {
            "text/plain": [
              "<IPython.core.display.HTML object>"
            ],
            "text/html": []
          },
          "metadata": {}
        }
      ]
    },
    {
      "cell_type": "markdown",
      "source": [
        "\n",
        "\n",
        "---\n",
        "\n"
      ],
      "metadata": {
        "id": "nBTRIjAJJy8R"
      }
    },
    {
      "cell_type": "markdown",
      "source": [
        "**XGBoost Regressor**"
      ],
      "metadata": {
        "id": "qhF4O-tZJ1B1"
      }
    },
    {
      "cell_type": "code",
      "source": [
        "xgb = create_model('xgboost',return_train_score=True,cross_validation=False)"
      ],
      "metadata": {
        "colab": {
          "base_uri": "https://localhost:8080/",
          "height": 112,
          "referenced_widgets": [
            "02a475fec83e4a648ef55a44521af2ab",
            "ab75ea2038464d7e8503c160a6b9624d",
            "52aec74c1e17407e9fd03aabb68cbac2",
            "4d2b092d2aca43adbbb90e3a1f22a67e",
            "cd80d76a79dd48458ed94c9979686bb2",
            "60a1ae56078746348f959bf2d27d37f1",
            "0e60626b006c41b39db6c6bd263a4c92",
            "944ce1fc04f1449abdc1af9ffcb40794",
            "5da72cc3701b4b248f34111e179cd50a",
            "b986025a06bb48cbb4100a468f0c7063",
            "960fd3e181414ee094f0938d443fd488"
          ]
        },
        "id": "M9qvVHepxcKv",
        "outputId": "f31c7895-4661-4c7f-afd4-5e37cf805930"
      },
      "execution_count": 28,
      "outputs": [
        {
          "output_type": "display_data",
          "data": {
            "text/plain": [
              "<IPython.core.display.HTML object>"
            ],
            "text/html": []
          },
          "metadata": {}
        },
        {
          "output_type": "display_data",
          "data": {
            "text/plain": [
              "<pandas.io.formats.style.Styler at 0x7913be03e920>"
            ],
            "text/html": [
              "<style type=\"text/css\">\n",
              "</style>\n",
              "<table id=\"T_fbd3b\" class=\"dataframe\">\n",
              "  <thead>\n",
              "    <tr>\n",
              "      <th class=\"blank level0\" >&nbsp;</th>\n",
              "      <th id=\"T_fbd3b_level0_col0\" class=\"col_heading level0 col0\" >MAE</th>\n",
              "      <th id=\"T_fbd3b_level0_col1\" class=\"col_heading level0 col1\" >MSE</th>\n",
              "      <th id=\"T_fbd3b_level0_col2\" class=\"col_heading level0 col2\" >RMSE</th>\n",
              "      <th id=\"T_fbd3b_level0_col3\" class=\"col_heading level0 col3\" >R2</th>\n",
              "      <th id=\"T_fbd3b_level0_col4\" class=\"col_heading level0 col4\" >RMSLE</th>\n",
              "      <th id=\"T_fbd3b_level0_col5\" class=\"col_heading level0 col5\" >MAPE</th>\n",
              "    </tr>\n",
              "  </thead>\n",
              "  <tbody>\n",
              "    <tr>\n",
              "      <th id=\"T_fbd3b_level0_row0\" class=\"row_heading level0 row0\" >Test</th>\n",
              "      <td id=\"T_fbd3b_row0_col0\" class=\"data row0 col0\" >0.1020</td>\n",
              "      <td id=\"T_fbd3b_row0_col1\" class=\"data row0 col1\" >0.0111</td>\n",
              "      <td id=\"T_fbd3b_row0_col2\" class=\"data row0 col2\" >0.1052</td>\n",
              "      <td id=\"T_fbd3b_row0_col3\" class=\"data row0 col3\" >0.9793</td>\n",
              "      <td id=\"T_fbd3b_row0_col4\" class=\"data row0 col4\" >0.0466</td>\n",
              "      <td id=\"T_fbd3b_row0_col5\" class=\"data row0 col5\" >0.0873</td>\n",
              "    </tr>\n",
              "    <tr>\n",
              "      <th id=\"T_fbd3b_level0_row1\" class=\"row_heading level0 row1\" >Train</th>\n",
              "      <td id=\"T_fbd3b_row1_col0\" class=\"data row1 col0\" >0.0041</td>\n",
              "      <td id=\"T_fbd3b_row1_col1\" class=\"data row1 col1\" >0.0001</td>\n",
              "      <td id=\"T_fbd3b_row1_col2\" class=\"data row1 col2\" >0.0077</td>\n",
              "      <td id=\"T_fbd3b_row1_col3\" class=\"data row1 col3\" >0.9999</td>\n",
              "      <td id=\"T_fbd3b_row1_col4\" class=\"data row1 col4\" >0.0029</td>\n",
              "      <td id=\"T_fbd3b_row1_col5\" class=\"data row1 col5\" >0.0035</td>\n",
              "    </tr>\n",
              "  </tbody>\n",
              "</table>\n"
            ]
          },
          "metadata": {}
        },
        {
          "output_type": "display_data",
          "data": {
            "text/plain": [
              "Processing:   0%|          | 0/4 [00:00<?, ?it/s]"
            ],
            "application/vnd.jupyter.widget-view+json": {
              "version_major": 2,
              "version_minor": 0,
              "model_id": "02a475fec83e4a648ef55a44521af2ab"
            }
          },
          "metadata": {
            "application/vnd.jupyter.widget-view+json": {
              "colab": {
                "custom_widget_manager": {
                  "url": "https://ssl.gstatic.com/colaboratory-static/widgets/colab-cdn-widget-manager/2b70e893a8ba7c0f/manager.min.js"
                }
              }
            }
          }
        },
        {
          "output_type": "display_data",
          "data": {
            "text/plain": [
              "<IPython.core.display.HTML object>"
            ],
            "text/html": []
          },
          "metadata": {}
        }
      ]
    },
    {
      "cell_type": "code",
      "source": [
        "evaluate_model(xgb)"
      ],
      "metadata": {
        "colab": {
          "base_uri": "https://localhost:8080/",
          "height": 609,
          "referenced_widgets": [
            "e276a0df047e4e41a83c21bbec53a122",
            "2e98f14939de4900908474da98e1a469",
            "ea654ef121544c698cb3e761ec10d906",
            "15ef2feb369e4fec84744acd55b1e760",
            "ea9869d84ce542c58ad7dc19c3c1d077",
            "41fb9601985d4c269ff71d0cc3e56805",
            "8ac10e673535427db716011ed79b2771"
          ]
        },
        "id": "oVzlTmPsEdo-",
        "outputId": "53ee2f2d-e477-474b-9fdc-5428d6458442"
      },
      "execution_count": 29,
      "outputs": [
        {
          "output_type": "display_data",
          "data": {
            "text/plain": [
              "interactive(children=(ToggleButtons(description='Plot Type:', icons=('',), options=(('Pipeline Plot', 'pipelin…"
            ],
            "application/vnd.jupyter.widget-view+json": {
              "version_major": 2,
              "version_minor": 0,
              "model_id": "e276a0df047e4e41a83c21bbec53a122"
            }
          },
          "metadata": {
            "application/vnd.jupyter.widget-view+json": {
              "colab": {
                "custom_widget_manager": {
                  "url": "https://ssl.gstatic.com/colaboratory-static/widgets/colab-cdn-widget-manager/2b70e893a8ba7c0f/manager.min.js"
                }
              }
            }
          }
        }
      ]
    },
    {
      "cell_type": "code",
      "source": [
        "plot_model(xgb, plot = 'feature_all')"
      ],
      "metadata": {
        "colab": {
          "base_uri": "https://localhost:8080/",
          "height": 485
        },
        "id": "dQtW0fNOZpag",
        "outputId": "d3c3d398-8d4d-463c-8cfe-951ed6bc47af"
      },
      "execution_count": 34,
      "outputs": [
        {
          "output_type": "display_data",
          "data": {
            "text/plain": [
              "<IPython.core.display.HTML object>"
            ],
            "text/html": []
          },
          "metadata": {}
        },
        {
          "output_type": "display_data",
          "data": {
            "text/plain": [
              "<Figure size 800x500 with 1 Axes>"
            ],
            "image/png": "[encoded data removed]"
          },
          "metadata": {}
        }
      ]
    },
    {
      "cell_type": "code",
      "source": [
        "interpret_model(xgb,use_train_data=True)"
      ],
      "metadata": {
        "colab": {
          "base_uri": "https://localhost:8080/",
          "height": 911
        },
        "id": "nWmcjguaDa0d",
        "outputId": "a06ec04d-9f61-44fc-bd38-9084d2d016a8"
      },
      "execution_count": 35,
      "outputs": [
        {
          "output_type": "display_data",
          "data": {
            "text/plain": [
              "<Figure size 800x910 with 2 Axes>"
            ],
            "image/png": "[encoded data removed]"
          },
          "metadata": {}
        }
      ]
    },
    {
      "cell_type": "markdown",
      "source": [
        "\n",
        "\n",
        "---\n",
        "\n",
        "\n",
        "\n",
        "---\n",
        "\n"
      ],
      "metadata": {
        "id": "ZuzEubebaLxW"
      }
    },
    {
      "cell_type": "markdown",
      "source": [
        "**Gradient Boosting Regressor**"
      ],
      "metadata": {
        "id": "fJXRWnvfLyUf"
      }
    },
    {
      "cell_type": "code",
      "source": [
        "gbr = create_model('gbr',return_train_score=True,cross_validation=False)"
      ],
      "metadata": {
        "colab": {
          "base_uri": "https://localhost:8080/",
          "height": 112,
          "referenced_widgets": [
            "6e88742fc8fb4dc4b5048be86ba8d3fe",
            "fbcbd02814f24bfc885aa8c8373b0a0b",
            "edf96fbc398643ecabe1bd4d2ac96ae8",
            "90ac56be76e74f45993da7e3e8a2481c",
            "e5925d7b96204ce981b963df82d3e7bf",
            "a4ae7af3655642d0a155637ba7eb1d47",
            "eb3eb3d78752462f8f7c3cd8e9f3acc2",
            "ce3b922c626e4af3b317eac6e96ba622",
            "62f3d3c7832f44cb907cfa24b9f0d182",
            "0401d48d19214e4193d18be32ad1f46d",
            "acaa453cf8cc4d32a66e83a6d6bcc3a6"
          ]
        },
        "id": "_xAm7UzmL3yY",
        "outputId": "570705f8-b12e-4423-ebc0-70391d0994f1"
      },
      "execution_count": 32,
      "outputs": [
        {
          "output_type": "display_data",
          "data": {
            "text/plain": [
              "<IPython.core.display.HTML object>"
            ],
            "text/html": []
          },
          "metadata": {}
        },
        {
          "output_type": "display_data",
          "data": {
            "text/plain": [
              "<pandas.io.formats.style.Styler at 0x7913bddca620>"
            ],
            "text/html": [
              "<style type=\"text/css\">\n",
              "</style>\n",
              "<table id=\"T_37bbb\" class=\"dataframe\">\n",
              "  <thead>\n",
              "    <tr>\n",
              "      <th class=\"blank level0\" >&nbsp;</th>\n",
              "      <th id=\"T_37bbb_level0_col0\" class=\"col_heading level0 col0\" >MAE</th>\n",
              "      <th id=\"T_37bbb_level0_col1\" class=\"col_heading level0 col1\" >MSE</th>\n",
              "      <th id=\"T_37bbb_level0_col2\" class=\"col_heading level0 col2\" >RMSE</th>\n",
              "      <th id=\"T_37bbb_level0_col3\" class=\"col_heading level0 col3\" >R2</th>\n",
              "      <th id=\"T_37bbb_level0_col4\" class=\"col_heading level0 col4\" >RMSLE</th>\n",
              "      <th id=\"T_37bbb_level0_col5\" class=\"col_heading level0 col5\" >MAPE</th>\n",
              "    </tr>\n",
              "  </thead>\n",
              "  <tbody>\n",
              "    <tr>\n",
              "      <th id=\"T_37bbb_level0_row0\" class=\"row_heading level0 row0\" >Test</th>\n",
              "      <td id=\"T_37bbb_row0_col0\" class=\"data row0 col0\" >0.1378</td>\n",
              "      <td id=\"T_37bbb_row0_col1\" class=\"data row0 col1\" >0.0255</td>\n",
              "      <td id=\"T_37bbb_row0_col2\" class=\"data row0 col2\" >0.1598</td>\n",
              "      <td id=\"T_37bbb_row0_col3\" class=\"data row0 col3\" >0.9522</td>\n",
              "      <td id=\"T_37bbb_row0_col4\" class=\"data row0 col4\" >0.0682</td>\n",
              "      <td id=\"T_37bbb_row0_col5\" class=\"data row0 col5\" >0.1226</td>\n",
              "    </tr>\n",
              "    <tr>\n",
              "      <th id=\"T_37bbb_level0_row1\" class=\"row_heading level0 row1\" >Train</th>\n",
              "      <td id=\"T_37bbb_row1_col0\" class=\"data row1 col0\" >0.0883</td>\n",
              "      <td id=\"T_37bbb_row1_col1\" class=\"data row1 col1\" >0.0194</td>\n",
              "      <td id=\"T_37bbb_row1_col2\" class=\"data row1 col2\" >0.1392</td>\n",
              "      <td id=\"T_37bbb_row1_col3\" class=\"data row1 col3\" >0.9593</td>\n",
              "      <td id=\"T_37bbb_row1_col4\" class=\"data row1 col4\" >0.0565</td>\n",
              "      <td id=\"T_37bbb_row1_col5\" class=\"data row1 col5\" >0.0746</td>\n",
              "    </tr>\n",
              "  </tbody>\n",
              "</table>\n"
            ]
          },
          "metadata": {}
        },
        {
          "output_type": "display_data",
          "data": {
            "text/plain": [
              "Processing:   0%|          | 0/4 [00:00<?, ?it/s]"
            ],
            "application/vnd.jupyter.widget-view+json": {
              "version_major": 2,
              "version_minor": 0,
              "model_id": "6e88742fc8fb4dc4b5048be86ba8d3fe"
            }
          },
          "metadata": {
            "application/vnd.jupyter.widget-view+json": {
              "colab": {
                "custom_widget_manager": {
                  "url": "https://ssl.gstatic.com/colaboratory-static/widgets/colab-cdn-widget-manager/2b70e893a8ba7c0f/manager.min.js"
                }
              }
            }
          }
        },
        {
          "output_type": "display_data",
          "data": {
            "text/plain": [
              "<IPython.core.display.HTML object>"
            ],
            "text/html": []
          },
          "metadata": {}
        }
      ]
    },
    {
      "cell_type": "code",
      "source": [
        "evaluate_model(gbr)"
      ],
      "metadata": {
        "colab": {
          "base_uri": "https://localhost:8080/",
          "height": 609,
          "referenced_widgets": [
            "bab9704553514a4290b68914e9fe0e85",
            "c0c474e01cce470b826b50d144bc8122",
            "7d5216948bde439ea9b9e51f60e5bc1f",
            "ccc0a1e12a844dcdb1e61233864b61ca",
            "a0b4f16e28394d6abbaba0279ebc7329",
            "9fb7a98484c241b39e4ef80b45a17d7f",
            "87e6e571a9094e0592b816a38e05e1d9"
          ]
        },
        "id": "COnR99w4L6JL",
        "outputId": "88c028f0-773e-4e41-e4ce-18ab1bdb98bc"
      },
      "execution_count": 33,
      "outputs": [
        {
          "output_type": "display_data",
          "data": {
            "text/plain": [
              "interactive(children=(ToggleButtons(description='Plot Type:', icons=('',), options=(('Pipeline Plot', 'pipelin…"
            ],
            "application/vnd.jupyter.widget-view+json": {
              "version_major": 2,
              "version_minor": 0,
              "model_id": "bab9704553514a4290b68914e9fe0e85"
            }
          },
          "metadata": {
            "application/vnd.jupyter.widget-view+json": {
              "colab": {
                "custom_widget_manager": {
                  "url": "https://ssl.gstatic.com/colaboratory-static/widgets/colab-cdn-widget-manager/2b70e893a8ba7c0f/manager.min.js"
                }
              }
            }
          }
        }
      ]
    },
    {
      "cell_type": "code",
      "source": [
        "plot_model(gbr, plot = 'feature_all')"
      ],
      "metadata": {
        "colab": {
          "base_uri": "https://localhost:8080/",
          "height": 485
        },
        "id": "ls7elD8oaFnM",
        "outputId": "38e598a7-ac58-48f2-b0ae-26e7b419c09d"
      },
      "execution_count": 38,
      "outputs": [
        {
          "output_type": "display_data",
          "data": {
            "text/plain": [
              "<IPython.core.display.HTML object>"
            ],
            "text/html": []
          },
          "metadata": {}
        },
        {
          "output_type": "display_data",
          "data": {
            "text/plain": [
              "<Figure size 800x500 with 1 Axes>"
            ],
            "image/png": "[encoded data removed]"
          },
          "metadata": {}
        }
      ]
    }
  ]
}