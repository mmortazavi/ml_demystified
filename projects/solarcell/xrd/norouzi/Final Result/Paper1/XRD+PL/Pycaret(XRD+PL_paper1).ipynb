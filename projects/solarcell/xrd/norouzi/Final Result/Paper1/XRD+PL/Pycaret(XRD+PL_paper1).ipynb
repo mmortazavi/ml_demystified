{
  "nbformat": 4,
  "nbformat_minor": 0,
  "metadata": {
    "colab": {
      "provenance": []
    },
    "kernelspec": {
      "name": "python3",
      "display_name": "Python 3"
    },
    "language_info": {
      "name": "python"
    },
    "widgets": {
      "application/vnd.jupyter.widget-state+json": {
        "798254a3dabd45baaaa6a26d15ce3791": {
          "model_module": "@jupyter-widgets/controls",
          "model_name": "HBoxModel",
          "model_module_version": "1.5.0",
          "state": {
            "_dom_classes": [],
            "_model_module": "@jupyter-widgets/controls",
            "_model_module_version": "1.5.0",
            "_model_name": "HBoxModel",
            "_view_count": null,
            "_view_module": "@jupyter-widgets/controls",
            "_view_module_version": "1.5.0",
            "_view_name": "HBoxView",
            "box_style": "",
            "children": [
              "IPY_MODEL_e1ca6ccddfb0432ebe1c5bf35db9c494",
              "IPY_MODEL_506417b42f0942c8b079c7ccfa2557ab",
              "IPY_MODEL_f567cb3035a3403ca905d4ce8fe001eb"
            ],
            "layout": "IPY_MODEL_30282d9fd2614c03a3f9108d1dfd361b"
          }
        },
        "e1ca6ccddfb0432ebe1c5bf35db9c494": {
          "model_module": "@jupyter-widgets/controls",
          "model_name": "HTMLModel",
          "model_module_version": "1.5.0",
          "state": {
            "_dom_classes": [],
            "_model_module": "@jupyter-widgets/controls",
            "_model_module_version": "1.5.0",
            "_model_name": "HTMLModel",
            "_view_count": null,
            "_view_module": "@jupyter-widgets/controls",
            "_view_module_version": "1.5.0",
            "_view_name": "HTMLView",
            "description": "",
            "description_tooltip": null,
            "layout": "IPY_MODEL_e263c02c0a35460e9954fcc60c584de6",
            "placeholder": "​",
            "style": "IPY_MODEL_602dd7a8469b48429705d006891592d6",
            "value": "Processing: 100%"
          }
        },
        "506417b42f0942c8b079c7ccfa2557ab": {
          "model_module": "@jupyter-widgets/controls",
          "model_name": "FloatProgressModel",
          "model_module_version": "1.5.0",
          "state": {
            "_dom_classes": [],
            "_model_module": "@jupyter-widgets/controls",
            "_model_module_version": "1.5.0",
            "_model_name": "FloatProgressModel",
            "_view_count": null,
            "_view_module": "@jupyter-widgets/controls",
            "_view_module_version": "1.5.0",
            "_view_name": "ProgressView",
            "bar_style": "",
            "description": "",
            "description_tooltip": null,
            "layout": "IPY_MODEL_70e3ccae512840cd99a3cf52199dbf91",
            "max": 81,
            "min": 0,
            "orientation": "horizontal",
            "style": "IPY_MODEL_84ada6e8d0ee4d67aac33e25661facc4",
            "value": 81
          }
        },
        "f567cb3035a3403ca905d4ce8fe001eb": {
          "model_module": "@jupyter-widgets/controls",
          "model_name": "HTMLModel",
          "model_module_version": "1.5.0",
          "state": {
            "_dom_classes": [],
            "_model_module": "@jupyter-widgets/controls",
            "_model_module_version": "1.5.0",
            "_model_name": "HTMLModel",
            "_view_count": null,
            "_view_module": "@jupyter-widgets/controls",
            "_view_module_version": "1.5.0",
            "_view_name": "HTMLView",
            "description": "",
            "description_tooltip": null,
            "layout": "IPY_MODEL_676a4430f42c450cbf835cb08bea229a",
            "placeholder": "​",
            "style": "IPY_MODEL_1f430adad958473e8a0c2323aa9f1702",
            "value": " 81/81 [00:15&lt;00:00,  5.33it/s]"
          }
        },
        "30282d9fd2614c03a3f9108d1dfd361b": {
          "model_module": "@jupyter-widgets/base",
          "model_name": "LayoutModel",
          "model_module_version": "1.2.0",
          "state": {
            "_model_module": "@jupyter-widgets/base",
            "_model_module_version": "1.2.0",
            "_model_name": "LayoutModel",
            "_view_count": null,
            "_view_module": "@jupyter-widgets/base",
            "_view_module_version": "1.2.0",
            "_view_name": "LayoutView",
            "align_content": null,
            "align_items": null,
            "align_self": null,
            "border": null,
            "bottom": null,
            "display": null,
            "flex": null,
            "flex_flow": null,
            "grid_area": null,
            "grid_auto_columns": null,
            "grid_auto_flow": null,
            "grid_auto_rows": null,
            "grid_column": null,
            "grid_gap": null,
            "grid_row": null,
            "grid_template_areas": null,
            "grid_template_columns": null,
            "grid_template_rows": null,
            "height": null,
            "justify_content": null,
            "justify_items": null,
            "left": null,
            "margin": null,
            "max_height": null,
            "max_width": null,
            "min_height": null,
            "min_width": null,
            "object_fit": null,
            "object_position": null,
            "order": null,
            "overflow": null,
            "overflow_x": null,
            "overflow_y": null,
            "padding": null,
            "right": null,
            "top": null,
            "visibility": "hidden",
            "width": null
          }
        },
        "e263c02c0a35460e9954fcc60c584de6": {
          "model_module": "@jupyter-widgets/base",
          "model_name": "LayoutModel",
          "model_module_version": "1.2.0",
          "state": {
            "_model_module": "@jupyter-widgets/base",
            "_model_module_version": "1.2.0",
            "_model_name": "LayoutModel",
            "_view_count": null,
            "_view_module": "@jupyter-widgets/base",
            "_view_module_version": "1.2.0",
            "_view_name": "LayoutView",
            "align_content": null,
            "align_items": null,
            "align_self": null,
            "border": null,
            "bottom": null,
            "display": null,
            "flex": null,
            "flex_flow": null,
            "grid_area": null,
            "grid_auto_columns": null,
            "grid_auto_flow": null,
            "grid_auto_rows": null,
            "grid_column": null,
            "grid_gap": null,
            "grid_row": null,
            "grid_template_areas": null,
            "grid_template_columns": null,
            "grid_template_rows": null,
            "height": null,
            "justify_content": null,
            "justify_items": null,
            "left": null,
            "margin": null,
            "max_height": null,
            "max_width": null,
            "min_height": null,
            "min_width": null,
            "object_fit": null,
            "object_position": null,
            "order": null,
            "overflow": null,
            "overflow_x": null,
            "overflow_y": null,
            "padding": null,
            "right": null,
            "top": null,
            "visibility": null,
            "width": null
          }
        },
        "602dd7a8469b48429705d006891592d6": {
          "model_module": "@jupyter-widgets/controls",
          "model_name": "DescriptionStyleModel",
          "model_module_version": "1.5.0",
          "state": {
            "_model_module": "@jupyter-widgets/controls",
            "_model_module_version": "1.5.0",
            "_model_name": "DescriptionStyleModel",
            "_view_count": null,
            "_view_module": "@jupyter-widgets/base",
            "_view_module_version": "1.2.0",
            "_view_name": "StyleView",
            "description_width": ""
          }
        },
        "70e3ccae512840cd99a3cf52199dbf91": {
          "model_module": "@jupyter-widgets/base",
          "model_name": "LayoutModel",
          "model_module_version": "1.2.0",
          "state": {
            "_model_module": "@jupyter-widgets/base",
            "_model_module_version": "1.2.0",
            "_model_name": "LayoutModel",
            "_view_count": null,
            "_view_module": "@jupyter-widgets/base",
            "_view_module_version": "1.2.0",
            "_view_name": "LayoutView",
            "align_content": null,
            "align_items": null,
            "align_self": null,
            "border": null,
            "bottom": null,
            "display": null,
            "flex": null,
            "flex_flow": null,
            "grid_area": null,
            "grid_auto_columns": null,
            "grid_auto_flow": null,
            "grid_auto_rows": null,
            "grid_column": null,
            "grid_gap": null,
            "grid_row": null,
            "grid_template_areas": null,
            "grid_template_columns": null,
            "grid_template_rows": null,
            "height": null,
            "justify_content": null,
            "justify_items": null,
            "left": null,
            "margin": null,
            "max_height": null,
            "max_width": null,
            "min_height": null,
            "min_width": null,
            "object_fit": null,
            "object_position": null,
            "order": null,
            "overflow": null,
            "overflow_x": null,
            "overflow_y": null,
            "padding": null,
            "right": null,
            "top": null,
            "visibility": null,
            "width": null
          }
        },
        "84ada6e8d0ee4d67aac33e25661facc4": {
          "model_module": "@jupyter-widgets/controls",
          "model_name": "ProgressStyleModel",
          "model_module_version": "1.5.0",
          "state": {
            "_model_module": "@jupyter-widgets/controls",
            "_model_module_version": "1.5.0",
            "_model_name": "ProgressStyleModel",
            "_view_count": null,
            "_view_module": "@jupyter-widgets/base",
            "_view_module_version": "1.2.0",
            "_view_name": "StyleView",
            "bar_color": null,
            "description_width": ""
          }
        },
        "676a4430f42c450cbf835cb08bea229a": {
          "model_module": "@jupyter-widgets/base",
          "model_name": "LayoutModel",
          "model_module_version": "1.2.0",
          "state": {
            "_model_module": "@jupyter-widgets/base",
            "_model_module_version": "1.2.0",
            "_model_name": "LayoutModel",
            "_view_count": null,
            "_view_module": "@jupyter-widgets/base",
            "_view_module_version": "1.2.0",
            "_view_name": "LayoutView",
            "align_content": null,
            "align_items": null,
            "align_self": null,
            "border": null,
            "bottom": null,
            "display": null,
            "flex": null,
            "flex_flow": null,
            "grid_area": null,
            "grid_auto_columns": null,
            "grid_auto_flow": null,
            "grid_auto_rows": null,
            "grid_column": null,
            "grid_gap": null,
            "grid_row": null,
            "grid_template_areas": null,
            "grid_template_columns": null,
            "grid_template_rows": null,
            "height": null,
            "justify_content": null,
            "justify_items": null,
            "left": null,
            "margin": null,
            "max_height": null,
            "max_width": null,
            "min_height": null,
            "min_width": null,
            "object_fit": null,
            "object_position": null,
            "order": null,
            "overflow": null,
            "overflow_x": null,
            "overflow_y": null,
            "padding": null,
            "right": null,
            "top": null,
            "visibility": null,
            "width": null
          }
        },
        "1f430adad958473e8a0c2323aa9f1702": {
          "model_module": "@jupyter-widgets/controls",
          "model_name": "DescriptionStyleModel",
          "model_module_version": "1.5.0",
          "state": {
            "_model_module": "@jupyter-widgets/controls",
            "_model_module_version": "1.5.0",
            "_model_name": "DescriptionStyleModel",
            "_view_count": null,
            "_view_module": "@jupyter-widgets/base",
            "_view_module_version": "1.2.0",
            "_view_name": "StyleView",
            "description_width": ""
          }
        },
        "dd8288c04ad84f77ba1a81688b04072a": {
          "model_module": "@jupyter-widgets/controls",
          "model_name": "HBoxModel",
          "model_module_version": "1.5.0",
          "state": {
            "_dom_classes": [],
            "_model_module": "@jupyter-widgets/controls",
            "_model_module_version": "1.5.0",
            "_model_name": "HBoxModel",
            "_view_count": null,
            "_view_module": "@jupyter-widgets/controls",
            "_view_module_version": "1.5.0",
            "_view_name": "HBoxView",
            "box_style": "",
            "children": [
              "IPY_MODEL_6a539e31655b4ec7b6e3ce9c023f1112",
              "IPY_MODEL_f3b06b9931f24ef9813ebb196efcf083",
              "IPY_MODEL_af15a9d58105434ea8a763bde783d705"
            ],
            "layout": "IPY_MODEL_940288cbf8f342be921964fe28a50e05"
          }
        },
        "6a539e31655b4ec7b6e3ce9c023f1112": {
          "model_module": "@jupyter-widgets/controls",
          "model_name": "HTMLModel",
          "model_module_version": "1.5.0",
          "state": {
            "_dom_classes": [],
            "_model_module": "@jupyter-widgets/controls",
            "_model_module_version": "1.5.0",
            "_model_name": "HTMLModel",
            "_view_count": null,
            "_view_module": "@jupyter-widgets/controls",
            "_view_module_version": "1.5.0",
            "_view_name": "HTMLView",
            "description": "",
            "description_tooltip": null,
            "layout": "IPY_MODEL_0b364bb05ab34467aae230634800edfc",
            "placeholder": "​",
            "style": "IPY_MODEL_d21f3dbe4a0f44bfa1eceaf2acf9e42c",
            "value": "Processing:  75%"
          }
        },
        "f3b06b9931f24ef9813ebb196efcf083": {
          "model_module": "@jupyter-widgets/controls",
          "model_name": "FloatProgressModel",
          "model_module_version": "1.5.0",
          "state": {
            "_dom_classes": [],
            "_model_module": "@jupyter-widgets/controls",
            "_model_module_version": "1.5.0",
            "_model_name": "FloatProgressModel",
            "_view_count": null,
            "_view_module": "@jupyter-widgets/controls",
            "_view_module_version": "1.5.0",
            "_view_name": "ProgressView",
            "bar_style": "danger",
            "description": "",
            "description_tooltip": null,
            "layout": "IPY_MODEL_1ce6381d0771427c8108afbb687ae33e",
            "max": 4,
            "min": 0,
            "orientation": "horizontal",
            "style": "IPY_MODEL_99f6b7b8a6324e0ab859d2479494c514",
            "value": 3
          }
        },
        "af15a9d58105434ea8a763bde783d705": {
          "model_module": "@jupyter-widgets/controls",
          "model_name": "HTMLModel",
          "model_module_version": "1.5.0",
          "state": {
            "_dom_classes": [],
            "_model_module": "@jupyter-widgets/controls",
            "_model_module_version": "1.5.0",
            "_model_name": "HTMLModel",
            "_view_count": null,
            "_view_module": "@jupyter-widgets/controls",
            "_view_module_version": "1.5.0",
            "_view_name": "HTMLView",
            "description": "",
            "description_tooltip": null,
            "layout": "IPY_MODEL_57cc6bc238044ec99a9e12084d68d4cd",
            "placeholder": "​",
            "style": "IPY_MODEL_5b453b5a0f5d40e28f34ef8d3b2d8b6c",
            "value": " 3/4 [00:00&lt;00:00,  3.83it/s]"
          }
        },
        "940288cbf8f342be921964fe28a50e05": {
          "model_module": "@jupyter-widgets/base",
          "model_name": "LayoutModel",
          "model_module_version": "1.2.0",
          "state": {
            "_model_module": "@jupyter-widgets/base",
            "_model_module_version": "1.2.0",
            "_model_name": "LayoutModel",
            "_view_count": null,
            "_view_module": "@jupyter-widgets/base",
            "_view_module_version": "1.2.0",
            "_view_name": "LayoutView",
            "align_content": null,
            "align_items": null,
            "align_self": null,
            "border": null,
            "bottom": null,
            "display": null,
            "flex": null,
            "flex_flow": null,
            "grid_area": null,
            "grid_auto_columns": null,
            "grid_auto_flow": null,
            "grid_auto_rows": null,
            "grid_column": null,
            "grid_gap": null,
            "grid_row": null,
            "grid_template_areas": null,
            "grid_template_columns": null,
            "grid_template_rows": null,
            "height": null,
            "justify_content": null,
            "justify_items": null,
            "left": null,
            "margin": null,
            "max_height": null,
            "max_width": null,
            "min_height": null,
            "min_width": null,
            "object_fit": null,
            "object_position": null,
            "order": null,
            "overflow": null,
            "overflow_x": null,
            "overflow_y": null,
            "padding": null,
            "right": null,
            "top": null,
            "visibility": null,
            "width": null
          }
        },
        "0b364bb05ab34467aae230634800edfc": {
          "model_module": "@jupyter-widgets/base",
          "model_name": "LayoutModel",
          "model_module_version": "1.2.0",
          "state": {
            "_model_module": "@jupyter-widgets/base",
            "_model_module_version": "1.2.0",
            "_model_name": "LayoutModel",
            "_view_count": null,
            "_view_module": "@jupyter-widgets/base",
            "_view_module_version": "1.2.0",
            "_view_name": "LayoutView",
            "align_content": null,
            "align_items": null,
            "align_self": null,
            "border": null,
            "bottom": null,
            "display": null,
            "flex": null,
            "flex_flow": null,
            "grid_area": null,
            "grid_auto_columns": null,
            "grid_auto_flow": null,
            "grid_auto_rows": null,
            "grid_column": null,
            "grid_gap": null,
            "grid_row": null,
            "grid_template_areas": null,
            "grid_template_columns": null,
            "grid_template_rows": null,
            "height": null,
            "justify_content": null,
            "justify_items": null,
            "left": null,
            "margin": null,
            "max_height": null,
            "max_width": null,
            "min_height": null,
            "min_width": null,
            "object_fit": null,
            "object_position": null,
            "order": null,
            "overflow": null,
            "overflow_x": null,
            "overflow_y": null,
            "padding": null,
            "right": null,
            "top": null,
            "visibility": null,
            "width": null
          }
        },
        "d21f3dbe4a0f44bfa1eceaf2acf9e42c": {
          "model_module": "@jupyter-widgets/controls",
          "model_name": "DescriptionStyleModel",
          "model_module_version": "1.5.0",
          "state": {
            "_model_module": "@jupyter-widgets/controls",
            "_model_module_version": "1.5.0",
            "_model_name": "DescriptionStyleModel",
            "_view_count": null,
            "_view_module": "@jupyter-widgets/base",
            "_view_module_version": "1.2.0",
            "_view_name": "StyleView",
            "description_width": ""
          }
        },
        "1ce6381d0771427c8108afbb687ae33e": {
          "model_module": "@jupyter-widgets/base",
          "model_name": "LayoutModel",
          "model_module_version": "1.2.0",
          "state": {
            "_model_module": "@jupyter-widgets/base",
            "_model_module_version": "1.2.0",
            "_model_name": "LayoutModel",
            "_view_count": null,
            "_view_module": "@jupyter-widgets/base",
            "_view_module_version": "1.2.0",
            "_view_name": "LayoutView",
            "align_content": null,
            "align_items": null,
            "align_self": null,
            "border": null,
            "bottom": null,
            "display": null,
            "flex": null,
            "flex_flow": null,
            "grid_area": null,
            "grid_auto_columns": null,
            "grid_auto_flow": null,
            "grid_auto_rows": null,
            "grid_column": null,
            "grid_gap": null,
            "grid_row": null,
            "grid_template_areas": null,
            "grid_template_columns": null,
            "grid_template_rows": null,
            "height": null,
            "justify_content": null,
            "justify_items": null,
            "left": null,
            "margin": null,
            "max_height": null,
            "max_width": null,
            "min_height": null,
            "min_width": null,
            "object_fit": null,
            "object_position": null,
            "order": null,
            "overflow": null,
            "overflow_x": null,
            "overflow_y": null,
            "padding": null,
            "right": null,
            "top": null,
            "visibility": null,
            "width": null
          }
        },
        "99f6b7b8a6324e0ab859d2479494c514": {
          "model_module": "@jupyter-widgets/controls",
          "model_name": "ProgressStyleModel",
          "model_module_version": "1.5.0",
          "state": {
            "_model_module": "@jupyter-widgets/controls",
            "_model_module_version": "1.5.0",
            "_model_name": "ProgressStyleModel",
            "_view_count": null,
            "_view_module": "@jupyter-widgets/base",
            "_view_module_version": "1.2.0",
            "_view_name": "StyleView",
            "bar_color": null,
            "description_width": ""
          }
        },
        "57cc6bc238044ec99a9e12084d68d4cd": {
          "model_module": "@jupyter-widgets/base",
          "model_name": "LayoutModel",
          "model_module_version": "1.2.0",
          "state": {
            "_model_module": "@jupyter-widgets/base",
            "_model_module_version": "1.2.0",
            "_model_name": "LayoutModel",
            "_view_count": null,
            "_view_module": "@jupyter-widgets/base",
            "_view_module_version": "1.2.0",
            "_view_name": "LayoutView",
            "align_content": null,
            "align_items": null,
            "align_self": null,
            "border": null,
            "bottom": null,
            "display": null,
            "flex": null,
            "flex_flow": null,
            "grid_area": null,
            "grid_auto_columns": null,
            "grid_auto_flow": null,
            "grid_auto_rows": null,
            "grid_column": null,
            "grid_gap": null,
            "grid_row": null,
            "grid_template_areas": null,
            "grid_template_columns": null,
            "grid_template_rows": null,
            "height": null,
            "justify_content": null,
            "justify_items": null,
            "left": null,
            "margin": null,
            "max_height": null,
            "max_width": null,
            "min_height": null,
            "min_width": null,
            "object_fit": null,
            "object_position": null,
            "order": null,
            "overflow": null,
            "overflow_x": null,
            "overflow_y": null,
            "padding": null,
            "right": null,
            "top": null,
            "visibility": null,
            "width": null
          }
        },
        "5b453b5a0f5d40e28f34ef8d3b2d8b6c": {
          "model_module": "@jupyter-widgets/controls",
          "model_name": "DescriptionStyleModel",
          "model_module_version": "1.5.0",
          "state": {
            "_model_module": "@jupyter-widgets/controls",
            "_model_module_version": "1.5.0",
            "_model_name": "DescriptionStyleModel",
            "_view_count": null,
            "_view_module": "@jupyter-widgets/base",
            "_view_module_version": "1.2.0",
            "_view_name": "StyleView",
            "description_width": ""
          }
        },
        "f47aab9723d5498d9e4af9071cebab25": {
          "model_module": "@jupyter-widgets/controls",
          "model_name": "VBoxModel",
          "model_module_version": "1.5.0",
          "state": {
            "_dom_classes": [
              "widget-interact"
            ],
            "_model_module": "@jupyter-widgets/controls",
            "_model_module_version": "1.5.0",
            "_model_name": "VBoxModel",
            "_view_count": null,
            "_view_module": "@jupyter-widgets/controls",
            "_view_module_version": "1.5.0",
            "_view_name": "VBoxView",
            "box_style": "",
            "children": [
              "IPY_MODEL_bbaefc2f4732403b9f0487d174241405",
              "IPY_MODEL_4232b41f17c64c34b466d884c61bf68d"
            ],
            "layout": "IPY_MODEL_5ee2926e6aaf40cca2235c9e12d37a03"
          }
        },
        "bbaefc2f4732403b9f0487d174241405": {
          "model_module": "@jupyter-widgets/controls",
          "model_name": "ToggleButtonsModel",
          "model_module_version": "1.5.0",
          "state": {
            "_dom_classes": [],
            "_model_module": "@jupyter-widgets/controls",
            "_model_module_version": "1.5.0",
            "_model_name": "ToggleButtonsModel",
            "_options_labels": [
              "Pipeline Plot",
              "Hyperparameters",
              "Residuals",
              "Prediction Error",
              "Cooks Distance",
              "Feature Selection",
              "Learning Curve",
              "Manifold Learning",
              "Validation Curve",
              "Feature Importance",
              "Feature Importance (All)",
              "Decision Tree",
              "Interactive Residuals"
            ],
            "_view_count": null,
            "_view_module": "@jupyter-widgets/controls",
            "_view_module_version": "1.5.0",
            "_view_name": "ToggleButtonsView",
            "button_style": "",
            "description": "Plot Type:",
            "description_tooltip": null,
            "disabled": false,
            "icons": [
              ""
            ],
            "index": 2,
            "layout": "IPY_MODEL_8b08fa70a657497a82a0f241183f408c",
            "style": "IPY_MODEL_ef9a910bd32f4e1a8c78909f8ce79192",
            "tooltips": []
          }
        },
        "4232b41f17c64c34b466d884c61bf68d": {
          "model_module": "@jupyter-widgets/output",
          "model_name": "OutputModel",
          "model_module_version": "1.0.0",
          "state": {
            "_dom_classes": [],
            "_model_module": "@jupyter-widgets/output",
            "_model_module_version": "1.0.0",
            "_model_name": "OutputModel",
            "_view_count": null,
            "_view_module": "@jupyter-widgets/output",
            "_view_module_version": "1.0.0",
            "_view_name": "OutputView",
            "layout": "IPY_MODEL_ec6b0bc9945e465c99b26754d77baed8",
            "msg_id": "",
            "outputs": [
              {
                "output_type": "display_data",
                "data": {
                  "text/plain": "<Figure size 800x550 with 2 Axes>",
                  "image/png": "iVBORw0KGgoAAAANSUhEUgAAAu0AAAH7CAYAAAB42aF8AAAAOXRFWHRTb2Z0d2FyZQBNYXRwbG90bGliIHZlcnNpb24zLjcuMSwgaHR0cHM6Ly9tYXRwbG90bGliLm9yZy/bCgiHAAAACXBIWXMAAA9hAAAPYQGoP6dpAABrGUlEQVR4nO3dfXzN9f/H8ec5245txphrcs1mbIZILkqhSOUqinKZrksRmi4kunARX6ELqchVEkkl30J0IbpCzEyYychVtmF2vfP5/eG383XaxjZnO59tj/vt5mb7nPf5fF6fz/vsnOd5n/fncyyGYRgCAAAAYFpWdxcAAAAA4PII7QAAAIDJEdoBAAAAkyO0AwAAACZHaAcAAABMjtAOAAAAmByhHQAAADA5QjsAAABgcoR2AAAAwOQI7UAOxo8fr6CgoGz/WrdurREjRmj79u0u3+bq1asVFBSk6OjoXNukpqYqKChIc+fOdfn2x48frw4dOlzVOqKjo9W7d2+FhIRo/vz5LqrsovT0dPXt21fdunVTSkpKtttnzZqlZs2aKSIiwmn5X3/9pRdffFFdunRRaGiomjdvrjvuuEOzZ89WQkKCU9usPrj033XXXad+/frpk08+0aVfIP3LL7/k+BgJCQnRHXfcoQULFigzM9Olx6AkyvpbGz9+fK5tHnvsMZc97gv6NxQUFKQZM2Zc9fYBoKA83V0AYFYBAQH64osvHL/b7XbFxsZq3rx5Gjp0qD766CM1b97cZdvr0aOHbrjhBgUEBLhsnUVtyZIlOnjwoJYvX6569eq5dN1eXl56/fXX1adPH82cOVPPP/+847aoqCi9//77euSRRxQaGupYvnnzZo0aNUpt2rTRSy+9pAYNGujChQvavn273n77ba1du1bLli1T1apVnba1bNky1a1bV5IUHx+vzz77TBMmTFBSUpKGDRvm1HbmzJlq27at4/eEhARt3rxZM2bM0MmTJ/Xss8+69DiURL6+vvrmm280YcIElS1b1um2uLg4/fDDD/Lx8XFTdQBgDoy0A7mwWq2qUqWK41+1atXUunVrzZ07Vz4+PlqyZIlLt+ft7a0qVarIw8PDpestSufOnVPVqlUVGhqqcuXKuXz9DRs21JgxY7RkyRL9+uuvkqSMjAw999xzCgoK0qOPPupoe+rUKY0dO1Zdu3bVe++9pxtuuEG1atVSYGCgBg4cqOXLl+v8+fP66quvsm2nYsWKjn4PDAxUeHi4GjRooE2bNmVrW758eafHSePGjfXQQw+pX79+WrZsmZKTk11+HEqa4OBgeXp66r///W+229auXau6desW6zezAOAKhHYgn3x8fFS3bl2dOHHCscwwDH344Yfq1auXWrRoofbt2+vFF1/UuXPnHG2OHTumUaNGqUOHDgoNDVXXrl01d+5cxxSKnKbHvPXWW+rYsaOaN2+ugQMH6s8//3SqJWuKxg8//OC0fPDgwbr77rsdv58+fVrjx49Xu3btFBISos6dO2vq1Kk5TjPJ8uuvv2rQoEFq06aNWrRooT59+uQYcLN07txZX331lY4dO+Y0/SA6OlqPPPKIWrdurZCQEPXo0SPbG56goCDNnz9fDz/8sEJDQ7Pt56WGDBmidu3a6dlnn9WFCxf03nvvKTo6WtOnT5en5/8+PFy5cqWSk5P1zDPPyGKxZFvPNddcoy1btmj48OG5buvfKlSokOe2QUFBSk9P15kzZxzLdu3apREjRqh9+/Zq0aKF7rvvPu3YscPpftu3b1ffvn0dj5HVq1frxRdfVOfOnR1tOnfurFdeeUXPPvuswsLCHG8mTp8+rWeeeUadO3dWaGiobr/9dq1atcpp/Rs2bNBdd92lVq1aqVWrVhowYIC2bt3quH3fvn168MEHdf3116t58+Y59tfOnTs1dOhQtWzZUs2bN8/22Dh69KiCgoK0cuVKDRgwQCEhITp//nyux8rDw0OdOnXS6tWrs922Zs0ap33PkpaWppkzZ6pz584KCQlR+/btNX78eKfjLV35byivxw0A3I3QDuRTWlqaYmNjVbNmTceyd955R1OnTtXtt9+uL774QlOnTtWWLVv0xBNPONqMGzdOcXFxeu+99/TNN99ozJgxWrRokT744IMct7Nq1SrNmTNHAwYM0BdffKGHHnpIkydPLlDNY8aM0e+//663335bGzZs0MSJE/Xpp5/qjTfeyLH9+fPn9fDDD6tJkyb65JNP9MUXX6hbt24aM2aM/vjjj1zr7dKli6pXr64tW7bo/vvv15kzZ3TfffcpISFB8+fP19q1a9WrVy+9+uqrWrx4sdP9V65cqWuvvVb//e9/Vb9+/Vz3xWKxaOrUqTp//rzGjBmjt99+W6NHj1ajRo2c2v36669q0qSJqlWrluu6Lg35uUlKStKCBQsUGxurQYMGXbF9lkOHDsnLy8sx9SYmJkZDhw5VZmam3nvvPa1YsULVq1fX/fff73ijFhcXp4ceekgeHh5atmyZ/vOf/+iTTz7Rtm3bsq3/+++/V9myZfXll1/q+uuvV1pamoYOHart27frpZde0pdffqlevXrphRde0Jo1axw1jBo1St26ddPnn3+ulStXKiQkRA899JCOHz8uSXrkkUfk5+enJUuWaN26dRo2bJimTZumdevWSZIOHjyooUOHytfXV0uXLtVnn32ma6+9Vk8//bQ2btzoVOMHH3ygfv36af369dmmvfzbnXfeqe3bt+vw4cOOZfv371dkZKRuv/32bO1feOEFffTRR3ryySe1bt06TZkyRb/88osefPBBx7kHefkbystxAwBTMABkEx4ebrRv3z7b8tOnTxvh4eFG06ZNjT/++MMwDMNIS0szWrVqZTzzzDNObTds2GAEBgYa27dvNwzDMJo3b268++67Tm0OHDhgHD161DAMw/j000+NwMBA4+DBg4ZhGMaAAQOMfv36ObX/5ptvjMDAQGPOnDmGYRjGzz//bAQGBhrff/+9U7tBgwYZ/fv3d/x+7Ngx4++//3ZqM2rUKKNHjx457vOuXbuMwMBAxz5m+eOPP4z4+Phsx+XSdd58882O3+fNm2c0adLEOHnypFO7hx9+2Ojatavj98DAQKNPnz65rjcnq1atMgIDA42ePXsamZmZ2W7v1q2b8fjjj+drnVl9EBYWZrRo0cJo0aKFERgYaLRo0cL4+OOPndrmduxTUlKMtWvXGqGhocbLL7/sWP7iiy8aLVu2NM6dO+fUtn379sYLL7xgGIZhrFixwggMDDT+/PNPR5szZ84YISEhTsf15ptvNtq1a+e031999ZURGBhobNu2zameRx991Lj11lud2pw+fdpxe0ZGhrFjxw4jMTHR+Oeff4zAwEDjq6++clpHZGSkcerUKcMwDGPChAlGmzZtjJSUFKc2d9xxhzF06FDDMAwjNjbWCAwMNEaOHJnTYXYSHh5uDBo0yEhPTzfatWtnzJw503Hb1KlTjTvuuMOxz1mP+xMnThhBQUHG/Pnzndb19ddfG4GBgcZvv/1mGEbe/obyctwM4+Jj9PXXX7/i/gBAYeFEVCAXZ86cUcuWLR2/2+12paSkqFmzZnr77bcVFhYm6eL0j8TExGxXXrn++uslSXv37lWrVq3UpUsXvfnmmzp16pQ6deqkNm3aZBsdvtSBAwd0xx13OC27tJ78SE9P1/z58/Xrr78qLi5OdrtdaWlpuU73aNSokerWrauRI0dq4MCBat++vUJDQx37nFcRERGqU6dOthM9W7Zsqc2bNysxMVF+fn6SpJCQkHyt+/vvv5ePj4+io6O1f/9+NWnSxOl2q9Wa49Vb+vbtq5iYGKdlO3fudPr9zTffVO3atSVdHGnfs2eP5syZo19//VUzZ850avvEE084nYeQkpIif39/DRkyRKNGjXIs3717t8LCwpzm+pcpU0atWrVSZGSkJOnIkSPy9vZWYGCgo01AQIDCwsL0999/O203ODhYVuv/PizdtWuXvLy8dN111zm1a9eunb799ltduHBBrVq1UkBAgAYNGqR77rlH7dq1U5MmTRyPK19fX7Vs2VIvvfSS9u3bp44dO6ply5Zq2rSpY30REREKDQ1VmTJlnLbTsmVLff31107L8tOnnp6e6tGjh9asWaNRo0bJMAx9+eWXGjJkSLa2e/bskWEYat26dbYapIt/c61bt87T31BejtuVPiUAgKJAaAdyUaFCBa1YscLx+549e/T0009rxIgR6tSpk2N5YmKipIsf10+cODHbek6fPi1JmjZtmj7++GN9+eWXWrZsmWw2m26//XY9++yzOZ60eeHCBfn6+jotK0h4uHDhggYNGiQvLy+NGzdOjRs3lpeXl2bMmJFtPnUWX19fffzxx/rggw+0Zs0avfHGG6pUqZKGDRumBx98MMc54jlJTEzMcd+ygvqFCxccP5cvXz7P+7RmzRpt2LBBS5Ys0fTp0zV+/HitXLlSXl5ejjY1a9bU0aNHs933zTffVHp6uiRp/fr1OV7Gr0aNGo6rx0gXA3KtWrU0fPhw9ezZ06n/J06c6AiPmZmZevDBB1W/fn2NHTs227H4888/s4XGtLQ0x0mWCQkJ2fpcuhjc/x3a/328EhMTlZ6ermuvvdZpeUZGhqSLj8N69epp5cqV+uCDD/Thhx9q6tSpqlWrlh599FH1799fFotFH3zwgRYvXqz//ve/evfdd1WuXDn1799fo0ePls1mU2JiourUqZOtxrJly+rChQtOy/J7MnLPnj21ZMkSbdmyRYZh6J9//skWurP2Naf1X/q4yvr/Sn9DeTluhHYAZkBoB3Lh4eHhFNzq1q2rb775Rq+++qo6dOjgGKX29/eXdHHO+o033phtPVnBwsvLS4MHD9bgwYOVkJCgDRs26PXXX1dGRoamT5+e7X4+Pj7ZThT998l8WeHZuOT64dLFsJI1X/uXX37RqVOn9P777+uGG25wtElKSrrs/gcEBGjcuHEaN26cYmNjtWrVKs2aNUsBAQHq16/fZe+bpXz58o650jntR1bIyo+///5bL7/8soYOHarWrVvrtddeU58+ffTOO+/oySefdLTr0KGDpk2bppiYGKc58peei1CpUqU8bzdr1Hj//v1Oob1KlSpOj5MXXnhBjzzyiD7//HP16tXLsbx8+fKqXr26XnnllWzrzhoxt9lsOZ4cHB8ff8X6ypcvL29v71znYdeoUUPSxRNwJ06cqIkTJ+rAgQNasmSJXnjhBV1zzTVq166dypYtq0cffVSPPvqoTp06pS+//FKzZ8+Wt7e3nnrqKZUrV84Rmi+V2xu0/GjevLnq16+vdevWOYL0pf116b5K2f8esn7Puj0vf0N5PW4A4G6ciArkw3PPPafk5GRNmTLFsax+/foqX768YmNjVbduXce/a665RhkZGQoICFBCQoI+//xzx3SNChUqqH///urZs6eioqJy3FbDhg21a9cup2W///670+9Z4eTSUHfu3Dmn6R9Zo8qXXjLv6NGj+uWXX7KF/SyHDx92urxh7dq1NXr0aDVu3Fj79u3L/QD9S/PmzRUbG6uTJ086Ld++fbsaNmyY7xFMu92u8PBwVa5c2TH1pFGjRnrsscf07rvvau/evY62ffv2VUBAgCZPnuw4Bv92uS+y+rdDhw5J0mVPbJWkm2++WV27dtWUKVMUFxfnWN6iRQvFxMQ4RvGz/hmG4Zg+VLduXSUlJengwYOO+508eTLXk38v1aJFC6WkpCg5Odlp/d7e3ipfvrxsNpuioqKcTmpt3LixJk+eLD8/P+3bt08nT550nHAqSVWrVtWIESPUoUMHx+M0LCxMERERSk1NdbQzDEM7duxwukZ+QfXs2VNbtmzRDz/8oDvvvDPHNiEhIbJarfrtt9+clmd96VlWHXn5G8rLcQMAMyC0A/lQvXp1jRw5UmvWrNFPP/0k6eJc3AceeEDLly/X4sWLdfjwYUVFRenZZ59V//79dfLkSRmGoZdeekkvvPCC9u3bp+PHj2vr1q3atGlTtrm0WXr16qU9e/Zo/vz5+uuvv7Rp0yZ9+OGHTm3q1Kkjf39/LVu2TPv371dUVJTGjRunypUrO9qEhITI09PTcQWUbdu26fHHH9dtt92mhIQE7d27V2lpaU7rPXLkiJ544gktXLhQhw8f1rFjx7R69WrFxMSoTZs2eT5effv2VYUKFTR69Gjt3r1bMTExmjNnjn744Qc99NBDeV5PlgULFuj333/XlClT5O3t7Vj+4IMPqnHjxgoPD3fsi7+/v2bPnq2IiAjde++92rBhg2JjYxUTE6NvvvlGI0aM0AcffJDjJR/j4+N1+vRpnT59WseOHdOmTZsUHh6ukJAQ3XrrrVes8/nnn1dqaqpeffVVx7IhQ4bowoULGjNmjCIiIhQbG6tPPvlEvXv3dkzD6tq1q7y8vPTyyy9r3759ioiI0NNPP61rrrnmitu8+eabFRgYqLFjx2rr1q06duyYvv/+ew0aNEgTJkyQJP3xxx967LHH9Omnnyo2NlaxsbFasGCBkpKSdO211+rcuXMaM2aMZs6cqYMHD+r48ePauHGjduzY4XicDh48WKmpqRozZoz+/PNPHTx4UBMnTtShQ4c0YsSIK9Z5JT179tQ///yj5ORkde/ePcc2VapUUZ8+fRxXJIqNjdW3336rKVOmqG3bto4vPcvL31BejhsAmAHTY4B8GjJkiD777DO9+OKLWrt2rXx8fPTwww+rbNmyWrZsmaZPny6bzaY2bdpo2bJljpHZhQsXavbs2Ro8eLBSUlJUvXp1de/eXU899VSO27n33nt18uRJLVy4UHPnzlWzZs308ssvq3///o42vr6+ev311zV16lTdddddqlGjhp544glt3rxZx44dkyTVqlVLr776qubMmaM77rhDgYGBevHFF1WxYkX99ttvuu+++7Ry5Uqnbd9444167bXX9OGHH2r27NmyWCyqW7euXnjhBXXr1i3PxyogIMAx73z48OFKTU1VgwYNNG3aNPXu3Ttfx33fvn2aPXu2hg4dqlatWjnd5unpqddee039+/fXW2+9pdGjR0uS2rRpo6+++krvv/++ZsyYoePHj8vDw0PVq1fXddddp88++0zBwcHZtnXfffc5frbZbKpRo4a6du2qBx980OnNQm5q1qypxx57TDNmzHDMga9bt66WLFmiWbNmaciQIUpPT1e9evUUHh6ugQMHSrrYV7Nnz9brr7+ufv36qV69enrqqaf05Zdfav/+/Zfdps1m04cffqgZM2ZozJgxOnv2rCpXrqzbb7/dMW1o4MCBSk5O1vvvv6/JkyfLy8tLjRo10uzZsx1Bd968eXrnnXe0bNkyZWZmqlatWrr//vsd3wTboEEDffjhh/rPf/6je+65R3a7XcHBwZo3b57j5Ourcc011+jaa69V+fLlL3td/JdeekkBAQGaMWOGTp8+rYoVK+qWW27RmDFjHG3y8jeUl+MGAGZgMXL7fBwAUOQSEhJUpkwZ+fj4OJb16tVL1apV0/z5891YGQDAnRhpBwCTSEhIUOfOndW6dWs9/fTT8vHx0RdffKF9+/Zp5MiR7i4PAOBGjLQDgIns3r1bb7zxhvbs2eOYQjNs2DCnK9EAAEofQjsAAABgclw9BgAAADA5QjsAAABgcoR2AAAAwORMffWYY8eOadKkSdq1a5d8fX3Vo0cPjRkzxvGV35e6cOGCJk6cqC+//FLr1q1Tw4YNHbclJCTopZde0q+//iqr1apOnTppwoQJebresiTt3LlThmHIy8vLZfsGAADMKT09XRaLRS1btrxsO/KBueS13y5llqyZF6YeaR85cqSqVaumjRs3auHChdq4caMWLVqUrd3JkyfVt29feXh45LieCRMmKDk5WWvXrtWnn36q6OhozZgxI891GIaR69e9o3AZhqG0tDSOvxvRB+5HH5gD/eB+RdUHeX3dJx+YS0H6wyxZM08Mk9q9e7cRHBxsJCQkOJZ99NFHRrdu3bK1jYqKMjZs2GDExsYagYGBxsGDBx23nT592mjSpIkRFRXlWPb9998bLVq0MNLS0vJcy+7du69ib1BQFy5cMH7//XfjwoUL7i6l1KIP3I8+MAf6wf2Kqg/y+rpPPjCX/PaHmbJmXph2ekxkZKRq1aolf39/x7JmzZopJiZGiYmJ8vPzcyxv0qSJmjRpoqNHj2ZbT1RUlDw8PBQUFOS0nqSkJB06dMhp+eUYhqGkpKSr2CMURHJystP/KHr0gfvRB+ZAP7hfUfWBYRiyWCx5bks+MIf89Jtkvqx5JaYN7QkJCSpfvrzTsqyDGh8f73Qgr7QePz8/p068dD15lZ6erqioqDy3h2sdPnzY3SWUevSB+9EH5kA/uF9R9IHNZstTO/KBueS13yTzZc0rMW1ol+SyeWKuWI+Xl5caNWrkgmqQH8nJyTp8+LDq1asnHx8fd5dTKtEH7kcfmAP94H5F1QcHDx7Mc1vygXnkp9+ymClrXolpQ3tAQIASEhKcliUkJMhisSggICBf60lMTFRmZqbj5IGs9VaqVCnP67FYLPL19c1ze7iWj48Px9/N6AP3ow/MgX5wv8Lug/xMsSAfmEd++k0yX9a8EtNePSYkJETHjx9XXFycY1lERIQaNWqksmXL5nk9wcHBMgxD+/btc1pP+fLlVb9+fZfWDAAAgOKhuGVN04b2pk2bKjQ0VDNnzlRiYqKio6O1cOFCDRw4UJLUvXt3/f7771dcT0BAgLp166Y33nhDcXFxOnHihN566y3169dPnp6m/aABAAAAhai4ZU3ThnZJmjNnjk6dOqUOHTpoyJAh6t27t+69915JUkxMjONs7bfffluhoaHq3r27JKlXr14KDQ3V22+/LUmaPHmyypUrpy5duqhnz55q3ry5Ro8e7Z6dAgAAgCkUp6xpMYpi5nwxFxERIUkKDQ11cyWlT1JSkqKiohQcHMycQTehD9yPPjAH+sH9iqoP8vq6Tz4wl5LeH6YeaQcAAABAaAcAAABMj9AOAAAAmByhHQAAADA5rnkIFILktPM6dHqX0jNT5OXhrQZVwuRjK+fusgAAQDFFaAdcyG7YtTt2k06ejZHdsMtiscgwDB2Ni1I1//pqXruzrBY+4AIAAPlDegBcaHfsJv0df0CGDMfXKVssFhky9Hf8Ae2O3eTmCgEAQHFEaAdcJDntvE6ejZHV6pHj7Varh06ejVFy2vkirgwAABR3hHbARQ6d3iW7Yb9sG7th16HTu4qoIgAAUFIwpx1wkfTMFMeUmNxYLBalZ6YUUUUAgMKWmBKnD7eMz/f9hnWcWgjVoCRjpB1wES8PbxmGcdk2hmHIy8O7iCoCAAAlBaEdcJEGVcKueGUYq8WqBlXCiqgiAABQUhDaARfxsZVTNf/6stszc7zdbs9UNf/6XK8dAADkG3PaARdqXruzJGW7TrvVYlXNio0dtwMAAOQHoR1wIavFqhZ1ujp9I6rN00f1K4fJx+bn7vIAAEAxRWgHCoGPrZya1ero7jIAAEAJwZx2AAAAwOQYaQcAACggP+8ADWvDNddR+BhpBwAAAEyO0A4AAACYHKEdAAAAMDlCOwAAAGByhHYAAADA5AjtAAAAgMkR2gEAAACT4zrtAACgWElJS1RM/A6lZ6bIy8NbDaqEycdWzi21JKbE6cMt4/N9v2EdubY78ofQDgAAigW7YdfJ9EidPPybLFaLLBaLDMPQ0bgoVfOvr+a1O8tqYRIBSiYe2QAAoFiIOvGjEjNPypAhi8UiSReDuwz9HX9Au2M3ublCoPAQ2gEAgOklp53X6fN/yZLLSLrV6qGTZ2OUnHa+iCsDigahHQAAmN6h07tkN+yXbWM37Dp0elcRVQQULUI7AAAwvfTMFMeUmNxYLBalZ6YUUUVA0SK0AwAA0/Py8JZhGJdtYxiGvDy8i6gioGgR2gEAgOk1qBJ2xSvDWC1WNagSVkQVAUWLSz4CAADT87GVU5VydZV4YU+Ot9vtmapZsXGRX6/dzztAw9pwzXUUPkbaAQBAsRBc/Qb5eVSTRVbHVBnDMGSRRTUrNlbz2p3dXCFQeBhpBwAAxYLVYlU1r2aqX6+2jl/Yr/TMFNk8fVS/cph8bH7uLg8oVIR2AABQrHjb/NSsQkd3lwEUKabHAAAAACZHaAcAAABMjtAOAAAAmByhHQAAADA5QjsAAABgcoR2AAAAwOQI7QAAAIDJEdoBAAAAkyO0AwAAACZHaAcAAABMjtAOAAAAmByhHQAAADA5QjsAAABgcoR2AAAAwOQI7QAAAIDJEdoBAAAAkyO0AwAAACZHaAcAAABMjtAOAAAAmByhHQAAADA5QjsAAABgcoR2AAAAwOQI7QAAAIDJEdoBAAAAkyO0AwAAACZHaAcAAABMjtAOAAAAmByhHQAAADA5QjsAAABgcoR2AAAAwOQI7QAAAIDJEdoBAAAAkyO0AwAAACZHaAcAAABMjtAOAAAAmByhHQAAADA5U4f2Y8eO6aGHHlLbtm1188036/XXX5fdbs+x7eLFi9WtWze1atVKAwcO1J49exy3DR48WM2aNVNoaKjjX8+ePYtqNwAAAGBCxSlrerp0bS42cuRINWvWTBs3btSZM2f08MMPq3Llyho+fLhTu02bNmnu3Ll6//33FRQUpMWLF+uRRx7R+vXr5evrK0l6+eWX1bdvX3fsBgAAAEyoOGVN0460R0REaN++fRo7dqzKlSunevXqadiwYVqxYkW2titWrFDfvn0VFhYmb29vPfDAA5KkzZs3F3XZAAAAKAaKW9Y07Uh7ZGSkatWqJX9/f8eyZs2aKSYmRomJifLz83Nq26NHD8fvVqtVwcHBioiI0O233y5JWrdund5//30dP35cYWFhmjx5surUqZPnegzDUFJSkgv2DPmRnJzs9D+KHn3gfvSBOdAP7ldUfWAYhiwWS57bkg/MIT/9Jpkva16JaUN7QkKCypcv77Qs66DGx8c7HciEhASnA57VNj4+XpLUsGFD+fj4aMaMGbLb7XrllVf0wAMPaO3atbLZbHmqJz09XVFRUVezS7gKhw8fdncJpR594H70gTnQD+5XFH1APiie8tpvkvmy5pWYNrRLF98xuaLtSy+95PT75MmT1bZtW23fvl3t2rXL0/q9vLzUqFGjPNcD10hOTtbhw4dVr149+fj4uLucUok+cD/6wBzoB/crqj44ePBgntuSD8wjP/2WxUxZ80pMG9oDAgKUkJDgtCwhIUEWi0UBAQFOyytWrJhj28aNG+e4bj8/P/n7++vkyZN5rsdisThONEDR8/Hx4fi7GX3gfvSBOdAP7lfYfZCfKRbkA/PIT79J5suaV2LaE1FDQkJ0/PhxxcXFOZZFRESoUaNGKlu2bLa2kZGRjt8zMzO1d+9ehYWFKTExUS+99JLTQYuLi1NcXJxq165d+DsCAAAA0yluWdO0ob1p06YKDQ3VzJkzlZiYqOjoaC1cuFADBw6UJHXv3l2///67JGngwIFas2aN/vjjDyUnJ+udd96RzWbTTTfdJD8/P+3atUuvvPKKEhISdPbsWU2aNElBQUFq2bKlO3cRAAAAblLcsqZpQ7skzZkzR6dOnVKHDh00ZMgQ9e7dW/fee68kKSYmxnG29o033qinn35ao0aN0nXXXaetW7dq/vz58vb2liS99dZbMgxD3bp100033aT09HTNnz9fVqupdx8AAACFqDhlTYuRnxn4pVRERIQkKTQ01M2VlD5JSUmKiopScHAwcwbdhD5wP/rAHOgH9yuqPsjr6z75wFxKen8w1AwAAACYHKEdAAAAMDlCOwAAAGByhHYAAADA5AjtAAAAgMkR2gEAAACTI7QDAAAAJkdoBwAAAEyO0A4AAACYHKEdAAAAMDlCOwAAAGByhHYAAADA5AjtAAAAgMkR2gEAAACTI7QDAAAAJkdoBwAAAEyO0A4AAACYHKEdAAAAMDlCOwAAAGByhHYAAADA5AjtAAAAgMkR2gEAAACTI7QDAAAAJkdoBwAAAEyO0A4AAACYHKEdAAAAMDlCOwAAAGByhHYAAADA5AjtAAAAgMkR2gEAAACTI7QDAAAAJkdoBwAAAEyO0A4AAACYHKEdAAAAMDlCOwAAAGByhHYAAADA5AjtAAAAgMkR2gEAAACTI7QDAAAAJkdoBwAAAEyO0A4AAACYnKe7CwCA4ubU+WQt33lYZ1PS5O9t08CW9VS1nI+7ywIAlGCEdgDIo0y7Xa9tjND30SeVaTdktVhkNwx9GRmrTg2r6bmuofKw8gEmAMD1CO0ASixXj4i/tjFCG/cfl6fVKqvFIkmyWiwyDGnj/uOSpAm3hrmkdgAALkVoB1DiFMaI+Knzyfo++qQ8c7mfp9WqH6JP6dT5ZKbKAABcjs9xAZQ4WSPihqEcR8Rf2xiR73Uu33lYmXbjsm0y7HYt33m4ICUDAHBZjLQDKFEKa0T8bEqa4w1AbqwWi86lpOerXgDFW0xcolqMWZLv+2XOHFwI1aAkY6QdQIlSWCPi/t422Y3Lr9duGCrv7ZWv9QIAkBeEdgAlSmGNiA9sWU8e1suv19Nq1cCW9fK1XgAA8oLpMQBKlKwR8csF94KMiFct56NODas5rh7zbxl2u7oG1uAkVKCUqR/gx1QXFAlG2gGUKIU5Iv5c11B1DazhuBqNJMcbhK6BNfRc19CClAwAwBUx0g6gRCnMEXEPq1UTbg1zXP/9XEq6/L29NLBVPVXxY4QdAFB4CO0ASpysEe8fok8pw253jIx7Wq0uGRGvWs5HT90Y7IpSAQDIE0I7gBKHEXEAQElDaAdQYjEiDgAoKTgRFQAAADA5QjsAAABgcoR2AAAAwOQI7QAAAIDJEdoBAAAAkyO0AwAAACZHaAcAAABMjtAOAAAAmByhHQAAADA5QjsAAABgcoR2AAAAwOQI7QAAAIDJebq7AKA0O3U+Wct3HtbZlDT5e9s0sGU9VS3n4+6yAACAyRDaATfItNv12sYIfR99Upl2Q1aLRXbD0JeRserUsJqe6xoqD2v2D8II+QAAlE6EdsANXtsYoY37j8vTapXVYpEkWS0WGYa0cf9xSdKEW8Mc7Qsa8gEAQMlAaHez4jZyWtzqNaNT55P1ffRJeeYSsj2tVv0QfUqnzic7jm1+Qz7gTjxPAIDrEdrdpLiNnBa3es1s+c7DjmOYmwy7Xct3HtZTNwYXKOQD7sDzBAAUHkK7mxS3kVMz1ltcR/POpqRdNrBLF4/tuZR0SfkP+cWdmfvVzLWZgRmfJ4DCFhOXqBZjlhTZ9jJnDi6ybcFcCO1uUJQjp64IGWYb6TXzaF5ejre/t0124/Ih3G4YKu/tJSn/Ib+4cnW/ujJgm/kxl1+F9cbDbM8TpQ1vKIsfwjfyy9Sh/dixY5o0aZJ27dolX19f9ejRQ2PGjJE1hxeFxYsXa9myZTp9+rSCgoL0/PPPKyQkRJKUmpqqV199Vd99951SU1PVtm1bTZo0SRUrVizqXZJUNCOnrgwZOdWblmnXycQUZWba5eFhVZWyZYpspNeMo3n5Od4DW9bTl5GxMozc1+dptWpgy3qS8h/yiytX9Wt+H/t5CTtmfMzlV2G/8ShtnwiZRUl6Qwm4Q3HKmqYO7SNHjlSzZs20ceNGnTlzRg8//LAqV66s4cOHO7XbtGmT5s6dq/fff19BQUFavHixHnnkEa1fv16+vr6aNWuWIiMjtWLFCvn4+GjChAl69tlnNW/ePLfsV1GMnLoyZFxaryHpr7hEJaSkyTAky/8vO3MhRV/sidUTHYMK9QXCrKN5+TneVcv5qFPDao72/5Zht6trYA1H/fkN+YWpOIzS5rUv8hp2zPqYy6/CfuNRWj4RMpuS8IaytPIo4JQaRuhdqzhlTdOG9oiICO3bt08LFy5UuXLlVK5cOQ0bNkyLFi3KdiBXrFihvn37Kizs4hPTAw88oMWLF2vz5s3q1q2bVq1apWnTpqlGjRqSpFGjRun222/XyZMnVa1atTzVk5qaqt9//90l+3b+yGGdP3JS1su8vtkN6ZztnH7/PS3f649PStW67/6QYUipubT579+HdL13oir6lslXvcfPJet86v9edLNypGEYik44qpHvnNH9bRvnu+bcpKSk6PDhw0pOTpa3t7dW/HFY5/668rF7fcVZ3dOinsvquJyCHO9uFQ0dt8Trj6PxyrAbslou1u1ptahFrYrqVrGS0+Mt0H5Gvx05I48cdjzTbqhNnUo68mekjhTC/qWkpOhQTIzmbYnSnpNnlWmXo96Pv5Za1grQsOsaXTGwXY6r+jU/ffFZxJFcj+kXh/fr+IG9ur9tY1M85v79d5Bfrn5OyElhP6+ZwdX2g6u5ol/jk1K1fv9xJaamy6+Ml24NrFHgx0BRyOqD43Fn9f1fcYVad5kyeVxfZoY8Th926bYvx1VZpKTKc7/JfFnzSkwb2iMjI1WrVi35+/s7ljVr1kwxMTFKTEyUn5+fU9sePXo4frdarQoODlZERISCg4N1/vx5NWvWzHF7w4YN5e3trcjIyDwfyBMnTmjIkCEu2LO8Oyjpg0Jc/z0u/qDhnKSP//+fuxX2sSuIvB7vfcr/MYwuwH1c5c8i3Lar+jUvfZHfY2rGx1x+ufo5IScl4TgVN/np1+LaN66ue/Hixapbt26e2lqTzspv7SwXV5C7W4twW8VNfvpNMl/WvBLTTnRLSEhQ+fLlnZZlHdT4+PhsbS894Flt4+PjlZCQIEnZ1lW+fPls6wEAAEDpUNyypmlH2qWLUy5c1TY/68pJ9erV9cUXX1zVOi5lN6QlOw4r4u8EZciQVRbZZchTFoXWrKDBrepd9mPmy/k0IlY/Hv5HVl3mxEUZuqFeZd0VWjvP9Y5du1MHzyTKMAxZLBbH/2VtnqpezluW/99ei5r+GnJt/YIV/y+pqak6fvy4atSooTJlyighOU0vf7v3svO7rZJe6NpUFXxsLqnhSgrjeJvJij9itHn/cXmXKSOr1SPHNle7f67q17z2RRkPq9Izr/yc0KKmv3o2rZWttgx7puKS05VpN+RhtaiSj02Tbg0p0GMuITlN3x48qcS0DPnZPNWlUbVs6/n330F+FdVjtDCf18zgavvB1QrarwnJaXp5415d7i+gqJ9H8yIhOU2TNuxRamqqbDZbjs9Hrqo7P/1r9/VX4h2j872NTQ/dnO/74PIK8ndppqx5JaYN7QEBAY53LlkSEhJksVgUEBDgtLxixYo5tm3cuLGjbUJCgsqWLeu4/ezZs6pUqVKe6ylTpoxat26dv524ghtv6Og4se9cSrr8vb00sFU9VfG7upPZAsOSFbH0x8sHIItFzw7qmK8T5+4zKmnFzhj9cyFVmXZDnlaLqvp5y+b5vydOu2GoWWgddezomqtDJCUlKSoqSsHBwfL19ZUk7TQqXfEkzjtuKboTrwrreJvFN2e95XvBV75ly172JOOAhtXVsWPzAm/HFf2a1764qWFVbTxw4opX5GkWWkd33BjsqM3Dav3fidi2iydiZxqGPMqW0U6jkp5rn/crdTifCBsgq5dFdruhiIMZ6tSwktNVP3L6O8iPonyMFtbzmhlcbT+4WkH7dfYPUfKtk37Fx390mRp6ykXP5a4w+4co+dROlSUpKdfnI1fVHRERkffGHp7KrFIv39vo9FlMvu9TUKXl5NV89ZvMlzWvxLShPSQkRMePH1dcXJzjYERERKhRo0ZOBySrbWRkpPr06SNJyszM1N69e9WvXz/Vrl1b/v7+jnlLkrR//36lpaU5LtPjTlXL+bj88mf5vTpJXmVdxaS2V+4Pm6K4islzXUMlST9En1KG3e646oen1aqugTUctxeVwjreZuFfxkv2K4weuOKSk67o17z2xYPtArU5+mSer8iTte1Fv0UrLin1YtgxDMliUSXfMqpboWy+r9RRlFf9KOrHaGE8ryG7gvZrcb3Sj1nrrh/gV2pCcUlT3LKmaee0N23aVKGhoZo5c6YSExMVHR2thQsXauDAgZKk7t27O86gHjhwoNasWaM//vhDycnJeuedd2Sz2XTTTTfJw8NDd999t+bNm6fjx48rPj5e//nPf3TLLbeocuXK7tzFQvVc11B1DazhCD6SHNf6LmiwzXqByLDbc7w9w27XjQ2rFno49bBaNeHWMC0b1FG9Q+vopkbV1Se0jj4a3FETbg1zyzWJC+N4m0X/5rXlcYUXSle8WXNVv+alL/L7WPawWvVwu0DVKO+jKn7equBjUxU/bzWt5q96AX6yWCxOl368kvxcRtJVSvJjtDQrSL9mfffD5Zjxux+Ka90wr+KWNU070i5Jc+bM0YQJE9ShQwf5+flpwIABuvfeeyVJMTExSkpKkiTdeOONevrppzVq1CidOXNGoaGhmj9/vuOSXE8++aQuXLigXr16KSMjQzfffLNeeukld+1WkcgKQK7+mNpMo9xmGs0rrONtBlX8vNWqmq8iztpzDM5mG6XNa1/k97G8fOdheVqtql3BefTlUnn98iB3fBFRSX6MlmYF6VczffdDfgxsWU+fR/x12TbuqDsmLlEtCnjN9YJgVN+1ilPWtBiFPWu+BMiaIxUaykhUlqJ64TfbHNLSKCkpSXsi9+rLUxb9fCQuW8C9sWHVYv2ti3l9LE9ev0vfHzx5xfXd1Ki6Jtx6+bn9+V0XfwfmUJL64eX1u644rcaMX8o04avt+ioiRuX9/LI957iy7ry+7pMPzKWk94epR9phXmYa5Ubh87Ba9OzNwUrMtJS4Udq8PpazPpq/0sl7eflo3pXrAgrCTJ+a5scznZron9OntD/xf9OAikPdgCsQ2gHkWWl+s+bKKQXFdXoCSo7iOl3Kw2rRA6FVVbl2fa3Zd7LY1A24QoFDe9Y1urN+3rdvn2rWrJntwvMAUBK48gosJf2KQyg+iusb8Sp+3sWybuBqFGgS6vbt29WlSxdJkt1u15AhQ9SnTx916tRJ27Ztc2mBAGAWrrwCC1dzAQDkR4FG2mfMmKEBAwZIkjZt2qQDBw5ow4YN+v333zV37ly1a9fOpUUCgBm4ckpBcZ2eAABwjwKF9v3792vRokWSpM2bN6tHjx6qXbu2atasqSlTpri0QAAwG1dOKSiu0xMAAEWrQNNjPDw85OFx8avrt23bpo4dO0q6OFUmPd1c36AGAAAAFHcFGmlv2rSp3nzzTdlsNp07d84xHWb9+vWqV6+eK+sDAAAASr0Chfbx48fr6aef1rlz5/Tiiy/Kx8dHcXFxCg8P1xtvvOHiEgEAAIDSrUChvUmTJlq3bp3TsoCAAG3YsEE1atRwSWEAAAAALspzaN+yZUue2kVHRzvmuAMAAAC4enkO7Q888IAsFouMy32FnySLxaKoqKirLgwAAADARXkO7d9++21h1gEAAAAgF3kO7bVq1cpTu8GDB2vJkiUFLggAAACAswKdiCpJK1as0B9//KG0tDTHshMnTmj//v0uKQwAAADARQUK7f/5z3+0ePFiNWnSRLt371bLli114MAB1apVS1OnTnV1jQAAAECpVqBvRF27dq2WLl2qjz/+WJ6enlq2bJk2b96sOnXqyNvb29U1AgAAAKVagUbaz5w5o5CQEElyXFGmbNmyGjt2rJ544gl9/vnnLi0SAABcdOp8spbvPKyzKWny97ZpYMt6qlrOx91lAShkBQrtFSpU0KFDh9SgQQP5+/vr4MGDaty4sapVq6YjR464ukYAAEq9TLtdr22M0PfRJ5VpN2S1WGQ3DH0ZGatODavpua6h8rAW6AN0AMVAgUJ77969NXDgQG3YsEEdOnTQqFGj1LdvX+3atUvXXHONq2sEAKDUe21jhDbuPy5Pq1VWi0WSZLVYZBjSxv3HJUkTbg1zZ4kAClGB3pI/9dRTeuSRR+Tn56fx48erSpUqmj17tmJiYjR58mRX1wgAQKl26nyyvo8+Kc9cRtI9rVb9EH1Kp84nF3FlAIpKgUbarVarhg8fLkny9/fXhx9+6MqaAADAJZbvPOyYEpObDLtdy3ce1lM3BhdhZa7DXH3g8goU2tesWXPZ23v37l2Q1QIAgBycTUm7bGCXLk6VOZeSXkQVuU5xn6sfE5eoFmPy/6WSmTMHF0I1KMkKFNrHjx+f88o8PeXt7U1oBwDAhfy9bbIblx9ptxuGynt7FWFVrsFcfSBvChTad+/e7fR7ZmamDh06pPnz52vIkCEuKQwAAFw0sGU9fRkZK8PIvY2n1aqBLesVWU2ukJ+5+madKlM/wI9RcxSJAoV2m82WbVmzZs00YcIEjRgxguu0AwDgQlXL+ahTw2qOEel/y7Db1TWwhmmDbW5Kwlx9psegqBQotOemfPny+uuvv1y5SgAAIOm5rqGSpB+iTynDbnfM/fa0WtU1sIbj9uKkJMzVZ6QdRaVAoX3Lli3ZlqWkpGjdunWqXr36VRcFAACceVitmnBrmOMqK+dS0uXv7aWBreqpil/xGmHPUpLn6gOuVqDQ/sADD8hiscj41+S6ChUqaOrUqS4pDAAAZFe1nI9pp4rkV0mdqw8UhgKF9m+//TbbMm9vbwUEBMhyhY+5AAAApJI7Vx8oDAUK7bVq1XJ1HQAAoBQqiXP1gcKQ59DeuXPnPI+i5zQSDwAA8G8lca4+UBjyHNp79OjhCO1paWlatWqVWrRoocDAQNntdu3bt0979uzR0KFDC61YAABQMpWkufpAYchzaB87dqzj5wkTJmjSpEm64447nNp89tln+u2331xXHQAAAADl/BVkV7B+/Xp179492/I77rhDGzduvOqiAAAAAPxPgUK7p6en9u3bl235gQMH5Onp0u9rAgAAAEq9AiXsbt26acSIEbrzzjt1zTXXSJKOHj2qr776SrfccotLCwQAAABKuwKF9meffVZVq1bVV199pc8++0ypqamqUaOGevfurVGjRrm4RAAAAKB0K1Bo9/Ly0iOPPKJHHnnE1fUAAAAA+Jc8h/ZVq1apX79+kqQVK1Zctu0999xzdVUBAAAAcMhzaJ88ebIjtE+cODHXdhaLhdAOAAAAuFCeQ/vu3bsdP+d05RgAAAAAhaNAl3yUpOjoaMfPx48f14cffqgff/zRJUUBAAAA+J8ChfaVK1eqf//+kqTExETdc889WrZsmcaOHatly5a5tEAAAACgtCtQaF+4cKHefPNNSdJXX30lHx8frVu3TgsWLNBHH33k0gIBAACA0q5Aof348eNq3769JGnLli3q0aOHvLy81KxZMx0/ftylBQIAAAClXYFCu6+vrxITE5WWlqZff/1VHTp0kHRxqoyHh4dLCwQAAABKuwJ9uVL79u311FNPycPDQ+XKldO1116rjIwMvfXWWwoNDXV1jQAAAECpVqCR9gkTJuiaa66Rn5+f3nrrLVksFiUnJ2vTpk16/vnnXV0jAAAAUKoVaKS9fPnymjRpktOycuXK6ZtvvnFJUQAAAAD+p8DXad+2bZvGjx+vIUOGSJLsdrvWrVvnssIAAAAAXFSg0L5u3To9+OCDSkhI0M6dOyVJJ06c0IsvvqiVK1e6tEAAAACgtCtQaJ83b55ef/11zZs3TxaLRZJUs2ZNzZ49WwsWLHBpgQAAAEBpV6DQfuTIEd16662S5AjtktSuXTsdPXrUNZUBAAAAkFTA0F6xYkWdOXMm2/KYmBiVLVv2qosCAAAA8D8FCu3t27fXc889pwMHDkiSEhIStGXLFo0aNUo333yzSwsEAAAASrsChfbw8HClpKTozjvvVGpqqtq1a6cHHnhANWvWVHh4uKtrBAAAAEq1Al+nfenSpdq3b58OHTokb29v1a9fX/Xr11diYqKrawQAAABKtXyH9g8//FCfffaZvL291a9fP/Xv399x244dOzRu3Dh9++23Li0SAAAAKM3yNT1m6dKlmj17tpo1a6batWtr8uTJWrNmjex2u+bOnavBgwcrJCSksGoFAAAASqV8jbSvXLlSM2bMUJcuXSRJN954o95//319/PHHiomJ0bRp03THHXcUSqEAAABAaZWvkfajR4/qhhtucPx+yy23aP/+/fL399fatWsJ7AAAAEAhyNdIe0ZGhmw2m+N3Hx8f2Ww2vfvuuy4vDAAAAMBFBbrk46Uu/UZUAAAAAK531aEdAAAAQOHK1/SY9PR0jRkz5orLZs6cefWVAQAAAJCUz9B+7bXX6tSpU1dcBgAAAMB18hXalyxZUlh1AAAAAMgFc9oBAAAAkyO0AwAAACZHaAcAAABMjtAOAAAAmByhHQAAADA504b2hIQEjRo1Su3bt1fHjh31/PPPKyUlJdf269at05133qmWLVuqb9++2rJli+O28ePHq2nTpgoNDXX8a926dVHsBgAAAIohs2VR04b2CRMmKDk5WWvXrtWnn36q6OhozZgxI8e2UVFRCg8P19ixY/Xzzz9r2LBheuKJJ3TixAlHm0cffVQRERGOf7///ntR7QoAAACKGbNlUVOG9n/++UcbN27U6NGjFRAQoGrVqumxxx7Tp59+qvT09GztV65cqU6dOqlTp04qU6aMevbsqcDAQH3xxRduqB4AAADFmRmzaL6+XKmoREVFycPDQ0FBQY5lzZo1U1JSkg4dOuS0XJIiIyPVqVMnp2VNmzZVRESE4/eff/5Z3377rf766y81bNhQL730kkJCQvJck2EYSkpKKuAeoaCSk5Od/kfRow/cjz4wB/rB/YqqDwzDkMViyXNb8oE55KffrsSMWdSUoT0hIUF+fn5OB97f31+SFB8fn2P7rNsvbX/w4EFJUu3atWW1WvXUU0+pbNmyevPNN3X//ffrm2++UcWKFfNUU3p6uqKiogq6S7hKhw8fdncJpR594H70gTnQD+5XFH1gs9ny1I58YC557bcrMWMWdVto//zzz/XMM8/keNvo0aNlGEa+1ne59o8//rjT7+PGjdPatWu1ceNG9e/fP0/r9/LyUqNGjfJVE65ecnKyDh8+rHr16snHx8fd5ZRK9IH70QfmQD+4X1H1QVbQygvygXnkp9+k4pdF3Rbae/XqpV69euV4208//aTExERlZmbKw8ND0sV3MJJUqVKlbO0rVqzouD1LQkKCAgICcly/h4eHatSooVOnTuW5XovFIl9f3zy3h2v5+Phw/N2MPnA/+sAc6Af3K+w+yM8UC/KBeeR3akxxy6KmPBE1ODhYhmFo3759jmUREREqX7686tevn619SEiI9uzZ47QsIiJCYWFhMgxDU6ZMcVpXWlqajhw5otq1axfeTgAAAKBYMmMWNWVoDwgIULdu3fTGG28oLi5OJ06c0FtvvaV+/frJ0/PihwNDhw7VunXrJEl33323tm7dqu+++06pqalatWqVDh8+rJ49e8pisejo0aOaNGmSTp48qQsXLmjGjBny8vJS165d3bmbAAAAMCEzZlFThnZJmjx5ssqVK6cuXbqoZ8+eat68uUaPHu24PTY2VmfPnpUkBQYGasaMGZoyZYquvfZaLV26VO+++66qVKkiSXr11VdVr1499e3bV+3bt1dUVJQWLVrEx1kAAADIkdmyqMXI7yz7Uijrcj2hoaFurqT0SUpKUlRUlIKDg3mT5Sb0gfvRB+ZAP7hfUfVBXl/3yQfmUtL7w7Qj7QAAAAAuIrQDAAAAJkdoBwAAAEyO0A4AAACYHKEdAAAAMDlCOwAAAGByhHYAAADA5AjtAAAAgMkR2gEAAACTI7QDAAAAJkdoBwAAAEyO0A4AAACYHKEdAAAAMDlCOwAAAGByhHYAAADA5AjtAAAAgMkR2gEAAACTI7QDAAAAJkdoBwAAAEyO0A4AAACYHKEdAAAAMDlCOwAAAGByhHYAAADA5AjtAAAAgMkR2gEAAACTI7QDAAAAJkdoBwAAAEyO0A4AAACYHKEdAAAAMDlCOwAAAGByhHYAAADA5AjtAAAAgMkR2gEAAACTI7QDAAAAJkdoBwAAAEyO0A4AAACYHKEdAAAAMDlCOwAAAGByhHYAAADA5AjtAAAAgMkR2gEAAACTI7QDAAAAJkdoBwAAAEyO0A4AAACYHKEdAAAAMDlCOwAAAGByhHYAAADA5AjtAAAAgMkR2gEAAACTI7QDAAAAJkdoBwAAAEyO0A4AAACYHKEdAAAAMDlCOwAAAGByhHYAAADA5AjtAAAAgMkR2gEAAACTI7QDAAAAJkdoBwAAAEyO0A4AAACYHKEdAAAAMDlCOwAAAGByhHYAAADA5AjtAAAAgMkR2gEAAACTI7QDAAAAJkdoBwAAAEyO0A4AAACYHKEdAAAAMDlCOwAAAGByhHYAAADA5AjtAAAAgMkR2gEAAACTI7QDAAAAJmfa0J6QkKBRo0apffv26tixo55//nmlpKTk2j49PV3Tpk1TkyZN9MMPPzjdlpqaqhdffFE33nij2rZtqyeffFLx8fGFvQsAAAAopsyWRU0b2idMmKDk5GStXbtWn376qaKjozVjxowc2yYlJenee+9VQkKCDMPIdvusWbMUGRmpFStW6JtvvpFhGHr22WcLexcAAABQTJkti5oytP/zzz/auHGjRo8erYCAAFWrVk2PPfaYPv30U6Wnp2drn5SUpLvuuktTpkzJdltGRoZWrVqlxx57TDVq1FCFChU0atQofffddzp58mRR7A4AAACKETNmUc+r2qNCEhUVJQ8PDwUFBTmWNWvWTElJSTp06JDTckmqXLmyBgwYkOO6jhw5ovPnz6tZs2aOZQ0bNpS3t7ciIyNVrVq1PNVkGIaSkpIKsDe4GsnJyU7/o+jRB+5HH5gD/eB+RdUHhmHIYrHkuS35wBzy029XYsYsasrQnpCQID8/P6cD7+/vL0n5nv+TkJAgSSpfvrzT8vLly+drXenp6YqKisrXtuE6hw8fdncJpR594H70gTnQD+5XFH1gs9ny1I58YC557bcrMWMWdVto//zzz/XMM8/keNvo0aNznA90Na52fV5eXmrUqJGLqkFeJScn6/Dhw6pXr558fHzcXU6pRB+4H31gDvSD+xVVHxw8eDDPbckH5pGffpOKXxZ1W2jv1auXevXqleNtP/30kxITE5WZmSkPDw9J/3uXUqlSpXxtJyAgwHH/smXLOpafPXs2X+uyWCzy9fXN17bhOj4+Phx/N6MP3I8+MAf6wf0Kuw/yM8WCfGAe+Z0aU9yyqClPRA0ODpZhGNq3b59jWUREhMqXL6/69evna121a9eWv7+/IiMjHcv279+vtLQ0hYSEuKxmAAAAlAxmzKKmDO0BAQHq1q2b3njjDcXFxenEiRN666231K9fP3l6XvxwYOjQoVq3bt0V1+Xh4aG7775b8+bN0/HjxxUfH6///Oc/uuWWW1S5cuXC3hUAAAAUM2bMoqYM7ZI0efJklStXTl26dFHPnj3VvHlzjR492nF7bGyszp49K0las2aNQkNDFRoaKkl67LHHFBoaqhdeeEGS9OSTTyosLEy9evVSly5dVLZsWb366qtFv1MAAAAoFsyWRS2Gq2fZl0ARERGS5OgIFJ2kpCRFRUUpODiYOYNuQh+4H31gDvSD+xVVH+T1dZ98YC4lvT9MO9IOAAAA4CJCOwAAAGByhHYAAADA5AjtAAAAgMkR2gEAAACTI7QDAAAAJkdoBwAAAEyO0A4AAACYHKEdAAAAMDlCOwAAAGByhHYAAADA5AjtAAAAgMkR2gEAAACT83R3ASWF3W5Xenq67Ha7u0spUVJTUx3/WywWN1djLlarVV5eXrJaee8NAEBJR2h3gfPnzys9PV1lypQhQLmYzWZT/fr1ZbPZ3F2K6WRkZOjChQvy8vJSuXLl3F0OAAAoRIT2q5Q1uh4QEODuUkqkzMxMSZK3t7c8PDzcXI35lC1bVmfPnlV6erq8vLzcXQ4AACgkDAtfpYyMDEaB4VY2m00ZGRnuLgMAABQiQjsAAABgcoR2AAAAwOQI7QAAAIDJEdoBAAAAkyO0o9g5fvy4Bg8erB49eujOO+/Uf//7X3eXBAAAUKi45COKHQ8PDz333HMKDg7W6dOn1bdvX3Xq1Em+vr7uLg0AAKBQMNIOlzl27JhCQ0MVExNTqNupWrWqgoODJUlVqlRRxYoVdfbs2ULdJgAAgDsx0l5I0jIytevv+CLdZljNirJ55v0LiO6//3799ttvki5+iZHdbnf6gp6vv/5atWrVyvP6atWqpYiIiLwXnINBgwY5avLy8lLt2rU1YsQI9enTJ8f2e/bskd1uV40aNa5qu5f67bff9MEHH2jPnj06ffq03nrrLXXt2vWK91u2bJk++OADnT59Wk2aNNGECRPUvHnzQmkDAABKF0J7Idn1d7yun120c61/fuo2talTOc/tFyxY4Ph57ty5+vHHH/XJJ58URml5YhiG9u7dq/DwcN15551KSUnR4sWL9eKLL6pNmzaqW7euU/uEhASFh4fr5ZdfdmkdSUlJCgoK0l133aUnnngiT/dZt26dpkyZokmTJiksLEyLFi3SiBEj9PXXX6tSpUoubQMAAEofpsfgsoKCgvThhx+qY8eOmj9/viQpIiJC9957r1q3bq327dtr4sSJSk9P19GjRxUUFKTo6GjHfdevX6+BAweqRYsWuvPOO7V3795ct3X48GFduHBBN9xwg6pUqaLatWvrrrvuUmZmZrYpN2lpaXr88cf14IMPqlWrVi7d506dOmn06NG65ZZb8nyfhQsX6u6779Zdd92lRo0aadKkSfL29tann37q8jYAAKD0IbTjijZu3Kg1a9bowQcflCSNHj1a119/vX755RetWrVKmzdv1scff5zjfd9//329+uqr2rZtm6pWrapZs2blup3IyEj5+/urUaNGkqQTJ07ojTfekM1mU1BQkKOdYRgaP368rr/+evXu3TvX9c2bN08tW7a87L+///67AEfEWVpamiIjI9W+fXvHMqvVqvbt22vnzp0ubQMAAEonpsfgim677TZVrvy/aTdr1qyRzWaTh4eHatasqTZt2mjPnj26+eabs923V69eatCggSSpc+fO+uCDD3LdTmRkpM6fP69WrVopMzNTqamp8vb21nPPPaeqVas62m3fvl3r1q1TUFCQNm7cKEmaPn26U7CXpAEDBui222677L5dut6Cio+PV2ZmZrbpK5UqVdKhQ4dc2gYAAJROhHZcUc2aNZ1+//nnn/XWW2/p8OHDysjIUEZGhrp3757jfa+55hrHzz4+PkpNTc11O3v37tV9992nwYMH69y5c5o+fbpatGihnj17OrVr3bq19u3bd8W6K1SooAoVKlyxHQAAgNkR2nFFHh7/uyJNdHS0nnrqKYWHh+vuu++Wt7e3xo0bp4yMjBzva7FY8rydvXv36u6773accDpx4kT17NlTPXv2dIzW58e8efP07rvvXrbNV199le1NSX5VrFhRHh4eOnPmjNPyM2fOOD6hcFUbAABQOhHakS9RUVGy2WwaMmSIpIvzy6OiotS4ceOrWm9sbKzOnTvntJ5GjRqpdu3a+u9//6vHH3883+ssqukxNptNzZo107Zt2xyXhrTb7dq2bZsGDRrk0jYAAKB0IrQjX2rVqqWUlBRFRUWpZs2aevfdd2Wz2XTq1CkZhlHg9e7Zs0deXl6qV6+e0/Lrr79emzdvLlBoL+j0mAsXLujIkSOO348ePaqoqCj5+/s7RuWXLl2qDRs2aNGiRZKk4cOHKzw8XCEhIWrevLkWLVqk5ORk9e3b17EeV7UBAAClD6Ed+dKyZUvdd999GjRokHx8fPToo4/queee06OPPqqZM2cWeL179+5V3bp1ZbPZnJa3a9dOK1as0IkTJ/L1RU9XY8+ePY5PEiRpypQpkqQ+ffpo6tSpki6eNBobG+to06NHD8XFxWnOnDk6ffq0goOD9f777ztNa3FVGwAAUPpYjKsZHi0lsr7lMzQ0NNttycnJki6eZHmp3478Y/ovVyoOMjMzlZKSIm9vb6e59fif3B6DrpKUlKSoqCgFBwfL19e3ULaBy6MPzIF+cL+i6oPLve4XpB2KRknvD0baC0lYzYr6+anLz6cujG0CAACg5CG0FxKbp0eJG/UGAACAe/CNqAAAAIDJEdoBAAAAkyO0AwAAACZHaAcAAABMjtAOAAAAmByhHQAAADA5QjsAAABgcoR2AAAAwOQI7QAAAIDJ8Y2oMLXjx4/rmWeeUXx8vDw9PfXYY4/ptttuc3dZAAAARYrQDlPz9PTU2LFjFRYWpri4OPXt21edOnWSr6+vu0sDAAAoMoR2mFqVKlVUrlw5x88VK1bU2bNnCe0AAKBUIbSXYvfff79+++03SVJmZqbsdru8vLwct3/99deqVatWgde/fv16BQUFqW7dujnePmjQIMf2vby8VLt2bT322GO68847c2y/Z88e2e121ahRo8A15WbZsmX64IMPdPr0aTVp0kQTJkxQ8+bNc22fmJio2bNna+PGjTpz5oyaNm2q5557zuk+nTt31rFjx7Ld995779XEiRPztA4AgLklpsTpwy3j832/YR2nFkI1KMkI7YUk056h+AvHi3SbFcvWkIc17126YMECx89z587Vjz/+qE8++cRl9cyZM0fPPPNMjqHdMAzt3btX4eHhuvPOO5WSkqIlS5YoPDxcLVq0UO3atZ3aJyQkKDw8XC+//LLL6suybt06TZkyRZMmTVJYWJgWLVqkESNG6Ouvv1alSpVyvM8LL7ygAwcOaPr06apataq++OILDR8+XOvWrVO1atUkSatWrVJmZqbjPgcOHNDw4cPVvXv3PK8DAABAIrQXmvgLx7V211tFus07wh5X5XK1r9wwH44dO6aXX35ZO3fulN1u180336wXX3xRfn5+kqT58+dr+fLliouLU/Xq1fXYY4+pV69e6tmzpw4cOOAYOZ8yZYrTeg8fPqwLFy7ohhtuUJUqVSRJ/fr106JFixQTE+MU2tPS0jRy5Eg9+OCDatWqlUv3T5IWLlyou+++W3fddZckadKkSfruu+/06aef6qGHHsrWPiUlRevXr9fbb7+tNm3aSJJGjhypzZs366OPPtLo0aMlSQEBAU73mz9/vurUqaPrrrsuz+uA+SWnndeh07uUnpkiLw9vNagSJh9bOXeXBQAoYQjtyJVhGHrsscfUqlUrzZo1S0lJSXr66ac1bdo0vfzyy9qxY4cWL16sTz75RDVq1NBPP/2kkSNHqmPHjvriiy8UFBSkt99+WzfeeGO2dUdGRsrf31+NGjWSJJ04cUKzZs2SzWZTUFCQUw0TJ05U27Zt1bt371xrnTdvnt59993L7s9XX32lmjVrOi1LS0tTZGSkHn74Yccyq9Wq9u3ba+fOnTmuJyMjQ5mZmSpTpozT8jJlymjHjh053ictLc0xkm6xWAq0DpiL3bBrd+wmnTwbI7thl8VikWEYOhoXpWr+9dW8dmdZLVxVFwDgGoR25CoiIkIHDhzQ8uXL5ePjIx8fH40cOVIjRozQ5MmTdf78eVmtVnl7e8tisahjx47avn27rNYrB5XIyEidP39erVq1UmZmplJTU+Xt7a1JkyY5TQ3ZsWOH1q9fr8DAQG3atEmSNH36dKdgL0kDBgy44qUgq1atmm1ZfHy8MjMzs02DqVSpkg4dOpTjevz8/NSyZUu9/fbbatCggSpXrqy1a9fqjz/+UJ06dXK8z8aNG3X+/Hn16dOnwOuAueyO3aS/4w/IavWQxWKRpIvBXYb+jj8gSWpRp6s7SwQAlCCEduQqNjZWmZmZatu2rdPyzMxMxcfHq127dmratKk6d+6sdu3a6cYbb1SvXr3ydGWXvXv36r777tPgwYN17tw5TZ8+Xa1atVLfvn2d2l177bXavn27vL295eHhkev6KlSooAoVKhRoPwti+vTpeu6553TjjTfKw8NDTZs21e23367IyMgc23/66ae68cYbnd6Q5HcdMI/ktPM6eTZGVmvOj0mr1UMnz8YoOe08U2UAAC5BaEeuypQpI19f31yniUgXp6Xs27dP3377rZYtW6YFCxZo9erVjss05mbv3r26++67HSepTpw4UT179lT//v11zTXX5LvWgk6PqVixojw8PHTmzBmn5WfOnFHlypVzXVedOnW0dOlSJSUlKTExUVWrVtWoUaOynUArXTwvYOvWrZo7d26B1wFzOXR6l2NKTG7shl2HTu9Ss1odi7AyAEBJRWhHrurUqaOkpCTFxsY6gmRiYqLS09NVsWJFpaenKzU1VU2aNFGTJk308MMPq0ePHtq6dau6deuW63pjY2N17tw5NW7c2LGsUaNGql27ttauXatHHnkk37UWdHqMzWZTs2bNtG3bNnXtenEqg91u17Zt2zRo0KArbtfX11e+vr46e/astmzZonHjxmVrs3r1alWqVEk33XRTgdcBc0nPTLlsYJcuTpVJz0wpoooAuIufd4CGteHyjSh8hHbkKjAwUC1bttSrr76q1157TZ6enpo0aZLOnTun9957TwsWLNB3332nWbNmqXr16oqOjtbZs2cdc7LLlCmjv/76S4mJiY6rzUgXr7fu5eWlevXqOW2vXbt22rBhQ4FC+9VMjxk+fLjCw8MVEhKi5s2ba9GiRUpOTnZM1Vm6dKk2bNigRYsWOe7z448/yjAM1a9fX0eOHNH06dPVoEGDbNN77Ha7Vq9erd69e8vT0/nPLa/rgPl4eXjLMIzLBnfDMOTl4V2EVQEASjJCOy5r5syZmjx5srp06SKbzaZ27dpp6tSLIwrDhw/X33//rd69eyslJUU1atTQ2LFjFRwcLOni6Pf06dO1detWvfPOO4517t27V3Xr1pXNZnPaVvv27fXxxx/rxIkTql69epHtY48ePRQXF6c5c+bo9OnTCg4O1vvvv++YHhMfH6/Y2Fin+5w/f17/+c9/dOLECVWoUEG33nqrRo8e7fTlVJK0detW/f33347LSRZkHTCfBlXCdDQuSoaMXNtYLVY1qBJWhFUBAEoyi2EYub/qQNLFq6hIUmhoaLbbkpOTJUk+Pj5Oy/85H1sirtPubpmZmUpJSbniiailWW6PQVdJSkpSVFSUgoOD83SScWnxx5GNjqvH/JvdnqmaFRu77Oox9IE50A/uV1R9cLnX/YK0Q9Eo6f3BSHshqVi2hu4Ie7zItwmgaDSv3VmSsl2n3WqxqmbFxo7bAQBwBUJ7IfGwepa4UW8A/2O1WNWiTlenb0S1efqofuUw+dj8rrwCAADygdAOAFfBx1aOyzoCAAod37ENAAAAmByhHQAAADA5QjsAAABgcoT2q+Th4aHMzEx3l4FSLDMzk8thAgBQwhHar5KXl5eSk5PF5e7hDoZhKDk5mS9kAgCghOPqMVfJYrGoYsWK+ueff+Tj48OIp4vZ7XalpqZKkqxW3mNeKjMzU8nJyapYsaIsFou7ywEAAIWIFOQCnp6eqly5smw2m7tLKXHS0tIUExOjtLQ0d5diOjabTZUrV5anJ++9AQAo6Xi1dxGLxUJoLwRZ047KlCkjHx8fN1cDAADgHoy0AwAAACZHaAcAAABMjtAOAAAAmByhHQAAADA5i8EFxq9ox44dMgyDE03dwDAMpaeny8vLi8saugl94H70gTnQD+5XVH2QlpYmi8WiVq1aXbYd+cBc8tpvxRVXj8kDnpzdh6vyuB994H70gTnQD+5XVH1gsVjy9NpPPjCXvPZbccVIOwAAAGByzGkHAAAATI7QDgAAAJgcoR0AAAAwOUI7AAAAYHKEdgAAAMDkCO0AAACAyRHaAQAAAJMjtAMAAAAmR2gHAAAATI7QDrc7duyYHnroIbVt21Y333yzXn/9ddnt9mzt5s6dq+DgYIWGhjr9++eff9xQdcnz448/qn379ho9evRl29ntds2aNUtdunRRmzZtNGLECMXGxhZRlSVbXvtg/Pjxatq0qdPfQevWrYuoypLt2LFjevzxx9W2bVu1b99e48eP17lz53Jsu27dOt15551q2bKl+vbtqy1bthRxtSVTXvtg9erVatKkSbbXhN27dxdZnXl57SotgoKCFBIS4tQXL7/8srvLKlE83V0AMHLkSDVr1kwbN27UmTNn9PDDD6ty5coaPnx4tra9evXS1KlT3VBlyfbee+9p1apVqlu37hXbLlu2TF9++aXee+89VatWTbNmzdLjjz+uzz//XBaLpQiqLZny0weS9Oijj2rkyJGFXFXp88gjjygkJESbNm3S+fPn9fjjj2vatGl69dVXndpFRUUpPDxcb775pq6//np98803euKJJ/T111+revXqbqq+ZMhrH0hSmzZttGTJEjdUmb/XrtLi66+/1jXXXOPuMkosRtrhVhEREdq3b5/Gjh2rcuXKqV69eho2bJhWrFjh7tJKlTJlyuQ5MK5YsULDhg1Tw4YN5efnp9GjRys6Olq7du0qgkpLrvz0AQrHuXPnFBISojFjxqhs2bKqXr26+vTpo99//z1b25UrV6pTp07q1KmTypQpo549eyowMFBffPGFGyovOfLTB+7EaxfcgdAOt4qMjFStWrXk7+/vWNasWTPFxMQoMTExW/s///xTAwYMUKtWrXT77bfzcbSLDBkyROXKlbtiu5SUFB08eFBNmzZ1LPPz81PdunUVERFRmCWWeHntgyw///yzevfurZYtW6pfv37as2dPIVZXOpQvX15TpkxR5cqVHcuOHz+uqlWrZmsbGRnp9HcgSU2bNuXv4Crlpw+ybhs+fLjatGmjLl266PPPPy+SOvP72lVazJw5UzfddJNat26tCRMm6MKFC+4uqUQhtMOtEhISVL58eadlWU+C8fHxTsurV6+u2rVra9q0afrpp5/Uv39/PfLIIzp06FCR1VvanT17VoZhOL1QSRf77N/9hcJTu3Zt1a1bV++++65+/PFHtW7dWvfffz994GIRERFaunSpHn300Wy3JSQk8HdQBC7XBwEBAapXr57GjRunn376SU8//bSee+45bdu2rdDrys9rV2nRokULtW/fXuvXr9eKFSv0xx9/aNKkSe4uq0QhtMPtDMPIU7v+/ftrzpw5qlu3rnx8fDRs2DAFBwfzcbQb5LXPUDgef/xxvfbaa6pWrZr8/Pw0btw42Ww2bdy40d2llRjbt2/XiBEjNGbMGLVv3z7HNvwdFK4r9cFNN92k999/X02bNpXNZtPtt9+uW265RatXry6S+uh/ZytWrFD//v1ls9nUsGFDjR07VmvXrlVaWpq7SysxCO1wq4CAACUkJDgtS0hIkMViUUBAwBXvX6tWLZ06daqQqsO/VahQQVarNcc+q1SpknuKgjw8PFSjRg3+Flxk06ZNeuihh/Tcc89pyJAhObapWLFijn8HeXnewpXlpQ9yUlSvCVf72lUaXHPNNcrMzNSZM2fcXUqJQWiHW4WEhOj48eOKi4tzLIuIiFCjRo1UtmxZp7Zvv/12to89o6OjVbt27SKpFRdPlmzcuLEiIyMdy86dO6cjR46oefPmbqys9DAMQ1OmTNG+ffscy9LS0nTkyBH+Flxgx44dCg8P1+zZs9W7d+9c24WEhGQ7jyAiIkJhYWGFXGHJl9c+WL58udatW+e0rKheE/Lz2lUa7N27N9uV3aKjo2Wz2XI9HwH5R2iHW2Vda3rmzJlKTExUdHS0Fi5cqIEDB0qSunfv7rhqQEJCgiZNmqRDhw4pNTVVCxYs0JEjR9SnTx937kKJd/LkSXXv3t1xLfaBAwdq8eLFio6OVmJiombMmOG4fj4Kx6V9YLFYdPToUU2aNEknT57UhQsXNGPGDHl5ealr167uLrVYy8jI0AsvvKCxY8eqY8eO2W4fOnSoIyTefffd2rp1q7777julpqZq1apVOnz4sHr27FnUZZco+emDtLQ0vfzyy4qIiFB6errWrl2rH374QQMGDCj0Oq/02lXaVKpUSStWrND8+fOVlpammJgYzZ49W/fcc488PDzcXV6JwXXa4XZz5szRhAkT1KFDB/n5+WnAgAG69957JUkxMTFKSkqSJI0ZM0aSNGzYMCUkJKhRo0b68MMPuSayC2QF7oyMDElyzI3OejGMiYlxzEscMGCATp8+rcGDB+vChQtq27at3nzzTfcUXoLkpw9effVVTZs2TX379lViYqKaN2+uRYsWydfX1z3FlxB//PGHoqOj9corr+iVV15xuu3rr79WbGyszp49K0kKDAzUjBkzNGXKFB07dkyNGjXSu+++qypVqrij9BIjP30wZMgQXbhwQU899ZROnz6ta665Rm+99ZZCQkKKpNbLvXaVNtWqVdP8+fM1c+ZMvfPOO7LZbOrTp88VvygO+WMxOJMCAAAAMDWmxwAAAAAmR2gHAAAATI7QDgAAAJgcoR0AAAAwOUI7AAAAYHKEdgAAAMDkCO0AAACAyRHaARRr0dHRCgoK0i+//CJJuv/++/XMM88UaQ0dOnTQ3LlzC3UbgwcP5otKgFIoNDRUK1eudNn6Ln2OXL16tYKCgpSamuqy9R87dkyhoaH66aefXLZOXMQ3ogJwqcGDB+v333+Xp+fFpxfDMOTr66v27dvrySefVIMGDQp1+wsWLMhz2xMnTujHH39U//79C6WW5ORkderUSQMHDsw1cN92221q2rSpZs6cWSg1ADCnfz9Xenl5qX79+rr55ps1dOhQlStXTtLFb0XOq82bN6ty5cqOb1jOSX6eI/Nq6dKl6tGjhwICAlSrVq181Yy8Y6QdgMt1795dERERioiI0J49e7RmzRplZGTo3nvv1fnz591dnsOGDRtcOoL1bz4+Prrrrru0atUqpaenZ7t927ZtOnTokIYMGVJoNQAwr0ufK7/99luNGzdOv/zyi3r27KmjR4/me31z587Vnj17CqHS3J07d06vvfaa4uPji3S7pRGhHUChq1mzpp5//nnFx8drx44dkqTOnTtr7ty5uueee9S2bVtJkt1u17x583TbbbcpLCxMN910k9544w1lZmY61rVx40b16NFDYWFh6tevn/bt2+e0rX9PI9m6dav69eunFi1aqHPnznrzzTdlGIamTZum1157Tbt373b6KHfDhg3q37+/WrVqpbZt22rcuHGKi4tzrC86Olr33XefWrZsqa5du2rt2rWX3fd7771XcXFxWr9+fbbbli9frubNmyssLEw//PCD+vfvr7CwMF133XV68MEH9ddff+W4zpw+0v7hhx8UFBTkeKFPTU3VtGnT1LVrVzVv3ly33nqrFi9efNlaAbhPxYoVdf3112vBggWqUqWKXnzxRUlSUFCQli9fLkk6evSoHn30UbVt21YtW7ZU7969tXHjRkkXp+lFRkbqlVdeUefOnSXl/Dyb01S7X3/9VXfeeadatGihXr16OaYbZq1jxowZTu3vvvtujR8/Xvv27VP79u2VmZmpXr166ZlnntHRo0cVFBSkH374QZKUkZGhd955R927d1fz5s2zPa+vXr1a1113nbZv364+ffqoRYsWuu222/Tjjz+6+hAXe4R2AEUiIyND0sWPgLOsWrVKo0aN0rZt2yRJb775pj7++GO9/vrr2rlzp958802tXr3aMV/877//1pNPPqnbb79dv/32m6ZPn66FCxfmus39+/fr4Ycf1j333KNff/1V77zzjpYtW6YPPvhA4eHh6tWrl5o3b66IiAh16NBB27Zt09NPP61hw4bp119/1eeff65Tp07piSeekHRxqs/jjz8uPz8/ff/991q1apU2bdqkc+fO5VpD7dq1ddNNN+mjjz5yWn7q1Cl9++23GjRokE6dOqXHHntMt956q3bs2KENGzYoIyND48aNK9jBlvTiiy9q69atmj9/vnbu3KlJkyZp1qxZhfrJAoCr5+XlpREjRmjr1q06efKk020vvfSS/P399d133+m3337T8OHDNW7cOCUkJDgGHl544QVt2rTJcZ9/P8/mZPHixXr33Xe1bds2XXvttXrkkUecBity06RJE33wwQeSpM8//1zTp0/P1mbevHlaunSppk6dqh07dmjGjBlatmyZ3nnnHUebCxcuOGr45Zdf1LhxY4WHh8swjCvWUJoQ2gEUKsMwdPToUb366quqV6+eWrVq5bitadOmateunaxWq+x2u5YtW6YRI0YoJCREVqtVISEhGjp0qNasWSNJ+u9//6uyZcvq4Ycfls1mU4MGDTRs2LBct71q1SrVq1dP/fv3l81mU1BQkObMmaMWLVrk2H7p0qW66aabdPvtt8vT01PVq1fX2LFjtX37dsXGxmrPnj2KiYnRE088ofLly6tChQoKDw9XWlraZY/BkCFD9Pvvv2v//v2OZZ988okqVKig2267TVWrVtWWLVs0fPhweXh4yN/fX926ddOePXscb3byIyEhQV988YWeeuopNWjQQB4eHmrXrp369OnjOJYAzKtRo0YyDENHjhxxWn7u3Dl5enrKZrPJ09NTvXr10o4dO1ShQoVc13Xp82xuHnroIdWsWVM+Pj4aOXKkkpOTtWXLFpfsy5IlSzRo0CC1aNFCnp6eat26tfr06aPPPvvM0SYjI0OPPvqoqlatqjJlyqhHjx46c+aMzpw545IaSgpORAXgcl9//bXjI1tJqlKlitq0aaOFCxfK29vbsbxOnTqOn+Pi4pSQkKBp06Y5jdZkjbSkpaXp+PHjql69uuPELUlq3LhxrnX89ddfql27ttOyNm3a5Nr+0KFD+uuvv7KdxOXh4aGjR4865uNfus5q1apd9gVTktq1a6fGjRtr+fLlmjhxojIzM7Vy5Urdc889stlskqSvvvpKH3/8sY4ePaqMjAzZ7XZlZmYqMzPTaX/z4q+//pLdbteTTz4pi8XiWG4YhqpUqZKvdQEoellv1j08PJyWjxo1SmPHjtXmzZt1/fXX68Ybb9Rtt93meB7JyaXPs7lp0qSJ4+eKFSvK399fx48fL2D1/3Pu3DklJCQoMDDQaXmjRo20ePFi2e12x7K6des6fvb19ZUkpaSkXHUNJQmhHYDLde/eXbNmzbpiu0unymSF+ddff1233XZbju1zuizZ5T4+zRrBzytvb2/dc889mjhxYo63f/nllzkuz8s27rvvPr3++usaO3astm3bpjNnzmjAgAGSLn6s/Morr+iVV15Rjx495OPjo5UrV+qFF17Ic+2X1lCmTBlJ0kcffaTmzZvneR0AzCEiIkJWqzXb1bbat2+v7777Tr/88ou2bt2qmTNnat68eVq5cqX8/PxyXNelz7O5ufTNvXTxeTXreSQnl55ndDm5XUoyp+fMy30SgIs4QgBMwc/PT1WqVFFkZKTT8n/++UdJSUmSpOrVq+vEiRNOU0b+fSLqperVq6dDhw45Ldu2bZvWrVuXY/v69etn235ycrJOnTolSapRo4YkOV3V4e+//77snPYsvXr1koeHh7755hutWrVK3bp1U9WqVSVJ27dvV/369XXXXXfJx8dHkrRr165c15X1Bic5OdmxLCYmxvFznTp15OnpmW1fTpw4ccWpPADcKy0tTYsWLVKXLl2yfYoXFxcnm82mG264QeHh4Vq3bp1OnDihrVu3XtU2Dx486Pj5n3/+0dmzZx3Pd2XKlHEa8c7IyMjzlW0qVaqkcuXK6c8//3RafuDAAdWtW5egnk8cLQCmMWzYMC1fvlw//PCDMjIydOjQId1///2aOnWqJKlLly46f/68FixYoLS0NB08ePCyV0S5++67dezYMS1YsECpqamKjo7W+PHjHS84Pj4+OnXqlOLj45WcnKxhw4Zp9+7dWrBggZKSkhQfH68XXnhBw4YNk91uV/PmzVWlShW98847On/+vOLi4jR16tTLjkhl8fX11V133aXly5dry5YtGjx4sOO2unXr6sSJE/rrr7+UmJiopUuXKjo6WtLFNwX/ljX69vnnnyszM1NRUVH64osvnLZ199136+2339auXbuUmZmpiIgI3XPPPZc9cReA+2RkZGjHjh0aNmyYkpOTHVePyZKUlKRbb71VCxYsUHJysux2u3bv3q20tDTVq1dP0sXntMOHD+vs2bP5Oolz/vz5OnXqlJKSkjRnzhyVL19eN9xwgySpYcOG+vHHH/XPP/8oOTlZs2bNchqZzxpoOHToULZL+lqtVt1zzz1asmSJdu/erczMTP3888/67LPPHJ80Iu8I7QBMY/jw4Ro+fLheeukltWjRQoMHD1aHDh30/PPPS7o473LmzJlavXq12rRpo2eeeUYjR47MdX3169fXhx9+qM8//1xt2rTRgw8+qLvuuksPPPCApIuj3xkZGerUqZM2btyo5s2b64033tDnn3+utm3bqkuXLkpPT9d7770nq9Uqm82m999/X//8849uuOEG9e/fX126dHGMSF3Jfffdpz179qhJkyZOJ8MOHDhQHTt2VO/evXXrrbfqxIkTeueddxQYGKi+fftm+zShSZMmevLJJzV//nxde+21mjFjRrbjEB4eru7du+vxxx9XWFiYnnzySQ0cOFAPPvhgnmoFUPi+/vprhYaGKjQ0VK1atdLzzz+v1q1ba/Xq1Y5P4rL4+vpq3rx5Wr9+vdq3b6/WrVtr+vTpmjZtmmPO+JAhQ7R8+XLdeuutOX43RE6sVqsGDRqkYcOGqV27doqIiNC8efMc88qffvppVaxYUV26dNFtt92mWrVqOT1/BQcHq127dho9erTGjh2bbf2jRo1S3759NWbMGLVu3VqvvPKKxowZc9mLCCBnFoPr6QAAAACmxkg7AAAAYHKEdgAAAMDkCO0AAACAyRHaAQAAAJMjtAMAAAAmR2gHAAAATI7QDgAAAJgcoR0AAAAwOUI7AAAAYHKEdgAAAMDkCO0AAACAyRHaAQAAAJP7PyMqv0a50QN7AAAAAElFTkSuQmCC\n"
                },
                "metadata": {}
              }
            ]
          }
        },
        "5ee2926e6aaf40cca2235c9e12d37a03": {
          "model_module": "@jupyter-widgets/base",
          "model_name": "LayoutModel",
          "model_module_version": "1.2.0",
          "state": {
            "_model_module": "@jupyter-widgets/base",
            "_model_module_version": "1.2.0",
            "_model_name": "LayoutModel",
            "_view_count": null,
            "_view_module": "@jupyter-widgets/base",
            "_view_module_version": "1.2.0",
            "_view_name": "LayoutView",
            "align_content": null,
            "align_items": null,
            "align_self": null,
            "border": null,
            "bottom": null,
            "display": null,
            "flex": null,
            "flex_flow": null,
            "grid_area": null,
            "grid_auto_columns": null,
            "grid_auto_flow": null,
            "grid_auto_rows": null,
            "grid_column": null,
            "grid_gap": null,
            "grid_row": null,
            "grid_template_areas": null,
            "grid_template_columns": null,
            "grid_template_rows": null,
            "height": null,
            "justify_content": null,
            "justify_items": null,
            "left": null,
            "margin": null,
            "max_height": null,
            "max_width": null,
            "min_height": null,
            "min_width": null,
            "object_fit": null,
            "object_position": null,
            "order": null,
            "overflow": null,
            "overflow_x": null,
            "overflow_y": null,
            "padding": null,
            "right": null,
            "top": null,
            "visibility": null,
            "width": null
          }
        },
        "8b08fa70a657497a82a0f241183f408c": {
          "model_module": "@jupyter-widgets/base",
          "model_name": "LayoutModel",
          "model_module_version": "1.2.0",
          "state": {
            "_model_module": "@jupyter-widgets/base",
            "_model_module_version": "1.2.0",
            "_model_name": "LayoutModel",
            "_view_count": null,
            "_view_module": "@jupyter-widgets/base",
            "_view_module_version": "1.2.0",
            "_view_name": "LayoutView",
            "align_content": null,
            "align_items": null,
            "align_self": null,
            "border": null,
            "bottom": null,
            "display": null,
            "flex": null,
            "flex_flow": null,
            "grid_area": null,
            "grid_auto_columns": null,
            "grid_auto_flow": null,
            "grid_auto_rows": null,
            "grid_column": null,
            "grid_gap": null,
            "grid_row": null,
            "grid_template_areas": null,
            "grid_template_columns": null,
            "grid_template_rows": null,
            "height": null,
            "justify_content": null,
            "justify_items": null,
            "left": null,
            "margin": null,
            "max_height": null,
            "max_width": null,
            "min_height": null,
            "min_width": null,
            "object_fit": null,
            "object_position": null,
            "order": null,
            "overflow": null,
            "overflow_x": null,
            "overflow_y": null,
            "padding": null,
            "right": null,
            "top": null,
            "visibility": null,
            "width": null
          }
        },
        "ef9a910bd32f4e1a8c78909f8ce79192": {
          "model_module": "@jupyter-widgets/controls",
          "model_name": "ToggleButtonsStyleModel",
          "model_module_version": "1.5.0",
          "state": {
            "_model_module": "@jupyter-widgets/controls",
            "_model_module_version": "1.5.0",
            "_model_name": "ToggleButtonsStyleModel",
            "_view_count": null,
            "_view_module": "@jupyter-widgets/base",
            "_view_module_version": "1.2.0",
            "_view_name": "StyleView",
            "button_width": "",
            "description_width": "",
            "font_weight": ""
          }
        },
        "ec6b0bc9945e465c99b26754d77baed8": {
          "model_module": "@jupyter-widgets/base",
          "model_name": "LayoutModel",
          "model_module_version": "1.2.0",
          "state": {
            "_model_module": "@jupyter-widgets/base",
            "_model_module_version": "1.2.0",
            "_model_name": "LayoutModel",
            "_view_count": null,
            "_view_module": "@jupyter-widgets/base",
            "_view_module_version": "1.2.0",
            "_view_name": "LayoutView",
            "align_content": null,
            "align_items": null,
            "align_self": null,
            "border": null,
            "bottom": null,
            "display": null,
            "flex": null,
            "flex_flow": null,
            "grid_area": null,
            "grid_auto_columns": null,
            "grid_auto_flow": null,
            "grid_auto_rows": null,
            "grid_column": null,
            "grid_gap": null,
            "grid_row": null,
            "grid_template_areas": null,
            "grid_template_columns": null,
            "grid_template_rows": null,
            "height": null,
            "justify_content": null,
            "justify_items": null,
            "left": null,
            "margin": null,
            "max_height": null,
            "max_width": null,
            "min_height": null,
            "min_width": null,
            "object_fit": null,
            "object_position": null,
            "order": null,
            "overflow": null,
            "overflow_x": null,
            "overflow_y": null,
            "padding": null,
            "right": null,
            "top": null,
            "visibility": null,
            "width": null
          }
        },
        "b484fe02a17242c885140d382ce26796": {
          "model_module": "@jupyter-widgets/controls",
          "model_name": "HBoxModel",
          "model_module_version": "1.5.0",
          "state": {
            "_dom_classes": [],
            "_model_module": "@jupyter-widgets/controls",
            "_model_module_version": "1.5.0",
            "_model_name": "HBoxModel",
            "_view_count": null,
            "_view_module": "@jupyter-widgets/controls",
            "_view_module_version": "1.5.0",
            "_view_name": "HBoxView",
            "box_style": "",
            "children": [
              "IPY_MODEL_b789213c84d34041845368d0578acadd",
              "IPY_MODEL_0d35e041422542ae9ea6bdac35a0ceee",
              "IPY_MODEL_f661b90752c14ec6848fe547b3fb9c05"
            ],
            "layout": "IPY_MODEL_3867e93995cd418c8651bcbf2407f6af"
          }
        },
        "b789213c84d34041845368d0578acadd": {
          "model_module": "@jupyter-widgets/controls",
          "model_name": "HTMLModel",
          "model_module_version": "1.5.0",
          "state": {
            "_dom_classes": [],
            "_model_module": "@jupyter-widgets/controls",
            "_model_module_version": "1.5.0",
            "_model_name": "HTMLModel",
            "_view_count": null,
            "_view_module": "@jupyter-widgets/controls",
            "_view_module_version": "1.5.0",
            "_view_name": "HTMLView",
            "description": "",
            "description_tooltip": null,
            "layout": "IPY_MODEL_c24ae4c1198e4a1482cf0bbcdaa8c0ef",
            "placeholder": "​",
            "style": "IPY_MODEL_530f27ed050144b2a074672e29604e89",
            "value": "Processing:  75%"
          }
        },
        "0d35e041422542ae9ea6bdac35a0ceee": {
          "model_module": "@jupyter-widgets/controls",
          "model_name": "FloatProgressModel",
          "model_module_version": "1.5.0",
          "state": {
            "_dom_classes": [],
            "_model_module": "@jupyter-widgets/controls",
            "_model_module_version": "1.5.0",
            "_model_name": "FloatProgressModel",
            "_view_count": null,
            "_view_module": "@jupyter-widgets/controls",
            "_view_module_version": "1.5.0",
            "_view_name": "ProgressView",
            "bar_style": "danger",
            "description": "",
            "description_tooltip": null,
            "layout": "IPY_MODEL_f1e5b14d995a4c4787d73df181acbea8",
            "max": 4,
            "min": 0,
            "orientation": "horizontal",
            "style": "IPY_MODEL_40215ae88d864c76b65a171ea396f4a2",
            "value": 3
          }
        },
        "f661b90752c14ec6848fe547b3fb9c05": {
          "model_module": "@jupyter-widgets/controls",
          "model_name": "HTMLModel",
          "model_module_version": "1.5.0",
          "state": {
            "_dom_classes": [],
            "_model_module": "@jupyter-widgets/controls",
            "_model_module_version": "1.5.0",
            "_model_name": "HTMLModel",
            "_view_count": null,
            "_view_module": "@jupyter-widgets/controls",
            "_view_module_version": "1.5.0",
            "_view_name": "HTMLView",
            "description": "",
            "description_tooltip": null,
            "layout": "IPY_MODEL_b2666823e9c84bdc8d34b5b84238394f",
            "placeholder": "​",
            "style": "IPY_MODEL_4d5110f6de394035a7da80d59500ab56",
            "value": " 3/4 [00:01&lt;00:00,  2.53it/s]"
          }
        },
        "3867e93995cd418c8651bcbf2407f6af": {
          "model_module": "@jupyter-widgets/base",
          "model_name": "LayoutModel",
          "model_module_version": "1.2.0",
          "state": {
            "_model_module": "@jupyter-widgets/base",
            "_model_module_version": "1.2.0",
            "_model_name": "LayoutModel",
            "_view_count": null,
            "_view_module": "@jupyter-widgets/base",
            "_view_module_version": "1.2.0",
            "_view_name": "LayoutView",
            "align_content": null,
            "align_items": null,
            "align_self": null,
            "border": null,
            "bottom": null,
            "display": null,
            "flex": null,
            "flex_flow": null,
            "grid_area": null,
            "grid_auto_columns": null,
            "grid_auto_flow": null,
            "grid_auto_rows": null,
            "grid_column": null,
            "grid_gap": null,
            "grid_row": null,
            "grid_template_areas": null,
            "grid_template_columns": null,
            "grid_template_rows": null,
            "height": null,
            "justify_content": null,
            "justify_items": null,
            "left": null,
            "margin": null,
            "max_height": null,
            "max_width": null,
            "min_height": null,
            "min_width": null,
            "object_fit": null,
            "object_position": null,
            "order": null,
            "overflow": null,
            "overflow_x": null,
            "overflow_y": null,
            "padding": null,
            "right": null,
            "top": null,
            "visibility": null,
            "width": null
          }
        },
        "c24ae4c1198e4a1482cf0bbcdaa8c0ef": {
          "model_module": "@jupyter-widgets/base",
          "model_name": "LayoutModel",
          "model_module_version": "1.2.0",
          "state": {
            "_model_module": "@jupyter-widgets/base",
            "_model_module_version": "1.2.0",
            "_model_name": "LayoutModel",
            "_view_count": null,
            "_view_module": "@jupyter-widgets/base",
            "_view_module_version": "1.2.0",
            "_view_name": "LayoutView",
            "align_content": null,
            "align_items": null,
            "align_self": null,
            "border": null,
            "bottom": null,
            "display": null,
            "flex": null,
            "flex_flow": null,
            "grid_area": null,
            "grid_auto_columns": null,
            "grid_auto_flow": null,
            "grid_auto_rows": null,
            "grid_column": null,
            "grid_gap": null,
            "grid_row": null,
            "grid_template_areas": null,
            "grid_template_columns": null,
            "grid_template_rows": null,
            "height": null,
            "justify_content": null,
            "justify_items": null,
            "left": null,
            "margin": null,
            "max_height": null,
            "max_width": null,
            "min_height": null,
            "min_width": null,
            "object_fit": null,
            "object_position": null,
            "order": null,
            "overflow": null,
            "overflow_x": null,
            "overflow_y": null,
            "padding": null,
            "right": null,
            "top": null,
            "visibility": null,
            "width": null
          }
        },
        "530f27ed050144b2a074672e29604e89": {
          "model_module": "@jupyter-widgets/controls",
          "model_name": "DescriptionStyleModel",
          "model_module_version": "1.5.0",
          "state": {
            "_model_module": "@jupyter-widgets/controls",
            "_model_module_version": "1.5.0",
            "_model_name": "DescriptionStyleModel",
            "_view_count": null,
            "_view_module": "@jupyter-widgets/base",
            "_view_module_version": "1.2.0",
            "_view_name": "StyleView",
            "description_width": ""
          }
        },
        "f1e5b14d995a4c4787d73df181acbea8": {
          "model_module": "@jupyter-widgets/base",
          "model_name": "LayoutModel",
          "model_module_version": "1.2.0",
          "state": {
            "_model_module": "@jupyter-widgets/base",
            "_model_module_version": "1.2.0",
            "_model_name": "LayoutModel",
            "_view_count": null,
            "_view_module": "@jupyter-widgets/base",
            "_view_module_version": "1.2.0",
            "_view_name": "LayoutView",
            "align_content": null,
            "align_items": null,
            "align_self": null,
            "border": null,
            "bottom": null,
            "display": null,
            "flex": null,
            "flex_flow": null,
            "grid_area": null,
            "grid_auto_columns": null,
            "grid_auto_flow": null,
            "grid_auto_rows": null,
            "grid_column": null,
            "grid_gap": null,
            "grid_row": null,
            "grid_template_areas": null,
            "grid_template_columns": null,
            "grid_template_rows": null,
            "height": null,
            "justify_content": null,
            "justify_items": null,
            "left": null,
            "margin": null,
            "max_height": null,
            "max_width": null,
            "min_height": null,
            "min_width": null,
            "object_fit": null,
            "object_position": null,
            "order": null,
            "overflow": null,
            "overflow_x": null,
            "overflow_y": null,
            "padding": null,
            "right": null,
            "top": null,
            "visibility": null,
            "width": null
          }
        },
        "40215ae88d864c76b65a171ea396f4a2": {
          "model_module": "@jupyter-widgets/controls",
          "model_name": "ProgressStyleModel",
          "model_module_version": "1.5.0",
          "state": {
            "_model_module": "@jupyter-widgets/controls",
            "_model_module_version": "1.5.0",
            "_model_name": "ProgressStyleModel",
            "_view_count": null,
            "_view_module": "@jupyter-widgets/base",
            "_view_module_version": "1.2.0",
            "_view_name": "StyleView",
            "bar_color": null,
            "description_width": ""
          }
        },
        "b2666823e9c84bdc8d34b5b84238394f": {
          "model_module": "@jupyter-widgets/base",
          "model_name": "LayoutModel",
          "model_module_version": "1.2.0",
          "state": {
            "_model_module": "@jupyter-widgets/base",
            "_model_module_version": "1.2.0",
            "_model_name": "LayoutModel",
            "_view_count": null,
            "_view_module": "@jupyter-widgets/base",
            "_view_module_version": "1.2.0",
            "_view_name": "LayoutView",
            "align_content": null,
            "align_items": null,
            "align_self": null,
            "border": null,
            "bottom": null,
            "display": null,
            "flex": null,
            "flex_flow": null,
            "grid_area": null,
            "grid_auto_columns": null,
            "grid_auto_flow": null,
            "grid_auto_rows": null,
            "grid_column": null,
            "grid_gap": null,
            "grid_row": null,
            "grid_template_areas": null,
            "grid_template_columns": null,
            "grid_template_rows": null,
            "height": null,
            "justify_content": null,
            "justify_items": null,
            "left": null,
            "margin": null,
            "max_height": null,
            "max_width": null,
            "min_height": null,
            "min_width": null,
            "object_fit": null,
            "object_position": null,
            "order": null,
            "overflow": null,
            "overflow_x": null,
            "overflow_y": null,
            "padding": null,
            "right": null,
            "top": null,
            "visibility": null,
            "width": null
          }
        },
        "4d5110f6de394035a7da80d59500ab56": {
          "model_module": "@jupyter-widgets/controls",
          "model_name": "DescriptionStyleModel",
          "model_module_version": "1.5.0",
          "state": {
            "_model_module": "@jupyter-widgets/controls",
            "_model_module_version": "1.5.0",
            "_model_name": "DescriptionStyleModel",
            "_view_count": null,
            "_view_module": "@jupyter-widgets/base",
            "_view_module_version": "1.2.0",
            "_view_name": "StyleView",
            "description_width": ""
          }
        },
        "2392fb2bdb7243bc964ec2970b27ceef": {
          "model_module": "@jupyter-widgets/controls",
          "model_name": "VBoxModel",
          "model_module_version": "1.5.0",
          "state": {
            "_dom_classes": [
              "widget-interact"
            ],
            "_model_module": "@jupyter-widgets/controls",
            "_model_module_version": "1.5.0",
            "_model_name": "VBoxModel",
            "_view_count": null,
            "_view_module": "@jupyter-widgets/controls",
            "_view_module_version": "1.5.0",
            "_view_name": "VBoxView",
            "box_style": "",
            "children": [
              "IPY_MODEL_4b9776dfc1b44b949d0780c1fb75470a",
              "IPY_MODEL_b043f3a9c06c435b84fec6dda3491cb1"
            ],
            "layout": "IPY_MODEL_65662a40a88f4867a818d994bb888ccb"
          }
        },
        "4b9776dfc1b44b949d0780c1fb75470a": {
          "model_module": "@jupyter-widgets/controls",
          "model_name": "ToggleButtonsModel",
          "model_module_version": "1.5.0",
          "state": {
            "_dom_classes": [],
            "_model_module": "@jupyter-widgets/controls",
            "_model_module_version": "1.5.0",
            "_model_name": "ToggleButtonsModel",
            "_options_labels": [
              "Pipeline Plot",
              "Hyperparameters",
              "Residuals",
              "Prediction Error",
              "Cooks Distance",
              "Feature Selection",
              "Learning Curve",
              "Manifold Learning",
              "Validation Curve",
              "Feature Importance",
              "Feature Importance (All)",
              "Decision Tree",
              "Interactive Residuals"
            ],
            "_view_count": null,
            "_view_module": "@jupyter-widgets/controls",
            "_view_module_version": "1.5.0",
            "_view_name": "ToggleButtonsView",
            "button_style": "",
            "description": "Plot Type:",
            "description_tooltip": null,
            "disabled": false,
            "icons": [
              ""
            ],
            "index": 2,
            "layout": "IPY_MODEL_c24b0f0ce4e6416fb22387a7ded86759",
            "style": "IPY_MODEL_5be09afde6cf43d4998d7c4c7a8c3394",
            "tooltips": []
          }
        },
        "b043f3a9c06c435b84fec6dda3491cb1": {
          "model_module": "@jupyter-widgets/output",
          "model_name": "OutputModel",
          "model_module_version": "1.0.0",
          "state": {
            "_dom_classes": [],
            "_model_module": "@jupyter-widgets/output",
            "_model_module_version": "1.0.0",
            "_model_name": "OutputModel",
            "_view_count": null,
            "_view_module": "@jupyter-widgets/output",
            "_view_module_version": "1.0.0",
            "_view_name": "OutputView",
            "layout": "IPY_MODEL_3c5e7f693a254a9f92f6e80a48b9427d",
            "msg_id": "",
            "outputs": [
              {
                "output_type": "display_data",
                "data": {
                  "text/plain": "<Figure size 800x550 with 2 Axes>",
                  "image/png": "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\n"
                },
                "metadata": {}
              }
            ]
          }
        },
        "65662a40a88f4867a818d994bb888ccb": {
          "model_module": "@jupyter-widgets/base",
          "model_name": "LayoutModel",
          "model_module_version": "1.2.0",
          "state": {
            "_model_module": "@jupyter-widgets/base",
            "_model_module_version": "1.2.0",
            "_model_name": "LayoutModel",
            "_view_count": null,
            "_view_module": "@jupyter-widgets/base",
            "_view_module_version": "1.2.0",
            "_view_name": "LayoutView",
            "align_content": null,
            "align_items": null,
            "align_self": null,
            "border": null,
            "bottom": null,
            "display": null,
            "flex": null,
            "flex_flow": null,
            "grid_area": null,
            "grid_auto_columns": null,
            "grid_auto_flow": null,
            "grid_auto_rows": null,
            "grid_column": null,
            "grid_gap": null,
            "grid_row": null,
            "grid_template_areas": null,
            "grid_template_columns": null,
            "grid_template_rows": null,
            "height": null,
            "justify_content": null,
            "justify_items": null,
            "left": null,
            "margin": null,
            "max_height": null,
            "max_width": null,
            "min_height": null,
            "min_width": null,
            "object_fit": null,
            "object_position": null,
            "order": null,
            "overflow": null,
            "overflow_x": null,
            "overflow_y": null,
            "padding": null,
            "right": null,
            "top": null,
            "visibility": null,
            "width": null
          }
        },
        "c24b0f0ce4e6416fb22387a7ded86759": {
          "model_module": "@jupyter-widgets/base",
          "model_name": "LayoutModel",
          "model_module_version": "1.2.0",
          "state": {
            "_model_module": "@jupyter-widgets/base",
            "_model_module_version": "1.2.0",
            "_model_name": "LayoutModel",
            "_view_count": null,
            "_view_module": "@jupyter-widgets/base",
            "_view_module_version": "1.2.0",
            "_view_name": "LayoutView",
            "align_content": null,
            "align_items": null,
            "align_self": null,
            "border": null,
            "bottom": null,
            "display": null,
            "flex": null,
            "flex_flow": null,
            "grid_area": null,
            "grid_auto_columns": null,
            "grid_auto_flow": null,
            "grid_auto_rows": null,
            "grid_column": null,
            "grid_gap": null,
            "grid_row": null,
            "grid_template_areas": null,
            "grid_template_columns": null,
            "grid_template_rows": null,
            "height": null,
            "justify_content": null,
            "justify_items": null,
            "left": null,
            "margin": null,
            "max_height": null,
            "max_width": null,
            "min_height": null,
            "min_width": null,
            "object_fit": null,
            "object_position": null,
            "order": null,
            "overflow": null,
            "overflow_x": null,
            "overflow_y": null,
            "padding": null,
            "right": null,
            "top": null,
            "visibility": null,
            "width": null
          }
        },
        "5be09afde6cf43d4998d7c4c7a8c3394": {
          "model_module": "@jupyter-widgets/controls",
          "model_name": "ToggleButtonsStyleModel",
          "model_module_version": "1.5.0",
          "state": {
            "_model_module": "@jupyter-widgets/controls",
            "_model_module_version": "1.5.0",
            "_model_name": "ToggleButtonsStyleModel",
            "_view_count": null,
            "_view_module": "@jupyter-widgets/base",
            "_view_module_version": "1.2.0",
            "_view_name": "StyleView",
            "button_width": "",
            "description_width": "",
            "font_weight": ""
          }
        },
        "3c5e7f693a254a9f92f6e80a48b9427d": {
          "model_module": "@jupyter-widgets/base",
          "model_name": "LayoutModel",
          "model_module_version": "1.2.0",
          "state": {
            "_model_module": "@jupyter-widgets/base",
            "_model_module_version": "1.2.0",
            "_model_name": "LayoutModel",
            "_view_count": null,
            "_view_module": "@jupyter-widgets/base",
            "_view_module_version": "1.2.0",
            "_view_name": "LayoutView",
            "align_content": null,
            "align_items": null,
            "align_self": null,
            "border": null,
            "bottom": null,
            "display": null,
            "flex": null,
            "flex_flow": null,
            "grid_area": null,
            "grid_auto_columns": null,
            "grid_auto_flow": null,
            "grid_auto_rows": null,
            "grid_column": null,
            "grid_gap": null,
            "grid_row": null,
            "grid_template_areas": null,
            "grid_template_columns": null,
            "grid_template_rows": null,
            "height": null,
            "justify_content": null,
            "justify_items": null,
            "left": null,
            "margin": null,
            "max_height": null,
            "max_width": null,
            "min_height": null,
            "min_width": null,
            "object_fit": null,
            "object_position": null,
            "order": null,
            "overflow": null,
            "overflow_x": null,
            "overflow_y": null,
            "padding": null,
            "right": null,
            "top": null,
            "visibility": null,
            "width": null
          }
        }
      }
    }
  },
  "cells": [
    {
      "cell_type": "code",
      "execution_count": null,
      "metadata": {
        "id": "DCB1va66FmaM"
      },
      "outputs": [],
      "source": [
        "!pip install pycaret"
      ]
    },
    {
      "cell_type": "code",
      "source": [
        "!pip install shap"
      ],
      "metadata": {
        "id": "uCOJtWFhcIFZ"
      },
      "execution_count": null,
      "outputs": []
    },
    {
      "cell_type": "code",
      "source": [
        "import pandas as pd\n",
        "import matplotlib.pyplot as plt\n",
        "from pycaret.regression import *"
      ],
      "metadata": {
        "id": "wv1Xf9dgFuuZ"
      },
      "execution_count": 3,
      "outputs": []
    },
    {
      "cell_type": "code",
      "source": [
        "from google.colab import files\n",
        "uploaded = files.upload()"
      ],
      "metadata": {
        "id": "NN5LO8RCF9l0"
      },
      "execution_count": null,
      "outputs": []
    },
    {
      "cell_type": "code",
      "source": [
        "data = pd.read_excel('/content/data_paper1.xlsx',sheet_name='XRD+PL')"
      ],
      "metadata": {
        "id": "75VJsniDKFh7"
      },
      "execution_count": 5,
      "outputs": []
    },
    {
      "cell_type": "code",
      "source": [
        "s = setup(data,target = 'delta(eff)', train_size = 0.9, session_id=78)"
      ],
      "metadata": {
        "colab": {
          "base_uri": "https://localhost:8080/",
          "height": 645
        },
        "id": "U6jeXubZGGFz",
        "outputId": "28367d0d-e19d-485b-c3d4-ef2fecfe489a"
      },
      "execution_count": 6,
      "outputs": [
        {
          "output_type": "display_data",
          "data": {
            "text/plain": [
              "<pandas.io.formats.style.Styler at 0x7ef459c156c0>"
            ],
            "text/html": [
              "<style type=\"text/css\">\n",
              "#T_f08e8_row8_col1 {\n",
              "  background-color: lightgreen;\n",
              "}\n",
              "</style>\n",
              "<table id=\"T_f08e8\" class=\"dataframe\">\n",
              "  <thead>\n",
              "    <tr>\n",
              "      <th class=\"blank level0\" >&nbsp;</th>\n",
              "      <th id=\"T_f08e8_level0_col0\" class=\"col_heading level0 col0\" >Description</th>\n",
              "      <th id=\"T_f08e8_level0_col1\" class=\"col_heading level0 col1\" >Value</th>\n",
              "    </tr>\n",
              "  </thead>\n",
              "  <tbody>\n",
              "    <tr>\n",
              "      <th id=\"T_f08e8_level0_row0\" class=\"row_heading level0 row0\" >0</th>\n",
              "      <td id=\"T_f08e8_row0_col0\" class=\"data row0 col0\" >Session id</td>\n",
              "      <td id=\"T_f08e8_row0_col1\" class=\"data row0 col1\" >78</td>\n",
              "    </tr>\n",
              "    <tr>\n",
              "      <th id=\"T_f08e8_level0_row1\" class=\"row_heading level0 row1\" >1</th>\n",
              "      <td id=\"T_f08e8_row1_col0\" class=\"data row1 col0\" >Target</td>\n",
              "      <td id=\"T_f08e8_row1_col1\" class=\"data row1 col1\" >delta(eff)</td>\n",
              "    </tr>\n",
              "    <tr>\n",
              "      <th id=\"T_f08e8_level0_row2\" class=\"row_heading level0 row2\" >2</th>\n",
              "      <td id=\"T_f08e8_row2_col0\" class=\"data row2 col0\" >Target type</td>\n",
              "      <td id=\"T_f08e8_row2_col1\" class=\"data row2 col1\" >Regression</td>\n",
              "    </tr>\n",
              "    <tr>\n",
              "      <th id=\"T_f08e8_level0_row3\" class=\"row_heading level0 row3\" >3</th>\n",
              "      <td id=\"T_f08e8_row3_col0\" class=\"data row3 col0\" >Original data shape</td>\n",
              "      <td id=\"T_f08e8_row3_col1\" class=\"data row3 col1\" >(27, 27)</td>\n",
              "    </tr>\n",
              "    <tr>\n",
              "      <th id=\"T_f08e8_level0_row4\" class=\"row_heading level0 row4\" >4</th>\n",
              "      <td id=\"T_f08e8_row4_col0\" class=\"data row4 col0\" >Transformed data shape</td>\n",
              "      <td id=\"T_f08e8_row4_col1\" class=\"data row4 col1\" >(27, 27)</td>\n",
              "    </tr>\n",
              "    <tr>\n",
              "      <th id=\"T_f08e8_level0_row5\" class=\"row_heading level0 row5\" >5</th>\n",
              "      <td id=\"T_f08e8_row5_col0\" class=\"data row5 col0\" >Transformed train set shape</td>\n",
              "      <td id=\"T_f08e8_row5_col1\" class=\"data row5 col1\" >(24, 27)</td>\n",
              "    </tr>\n",
              "    <tr>\n",
              "      <th id=\"T_f08e8_level0_row6\" class=\"row_heading level0 row6\" >6</th>\n",
              "      <td id=\"T_f08e8_row6_col0\" class=\"data row6 col0\" >Transformed test set shape</td>\n",
              "      <td id=\"T_f08e8_row6_col1\" class=\"data row6 col1\" >(3, 27)</td>\n",
              "    </tr>\n",
              "    <tr>\n",
              "      <th id=\"T_f08e8_level0_row7\" class=\"row_heading level0 row7\" >7</th>\n",
              "      <td id=\"T_f08e8_row7_col0\" class=\"data row7 col0\" >Numeric features</td>\n",
              "      <td id=\"T_f08e8_row7_col1\" class=\"data row7 col1\" >26</td>\n",
              "    </tr>\n",
              "    <tr>\n",
              "      <th id=\"T_f08e8_level0_row8\" class=\"row_heading level0 row8\" >8</th>\n",
              "      <td id=\"T_f08e8_row8_col0\" class=\"data row8 col0\" >Preprocess</td>\n",
              "      <td id=\"T_f08e8_row8_col1\" class=\"data row8 col1\" >True</td>\n",
              "    </tr>\n",
              "    <tr>\n",
              "      <th id=\"T_f08e8_level0_row9\" class=\"row_heading level0 row9\" >9</th>\n",
              "      <td id=\"T_f08e8_row9_col0\" class=\"data row9 col0\" >Imputation type</td>\n",
              "      <td id=\"T_f08e8_row9_col1\" class=\"data row9 col1\" >simple</td>\n",
              "    </tr>\n",
              "    <tr>\n",
              "      <th id=\"T_f08e8_level0_row10\" class=\"row_heading level0 row10\" >10</th>\n",
              "      <td id=\"T_f08e8_row10_col0\" class=\"data row10 col0\" >Numeric imputation</td>\n",
              "      <td id=\"T_f08e8_row10_col1\" class=\"data row10 col1\" >mean</td>\n",
              "    </tr>\n",
              "    <tr>\n",
              "      <th id=\"T_f08e8_level0_row11\" class=\"row_heading level0 row11\" >11</th>\n",
              "      <td id=\"T_f08e8_row11_col0\" class=\"data row11 col0\" >Categorical imputation</td>\n",
              "      <td id=\"T_f08e8_row11_col1\" class=\"data row11 col1\" >mode</td>\n",
              "    </tr>\n",
              "    <tr>\n",
              "      <th id=\"T_f08e8_level0_row12\" class=\"row_heading level0 row12\" >12</th>\n",
              "      <td id=\"T_f08e8_row12_col0\" class=\"data row12 col0\" >Fold Generator</td>\n",
              "      <td id=\"T_f08e8_row12_col1\" class=\"data row12 col1\" >KFold</td>\n",
              "    </tr>\n",
              "    <tr>\n",
              "      <th id=\"T_f08e8_level0_row13\" class=\"row_heading level0 row13\" >13</th>\n",
              "      <td id=\"T_f08e8_row13_col0\" class=\"data row13 col0\" >Fold Number</td>\n",
              "      <td id=\"T_f08e8_row13_col1\" class=\"data row13 col1\" >10</td>\n",
              "    </tr>\n",
              "    <tr>\n",
              "      <th id=\"T_f08e8_level0_row14\" class=\"row_heading level0 row14\" >14</th>\n",
              "      <td id=\"T_f08e8_row14_col0\" class=\"data row14 col0\" >CPU Jobs</td>\n",
              "      <td id=\"T_f08e8_row14_col1\" class=\"data row14 col1\" >-1</td>\n",
              "    </tr>\n",
              "    <tr>\n",
              "      <th id=\"T_f08e8_level0_row15\" class=\"row_heading level0 row15\" >15</th>\n",
              "      <td id=\"T_f08e8_row15_col0\" class=\"data row15 col0\" >Use GPU</td>\n",
              "      <td id=\"T_f08e8_row15_col1\" class=\"data row15 col1\" >False</td>\n",
              "    </tr>\n",
              "    <tr>\n",
              "      <th id=\"T_f08e8_level0_row16\" class=\"row_heading level0 row16\" >16</th>\n",
              "      <td id=\"T_f08e8_row16_col0\" class=\"data row16 col0\" >Log Experiment</td>\n",
              "      <td id=\"T_f08e8_row16_col1\" class=\"data row16 col1\" >False</td>\n",
              "    </tr>\n",
              "    <tr>\n",
              "      <th id=\"T_f08e8_level0_row17\" class=\"row_heading level0 row17\" >17</th>\n",
              "      <td id=\"T_f08e8_row17_col0\" class=\"data row17 col0\" >Experiment Name</td>\n",
              "      <td id=\"T_f08e8_row17_col1\" class=\"data row17 col1\" >reg-default-name</td>\n",
              "    </tr>\n",
              "    <tr>\n",
              "      <th id=\"T_f08e8_level0_row18\" class=\"row_heading level0 row18\" >18</th>\n",
              "      <td id=\"T_f08e8_row18_col0\" class=\"data row18 col0\" >USI</td>\n",
              "      <td id=\"T_f08e8_row18_col1\" class=\"data row18 col1\" >16f9</td>\n",
              "    </tr>\n",
              "  </tbody>\n",
              "</table>\n"
            ]
          },
          "metadata": {}
        }
      ]
    },
    {
      "cell_type": "code",
      "source": [
        "best = compare_models(cross_validation=False)"
      ],
      "metadata": {
        "colab": {
          "base_uri": "https://localhost:8080/",
          "height": 645,
          "referenced_widgets": [
            "798254a3dabd45baaaa6a26d15ce3791",
            "e1ca6ccddfb0432ebe1c5bf35db9c494",
            "506417b42f0942c8b079c7ccfa2557ab",
            "f567cb3035a3403ca905d4ce8fe001eb",
            "30282d9fd2614c03a3f9108d1dfd361b",
            "e263c02c0a35460e9954fcc60c584de6",
            "602dd7a8469b48429705d006891592d6",
            "70e3ccae512840cd99a3cf52199dbf91",
            "84ada6e8d0ee4d67aac33e25661facc4",
            "676a4430f42c450cbf835cb08bea229a",
            "1f430adad958473e8a0c2323aa9f1702"
          ]
        },
        "id": "o5JwE4jgGSFw",
        "outputId": "be24372b-9ed4-485a-f4b3-3a0f936e94c3"
      },
      "execution_count": 8,
      "outputs": [
        {
          "output_type": "display_data",
          "data": {
            "text/plain": [
              "<IPython.core.display.HTML object>"
            ],
            "text/html": []
          },
          "metadata": {}
        },
        {
          "output_type": "display_data",
          "data": {
            "text/plain": [
              "<pandas.io.formats.style.Styler at 0x7ef478dfc940>"
            ],
            "text/html": [
              "<style type=\"text/css\">\n",
              "#T_3c4ee th {\n",
              "  text-align: left;\n",
              "}\n",
              "#T_3c4ee_row0_col0, #T_3c4ee_row1_col0, #T_3c4ee_row1_col1, #T_3c4ee_row1_col2, #T_3c4ee_row1_col3, #T_3c4ee_row1_col4, #T_3c4ee_row1_col5, #T_3c4ee_row1_col6, #T_3c4ee_row2_col0, #T_3c4ee_row2_col1, #T_3c4ee_row2_col2, #T_3c4ee_row2_col3, #T_3c4ee_row2_col4, #T_3c4ee_row2_col5, #T_3c4ee_row2_col6, #T_3c4ee_row3_col0, #T_3c4ee_row3_col1, #T_3c4ee_row3_col2, #T_3c4ee_row3_col3, #T_3c4ee_row3_col4, #T_3c4ee_row3_col5, #T_3c4ee_row3_col6, #T_3c4ee_row4_col0, #T_3c4ee_row4_col1, #T_3c4ee_row4_col2, #T_3c4ee_row4_col3, #T_3c4ee_row4_col4, #T_3c4ee_row4_col5, #T_3c4ee_row4_col6, #T_3c4ee_row5_col0, #T_3c4ee_row5_col1, #T_3c4ee_row5_col2, #T_3c4ee_row5_col3, #T_3c4ee_row5_col4, #T_3c4ee_row5_col5, #T_3c4ee_row5_col6, #T_3c4ee_row6_col0, #T_3c4ee_row6_col1, #T_3c4ee_row6_col2, #T_3c4ee_row6_col3, #T_3c4ee_row6_col4, #T_3c4ee_row6_col5, #T_3c4ee_row6_col6, #T_3c4ee_row7_col0, #T_3c4ee_row7_col1, #T_3c4ee_row7_col2, #T_3c4ee_row7_col3, #T_3c4ee_row7_col4, #T_3c4ee_row7_col5, #T_3c4ee_row7_col6, #T_3c4ee_row8_col0, #T_3c4ee_row8_col1, #T_3c4ee_row8_col2, #T_3c4ee_row8_col3, #T_3c4ee_row8_col4, #T_3c4ee_row8_col5, #T_3c4ee_row8_col6, #T_3c4ee_row9_col0, #T_3c4ee_row9_col1, #T_3c4ee_row9_col2, #T_3c4ee_row9_col3, #T_3c4ee_row9_col4, #T_3c4ee_row9_col5, #T_3c4ee_row9_col6, #T_3c4ee_row10_col0, #T_3c4ee_row10_col1, #T_3c4ee_row10_col2, #T_3c4ee_row10_col3, #T_3c4ee_row10_col4, #T_3c4ee_row10_col5, #T_3c4ee_row10_col6, #T_3c4ee_row11_col0, #T_3c4ee_row11_col1, #T_3c4ee_row11_col2, #T_3c4ee_row11_col3, #T_3c4ee_row11_col4, #T_3c4ee_row11_col5, #T_3c4ee_row11_col6, #T_3c4ee_row12_col0, #T_3c4ee_row12_col1, #T_3c4ee_row12_col2, #T_3c4ee_row12_col3, #T_3c4ee_row12_col4, #T_3c4ee_row12_col5, #T_3c4ee_row12_col6, #T_3c4ee_row13_col0, #T_3c4ee_row13_col1, #T_3c4ee_row13_col2, #T_3c4ee_row13_col3, #T_3c4ee_row13_col4, #T_3c4ee_row13_col5, #T_3c4ee_row13_col6, #T_3c4ee_row14_col0, #T_3c4ee_row14_col1, #T_3c4ee_row14_col2, #T_3c4ee_row14_col3, #T_3c4ee_row14_col4, #T_3c4ee_row14_col5, #T_3c4ee_row14_col6, #T_3c4ee_row15_col0, #T_3c4ee_row15_col1, #T_3c4ee_row15_col2, #T_3c4ee_row15_col3, #T_3c4ee_row15_col4, #T_3c4ee_row15_col5, #T_3c4ee_row15_col6, #T_3c4ee_row16_col0, #T_3c4ee_row16_col1, #T_3c4ee_row16_col2, #T_3c4ee_row16_col3, #T_3c4ee_row16_col4, #T_3c4ee_row16_col5, #T_3c4ee_row16_col6, #T_3c4ee_row17_col0, #T_3c4ee_row17_col1, #T_3c4ee_row17_col2, #T_3c4ee_row17_col3, #T_3c4ee_row17_col4, #T_3c4ee_row17_col5, #T_3c4ee_row17_col6, #T_3c4ee_row18_col0, #T_3c4ee_row18_col1, #T_3c4ee_row18_col2, #T_3c4ee_row18_col3, #T_3c4ee_row18_col4, #T_3c4ee_row18_col5, #T_3c4ee_row18_col6 {\n",
              "  text-align: left;\n",
              "}\n",
              "#T_3c4ee_row0_col1, #T_3c4ee_row0_col2, #T_3c4ee_row0_col3, #T_3c4ee_row0_col4, #T_3c4ee_row0_col5, #T_3c4ee_row0_col6 {\n",
              "  text-align: left;\n",
              "  background-color: yellow;\n",
              "}\n",
              "#T_3c4ee_row0_col7, #T_3c4ee_row1_col7, #T_3c4ee_row2_col7, #T_3c4ee_row3_col7, #T_3c4ee_row4_col7, #T_3c4ee_row8_col7, #T_3c4ee_row10_col7, #T_3c4ee_row12_col7, #T_3c4ee_row13_col7, #T_3c4ee_row14_col7, #T_3c4ee_row15_col7, #T_3c4ee_row16_col7, #T_3c4ee_row18_col7 {\n",
              "  text-align: left;\n",
              "  background-color: lightgrey;\n",
              "}\n",
              "#T_3c4ee_row5_col7, #T_3c4ee_row6_col7, #T_3c4ee_row7_col7, #T_3c4ee_row9_col7, #T_3c4ee_row11_col7, #T_3c4ee_row17_col7 {\n",
              "  text-align: left;\n",
              "  background-color: yellow;\n",
              "  background-color: lightgrey;\n",
              "}\n",
              "</style>\n",
              "<table id=\"T_3c4ee\" class=\"dataframe\">\n",
              "  <thead>\n",
              "    <tr>\n",
              "      <th class=\"blank level0\" >&nbsp;</th>\n",
              "      <th id=\"T_3c4ee_level0_col0\" class=\"col_heading level0 col0\" >Model</th>\n",
              "      <th id=\"T_3c4ee_level0_col1\" class=\"col_heading level0 col1\" >MAE</th>\n",
              "      <th id=\"T_3c4ee_level0_col2\" class=\"col_heading level0 col2\" >MSE</th>\n",
              "      <th id=\"T_3c4ee_level0_col3\" class=\"col_heading level0 col3\" >RMSE</th>\n",
              "      <th id=\"T_3c4ee_level0_col4\" class=\"col_heading level0 col4\" >R2</th>\n",
              "      <th id=\"T_3c4ee_level0_col5\" class=\"col_heading level0 col5\" >RMSLE</th>\n",
              "      <th id=\"T_3c4ee_level0_col6\" class=\"col_heading level0 col6\" >MAPE</th>\n",
              "      <th id=\"T_3c4ee_level0_col7\" class=\"col_heading level0 col7\" >TT (Sec)</th>\n",
              "    </tr>\n",
              "  </thead>\n",
              "  <tbody>\n",
              "    <tr>\n",
              "      <th id=\"T_3c4ee_level0_row0\" class=\"row_heading level0 row0\" >xgboost</th>\n",
              "      <td id=\"T_3c4ee_row0_col0\" class=\"data row0 col0\" >Extreme Gradient Boosting</td>\n",
              "      <td id=\"T_3c4ee_row0_col1\" class=\"data row0 col1\" >0.1020</td>\n",
              "      <td id=\"T_3c4ee_row0_col2\" class=\"data row0 col2\" >0.0111</td>\n",
              "      <td id=\"T_3c4ee_row0_col3\" class=\"data row0 col3\" >0.1052</td>\n",
              "      <td id=\"T_3c4ee_row0_col4\" class=\"data row0 col4\" >0.9793</td>\n",
              "      <td id=\"T_3c4ee_row0_col5\" class=\"data row0 col5\" >0.0466</td>\n",
              "      <td id=\"T_3c4ee_row0_col6\" class=\"data row0 col6\" >0.0873</td>\n",
              "      <td id=\"T_3c4ee_row0_col7\" class=\"data row0 col7\" >0.0600</td>\n",
              "    </tr>\n",
              "    <tr>\n",
              "      <th id=\"T_3c4ee_level0_row1\" class=\"row_heading level0 row1\" >gbr</th>\n",
              "      <td id=\"T_3c4ee_row1_col0\" class=\"data row1 col0\" >Gradient Boosting Regressor</td>\n",
              "      <td id=\"T_3c4ee_row1_col1\" class=\"data row1 col1\" >0.1361</td>\n",
              "      <td id=\"T_3c4ee_row1_col2\" class=\"data row1 col2\" >0.0247</td>\n",
              "      <td id=\"T_3c4ee_row1_col3\" class=\"data row1 col3\" >0.1570</td>\n",
              "      <td id=\"T_3c4ee_row1_col4\" class=\"data row1 col4\" >0.9539</td>\n",
              "      <td id=\"T_3c4ee_row1_col5\" class=\"data row1 col5\" >0.0676</td>\n",
              "      <td id=\"T_3c4ee_row1_col6\" class=\"data row1 col6\" >0.1220</td>\n",
              "      <td id=\"T_3c4ee_row1_col7\" class=\"data row1 col7\" >0.0900</td>\n",
              "    </tr>\n",
              "    <tr>\n",
              "      <th id=\"T_3c4ee_level0_row2\" class=\"row_heading level0 row2\" >dt</th>\n",
              "      <td id=\"T_3c4ee_row2_col0\" class=\"data row2 col0\" >Decision Tree Regressor</td>\n",
              "      <td id=\"T_3c4ee_row2_col1\" class=\"data row2 col1\" >0.1467</td>\n",
              "      <td id=\"T_3c4ee_row2_col2\" class=\"data row2 col2\" >0.0304</td>\n",
              "      <td id=\"T_3c4ee_row2_col3\" class=\"data row2 col3\" >0.1744</td>\n",
              "      <td id=\"T_3c4ee_row2_col4\" class=\"data row2 col4\" >0.9431</td>\n",
              "      <td id=\"T_3c4ee_row2_col5\" class=\"data row2 col5\" >0.0747</td>\n",
              "      <td id=\"T_3c4ee_row2_col6\" class=\"data row2 col6\" >0.1138</td>\n",
              "      <td id=\"T_3c4ee_row2_col7\" class=\"data row2 col7\" >0.0600</td>\n",
              "    </tr>\n",
              "    <tr>\n",
              "      <th id=\"T_3c4ee_level0_row3\" class=\"row_heading level0 row3\" >et</th>\n",
              "      <td id=\"T_3c4ee_row3_col0\" class=\"data row3 col0\" >Extra Trees Regressor</td>\n",
              "      <td id=\"T_3c4ee_row3_col1\" class=\"data row3 col1\" >0.2324</td>\n",
              "      <td id=\"T_3c4ee_row3_col2\" class=\"data row3 col2\" >0.0747</td>\n",
              "      <td id=\"T_3c4ee_row3_col3\" class=\"data row3 col3\" >0.2734</td>\n",
              "      <td id=\"T_3c4ee_row3_col4\" class=\"data row3 col4\" >0.8601</td>\n",
              "      <td id=\"T_3c4ee_row3_col5\" class=\"data row3 col5\" >0.0950</td>\n",
              "      <td id=\"T_3c4ee_row3_col6\" class=\"data row3 col6\" >0.1555</td>\n",
              "      <td id=\"T_3c4ee_row3_col7\" class=\"data row3 col7\" >0.2000</td>\n",
              "    </tr>\n",
              "    <tr>\n",
              "      <th id=\"T_3c4ee_level0_row4\" class=\"row_heading level0 row4\" >rf</th>\n",
              "      <td id=\"T_3c4ee_row4_col0\" class=\"data row4 col0\" >Random Forest Regressor</td>\n",
              "      <td id=\"T_3c4ee_row4_col1\" class=\"data row4 col1\" >0.2777</td>\n",
              "      <td id=\"T_3c4ee_row4_col2\" class=\"data row4 col2\" >0.0961</td>\n",
              "      <td id=\"T_3c4ee_row4_col3\" class=\"data row4 col3\" >0.3101</td>\n",
              "      <td id=\"T_3c4ee_row4_col4\" class=\"data row4 col4\" >0.8201</td>\n",
              "      <td id=\"T_3c4ee_row4_col5\" class=\"data row4 col5\" >0.1231</td>\n",
              "      <td id=\"T_3c4ee_row4_col6\" class=\"data row4 col6\" >0.2279</td>\n",
              "      <td id=\"T_3c4ee_row4_col7\" class=\"data row4 col7\" >0.2700</td>\n",
              "    </tr>\n",
              "    <tr>\n",
              "      <th id=\"T_3c4ee_level0_row5\" class=\"row_heading level0 row5\" >knn</th>\n",
              "      <td id=\"T_3c4ee_row5_col0\" class=\"data row5 col0\" >K Neighbors Regressor</td>\n",
              "      <td id=\"T_3c4ee_row5_col1\" class=\"data row5 col1\" >0.3807</td>\n",
              "      <td id=\"T_3c4ee_row5_col2\" class=\"data row5 col2\" >0.1501</td>\n",
              "      <td id=\"T_3c4ee_row5_col3\" class=\"data row5 col3\" >0.3875</td>\n",
              "      <td id=\"T_3c4ee_row5_col4\" class=\"data row5 col4\" >0.7190</td>\n",
              "      <td id=\"T_3c4ee_row5_col5\" class=\"data row5 col5\" >0.1586</td>\n",
              "      <td id=\"T_3c4ee_row5_col6\" class=\"data row5 col6\" >0.3203</td>\n",
              "      <td id=\"T_3c4ee_row5_col7\" class=\"data row5 col7\" >0.0200</td>\n",
              "    </tr>\n",
              "    <tr>\n",
              "      <th id=\"T_3c4ee_level0_row6\" class=\"row_heading level0 row6\" >omp</th>\n",
              "      <td id=\"T_3c4ee_row6_col0\" class=\"data row6 col0\" >Orthogonal Matching Pursuit</td>\n",
              "      <td id=\"T_3c4ee_row6_col1\" class=\"data row6 col1\" >0.3711</td>\n",
              "      <td id=\"T_3c4ee_row6_col2\" class=\"data row6 col2\" >0.1647</td>\n",
              "      <td id=\"T_3c4ee_row6_col3\" class=\"data row6 col3\" >0.4059</td>\n",
              "      <td id=\"T_3c4ee_row6_col4\" class=\"data row6 col4\" >0.6917</td>\n",
              "      <td id=\"T_3c4ee_row6_col5\" class=\"data row6 col5\" >0.1442</td>\n",
              "      <td id=\"T_3c4ee_row6_col6\" class=\"data row6 col6\" >0.2501</td>\n",
              "      <td id=\"T_3c4ee_row6_col7\" class=\"data row6 col7\" >0.0200</td>\n",
              "    </tr>\n",
              "    <tr>\n",
              "      <th id=\"T_3c4ee_level0_row7\" class=\"row_heading level0 row7\" >en</th>\n",
              "      <td id=\"T_3c4ee_row7_col0\" class=\"data row7 col0\" >Elastic Net</td>\n",
              "      <td id=\"T_3c4ee_row7_col1\" class=\"data row7 col1\" >0.4335</td>\n",
              "      <td id=\"T_3c4ee_row7_col2\" class=\"data row7 col2\" >0.1936</td>\n",
              "      <td id=\"T_3c4ee_row7_col3\" class=\"data row7 col3\" >0.4399</td>\n",
              "      <td id=\"T_3c4ee_row7_col4\" class=\"data row7 col4\" >0.6377</td>\n",
              "      <td id=\"T_3c4ee_row7_col5\" class=\"data row7 col5\" >0.1742</td>\n",
              "      <td id=\"T_3c4ee_row7_col6\" class=\"data row7 col6\" >0.3499</td>\n",
              "      <td id=\"T_3c4ee_row7_col7\" class=\"data row7 col7\" >0.0200</td>\n",
              "    </tr>\n",
              "    <tr>\n",
              "      <th id=\"T_3c4ee_level0_row8\" class=\"row_heading level0 row8\" >ridge</th>\n",
              "      <td id=\"T_3c4ee_row8_col0\" class=\"data row8 col0\" >Ridge Regression</td>\n",
              "      <td id=\"T_3c4ee_row8_col1\" class=\"data row8 col1\" >0.3493</td>\n",
              "      <td id=\"T_3c4ee_row8_col2\" class=\"data row8 col2\" >0.1956</td>\n",
              "      <td id=\"T_3c4ee_row8_col3\" class=\"data row8 col3\" >0.4423</td>\n",
              "      <td id=\"T_3c4ee_row8_col4\" class=\"data row8 col4\" >0.6338</td>\n",
              "      <td id=\"T_3c4ee_row8_col5\" class=\"data row8 col5\" >0.1699</td>\n",
              "      <td id=\"T_3c4ee_row8_col6\" class=\"data row8 col6\" >0.3068</td>\n",
              "      <td id=\"T_3c4ee_row8_col7\" class=\"data row8 col7\" >0.0400</td>\n",
              "    </tr>\n",
              "    <tr>\n",
              "      <th id=\"T_3c4ee_level0_row9\" class=\"row_heading level0 row9\" >lr</th>\n",
              "      <td id=\"T_3c4ee_row9_col0\" class=\"data row9 col0\" >Linear Regression</td>\n",
              "      <td id=\"T_3c4ee_row9_col1\" class=\"data row9 col1\" >0.3474</td>\n",
              "      <td id=\"T_3c4ee_row9_col2\" class=\"data row9 col2\" >0.1979</td>\n",
              "      <td id=\"T_3c4ee_row9_col3\" class=\"data row9 col3\" >0.4449</td>\n",
              "      <td id=\"T_3c4ee_row9_col4\" class=\"data row9 col4\" >0.6296</td>\n",
              "      <td id=\"T_3c4ee_row9_col5\" class=\"data row9 col5\" >0.1703</td>\n",
              "      <td id=\"T_3c4ee_row9_col6\" class=\"data row9 col6\" >0.3053</td>\n",
              "      <td id=\"T_3c4ee_row9_col7\" class=\"data row9 col7\" >0.0200</td>\n",
              "    </tr>\n",
              "    <tr>\n",
              "      <th id=\"T_3c4ee_level0_row10\" class=\"row_heading level0 row10\" >ada</th>\n",
              "      <td id=\"T_3c4ee_row10_col0\" class=\"data row10 col0\" >AdaBoost Regressor</td>\n",
              "      <td id=\"T_3c4ee_row10_col1\" class=\"data row10 col1\" >0.3461</td>\n",
              "      <td id=\"T_3c4ee_row10_col2\" class=\"data row10 col2\" >0.2036</td>\n",
              "      <td id=\"T_3c4ee_row10_col3\" class=\"data row10 col3\" >0.4512</td>\n",
              "      <td id=\"T_3c4ee_row10_col4\" class=\"data row10 col4\" >0.6189</td>\n",
              "      <td id=\"T_3c4ee_row10_col5\" class=\"data row10 col5\" >0.1694</td>\n",
              "      <td id=\"T_3c4ee_row10_col6\" class=\"data row10 col6\" >0.2649</td>\n",
              "      <td id=\"T_3c4ee_row10_col7\" class=\"data row10 col7\" >0.1700</td>\n",
              "    </tr>\n",
              "    <tr>\n",
              "      <th id=\"T_3c4ee_level0_row11\" class=\"row_heading level0 row11\" >lasso</th>\n",
              "      <td id=\"T_3c4ee_row11_col0\" class=\"data row11 col0\" >Lasso Regression</td>\n",
              "      <td id=\"T_3c4ee_row11_col1\" class=\"data row11 col1\" >0.4429</td>\n",
              "      <td id=\"T_3c4ee_row11_col2\" class=\"data row11 col2\" >0.2073</td>\n",
              "      <td id=\"T_3c4ee_row11_col3\" class=\"data row11 col3\" >0.4553</td>\n",
              "      <td id=\"T_3c4ee_row11_col4\" class=\"data row11 col4\" >0.6119</td>\n",
              "      <td id=\"T_3c4ee_row11_col5\" class=\"data row11 col5\" >0.1811</td>\n",
              "      <td id=\"T_3c4ee_row11_col6\" class=\"data row11 col6\" >0.3603</td>\n",
              "      <td id=\"T_3c4ee_row11_col7\" class=\"data row11 col7\" >0.0200</td>\n",
              "    </tr>\n",
              "    <tr>\n",
              "      <th id=\"T_3c4ee_level0_row12\" class=\"row_heading level0 row12\" >llar</th>\n",
              "      <td id=\"T_3c4ee_row12_col0\" class=\"data row12 col0\" >Lasso Least Angle Regression</td>\n",
              "      <td id=\"T_3c4ee_row12_col1\" class=\"data row12 col1\" >0.4429</td>\n",
              "      <td id=\"T_3c4ee_row12_col2\" class=\"data row12 col2\" >0.2073</td>\n",
              "      <td id=\"T_3c4ee_row12_col3\" class=\"data row12 col3\" >0.4553</td>\n",
              "      <td id=\"T_3c4ee_row12_col4\" class=\"data row12 col4\" >0.6119</td>\n",
              "      <td id=\"T_3c4ee_row12_col5\" class=\"data row12 col5\" >0.1811</td>\n",
              "      <td id=\"T_3c4ee_row12_col6\" class=\"data row12 col6\" >0.3603</td>\n",
              "      <td id=\"T_3c4ee_row12_col7\" class=\"data row12 col7\" >0.0300</td>\n",
              "    </tr>\n",
              "    <tr>\n",
              "      <th id=\"T_3c4ee_level0_row13\" class=\"row_heading level0 row13\" >br</th>\n",
              "      <td id=\"T_3c4ee_row13_col0\" class=\"data row13 col0\" >Bayesian Ridge</td>\n",
              "      <td id=\"T_3c4ee_row13_col1\" class=\"data row13 col1\" >0.4405</td>\n",
              "      <td id=\"T_3c4ee_row13_col2\" class=\"data row13 col2\" >0.2111</td>\n",
              "      <td id=\"T_3c4ee_row13_col3\" class=\"data row13 col3\" >0.4595</td>\n",
              "      <td id=\"T_3c4ee_row13_col4\" class=\"data row13 col4\" >0.6048</td>\n",
              "      <td id=\"T_3c4ee_row13_col5\" class=\"data row13 col5\" >0.1815</td>\n",
              "      <td id=\"T_3c4ee_row13_col6\" class=\"data row13 col6\" >0.3552</td>\n",
              "      <td id=\"T_3c4ee_row13_col7\" class=\"data row13 col7\" >0.0300</td>\n",
              "    </tr>\n",
              "    <tr>\n",
              "      <th id=\"T_3c4ee_level0_row14\" class=\"row_heading level0 row14\" >huber</th>\n",
              "      <td id=\"T_3c4ee_row14_col0\" class=\"data row14 col0\" >Huber Regressor</td>\n",
              "      <td id=\"T_3c4ee_row14_col1\" class=\"data row14 col1\" >0.4622</td>\n",
              "      <td id=\"T_3c4ee_row14_col2\" class=\"data row14 col2\" >0.3356</td>\n",
              "      <td id=\"T_3c4ee_row14_col3\" class=\"data row14 col3\" >0.5793</td>\n",
              "      <td id=\"T_3c4ee_row14_col4\" class=\"data row14 col4\" >0.3720</td>\n",
              "      <td id=\"T_3c4ee_row14_col5\" class=\"data row14 col5\" >0.2024</td>\n",
              "      <td id=\"T_3c4ee_row14_col6\" class=\"data row14 col6\" >0.3510</td>\n",
              "      <td id=\"T_3c4ee_row14_col7\" class=\"data row14 col7\" >0.0400</td>\n",
              "    </tr>\n",
              "    <tr>\n",
              "      <th id=\"T_3c4ee_level0_row15\" class=\"row_heading level0 row15\" >par</th>\n",
              "      <td id=\"T_3c4ee_row15_col0\" class=\"data row15 col0\" >Passive Aggressive Regressor</td>\n",
              "      <td id=\"T_3c4ee_row15_col1\" class=\"data row15 col1\" >0.6522</td>\n",
              "      <td id=\"T_3c4ee_row15_col2\" class=\"data row15 col2\" >0.4999</td>\n",
              "      <td id=\"T_3c4ee_row15_col3\" class=\"data row15 col3\" >0.7071</td>\n",
              "      <td id=\"T_3c4ee_row15_col4\" class=\"data row15 col4\" >0.0643</td>\n",
              "      <td id=\"T_3c4ee_row15_col5\" class=\"data row15 col5\" >0.3078</td>\n",
              "      <td id=\"T_3c4ee_row15_col6\" class=\"data row15 col6\" >0.6860</td>\n",
              "      <td id=\"T_3c4ee_row15_col7\" class=\"data row15 col7\" >0.0300</td>\n",
              "    </tr>\n",
              "    <tr>\n",
              "      <th id=\"T_3c4ee_level0_row16\" class=\"row_heading level0 row16\" >lightgbm</th>\n",
              "      <td id=\"T_3c4ee_row16_col0\" class=\"data row16 col0\" >Light Gradient Boosting Machine</td>\n",
              "      <td id=\"T_3c4ee_row16_col1\" class=\"data row16 col1\" >0.6765</td>\n",
              "      <td id=\"T_3c4ee_row16_col2\" class=\"data row16 col2\" >0.6034</td>\n",
              "      <td id=\"T_3c4ee_row16_col3\" class=\"data row16 col3\" >0.7768</td>\n",
              "      <td id=\"T_3c4ee_row16_col4\" class=\"data row16 col4\" >-0.1294</td>\n",
              "      <td id=\"T_3c4ee_row16_col5\" class=\"data row16 col5\" >0.3080</td>\n",
              "      <td id=\"T_3c4ee_row16_col6\" class=\"data row16 col6\" >0.5308</td>\n",
              "      <td id=\"T_3c4ee_row16_col7\" class=\"data row16 col7\" >0.0300</td>\n",
              "    </tr>\n",
              "    <tr>\n",
              "      <th id=\"T_3c4ee_level0_row17\" class=\"row_heading level0 row17\" >dummy</th>\n",
              "      <td id=\"T_3c4ee_row17_col0\" class=\"data row17 col0\" >Dummy Regressor</td>\n",
              "      <td id=\"T_3c4ee_row17_col1\" class=\"data row17 col1\" >0.6765</td>\n",
              "      <td id=\"T_3c4ee_row17_col2\" class=\"data row17 col2\" >0.6034</td>\n",
              "      <td id=\"T_3c4ee_row17_col3\" class=\"data row17 col3\" >0.7768</td>\n",
              "      <td id=\"T_3c4ee_row17_col4\" class=\"data row17 col4\" >-0.1294</td>\n",
              "      <td id=\"T_3c4ee_row17_col5\" class=\"data row17 col5\" >0.3080</td>\n",
              "      <td id=\"T_3c4ee_row17_col6\" class=\"data row17 col6\" >0.5308</td>\n",
              "      <td id=\"T_3c4ee_row17_col7\" class=\"data row17 col7\" >0.0200</td>\n",
              "    </tr>\n",
              "    <tr>\n",
              "      <th id=\"T_3c4ee_level0_row18\" class=\"row_heading level0 row18\" >lar</th>\n",
              "      <td id=\"T_3c4ee_row18_col0\" class=\"data row18 col0\" >Least Angle Regression</td>\n",
              "      <td id=\"T_3c4ee_row18_col1\" class=\"data row18 col1\" >2097153.7500</td>\n",
              "      <td id=\"T_3c4ee_row18_col2\" class=\"data row18 col2\" >4398053326848.0000</td>\n",
              "      <td id=\"T_3c4ee_row18_col3\" class=\"data row18 col3\" >2097153.5000</td>\n",
              "      <td id=\"T_3c4ee_row18_col4\" class=\"data row18 col4\" >-8231600468827.9746</td>\n",
              "      <td id=\"T_3c4ee_row18_col5\" class=\"data row18 col5\" >13.6739</td>\n",
              "      <td id=\"T_3c4ee_row18_col6\" class=\"data row18 col6\" >1824907.5000</td>\n",
              "      <td id=\"T_3c4ee_row18_col7\" class=\"data row18 col7\" >0.0300</td>\n",
              "    </tr>\n",
              "  </tbody>\n",
              "</table>\n"
            ]
          },
          "metadata": {}
        },
        {
          "output_type": "display_data",
          "data": {
            "text/plain": [
              "Processing:   0%|          | 0/81 [00:00<?, ?it/s]"
            ],
            "application/vnd.jupyter.widget-view+json": {
              "version_major": 2,
              "version_minor": 0,
              "model_id": "798254a3dabd45baaaa6a26d15ce3791"
            }
          },
          "metadata": {
            "application/vnd.jupyter.widget-view+json": {
              "colab": {
                "custom_widget_manager": {
                  "url": "https://ssl.gstatic.com/colaboratory-static/widgets/colab-cdn-widget-manager/2b70e893a8ba7c0f/manager.min.js"
                }
              }
            }
          }
        },
        {
          "output_type": "display_data",
          "data": {
            "text/plain": [
              "<IPython.core.display.HTML object>"
            ],
            "text/html": []
          },
          "metadata": {}
        }
      ]
    },
    {
      "cell_type": "markdown",
      "source": [
        "\n",
        "\n",
        "---\n",
        "\n"
      ],
      "metadata": {
        "id": "G3OIv4_qbzb-"
      }
    },
    {
      "cell_type": "markdown",
      "source": [
        "**XGBoost Regressor**"
      ],
      "metadata": {
        "id": "uo8mOIWDb08Q"
      }
    },
    {
      "cell_type": "code",
      "source": [
        "xgb = create_model('xgboost',return_train_score=True,cross_validation=False)"
      ],
      "metadata": {
        "colab": {
          "base_uri": "https://localhost:8080/",
          "height": 112,
          "referenced_widgets": [
            "dd8288c04ad84f77ba1a81688b04072a",
            "6a539e31655b4ec7b6e3ce9c023f1112",
            "f3b06b9931f24ef9813ebb196efcf083",
            "af15a9d58105434ea8a763bde783d705",
            "940288cbf8f342be921964fe28a50e05",
            "0b364bb05ab34467aae230634800edfc",
            "d21f3dbe4a0f44bfa1eceaf2acf9e42c",
            "1ce6381d0771427c8108afbb687ae33e",
            "99f6b7b8a6324e0ab859d2479494c514",
            "57cc6bc238044ec99a9e12084d68d4cd",
            "5b453b5a0f5d40e28f34ef8d3b2d8b6c"
          ]
        },
        "id": "vwR7lUZTGVfd",
        "outputId": "16419aae-0d2c-474f-f1ad-2196f7504504"
      },
      "execution_count": 9,
      "outputs": [
        {
          "output_type": "display_data",
          "data": {
            "text/plain": [
              "<IPython.core.display.HTML object>"
            ],
            "text/html": []
          },
          "metadata": {}
        },
        {
          "output_type": "display_data",
          "data": {
            "text/plain": [
              "<pandas.io.formats.style.Styler at 0x7ef4c52a7c70>"
            ],
            "text/html": [
              "<style type=\"text/css\">\n",
              "</style>\n",
              "<table id=\"T_6c327\" class=\"dataframe\">\n",
              "  <thead>\n",
              "    <tr>\n",
              "      <th class=\"blank level0\" >&nbsp;</th>\n",
              "      <th id=\"T_6c327_level0_col0\" class=\"col_heading level0 col0\" >MAE</th>\n",
              "      <th id=\"T_6c327_level0_col1\" class=\"col_heading level0 col1\" >MSE</th>\n",
              "      <th id=\"T_6c327_level0_col2\" class=\"col_heading level0 col2\" >RMSE</th>\n",
              "      <th id=\"T_6c327_level0_col3\" class=\"col_heading level0 col3\" >R2</th>\n",
              "      <th id=\"T_6c327_level0_col4\" class=\"col_heading level0 col4\" >RMSLE</th>\n",
              "      <th id=\"T_6c327_level0_col5\" class=\"col_heading level0 col5\" >MAPE</th>\n",
              "    </tr>\n",
              "  </thead>\n",
              "  <tbody>\n",
              "    <tr>\n",
              "      <th id=\"T_6c327_level0_row0\" class=\"row_heading level0 row0\" >Test</th>\n",
              "      <td id=\"T_6c327_row0_col0\" class=\"data row0 col0\" >0.1020</td>\n",
              "      <td id=\"T_6c327_row0_col1\" class=\"data row0 col1\" >0.0111</td>\n",
              "      <td id=\"T_6c327_row0_col2\" class=\"data row0 col2\" >0.1052</td>\n",
              "      <td id=\"T_6c327_row0_col3\" class=\"data row0 col3\" >0.9793</td>\n",
              "      <td id=\"T_6c327_row0_col4\" class=\"data row0 col4\" >0.0466</td>\n",
              "      <td id=\"T_6c327_row0_col5\" class=\"data row0 col5\" >0.0873</td>\n",
              "    </tr>\n",
              "    <tr>\n",
              "      <th id=\"T_6c327_level0_row1\" class=\"row_heading level0 row1\" >Train</th>\n",
              "      <td id=\"T_6c327_row1_col0\" class=\"data row1 col0\" >0.0041</td>\n",
              "      <td id=\"T_6c327_row1_col1\" class=\"data row1 col1\" >0.0001</td>\n",
              "      <td id=\"T_6c327_row1_col2\" class=\"data row1 col2\" >0.0077</td>\n",
              "      <td id=\"T_6c327_row1_col3\" class=\"data row1 col3\" >0.9999</td>\n",
              "      <td id=\"T_6c327_row1_col4\" class=\"data row1 col4\" >0.0029</td>\n",
              "      <td id=\"T_6c327_row1_col5\" class=\"data row1 col5\" >0.0035</td>\n",
              "    </tr>\n",
              "  </tbody>\n",
              "</table>\n"
            ]
          },
          "metadata": {}
        },
        {
          "output_type": "display_data",
          "data": {
            "text/plain": [
              "Processing:   0%|          | 0/4 [00:00<?, ?it/s]"
            ],
            "application/vnd.jupyter.widget-view+json": {
              "version_major": 2,
              "version_minor": 0,
              "model_id": "dd8288c04ad84f77ba1a81688b04072a"
            }
          },
          "metadata": {
            "application/vnd.jupyter.widget-view+json": {
              "colab": {
                "custom_widget_manager": {
                  "url": "https://ssl.gstatic.com/colaboratory-static/widgets/colab-cdn-widget-manager/2b70e893a8ba7c0f/manager.min.js"
                }
              }
            }
          }
        },
        {
          "output_type": "display_data",
          "data": {
            "text/plain": [
              "<IPython.core.display.HTML object>"
            ],
            "text/html": []
          },
          "metadata": {}
        }
      ]
    },
    {
      "cell_type": "code",
      "source": [
        "evaluate_model(xgb)"
      ],
      "metadata": {
        "colab": {
          "base_uri": "https://localhost:8080/",
          "height": 609,
          "referenced_widgets": [
            "f47aab9723d5498d9e4af9071cebab25",
            "bbaefc2f4732403b9f0487d174241405",
            "4232b41f17c64c34b466d884c61bf68d",
            "5ee2926e6aaf40cca2235c9e12d37a03",
            "8b08fa70a657497a82a0f241183f408c",
            "ef9a910bd32f4e1a8c78909f8ce79192",
            "ec6b0bc9945e465c99b26754d77baed8"
          ]
        },
        "id": "LB6YwUuUb6CR",
        "outputId": "23ab1ab2-9119-4d65-a0a4-1376795f225d"
      },
      "execution_count": 10,
      "outputs": [
        {
          "output_type": "display_data",
          "data": {
            "text/plain": [
              "interactive(children=(ToggleButtons(description='Plot Type:', icons=('',), options=(('Pipeline Plot', 'pipelin…"
            ],
            "application/vnd.jupyter.widget-view+json": {
              "version_major": 2,
              "version_minor": 0,
              "model_id": "f47aab9723d5498d9e4af9071cebab25"
            }
          },
          "metadata": {
            "application/vnd.jupyter.widget-view+json": {
              "colab": {
                "custom_widget_manager": {
                  "url": "https://ssl.gstatic.com/colaboratory-static/widgets/colab-cdn-widget-manager/2b70e893a8ba7c0f/manager.min.js"
                }
              }
            }
          }
        }
      ]
    },
    {
      "cell_type": "code",
      "source": [
        "plot_model(xgb, plot = 'feature_all')"
      ],
      "metadata": {
        "colab": {
          "base_uri": "https://localhost:8080/",
          "height": 870
        },
        "id": "Mb3n3FHeb7qA",
        "outputId": "1e41ab77-4118-434b-e630-a6cbf988583c"
      },
      "execution_count": 11,
      "outputs": [
        {
          "output_type": "display_data",
          "data": {
            "text/plain": [
              "<IPython.core.display.HTML object>"
            ],
            "text/html": []
          },
          "metadata": {}
        },
        {
          "output_type": "display_data",
          "data": {
            "text/plain": [
              "<Figure size 800x1000 with 1 Axes>"
            ],
            "image/png": "[encoded data removed]"
          },
          "metadata": {}
        }
      ]
    },
    {
      "cell_type": "code",
      "source": [
        "interpret_model(xgb,use_train_data=True)"
      ],
      "metadata": {
        "colab": {
          "base_uri": "https://localhost:8080/",
          "height": 951
        },
        "id": "Gm7g449KcACJ",
        "outputId": "181ada2a-c36f-4ec3-847b-1269f6fa78bb"
      },
      "execution_count": 12,
      "outputs": [
        {
          "output_type": "display_data",
          "data": {
            "text/plain": [
              "<Figure size 800x950 with 2 Axes>"
            ],
            "image/png": "[encoded data removed]"
          },
          "metadata": {}
        }
      ]
    },
    {
      "cell_type": "markdown",
      "source": [
        "\n",
        "\n",
        "---\n",
        "\n",
        "\n",
        "\n",
        "---\n",
        "\n"
      ],
      "metadata": {
        "id": "gbG_4LM8cKyF"
      }
    },
    {
      "cell_type": "markdown",
      "source": [
        "**Gradient Boosting Regressor**"
      ],
      "metadata": {
        "id": "KEVXyY7pcy-g"
      }
    },
    {
      "cell_type": "code",
      "source": [
        "gbr = create_model('gbr',return_train_score=True,cross_validation=False)"
      ],
      "metadata": {
        "colab": {
          "base_uri": "https://localhost:8080/",
          "height": 112,
          "referenced_widgets": [
            "b484fe02a17242c885140d382ce26796",
            "b789213c84d34041845368d0578acadd",
            "0d35e041422542ae9ea6bdac35a0ceee",
            "f661b90752c14ec6848fe547b3fb9c05",
            "3867e93995cd418c8651bcbf2407f6af",
            "c24ae4c1198e4a1482cf0bbcdaa8c0ef",
            "530f27ed050144b2a074672e29604e89",
            "f1e5b14d995a4c4787d73df181acbea8",
            "40215ae88d864c76b65a171ea396f4a2",
            "b2666823e9c84bdc8d34b5b84238394f",
            "4d5110f6de394035a7da80d59500ab56"
          ]
        },
        "id": "KVH3v_QycEl1",
        "outputId": "e24dffea-c30a-4c6c-ff7e-5e2b0b8c398c"
      },
      "execution_count": 13,
      "outputs": [
        {
          "output_type": "display_data",
          "data": {
            "text/plain": [
              "<IPython.core.display.HTML object>"
            ],
            "text/html": []
          },
          "metadata": {}
        },
        {
          "output_type": "display_data",
          "data": {
            "text/plain": [
              "<pandas.io.formats.style.Styler at 0x7ef478de0c70>"
            ],
            "text/html": [
              "<style type=\"text/css\">\n",
              "</style>\n",
              "<table id=\"T_06297\" class=\"dataframe\">\n",
              "  <thead>\n",
              "    <tr>\n",
              "      <th class=\"blank level0\" >&nbsp;</th>\n",
              "      <th id=\"T_06297_level0_col0\" class=\"col_heading level0 col0\" >MAE</th>\n",
              "      <th id=\"T_06297_level0_col1\" class=\"col_heading level0 col1\" >MSE</th>\n",
              "      <th id=\"T_06297_level0_col2\" class=\"col_heading level0 col2\" >RMSE</th>\n",
              "      <th id=\"T_06297_level0_col3\" class=\"col_heading level0 col3\" >R2</th>\n",
              "      <th id=\"T_06297_level0_col4\" class=\"col_heading level0 col4\" >RMSLE</th>\n",
              "      <th id=\"T_06297_level0_col5\" class=\"col_heading level0 col5\" >MAPE</th>\n",
              "    </tr>\n",
              "  </thead>\n",
              "  <tbody>\n",
              "    <tr>\n",
              "      <th id=\"T_06297_level0_row0\" class=\"row_heading level0 row0\" >Test</th>\n",
              "      <td id=\"T_06297_row0_col0\" class=\"data row0 col0\" >0.1361</td>\n",
              "      <td id=\"T_06297_row0_col1\" class=\"data row0 col1\" >0.0247</td>\n",
              "      <td id=\"T_06297_row0_col2\" class=\"data row0 col2\" >0.1570</td>\n",
              "      <td id=\"T_06297_row0_col3\" class=\"data row0 col3\" >0.9539</td>\n",
              "      <td id=\"T_06297_row0_col4\" class=\"data row0 col4\" >0.0676</td>\n",
              "      <td id=\"T_06297_row0_col5\" class=\"data row0 col5\" >0.1220</td>\n",
              "    </tr>\n",
              "    <tr>\n",
              "      <th id=\"T_06297_level0_row1\" class=\"row_heading level0 row1\" >Train</th>\n",
              "      <td id=\"T_06297_row1_col0\" class=\"data row1 col0\" >0.0883</td>\n",
              "      <td id=\"T_06297_row1_col1\" class=\"data row1 col1\" >0.0194</td>\n",
              "      <td id=\"T_06297_row1_col2\" class=\"data row1 col2\" >0.1392</td>\n",
              "      <td id=\"T_06297_row1_col3\" class=\"data row1 col3\" >0.9593</td>\n",
              "      <td id=\"T_06297_row1_col4\" class=\"data row1 col4\" >0.0565</td>\n",
              "      <td id=\"T_06297_row1_col5\" class=\"data row1 col5\" >0.0746</td>\n",
              "    </tr>\n",
              "  </tbody>\n",
              "</table>\n"
            ]
          },
          "metadata": {}
        },
        {
          "output_type": "display_data",
          "data": {
            "text/plain": [
              "Processing:   0%|          | 0/4 [00:00<?, ?it/s]"
            ],
            "application/vnd.jupyter.widget-view+json": {
              "version_major": 2,
              "version_minor": 0,
              "model_id": "b484fe02a17242c885140d382ce26796"
            }
          },
          "metadata": {
            "application/vnd.jupyter.widget-view+json": {
              "colab": {
                "custom_widget_manager": {
                  "url": "https://ssl.gstatic.com/colaboratory-static/widgets/colab-cdn-widget-manager/2b70e893a8ba7c0f/manager.min.js"
                }
              }
            }
          }
        },
        {
          "output_type": "display_data",
          "data": {
            "text/plain": [
              "<IPython.core.display.HTML object>"
            ],
            "text/html": []
          },
          "metadata": {}
        }
      ]
    },
    {
      "cell_type": "code",
      "source": [
        "evaluate_model(gbr)"
      ],
      "metadata": {
        "colab": {
          "base_uri": "https://localhost:8080/",
          "height": 609,
          "referenced_widgets": [
            "2392fb2bdb7243bc964ec2970b27ceef",
            "4b9776dfc1b44b949d0780c1fb75470a",
            "b043f3a9c06c435b84fec6dda3491cb1",
            "65662a40a88f4867a818d994bb888ccb",
            "c24b0f0ce4e6416fb22387a7ded86759",
            "5be09afde6cf43d4998d7c4c7a8c3394",
            "3c5e7f693a254a9f92f6e80a48b9427d"
          ]
        },
        "id": "7u9aqTQgc87k",
        "outputId": "527357b1-b11d-44c6-e407-ef614ec1dae7"
      },
      "execution_count": 14,
      "outputs": [
        {
          "output_type": "display_data",
          "data": {
            "text/plain": [
              "interactive(children=(ToggleButtons(description='Plot Type:', icons=('',), options=(('Pipeline Plot', 'pipelin…"
            ],
            "application/vnd.jupyter.widget-view+json": {
              "version_major": 2,
              "version_minor": 0,
              "model_id": "2392fb2bdb7243bc964ec2970b27ceef"
            }
          },
          "metadata": {
            "application/vnd.jupyter.widget-view+json": {
              "colab": {
                "custom_widget_manager": {
                  "url": "https://ssl.gstatic.com/colaboratory-static/widgets/colab-cdn-widget-manager/2b70e893a8ba7c0f/manager.min.js"
                }
              }
            }
          }
        }
      ]
    },
    {
      "cell_type": "code",
      "source": [
        "plot_model(gbr, plot = 'feature_all')"
      ],
      "metadata": {
        "colab": {
          "base_uri": "https://localhost:8080/",
          "height": 870
        },
        "id": "o7_vDItJc-jY",
        "outputId": "df00f47e-4e2d-40a8-f2e0-ed178c38e248"
      },
      "execution_count": 15,
      "outputs": [
        {
          "output_type": "display_data",
          "data": {
            "text/plain": [
              "<IPython.core.display.HTML object>"
            ],
            "text/html": []
          },
          "metadata": {}
        },
        {
          "output_type": "display_data",
          "data": {
            "text/plain": [
              "<Figure size 800x1000 with 1 Axes>"
            ],
            "image/png": "[encoded data removed]"
          },
          "metadata": {}
        }
      ]
    }
  ]
}