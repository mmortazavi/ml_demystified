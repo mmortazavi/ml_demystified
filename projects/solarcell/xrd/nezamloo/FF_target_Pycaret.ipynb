{
  "cells": [
    {
      "cell_type": "code",
      "execution_count": null,
      "id": "e0e8280a",
      "metadata": {
        "id": "e0e8280a"
      },
      "outputs": [],
      "source": [
        "#Importing necessary libraries\n",
        "import pandas as pd\n",
        "import numpy as np\n",
        "\n",
        "import seaborn as sns\n",
        "import matplotlib.pyplot as plt\n",
        "from pycaret.regression import *"
      ]
    },
    {
      "cell_type": "code",
      "execution_count": 1,
      "id": "MgHzKo_b72ag",
      "metadata": {
        "id": "MgHzKo_b72ag"
      },
      "outputs": [],
      "source": [
        "pip install pycaret[full]"
      ]
    },
    {
      "cell_type": "code",
      "execution_count": null,
      "id": "fks42ycPWaAq",
      "metadata": {
        "id": "fks42ycPWaAq"
      },
      "outputs": [],
      "source": [
        "pip install interpret-community"
      ]
    },
    {
      "cell_type": "markdown",
      "id": "hiB6jQs5aWuS",
      "metadata": {
        "id": "hiB6jQs5aWuS"
      },
      "source": [
        "**Data**"
      ]
    },
    {
      "cell_type": "code",
      "execution_count": null,
      "id": "34c1ae5b",
      "metadata": {
        "id": "34c1ae5b"
      },
      "outputs": [],
      "source": [
        "#dataset\n",
        "#from google.colab import files\n",
        "#f=files.upload()"
      ]
    },
    {
      "cell_type": "code",
      "execution_count": null,
      "id": "bf3f3821",
      "metadata": {
        "id": "bf3f3821"
      },
      "outputs": [],
      "source": [
        "df=pd.read_excel('xrd_new.xlsx', sheet_name='Sheet6')"
      ]
    },
    {
      "cell_type": "markdown",
      "id": "XtgVBEF3CdCs",
      "metadata": {
        "id": "XtgVBEF3CdCs"
      },
      "source": [
        "Pycaret"
      ]
    },
    {
      "cell_type": "code",
      "execution_count": null,
      "id": "33upgAhm_ILY",
      "metadata": {
        "colab": {
          "base_uri": "https://localhost:8080/",
          "height": 802
        },
        "id": "33upgAhm_ILY",
        "outputId": "e7fe9e54-f91a-40f1-957b-82ae87887e60"
      },
      "outputs": [
        {
          "data": {
            "text/html": [
              "<style type=\"text/css\">\n",
              "#T_d60cb_row9_col1, #T_d60cb_row13_col1, #T_d60cb_row15_col1 {\n",
              "  background-color: lightgreen;\n",
              "}\n",
              "</style>\n",
              "<table id=\"T_d60cb\" class=\"dataframe\">\n",
              "  <thead>\n",
              "    <tr>\n",
              "      <th class=\"blank level0\" >&nbsp;</th>\n",
              "      <th id=\"T_d60cb_level0_col0\" class=\"col_heading level0 col0\" >Description</th>\n",
              "      <th id=\"T_d60cb_level0_col1\" class=\"col_heading level0 col1\" >Value</th>\n",
              "    </tr>\n",
              "  </thead>\n",
              "  <tbody>\n",
              "    <tr>\n",
              "      <th id=\"T_d60cb_level0_row0\" class=\"row_heading level0 row0\" >0</th>\n",
              "      <td id=\"T_d60cb_row0_col0\" class=\"data row0 col0\" >Session id</td>\n",
              "      <td id=\"T_d60cb_row0_col1\" class=\"data row0 col1\" >1543</td>\n",
              "    </tr>\n",
              "    <tr>\n",
              "      <th id=\"T_d60cb_level0_row1\" class=\"row_heading level0 row1\" >1</th>\n",
              "      <td id=\"T_d60cb_row1_col0\" class=\"data row1 col0\" >Target</td>\n",
              "      <td id=\"T_d60cb_row1_col1\" class=\"data row1 col1\" >FF</td>\n",
              "    </tr>\n",
              "    <tr>\n",
              "      <th id=\"T_d60cb_level0_row2\" class=\"row_heading level0 row2\" >2</th>\n",
              "      <td id=\"T_d60cb_row2_col0\" class=\"data row2 col0\" >Target type</td>\n",
              "      <td id=\"T_d60cb_row2_col1\" class=\"data row2 col1\" >Regression</td>\n",
              "    </tr>\n",
              "    <tr>\n",
              "      <th id=\"T_d60cb_level0_row3\" class=\"row_heading level0 row3\" >3</th>\n",
              "      <td id=\"T_d60cb_row3_col0\" class=\"data row3 col0\" >Original data shape</td>\n",
              "      <td id=\"T_d60cb_row3_col1\" class=\"data row3 col1\" >(27, 32)</td>\n",
              "    </tr>\n",
              "    <tr>\n",
              "      <th id=\"T_d60cb_level0_row4\" class=\"row_heading level0 row4\" >4</th>\n",
              "      <td id=\"T_d60cb_row4_col0\" class=\"data row4 col0\" >Transformed data shape</td>\n",
              "      <td id=\"T_d60cb_row4_col1\" class=\"data row4 col1\" >(27, 15)</td>\n",
              "    </tr>\n",
              "    <tr>\n",
              "      <th id=\"T_d60cb_level0_row5\" class=\"row_heading level0 row5\" >5</th>\n",
              "      <td id=\"T_d60cb_row5_col0\" class=\"data row5 col0\" >Transformed train set shape</td>\n",
              "      <td id=\"T_d60cb_row5_col1\" class=\"data row5 col1\" >(21, 15)</td>\n",
              "    </tr>\n",
              "    <tr>\n",
              "      <th id=\"T_d60cb_level0_row6\" class=\"row_heading level0 row6\" >6</th>\n",
              "      <td id=\"T_d60cb_row6_col0\" class=\"data row6 col0\" >Transformed test set shape</td>\n",
              "      <td id=\"T_d60cb_row6_col1\" class=\"data row6 col1\" >(6, 15)</td>\n",
              "    </tr>\n",
              "    <tr>\n",
              "      <th id=\"T_d60cb_level0_row7\" class=\"row_heading level0 row7\" >7</th>\n",
              "      <td id=\"T_d60cb_row7_col0\" class=\"data row7 col0\" >Ignore features</td>\n",
              "      <td id=\"T_d60cb_row7_col1\" class=\"data row7 col1\" >6</td>\n",
              "    </tr>\n",
              "    <tr>\n",
              "      <th id=\"T_d60cb_level0_row8\" class=\"row_heading level0 row8\" >8</th>\n",
              "      <td id=\"T_d60cb_row8_col0\" class=\"data row8 col0\" >Numeric features</td>\n",
              "      <td id=\"T_d60cb_row8_col1\" class=\"data row8 col1\" >25</td>\n",
              "    </tr>\n",
              "    <tr>\n",
              "      <th id=\"T_d60cb_level0_row9\" class=\"row_heading level0 row9\" >9</th>\n",
              "      <td id=\"T_d60cb_row9_col0\" class=\"data row9 col0\" >Preprocess</td>\n",
              "      <td id=\"T_d60cb_row9_col1\" class=\"data row9 col1\" >True</td>\n",
              "    </tr>\n",
              "    <tr>\n",
              "      <th id=\"T_d60cb_level0_row10\" class=\"row_heading level0 row10\" >10</th>\n",
              "      <td id=\"T_d60cb_row10_col0\" class=\"data row10 col0\" >Imputation type</td>\n",
              "      <td id=\"T_d60cb_row10_col1\" class=\"data row10 col1\" >simple</td>\n",
              "    </tr>\n",
              "    <tr>\n",
              "      <th id=\"T_d60cb_level0_row11\" class=\"row_heading level0 row11\" >11</th>\n",
              "      <td id=\"T_d60cb_row11_col0\" class=\"data row11 col0\" >Numeric imputation</td>\n",
              "      <td id=\"T_d60cb_row11_col1\" class=\"data row11 col1\" >mean</td>\n",
              "    </tr>\n",
              "    <tr>\n",
              "      <th id=\"T_d60cb_level0_row12\" class=\"row_heading level0 row12\" >12</th>\n",
              "      <td id=\"T_d60cb_row12_col0\" class=\"data row12 col0\" >Categorical imputation</td>\n",
              "      <td id=\"T_d60cb_row12_col1\" class=\"data row12 col1\" >mode</td>\n",
              "    </tr>\n",
              "    <tr>\n",
              "      <th id=\"T_d60cb_level0_row13\" class=\"row_heading level0 row13\" >13</th>\n",
              "      <td id=\"T_d60cb_row13_col0\" class=\"data row13 col0\" >Remove multicollinearity</td>\n",
              "      <td id=\"T_d60cb_row13_col1\" class=\"data row13 col1\" >True</td>\n",
              "    </tr>\n",
              "    <tr>\n",
              "      <th id=\"T_d60cb_level0_row14\" class=\"row_heading level0 row14\" >14</th>\n",
              "      <td id=\"T_d60cb_row14_col0\" class=\"data row14 col0\" >Multicollinearity threshold</td>\n",
              "      <td id=\"T_d60cb_row14_col1\" class=\"data row14 col1\" >0.900000</td>\n",
              "    </tr>\n",
              "    <tr>\n",
              "      <th id=\"T_d60cb_level0_row15\" class=\"row_heading level0 row15\" >15</th>\n",
              "      <td id=\"T_d60cb_row15_col0\" class=\"data row15 col0\" >Normalize</td>\n",
              "      <td id=\"T_d60cb_row15_col1\" class=\"data row15 col1\" >True</td>\n",
              "    </tr>\n",
              "    <tr>\n",
              "      <th id=\"T_d60cb_level0_row16\" class=\"row_heading level0 row16\" >16</th>\n",
              "      <td id=\"T_d60cb_row16_col0\" class=\"data row16 col0\" >Normalize method</td>\n",
              "      <td id=\"T_d60cb_row16_col1\" class=\"data row16 col1\" >minmax</td>\n",
              "    </tr>\n",
              "    <tr>\n",
              "      <th id=\"T_d60cb_level0_row17\" class=\"row_heading level0 row17\" >17</th>\n",
              "      <td id=\"T_d60cb_row17_col0\" class=\"data row17 col0\" >Fold Generator</td>\n",
              "      <td id=\"T_d60cb_row17_col1\" class=\"data row17 col1\" >KFold</td>\n",
              "    </tr>\n",
              "    <tr>\n",
              "      <th id=\"T_d60cb_level0_row18\" class=\"row_heading level0 row18\" >18</th>\n",
              "      <td id=\"T_d60cb_row18_col0\" class=\"data row18 col0\" >Fold Number</td>\n",
              "      <td id=\"T_d60cb_row18_col1\" class=\"data row18 col1\" >3</td>\n",
              "    </tr>\n",
              "    <tr>\n",
              "      <th id=\"T_d60cb_level0_row19\" class=\"row_heading level0 row19\" >19</th>\n",
              "      <td id=\"T_d60cb_row19_col0\" class=\"data row19 col0\" >CPU Jobs</td>\n",
              "      <td id=\"T_d60cb_row19_col1\" class=\"data row19 col1\" >-1</td>\n",
              "    </tr>\n",
              "    <tr>\n",
              "      <th id=\"T_d60cb_level0_row20\" class=\"row_heading level0 row20\" >20</th>\n",
              "      <td id=\"T_d60cb_row20_col0\" class=\"data row20 col0\" >Use GPU</td>\n",
              "      <td id=\"T_d60cb_row20_col1\" class=\"data row20 col1\" >False</td>\n",
              "    </tr>\n",
              "    <tr>\n",
              "      <th id=\"T_d60cb_level0_row21\" class=\"row_heading level0 row21\" >21</th>\n",
              "      <td id=\"T_d60cb_row21_col0\" class=\"data row21 col0\" >Log Experiment</td>\n",
              "      <td id=\"T_d60cb_row21_col1\" class=\"data row21 col1\" >False</td>\n",
              "    </tr>\n",
              "    <tr>\n",
              "      <th id=\"T_d60cb_level0_row22\" class=\"row_heading level0 row22\" >22</th>\n",
              "      <td id=\"T_d60cb_row22_col0\" class=\"data row22 col0\" >Experiment Name</td>\n",
              "      <td id=\"T_d60cb_row22_col1\" class=\"data row22 col1\" >reg-default-name</td>\n",
              "    </tr>\n",
              "    <tr>\n",
              "      <th id=\"T_d60cb_level0_row23\" class=\"row_heading level0 row23\" >23</th>\n",
              "      <td id=\"T_d60cb_row23_col0\" class=\"data row23 col0\" >USI</td>\n",
              "      <td id=\"T_d60cb_row23_col1\" class=\"data row23 col1\" >72f2</td>\n",
              "    </tr>\n",
              "  </tbody>\n",
              "</table>\n"
            ],
            "text/plain": [
              "<pandas.io.formats.style.Styler at 0x7e8b588d40d0>"
            ]
          },
          "metadata": {},
          "output_type": "display_data"
        }
      ],
      "source": [
        "x=df.drop('Isc', axis=1)\n",
        "\n",
        "reg = setup(data=x , target = 'FF' ,normalize=True , normalize_method='minmax',train_size=0.8,fold=3\n",
        "\n",
        "             ,ignore_features=['schw 1', 'schw 2','schw 3', 'schw 4', 'schw 5', 'schw 6']\n",
        "\n",
        "            ,remove_multicollinearity = True, multicollinearity_threshold= 0.9\n",
        "\n",
        "            ,session_id=1543)"
      ]
    },
    {
      "cell_type": "code",
      "execution_count": null,
      "id": "zNkW1GJKarL9",
      "metadata": {
        "colab": {
          "base_uri": "https://localhost:8080/",
          "height": 677,
          "referenced_widgets": [
            "ceb66f281f7941f986d22cf40c500ab2",
            "a3c603cbacd942ca839d1121007b773c",
            "3a1a98dbf80549f0a9f0a57df97715b2",
            "7433892b125246479ae58a6ba0dfc8e7",
            "8108e3f3cc0f43f8a62bc0c4b4712cac",
            "5f7a3f234e9f4150ac95bbc799a1f290",
            "43cf1c973ef4456f8438223fc17150b9",
            "5ba279e9cc9a4fa4826eab67484cd848",
            "3d136fa47c514727bb96765501699188",
            "23f3136df9af425baf404e6b49900654",
            "441c10e2465848c8b106d89c7479735a"
          ]
        },
        "id": "zNkW1GJKarL9",
        "outputId": "a74d5d2d-b0a2-4752-ffa2-6abd071e8b69"
      },
      "outputs": [
        {
          "data": {
            "text/html": [],
            "text/plain": [
              "<IPython.core.display.HTML object>"
            ]
          },
          "metadata": {},
          "output_type": "display_data"
        },
        {
          "data": {
            "text/html": [
              "<style type=\"text/css\">\n",
              "#T_c33f7 th {\n",
              "  text-align: left;\n",
              "}\n",
              "#T_c33f7_row0_col0, #T_c33f7_row1_col0, #T_c33f7_row1_col1, #T_c33f7_row1_col2, #T_c33f7_row1_col3, #T_c33f7_row1_col4, #T_c33f7_row1_col5, #T_c33f7_row1_col6, #T_c33f7_row2_col0, #T_c33f7_row2_col1, #T_c33f7_row2_col2, #T_c33f7_row2_col3, #T_c33f7_row2_col4, #T_c33f7_row2_col5, #T_c33f7_row2_col6, #T_c33f7_row3_col0, #T_c33f7_row3_col1, #T_c33f7_row3_col2, #T_c33f7_row3_col3, #T_c33f7_row3_col4, #T_c33f7_row3_col5, #T_c33f7_row3_col6, #T_c33f7_row4_col0, #T_c33f7_row4_col1, #T_c33f7_row4_col2, #T_c33f7_row4_col3, #T_c33f7_row4_col4, #T_c33f7_row4_col5, #T_c33f7_row4_col6, #T_c33f7_row5_col0, #T_c33f7_row5_col1, #T_c33f7_row5_col2, #T_c33f7_row5_col3, #T_c33f7_row5_col4, #T_c33f7_row5_col5, #T_c33f7_row5_col6, #T_c33f7_row6_col0, #T_c33f7_row6_col1, #T_c33f7_row6_col2, #T_c33f7_row6_col3, #T_c33f7_row6_col4, #T_c33f7_row6_col5, #T_c33f7_row6_col6, #T_c33f7_row7_col0, #T_c33f7_row7_col1, #T_c33f7_row7_col2, #T_c33f7_row7_col3, #T_c33f7_row7_col4, #T_c33f7_row7_col5, #T_c33f7_row7_col6, #T_c33f7_row8_col0, #T_c33f7_row8_col1, #T_c33f7_row8_col2, #T_c33f7_row8_col3, #T_c33f7_row8_col4, #T_c33f7_row8_col5, #T_c33f7_row8_col6, #T_c33f7_row9_col0, #T_c33f7_row9_col1, #T_c33f7_row9_col2, #T_c33f7_row9_col3, #T_c33f7_row9_col4, #T_c33f7_row9_col5, #T_c33f7_row9_col6, #T_c33f7_row10_col0, #T_c33f7_row10_col1, #T_c33f7_row10_col2, #T_c33f7_row10_col3, #T_c33f7_row10_col4, #T_c33f7_row10_col5, #T_c33f7_row10_col6, #T_c33f7_row11_col0, #T_c33f7_row11_col1, #T_c33f7_row11_col2, #T_c33f7_row11_col3, #T_c33f7_row11_col4, #T_c33f7_row11_col5, #T_c33f7_row11_col6, #T_c33f7_row12_col0, #T_c33f7_row12_col1, #T_c33f7_row12_col2, #T_c33f7_row12_col3, #T_c33f7_row12_col4, #T_c33f7_row12_col5, #T_c33f7_row12_col6, #T_c33f7_row13_col0, #T_c33f7_row13_col1, #T_c33f7_row13_col2, #T_c33f7_row13_col3, #T_c33f7_row13_col4, #T_c33f7_row13_col5, #T_c33f7_row13_col6, #T_c33f7_row14_col0, #T_c33f7_row14_col1, #T_c33f7_row14_col2, #T_c33f7_row14_col3, #T_c33f7_row14_col4, #T_c33f7_row14_col5, #T_c33f7_row14_col6, #T_c33f7_row15_col0, #T_c33f7_row15_col1, #T_c33f7_row15_col2, #T_c33f7_row15_col3, #T_c33f7_row15_col4, #T_c33f7_row15_col5, #T_c33f7_row15_col6, #T_c33f7_row16_col0, #T_c33f7_row16_col1, #T_c33f7_row16_col2, #T_c33f7_row16_col3, #T_c33f7_row16_col4, #T_c33f7_row16_col5, #T_c33f7_row16_col6, #T_c33f7_row17_col0, #T_c33f7_row17_col1, #T_c33f7_row17_col2, #T_c33f7_row17_col3, #T_c33f7_row17_col4, #T_c33f7_row17_col5, #T_c33f7_row17_col6, #T_c33f7_row18_col0, #T_c33f7_row18_col1, #T_c33f7_row18_col2, #T_c33f7_row18_col3, #T_c33f7_row18_col4, #T_c33f7_row18_col5, #T_c33f7_row18_col6, #T_c33f7_row19_col0, #T_c33f7_row19_col1, #T_c33f7_row19_col2, #T_c33f7_row19_col3, #T_c33f7_row19_col4, #T_c33f7_row19_col5, #T_c33f7_row19_col6 {\n",
              "  text-align: left;\n",
              "}\n",
              "#T_c33f7_row0_col1, #T_c33f7_row0_col2, #T_c33f7_row0_col3, #T_c33f7_row0_col4, #T_c33f7_row0_col5, #T_c33f7_row0_col6 {\n",
              "  text-align: left;\n",
              "  background-color: yellow;\n",
              "}\n",
              "#T_c33f7_row0_col7, #T_c33f7_row2_col7, #T_c33f7_row3_col7, #T_c33f7_row4_col7, #T_c33f7_row5_col7, #T_c33f7_row6_col7, #T_c33f7_row7_col7, #T_c33f7_row8_col7, #T_c33f7_row9_col7, #T_c33f7_row10_col7, #T_c33f7_row11_col7, #T_c33f7_row13_col7, #T_c33f7_row14_col7, #T_c33f7_row15_col7, #T_c33f7_row16_col7, #T_c33f7_row17_col7, #T_c33f7_row19_col7 {\n",
              "  text-align: left;\n",
              "  background-color: lightgrey;\n",
              "}\n",
              "#T_c33f7_row1_col7, #T_c33f7_row12_col7, #T_c33f7_row18_col7 {\n",
              "  text-align: left;\n",
              "  background-color: yellow;\n",
              "  background-color: lightgrey;\n",
              "}\n",
              "</style>\n",
              "<table id=\"T_c33f7\" class=\"dataframe\">\n",
              "  <thead>\n",
              "    <tr>\n",
              "      <th class=\"blank level0\" >&nbsp;</th>\n",
              "      <th id=\"T_c33f7_level0_col0\" class=\"col_heading level0 col0\" >Model</th>\n",
              "      <th id=\"T_c33f7_level0_col1\" class=\"col_heading level0 col1\" >MAE</th>\n",
              "      <th id=\"T_c33f7_level0_col2\" class=\"col_heading level0 col2\" >MSE</th>\n",
              "      <th id=\"T_c33f7_level0_col3\" class=\"col_heading level0 col3\" >RMSE</th>\n",
              "      <th id=\"T_c33f7_level0_col4\" class=\"col_heading level0 col4\" >R2</th>\n",
              "      <th id=\"T_c33f7_level0_col5\" class=\"col_heading level0 col5\" >RMSLE</th>\n",
              "      <th id=\"T_c33f7_level0_col6\" class=\"col_heading level0 col6\" >MAPE</th>\n",
              "      <th id=\"T_c33f7_level0_col7\" class=\"col_heading level0 col7\" >TT (Sec)</th>\n",
              "    </tr>\n",
              "  </thead>\n",
              "  <tbody>\n",
              "    <tr>\n",
              "      <th id=\"T_c33f7_level0_row0\" class=\"row_heading level0 row0\" >gbr</th>\n",
              "      <td id=\"T_c33f7_row0_col0\" class=\"data row0 col0\" >Gradient Boosting Regressor</td>\n",
              "      <td id=\"T_c33f7_row0_col1\" class=\"data row0 col1\" >0.4170</td>\n",
              "      <td id=\"T_c33f7_row0_col2\" class=\"data row0 col2\" >0.2950</td>\n",
              "      <td id=\"T_c33f7_row0_col3\" class=\"data row0 col3\" >0.5431</td>\n",
              "      <td id=\"T_c33f7_row0_col4\" class=\"data row0 col4\" >0.9578</td>\n",
              "      <td id=\"T_c33f7_row0_col5\" class=\"data row0 col5\" >0.0116</td>\n",
              "      <td id=\"T_c33f7_row0_col6\" class=\"data row0 col6\" >0.0094</td>\n",
              "      <td id=\"T_c33f7_row0_col7\" class=\"data row0 col7\" >0.1000</td>\n",
              "    </tr>\n",
              "    <tr>\n",
              "      <th id=\"T_c33f7_level0_row1\" class=\"row_heading level0 row1\" >dt</th>\n",
              "      <td id=\"T_c33f7_row1_col0\" class=\"data row1 col0\" >Decision Tree Regressor</td>\n",
              "      <td id=\"T_c33f7_row1_col1\" class=\"data row1 col1\" >0.6857</td>\n",
              "      <td id=\"T_c33f7_row1_col2\" class=\"data row1 col2\" >0.9939</td>\n",
              "      <td id=\"T_c33f7_row1_col3\" class=\"data row1 col3\" >0.9969</td>\n",
              "      <td id=\"T_c33f7_row1_col4\" class=\"data row1 col4\" >0.8580</td>\n",
              "      <td id=\"T_c33f7_row1_col5\" class=\"data row1 col5\" >0.0232</td>\n",
              "      <td id=\"T_c33f7_row1_col6\" class=\"data row1 col6\" >0.0159</td>\n",
              "      <td id=\"T_c33f7_row1_col7\" class=\"data row1 col7\" >0.0400</td>\n",
              "    </tr>\n",
              "    <tr>\n",
              "      <th id=\"T_c33f7_level0_row2\" class=\"row_heading level0 row2\" >xgboost</th>\n",
              "      <td id=\"T_c33f7_row2_col0\" class=\"data row2 col0\" >Extreme Gradient Boosting</td>\n",
              "      <td id=\"T_c33f7_row2_col1\" class=\"data row2 col1\" >0.7718</td>\n",
              "      <td id=\"T_c33f7_row2_col2\" class=\"data row2 col2\" >1.0272</td>\n",
              "      <td id=\"T_c33f7_row2_col3\" class=\"data row2 col3\" >1.0135</td>\n",
              "      <td id=\"T_c33f7_row2_col4\" class=\"data row2 col4\" >0.8532</td>\n",
              "      <td id=\"T_c33f7_row2_col5\" class=\"data row2 col5\" >0.0223</td>\n",
              "      <td id=\"T_c33f7_row2_col6\" class=\"data row2 col6\" >0.0175</td>\n",
              "      <td id=\"T_c33f7_row2_col7\" class=\"data row2 col7\" >1.2900</td>\n",
              "    </tr>\n",
              "    <tr>\n",
              "      <th id=\"T_c33f7_level0_row3\" class=\"row_heading level0 row3\" >rf</th>\n",
              "      <td id=\"T_c33f7_row3_col0\" class=\"data row3 col0\" >Random Forest Regressor</td>\n",
              "      <td id=\"T_c33f7_row3_col1\" class=\"data row3 col1\" >0.8604</td>\n",
              "      <td id=\"T_c33f7_row3_col2\" class=\"data row3 col2\" >1.1369</td>\n",
              "      <td id=\"T_c33f7_row3_col3\" class=\"data row3 col3\" >1.0663</td>\n",
              "      <td id=\"T_c33f7_row3_col4\" class=\"data row3 col4\" >0.8375</td>\n",
              "      <td id=\"T_c33f7_row3_col5\" class=\"data row3 col5\" >0.0253</td>\n",
              "      <td id=\"T_c33f7_row3_col6\" class=\"data row3 col6\" >0.0207</td>\n",
              "      <td id=\"T_c33f7_row3_col7\" class=\"data row3 col7\" >0.2500</td>\n",
              "    </tr>\n",
              "    <tr>\n",
              "      <th id=\"T_c33f7_level0_row4\" class=\"row_heading level0 row4\" >ada</th>\n",
              "      <td id=\"T_c33f7_row4_col0\" class=\"data row4 col0\" >AdaBoost Regressor</td>\n",
              "      <td id=\"T_c33f7_row4_col1\" class=\"data row4 col1\" >1.0534</td>\n",
              "      <td id=\"T_c33f7_row4_col2\" class=\"data row4 col2\" >1.1980</td>\n",
              "      <td id=\"T_c33f7_row4_col3\" class=\"data row4 col3\" >1.0945</td>\n",
              "      <td id=\"T_c33f7_row4_col4\" class=\"data row4 col4\" >0.8288</td>\n",
              "      <td id=\"T_c33f7_row4_col5\" class=\"data row4 col5\" >0.0244</td>\n",
              "      <td id=\"T_c33f7_row4_col6\" class=\"data row4 col6\" >0.0243</td>\n",
              "      <td id=\"T_c33f7_row4_col7\" class=\"data row4 col7\" >0.1200</td>\n",
              "    </tr>\n",
              "    <tr>\n",
              "      <th id=\"T_c33f7_level0_row5\" class=\"row_heading level0 row5\" >et</th>\n",
              "      <td id=\"T_c33f7_row5_col0\" class=\"data row5 col0\" >Extra Trees Regressor</td>\n",
              "      <td id=\"T_c33f7_row5_col1\" class=\"data row5 col1\" >1.3089</td>\n",
              "      <td id=\"T_c33f7_row5_col2\" class=\"data row5 col2\" >1.7824</td>\n",
              "      <td id=\"T_c33f7_row5_col3\" class=\"data row5 col3\" >1.3351</td>\n",
              "      <td id=\"T_c33f7_row5_col4\" class=\"data row5 col4\" >0.7453</td>\n",
              "      <td id=\"T_c33f7_row5_col5\" class=\"data row5 col5\" >0.0306</td>\n",
              "      <td id=\"T_c33f7_row5_col6\" class=\"data row5 col6\" >0.0307</td>\n",
              "      <td id=\"T_c33f7_row5_col7\" class=\"data row5 col7\" >0.1800</td>\n",
              "    </tr>\n",
              "    <tr>\n",
              "      <th id=\"T_c33f7_level0_row6\" class=\"row_heading level0 row6\" >lar</th>\n",
              "      <td id=\"T_c33f7_row6_col0\" class=\"data row6 col0\" >Least Angle Regression</td>\n",
              "      <td id=\"T_c33f7_row6_col1\" class=\"data row6 col1\" >1.2531</td>\n",
              "      <td id=\"T_c33f7_row6_col2\" class=\"data row6 col2\" >2.2217</td>\n",
              "      <td id=\"T_c33f7_row6_col3\" class=\"data row6 col3\" >1.4905</td>\n",
              "      <td id=\"T_c33f7_row6_col4\" class=\"data row6 col4\" >0.6825</td>\n",
              "      <td id=\"T_c33f7_row6_col5\" class=\"data row6 col5\" >0.0340</td>\n",
              "      <td id=\"T_c33f7_row6_col6\" class=\"data row6 col6\" >0.0293</td>\n",
              "      <td id=\"T_c33f7_row6_col7\" class=\"data row6 col7\" >0.0600</td>\n",
              "    </tr>\n",
              "    <tr>\n",
              "      <th id=\"T_c33f7_level0_row7\" class=\"row_heading level0 row7\" >lr</th>\n",
              "      <td id=\"T_c33f7_row7_col0\" class=\"data row7 col0\" >Linear Regression</td>\n",
              "      <td id=\"T_c33f7_row7_col1\" class=\"data row7 col1\" >1.2535</td>\n",
              "      <td id=\"T_c33f7_row7_col2\" class=\"data row7 col2\" >2.2228</td>\n",
              "      <td id=\"T_c33f7_row7_col3\" class=\"data row7 col3\" >1.4909</td>\n",
              "      <td id=\"T_c33f7_row7_col4\" class=\"data row7 col4\" >0.6823</td>\n",
              "      <td id=\"T_c33f7_row7_col5\" class=\"data row7 col5\" >0.0340</td>\n",
              "      <td id=\"T_c33f7_row7_col6\" class=\"data row7 col6\" >0.0293</td>\n",
              "      <td id=\"T_c33f7_row7_col7\" class=\"data row7 col7\" >0.0700</td>\n",
              "    </tr>\n",
              "    <tr>\n",
              "      <th id=\"T_c33f7_level0_row8\" class=\"row_heading level0 row8\" >ridge</th>\n",
              "      <td id=\"T_c33f7_row8_col0\" class=\"data row8 col0\" >Ridge Regression</td>\n",
              "      <td id=\"T_c33f7_row8_col1\" class=\"data row8 col1\" >1.1996</td>\n",
              "      <td id=\"T_c33f7_row8_col2\" class=\"data row8 col2\" >2.4122</td>\n",
              "      <td id=\"T_c33f7_row8_col3\" class=\"data row8 col3\" >1.5531</td>\n",
              "      <td id=\"T_c33f7_row8_col4\" class=\"data row8 col4\" >0.6553</td>\n",
              "      <td id=\"T_c33f7_row8_col5\" class=\"data row8 col5\" >0.0361</td>\n",
              "      <td id=\"T_c33f7_row8_col6\" class=\"data row8 col6\" >0.0286</td>\n",
              "      <td id=\"T_c33f7_row8_col7\" class=\"data row8 col7\" >0.0600</td>\n",
              "    </tr>\n",
              "    <tr>\n",
              "      <th id=\"T_c33f7_level0_row9\" class=\"row_heading level0 row9\" >par</th>\n",
              "      <td id=\"T_c33f7_row9_col0\" class=\"data row9 col0\" >Passive Aggressive Regressor</td>\n",
              "      <td id=\"T_c33f7_row9_col1\" class=\"data row9 col1\" >1.3335</td>\n",
              "      <td id=\"T_c33f7_row9_col2\" class=\"data row9 col2\" >2.4576</td>\n",
              "      <td id=\"T_c33f7_row9_col3\" class=\"data row9 col3\" >1.5677</td>\n",
              "      <td id=\"T_c33f7_row9_col4\" class=\"data row9 col4\" >0.6488</td>\n",
              "      <td id=\"T_c33f7_row9_col5\" class=\"data row9 col5\" >0.0368</td>\n",
              "      <td id=\"T_c33f7_row9_col6\" class=\"data row9 col6\" >0.0320</td>\n",
              "      <td id=\"T_c33f7_row9_col7\" class=\"data row9 col7\" >0.0500</td>\n",
              "    </tr>\n",
              "    <tr>\n",
              "      <th id=\"T_c33f7_level0_row10\" class=\"row_heading level0 row10\" >huber</th>\n",
              "      <td id=\"T_c33f7_row10_col0\" class=\"data row10 col0\" >Huber Regressor</td>\n",
              "      <td id=\"T_c33f7_row10_col1\" class=\"data row10 col1\" >1.4011</td>\n",
              "      <td id=\"T_c33f7_row10_col2\" class=\"data row10 col2\" >2.7382</td>\n",
              "      <td id=\"T_c33f7_row10_col3\" class=\"data row10 col3\" >1.6547</td>\n",
              "      <td id=\"T_c33f7_row10_col4\" class=\"data row10 col4\" >0.6087</td>\n",
              "      <td id=\"T_c33f7_row10_col5\" class=\"data row10 col5\" >0.0374</td>\n",
              "      <td id=\"T_c33f7_row10_col6\" class=\"data row10 col6\" >0.0325</td>\n",
              "      <td id=\"T_c33f7_row10_col7\" class=\"data row10 col7\" >0.0700</td>\n",
              "    </tr>\n",
              "    <tr>\n",
              "      <th id=\"T_c33f7_level0_row11\" class=\"row_heading level0 row11\" >knn</th>\n",
              "      <td id=\"T_c33f7_row11_col0\" class=\"data row11 col0\" >K Neighbors Regressor</td>\n",
              "      <td id=\"T_c33f7_row11_col1\" class=\"data row11 col1\" >1.2809</td>\n",
              "      <td id=\"T_c33f7_row11_col2\" class=\"data row11 col2\" >2.9203</td>\n",
              "      <td id=\"T_c33f7_row11_col3\" class=\"data row11 col3\" >1.7089</td>\n",
              "      <td id=\"T_c33f7_row11_col4\" class=\"data row11 col4\" >0.5826</td>\n",
              "      <td id=\"T_c33f7_row11_col5\" class=\"data row11 col5\" >0.0405</td>\n",
              "      <td id=\"T_c33f7_row11_col6\" class=\"data row11 col6\" >0.0311</td>\n",
              "      <td id=\"T_c33f7_row11_col7\" class=\"data row11 col7\" >0.0500</td>\n",
              "    </tr>\n",
              "    <tr>\n",
              "      <th id=\"T_c33f7_level0_row12\" class=\"row_heading level0 row12\" >br</th>\n",
              "      <td id=\"T_c33f7_row12_col0\" class=\"data row12 col0\" >Bayesian Ridge</td>\n",
              "      <td id=\"T_c33f7_row12_col1\" class=\"data row12 col1\" >1.3371</td>\n",
              "      <td id=\"T_c33f7_row12_col2\" class=\"data row12 col2\" >3.1779</td>\n",
              "      <td id=\"T_c33f7_row12_col3\" class=\"data row12 col3\" >1.7827</td>\n",
              "      <td id=\"T_c33f7_row12_col4\" class=\"data row12 col4\" >0.5458</td>\n",
              "      <td id=\"T_c33f7_row12_col5\" class=\"data row12 col5\" >0.0418</td>\n",
              "      <td id=\"T_c33f7_row12_col6\" class=\"data row12 col6\" >0.0321</td>\n",
              "      <td id=\"T_c33f7_row12_col7\" class=\"data row12 col7\" >0.0400</td>\n",
              "    </tr>\n",
              "    <tr>\n",
              "      <th id=\"T_c33f7_level0_row13\" class=\"row_heading level0 row13\" >omp</th>\n",
              "      <td id=\"T_c33f7_row13_col0\" class=\"data row13 col0\" >Orthogonal Matching Pursuit</td>\n",
              "      <td id=\"T_c33f7_row13_col1\" class=\"data row13 col1\" >1.3224</td>\n",
              "      <td id=\"T_c33f7_row13_col2\" class=\"data row13 col2\" >3.4390</td>\n",
              "      <td id=\"T_c33f7_row13_col3\" class=\"data row13 col3\" >1.8544</td>\n",
              "      <td id=\"T_c33f7_row13_col4\" class=\"data row13 col4\" >0.5085</td>\n",
              "      <td id=\"T_c33f7_row13_col5\" class=\"data row13 col5\" >0.0440</td>\n",
              "      <td id=\"T_c33f7_row13_col6\" class=\"data row13 col6\" >0.0322</td>\n",
              "      <td id=\"T_c33f7_row13_col7\" class=\"data row13 col7\" >0.0500</td>\n",
              "    </tr>\n",
              "    <tr>\n",
              "      <th id=\"T_c33f7_level0_row14\" class=\"row_heading level0 row14\" >catboost</th>\n",
              "      <td id=\"T_c33f7_row14_col0\" class=\"data row14 col0\" >CatBoost Regressor</td>\n",
              "      <td id=\"T_c33f7_row14_col1\" class=\"data row14 col1\" >1.6628</td>\n",
              "      <td id=\"T_c33f7_row14_col2\" class=\"data row14 col2\" >3.7011</td>\n",
              "      <td id=\"T_c33f7_row14_col3\" class=\"data row14 col3\" >1.9238</td>\n",
              "      <td id=\"T_c33f7_row14_col4\" class=\"data row14 col4\" >0.4710</td>\n",
              "      <td id=\"T_c33f7_row14_col5\" class=\"data row14 col5\" >0.0454</td>\n",
              "      <td id=\"T_c33f7_row14_col6\" class=\"data row14 col6\" >0.0398</td>\n",
              "      <td id=\"T_c33f7_row14_col7\" class=\"data row14 col7\" >0.9900</td>\n",
              "    </tr>\n",
              "    <tr>\n",
              "      <th id=\"T_c33f7_level0_row15\" class=\"row_heading level0 row15\" >en</th>\n",
              "      <td id=\"T_c33f7_row15_col0\" class=\"data row15 col0\" >Elastic Net</td>\n",
              "      <td id=\"T_c33f7_row15_col1\" class=\"data row15 col1\" >2.3123</td>\n",
              "      <td id=\"T_c33f7_row15_col2\" class=\"data row15 col2\" >7.4887</td>\n",
              "      <td id=\"T_c33f7_row15_col3\" class=\"data row15 col3\" >2.7365</td>\n",
              "      <td id=\"T_c33f7_row15_col4\" class=\"data row15 col4\" >-0.0703</td>\n",
              "      <td id=\"T_c33f7_row15_col5\" class=\"data row15 col5\" >0.0634</td>\n",
              "      <td id=\"T_c33f7_row15_col6\" class=\"data row15 col6\" >0.0553</td>\n",
              "      <td id=\"T_c33f7_row15_col7\" class=\"data row15 col7\" >0.0500</td>\n",
              "    </tr>\n",
              "    <tr>\n",
              "      <th id=\"T_c33f7_level0_row16\" class=\"row_heading level0 row16\" >lightgbm</th>\n",
              "      <td id=\"T_c33f7_row16_col0\" class=\"data row16 col0\" >Light Gradient Boosting Machine</td>\n",
              "      <td id=\"T_c33f7_row16_col1\" class=\"data row16 col1\" >2.3305</td>\n",
              "      <td id=\"T_c33f7_row16_col2\" class=\"data row16 col2\" >7.5724</td>\n",
              "      <td id=\"T_c33f7_row16_col3\" class=\"data row16 col3\" >2.7518</td>\n",
              "      <td id=\"T_c33f7_row16_col4\" class=\"data row16 col4\" >-0.0822</td>\n",
              "      <td id=\"T_c33f7_row16_col5\" class=\"data row16 col5\" >0.0638</td>\n",
              "      <td id=\"T_c33f7_row16_col6\" class=\"data row16 col6\" >0.0557</td>\n",
              "      <td id=\"T_c33f7_row16_col7\" class=\"data row16 col7\" >0.1200</td>\n",
              "    </tr>\n",
              "    <tr>\n",
              "      <th id=\"T_c33f7_level0_row17\" class=\"row_heading level0 row17\" >lasso</th>\n",
              "      <td id=\"T_c33f7_row17_col0\" class=\"data row17 col0\" >Lasso Regression</td>\n",
              "      <td id=\"T_c33f7_row17_col1\" class=\"data row17 col1\" >2.3305</td>\n",
              "      <td id=\"T_c33f7_row17_col2\" class=\"data row17 col2\" >7.5724</td>\n",
              "      <td id=\"T_c33f7_row17_col3\" class=\"data row17 col3\" >2.7518</td>\n",
              "      <td id=\"T_c33f7_row17_col4\" class=\"data row17 col4\" >-0.0823</td>\n",
              "      <td id=\"T_c33f7_row17_col5\" class=\"data row17 col5\" >0.0638</td>\n",
              "      <td id=\"T_c33f7_row17_col6\" class=\"data row17 col6\" >0.0557</td>\n",
              "      <td id=\"T_c33f7_row17_col7\" class=\"data row17 col7\" >0.0500</td>\n",
              "    </tr>\n",
              "    <tr>\n",
              "      <th id=\"T_c33f7_level0_row18\" class=\"row_heading level0 row18\" >llar</th>\n",
              "      <td id=\"T_c33f7_row18_col0\" class=\"data row18 col0\" >Lasso Least Angle Regression</td>\n",
              "      <td id=\"T_c33f7_row18_col1\" class=\"data row18 col1\" >2.3305</td>\n",
              "      <td id=\"T_c33f7_row18_col2\" class=\"data row18 col2\" >7.5724</td>\n",
              "      <td id=\"T_c33f7_row18_col3\" class=\"data row18 col3\" >2.7518</td>\n",
              "      <td id=\"T_c33f7_row18_col4\" class=\"data row18 col4\" >-0.0823</td>\n",
              "      <td id=\"T_c33f7_row18_col5\" class=\"data row18 col5\" >0.0638</td>\n",
              "      <td id=\"T_c33f7_row18_col6\" class=\"data row18 col6\" >0.0557</td>\n",
              "      <td id=\"T_c33f7_row18_col7\" class=\"data row18 col7\" >0.0400</td>\n",
              "    </tr>\n",
              "    <tr>\n",
              "      <th id=\"T_c33f7_level0_row19\" class=\"row_heading level0 row19\" >dummy</th>\n",
              "      <td id=\"T_c33f7_row19_col0\" class=\"data row19 col0\" >Dummy Regressor</td>\n",
              "      <td id=\"T_c33f7_row19_col1\" class=\"data row19 col1\" >2.3305</td>\n",
              "      <td id=\"T_c33f7_row19_col2\" class=\"data row19 col2\" >7.5724</td>\n",
              "      <td id=\"T_c33f7_row19_col3\" class=\"data row19 col3\" >2.7518</td>\n",
              "      <td id=\"T_c33f7_row19_col4\" class=\"data row19 col4\" >-0.0823</td>\n",
              "      <td id=\"T_c33f7_row19_col5\" class=\"data row19 col5\" >0.0638</td>\n",
              "      <td id=\"T_c33f7_row19_col6\" class=\"data row19 col6\" >0.0557</td>\n",
              "      <td id=\"T_c33f7_row19_col7\" class=\"data row19 col7\" >0.0600</td>\n",
              "    </tr>\n",
              "  </tbody>\n",
              "</table>\n"
            ],
            "text/plain": [
              "<pandas.io.formats.style.Styler at 0x7e8b5836f190>"
            ]
          },
          "metadata": {},
          "output_type": "display_data"
        },
        {
          "data": {
            "application/vnd.jupyter.widget-view+json": {
              "model_id": "ceb66f281f7941f986d22cf40c500ab2",
              "version_major": 2,
              "version_minor": 0
            },
            "text/plain": [
              "Processing:   0%|          | 0/85 [00:00<?, ?it/s]"
            ]
          },
          "metadata": {
            "application/vnd.jupyter.widget-view+json": {
              "colab": {
                "custom_widget_manager": {
                  "url": "https://ssl.gstatic.com/colaboratory-static/widgets/colab-cdn-widget-manager/b3e629b1971e1542/manager.min.js"
                }
              }
            }
          },
          "output_type": "display_data"
        },
        {
          "data": {
            "text/html": [],
            "text/plain": [
              "<IPython.core.display.HTML object>"
            ]
          },
          "metadata": {},
          "output_type": "display_data"
        }
      ],
      "source": [
        "best = compare_models(cross_validation=False)"
      ]
    },
    {
      "cell_type": "markdown",
      "id": "s-7LWOf2a14b",
      "metadata": {
        "id": "s-7LWOf2a14b"
      },
      "source": [
        "GBR"
      ]
    },
    {
      "cell_type": "code",
      "execution_count": null,
      "id": "fineBNlxXyS6",
      "metadata": {
        "colab": {
          "base_uri": "https://localhost:8080/",
          "height": 665,
          "referenced_widgets": [
            "1cbc65f6706e4385b02af8dd559aec07",
            "45e303cb94c84c849a23c029f3e42ca0",
            "58e82124e0124c2a99fcfaac53aec402",
            "76aefd0f70d74d66ae03831f9f4da02d",
            "75f81b1890ae4d63a2ea50350e3b445b",
            "54b215c9054c49389a3c327c7bdb48d8",
            "2ff037fceda246369ef9ecac297978ed",
            "c28c364df6b14585aae7d21027fa97cc",
            "b8bed0a52a7543499fe2a7fb847d27d1",
            "d5b5e45166cf4eb5a736af3f0d37b24b",
            "533f7621698b4c7e9411a1bfd5b8be53",
            "0efb4aa94ae1470fb7d34eadda66c360",
            "6212e3f7571e43288f2ae5296c41ec25",
            "73200bf67acf4e0e85a9589639789e46",
            "f003266c381f4fefa94bf90321ddde4f",
            "9ba2d68dfbf94c16a4055d59e4d5ca20",
            "5d9ec3d391a142a99b9027c830d7c886",
            "9721924d92c643fe9effc63b6b7ab48e"
          ]
        },
        "id": "fineBNlxXyS6",
        "outputId": "1d5b5a94-756d-4486-e492-e82f450abf54"
      },
      "outputs": [
        {
          "data": {
            "text/html": [],
            "text/plain": [
              "<IPython.core.display.HTML object>"
            ]
          },
          "metadata": {},
          "output_type": "display_data"
        },
        {
          "data": {
            "text/html": [
              "<style type=\"text/css\">\n",
              "</style>\n",
              "<table id=\"T_b38ef\" class=\"dataframe\">\n",
              "  <thead>\n",
              "    <tr>\n",
              "      <th class=\"blank level0\" >&nbsp;</th>\n",
              "      <th id=\"T_b38ef_level0_col0\" class=\"col_heading level0 col0\" >MAE</th>\n",
              "      <th id=\"T_b38ef_level0_col1\" class=\"col_heading level0 col1\" >MSE</th>\n",
              "      <th id=\"T_b38ef_level0_col2\" class=\"col_heading level0 col2\" >RMSE</th>\n",
              "      <th id=\"T_b38ef_level0_col3\" class=\"col_heading level0 col3\" >R2</th>\n",
              "      <th id=\"T_b38ef_level0_col4\" class=\"col_heading level0 col4\" >RMSLE</th>\n",
              "      <th id=\"T_b38ef_level0_col5\" class=\"col_heading level0 col5\" >MAPE</th>\n",
              "    </tr>\n",
              "  </thead>\n",
              "  <tbody>\n",
              "    <tr>\n",
              "      <th id=\"T_b38ef_level0_row0\" class=\"row_heading level0 row0\" >Test</th>\n",
              "      <td id=\"T_b38ef_row0_col0\" class=\"data row0 col0\" >0.4170</td>\n",
              "      <td id=\"T_b38ef_row0_col1\" class=\"data row0 col1\" >0.2950</td>\n",
              "      <td id=\"T_b38ef_row0_col2\" class=\"data row0 col2\" >0.5431</td>\n",
              "      <td id=\"T_b38ef_row0_col3\" class=\"data row0 col3\" >0.9578</td>\n",
              "      <td id=\"T_b38ef_row0_col4\" class=\"data row0 col4\" >0.0116</td>\n",
              "      <td id=\"T_b38ef_row0_col5\" class=\"data row0 col5\" >0.0094</td>\n",
              "    </tr>\n",
              "    <tr>\n",
              "      <th id=\"T_b38ef_level0_row1\" class=\"row_heading level0 row1\" >Train</th>\n",
              "      <td id=\"T_b38ef_row1_col0\" class=\"data row1 col0\" >0.1101</td>\n",
              "      <td id=\"T_b38ef_row1_col1\" class=\"data row1 col1\" >0.0207</td>\n",
              "      <td id=\"T_b38ef_row1_col2\" class=\"data row1 col2\" >0.1438</td>\n",
              "      <td id=\"T_b38ef_row1_col3\" class=\"data row1 col3\" >0.9960</td>\n",
              "      <td id=\"T_b38ef_row1_col4\" class=\"data row1 col4\" >0.0033</td>\n",
              "      <td id=\"T_b38ef_row1_col5\" class=\"data row1 col5\" >0.0025</td>\n",
              "    </tr>\n",
              "  </tbody>\n",
              "</table>\n"
            ],
            "text/plain": [
              "<pandas.io.formats.style.Styler at 0x7e8b79013760>"
            ]
          },
          "metadata": {},
          "output_type": "display_data"
        },
        {
          "data": {
            "application/vnd.jupyter.widget-view+json": {
              "model_id": "1cbc65f6706e4385b02af8dd559aec07",
              "version_major": 2,
              "version_minor": 0
            },
            "text/plain": [
              "Processing:   0%|          | 0/4 [00:00<?, ?it/s]"
            ]
          },
          "metadata": {
            "application/vnd.jupyter.widget-view+json": {
              "colab": {
                "custom_widget_manager": {
                  "url": "https://ssl.gstatic.com/colaboratory-static/widgets/colab-cdn-widget-manager/b3e629b1971e1542/manager.min.js"
                }
              }
            }
          },
          "output_type": "display_data"
        },
        {
          "data": {
            "text/html": [],
            "text/plain": [
              "<IPython.core.display.HTML object>"
            ]
          },
          "metadata": {},
          "output_type": "display_data"
        },
        {
          "data": {
            "application/vnd.jupyter.widget-view+json": {
              "model_id": "9ba2d68dfbf94c16a4055d59e4d5ca20",
              "version_major": 2,
              "version_minor": 0
            },
            "text/plain": [
              "interactive(children=(ToggleButtons(description='Plot Type:', icons=('',), options=(('Pipeline Plot', 'pipelin…"
            ]
          },
          "metadata": {
            "application/vnd.jupyter.widget-view+json": {
              "colab": {
                "custom_widget_manager": {
                  "url": "https://ssl.gstatic.com/colaboratory-static/widgets/colab-cdn-widget-manager/b3e629b1971e1542/manager.min.js"
                }
              }
            }
          },
          "output_type": "display_data"
        }
      ],
      "source": [
        "gbr=create_model('gbr',cross_validation = False, return_train_score=True)\n",
        "evaluate_model(gbr)"
      ]
    },
    {
      "cell_type": "markdown",
      "id": "iWifQXFUbMS0",
      "metadata": {
        "id": "iWifQXFUbMS0"
      },
      "source": [
        "Permutation Feature Importance => pfi"
      ]
    },
    {
      "cell_type": "code",
      "execution_count": null,
      "id": "KnVOnBHGbCvq",
      "metadata": {
        "colab": {
          "base_uri": "https://localhost:8080/",
          "height": 560
        },
        "id": "KnVOnBHGbCvq",
        "outputId": "2beab635-cd53-4446-b8ab-b163518c2911"
      },
      "outputs": [
        {
          "name": "stderr",
          "output_type": "stream",
          "text": [
            "14it [00:00, 109.10it/s]\n"
          ]
        },
        {
          "data": {
            "text/html": [
              "<html>\n",
              "<head><meta charset=\"utf-8\" /></head>\n",
              "<body>\n",
              "    <div>            <script src=\"https://cdnjs.cloudflare.com/ajax/libs/mathjax/2.7.5/MathJax.js?config=TeX-AMS-MML_SVG\"></script><script type=\"text/javascript\">if (window.MathJax && window.MathJax.Hub && window.MathJax.Hub.Config) {window.MathJax.Hub.Config({SVG: {font: \"STIX-Web\"}});}</script>                <script type=\"text/javascript\">window.PlotlyConfig = {MathJaxConfig: 'local'};</script>\n",
              "        <script charset=\"utf-8\" src=\"https://cdn.plot.ly/plotly-2.24.1.min.js\"></script>                <div id=\"f412a5cf-2379-4e93-b933-45d8ead9c40e\" class=\"plotly-graph-div\" style=\"height:525px; width:100%;\"></div>            <script type=\"text/javascript\">                                    window.PLOTLYENV=window.PLOTLYENV || {};                                    if (document.getElementById(\"f412a5cf-2379-4e93-b933-45d8ead9c40e\")) {                    Plotly.newPlot(                        \"f412a5cf-2379-4e93-b933-45d8ead9c40e\",                        [{\"marker\":{\"color\":[\"#1f77b4\",\"#ff7f0e\",\"#ff7f0e\",\"#1f77b4\",\"#ff7f0e\",\"#ff7f0e\",\"#ff7f0e\",\"#ff7f0e\",\"#1f77b4\",\"#1f77b4\",\"#ff7f0e\",\"#1f77b4\",\"#1f77b4\",\"#1f77b4\"]},\"orientation\":\"h\",\"x\":[-0.00024181375110404746,0.011031067431921115,0.01832854856864924,-0.026675216466164386,0.02695242124612446,0.029011279474570273,0.029867455820693778,0.03319479928557101,-0.042481584401006245,-0.0493291399317452,0.050228724475815056,-0.09503515086004322,-0.7980512988421822,-1.1989595561596917],\"y\":[\"2-theta 6\",\"relative_intensity 6\",\"2-theta 1\",\"Intensity 2\",\"Intensity 4\",\"2-theta 3\",\"FWHM 5\",\"2-theta 5\",\"Intensity 6\",\"Intensity 1\",\"2-theta 2\",\"Intensity 3\",\"relative_intensity 4\",\"DROP\"],\"type\":\"bar\"}],                        {\"title\":{\"text\":\"\"},\"xaxis\":{\"range\":[-1.1989595561596917,1.1989595561596917],\"title\":{\"text\":\"\"}},\"yaxis\":{\"automargin\":true,\"dtick\":1,\"title\":{\"text\":\"\"}},\"template\":{\"data\":{\"histogram2dcontour\":[{\"type\":\"histogram2dcontour\",\"colorbar\":{\"outlinewidth\":0,\"ticks\":\"\"},\"colorscale\":[[0.0,\"#0d0887\"],[0.1111111111111111,\"#46039f\"],[0.2222222222222222,\"#7201a8\"],[0.3333333333333333,\"#9c179e\"],[0.4444444444444444,\"#bd3786\"],[0.5555555555555556,\"#d8576b\"],[0.6666666666666666,\"#ed7953\"],[0.7777777777777778,\"#fb9f3a\"],[0.8888888888888888,\"#fdca26\"],[1.0,\"#f0f921\"]]}],\"choropleth\":[{\"type\":\"choropleth\",\"colorbar\":{\"outlinewidth\":0,\"ticks\":\"\"}}],\"histogram2d\":[{\"type\":\"histogram2d\",\"colorbar\":{\"outlinewidth\":0,\"ticks\":\"\"},\"colorscale\":[[0.0,\"#0d0887\"],[0.1111111111111111,\"#46039f\"],[0.2222222222222222,\"#7201a8\"],[0.3333333333333333,\"#9c179e\"],[0.4444444444444444,\"#bd3786\"],[0.5555555555555556,\"#d8576b\"],[0.6666666666666666,\"#ed7953\"],[0.7777777777777778,\"#fb9f3a\"],[0.8888888888888888,\"#fdca26\"],[1.0,\"#f0f921\"]]}],\"heatmap\":[{\"type\":\"heatmap\",\"colorbar\":{\"outlinewidth\":0,\"ticks\":\"\"},\"colorscale\":[[0.0,\"#0d0887\"],[0.1111111111111111,\"#46039f\"],[0.2222222222222222,\"#7201a8\"],[0.3333333333333333,\"#9c179e\"],[0.4444444444444444,\"#bd3786\"],[0.5555555555555556,\"#d8576b\"],[0.6666666666666666,\"#ed7953\"],[0.7777777777777778,\"#fb9f3a\"],[0.8888888888888888,\"#fdca26\"],[1.0,\"#f0f921\"]]}],\"heatmapgl\":[{\"type\":\"heatmapgl\",\"colorbar\":{\"outlinewidth\":0,\"ticks\":\"\"},\"colorscale\":[[0.0,\"#0d0887\"],[0.1111111111111111,\"#46039f\"],[0.2222222222222222,\"#7201a8\"],[0.3333333333333333,\"#9c179e\"],[0.4444444444444444,\"#bd3786\"],[0.5555555555555556,\"#d8576b\"],[0.6666666666666666,\"#ed7953\"],[0.7777777777777778,\"#fb9f3a\"],[0.8888888888888888,\"#fdca26\"],[1.0,\"#f0f921\"]]}],\"contourcarpet\":[{\"type\":\"contourcarpet\",\"colorbar\":{\"outlinewidth\":0,\"ticks\":\"\"}}],\"contour\":[{\"type\":\"contour\",\"colorbar\":{\"outlinewidth\":0,\"ticks\":\"\"},\"colorscale\":[[0.0,\"#0d0887\"],[0.1111111111111111,\"#46039f\"],[0.2222222222222222,\"#7201a8\"],[0.3333333333333333,\"#9c179e\"],[0.4444444444444444,\"#bd3786\"],[0.5555555555555556,\"#d8576b\"],[0.6666666666666666,\"#ed7953\"],[0.7777777777777778,\"#fb9f3a\"],[0.8888888888888888,\"#fdca26\"],[1.0,\"#f0f921\"]]}],\"surface\":[{\"type\":\"surface\",\"colorbar\":{\"outlinewidth\":0,\"ticks\":\"\"},\"colorscale\":[[0.0,\"#0d0887\"],[0.1111111111111111,\"#46039f\"],[0.2222222222222222,\"#7201a8\"],[0.3333333333333333,\"#9c179e\"],[0.4444444444444444,\"#bd3786\"],[0.5555555555555556,\"#d8576b\"],[0.6666666666666666,\"#ed7953\"],[0.7777777777777778,\"#fb9f3a\"],[0.8888888888888888,\"#fdca26\"],[1.0,\"#f0f921\"]]}],\"mesh3d\":[{\"type\":\"mesh3d\",\"colorbar\":{\"outlinewidth\":0,\"ticks\":\"\"}}],\"scatter\":[{\"fillpattern\":{\"fillmode\":\"overlay\",\"size\":10,\"solidity\":0.2},\"type\":\"scatter\"}],\"parcoords\":[{\"type\":\"parcoords\",\"line\":{\"colorbar\":{\"outlinewidth\":0,\"ticks\":\"\"}}}],\"scatterpolargl\":[{\"type\":\"scatterpolargl\",\"marker\":{\"colorbar\":{\"outlinewidth\":0,\"ticks\":\"\"}}}],\"bar\":[{\"error_x\":{\"color\":\"#2a3f5f\"},\"error_y\":{\"color\":\"#2a3f5f\"},\"marker\":{\"line\":{\"color\":\"#E5ECF6\",\"width\":0.5},\"pattern\":{\"fillmode\":\"overlay\",\"size\":10,\"solidity\":0.2}},\"type\":\"bar\"}],\"scattergeo\":[{\"type\":\"scattergeo\",\"marker\":{\"colorbar\":{\"outlinewidth\":0,\"ticks\":\"\"}}}],\"scatterpolar\":[{\"type\":\"scatterpolar\",\"marker\":{\"colorbar\":{\"outlinewidth\":0,\"ticks\":\"\"}}}],\"histogram\":[{\"marker\":{\"pattern\":{\"fillmode\":\"overlay\",\"size\":10,\"solidity\":0.2}},\"type\":\"histogram\"}],\"scattergl\":[{\"type\":\"scattergl\",\"marker\":{\"colorbar\":{\"outlinewidth\":0,\"ticks\":\"\"}}}],\"scatter3d\":[{\"type\":\"scatter3d\",\"line\":{\"colorbar\":{\"outlinewidth\":0,\"ticks\":\"\"}},\"marker\":{\"colorbar\":{\"outlinewidth\":0,\"ticks\":\"\"}}}],\"scattermapbox\":[{\"type\":\"scattermapbox\",\"marker\":{\"colorbar\":{\"outlinewidth\":0,\"ticks\":\"\"}}}],\"scatterternary\":[{\"type\":\"scatterternary\",\"marker\":{\"colorbar\":{\"outlinewidth\":0,\"ticks\":\"\"}}}],\"scattercarpet\":[{\"type\":\"scattercarpet\",\"marker\":{\"colorbar\":{\"outlinewidth\":0,\"ticks\":\"\"}}}],\"carpet\":[{\"aaxis\":{\"endlinecolor\":\"#2a3f5f\",\"gridcolor\":\"white\",\"linecolor\":\"white\",\"minorgridcolor\":\"white\",\"startlinecolor\":\"#2a3f5f\"},\"baxis\":{\"endlinecolor\":\"#2a3f5f\",\"gridcolor\":\"white\",\"linecolor\":\"white\",\"minorgridcolor\":\"white\",\"startlinecolor\":\"#2a3f5f\"},\"type\":\"carpet\"}],\"table\":[{\"cells\":{\"fill\":{\"color\":\"#EBF0F8\"},\"line\":{\"color\":\"white\"}},\"header\":{\"fill\":{\"color\":\"#C8D4E3\"},\"line\":{\"color\":\"white\"}},\"type\":\"table\"}],\"barpolar\":[{\"marker\":{\"line\":{\"color\":\"#E5ECF6\",\"width\":0.5},\"pattern\":{\"fillmode\":\"overlay\",\"size\":10,\"solidity\":0.2}},\"type\":\"barpolar\"}],\"pie\":[{\"automargin\":true,\"type\":\"pie\"}]},\"layout\":{\"autotypenumbers\":\"strict\",\"colorway\":[\"#636efa\",\"#EF553B\",\"#00cc96\",\"#ab63fa\",\"#FFA15A\",\"#19d3f3\",\"#FF6692\",\"#B6E880\",\"#FF97FF\",\"#FECB52\"],\"font\":{\"color\":\"#2a3f5f\"},\"hovermode\":\"closest\",\"hoverlabel\":{\"align\":\"left\"},\"paper_bgcolor\":\"white\",\"plot_bgcolor\":\"#E5ECF6\",\"polar\":{\"bgcolor\":\"#E5ECF6\",\"angularaxis\":{\"gridcolor\":\"white\",\"linecolor\":\"white\",\"ticks\":\"\"},\"radialaxis\":{\"gridcolor\":\"white\",\"linecolor\":\"white\",\"ticks\":\"\"}},\"ternary\":{\"bgcolor\":\"#E5ECF6\",\"aaxis\":{\"gridcolor\":\"white\",\"linecolor\":\"white\",\"ticks\":\"\"},\"baxis\":{\"gridcolor\":\"white\",\"linecolor\":\"white\",\"ticks\":\"\"},\"caxis\":{\"gridcolor\":\"white\",\"linecolor\":\"white\",\"ticks\":\"\"}},\"coloraxis\":{\"colorbar\":{\"outlinewidth\":0,\"ticks\":\"\"}},\"colorscale\":{\"sequential\":[[0.0,\"#0d0887\"],[0.1111111111111111,\"#46039f\"],[0.2222222222222222,\"#7201a8\"],[0.3333333333333333,\"#9c179e\"],[0.4444444444444444,\"#bd3786\"],[0.5555555555555556,\"#d8576b\"],[0.6666666666666666,\"#ed7953\"],[0.7777777777777778,\"#fb9f3a\"],[0.8888888888888888,\"#fdca26\"],[1.0,\"#f0f921\"]],\"sequentialminus\":[[0.0,\"#0d0887\"],[0.1111111111111111,\"#46039f\"],[0.2222222222222222,\"#7201a8\"],[0.3333333333333333,\"#9c179e\"],[0.4444444444444444,\"#bd3786\"],[0.5555555555555556,\"#d8576b\"],[0.6666666666666666,\"#ed7953\"],[0.7777777777777778,\"#fb9f3a\"],[0.8888888888888888,\"#fdca26\"],[1.0,\"#f0f921\"]],\"diverging\":[[0,\"#8e0152\"],[0.1,\"#c51b7d\"],[0.2,\"#de77ae\"],[0.3,\"#f1b6da\"],[0.4,\"#fde0ef\"],[0.5,\"#f7f7f7\"],[0.6,\"#e6f5d0\"],[0.7,\"#b8e186\"],[0.8,\"#7fbc41\"],[0.9,\"#4d9221\"],[1,\"#276419\"]]},\"xaxis\":{\"gridcolor\":\"white\",\"linecolor\":\"white\",\"ticks\":\"\",\"title\":{\"standoff\":15},\"zerolinecolor\":\"white\",\"automargin\":true,\"zerolinewidth\":2},\"yaxis\":{\"gridcolor\":\"white\",\"linecolor\":\"white\",\"ticks\":\"\",\"title\":{\"standoff\":15},\"zerolinecolor\":\"white\",\"automargin\":true,\"zerolinewidth\":2},\"scene\":{\"xaxis\":{\"backgroundcolor\":\"#E5ECF6\",\"gridcolor\":\"white\",\"linecolor\":\"white\",\"showbackground\":true,\"ticks\":\"\",\"zerolinecolor\":\"white\",\"gridwidth\":2},\"yaxis\":{\"backgroundcolor\":\"#E5ECF6\",\"gridcolor\":\"white\",\"linecolor\":\"white\",\"showbackground\":true,\"ticks\":\"\",\"zerolinecolor\":\"white\",\"gridwidth\":2},\"zaxis\":{\"backgroundcolor\":\"#E5ECF6\",\"gridcolor\":\"white\",\"linecolor\":\"white\",\"showbackground\":true,\"ticks\":\"\",\"zerolinecolor\":\"white\",\"gridwidth\":2}},\"shapedefaults\":{\"line\":{\"color\":\"#2a3f5f\"}},\"annotationdefaults\":{\"arrowcolor\":\"#2a3f5f\",\"arrowhead\":0,\"arrowwidth\":1},\"geo\":{\"bgcolor\":\"white\",\"landcolor\":\"#E5ECF6\",\"subunitcolor\":\"white\",\"showland\":true,\"showlakes\":true,\"lakecolor\":\"white\"},\"title\":{\"x\":0.05},\"mapbox\":{\"style\":\"light\"}}}},                        {\"responsive\": true}                    ).then(function(){\n",
              "                            \n",
              "var gd = document.getElementById('f412a5cf-2379-4e93-b933-45d8ead9c40e');\n",
              "var x = new MutationObserver(function (mutations, observer) {{\n",
              "        var display = window.getComputedStyle(gd).display;\n",
              "        if (!display || display === 'none') {{\n",
              "            console.log([gd, 'removed!']);\n",
              "            Plotly.purge(gd);\n",
              "            observer.disconnect();\n",
              "        }}\n",
              "}});\n",
              "\n",
              "// Listen for the removal of the full notebook cells\n",
              "var notebookContainer = gd.closest('#notebook-container');\n",
              "if (notebookContainer) {{\n",
              "    x.observe(notebookContainer, {childList: true});\n",
              "}}\n",
              "\n",
              "// Listen for the clearing of the current output cell\n",
              "var outputEl = gd.closest('.output');\n",
              "if (outputEl) {{\n",
              "    x.observe(outputEl, {childList: true});\n",
              "}}\n",
              "\n",
              "                        })                };                            </script>        </div>\n",
              "</body>\n",
              "</html>"
            ]
          },
          "metadata": {},
          "output_type": "display_data"
        }
      ],
      "source": [
        "#all rows(sample)\n",
        "interpret_model(gbr, plot='pfi')"
      ]
    },
    {
      "cell_type": "code",
      "execution_count": null,
      "id": "pwqf0yDcc1mc",
      "metadata": {
        "colab": {
          "base_uri": "https://localhost:8080/",
          "height": 542
        },
        "id": "pwqf0yDcc1mc",
        "outputId": "7e419244-99e0-416a-a678-234c12146d24"
      },
      "outputs": [
        {
          "data": {
            "text/html": [
              "<html>\n",
              "<head><meta charset=\"utf-8\" /></head>\n",
              "<body>\n",
              "    <div>            <script src=\"https://cdnjs.cloudflare.com/ajax/libs/mathjax/2.7.5/MathJax.js?config=TeX-AMS-MML_SVG\"></script><script type=\"text/javascript\">if (window.MathJax && window.MathJax.Hub && window.MathJax.Hub.Config) {window.MathJax.Hub.Config({SVG: {font: \"STIX-Web\"}});}</script>                <script type=\"text/javascript\">window.PlotlyConfig = {MathJaxConfig: 'local'};</script>\n",
              "        <script charset=\"utf-8\" src=\"https://cdn.plot.ly/plotly-2.24.1.min.js\"></script>                <div id=\"b921a880-e80a-49b6-bea8-80fca213d706\" class=\"plotly-graph-div\" style=\"height:525px; width:100%;\"></div>            <script type=\"text/javascript\">                                    window.PLOTLYENV=window.PLOTLYENV || {};                                    if (document.getElementById(\"b921a880-e80a-49b6-bea8-80fca213d706\")) {                    Plotly.newPlot(                        \"b921a880-e80a-49b6-bea8-80fca213d706\",                        [{\"marker\":{\"color\":[\"#ff7f0e\",\"#ff7f0e\",\"#ff7f0e\",\"#ff7f0e\",\"#ff7f0e\",\"#ff7f0e\",\"#ff7f0e\",\"#ff7f0e\",\"#ff7f0e\",\"#ff7f0e\",\"#ff7f0e\",\"#ff7f0e\",\"#ff7f0e\",\"#ff7f0e\"]},\"orientation\":\"h\",\"x\":[0.10519467683939528,0.1552433923881878,0.1560830412425908,0.16440728723924153,0.1978225061555042,0.24833113116123093,0.25754121596789714,0.3020721276428415,0.31022334260468454,0.34290536824548956,0.44409072210070005,0.5282131557684175,2.9459514832308646,3.1410370075827454],\"y\":[\"Intensity 6\",\"2-theta 3\",\"Intensity 4\",\"2-theta 5\",\"relative_intensity 6\",\"FWHM 5\",\"Intensity 1\",\"Intensity 3\",\"2-theta 1\",\"2-theta 6\",\"Intensity 2\",\"2-theta 2\",\"DROP\",\"relative_intensity 4\"],\"type\":\"bar\"}],                        {\"title\":{\"text\":\"Morris Sensitivity\\u003cbr\\u003eConvergence Index: 0.092\"},\"xaxis\":{\"range\":[0,3.1410370075827454],\"title\":{\"text\":\"\"}},\"yaxis\":{\"automargin\":true,\"dtick\":1,\"title\":{\"text\":\"\"}},\"template\":{\"data\":{\"histogram2dcontour\":[{\"type\":\"histogram2dcontour\",\"colorbar\":{\"outlinewidth\":0,\"ticks\":\"\"},\"colorscale\":[[0.0,\"#0d0887\"],[0.1111111111111111,\"#46039f\"],[0.2222222222222222,\"#7201a8\"],[0.3333333333333333,\"#9c179e\"],[0.4444444444444444,\"#bd3786\"],[0.5555555555555556,\"#d8576b\"],[0.6666666666666666,\"#ed7953\"],[0.7777777777777778,\"#fb9f3a\"],[0.8888888888888888,\"#fdca26\"],[1.0,\"#f0f921\"]]}],\"choropleth\":[{\"type\":\"choropleth\",\"colorbar\":{\"outlinewidth\":0,\"ticks\":\"\"}}],\"histogram2d\":[{\"type\":\"histogram2d\",\"colorbar\":{\"outlinewidth\":0,\"ticks\":\"\"},\"colorscale\":[[0.0,\"#0d0887\"],[0.1111111111111111,\"#46039f\"],[0.2222222222222222,\"#7201a8\"],[0.3333333333333333,\"#9c179e\"],[0.4444444444444444,\"#bd3786\"],[0.5555555555555556,\"#d8576b\"],[0.6666666666666666,\"#ed7953\"],[0.7777777777777778,\"#fb9f3a\"],[0.8888888888888888,\"#fdca26\"],[1.0,\"#f0f921\"]]}],\"heatmap\":[{\"type\":\"heatmap\",\"colorbar\":{\"outlinewidth\":0,\"ticks\":\"\"},\"colorscale\":[[0.0,\"#0d0887\"],[0.1111111111111111,\"#46039f\"],[0.2222222222222222,\"#7201a8\"],[0.3333333333333333,\"#9c179e\"],[0.4444444444444444,\"#bd3786\"],[0.5555555555555556,\"#d8576b\"],[0.6666666666666666,\"#ed7953\"],[0.7777777777777778,\"#fb9f3a\"],[0.8888888888888888,\"#fdca26\"],[1.0,\"#f0f921\"]]}],\"heatmapgl\":[{\"type\":\"heatmapgl\",\"colorbar\":{\"outlinewidth\":0,\"ticks\":\"\"},\"colorscale\":[[0.0,\"#0d0887\"],[0.1111111111111111,\"#46039f\"],[0.2222222222222222,\"#7201a8\"],[0.3333333333333333,\"#9c179e\"],[0.4444444444444444,\"#bd3786\"],[0.5555555555555556,\"#d8576b\"],[0.6666666666666666,\"#ed7953\"],[0.7777777777777778,\"#fb9f3a\"],[0.8888888888888888,\"#fdca26\"],[1.0,\"#f0f921\"]]}],\"contourcarpet\":[{\"type\":\"contourcarpet\",\"colorbar\":{\"outlinewidth\":0,\"ticks\":\"\"}}],\"contour\":[{\"type\":\"contour\",\"colorbar\":{\"outlinewidth\":0,\"ticks\":\"\"},\"colorscale\":[[0.0,\"#0d0887\"],[0.1111111111111111,\"#46039f\"],[0.2222222222222222,\"#7201a8\"],[0.3333333333333333,\"#9c179e\"],[0.4444444444444444,\"#bd3786\"],[0.5555555555555556,\"#d8576b\"],[0.6666666666666666,\"#ed7953\"],[0.7777777777777778,\"#fb9f3a\"],[0.8888888888888888,\"#fdca26\"],[1.0,\"#f0f921\"]]}],\"surface\":[{\"type\":\"surface\",\"colorbar\":{\"outlinewidth\":0,\"ticks\":\"\"},\"colorscale\":[[0.0,\"#0d0887\"],[0.1111111111111111,\"#46039f\"],[0.2222222222222222,\"#7201a8\"],[0.3333333333333333,\"#9c179e\"],[0.4444444444444444,\"#bd3786\"],[0.5555555555555556,\"#d8576b\"],[0.6666666666666666,\"#ed7953\"],[0.7777777777777778,\"#fb9f3a\"],[0.8888888888888888,\"#fdca26\"],[1.0,\"#f0f921\"]]}],\"mesh3d\":[{\"type\":\"mesh3d\",\"colorbar\":{\"outlinewidth\":0,\"ticks\":\"\"}}],\"scatter\":[{\"fillpattern\":{\"fillmode\":\"overlay\",\"size\":10,\"solidity\":0.2},\"type\":\"scatter\"}],\"parcoords\":[{\"type\":\"parcoords\",\"line\":{\"colorbar\":{\"outlinewidth\":0,\"ticks\":\"\"}}}],\"scatterpolargl\":[{\"type\":\"scatterpolargl\",\"marker\":{\"colorbar\":{\"outlinewidth\":0,\"ticks\":\"\"}}}],\"bar\":[{\"error_x\":{\"color\":\"#2a3f5f\"},\"error_y\":{\"color\":\"#2a3f5f\"},\"marker\":{\"line\":{\"color\":\"#E5ECF6\",\"width\":0.5},\"pattern\":{\"fillmode\":\"overlay\",\"size\":10,\"solidity\":0.2}},\"type\":\"bar\"}],\"scattergeo\":[{\"type\":\"scattergeo\",\"marker\":{\"colorbar\":{\"outlinewidth\":0,\"ticks\":\"\"}}}],\"scatterpolar\":[{\"type\":\"scatterpolar\",\"marker\":{\"colorbar\":{\"outlinewidth\":0,\"ticks\":\"\"}}}],\"histogram\":[{\"marker\":{\"pattern\":{\"fillmode\":\"overlay\",\"size\":10,\"solidity\":0.2}},\"type\":\"histogram\"}],\"scattergl\":[{\"type\":\"scattergl\",\"marker\":{\"colorbar\":{\"outlinewidth\":0,\"ticks\":\"\"}}}],\"scatter3d\":[{\"type\":\"scatter3d\",\"line\":{\"colorbar\":{\"outlinewidth\":0,\"ticks\":\"\"}},\"marker\":{\"colorbar\":{\"outlinewidth\":0,\"ticks\":\"\"}}}],\"scattermapbox\":[{\"type\":\"scattermapbox\",\"marker\":{\"colorbar\":{\"outlinewidth\":0,\"ticks\":\"\"}}}],\"scatterternary\":[{\"type\":\"scatterternary\",\"marker\":{\"colorbar\":{\"outlinewidth\":0,\"ticks\":\"\"}}}],\"scattercarpet\":[{\"type\":\"scattercarpet\",\"marker\":{\"colorbar\":{\"outlinewidth\":0,\"ticks\":\"\"}}}],\"carpet\":[{\"aaxis\":{\"endlinecolor\":\"#2a3f5f\",\"gridcolor\":\"white\",\"linecolor\":\"white\",\"minorgridcolor\":\"white\",\"startlinecolor\":\"#2a3f5f\"},\"baxis\":{\"endlinecolor\":\"#2a3f5f\",\"gridcolor\":\"white\",\"linecolor\":\"white\",\"minorgridcolor\":\"white\",\"startlinecolor\":\"#2a3f5f\"},\"type\":\"carpet\"}],\"table\":[{\"cells\":{\"fill\":{\"color\":\"#EBF0F8\"},\"line\":{\"color\":\"white\"}},\"header\":{\"fill\":{\"color\":\"#C8D4E3\"},\"line\":{\"color\":\"white\"}},\"type\":\"table\"}],\"barpolar\":[{\"marker\":{\"line\":{\"color\":\"#E5ECF6\",\"width\":0.5},\"pattern\":{\"fillmode\":\"overlay\",\"size\":10,\"solidity\":0.2}},\"type\":\"barpolar\"}],\"pie\":[{\"automargin\":true,\"type\":\"pie\"}]},\"layout\":{\"autotypenumbers\":\"strict\",\"colorway\":[\"#636efa\",\"#EF553B\",\"#00cc96\",\"#ab63fa\",\"#FFA15A\",\"#19d3f3\",\"#FF6692\",\"#B6E880\",\"#FF97FF\",\"#FECB52\"],\"font\":{\"color\":\"#2a3f5f\"},\"hovermode\":\"closest\",\"hoverlabel\":{\"align\":\"left\"},\"paper_bgcolor\":\"white\",\"plot_bgcolor\":\"#E5ECF6\",\"polar\":{\"bgcolor\":\"#E5ECF6\",\"angularaxis\":{\"gridcolor\":\"white\",\"linecolor\":\"white\",\"ticks\":\"\"},\"radialaxis\":{\"gridcolor\":\"white\",\"linecolor\":\"white\",\"ticks\":\"\"}},\"ternary\":{\"bgcolor\":\"#E5ECF6\",\"aaxis\":{\"gridcolor\":\"white\",\"linecolor\":\"white\",\"ticks\":\"\"},\"baxis\":{\"gridcolor\":\"white\",\"linecolor\":\"white\",\"ticks\":\"\"},\"caxis\":{\"gridcolor\":\"white\",\"linecolor\":\"white\",\"ticks\":\"\"}},\"coloraxis\":{\"colorbar\":{\"outlinewidth\":0,\"ticks\":\"\"}},\"colorscale\":{\"sequential\":[[0.0,\"#0d0887\"],[0.1111111111111111,\"#46039f\"],[0.2222222222222222,\"#7201a8\"],[0.3333333333333333,\"#9c179e\"],[0.4444444444444444,\"#bd3786\"],[0.5555555555555556,\"#d8576b\"],[0.6666666666666666,\"#ed7953\"],[0.7777777777777778,\"#fb9f3a\"],[0.8888888888888888,\"#fdca26\"],[1.0,\"#f0f921\"]],\"sequentialminus\":[[0.0,\"#0d0887\"],[0.1111111111111111,\"#46039f\"],[0.2222222222222222,\"#7201a8\"],[0.3333333333333333,\"#9c179e\"],[0.4444444444444444,\"#bd3786\"],[0.5555555555555556,\"#d8576b\"],[0.6666666666666666,\"#ed7953\"],[0.7777777777777778,\"#fb9f3a\"],[0.8888888888888888,\"#fdca26\"],[1.0,\"#f0f921\"]],\"diverging\":[[0,\"#8e0152\"],[0.1,\"#c51b7d\"],[0.2,\"#de77ae\"],[0.3,\"#f1b6da\"],[0.4,\"#fde0ef\"],[0.5,\"#f7f7f7\"],[0.6,\"#e6f5d0\"],[0.7,\"#b8e186\"],[0.8,\"#7fbc41\"],[0.9,\"#4d9221\"],[1,\"#276419\"]]},\"xaxis\":{\"gridcolor\":\"white\",\"linecolor\":\"white\",\"ticks\":\"\",\"title\":{\"standoff\":15},\"zerolinecolor\":\"white\",\"automargin\":true,\"zerolinewidth\":2},\"yaxis\":{\"gridcolor\":\"white\",\"linecolor\":\"white\",\"ticks\":\"\",\"title\":{\"standoff\":15},\"zerolinecolor\":\"white\",\"automargin\":true,\"zerolinewidth\":2},\"scene\":{\"xaxis\":{\"backgroundcolor\":\"#E5ECF6\",\"gridcolor\":\"white\",\"linecolor\":\"white\",\"showbackground\":true,\"ticks\":\"\",\"zerolinecolor\":\"white\",\"gridwidth\":2},\"yaxis\":{\"backgroundcolor\":\"#E5ECF6\",\"gridcolor\":\"white\",\"linecolor\":\"white\",\"showbackground\":true,\"ticks\":\"\",\"zerolinecolor\":\"white\",\"gridwidth\":2},\"zaxis\":{\"backgroundcolor\":\"#E5ECF6\",\"gridcolor\":\"white\",\"linecolor\":\"white\",\"showbackground\":true,\"ticks\":\"\",\"zerolinecolor\":\"white\",\"gridwidth\":2}},\"shapedefaults\":{\"line\":{\"color\":\"#2a3f5f\"}},\"annotationdefaults\":{\"arrowcolor\":\"#2a3f5f\",\"arrowhead\":0,\"arrowwidth\":1},\"geo\":{\"bgcolor\":\"white\",\"landcolor\":\"#E5ECF6\",\"subunitcolor\":\"white\",\"showland\":true,\"showlakes\":true,\"lakecolor\":\"white\"},\"title\":{\"x\":0.05},\"mapbox\":{\"style\":\"light\"}}}},                        {\"responsive\": true}                    ).then(function(){\n",
              "                            \n",
              "var gd = document.getElementById('b921a880-e80a-49b6-bea8-80fca213d706');\n",
              "var x = new MutationObserver(function (mutations, observer) {{\n",
              "        var display = window.getComputedStyle(gd).display;\n",
              "        if (!display || display === 'none') {{\n",
              "            console.log([gd, 'removed!']);\n",
              "            Plotly.purge(gd);\n",
              "            observer.disconnect();\n",
              "        }}\n",
              "}});\n",
              "\n",
              "// Listen for the removal of the full notebook cells\n",
              "var notebookContainer = gd.closest('#notebook-container');\n",
              "if (notebookContainer) {{\n",
              "    x.observe(notebookContainer, {childList: true});\n",
              "}}\n",
              "\n",
              "// Listen for the clearing of the current output cell\n",
              "var outputEl = gd.closest('.output');\n",
              "if (outputEl) {{\n",
              "    x.observe(outputEl, {childList: true});\n",
              "}}\n",
              "\n",
              "                        })                };                            </script>        </div>\n",
              "</body>\n",
              "</html>"
            ]
          },
          "metadata": {},
          "output_type": "display_data"
        }
      ],
      "source": [
        "interpret_model(gbr, plot='msa')"
      ]
    },
    {
      "cell_type": "code",
      "execution_count": null,
      "id": "cFZviC2Fayd7",
      "metadata": {
        "colab": {
          "base_uri": "https://localhost:8080/",
          "height": 560
        },
        "id": "cFZviC2Fayd7",
        "outputId": "c66869ab-30ce-487e-9960-6f20797b440c"
      },
      "outputs": [
        {
          "name": "stderr",
          "output_type": "stream",
          "text": [
            "14it [00:00, 88.85it/s]\n"
          ]
        },
        {
          "data": {
            "text/html": [
              "<html>\n",
              "<head><meta charset=\"utf-8\" /></head>\n",
              "<body>\n",
              "    <div>            <script src=\"https://cdnjs.cloudflare.com/ajax/libs/mathjax/2.7.5/MathJax.js?config=TeX-AMS-MML_SVG\"></script><script type=\"text/javascript\">if (window.MathJax && window.MathJax.Hub && window.MathJax.Hub.Config) {window.MathJax.Hub.Config({SVG: {font: \"STIX-Web\"}});}</script>                <script type=\"text/javascript\">window.PlotlyConfig = {MathJaxConfig: 'local'};</script>\n",
              "        <script charset=\"utf-8\" src=\"https://cdn.plot.ly/plotly-2.24.1.min.js\"></script>                <div id=\"648c3126-fe51-455a-9759-75b3634e5e7f\" class=\"plotly-graph-div\" style=\"height:525px; width:100%;\"></div>            <script type=\"text/javascript\">                                    window.PLOTLYENV=window.PLOTLYENV || {};                                    if (document.getElementById(\"648c3126-fe51-455a-9759-75b3634e5e7f\")) {                    Plotly.newPlot(                        \"648c3126-fe51-455a-9759-75b3634e5e7f\",                        [{\"marker\":{\"color\":[\"#1f77b4\",\"#ff7f0e\",\"#ff7f0e\",\"#1f77b4\",\"#ff7f0e\",\"#ff7f0e\",\"#ff7f0e\",\"#ff7f0e\",\"#1f77b4\",\"#1f77b4\",\"#ff7f0e\",\"#1f77b4\",\"#1f77b4\",\"#1f77b4\"]},\"orientation\":\"h\",\"x\":[-0.00024181375110404746,0.011031067431921115,0.01832854856864924,-0.026675216466164386,0.02695242124612446,0.029011279474570273,0.029867455820693778,0.03319479928557101,-0.042481584401006245,-0.0493291399317452,0.050228724475815056,-0.09503515086004322,-0.7980512988421822,-1.1989595561596917],\"y\":[\"2-theta 6\",\"relative_intensity 6\",\"2-theta 1\",\"Intensity 2\",\"Intensity 4\",\"2-theta 3\",\"FWHM 5\",\"2-theta 5\",\"Intensity 6\",\"Intensity 1\",\"2-theta 2\",\"Intensity 3\",\"relative_intensity 4\",\"DROP\"],\"type\":\"bar\"}],                        {\"title\":{\"text\":\"\"},\"xaxis\":{\"range\":[-1.1989595561596917,1.1989595561596917],\"title\":{\"text\":\"\"}},\"yaxis\":{\"automargin\":true,\"dtick\":1,\"title\":{\"text\":\"\"}},\"template\":{\"data\":{\"histogram2dcontour\":[{\"type\":\"histogram2dcontour\",\"colorbar\":{\"outlinewidth\":0,\"ticks\":\"\"},\"colorscale\":[[0.0,\"#0d0887\"],[0.1111111111111111,\"#46039f\"],[0.2222222222222222,\"#7201a8\"],[0.3333333333333333,\"#9c179e\"],[0.4444444444444444,\"#bd3786\"],[0.5555555555555556,\"#d8576b\"],[0.6666666666666666,\"#ed7953\"],[0.7777777777777778,\"#fb9f3a\"],[0.8888888888888888,\"#fdca26\"],[1.0,\"#f0f921\"]]}],\"choropleth\":[{\"type\":\"choropleth\",\"colorbar\":{\"outlinewidth\":0,\"ticks\":\"\"}}],\"histogram2d\":[{\"type\":\"histogram2d\",\"colorbar\":{\"outlinewidth\":0,\"ticks\":\"\"},\"colorscale\":[[0.0,\"#0d0887\"],[0.1111111111111111,\"#46039f\"],[0.2222222222222222,\"#7201a8\"],[0.3333333333333333,\"#9c179e\"],[0.4444444444444444,\"#bd3786\"],[0.5555555555555556,\"#d8576b\"],[0.6666666666666666,\"#ed7953\"],[0.7777777777777778,\"#fb9f3a\"],[0.8888888888888888,\"#fdca26\"],[1.0,\"#f0f921\"]]}],\"heatmap\":[{\"type\":\"heatmap\",\"colorbar\":{\"outlinewidth\":0,\"ticks\":\"\"},\"colorscale\":[[0.0,\"#0d0887\"],[0.1111111111111111,\"#46039f\"],[0.2222222222222222,\"#7201a8\"],[0.3333333333333333,\"#9c179e\"],[0.4444444444444444,\"#bd3786\"],[0.5555555555555556,\"#d8576b\"],[0.6666666666666666,\"#ed7953\"],[0.7777777777777778,\"#fb9f3a\"],[0.8888888888888888,\"#fdca26\"],[1.0,\"#f0f921\"]]}],\"heatmapgl\":[{\"type\":\"heatmapgl\",\"colorbar\":{\"outlinewidth\":0,\"ticks\":\"\"},\"colorscale\":[[0.0,\"#0d0887\"],[0.1111111111111111,\"#46039f\"],[0.2222222222222222,\"#7201a8\"],[0.3333333333333333,\"#9c179e\"],[0.4444444444444444,\"#bd3786\"],[0.5555555555555556,\"#d8576b\"],[0.6666666666666666,\"#ed7953\"],[0.7777777777777778,\"#fb9f3a\"],[0.8888888888888888,\"#fdca26\"],[1.0,\"#f0f921\"]]}],\"contourcarpet\":[{\"type\":\"contourcarpet\",\"colorbar\":{\"outlinewidth\":0,\"ticks\":\"\"}}],\"contour\":[{\"type\":\"contour\",\"colorbar\":{\"outlinewidth\":0,\"ticks\":\"\"},\"colorscale\":[[0.0,\"#0d0887\"],[0.1111111111111111,\"#46039f\"],[0.2222222222222222,\"#7201a8\"],[0.3333333333333333,\"#9c179e\"],[0.4444444444444444,\"#bd3786\"],[0.5555555555555556,\"#d8576b\"],[0.6666666666666666,\"#ed7953\"],[0.7777777777777778,\"#fb9f3a\"],[0.8888888888888888,\"#fdca26\"],[1.0,\"#f0f921\"]]}],\"surface\":[{\"type\":\"surface\",\"colorbar\":{\"outlinewidth\":0,\"ticks\":\"\"},\"colorscale\":[[0.0,\"#0d0887\"],[0.1111111111111111,\"#46039f\"],[0.2222222222222222,\"#7201a8\"],[0.3333333333333333,\"#9c179e\"],[0.4444444444444444,\"#bd3786\"],[0.5555555555555556,\"#d8576b\"],[0.6666666666666666,\"#ed7953\"],[0.7777777777777778,\"#fb9f3a\"],[0.8888888888888888,\"#fdca26\"],[1.0,\"#f0f921\"]]}],\"mesh3d\":[{\"type\":\"mesh3d\",\"colorbar\":{\"outlinewidth\":0,\"ticks\":\"\"}}],\"scatter\":[{\"fillpattern\":{\"fillmode\":\"overlay\",\"size\":10,\"solidity\":0.2},\"type\":\"scatter\"}],\"parcoords\":[{\"type\":\"parcoords\",\"line\":{\"colorbar\":{\"outlinewidth\":0,\"ticks\":\"\"}}}],\"scatterpolargl\":[{\"type\":\"scatterpolargl\",\"marker\":{\"colorbar\":{\"outlinewidth\":0,\"ticks\":\"\"}}}],\"bar\":[{\"error_x\":{\"color\":\"#2a3f5f\"},\"error_y\":{\"color\":\"#2a3f5f\"},\"marker\":{\"line\":{\"color\":\"#E5ECF6\",\"width\":0.5},\"pattern\":{\"fillmode\":\"overlay\",\"size\":10,\"solidity\":0.2}},\"type\":\"bar\"}],\"scattergeo\":[{\"type\":\"scattergeo\",\"marker\":{\"colorbar\":{\"outlinewidth\":0,\"ticks\":\"\"}}}],\"scatterpolar\":[{\"type\":\"scatterpolar\",\"marker\":{\"colorbar\":{\"outlinewidth\":0,\"ticks\":\"\"}}}],\"histogram\":[{\"marker\":{\"pattern\":{\"fillmode\":\"overlay\",\"size\":10,\"solidity\":0.2}},\"type\":\"histogram\"}],\"scattergl\":[{\"type\":\"scattergl\",\"marker\":{\"colorbar\":{\"outlinewidth\":0,\"ticks\":\"\"}}}],\"scatter3d\":[{\"type\":\"scatter3d\",\"line\":{\"colorbar\":{\"outlinewidth\":0,\"ticks\":\"\"}},\"marker\":{\"colorbar\":{\"outlinewidth\":0,\"ticks\":\"\"}}}],\"scattermapbox\":[{\"type\":\"scattermapbox\",\"marker\":{\"colorbar\":{\"outlinewidth\":0,\"ticks\":\"\"}}}],\"scatterternary\":[{\"type\":\"scatterternary\",\"marker\":{\"colorbar\":{\"outlinewidth\":0,\"ticks\":\"\"}}}],\"scattercarpet\":[{\"type\":\"scattercarpet\",\"marker\":{\"colorbar\":{\"outlinewidth\":0,\"ticks\":\"\"}}}],\"carpet\":[{\"aaxis\":{\"endlinecolor\":\"#2a3f5f\",\"gridcolor\":\"white\",\"linecolor\":\"white\",\"minorgridcolor\":\"white\",\"startlinecolor\":\"#2a3f5f\"},\"baxis\":{\"endlinecolor\":\"#2a3f5f\",\"gridcolor\":\"white\",\"linecolor\":\"white\",\"minorgridcolor\":\"white\",\"startlinecolor\":\"#2a3f5f\"},\"type\":\"carpet\"}],\"table\":[{\"cells\":{\"fill\":{\"color\":\"#EBF0F8\"},\"line\":{\"color\":\"white\"}},\"header\":{\"fill\":{\"color\":\"#C8D4E3\"},\"line\":{\"color\":\"white\"}},\"type\":\"table\"}],\"barpolar\":[{\"marker\":{\"line\":{\"color\":\"#E5ECF6\",\"width\":0.5},\"pattern\":{\"fillmode\":\"overlay\",\"size\":10,\"solidity\":0.2}},\"type\":\"barpolar\"}],\"pie\":[{\"automargin\":true,\"type\":\"pie\"}]},\"layout\":{\"autotypenumbers\":\"strict\",\"colorway\":[\"#636efa\",\"#EF553B\",\"#00cc96\",\"#ab63fa\",\"#FFA15A\",\"#19d3f3\",\"#FF6692\",\"#B6E880\",\"#FF97FF\",\"#FECB52\"],\"font\":{\"color\":\"#2a3f5f\"},\"hovermode\":\"closest\",\"hoverlabel\":{\"align\":\"left\"},\"paper_bgcolor\":\"white\",\"plot_bgcolor\":\"#E5ECF6\",\"polar\":{\"bgcolor\":\"#E5ECF6\",\"angularaxis\":{\"gridcolor\":\"white\",\"linecolor\":\"white\",\"ticks\":\"\"},\"radialaxis\":{\"gridcolor\":\"white\",\"linecolor\":\"white\",\"ticks\":\"\"}},\"ternary\":{\"bgcolor\":\"#E5ECF6\",\"aaxis\":{\"gridcolor\":\"white\",\"linecolor\":\"white\",\"ticks\":\"\"},\"baxis\":{\"gridcolor\":\"white\",\"linecolor\":\"white\",\"ticks\":\"\"},\"caxis\":{\"gridcolor\":\"white\",\"linecolor\":\"white\",\"ticks\":\"\"}},\"coloraxis\":{\"colorbar\":{\"outlinewidth\":0,\"ticks\":\"\"}},\"colorscale\":{\"sequential\":[[0.0,\"#0d0887\"],[0.1111111111111111,\"#46039f\"],[0.2222222222222222,\"#7201a8\"],[0.3333333333333333,\"#9c179e\"],[0.4444444444444444,\"#bd3786\"],[0.5555555555555556,\"#d8576b\"],[0.6666666666666666,\"#ed7953\"],[0.7777777777777778,\"#fb9f3a\"],[0.8888888888888888,\"#fdca26\"],[1.0,\"#f0f921\"]],\"sequentialminus\":[[0.0,\"#0d0887\"],[0.1111111111111111,\"#46039f\"],[0.2222222222222222,\"#7201a8\"],[0.3333333333333333,\"#9c179e\"],[0.4444444444444444,\"#bd3786\"],[0.5555555555555556,\"#d8576b\"],[0.6666666666666666,\"#ed7953\"],[0.7777777777777778,\"#fb9f3a\"],[0.8888888888888888,\"#fdca26\"],[1.0,\"#f0f921\"]],\"diverging\":[[0,\"#8e0152\"],[0.1,\"#c51b7d\"],[0.2,\"#de77ae\"],[0.3,\"#f1b6da\"],[0.4,\"#fde0ef\"],[0.5,\"#f7f7f7\"],[0.6,\"#e6f5d0\"],[0.7,\"#b8e186\"],[0.8,\"#7fbc41\"],[0.9,\"#4d9221\"],[1,\"#276419\"]]},\"xaxis\":{\"gridcolor\":\"white\",\"linecolor\":\"white\",\"ticks\":\"\",\"title\":{\"standoff\":15},\"zerolinecolor\":\"white\",\"automargin\":true,\"zerolinewidth\":2},\"yaxis\":{\"gridcolor\":\"white\",\"linecolor\":\"white\",\"ticks\":\"\",\"title\":{\"standoff\":15},\"zerolinecolor\":\"white\",\"automargin\":true,\"zerolinewidth\":2},\"scene\":{\"xaxis\":{\"backgroundcolor\":\"#E5ECF6\",\"gridcolor\":\"white\",\"linecolor\":\"white\",\"showbackground\":true,\"ticks\":\"\",\"zerolinecolor\":\"white\",\"gridwidth\":2},\"yaxis\":{\"backgroundcolor\":\"#E5ECF6\",\"gridcolor\":\"white\",\"linecolor\":\"white\",\"showbackground\":true,\"ticks\":\"\",\"zerolinecolor\":\"white\",\"gridwidth\":2},\"zaxis\":{\"backgroundcolor\":\"#E5ECF6\",\"gridcolor\":\"white\",\"linecolor\":\"white\",\"showbackground\":true,\"ticks\":\"\",\"zerolinecolor\":\"white\",\"gridwidth\":2}},\"shapedefaults\":{\"line\":{\"color\":\"#2a3f5f\"}},\"annotationdefaults\":{\"arrowcolor\":\"#2a3f5f\",\"arrowhead\":0,\"arrowwidth\":1},\"geo\":{\"bgcolor\":\"white\",\"landcolor\":\"#E5ECF6\",\"subunitcolor\":\"white\",\"showland\":true,\"showlakes\":true,\"lakecolor\":\"white\"},\"title\":{\"x\":0.05},\"mapbox\":{\"style\":\"light\"}}}},                        {\"responsive\": true}                    ).then(function(){\n",
              "                            \n",
              "var gd = document.getElementById('648c3126-fe51-455a-9759-75b3634e5e7f');\n",
              "var x = new MutationObserver(function (mutations, observer) {{\n",
              "        var display = window.getComputedStyle(gd).display;\n",
              "        if (!display || display === 'none') {{\n",
              "            console.log([gd, 'removed!']);\n",
              "            Plotly.purge(gd);\n",
              "            observer.disconnect();\n",
              "        }}\n",
              "}});\n",
              "\n",
              "// Listen for the removal of the full notebook cells\n",
              "var notebookContainer = gd.closest('#notebook-container');\n",
              "if (notebookContainer) {{\n",
              "    x.observe(notebookContainer, {childList: true});\n",
              "}}\n",
              "\n",
              "// Listen for the clearing of the current output cell\n",
              "var outputEl = gd.closest('.output');\n",
              "if (outputEl) {{\n",
              "    x.observe(outputEl, {childList: true});\n",
              "}}\n",
              "\n",
              "                        })                };                            </script>        </div>\n",
              "</body>\n",
              "</html>"
            ]
          },
          "metadata": {},
          "output_type": "display_data"
        }
      ],
      "source": [
        "#sample1\n",
        "specific_rows1 = x.iloc[[0,1,2,3,4,5], :]\n",
        "\n",
        "# Get pfi for the specific rows\n",
        "interpret_model(gbr, data=specific_rows1, plot='pfi')"
      ]
    },
    {
      "cell_type": "code",
      "execution_count": null,
      "id": "I0_uii_yc_1R",
      "metadata": {
        "colab": {
          "base_uri": "https://localhost:8080/",
          "height": 542
        },
        "id": "I0_uii_yc_1R",
        "outputId": "d8e8e6ac-fb16-458d-a635-6f972d10f84d"
      },
      "outputs": [
        {
          "data": {
            "text/html": [
              "<html>\n",
              "<head><meta charset=\"utf-8\" /></head>\n",
              "<body>\n",
              "    <div>            <script src=\"https://cdnjs.cloudflare.com/ajax/libs/mathjax/2.7.5/MathJax.js?config=TeX-AMS-MML_SVG\"></script><script type=\"text/javascript\">if (window.MathJax && window.MathJax.Hub && window.MathJax.Hub.Config) {window.MathJax.Hub.Config({SVG: {font: \"STIX-Web\"}});}</script>                <script type=\"text/javascript\">window.PlotlyConfig = {MathJaxConfig: 'local'};</script>\n",
              "        <script charset=\"utf-8\" src=\"https://cdn.plot.ly/plotly-2.24.1.min.js\"></script>                <div id=\"4d2eb76a-362f-4e6d-959b-c0fb51604491\" class=\"plotly-graph-div\" style=\"height:525px; width:100%;\"></div>            <script type=\"text/javascript\">                                    window.PLOTLYENV=window.PLOTLYENV || {};                                    if (document.getElementById(\"4d2eb76a-362f-4e6d-959b-c0fb51604491\")) {                    Plotly.newPlot(                        \"4d2eb76a-362f-4e6d-959b-c0fb51604491\",                        [{\"marker\":{\"color\":[\"#ff7f0e\",\"#ff7f0e\",\"#ff7f0e\",\"#ff7f0e\",\"#ff7f0e\",\"#ff7f0e\",\"#ff7f0e\",\"#ff7f0e\",\"#ff7f0e\",\"#ff7f0e\",\"#ff7f0e\",\"#ff7f0e\",\"#ff7f0e\",\"#ff7f0e\"]},\"orientation\":\"h\",\"x\":[0.10519467683939528,0.1552433923881878,0.1560830412425908,0.16440728723924153,0.1978225061555042,0.24833113116123093,0.25754121596789714,0.3020721276428415,0.31022334260468454,0.34290536824548956,0.44409072210070005,0.5282131557684175,2.9459514832308646,3.1410370075827454],\"y\":[\"Intensity 6\",\"2-theta 3\",\"Intensity 4\",\"2-theta 5\",\"relative_intensity 6\",\"FWHM 5\",\"Intensity 1\",\"Intensity 3\",\"2-theta 1\",\"2-theta 6\",\"Intensity 2\",\"2-theta 2\",\"DROP\",\"relative_intensity 4\"],\"type\":\"bar\"}],                        {\"title\":{\"text\":\"Morris Sensitivity\\u003cbr\\u003eConvergence Index: 0.092\"},\"xaxis\":{\"range\":[0,3.1410370075827454],\"title\":{\"text\":\"\"}},\"yaxis\":{\"automargin\":true,\"dtick\":1,\"title\":{\"text\":\"\"}},\"template\":{\"data\":{\"histogram2dcontour\":[{\"type\":\"histogram2dcontour\",\"colorbar\":{\"outlinewidth\":0,\"ticks\":\"\"},\"colorscale\":[[0.0,\"#0d0887\"],[0.1111111111111111,\"#46039f\"],[0.2222222222222222,\"#7201a8\"],[0.3333333333333333,\"#9c179e\"],[0.4444444444444444,\"#bd3786\"],[0.5555555555555556,\"#d8576b\"],[0.6666666666666666,\"#ed7953\"],[0.7777777777777778,\"#fb9f3a\"],[0.8888888888888888,\"#fdca26\"],[1.0,\"#f0f921\"]]}],\"choropleth\":[{\"type\":\"choropleth\",\"colorbar\":{\"outlinewidth\":0,\"ticks\":\"\"}}],\"histogram2d\":[{\"type\":\"histogram2d\",\"colorbar\":{\"outlinewidth\":0,\"ticks\":\"\"},\"colorscale\":[[0.0,\"#0d0887\"],[0.1111111111111111,\"#46039f\"],[0.2222222222222222,\"#7201a8\"],[0.3333333333333333,\"#9c179e\"],[0.4444444444444444,\"#bd3786\"],[0.5555555555555556,\"#d8576b\"],[0.6666666666666666,\"#ed7953\"],[0.7777777777777778,\"#fb9f3a\"],[0.8888888888888888,\"#fdca26\"],[1.0,\"#f0f921\"]]}],\"heatmap\":[{\"type\":\"heatmap\",\"colorbar\":{\"outlinewidth\":0,\"ticks\":\"\"},\"colorscale\":[[0.0,\"#0d0887\"],[0.1111111111111111,\"#46039f\"],[0.2222222222222222,\"#7201a8\"],[0.3333333333333333,\"#9c179e\"],[0.4444444444444444,\"#bd3786\"],[0.5555555555555556,\"#d8576b\"],[0.6666666666666666,\"#ed7953\"],[0.7777777777777778,\"#fb9f3a\"],[0.8888888888888888,\"#fdca26\"],[1.0,\"#f0f921\"]]}],\"heatmapgl\":[{\"type\":\"heatmapgl\",\"colorbar\":{\"outlinewidth\":0,\"ticks\":\"\"},\"colorscale\":[[0.0,\"#0d0887\"],[0.1111111111111111,\"#46039f\"],[0.2222222222222222,\"#7201a8\"],[0.3333333333333333,\"#9c179e\"],[0.4444444444444444,\"#bd3786\"],[0.5555555555555556,\"#d8576b\"],[0.6666666666666666,\"#ed7953\"],[0.7777777777777778,\"#fb9f3a\"],[0.8888888888888888,\"#fdca26\"],[1.0,\"#f0f921\"]]}],\"contourcarpet\":[{\"type\":\"contourcarpet\",\"colorbar\":{\"outlinewidth\":0,\"ticks\":\"\"}}],\"contour\":[{\"type\":\"contour\",\"colorbar\":{\"outlinewidth\":0,\"ticks\":\"\"},\"colorscale\":[[0.0,\"#0d0887\"],[0.1111111111111111,\"#46039f\"],[0.2222222222222222,\"#7201a8\"],[0.3333333333333333,\"#9c179e\"],[0.4444444444444444,\"#bd3786\"],[0.5555555555555556,\"#d8576b\"],[0.6666666666666666,\"#ed7953\"],[0.7777777777777778,\"#fb9f3a\"],[0.8888888888888888,\"#fdca26\"],[1.0,\"#f0f921\"]]}],\"surface\":[{\"type\":\"surface\",\"colorbar\":{\"outlinewidth\":0,\"ticks\":\"\"},\"colorscale\":[[0.0,\"#0d0887\"],[0.1111111111111111,\"#46039f\"],[0.2222222222222222,\"#7201a8\"],[0.3333333333333333,\"#9c179e\"],[0.4444444444444444,\"#bd3786\"],[0.5555555555555556,\"#d8576b\"],[0.6666666666666666,\"#ed7953\"],[0.7777777777777778,\"#fb9f3a\"],[0.8888888888888888,\"#fdca26\"],[1.0,\"#f0f921\"]]}],\"mesh3d\":[{\"type\":\"mesh3d\",\"colorbar\":{\"outlinewidth\":0,\"ticks\":\"\"}}],\"scatter\":[{\"fillpattern\":{\"fillmode\":\"overlay\",\"size\":10,\"solidity\":0.2},\"type\":\"scatter\"}],\"parcoords\":[{\"type\":\"parcoords\",\"line\":{\"colorbar\":{\"outlinewidth\":0,\"ticks\":\"\"}}}],\"scatterpolargl\":[{\"type\":\"scatterpolargl\",\"marker\":{\"colorbar\":{\"outlinewidth\":0,\"ticks\":\"\"}}}],\"bar\":[{\"error_x\":{\"color\":\"#2a3f5f\"},\"error_y\":{\"color\":\"#2a3f5f\"},\"marker\":{\"line\":{\"color\":\"#E5ECF6\",\"width\":0.5},\"pattern\":{\"fillmode\":\"overlay\",\"size\":10,\"solidity\":0.2}},\"type\":\"bar\"}],\"scattergeo\":[{\"type\":\"scattergeo\",\"marker\":{\"colorbar\":{\"outlinewidth\":0,\"ticks\":\"\"}}}],\"scatterpolar\":[{\"type\":\"scatterpolar\",\"marker\":{\"colorbar\":{\"outlinewidth\":0,\"ticks\":\"\"}}}],\"histogram\":[{\"marker\":{\"pattern\":{\"fillmode\":\"overlay\",\"size\":10,\"solidity\":0.2}},\"type\":\"histogram\"}],\"scattergl\":[{\"type\":\"scattergl\",\"marker\":{\"colorbar\":{\"outlinewidth\":0,\"ticks\":\"\"}}}],\"scatter3d\":[{\"type\":\"scatter3d\",\"line\":{\"colorbar\":{\"outlinewidth\":0,\"ticks\":\"\"}},\"marker\":{\"colorbar\":{\"outlinewidth\":0,\"ticks\":\"\"}}}],\"scattermapbox\":[{\"type\":\"scattermapbox\",\"marker\":{\"colorbar\":{\"outlinewidth\":0,\"ticks\":\"\"}}}],\"scatterternary\":[{\"type\":\"scatterternary\",\"marker\":{\"colorbar\":{\"outlinewidth\":0,\"ticks\":\"\"}}}],\"scattercarpet\":[{\"type\":\"scattercarpet\",\"marker\":{\"colorbar\":{\"outlinewidth\":0,\"ticks\":\"\"}}}],\"carpet\":[{\"aaxis\":{\"endlinecolor\":\"#2a3f5f\",\"gridcolor\":\"white\",\"linecolor\":\"white\",\"minorgridcolor\":\"white\",\"startlinecolor\":\"#2a3f5f\"},\"baxis\":{\"endlinecolor\":\"#2a3f5f\",\"gridcolor\":\"white\",\"linecolor\":\"white\",\"minorgridcolor\":\"white\",\"startlinecolor\":\"#2a3f5f\"},\"type\":\"carpet\"}],\"table\":[{\"cells\":{\"fill\":{\"color\":\"#EBF0F8\"},\"line\":{\"color\":\"white\"}},\"header\":{\"fill\":{\"color\":\"#C8D4E3\"},\"line\":{\"color\":\"white\"}},\"type\":\"table\"}],\"barpolar\":[{\"marker\":{\"line\":{\"color\":\"#E5ECF6\",\"width\":0.5},\"pattern\":{\"fillmode\":\"overlay\",\"size\":10,\"solidity\":0.2}},\"type\":\"barpolar\"}],\"pie\":[{\"automargin\":true,\"type\":\"pie\"}]},\"layout\":{\"autotypenumbers\":\"strict\",\"colorway\":[\"#636efa\",\"#EF553B\",\"#00cc96\",\"#ab63fa\",\"#FFA15A\",\"#19d3f3\",\"#FF6692\",\"#B6E880\",\"#FF97FF\",\"#FECB52\"],\"font\":{\"color\":\"#2a3f5f\"},\"hovermode\":\"closest\",\"hoverlabel\":{\"align\":\"left\"},\"paper_bgcolor\":\"white\",\"plot_bgcolor\":\"#E5ECF6\",\"polar\":{\"bgcolor\":\"#E5ECF6\",\"angularaxis\":{\"gridcolor\":\"white\",\"linecolor\":\"white\",\"ticks\":\"\"},\"radialaxis\":{\"gridcolor\":\"white\",\"linecolor\":\"white\",\"ticks\":\"\"}},\"ternary\":{\"bgcolor\":\"#E5ECF6\",\"aaxis\":{\"gridcolor\":\"white\",\"linecolor\":\"white\",\"ticks\":\"\"},\"baxis\":{\"gridcolor\":\"white\",\"linecolor\":\"white\",\"ticks\":\"\"},\"caxis\":{\"gridcolor\":\"white\",\"linecolor\":\"white\",\"ticks\":\"\"}},\"coloraxis\":{\"colorbar\":{\"outlinewidth\":0,\"ticks\":\"\"}},\"colorscale\":{\"sequential\":[[0.0,\"#0d0887\"],[0.1111111111111111,\"#46039f\"],[0.2222222222222222,\"#7201a8\"],[0.3333333333333333,\"#9c179e\"],[0.4444444444444444,\"#bd3786\"],[0.5555555555555556,\"#d8576b\"],[0.6666666666666666,\"#ed7953\"],[0.7777777777777778,\"#fb9f3a\"],[0.8888888888888888,\"#fdca26\"],[1.0,\"#f0f921\"]],\"sequentialminus\":[[0.0,\"#0d0887\"],[0.1111111111111111,\"#46039f\"],[0.2222222222222222,\"#7201a8\"],[0.3333333333333333,\"#9c179e\"],[0.4444444444444444,\"#bd3786\"],[0.5555555555555556,\"#d8576b\"],[0.6666666666666666,\"#ed7953\"],[0.7777777777777778,\"#fb9f3a\"],[0.8888888888888888,\"#fdca26\"],[1.0,\"#f0f921\"]],\"diverging\":[[0,\"#8e0152\"],[0.1,\"#c51b7d\"],[0.2,\"#de77ae\"],[0.3,\"#f1b6da\"],[0.4,\"#fde0ef\"],[0.5,\"#f7f7f7\"],[0.6,\"#e6f5d0\"],[0.7,\"#b8e186\"],[0.8,\"#7fbc41\"],[0.9,\"#4d9221\"],[1,\"#276419\"]]},\"xaxis\":{\"gridcolor\":\"white\",\"linecolor\":\"white\",\"ticks\":\"\",\"title\":{\"standoff\":15},\"zerolinecolor\":\"white\",\"automargin\":true,\"zerolinewidth\":2},\"yaxis\":{\"gridcolor\":\"white\",\"linecolor\":\"white\",\"ticks\":\"\",\"title\":{\"standoff\":15},\"zerolinecolor\":\"white\",\"automargin\":true,\"zerolinewidth\":2},\"scene\":{\"xaxis\":{\"backgroundcolor\":\"#E5ECF6\",\"gridcolor\":\"white\",\"linecolor\":\"white\",\"showbackground\":true,\"ticks\":\"\",\"zerolinecolor\":\"white\",\"gridwidth\":2},\"yaxis\":{\"backgroundcolor\":\"#E5ECF6\",\"gridcolor\":\"white\",\"linecolor\":\"white\",\"showbackground\":true,\"ticks\":\"\",\"zerolinecolor\":\"white\",\"gridwidth\":2},\"zaxis\":{\"backgroundcolor\":\"#E5ECF6\",\"gridcolor\":\"white\",\"linecolor\":\"white\",\"showbackground\":true,\"ticks\":\"\",\"zerolinecolor\":\"white\",\"gridwidth\":2}},\"shapedefaults\":{\"line\":{\"color\":\"#2a3f5f\"}},\"annotationdefaults\":{\"arrowcolor\":\"#2a3f5f\",\"arrowhead\":0,\"arrowwidth\":1},\"geo\":{\"bgcolor\":\"white\",\"landcolor\":\"#E5ECF6\",\"subunitcolor\":\"white\",\"showland\":true,\"showlakes\":true,\"lakecolor\":\"white\"},\"title\":{\"x\":0.05},\"mapbox\":{\"style\":\"light\"}}}},                        {\"responsive\": true}                    ).then(function(){\n",
              "                            \n",
              "var gd = document.getElementById('4d2eb76a-362f-4e6d-959b-c0fb51604491');\n",
              "var x = new MutationObserver(function (mutations, observer) {{\n",
              "        var display = window.getComputedStyle(gd).display;\n",
              "        if (!display || display === 'none') {{\n",
              "            console.log([gd, 'removed!']);\n",
              "            Plotly.purge(gd);\n",
              "            observer.disconnect();\n",
              "        }}\n",
              "}});\n",
              "\n",
              "// Listen for the removal of the full notebook cells\n",
              "var notebookContainer = gd.closest('#notebook-container');\n",
              "if (notebookContainer) {{\n",
              "    x.observe(notebookContainer, {childList: true});\n",
              "}}\n",
              "\n",
              "// Listen for the clearing of the current output cell\n",
              "var outputEl = gd.closest('.output');\n",
              "if (outputEl) {{\n",
              "    x.observe(outputEl, {childList: true});\n",
              "}}\n",
              "\n",
              "                        })                };                            </script>        </div>\n",
              "</body>\n",
              "</html>"
            ]
          },
          "metadata": {},
          "output_type": "display_data"
        }
      ],
      "source": [
        "interpret_model(gbr, data=specific_rows1, plot='msa')"
      ]
    },
    {
      "cell_type": "code",
      "execution_count": null,
      "id": "zRgs4tt_VcB9",
      "metadata": {
        "colab": {
          "base_uri": "https://localhost:8080/",
          "height": 560
        },
        "id": "zRgs4tt_VcB9",
        "outputId": "b7e30c95-1d51-4c49-80cd-0d82a216fe2e"
      },
      "outputs": [
        {
          "name": "stderr",
          "output_type": "stream",
          "text": [
            "14it [00:00, 195.81it/s]\n"
          ]
        },
        {
          "data": {
            "text/html": [
              "<html>\n",
              "<head><meta charset=\"utf-8\" /></head>\n",
              "<body>\n",
              "    <div>            <script src=\"https://cdnjs.cloudflare.com/ajax/libs/mathjax/2.7.5/MathJax.js?config=TeX-AMS-MML_SVG\"></script><script type=\"text/javascript\">if (window.MathJax && window.MathJax.Hub && window.MathJax.Hub.Config) {window.MathJax.Hub.Config({SVG: {font: \"STIX-Web\"}});}</script>                <script type=\"text/javascript\">window.PlotlyConfig = {MathJaxConfig: 'local'};</script>\n",
              "        <script charset=\"utf-8\" src=\"https://cdn.plot.ly/plotly-2.24.1.min.js\"></script>                <div id=\"d7e7a7bc-4a0a-4fb1-9ce9-43a445bf6a2b\" class=\"plotly-graph-div\" style=\"height:525px; width:100%;\"></div>            <script type=\"text/javascript\">                                    window.PLOTLYENV=window.PLOTLYENV || {};                                    if (document.getElementById(\"d7e7a7bc-4a0a-4fb1-9ce9-43a445bf6a2b\")) {                    Plotly.newPlot(                        \"d7e7a7bc-4a0a-4fb1-9ce9-43a445bf6a2b\",                        [{\"marker\":{\"color\":[\"#1f77b4\",\"#ff7f0e\",\"#ff7f0e\",\"#1f77b4\",\"#ff7f0e\",\"#ff7f0e\",\"#ff7f0e\",\"#ff7f0e\",\"#1f77b4\",\"#1f77b4\",\"#ff7f0e\",\"#1f77b4\",\"#1f77b4\",\"#1f77b4\"]},\"orientation\":\"h\",\"x\":[-0.00024181375110404746,0.011031067431921115,0.01832854856864924,-0.026675216466164386,0.02695242124612446,0.029011279474570273,0.029867455820693778,0.03319479928557101,-0.042481584401006245,-0.0493291399317452,0.050228724475815056,-0.09503515086004322,-0.7980512988421822,-1.1989595561596917],\"y\":[\"2-theta 6\",\"relative_intensity 6\",\"2-theta 1\",\"Intensity 2\",\"Intensity 4\",\"2-theta 3\",\"FWHM 5\",\"2-theta 5\",\"Intensity 6\",\"Intensity 1\",\"2-theta 2\",\"Intensity 3\",\"relative_intensity 4\",\"DROP\"],\"type\":\"bar\"}],                        {\"title\":{\"text\":\"\"},\"xaxis\":{\"range\":[-1.1989595561596917,1.1989595561596917],\"title\":{\"text\":\"\"}},\"yaxis\":{\"automargin\":true,\"dtick\":1,\"title\":{\"text\":\"\"}},\"template\":{\"data\":{\"histogram2dcontour\":[{\"type\":\"histogram2dcontour\",\"colorbar\":{\"outlinewidth\":0,\"ticks\":\"\"},\"colorscale\":[[0.0,\"#0d0887\"],[0.1111111111111111,\"#46039f\"],[0.2222222222222222,\"#7201a8\"],[0.3333333333333333,\"#9c179e\"],[0.4444444444444444,\"#bd3786\"],[0.5555555555555556,\"#d8576b\"],[0.6666666666666666,\"#ed7953\"],[0.7777777777777778,\"#fb9f3a\"],[0.8888888888888888,\"#fdca26\"],[1.0,\"#f0f921\"]]}],\"choropleth\":[{\"type\":\"choropleth\",\"colorbar\":{\"outlinewidth\":0,\"ticks\":\"\"}}],\"histogram2d\":[{\"type\":\"histogram2d\",\"colorbar\":{\"outlinewidth\":0,\"ticks\":\"\"},\"colorscale\":[[0.0,\"#0d0887\"],[0.1111111111111111,\"#46039f\"],[0.2222222222222222,\"#7201a8\"],[0.3333333333333333,\"#9c179e\"],[0.4444444444444444,\"#bd3786\"],[0.5555555555555556,\"#d8576b\"],[0.6666666666666666,\"#ed7953\"],[0.7777777777777778,\"#fb9f3a\"],[0.8888888888888888,\"#fdca26\"],[1.0,\"#f0f921\"]]}],\"heatmap\":[{\"type\":\"heatmap\",\"colorbar\":{\"outlinewidth\":0,\"ticks\":\"\"},\"colorscale\":[[0.0,\"#0d0887\"],[0.1111111111111111,\"#46039f\"],[0.2222222222222222,\"#7201a8\"],[0.3333333333333333,\"#9c179e\"],[0.4444444444444444,\"#bd3786\"],[0.5555555555555556,\"#d8576b\"],[0.6666666666666666,\"#ed7953\"],[0.7777777777777778,\"#fb9f3a\"],[0.8888888888888888,\"#fdca26\"],[1.0,\"#f0f921\"]]}],\"heatmapgl\":[{\"type\":\"heatmapgl\",\"colorbar\":{\"outlinewidth\":0,\"ticks\":\"\"},\"colorscale\":[[0.0,\"#0d0887\"],[0.1111111111111111,\"#46039f\"],[0.2222222222222222,\"#7201a8\"],[0.3333333333333333,\"#9c179e\"],[0.4444444444444444,\"#bd3786\"],[0.5555555555555556,\"#d8576b\"],[0.6666666666666666,\"#ed7953\"],[0.7777777777777778,\"#fb9f3a\"],[0.8888888888888888,\"#fdca26\"],[1.0,\"#f0f921\"]]}],\"contourcarpet\":[{\"type\":\"contourcarpet\",\"colorbar\":{\"outlinewidth\":0,\"ticks\":\"\"}}],\"contour\":[{\"type\":\"contour\",\"colorbar\":{\"outlinewidth\":0,\"ticks\":\"\"},\"colorscale\":[[0.0,\"#0d0887\"],[0.1111111111111111,\"#46039f\"],[0.2222222222222222,\"#7201a8\"],[0.3333333333333333,\"#9c179e\"],[0.4444444444444444,\"#bd3786\"],[0.5555555555555556,\"#d8576b\"],[0.6666666666666666,\"#ed7953\"],[0.7777777777777778,\"#fb9f3a\"],[0.8888888888888888,\"#fdca26\"],[1.0,\"#f0f921\"]]}],\"surface\":[{\"type\":\"surface\",\"colorbar\":{\"outlinewidth\":0,\"ticks\":\"\"},\"colorscale\":[[0.0,\"#0d0887\"],[0.1111111111111111,\"#46039f\"],[0.2222222222222222,\"#7201a8\"],[0.3333333333333333,\"#9c179e\"],[0.4444444444444444,\"#bd3786\"],[0.5555555555555556,\"#d8576b\"],[0.6666666666666666,\"#ed7953\"],[0.7777777777777778,\"#fb9f3a\"],[0.8888888888888888,\"#fdca26\"],[1.0,\"#f0f921\"]]}],\"mesh3d\":[{\"type\":\"mesh3d\",\"colorbar\":{\"outlinewidth\":0,\"ticks\":\"\"}}],\"scatter\":[{\"fillpattern\":{\"fillmode\":\"overlay\",\"size\":10,\"solidity\":0.2},\"type\":\"scatter\"}],\"parcoords\":[{\"type\":\"parcoords\",\"line\":{\"colorbar\":{\"outlinewidth\":0,\"ticks\":\"\"}}}],\"scatterpolargl\":[{\"type\":\"scatterpolargl\",\"marker\":{\"colorbar\":{\"outlinewidth\":0,\"ticks\":\"\"}}}],\"bar\":[{\"error_x\":{\"color\":\"#2a3f5f\"},\"error_y\":{\"color\":\"#2a3f5f\"},\"marker\":{\"line\":{\"color\":\"#E5ECF6\",\"width\":0.5},\"pattern\":{\"fillmode\":\"overlay\",\"size\":10,\"solidity\":0.2}},\"type\":\"bar\"}],\"scattergeo\":[{\"type\":\"scattergeo\",\"marker\":{\"colorbar\":{\"outlinewidth\":0,\"ticks\":\"\"}}}],\"scatterpolar\":[{\"type\":\"scatterpolar\",\"marker\":{\"colorbar\":{\"outlinewidth\":0,\"ticks\":\"\"}}}],\"histogram\":[{\"marker\":{\"pattern\":{\"fillmode\":\"overlay\",\"size\":10,\"solidity\":0.2}},\"type\":\"histogram\"}],\"scattergl\":[{\"type\":\"scattergl\",\"marker\":{\"colorbar\":{\"outlinewidth\":0,\"ticks\":\"\"}}}],\"scatter3d\":[{\"type\":\"scatter3d\",\"line\":{\"colorbar\":{\"outlinewidth\":0,\"ticks\":\"\"}},\"marker\":{\"colorbar\":{\"outlinewidth\":0,\"ticks\":\"\"}}}],\"scattermapbox\":[{\"type\":\"scattermapbox\",\"marker\":{\"colorbar\":{\"outlinewidth\":0,\"ticks\":\"\"}}}],\"scatterternary\":[{\"type\":\"scatterternary\",\"marker\":{\"colorbar\":{\"outlinewidth\":0,\"ticks\":\"\"}}}],\"scattercarpet\":[{\"type\":\"scattercarpet\",\"marker\":{\"colorbar\":{\"outlinewidth\":0,\"ticks\":\"\"}}}],\"carpet\":[{\"aaxis\":{\"endlinecolor\":\"#2a3f5f\",\"gridcolor\":\"white\",\"linecolor\":\"white\",\"minorgridcolor\":\"white\",\"startlinecolor\":\"#2a3f5f\"},\"baxis\":{\"endlinecolor\":\"#2a3f5f\",\"gridcolor\":\"white\",\"linecolor\":\"white\",\"minorgridcolor\":\"white\",\"startlinecolor\":\"#2a3f5f\"},\"type\":\"carpet\"}],\"table\":[{\"cells\":{\"fill\":{\"color\":\"#EBF0F8\"},\"line\":{\"color\":\"white\"}},\"header\":{\"fill\":{\"color\":\"#C8D4E3\"},\"line\":{\"color\":\"white\"}},\"type\":\"table\"}],\"barpolar\":[{\"marker\":{\"line\":{\"color\":\"#E5ECF6\",\"width\":0.5},\"pattern\":{\"fillmode\":\"overlay\",\"size\":10,\"solidity\":0.2}},\"type\":\"barpolar\"}],\"pie\":[{\"automargin\":true,\"type\":\"pie\"}]},\"layout\":{\"autotypenumbers\":\"strict\",\"colorway\":[\"#636efa\",\"#EF553B\",\"#00cc96\",\"#ab63fa\",\"#FFA15A\",\"#19d3f3\",\"#FF6692\",\"#B6E880\",\"#FF97FF\",\"#FECB52\"],\"font\":{\"color\":\"#2a3f5f\"},\"hovermode\":\"closest\",\"hoverlabel\":{\"align\":\"left\"},\"paper_bgcolor\":\"white\",\"plot_bgcolor\":\"#E5ECF6\",\"polar\":{\"bgcolor\":\"#E5ECF6\",\"angularaxis\":{\"gridcolor\":\"white\",\"linecolor\":\"white\",\"ticks\":\"\"},\"radialaxis\":{\"gridcolor\":\"white\",\"linecolor\":\"white\",\"ticks\":\"\"}},\"ternary\":{\"bgcolor\":\"#E5ECF6\",\"aaxis\":{\"gridcolor\":\"white\",\"linecolor\":\"white\",\"ticks\":\"\"},\"baxis\":{\"gridcolor\":\"white\",\"linecolor\":\"white\",\"ticks\":\"\"},\"caxis\":{\"gridcolor\":\"white\",\"linecolor\":\"white\",\"ticks\":\"\"}},\"coloraxis\":{\"colorbar\":{\"outlinewidth\":0,\"ticks\":\"\"}},\"colorscale\":{\"sequential\":[[0.0,\"#0d0887\"],[0.1111111111111111,\"#46039f\"],[0.2222222222222222,\"#7201a8\"],[0.3333333333333333,\"#9c179e\"],[0.4444444444444444,\"#bd3786\"],[0.5555555555555556,\"#d8576b\"],[0.6666666666666666,\"#ed7953\"],[0.7777777777777778,\"#fb9f3a\"],[0.8888888888888888,\"#fdca26\"],[1.0,\"#f0f921\"]],\"sequentialminus\":[[0.0,\"#0d0887\"],[0.1111111111111111,\"#46039f\"],[0.2222222222222222,\"#7201a8\"],[0.3333333333333333,\"#9c179e\"],[0.4444444444444444,\"#bd3786\"],[0.5555555555555556,\"#d8576b\"],[0.6666666666666666,\"#ed7953\"],[0.7777777777777778,\"#fb9f3a\"],[0.8888888888888888,\"#fdca26\"],[1.0,\"#f0f921\"]],\"diverging\":[[0,\"#8e0152\"],[0.1,\"#c51b7d\"],[0.2,\"#de77ae\"],[0.3,\"#f1b6da\"],[0.4,\"#fde0ef\"],[0.5,\"#f7f7f7\"],[0.6,\"#e6f5d0\"],[0.7,\"#b8e186\"],[0.8,\"#7fbc41\"],[0.9,\"#4d9221\"],[1,\"#276419\"]]},\"xaxis\":{\"gridcolor\":\"white\",\"linecolor\":\"white\",\"ticks\":\"\",\"title\":{\"standoff\":15},\"zerolinecolor\":\"white\",\"automargin\":true,\"zerolinewidth\":2},\"yaxis\":{\"gridcolor\":\"white\",\"linecolor\":\"white\",\"ticks\":\"\",\"title\":{\"standoff\":15},\"zerolinecolor\":\"white\",\"automargin\":true,\"zerolinewidth\":2},\"scene\":{\"xaxis\":{\"backgroundcolor\":\"#E5ECF6\",\"gridcolor\":\"white\",\"linecolor\":\"white\",\"showbackground\":true,\"ticks\":\"\",\"zerolinecolor\":\"white\",\"gridwidth\":2},\"yaxis\":{\"backgroundcolor\":\"#E5ECF6\",\"gridcolor\":\"white\",\"linecolor\":\"white\",\"showbackground\":true,\"ticks\":\"\",\"zerolinecolor\":\"white\",\"gridwidth\":2},\"zaxis\":{\"backgroundcolor\":\"#E5ECF6\",\"gridcolor\":\"white\",\"linecolor\":\"white\",\"showbackground\":true,\"ticks\":\"\",\"zerolinecolor\":\"white\",\"gridwidth\":2}},\"shapedefaults\":{\"line\":{\"color\":\"#2a3f5f\"}},\"annotationdefaults\":{\"arrowcolor\":\"#2a3f5f\",\"arrowhead\":0,\"arrowwidth\":1},\"geo\":{\"bgcolor\":\"white\",\"landcolor\":\"#E5ECF6\",\"subunitcolor\":\"white\",\"showland\":true,\"showlakes\":true,\"lakecolor\":\"white\"},\"title\":{\"x\":0.05},\"mapbox\":{\"style\":\"light\"}}}},                        {\"responsive\": true}                    ).then(function(){\n",
              "                            \n",
              "var gd = document.getElementById('d7e7a7bc-4a0a-4fb1-9ce9-43a445bf6a2b');\n",
              "var x = new MutationObserver(function (mutations, observer) {{\n",
              "        var display = window.getComputedStyle(gd).display;\n",
              "        if (!display || display === 'none') {{\n",
              "            console.log([gd, 'removed!']);\n",
              "            Plotly.purge(gd);\n",
              "            observer.disconnect();\n",
              "        }}\n",
              "}});\n",
              "\n",
              "// Listen for the removal of the full notebook cells\n",
              "var notebookContainer = gd.closest('#notebook-container');\n",
              "if (notebookContainer) {{\n",
              "    x.observe(notebookContainer, {childList: true});\n",
              "}}\n",
              "\n",
              "// Listen for the clearing of the current output cell\n",
              "var outputEl = gd.closest('.output');\n",
              "if (outputEl) {{\n",
              "    x.observe(outputEl, {childList: true});\n",
              "}}\n",
              "\n",
              "                        })                };                            </script>        </div>\n",
              "</body>\n",
              "</html>"
            ]
          },
          "metadata": {},
          "output_type": "display_data"
        }
      ],
      "source": [
        "#sample2\n",
        "specific_rows2 = x.iloc[[6,7,8], :]\n",
        "\n",
        "interpret_model(gbr, data=specific_rows2, plot='pfi')"
      ]
    },
    {
      "cell_type": "code",
      "execution_count": null,
      "id": "nAuQAxBQcxp2",
      "metadata": {
        "colab": {
          "base_uri": "https://localhost:8080/",
          "height": 542
        },
        "id": "nAuQAxBQcxp2",
        "outputId": "d1d44e8a-c7b9-4a95-dfd3-f1ce45c0fd68"
      },
      "outputs": [
        {
          "data": {
            "text/html": [
              "<html>\n",
              "<head><meta charset=\"utf-8\" /></head>\n",
              "<body>\n",
              "    <div>            <script src=\"https://cdnjs.cloudflare.com/ajax/libs/mathjax/2.7.5/MathJax.js?config=TeX-AMS-MML_SVG\"></script><script type=\"text/javascript\">if (window.MathJax && window.MathJax.Hub && window.MathJax.Hub.Config) {window.MathJax.Hub.Config({SVG: {font: \"STIX-Web\"}});}</script>                <script type=\"text/javascript\">window.PlotlyConfig = {MathJaxConfig: 'local'};</script>\n",
              "        <script charset=\"utf-8\" src=\"https://cdn.plot.ly/plotly-2.24.1.min.js\"></script>                <div id=\"d7e62853-cecf-4297-9c4f-cafd5562f33a\" class=\"plotly-graph-div\" style=\"height:525px; width:100%;\"></div>            <script type=\"text/javascript\">                                    window.PLOTLYENV=window.PLOTLYENV || {};                                    if (document.getElementById(\"d7e62853-cecf-4297-9c4f-cafd5562f33a\")) {                    Plotly.newPlot(                        \"d7e62853-cecf-4297-9c4f-cafd5562f33a\",                        [{\"marker\":{\"color\":[\"#ff7f0e\",\"#ff7f0e\",\"#ff7f0e\",\"#ff7f0e\",\"#ff7f0e\",\"#ff7f0e\",\"#ff7f0e\",\"#ff7f0e\",\"#ff7f0e\",\"#ff7f0e\",\"#ff7f0e\",\"#ff7f0e\",\"#ff7f0e\",\"#ff7f0e\"]},\"orientation\":\"h\",\"x\":[0.10519467683939528,0.1552433923881878,0.1560830412425908,0.16440728723924153,0.1978225061555042,0.24833113116123093,0.25754121596789714,0.3020721276428415,0.31022334260468454,0.34290536824548956,0.44409072210070005,0.5282131557684175,2.9459514832308646,3.1410370075827454],\"y\":[\"Intensity 6\",\"2-theta 3\",\"Intensity 4\",\"2-theta 5\",\"relative_intensity 6\",\"FWHM 5\",\"Intensity 1\",\"Intensity 3\",\"2-theta 1\",\"2-theta 6\",\"Intensity 2\",\"2-theta 2\",\"DROP\",\"relative_intensity 4\"],\"type\":\"bar\"}],                        {\"title\":{\"text\":\"Morris Sensitivity\\u003cbr\\u003eConvergence Index: 0.092\"},\"xaxis\":{\"range\":[0,3.1410370075827454],\"title\":{\"text\":\"\"}},\"yaxis\":{\"automargin\":true,\"dtick\":1,\"title\":{\"text\":\"\"}},\"template\":{\"data\":{\"histogram2dcontour\":[{\"type\":\"histogram2dcontour\",\"colorbar\":{\"outlinewidth\":0,\"ticks\":\"\"},\"colorscale\":[[0.0,\"#0d0887\"],[0.1111111111111111,\"#46039f\"],[0.2222222222222222,\"#7201a8\"],[0.3333333333333333,\"#9c179e\"],[0.4444444444444444,\"#bd3786\"],[0.5555555555555556,\"#d8576b\"],[0.6666666666666666,\"#ed7953\"],[0.7777777777777778,\"#fb9f3a\"],[0.8888888888888888,\"#fdca26\"],[1.0,\"#f0f921\"]]}],\"choropleth\":[{\"type\":\"choropleth\",\"colorbar\":{\"outlinewidth\":0,\"ticks\":\"\"}}],\"histogram2d\":[{\"type\":\"histogram2d\",\"colorbar\":{\"outlinewidth\":0,\"ticks\":\"\"},\"colorscale\":[[0.0,\"#0d0887\"],[0.1111111111111111,\"#46039f\"],[0.2222222222222222,\"#7201a8\"],[0.3333333333333333,\"#9c179e\"],[0.4444444444444444,\"#bd3786\"],[0.5555555555555556,\"#d8576b\"],[0.6666666666666666,\"#ed7953\"],[0.7777777777777778,\"#fb9f3a\"],[0.8888888888888888,\"#fdca26\"],[1.0,\"#f0f921\"]]}],\"heatmap\":[{\"type\":\"heatmap\",\"colorbar\":{\"outlinewidth\":0,\"ticks\":\"\"},\"colorscale\":[[0.0,\"#0d0887\"],[0.1111111111111111,\"#46039f\"],[0.2222222222222222,\"#7201a8\"],[0.3333333333333333,\"#9c179e\"],[0.4444444444444444,\"#bd3786\"],[0.5555555555555556,\"#d8576b\"],[0.6666666666666666,\"#ed7953\"],[0.7777777777777778,\"#fb9f3a\"],[0.8888888888888888,\"#fdca26\"],[1.0,\"#f0f921\"]]}],\"heatmapgl\":[{\"type\":\"heatmapgl\",\"colorbar\":{\"outlinewidth\":0,\"ticks\":\"\"},\"colorscale\":[[0.0,\"#0d0887\"],[0.1111111111111111,\"#46039f\"],[0.2222222222222222,\"#7201a8\"],[0.3333333333333333,\"#9c179e\"],[0.4444444444444444,\"#bd3786\"],[0.5555555555555556,\"#d8576b\"],[0.6666666666666666,\"#ed7953\"],[0.7777777777777778,\"#fb9f3a\"],[0.8888888888888888,\"#fdca26\"],[1.0,\"#f0f921\"]]}],\"contourcarpet\":[{\"type\":\"contourcarpet\",\"colorbar\":{\"outlinewidth\":0,\"ticks\":\"\"}}],\"contour\":[{\"type\":\"contour\",\"colorbar\":{\"outlinewidth\":0,\"ticks\":\"\"},\"colorscale\":[[0.0,\"#0d0887\"],[0.1111111111111111,\"#46039f\"],[0.2222222222222222,\"#7201a8\"],[0.3333333333333333,\"#9c179e\"],[0.4444444444444444,\"#bd3786\"],[0.5555555555555556,\"#d8576b\"],[0.6666666666666666,\"#ed7953\"],[0.7777777777777778,\"#fb9f3a\"],[0.8888888888888888,\"#fdca26\"],[1.0,\"#f0f921\"]]}],\"surface\":[{\"type\":\"surface\",\"colorbar\":{\"outlinewidth\":0,\"ticks\":\"\"},\"colorscale\":[[0.0,\"#0d0887\"],[0.1111111111111111,\"#46039f\"],[0.2222222222222222,\"#7201a8\"],[0.3333333333333333,\"#9c179e\"],[0.4444444444444444,\"#bd3786\"],[0.5555555555555556,\"#d8576b\"],[0.6666666666666666,\"#ed7953\"],[0.7777777777777778,\"#fb9f3a\"],[0.8888888888888888,\"#fdca26\"],[1.0,\"#f0f921\"]]}],\"mesh3d\":[{\"type\":\"mesh3d\",\"colorbar\":{\"outlinewidth\":0,\"ticks\":\"\"}}],\"scatter\":[{\"fillpattern\":{\"fillmode\":\"overlay\",\"size\":10,\"solidity\":0.2},\"type\":\"scatter\"}],\"parcoords\":[{\"type\":\"parcoords\",\"line\":{\"colorbar\":{\"outlinewidth\":0,\"ticks\":\"\"}}}],\"scatterpolargl\":[{\"type\":\"scatterpolargl\",\"marker\":{\"colorbar\":{\"outlinewidth\":0,\"ticks\":\"\"}}}],\"bar\":[{\"error_x\":{\"color\":\"#2a3f5f\"},\"error_y\":{\"color\":\"#2a3f5f\"},\"marker\":{\"line\":{\"color\":\"#E5ECF6\",\"width\":0.5},\"pattern\":{\"fillmode\":\"overlay\",\"size\":10,\"solidity\":0.2}},\"type\":\"bar\"}],\"scattergeo\":[{\"type\":\"scattergeo\",\"marker\":{\"colorbar\":{\"outlinewidth\":0,\"ticks\":\"\"}}}],\"scatterpolar\":[{\"type\":\"scatterpolar\",\"marker\":{\"colorbar\":{\"outlinewidth\":0,\"ticks\":\"\"}}}],\"histogram\":[{\"marker\":{\"pattern\":{\"fillmode\":\"overlay\",\"size\":10,\"solidity\":0.2}},\"type\":\"histogram\"}],\"scattergl\":[{\"type\":\"scattergl\",\"marker\":{\"colorbar\":{\"outlinewidth\":0,\"ticks\":\"\"}}}],\"scatter3d\":[{\"type\":\"scatter3d\",\"line\":{\"colorbar\":{\"outlinewidth\":0,\"ticks\":\"\"}},\"marker\":{\"colorbar\":{\"outlinewidth\":0,\"ticks\":\"\"}}}],\"scattermapbox\":[{\"type\":\"scattermapbox\",\"marker\":{\"colorbar\":{\"outlinewidth\":0,\"ticks\":\"\"}}}],\"scatterternary\":[{\"type\":\"scatterternary\",\"marker\":{\"colorbar\":{\"outlinewidth\":0,\"ticks\":\"\"}}}],\"scattercarpet\":[{\"type\":\"scattercarpet\",\"marker\":{\"colorbar\":{\"outlinewidth\":0,\"ticks\":\"\"}}}],\"carpet\":[{\"aaxis\":{\"endlinecolor\":\"#2a3f5f\",\"gridcolor\":\"white\",\"linecolor\":\"white\",\"minorgridcolor\":\"white\",\"startlinecolor\":\"#2a3f5f\"},\"baxis\":{\"endlinecolor\":\"#2a3f5f\",\"gridcolor\":\"white\",\"linecolor\":\"white\",\"minorgridcolor\":\"white\",\"startlinecolor\":\"#2a3f5f\"},\"type\":\"carpet\"}],\"table\":[{\"cells\":{\"fill\":{\"color\":\"#EBF0F8\"},\"line\":{\"color\":\"white\"}},\"header\":{\"fill\":{\"color\":\"#C8D4E3\"},\"line\":{\"color\":\"white\"}},\"type\":\"table\"}],\"barpolar\":[{\"marker\":{\"line\":{\"color\":\"#E5ECF6\",\"width\":0.5},\"pattern\":{\"fillmode\":\"overlay\",\"size\":10,\"solidity\":0.2}},\"type\":\"barpolar\"}],\"pie\":[{\"automargin\":true,\"type\":\"pie\"}]},\"layout\":{\"autotypenumbers\":\"strict\",\"colorway\":[\"#636efa\",\"#EF553B\",\"#00cc96\",\"#ab63fa\",\"#FFA15A\",\"#19d3f3\",\"#FF6692\",\"#B6E880\",\"#FF97FF\",\"#FECB52\"],\"font\":{\"color\":\"#2a3f5f\"},\"hovermode\":\"closest\",\"hoverlabel\":{\"align\":\"left\"},\"paper_bgcolor\":\"white\",\"plot_bgcolor\":\"#E5ECF6\",\"polar\":{\"bgcolor\":\"#E5ECF6\",\"angularaxis\":{\"gridcolor\":\"white\",\"linecolor\":\"white\",\"ticks\":\"\"},\"radialaxis\":{\"gridcolor\":\"white\",\"linecolor\":\"white\",\"ticks\":\"\"}},\"ternary\":{\"bgcolor\":\"#E5ECF6\",\"aaxis\":{\"gridcolor\":\"white\",\"linecolor\":\"white\",\"ticks\":\"\"},\"baxis\":{\"gridcolor\":\"white\",\"linecolor\":\"white\",\"ticks\":\"\"},\"caxis\":{\"gridcolor\":\"white\",\"linecolor\":\"white\",\"ticks\":\"\"}},\"coloraxis\":{\"colorbar\":{\"outlinewidth\":0,\"ticks\":\"\"}},\"colorscale\":{\"sequential\":[[0.0,\"#0d0887\"],[0.1111111111111111,\"#46039f\"],[0.2222222222222222,\"#7201a8\"],[0.3333333333333333,\"#9c179e\"],[0.4444444444444444,\"#bd3786\"],[0.5555555555555556,\"#d8576b\"],[0.6666666666666666,\"#ed7953\"],[0.7777777777777778,\"#fb9f3a\"],[0.8888888888888888,\"#fdca26\"],[1.0,\"#f0f921\"]],\"sequentialminus\":[[0.0,\"#0d0887\"],[0.1111111111111111,\"#46039f\"],[0.2222222222222222,\"#7201a8\"],[0.3333333333333333,\"#9c179e\"],[0.4444444444444444,\"#bd3786\"],[0.5555555555555556,\"#d8576b\"],[0.6666666666666666,\"#ed7953\"],[0.7777777777777778,\"#fb9f3a\"],[0.8888888888888888,\"#fdca26\"],[1.0,\"#f0f921\"]],\"diverging\":[[0,\"#8e0152\"],[0.1,\"#c51b7d\"],[0.2,\"#de77ae\"],[0.3,\"#f1b6da\"],[0.4,\"#fde0ef\"],[0.5,\"#f7f7f7\"],[0.6,\"#e6f5d0\"],[0.7,\"#b8e186\"],[0.8,\"#7fbc41\"],[0.9,\"#4d9221\"],[1,\"#276419\"]]},\"xaxis\":{\"gridcolor\":\"white\",\"linecolor\":\"white\",\"ticks\":\"\",\"title\":{\"standoff\":15},\"zerolinecolor\":\"white\",\"automargin\":true,\"zerolinewidth\":2},\"yaxis\":{\"gridcolor\":\"white\",\"linecolor\":\"white\",\"ticks\":\"\",\"title\":{\"standoff\":15},\"zerolinecolor\":\"white\",\"automargin\":true,\"zerolinewidth\":2},\"scene\":{\"xaxis\":{\"backgroundcolor\":\"#E5ECF6\",\"gridcolor\":\"white\",\"linecolor\":\"white\",\"showbackground\":true,\"ticks\":\"\",\"zerolinecolor\":\"white\",\"gridwidth\":2},\"yaxis\":{\"backgroundcolor\":\"#E5ECF6\",\"gridcolor\":\"white\",\"linecolor\":\"white\",\"showbackground\":true,\"ticks\":\"\",\"zerolinecolor\":\"white\",\"gridwidth\":2},\"zaxis\":{\"backgroundcolor\":\"#E5ECF6\",\"gridcolor\":\"white\",\"linecolor\":\"white\",\"showbackground\":true,\"ticks\":\"\",\"zerolinecolor\":\"white\",\"gridwidth\":2}},\"shapedefaults\":{\"line\":{\"color\":\"#2a3f5f\"}},\"annotationdefaults\":{\"arrowcolor\":\"#2a3f5f\",\"arrowhead\":0,\"arrowwidth\":1},\"geo\":{\"bgcolor\":\"white\",\"landcolor\":\"#E5ECF6\",\"subunitcolor\":\"white\",\"showland\":true,\"showlakes\":true,\"lakecolor\":\"white\"},\"title\":{\"x\":0.05},\"mapbox\":{\"style\":\"light\"}}}},                        {\"responsive\": true}                    ).then(function(){\n",
              "                            \n",
              "var gd = document.getElementById('d7e62853-cecf-4297-9c4f-cafd5562f33a');\n",
              "var x = new MutationObserver(function (mutations, observer) {{\n",
              "        var display = window.getComputedStyle(gd).display;\n",
              "        if (!display || display === 'none') {{\n",
              "            console.log([gd, 'removed!']);\n",
              "            Plotly.purge(gd);\n",
              "            observer.disconnect();\n",
              "        }}\n",
              "}});\n",
              "\n",
              "// Listen for the removal of the full notebook cells\n",
              "var notebookContainer = gd.closest('#notebook-container');\n",
              "if (notebookContainer) {{\n",
              "    x.observe(notebookContainer, {childList: true});\n",
              "}}\n",
              "\n",
              "// Listen for the clearing of the current output cell\n",
              "var outputEl = gd.closest('.output');\n",
              "if (outputEl) {{\n",
              "    x.observe(outputEl, {childList: true});\n",
              "}}\n",
              "\n",
              "                        })                };                            </script>        </div>\n",
              "</body>\n",
              "</html>"
            ]
          },
          "metadata": {},
          "output_type": "display_data"
        }
      ],
      "source": [
        "interpret_model(gbr, data=specific_rows2, plot='msa')"
      ]
    },
    {
      "cell_type": "code",
      "execution_count": null,
      "id": "j7hyvG28VyXZ",
      "metadata": {
        "colab": {
          "base_uri": "https://localhost:8080/",
          "height": 560
        },
        "id": "j7hyvG28VyXZ",
        "outputId": "53091d22-b2f6-46db-d8a0-a14e58fe7aee"
      },
      "outputs": [
        {
          "name": "stderr",
          "output_type": "stream",
          "text": [
            "14it [00:00, 168.82it/s]\n"
          ]
        },
        {
          "data": {
            "text/html": [
              "<html>\n",
              "<head><meta charset=\"utf-8\" /></head>\n",
              "<body>\n",
              "    <div>            <script src=\"https://cdnjs.cloudflare.com/ajax/libs/mathjax/2.7.5/MathJax.js?config=TeX-AMS-MML_SVG\"></script><script type=\"text/javascript\">if (window.MathJax && window.MathJax.Hub && window.MathJax.Hub.Config) {window.MathJax.Hub.Config({SVG: {font: \"STIX-Web\"}});}</script>                <script type=\"text/javascript\">window.PlotlyConfig = {MathJaxConfig: 'local'};</script>\n",
              "        <script charset=\"utf-8\" src=\"https://cdn.plot.ly/plotly-2.24.1.min.js\"></script>                <div id=\"f7364d79-95be-41da-b38b-fd8dee627242\" class=\"plotly-graph-div\" style=\"height:525px; width:100%;\"></div>            <script type=\"text/javascript\">                                    window.PLOTLYENV=window.PLOTLYENV || {};                                    if (document.getElementById(\"f7364d79-95be-41da-b38b-fd8dee627242\")) {                    Plotly.newPlot(                        \"f7364d79-95be-41da-b38b-fd8dee627242\",                        [{\"marker\":{\"color\":[\"#1f77b4\",\"#ff7f0e\",\"#ff7f0e\",\"#1f77b4\",\"#ff7f0e\",\"#ff7f0e\",\"#ff7f0e\",\"#ff7f0e\",\"#1f77b4\",\"#1f77b4\",\"#ff7f0e\",\"#1f77b4\",\"#1f77b4\",\"#1f77b4\"]},\"orientation\":\"h\",\"x\":[-0.00024181375110404746,0.011031067431921115,0.01832854856864924,-0.026675216466164386,0.02695242124612446,0.029011279474570273,0.029867455820693778,0.03319479928557101,-0.042481584401006245,-0.0493291399317452,0.050228724475815056,-0.09503515086004322,-0.7980512988421822,-1.1989595561596917],\"y\":[\"2-theta 6\",\"relative_intensity 6\",\"2-theta 1\",\"Intensity 2\",\"Intensity 4\",\"2-theta 3\",\"FWHM 5\",\"2-theta 5\",\"Intensity 6\",\"Intensity 1\",\"2-theta 2\",\"Intensity 3\",\"relative_intensity 4\",\"DROP\"],\"type\":\"bar\"}],                        {\"title\":{\"text\":\"\"},\"xaxis\":{\"range\":[-1.1989595561596917,1.1989595561596917],\"title\":{\"text\":\"\"}},\"yaxis\":{\"automargin\":true,\"dtick\":1,\"title\":{\"text\":\"\"}},\"template\":{\"data\":{\"histogram2dcontour\":[{\"type\":\"histogram2dcontour\",\"colorbar\":{\"outlinewidth\":0,\"ticks\":\"\"},\"colorscale\":[[0.0,\"#0d0887\"],[0.1111111111111111,\"#46039f\"],[0.2222222222222222,\"#7201a8\"],[0.3333333333333333,\"#9c179e\"],[0.4444444444444444,\"#bd3786\"],[0.5555555555555556,\"#d8576b\"],[0.6666666666666666,\"#ed7953\"],[0.7777777777777778,\"#fb9f3a\"],[0.8888888888888888,\"#fdca26\"],[1.0,\"#f0f921\"]]}],\"choropleth\":[{\"type\":\"choropleth\",\"colorbar\":{\"outlinewidth\":0,\"ticks\":\"\"}}],\"histogram2d\":[{\"type\":\"histogram2d\",\"colorbar\":{\"outlinewidth\":0,\"ticks\":\"\"},\"colorscale\":[[0.0,\"#0d0887\"],[0.1111111111111111,\"#46039f\"],[0.2222222222222222,\"#7201a8\"],[0.3333333333333333,\"#9c179e\"],[0.4444444444444444,\"#bd3786\"],[0.5555555555555556,\"#d8576b\"],[0.6666666666666666,\"#ed7953\"],[0.7777777777777778,\"#fb9f3a\"],[0.8888888888888888,\"#fdca26\"],[1.0,\"#f0f921\"]]}],\"heatmap\":[{\"type\":\"heatmap\",\"colorbar\":{\"outlinewidth\":0,\"ticks\":\"\"},\"colorscale\":[[0.0,\"#0d0887\"],[0.1111111111111111,\"#46039f\"],[0.2222222222222222,\"#7201a8\"],[0.3333333333333333,\"#9c179e\"],[0.4444444444444444,\"#bd3786\"],[0.5555555555555556,\"#d8576b\"],[0.6666666666666666,\"#ed7953\"],[0.7777777777777778,\"#fb9f3a\"],[0.8888888888888888,\"#fdca26\"],[1.0,\"#f0f921\"]]}],\"heatmapgl\":[{\"type\":\"heatmapgl\",\"colorbar\":{\"outlinewidth\":0,\"ticks\":\"\"},\"colorscale\":[[0.0,\"#0d0887\"],[0.1111111111111111,\"#46039f\"],[0.2222222222222222,\"#7201a8\"],[0.3333333333333333,\"#9c179e\"],[0.4444444444444444,\"#bd3786\"],[0.5555555555555556,\"#d8576b\"],[0.6666666666666666,\"#ed7953\"],[0.7777777777777778,\"#fb9f3a\"],[0.8888888888888888,\"#fdca26\"],[1.0,\"#f0f921\"]]}],\"contourcarpet\":[{\"type\":\"contourcarpet\",\"colorbar\":{\"outlinewidth\":0,\"ticks\":\"\"}}],\"contour\":[{\"type\":\"contour\",\"colorbar\":{\"outlinewidth\":0,\"ticks\":\"\"},\"colorscale\":[[0.0,\"#0d0887\"],[0.1111111111111111,\"#46039f\"],[0.2222222222222222,\"#7201a8\"],[0.3333333333333333,\"#9c179e\"],[0.4444444444444444,\"#bd3786\"],[0.5555555555555556,\"#d8576b\"],[0.6666666666666666,\"#ed7953\"],[0.7777777777777778,\"#fb9f3a\"],[0.8888888888888888,\"#fdca26\"],[1.0,\"#f0f921\"]]}],\"surface\":[{\"type\":\"surface\",\"colorbar\":{\"outlinewidth\":0,\"ticks\":\"\"},\"colorscale\":[[0.0,\"#0d0887\"],[0.1111111111111111,\"#46039f\"],[0.2222222222222222,\"#7201a8\"],[0.3333333333333333,\"#9c179e\"],[0.4444444444444444,\"#bd3786\"],[0.5555555555555556,\"#d8576b\"],[0.6666666666666666,\"#ed7953\"],[0.7777777777777778,\"#fb9f3a\"],[0.8888888888888888,\"#fdca26\"],[1.0,\"#f0f921\"]]}],\"mesh3d\":[{\"type\":\"mesh3d\",\"colorbar\":{\"outlinewidth\":0,\"ticks\":\"\"}}],\"scatter\":[{\"fillpattern\":{\"fillmode\":\"overlay\",\"size\":10,\"solidity\":0.2},\"type\":\"scatter\"}],\"parcoords\":[{\"type\":\"parcoords\",\"line\":{\"colorbar\":{\"outlinewidth\":0,\"ticks\":\"\"}}}],\"scatterpolargl\":[{\"type\":\"scatterpolargl\",\"marker\":{\"colorbar\":{\"outlinewidth\":0,\"ticks\":\"\"}}}],\"bar\":[{\"error_x\":{\"color\":\"#2a3f5f\"},\"error_y\":{\"color\":\"#2a3f5f\"},\"marker\":{\"line\":{\"color\":\"#E5ECF6\",\"width\":0.5},\"pattern\":{\"fillmode\":\"overlay\",\"size\":10,\"solidity\":0.2}},\"type\":\"bar\"}],\"scattergeo\":[{\"type\":\"scattergeo\",\"marker\":{\"colorbar\":{\"outlinewidth\":0,\"ticks\":\"\"}}}],\"scatterpolar\":[{\"type\":\"scatterpolar\",\"marker\":{\"colorbar\":{\"outlinewidth\":0,\"ticks\":\"\"}}}],\"histogram\":[{\"marker\":{\"pattern\":{\"fillmode\":\"overlay\",\"size\":10,\"solidity\":0.2}},\"type\":\"histogram\"}],\"scattergl\":[{\"type\":\"scattergl\",\"marker\":{\"colorbar\":{\"outlinewidth\":0,\"ticks\":\"\"}}}],\"scatter3d\":[{\"type\":\"scatter3d\",\"line\":{\"colorbar\":{\"outlinewidth\":0,\"ticks\":\"\"}},\"marker\":{\"colorbar\":{\"outlinewidth\":0,\"ticks\":\"\"}}}],\"scattermapbox\":[{\"type\":\"scattermapbox\",\"marker\":{\"colorbar\":{\"outlinewidth\":0,\"ticks\":\"\"}}}],\"scatterternary\":[{\"type\":\"scatterternary\",\"marker\":{\"colorbar\":{\"outlinewidth\":0,\"ticks\":\"\"}}}],\"scattercarpet\":[{\"type\":\"scattercarpet\",\"marker\":{\"colorbar\":{\"outlinewidth\":0,\"ticks\":\"\"}}}],\"carpet\":[{\"aaxis\":{\"endlinecolor\":\"#2a3f5f\",\"gridcolor\":\"white\",\"linecolor\":\"white\",\"minorgridcolor\":\"white\",\"startlinecolor\":\"#2a3f5f\"},\"baxis\":{\"endlinecolor\":\"#2a3f5f\",\"gridcolor\":\"white\",\"linecolor\":\"white\",\"minorgridcolor\":\"white\",\"startlinecolor\":\"#2a3f5f\"},\"type\":\"carpet\"}],\"table\":[{\"cells\":{\"fill\":{\"color\":\"#EBF0F8\"},\"line\":{\"color\":\"white\"}},\"header\":{\"fill\":{\"color\":\"#C8D4E3\"},\"line\":{\"color\":\"white\"}},\"type\":\"table\"}],\"barpolar\":[{\"marker\":{\"line\":{\"color\":\"#E5ECF6\",\"width\":0.5},\"pattern\":{\"fillmode\":\"overlay\",\"size\":10,\"solidity\":0.2}},\"type\":\"barpolar\"}],\"pie\":[{\"automargin\":true,\"type\":\"pie\"}]},\"layout\":{\"autotypenumbers\":\"strict\",\"colorway\":[\"#636efa\",\"#EF553B\",\"#00cc96\",\"#ab63fa\",\"#FFA15A\",\"#19d3f3\",\"#FF6692\",\"#B6E880\",\"#FF97FF\",\"#FECB52\"],\"font\":{\"color\":\"#2a3f5f\"},\"hovermode\":\"closest\",\"hoverlabel\":{\"align\":\"left\"},\"paper_bgcolor\":\"white\",\"plot_bgcolor\":\"#E5ECF6\",\"polar\":{\"bgcolor\":\"#E5ECF6\",\"angularaxis\":{\"gridcolor\":\"white\",\"linecolor\":\"white\",\"ticks\":\"\"},\"radialaxis\":{\"gridcolor\":\"white\",\"linecolor\":\"white\",\"ticks\":\"\"}},\"ternary\":{\"bgcolor\":\"#E5ECF6\",\"aaxis\":{\"gridcolor\":\"white\",\"linecolor\":\"white\",\"ticks\":\"\"},\"baxis\":{\"gridcolor\":\"white\",\"linecolor\":\"white\",\"ticks\":\"\"},\"caxis\":{\"gridcolor\":\"white\",\"linecolor\":\"white\",\"ticks\":\"\"}},\"coloraxis\":{\"colorbar\":{\"outlinewidth\":0,\"ticks\":\"\"}},\"colorscale\":{\"sequential\":[[0.0,\"#0d0887\"],[0.1111111111111111,\"#46039f\"],[0.2222222222222222,\"#7201a8\"],[0.3333333333333333,\"#9c179e\"],[0.4444444444444444,\"#bd3786\"],[0.5555555555555556,\"#d8576b\"],[0.6666666666666666,\"#ed7953\"],[0.7777777777777778,\"#fb9f3a\"],[0.8888888888888888,\"#fdca26\"],[1.0,\"#f0f921\"]],\"sequentialminus\":[[0.0,\"#0d0887\"],[0.1111111111111111,\"#46039f\"],[0.2222222222222222,\"#7201a8\"],[0.3333333333333333,\"#9c179e\"],[0.4444444444444444,\"#bd3786\"],[0.5555555555555556,\"#d8576b\"],[0.6666666666666666,\"#ed7953\"],[0.7777777777777778,\"#fb9f3a\"],[0.8888888888888888,\"#fdca26\"],[1.0,\"#f0f921\"]],\"diverging\":[[0,\"#8e0152\"],[0.1,\"#c51b7d\"],[0.2,\"#de77ae\"],[0.3,\"#f1b6da\"],[0.4,\"#fde0ef\"],[0.5,\"#f7f7f7\"],[0.6,\"#e6f5d0\"],[0.7,\"#b8e186\"],[0.8,\"#7fbc41\"],[0.9,\"#4d9221\"],[1,\"#276419\"]]},\"xaxis\":{\"gridcolor\":\"white\",\"linecolor\":\"white\",\"ticks\":\"\",\"title\":{\"standoff\":15},\"zerolinecolor\":\"white\",\"automargin\":true,\"zerolinewidth\":2},\"yaxis\":{\"gridcolor\":\"white\",\"linecolor\":\"white\",\"ticks\":\"\",\"title\":{\"standoff\":15},\"zerolinecolor\":\"white\",\"automargin\":true,\"zerolinewidth\":2},\"scene\":{\"xaxis\":{\"backgroundcolor\":\"#E5ECF6\",\"gridcolor\":\"white\",\"linecolor\":\"white\",\"showbackground\":true,\"ticks\":\"\",\"zerolinecolor\":\"white\",\"gridwidth\":2},\"yaxis\":{\"backgroundcolor\":\"#E5ECF6\",\"gridcolor\":\"white\",\"linecolor\":\"white\",\"showbackground\":true,\"ticks\":\"\",\"zerolinecolor\":\"white\",\"gridwidth\":2},\"zaxis\":{\"backgroundcolor\":\"#E5ECF6\",\"gridcolor\":\"white\",\"linecolor\":\"white\",\"showbackground\":true,\"ticks\":\"\",\"zerolinecolor\":\"white\",\"gridwidth\":2}},\"shapedefaults\":{\"line\":{\"color\":\"#2a3f5f\"}},\"annotationdefaults\":{\"arrowcolor\":\"#2a3f5f\",\"arrowhead\":0,\"arrowwidth\":1},\"geo\":{\"bgcolor\":\"white\",\"landcolor\":\"#E5ECF6\",\"subunitcolor\":\"white\",\"showland\":true,\"showlakes\":true,\"lakecolor\":\"white\"},\"title\":{\"x\":0.05},\"mapbox\":{\"style\":\"light\"}}}},                        {\"responsive\": true}                    ).then(function(){\n",
              "                            \n",
              "var gd = document.getElementById('f7364d79-95be-41da-b38b-fd8dee627242');\n",
              "var x = new MutationObserver(function (mutations, observer) {{\n",
              "        var display = window.getComputedStyle(gd).display;\n",
              "        if (!display || display === 'none') {{\n",
              "            console.log([gd, 'removed!']);\n",
              "            Plotly.purge(gd);\n",
              "            observer.disconnect();\n",
              "        }}\n",
              "}});\n",
              "\n",
              "// Listen for the removal of the full notebook cells\n",
              "var notebookContainer = gd.closest('#notebook-container');\n",
              "if (notebookContainer) {{\n",
              "    x.observe(notebookContainer, {childList: true});\n",
              "}}\n",
              "\n",
              "// Listen for the clearing of the current output cell\n",
              "var outputEl = gd.closest('.output');\n",
              "if (outputEl) {{\n",
              "    x.observe(outputEl, {childList: true});\n",
              "}}\n",
              "\n",
              "                        })                };                            </script>        </div>\n",
              "</body>\n",
              "</html>"
            ]
          },
          "metadata": {},
          "output_type": "display_data"
        }
      ],
      "source": [
        "#sample3\n",
        "specific_rows3 = x.iloc[[9,10,11,12,13,14], :]\n",
        "\n",
        "interpret_model(gbr, data=specific_rows3, plot='pfi')"
      ]
    },
    {
      "cell_type": "code",
      "execution_count": null,
      "id": "XA8b2yekdJk3",
      "metadata": {
        "colab": {
          "base_uri": "https://localhost:8080/",
          "height": 542
        },
        "id": "XA8b2yekdJk3",
        "outputId": "d0c3d9fa-716a-46d7-e006-f0588f4ca58b"
      },
      "outputs": [
        {
          "data": {
            "text/html": [
              "<html>\n",
              "<head><meta charset=\"utf-8\" /></head>\n",
              "<body>\n",
              "    <div>            <script src=\"https://cdnjs.cloudflare.com/ajax/libs/mathjax/2.7.5/MathJax.js?config=TeX-AMS-MML_SVG\"></script><script type=\"text/javascript\">if (window.MathJax && window.MathJax.Hub && window.MathJax.Hub.Config) {window.MathJax.Hub.Config({SVG: {font: \"STIX-Web\"}});}</script>                <script type=\"text/javascript\">window.PlotlyConfig = {MathJaxConfig: 'local'};</script>\n",
              "        <script charset=\"utf-8\" src=\"https://cdn.plot.ly/plotly-2.24.1.min.js\"></script>                <div id=\"b7f67b9e-3727-49aa-ae01-836f5c365778\" class=\"plotly-graph-div\" style=\"height:525px; width:100%;\"></div>            <script type=\"text/javascript\">                                    window.PLOTLYENV=window.PLOTLYENV || {};                                    if (document.getElementById(\"b7f67b9e-3727-49aa-ae01-836f5c365778\")) {                    Plotly.newPlot(                        \"b7f67b9e-3727-49aa-ae01-836f5c365778\",                        [{\"marker\":{\"color\":[\"#ff7f0e\",\"#ff7f0e\",\"#ff7f0e\",\"#ff7f0e\",\"#ff7f0e\",\"#ff7f0e\",\"#ff7f0e\",\"#ff7f0e\",\"#ff7f0e\",\"#ff7f0e\",\"#ff7f0e\",\"#ff7f0e\",\"#ff7f0e\",\"#ff7f0e\"]},\"orientation\":\"h\",\"x\":[0.10519467683939528,0.1552433923881878,0.1560830412425908,0.16440728723924153,0.1978225061555042,0.24833113116123093,0.25754121596789714,0.3020721276428415,0.31022334260468454,0.34290536824548956,0.44409072210070005,0.5282131557684175,2.9459514832308646,3.1410370075827454],\"y\":[\"Intensity 6\",\"2-theta 3\",\"Intensity 4\",\"2-theta 5\",\"relative_intensity 6\",\"FWHM 5\",\"Intensity 1\",\"Intensity 3\",\"2-theta 1\",\"2-theta 6\",\"Intensity 2\",\"2-theta 2\",\"DROP\",\"relative_intensity 4\"],\"type\":\"bar\"}],                        {\"title\":{\"text\":\"Morris Sensitivity\\u003cbr\\u003eConvergence Index: 0.092\"},\"xaxis\":{\"range\":[0,3.1410370075827454],\"title\":{\"text\":\"\"}},\"yaxis\":{\"automargin\":true,\"dtick\":1,\"title\":{\"text\":\"\"}},\"template\":{\"data\":{\"histogram2dcontour\":[{\"type\":\"histogram2dcontour\",\"colorbar\":{\"outlinewidth\":0,\"ticks\":\"\"},\"colorscale\":[[0.0,\"#0d0887\"],[0.1111111111111111,\"#46039f\"],[0.2222222222222222,\"#7201a8\"],[0.3333333333333333,\"#9c179e\"],[0.4444444444444444,\"#bd3786\"],[0.5555555555555556,\"#d8576b\"],[0.6666666666666666,\"#ed7953\"],[0.7777777777777778,\"#fb9f3a\"],[0.8888888888888888,\"#fdca26\"],[1.0,\"#f0f921\"]]}],\"choropleth\":[{\"type\":\"choropleth\",\"colorbar\":{\"outlinewidth\":0,\"ticks\":\"\"}}],\"histogram2d\":[{\"type\":\"histogram2d\",\"colorbar\":{\"outlinewidth\":0,\"ticks\":\"\"},\"colorscale\":[[0.0,\"#0d0887\"],[0.1111111111111111,\"#46039f\"],[0.2222222222222222,\"#7201a8\"],[0.3333333333333333,\"#9c179e\"],[0.4444444444444444,\"#bd3786\"],[0.5555555555555556,\"#d8576b\"],[0.6666666666666666,\"#ed7953\"],[0.7777777777777778,\"#fb9f3a\"],[0.8888888888888888,\"#fdca26\"],[1.0,\"#f0f921\"]]}],\"heatmap\":[{\"type\":\"heatmap\",\"colorbar\":{\"outlinewidth\":0,\"ticks\":\"\"},\"colorscale\":[[0.0,\"#0d0887\"],[0.1111111111111111,\"#46039f\"],[0.2222222222222222,\"#7201a8\"],[0.3333333333333333,\"#9c179e\"],[0.4444444444444444,\"#bd3786\"],[0.5555555555555556,\"#d8576b\"],[0.6666666666666666,\"#ed7953\"],[0.7777777777777778,\"#fb9f3a\"],[0.8888888888888888,\"#fdca26\"],[1.0,\"#f0f921\"]]}],\"heatmapgl\":[{\"type\":\"heatmapgl\",\"colorbar\":{\"outlinewidth\":0,\"ticks\":\"\"},\"colorscale\":[[0.0,\"#0d0887\"],[0.1111111111111111,\"#46039f\"],[0.2222222222222222,\"#7201a8\"],[0.3333333333333333,\"#9c179e\"],[0.4444444444444444,\"#bd3786\"],[0.5555555555555556,\"#d8576b\"],[0.6666666666666666,\"#ed7953\"],[0.7777777777777778,\"#fb9f3a\"],[0.8888888888888888,\"#fdca26\"],[1.0,\"#f0f921\"]]}],\"contourcarpet\":[{\"type\":\"contourcarpet\",\"colorbar\":{\"outlinewidth\":0,\"ticks\":\"\"}}],\"contour\":[{\"type\":\"contour\",\"colorbar\":{\"outlinewidth\":0,\"ticks\":\"\"},\"colorscale\":[[0.0,\"#0d0887\"],[0.1111111111111111,\"#46039f\"],[0.2222222222222222,\"#7201a8\"],[0.3333333333333333,\"#9c179e\"],[0.4444444444444444,\"#bd3786\"],[0.5555555555555556,\"#d8576b\"],[0.6666666666666666,\"#ed7953\"],[0.7777777777777778,\"#fb9f3a\"],[0.8888888888888888,\"#fdca26\"],[1.0,\"#f0f921\"]]}],\"surface\":[{\"type\":\"surface\",\"colorbar\":{\"outlinewidth\":0,\"ticks\":\"\"},\"colorscale\":[[0.0,\"#0d0887\"],[0.1111111111111111,\"#46039f\"],[0.2222222222222222,\"#7201a8\"],[0.3333333333333333,\"#9c179e\"],[0.4444444444444444,\"#bd3786\"],[0.5555555555555556,\"#d8576b\"],[0.6666666666666666,\"#ed7953\"],[0.7777777777777778,\"#fb9f3a\"],[0.8888888888888888,\"#fdca26\"],[1.0,\"#f0f921\"]]}],\"mesh3d\":[{\"type\":\"mesh3d\",\"colorbar\":{\"outlinewidth\":0,\"ticks\":\"\"}}],\"scatter\":[{\"fillpattern\":{\"fillmode\":\"overlay\",\"size\":10,\"solidity\":0.2},\"type\":\"scatter\"}],\"parcoords\":[{\"type\":\"parcoords\",\"line\":{\"colorbar\":{\"outlinewidth\":0,\"ticks\":\"\"}}}],\"scatterpolargl\":[{\"type\":\"scatterpolargl\",\"marker\":{\"colorbar\":{\"outlinewidth\":0,\"ticks\":\"\"}}}],\"bar\":[{\"error_x\":{\"color\":\"#2a3f5f\"},\"error_y\":{\"color\":\"#2a3f5f\"},\"marker\":{\"line\":{\"color\":\"#E5ECF6\",\"width\":0.5},\"pattern\":{\"fillmode\":\"overlay\",\"size\":10,\"solidity\":0.2}},\"type\":\"bar\"}],\"scattergeo\":[{\"type\":\"scattergeo\",\"marker\":{\"colorbar\":{\"outlinewidth\":0,\"ticks\":\"\"}}}],\"scatterpolar\":[{\"type\":\"scatterpolar\",\"marker\":{\"colorbar\":{\"outlinewidth\":0,\"ticks\":\"\"}}}],\"histogram\":[{\"marker\":{\"pattern\":{\"fillmode\":\"overlay\",\"size\":10,\"solidity\":0.2}},\"type\":\"histogram\"}],\"scattergl\":[{\"type\":\"scattergl\",\"marker\":{\"colorbar\":{\"outlinewidth\":0,\"ticks\":\"\"}}}],\"scatter3d\":[{\"type\":\"scatter3d\",\"line\":{\"colorbar\":{\"outlinewidth\":0,\"ticks\":\"\"}},\"marker\":{\"colorbar\":{\"outlinewidth\":0,\"ticks\":\"\"}}}],\"scattermapbox\":[{\"type\":\"scattermapbox\",\"marker\":{\"colorbar\":{\"outlinewidth\":0,\"ticks\":\"\"}}}],\"scatterternary\":[{\"type\":\"scatterternary\",\"marker\":{\"colorbar\":{\"outlinewidth\":0,\"ticks\":\"\"}}}],\"scattercarpet\":[{\"type\":\"scattercarpet\",\"marker\":{\"colorbar\":{\"outlinewidth\":0,\"ticks\":\"\"}}}],\"carpet\":[{\"aaxis\":{\"endlinecolor\":\"#2a3f5f\",\"gridcolor\":\"white\",\"linecolor\":\"white\",\"minorgridcolor\":\"white\",\"startlinecolor\":\"#2a3f5f\"},\"baxis\":{\"endlinecolor\":\"#2a3f5f\",\"gridcolor\":\"white\",\"linecolor\":\"white\",\"minorgridcolor\":\"white\",\"startlinecolor\":\"#2a3f5f\"},\"type\":\"carpet\"}],\"table\":[{\"cells\":{\"fill\":{\"color\":\"#EBF0F8\"},\"line\":{\"color\":\"white\"}},\"header\":{\"fill\":{\"color\":\"#C8D4E3\"},\"line\":{\"color\":\"white\"}},\"type\":\"table\"}],\"barpolar\":[{\"marker\":{\"line\":{\"color\":\"#E5ECF6\",\"width\":0.5},\"pattern\":{\"fillmode\":\"overlay\",\"size\":10,\"solidity\":0.2}},\"type\":\"barpolar\"}],\"pie\":[{\"automargin\":true,\"type\":\"pie\"}]},\"layout\":{\"autotypenumbers\":\"strict\",\"colorway\":[\"#636efa\",\"#EF553B\",\"#00cc96\",\"#ab63fa\",\"#FFA15A\",\"#19d3f3\",\"#FF6692\",\"#B6E880\",\"#FF97FF\",\"#FECB52\"],\"font\":{\"color\":\"#2a3f5f\"},\"hovermode\":\"closest\",\"hoverlabel\":{\"align\":\"left\"},\"paper_bgcolor\":\"white\",\"plot_bgcolor\":\"#E5ECF6\",\"polar\":{\"bgcolor\":\"#E5ECF6\",\"angularaxis\":{\"gridcolor\":\"white\",\"linecolor\":\"white\",\"ticks\":\"\"},\"radialaxis\":{\"gridcolor\":\"white\",\"linecolor\":\"white\",\"ticks\":\"\"}},\"ternary\":{\"bgcolor\":\"#E5ECF6\",\"aaxis\":{\"gridcolor\":\"white\",\"linecolor\":\"white\",\"ticks\":\"\"},\"baxis\":{\"gridcolor\":\"white\",\"linecolor\":\"white\",\"ticks\":\"\"},\"caxis\":{\"gridcolor\":\"white\",\"linecolor\":\"white\",\"ticks\":\"\"}},\"coloraxis\":{\"colorbar\":{\"outlinewidth\":0,\"ticks\":\"\"}},\"colorscale\":{\"sequential\":[[0.0,\"#0d0887\"],[0.1111111111111111,\"#46039f\"],[0.2222222222222222,\"#7201a8\"],[0.3333333333333333,\"#9c179e\"],[0.4444444444444444,\"#bd3786\"],[0.5555555555555556,\"#d8576b\"],[0.6666666666666666,\"#ed7953\"],[0.7777777777777778,\"#fb9f3a\"],[0.8888888888888888,\"#fdca26\"],[1.0,\"#f0f921\"]],\"sequentialminus\":[[0.0,\"#0d0887\"],[0.1111111111111111,\"#46039f\"],[0.2222222222222222,\"#7201a8\"],[0.3333333333333333,\"#9c179e\"],[0.4444444444444444,\"#bd3786\"],[0.5555555555555556,\"#d8576b\"],[0.6666666666666666,\"#ed7953\"],[0.7777777777777778,\"#fb9f3a\"],[0.8888888888888888,\"#fdca26\"],[1.0,\"#f0f921\"]],\"diverging\":[[0,\"#8e0152\"],[0.1,\"#c51b7d\"],[0.2,\"#de77ae\"],[0.3,\"#f1b6da\"],[0.4,\"#fde0ef\"],[0.5,\"#f7f7f7\"],[0.6,\"#e6f5d0\"],[0.7,\"#b8e186\"],[0.8,\"#7fbc41\"],[0.9,\"#4d9221\"],[1,\"#276419\"]]},\"xaxis\":{\"gridcolor\":\"white\",\"linecolor\":\"white\",\"ticks\":\"\",\"title\":{\"standoff\":15},\"zerolinecolor\":\"white\",\"automargin\":true,\"zerolinewidth\":2},\"yaxis\":{\"gridcolor\":\"white\",\"linecolor\":\"white\",\"ticks\":\"\",\"title\":{\"standoff\":15},\"zerolinecolor\":\"white\",\"automargin\":true,\"zerolinewidth\":2},\"scene\":{\"xaxis\":{\"backgroundcolor\":\"#E5ECF6\",\"gridcolor\":\"white\",\"linecolor\":\"white\",\"showbackground\":true,\"ticks\":\"\",\"zerolinecolor\":\"white\",\"gridwidth\":2},\"yaxis\":{\"backgroundcolor\":\"#E5ECF6\",\"gridcolor\":\"white\",\"linecolor\":\"white\",\"showbackground\":true,\"ticks\":\"\",\"zerolinecolor\":\"white\",\"gridwidth\":2},\"zaxis\":{\"backgroundcolor\":\"#E5ECF6\",\"gridcolor\":\"white\",\"linecolor\":\"white\",\"showbackground\":true,\"ticks\":\"\",\"zerolinecolor\":\"white\",\"gridwidth\":2}},\"shapedefaults\":{\"line\":{\"color\":\"#2a3f5f\"}},\"annotationdefaults\":{\"arrowcolor\":\"#2a3f5f\",\"arrowhead\":0,\"arrowwidth\":1},\"geo\":{\"bgcolor\":\"white\",\"landcolor\":\"#E5ECF6\",\"subunitcolor\":\"white\",\"showland\":true,\"showlakes\":true,\"lakecolor\":\"white\"},\"title\":{\"x\":0.05},\"mapbox\":{\"style\":\"light\"}}}},                        {\"responsive\": true}                    ).then(function(){\n",
              "                            \n",
              "var gd = document.getElementById('b7f67b9e-3727-49aa-ae01-836f5c365778');\n",
              "var x = new MutationObserver(function (mutations, observer) {{\n",
              "        var display = window.getComputedStyle(gd).display;\n",
              "        if (!display || display === 'none') {{\n",
              "            console.log([gd, 'removed!']);\n",
              "            Plotly.purge(gd);\n",
              "            observer.disconnect();\n",
              "        }}\n",
              "}});\n",
              "\n",
              "// Listen for the removal of the full notebook cells\n",
              "var notebookContainer = gd.closest('#notebook-container');\n",
              "if (notebookContainer) {{\n",
              "    x.observe(notebookContainer, {childList: true});\n",
              "}}\n",
              "\n",
              "// Listen for the clearing of the current output cell\n",
              "var outputEl = gd.closest('.output');\n",
              "if (outputEl) {{\n",
              "    x.observe(outputEl, {childList: true});\n",
              "}}\n",
              "\n",
              "                        })                };                            </script>        </div>\n",
              "</body>\n",
              "</html>"
            ]
          },
          "metadata": {},
          "output_type": "display_data"
        }
      ],
      "source": [
        "interpret_model(gbr, data=specific_rows3, plot='msa')"
      ]
    },
    {
      "cell_type": "code",
      "execution_count": null,
      "id": "BxSNnTWHV2RV",
      "metadata": {
        "colab": {
          "base_uri": "https://localhost:8080/",
          "height": 560
        },
        "id": "BxSNnTWHV2RV",
        "outputId": "ab029ab9-0d29-4711-fad6-f513dde28e61"
      },
      "outputs": [
        {
          "name": "stderr",
          "output_type": "stream",
          "text": [
            "14it [00:00, 49.75it/s]\n"
          ]
        },
        {
          "data": {
            "text/html": [
              "<html>\n",
              "<head><meta charset=\"utf-8\" /></head>\n",
              "<body>\n",
              "    <div>            <script src=\"https://cdnjs.cloudflare.com/ajax/libs/mathjax/2.7.5/MathJax.js?config=TeX-AMS-MML_SVG\"></script><script type=\"text/javascript\">if (window.MathJax && window.MathJax.Hub && window.MathJax.Hub.Config) {window.MathJax.Hub.Config({SVG: {font: \"STIX-Web\"}});}</script>                <script type=\"text/javascript\">window.PlotlyConfig = {MathJaxConfig: 'local'};</script>\n",
              "        <script charset=\"utf-8\" src=\"https://cdn.plot.ly/plotly-2.24.1.min.js\"></script>                <div id=\"270d633b-a6a2-4208-86e7-713e95d56e38\" class=\"plotly-graph-div\" style=\"height:525px; width:100%;\"></div>            <script type=\"text/javascript\">                                    window.PLOTLYENV=window.PLOTLYENV || {};                                    if (document.getElementById(\"270d633b-a6a2-4208-86e7-713e95d56e38\")) {                    Plotly.newPlot(                        \"270d633b-a6a2-4208-86e7-713e95d56e38\",                        [{\"marker\":{\"color\":[\"#1f77b4\",\"#ff7f0e\",\"#ff7f0e\",\"#1f77b4\",\"#ff7f0e\",\"#ff7f0e\",\"#ff7f0e\",\"#ff7f0e\",\"#1f77b4\",\"#1f77b4\",\"#ff7f0e\",\"#1f77b4\",\"#1f77b4\",\"#1f77b4\"]},\"orientation\":\"h\",\"x\":[-0.00024181375110404746,0.011031067431921115,0.01832854856864924,-0.026675216466164386,0.02695242124612446,0.029011279474570273,0.029867455820693778,0.03319479928557101,-0.042481584401006245,-0.0493291399317452,0.050228724475815056,-0.09503515086004322,-0.7980512988421822,-1.1989595561596917],\"y\":[\"2-theta 6\",\"relative_intensity 6\",\"2-theta 1\",\"Intensity 2\",\"Intensity 4\",\"2-theta 3\",\"FWHM 5\",\"2-theta 5\",\"Intensity 6\",\"Intensity 1\",\"2-theta 2\",\"Intensity 3\",\"relative_intensity 4\",\"DROP\"],\"type\":\"bar\"}],                        {\"title\":{\"text\":\"\"},\"xaxis\":{\"range\":[-1.1989595561596917,1.1989595561596917],\"title\":{\"text\":\"\"}},\"yaxis\":{\"automargin\":true,\"dtick\":1,\"title\":{\"text\":\"\"}},\"template\":{\"data\":{\"histogram2dcontour\":[{\"type\":\"histogram2dcontour\",\"colorbar\":{\"outlinewidth\":0,\"ticks\":\"\"},\"colorscale\":[[0.0,\"#0d0887\"],[0.1111111111111111,\"#46039f\"],[0.2222222222222222,\"#7201a8\"],[0.3333333333333333,\"#9c179e\"],[0.4444444444444444,\"#bd3786\"],[0.5555555555555556,\"#d8576b\"],[0.6666666666666666,\"#ed7953\"],[0.7777777777777778,\"#fb9f3a\"],[0.8888888888888888,\"#fdca26\"],[1.0,\"#f0f921\"]]}],\"choropleth\":[{\"type\":\"choropleth\",\"colorbar\":{\"outlinewidth\":0,\"ticks\":\"\"}}],\"histogram2d\":[{\"type\":\"histogram2d\",\"colorbar\":{\"outlinewidth\":0,\"ticks\":\"\"},\"colorscale\":[[0.0,\"#0d0887\"],[0.1111111111111111,\"#46039f\"],[0.2222222222222222,\"#7201a8\"],[0.3333333333333333,\"#9c179e\"],[0.4444444444444444,\"#bd3786\"],[0.5555555555555556,\"#d8576b\"],[0.6666666666666666,\"#ed7953\"],[0.7777777777777778,\"#fb9f3a\"],[0.8888888888888888,\"#fdca26\"],[1.0,\"#f0f921\"]]}],\"heatmap\":[{\"type\":\"heatmap\",\"colorbar\":{\"outlinewidth\":0,\"ticks\":\"\"},\"colorscale\":[[0.0,\"#0d0887\"],[0.1111111111111111,\"#46039f\"],[0.2222222222222222,\"#7201a8\"],[0.3333333333333333,\"#9c179e\"],[0.4444444444444444,\"#bd3786\"],[0.5555555555555556,\"#d8576b\"],[0.6666666666666666,\"#ed7953\"],[0.7777777777777778,\"#fb9f3a\"],[0.8888888888888888,\"#fdca26\"],[1.0,\"#f0f921\"]]}],\"heatmapgl\":[{\"type\":\"heatmapgl\",\"colorbar\":{\"outlinewidth\":0,\"ticks\":\"\"},\"colorscale\":[[0.0,\"#0d0887\"],[0.1111111111111111,\"#46039f\"],[0.2222222222222222,\"#7201a8\"],[0.3333333333333333,\"#9c179e\"],[0.4444444444444444,\"#bd3786\"],[0.5555555555555556,\"#d8576b\"],[0.6666666666666666,\"#ed7953\"],[0.7777777777777778,\"#fb9f3a\"],[0.8888888888888888,\"#fdca26\"],[1.0,\"#f0f921\"]]}],\"contourcarpet\":[{\"type\":\"contourcarpet\",\"colorbar\":{\"outlinewidth\":0,\"ticks\":\"\"}}],\"contour\":[{\"type\":\"contour\",\"colorbar\":{\"outlinewidth\":0,\"ticks\":\"\"},\"colorscale\":[[0.0,\"#0d0887\"],[0.1111111111111111,\"#46039f\"],[0.2222222222222222,\"#7201a8\"],[0.3333333333333333,\"#9c179e\"],[0.4444444444444444,\"#bd3786\"],[0.5555555555555556,\"#d8576b\"],[0.6666666666666666,\"#ed7953\"],[0.7777777777777778,\"#fb9f3a\"],[0.8888888888888888,\"#fdca26\"],[1.0,\"#f0f921\"]]}],\"surface\":[{\"type\":\"surface\",\"colorbar\":{\"outlinewidth\":0,\"ticks\":\"\"},\"colorscale\":[[0.0,\"#0d0887\"],[0.1111111111111111,\"#46039f\"],[0.2222222222222222,\"#7201a8\"],[0.3333333333333333,\"#9c179e\"],[0.4444444444444444,\"#bd3786\"],[0.5555555555555556,\"#d8576b\"],[0.6666666666666666,\"#ed7953\"],[0.7777777777777778,\"#fb9f3a\"],[0.8888888888888888,\"#fdca26\"],[1.0,\"#f0f921\"]]}],\"mesh3d\":[{\"type\":\"mesh3d\",\"colorbar\":{\"outlinewidth\":0,\"ticks\":\"\"}}],\"scatter\":[{\"fillpattern\":{\"fillmode\":\"overlay\",\"size\":10,\"solidity\":0.2},\"type\":\"scatter\"}],\"parcoords\":[{\"type\":\"parcoords\",\"line\":{\"colorbar\":{\"outlinewidth\":0,\"ticks\":\"\"}}}],\"scatterpolargl\":[{\"type\":\"scatterpolargl\",\"marker\":{\"colorbar\":{\"outlinewidth\":0,\"ticks\":\"\"}}}],\"bar\":[{\"error_x\":{\"color\":\"#2a3f5f\"},\"error_y\":{\"color\":\"#2a3f5f\"},\"marker\":{\"line\":{\"color\":\"#E5ECF6\",\"width\":0.5},\"pattern\":{\"fillmode\":\"overlay\",\"size\":10,\"solidity\":0.2}},\"type\":\"bar\"}],\"scattergeo\":[{\"type\":\"scattergeo\",\"marker\":{\"colorbar\":{\"outlinewidth\":0,\"ticks\":\"\"}}}],\"scatterpolar\":[{\"type\":\"scatterpolar\",\"marker\":{\"colorbar\":{\"outlinewidth\":0,\"ticks\":\"\"}}}],\"histogram\":[{\"marker\":{\"pattern\":{\"fillmode\":\"overlay\",\"size\":10,\"solidity\":0.2}},\"type\":\"histogram\"}],\"scattergl\":[{\"type\":\"scattergl\",\"marker\":{\"colorbar\":{\"outlinewidth\":0,\"ticks\":\"\"}}}],\"scatter3d\":[{\"type\":\"scatter3d\",\"line\":{\"colorbar\":{\"outlinewidth\":0,\"ticks\":\"\"}},\"marker\":{\"colorbar\":{\"outlinewidth\":0,\"ticks\":\"\"}}}],\"scattermapbox\":[{\"type\":\"scattermapbox\",\"marker\":{\"colorbar\":{\"outlinewidth\":0,\"ticks\":\"\"}}}],\"scatterternary\":[{\"type\":\"scatterternary\",\"marker\":{\"colorbar\":{\"outlinewidth\":0,\"ticks\":\"\"}}}],\"scattercarpet\":[{\"type\":\"scattercarpet\",\"marker\":{\"colorbar\":{\"outlinewidth\":0,\"ticks\":\"\"}}}],\"carpet\":[{\"aaxis\":{\"endlinecolor\":\"#2a3f5f\",\"gridcolor\":\"white\",\"linecolor\":\"white\",\"minorgridcolor\":\"white\",\"startlinecolor\":\"#2a3f5f\"},\"baxis\":{\"endlinecolor\":\"#2a3f5f\",\"gridcolor\":\"white\",\"linecolor\":\"white\",\"minorgridcolor\":\"white\",\"startlinecolor\":\"#2a3f5f\"},\"type\":\"carpet\"}],\"table\":[{\"cells\":{\"fill\":{\"color\":\"#EBF0F8\"},\"line\":{\"color\":\"white\"}},\"header\":{\"fill\":{\"color\":\"#C8D4E3\"},\"line\":{\"color\":\"white\"}},\"type\":\"table\"}],\"barpolar\":[{\"marker\":{\"line\":{\"color\":\"#E5ECF6\",\"width\":0.5},\"pattern\":{\"fillmode\":\"overlay\",\"size\":10,\"solidity\":0.2}},\"type\":\"barpolar\"}],\"pie\":[{\"automargin\":true,\"type\":\"pie\"}]},\"layout\":{\"autotypenumbers\":\"strict\",\"colorway\":[\"#636efa\",\"#EF553B\",\"#00cc96\",\"#ab63fa\",\"#FFA15A\",\"#19d3f3\",\"#FF6692\",\"#B6E880\",\"#FF97FF\",\"#FECB52\"],\"font\":{\"color\":\"#2a3f5f\"},\"hovermode\":\"closest\",\"hoverlabel\":{\"align\":\"left\"},\"paper_bgcolor\":\"white\",\"plot_bgcolor\":\"#E5ECF6\",\"polar\":{\"bgcolor\":\"#E5ECF6\",\"angularaxis\":{\"gridcolor\":\"white\",\"linecolor\":\"white\",\"ticks\":\"\"},\"radialaxis\":{\"gridcolor\":\"white\",\"linecolor\":\"white\",\"ticks\":\"\"}},\"ternary\":{\"bgcolor\":\"#E5ECF6\",\"aaxis\":{\"gridcolor\":\"white\",\"linecolor\":\"white\",\"ticks\":\"\"},\"baxis\":{\"gridcolor\":\"white\",\"linecolor\":\"white\",\"ticks\":\"\"},\"caxis\":{\"gridcolor\":\"white\",\"linecolor\":\"white\",\"ticks\":\"\"}},\"coloraxis\":{\"colorbar\":{\"outlinewidth\":0,\"ticks\":\"\"}},\"colorscale\":{\"sequential\":[[0.0,\"#0d0887\"],[0.1111111111111111,\"#46039f\"],[0.2222222222222222,\"#7201a8\"],[0.3333333333333333,\"#9c179e\"],[0.4444444444444444,\"#bd3786\"],[0.5555555555555556,\"#d8576b\"],[0.6666666666666666,\"#ed7953\"],[0.7777777777777778,\"#fb9f3a\"],[0.8888888888888888,\"#fdca26\"],[1.0,\"#f0f921\"]],\"sequentialminus\":[[0.0,\"#0d0887\"],[0.1111111111111111,\"#46039f\"],[0.2222222222222222,\"#7201a8\"],[0.3333333333333333,\"#9c179e\"],[0.4444444444444444,\"#bd3786\"],[0.5555555555555556,\"#d8576b\"],[0.6666666666666666,\"#ed7953\"],[0.7777777777777778,\"#fb9f3a\"],[0.8888888888888888,\"#fdca26\"],[1.0,\"#f0f921\"]],\"diverging\":[[0,\"#8e0152\"],[0.1,\"#c51b7d\"],[0.2,\"#de77ae\"],[0.3,\"#f1b6da\"],[0.4,\"#fde0ef\"],[0.5,\"#f7f7f7\"],[0.6,\"#e6f5d0\"],[0.7,\"#b8e186\"],[0.8,\"#7fbc41\"],[0.9,\"#4d9221\"],[1,\"#276419\"]]},\"xaxis\":{\"gridcolor\":\"white\",\"linecolor\":\"white\",\"ticks\":\"\",\"title\":{\"standoff\":15},\"zerolinecolor\":\"white\",\"automargin\":true,\"zerolinewidth\":2},\"yaxis\":{\"gridcolor\":\"white\",\"linecolor\":\"white\",\"ticks\":\"\",\"title\":{\"standoff\":15},\"zerolinecolor\":\"white\",\"automargin\":true,\"zerolinewidth\":2},\"scene\":{\"xaxis\":{\"backgroundcolor\":\"#E5ECF6\",\"gridcolor\":\"white\",\"linecolor\":\"white\",\"showbackground\":true,\"ticks\":\"\",\"zerolinecolor\":\"white\",\"gridwidth\":2},\"yaxis\":{\"backgroundcolor\":\"#E5ECF6\",\"gridcolor\":\"white\",\"linecolor\":\"white\",\"showbackground\":true,\"ticks\":\"\",\"zerolinecolor\":\"white\",\"gridwidth\":2},\"zaxis\":{\"backgroundcolor\":\"#E5ECF6\",\"gridcolor\":\"white\",\"linecolor\":\"white\",\"showbackground\":true,\"ticks\":\"\",\"zerolinecolor\":\"white\",\"gridwidth\":2}},\"shapedefaults\":{\"line\":{\"color\":\"#2a3f5f\"}},\"annotationdefaults\":{\"arrowcolor\":\"#2a3f5f\",\"arrowhead\":0,\"arrowwidth\":1},\"geo\":{\"bgcolor\":\"white\",\"landcolor\":\"#E5ECF6\",\"subunitcolor\":\"white\",\"showland\":true,\"showlakes\":true,\"lakecolor\":\"white\"},\"title\":{\"x\":0.05},\"mapbox\":{\"style\":\"light\"}}}},                        {\"responsive\": true}                    ).then(function(){\n",
              "                            \n",
              "var gd = document.getElementById('270d633b-a6a2-4208-86e7-713e95d56e38');\n",
              "var x = new MutationObserver(function (mutations, observer) {{\n",
              "        var display = window.getComputedStyle(gd).display;\n",
              "        if (!display || display === 'none') {{\n",
              "            console.log([gd, 'removed!']);\n",
              "            Plotly.purge(gd);\n",
              "            observer.disconnect();\n",
              "        }}\n",
              "}});\n",
              "\n",
              "// Listen for the removal of the full notebook cells\n",
              "var notebookContainer = gd.closest('#notebook-container');\n",
              "if (notebookContainer) {{\n",
              "    x.observe(notebookContainer, {childList: true});\n",
              "}}\n",
              "\n",
              "// Listen for the clearing of the current output cell\n",
              "var outputEl = gd.closest('.output');\n",
              "if (outputEl) {{\n",
              "    x.observe(outputEl, {childList: true});\n",
              "}}\n",
              "\n",
              "                        })                };                            </script>        </div>\n",
              "</body>\n",
              "</html>"
            ]
          },
          "metadata": {},
          "output_type": "display_data"
        }
      ],
      "source": [
        "#sample4\n",
        "specific_rows4 = x.iloc[[15,16,17,18,19,20], :]\n",
        "\n",
        "interpret_model(gbr, data=specific_rows4, plot='pfi')"
      ]
    },
    {
      "cell_type": "code",
      "execution_count": null,
      "id": "4ZUjDrnPdSSd",
      "metadata": {
        "colab": {
          "base_uri": "https://localhost:8080/",
          "height": 542
        },
        "id": "4ZUjDrnPdSSd",
        "outputId": "80a5d71c-080f-4c15-9ce1-96ca7b7eebc8"
      },
      "outputs": [
        {
          "data": {
            "text/html": [
              "<html>\n",
              "<head><meta charset=\"utf-8\" /></head>\n",
              "<body>\n",
              "    <div>            <script src=\"https://cdnjs.cloudflare.com/ajax/libs/mathjax/2.7.5/MathJax.js?config=TeX-AMS-MML_SVG\"></script><script type=\"text/javascript\">if (window.MathJax && window.MathJax.Hub && window.MathJax.Hub.Config) {window.MathJax.Hub.Config({SVG: {font: \"STIX-Web\"}});}</script>                <script type=\"text/javascript\">window.PlotlyConfig = {MathJaxConfig: 'local'};</script>\n",
              "        <script charset=\"utf-8\" src=\"https://cdn.plot.ly/plotly-2.24.1.min.js\"></script>                <div id=\"a5bfe376-93ff-456d-b219-31891f133836\" class=\"plotly-graph-div\" style=\"height:525px; width:100%;\"></div>            <script type=\"text/javascript\">                                    window.PLOTLYENV=window.PLOTLYENV || {};                                    if (document.getElementById(\"a5bfe376-93ff-456d-b219-31891f133836\")) {                    Plotly.newPlot(                        \"a5bfe376-93ff-456d-b219-31891f133836\",                        [{\"marker\":{\"color\":[\"#ff7f0e\",\"#ff7f0e\",\"#ff7f0e\",\"#ff7f0e\",\"#ff7f0e\",\"#ff7f0e\",\"#ff7f0e\",\"#ff7f0e\",\"#ff7f0e\",\"#ff7f0e\",\"#ff7f0e\",\"#ff7f0e\",\"#ff7f0e\",\"#ff7f0e\"]},\"orientation\":\"h\",\"x\":[0.10519467683939528,0.1552433923881878,0.1560830412425908,0.16440728723924153,0.1978225061555042,0.24833113116123093,0.25754121596789714,0.3020721276428415,0.31022334260468454,0.34290536824548956,0.44409072210070005,0.5282131557684175,2.9459514832308646,3.1410370075827454],\"y\":[\"Intensity 6\",\"2-theta 3\",\"Intensity 4\",\"2-theta 5\",\"relative_intensity 6\",\"FWHM 5\",\"Intensity 1\",\"Intensity 3\",\"2-theta 1\",\"2-theta 6\",\"Intensity 2\",\"2-theta 2\",\"DROP\",\"relative_intensity 4\"],\"type\":\"bar\"}],                        {\"title\":{\"text\":\"Morris Sensitivity\\u003cbr\\u003eConvergence Index: 0.092\"},\"xaxis\":{\"range\":[0,3.1410370075827454],\"title\":{\"text\":\"\"}},\"yaxis\":{\"automargin\":true,\"dtick\":1,\"title\":{\"text\":\"\"}},\"template\":{\"data\":{\"histogram2dcontour\":[{\"type\":\"histogram2dcontour\",\"colorbar\":{\"outlinewidth\":0,\"ticks\":\"\"},\"colorscale\":[[0.0,\"#0d0887\"],[0.1111111111111111,\"#46039f\"],[0.2222222222222222,\"#7201a8\"],[0.3333333333333333,\"#9c179e\"],[0.4444444444444444,\"#bd3786\"],[0.5555555555555556,\"#d8576b\"],[0.6666666666666666,\"#ed7953\"],[0.7777777777777778,\"#fb9f3a\"],[0.8888888888888888,\"#fdca26\"],[1.0,\"#f0f921\"]]}],\"choropleth\":[{\"type\":\"choropleth\",\"colorbar\":{\"outlinewidth\":0,\"ticks\":\"\"}}],\"histogram2d\":[{\"type\":\"histogram2d\",\"colorbar\":{\"outlinewidth\":0,\"ticks\":\"\"},\"colorscale\":[[0.0,\"#0d0887\"],[0.1111111111111111,\"#46039f\"],[0.2222222222222222,\"#7201a8\"],[0.3333333333333333,\"#9c179e\"],[0.4444444444444444,\"#bd3786\"],[0.5555555555555556,\"#d8576b\"],[0.6666666666666666,\"#ed7953\"],[0.7777777777777778,\"#fb9f3a\"],[0.8888888888888888,\"#fdca26\"],[1.0,\"#f0f921\"]]}],\"heatmap\":[{\"type\":\"heatmap\",\"colorbar\":{\"outlinewidth\":0,\"ticks\":\"\"},\"colorscale\":[[0.0,\"#0d0887\"],[0.1111111111111111,\"#46039f\"],[0.2222222222222222,\"#7201a8\"],[0.3333333333333333,\"#9c179e\"],[0.4444444444444444,\"#bd3786\"],[0.5555555555555556,\"#d8576b\"],[0.6666666666666666,\"#ed7953\"],[0.7777777777777778,\"#fb9f3a\"],[0.8888888888888888,\"#fdca26\"],[1.0,\"#f0f921\"]]}],\"heatmapgl\":[{\"type\":\"heatmapgl\",\"colorbar\":{\"outlinewidth\":0,\"ticks\":\"\"},\"colorscale\":[[0.0,\"#0d0887\"],[0.1111111111111111,\"#46039f\"],[0.2222222222222222,\"#7201a8\"],[0.3333333333333333,\"#9c179e\"],[0.4444444444444444,\"#bd3786\"],[0.5555555555555556,\"#d8576b\"],[0.6666666666666666,\"#ed7953\"],[0.7777777777777778,\"#fb9f3a\"],[0.8888888888888888,\"#fdca26\"],[1.0,\"#f0f921\"]]}],\"contourcarpet\":[{\"type\":\"contourcarpet\",\"colorbar\":{\"outlinewidth\":0,\"ticks\":\"\"}}],\"contour\":[{\"type\":\"contour\",\"colorbar\":{\"outlinewidth\":0,\"ticks\":\"\"},\"colorscale\":[[0.0,\"#0d0887\"],[0.1111111111111111,\"#46039f\"],[0.2222222222222222,\"#7201a8\"],[0.3333333333333333,\"#9c179e\"],[0.4444444444444444,\"#bd3786\"],[0.5555555555555556,\"#d8576b\"],[0.6666666666666666,\"#ed7953\"],[0.7777777777777778,\"#fb9f3a\"],[0.8888888888888888,\"#fdca26\"],[1.0,\"#f0f921\"]]}],\"surface\":[{\"type\":\"surface\",\"colorbar\":{\"outlinewidth\":0,\"ticks\":\"\"},\"colorscale\":[[0.0,\"#0d0887\"],[0.1111111111111111,\"#46039f\"],[0.2222222222222222,\"#7201a8\"],[0.3333333333333333,\"#9c179e\"],[0.4444444444444444,\"#bd3786\"],[0.5555555555555556,\"#d8576b\"],[0.6666666666666666,\"#ed7953\"],[0.7777777777777778,\"#fb9f3a\"],[0.8888888888888888,\"#fdca26\"],[1.0,\"#f0f921\"]]}],\"mesh3d\":[{\"type\":\"mesh3d\",\"colorbar\":{\"outlinewidth\":0,\"ticks\":\"\"}}],\"scatter\":[{\"fillpattern\":{\"fillmode\":\"overlay\",\"size\":10,\"solidity\":0.2},\"type\":\"scatter\"}],\"parcoords\":[{\"type\":\"parcoords\",\"line\":{\"colorbar\":{\"outlinewidth\":0,\"ticks\":\"\"}}}],\"scatterpolargl\":[{\"type\":\"scatterpolargl\",\"marker\":{\"colorbar\":{\"outlinewidth\":0,\"ticks\":\"\"}}}],\"bar\":[{\"error_x\":{\"color\":\"#2a3f5f\"},\"error_y\":{\"color\":\"#2a3f5f\"},\"marker\":{\"line\":{\"color\":\"#E5ECF6\",\"width\":0.5},\"pattern\":{\"fillmode\":\"overlay\",\"size\":10,\"solidity\":0.2}},\"type\":\"bar\"}],\"scattergeo\":[{\"type\":\"scattergeo\",\"marker\":{\"colorbar\":{\"outlinewidth\":0,\"ticks\":\"\"}}}],\"scatterpolar\":[{\"type\":\"scatterpolar\",\"marker\":{\"colorbar\":{\"outlinewidth\":0,\"ticks\":\"\"}}}],\"histogram\":[{\"marker\":{\"pattern\":{\"fillmode\":\"overlay\",\"size\":10,\"solidity\":0.2}},\"type\":\"histogram\"}],\"scattergl\":[{\"type\":\"scattergl\",\"marker\":{\"colorbar\":{\"outlinewidth\":0,\"ticks\":\"\"}}}],\"scatter3d\":[{\"type\":\"scatter3d\",\"line\":{\"colorbar\":{\"outlinewidth\":0,\"ticks\":\"\"}},\"marker\":{\"colorbar\":{\"outlinewidth\":0,\"ticks\":\"\"}}}],\"scattermapbox\":[{\"type\":\"scattermapbox\",\"marker\":{\"colorbar\":{\"outlinewidth\":0,\"ticks\":\"\"}}}],\"scatterternary\":[{\"type\":\"scatterternary\",\"marker\":{\"colorbar\":{\"outlinewidth\":0,\"ticks\":\"\"}}}],\"scattercarpet\":[{\"type\":\"scattercarpet\",\"marker\":{\"colorbar\":{\"outlinewidth\":0,\"ticks\":\"\"}}}],\"carpet\":[{\"aaxis\":{\"endlinecolor\":\"#2a3f5f\",\"gridcolor\":\"white\",\"linecolor\":\"white\",\"minorgridcolor\":\"white\",\"startlinecolor\":\"#2a3f5f\"},\"baxis\":{\"endlinecolor\":\"#2a3f5f\",\"gridcolor\":\"white\",\"linecolor\":\"white\",\"minorgridcolor\":\"white\",\"startlinecolor\":\"#2a3f5f\"},\"type\":\"carpet\"}],\"table\":[{\"cells\":{\"fill\":{\"color\":\"#EBF0F8\"},\"line\":{\"color\":\"white\"}},\"header\":{\"fill\":{\"color\":\"#C8D4E3\"},\"line\":{\"color\":\"white\"}},\"type\":\"table\"}],\"barpolar\":[{\"marker\":{\"line\":{\"color\":\"#E5ECF6\",\"width\":0.5},\"pattern\":{\"fillmode\":\"overlay\",\"size\":10,\"solidity\":0.2}},\"type\":\"barpolar\"}],\"pie\":[{\"automargin\":true,\"type\":\"pie\"}]},\"layout\":{\"autotypenumbers\":\"strict\",\"colorway\":[\"#636efa\",\"#EF553B\",\"#00cc96\",\"#ab63fa\",\"#FFA15A\",\"#19d3f3\",\"#FF6692\",\"#B6E880\",\"#FF97FF\",\"#FECB52\"],\"font\":{\"color\":\"#2a3f5f\"},\"hovermode\":\"closest\",\"hoverlabel\":{\"align\":\"left\"},\"paper_bgcolor\":\"white\",\"plot_bgcolor\":\"#E5ECF6\",\"polar\":{\"bgcolor\":\"#E5ECF6\",\"angularaxis\":{\"gridcolor\":\"white\",\"linecolor\":\"white\",\"ticks\":\"\"},\"radialaxis\":{\"gridcolor\":\"white\",\"linecolor\":\"white\",\"ticks\":\"\"}},\"ternary\":{\"bgcolor\":\"#E5ECF6\",\"aaxis\":{\"gridcolor\":\"white\",\"linecolor\":\"white\",\"ticks\":\"\"},\"baxis\":{\"gridcolor\":\"white\",\"linecolor\":\"white\",\"ticks\":\"\"},\"caxis\":{\"gridcolor\":\"white\",\"linecolor\":\"white\",\"ticks\":\"\"}},\"coloraxis\":{\"colorbar\":{\"outlinewidth\":0,\"ticks\":\"\"}},\"colorscale\":{\"sequential\":[[0.0,\"#0d0887\"],[0.1111111111111111,\"#46039f\"],[0.2222222222222222,\"#7201a8\"],[0.3333333333333333,\"#9c179e\"],[0.4444444444444444,\"#bd3786\"],[0.5555555555555556,\"#d8576b\"],[0.6666666666666666,\"#ed7953\"],[0.7777777777777778,\"#fb9f3a\"],[0.8888888888888888,\"#fdca26\"],[1.0,\"#f0f921\"]],\"sequentialminus\":[[0.0,\"#0d0887\"],[0.1111111111111111,\"#46039f\"],[0.2222222222222222,\"#7201a8\"],[0.3333333333333333,\"#9c179e\"],[0.4444444444444444,\"#bd3786\"],[0.5555555555555556,\"#d8576b\"],[0.6666666666666666,\"#ed7953\"],[0.7777777777777778,\"#fb9f3a\"],[0.8888888888888888,\"#fdca26\"],[1.0,\"#f0f921\"]],\"diverging\":[[0,\"#8e0152\"],[0.1,\"#c51b7d\"],[0.2,\"#de77ae\"],[0.3,\"#f1b6da\"],[0.4,\"#fde0ef\"],[0.5,\"#f7f7f7\"],[0.6,\"#e6f5d0\"],[0.7,\"#b8e186\"],[0.8,\"#7fbc41\"],[0.9,\"#4d9221\"],[1,\"#276419\"]]},\"xaxis\":{\"gridcolor\":\"white\",\"linecolor\":\"white\",\"ticks\":\"\",\"title\":{\"standoff\":15},\"zerolinecolor\":\"white\",\"automargin\":true,\"zerolinewidth\":2},\"yaxis\":{\"gridcolor\":\"white\",\"linecolor\":\"white\",\"ticks\":\"\",\"title\":{\"standoff\":15},\"zerolinecolor\":\"white\",\"automargin\":true,\"zerolinewidth\":2},\"scene\":{\"xaxis\":{\"backgroundcolor\":\"#E5ECF6\",\"gridcolor\":\"white\",\"linecolor\":\"white\",\"showbackground\":true,\"ticks\":\"\",\"zerolinecolor\":\"white\",\"gridwidth\":2},\"yaxis\":{\"backgroundcolor\":\"#E5ECF6\",\"gridcolor\":\"white\",\"linecolor\":\"white\",\"showbackground\":true,\"ticks\":\"\",\"zerolinecolor\":\"white\",\"gridwidth\":2},\"zaxis\":{\"backgroundcolor\":\"#E5ECF6\",\"gridcolor\":\"white\",\"linecolor\":\"white\",\"showbackground\":true,\"ticks\":\"\",\"zerolinecolor\":\"white\",\"gridwidth\":2}},\"shapedefaults\":{\"line\":{\"color\":\"#2a3f5f\"}},\"annotationdefaults\":{\"arrowcolor\":\"#2a3f5f\",\"arrowhead\":0,\"arrowwidth\":1},\"geo\":{\"bgcolor\":\"white\",\"landcolor\":\"#E5ECF6\",\"subunitcolor\":\"white\",\"showland\":true,\"showlakes\":true,\"lakecolor\":\"white\"},\"title\":{\"x\":0.05},\"mapbox\":{\"style\":\"light\"}}}},                        {\"responsive\": true}                    ).then(function(){\n",
              "                            \n",
              "var gd = document.getElementById('a5bfe376-93ff-456d-b219-31891f133836');\n",
              "var x = new MutationObserver(function (mutations, observer) {{\n",
              "        var display = window.getComputedStyle(gd).display;\n",
              "        if (!display || display === 'none') {{\n",
              "            console.log([gd, 'removed!']);\n",
              "            Plotly.purge(gd);\n",
              "            observer.disconnect();\n",
              "        }}\n",
              "}});\n",
              "\n",
              "// Listen for the removal of the full notebook cells\n",
              "var notebookContainer = gd.closest('#notebook-container');\n",
              "if (notebookContainer) {{\n",
              "    x.observe(notebookContainer, {childList: true});\n",
              "}}\n",
              "\n",
              "// Listen for the clearing of the current output cell\n",
              "var outputEl = gd.closest('.output');\n",
              "if (outputEl) {{\n",
              "    x.observe(outputEl, {childList: true});\n",
              "}}\n",
              "\n",
              "                        })                };                            </script>        </div>\n",
              "</body>\n",
              "</html>"
            ]
          },
          "metadata": {},
          "output_type": "display_data"
        }
      ],
      "source": [
        "interpret_model(gbr, data=specific_rows4, plot='msa')"
      ]
    },
    {
      "cell_type": "code",
      "execution_count": null,
      "id": "wWZdBFz1WDk-",
      "metadata": {
        "colab": {
          "base_uri": "https://localhost:8080/",
          "height": 560
        },
        "id": "wWZdBFz1WDk-",
        "outputId": "9aab1346-50b9-490a-c6c8-3f001cc67fcc"
      },
      "outputs": [
        {
          "name": "stderr",
          "output_type": "stream",
          "text": [
            "14it [00:00, 96.12it/s]\n"
          ]
        },
        {
          "data": {
            "text/html": [
              "<html>\n",
              "<head><meta charset=\"utf-8\" /></head>\n",
              "<body>\n",
              "    <div>            <script src=\"https://cdnjs.cloudflare.com/ajax/libs/mathjax/2.7.5/MathJax.js?config=TeX-AMS-MML_SVG\"></script><script type=\"text/javascript\">if (window.MathJax && window.MathJax.Hub && window.MathJax.Hub.Config) {window.MathJax.Hub.Config({SVG: {font: \"STIX-Web\"}});}</script>                <script type=\"text/javascript\">window.PlotlyConfig = {MathJaxConfig: 'local'};</script>\n",
              "        <script charset=\"utf-8\" src=\"https://cdn.plot.ly/plotly-2.24.1.min.js\"></script>                <div id=\"af8b0b86-a177-4b42-b8ab-628e1636e417\" class=\"plotly-graph-div\" style=\"height:525px; width:100%;\"></div>            <script type=\"text/javascript\">                                    window.PLOTLYENV=window.PLOTLYENV || {};                                    if (document.getElementById(\"af8b0b86-a177-4b42-b8ab-628e1636e417\")) {                    Plotly.newPlot(                        \"af8b0b86-a177-4b42-b8ab-628e1636e417\",                        [{\"marker\":{\"color\":[\"#1f77b4\",\"#ff7f0e\",\"#ff7f0e\",\"#1f77b4\",\"#ff7f0e\",\"#ff7f0e\",\"#ff7f0e\",\"#ff7f0e\",\"#1f77b4\",\"#1f77b4\",\"#ff7f0e\",\"#1f77b4\",\"#1f77b4\",\"#1f77b4\"]},\"orientation\":\"h\",\"x\":[-0.00024181375110404746,0.011031067431921115,0.01832854856864924,-0.026675216466164386,0.02695242124612446,0.029011279474570273,0.029867455820693778,0.03319479928557101,-0.042481584401006245,-0.0493291399317452,0.050228724475815056,-0.09503515086004322,-0.7980512988421822,-1.1989595561596917],\"y\":[\"2-theta 6\",\"relative_intensity 6\",\"2-theta 1\",\"Intensity 2\",\"Intensity 4\",\"2-theta 3\",\"FWHM 5\",\"2-theta 5\",\"Intensity 6\",\"Intensity 1\",\"2-theta 2\",\"Intensity 3\",\"relative_intensity 4\",\"DROP\"],\"type\":\"bar\"}],                        {\"title\":{\"text\":\"\"},\"xaxis\":{\"range\":[-1.1989595561596917,1.1989595561596917],\"title\":{\"text\":\"\"}},\"yaxis\":{\"automargin\":true,\"dtick\":1,\"title\":{\"text\":\"\"}},\"template\":{\"data\":{\"histogram2dcontour\":[{\"type\":\"histogram2dcontour\",\"colorbar\":{\"outlinewidth\":0,\"ticks\":\"\"},\"colorscale\":[[0.0,\"#0d0887\"],[0.1111111111111111,\"#46039f\"],[0.2222222222222222,\"#7201a8\"],[0.3333333333333333,\"#9c179e\"],[0.4444444444444444,\"#bd3786\"],[0.5555555555555556,\"#d8576b\"],[0.6666666666666666,\"#ed7953\"],[0.7777777777777778,\"#fb9f3a\"],[0.8888888888888888,\"#fdca26\"],[1.0,\"#f0f921\"]]}],\"choropleth\":[{\"type\":\"choropleth\",\"colorbar\":{\"outlinewidth\":0,\"ticks\":\"\"}}],\"histogram2d\":[{\"type\":\"histogram2d\",\"colorbar\":{\"outlinewidth\":0,\"ticks\":\"\"},\"colorscale\":[[0.0,\"#0d0887\"],[0.1111111111111111,\"#46039f\"],[0.2222222222222222,\"#7201a8\"],[0.3333333333333333,\"#9c179e\"],[0.4444444444444444,\"#bd3786\"],[0.5555555555555556,\"#d8576b\"],[0.6666666666666666,\"#ed7953\"],[0.7777777777777778,\"#fb9f3a\"],[0.8888888888888888,\"#fdca26\"],[1.0,\"#f0f921\"]]}],\"heatmap\":[{\"type\":\"heatmap\",\"colorbar\":{\"outlinewidth\":0,\"ticks\":\"\"},\"colorscale\":[[0.0,\"#0d0887\"],[0.1111111111111111,\"#46039f\"],[0.2222222222222222,\"#7201a8\"],[0.3333333333333333,\"#9c179e\"],[0.4444444444444444,\"#bd3786\"],[0.5555555555555556,\"#d8576b\"],[0.6666666666666666,\"#ed7953\"],[0.7777777777777778,\"#fb9f3a\"],[0.8888888888888888,\"#fdca26\"],[1.0,\"#f0f921\"]]}],\"heatmapgl\":[{\"type\":\"heatmapgl\",\"colorbar\":{\"outlinewidth\":0,\"ticks\":\"\"},\"colorscale\":[[0.0,\"#0d0887\"],[0.1111111111111111,\"#46039f\"],[0.2222222222222222,\"#7201a8\"],[0.3333333333333333,\"#9c179e\"],[0.4444444444444444,\"#bd3786\"],[0.5555555555555556,\"#d8576b\"],[0.6666666666666666,\"#ed7953\"],[0.7777777777777778,\"#fb9f3a\"],[0.8888888888888888,\"#fdca26\"],[1.0,\"#f0f921\"]]}],\"contourcarpet\":[{\"type\":\"contourcarpet\",\"colorbar\":{\"outlinewidth\":0,\"ticks\":\"\"}}],\"contour\":[{\"type\":\"contour\",\"colorbar\":{\"outlinewidth\":0,\"ticks\":\"\"},\"colorscale\":[[0.0,\"#0d0887\"],[0.1111111111111111,\"#46039f\"],[0.2222222222222222,\"#7201a8\"],[0.3333333333333333,\"#9c179e\"],[0.4444444444444444,\"#bd3786\"],[0.5555555555555556,\"#d8576b\"],[0.6666666666666666,\"#ed7953\"],[0.7777777777777778,\"#fb9f3a\"],[0.8888888888888888,\"#fdca26\"],[1.0,\"#f0f921\"]]}],\"surface\":[{\"type\":\"surface\",\"colorbar\":{\"outlinewidth\":0,\"ticks\":\"\"},\"colorscale\":[[0.0,\"#0d0887\"],[0.1111111111111111,\"#46039f\"],[0.2222222222222222,\"#7201a8\"],[0.3333333333333333,\"#9c179e\"],[0.4444444444444444,\"#bd3786\"],[0.5555555555555556,\"#d8576b\"],[0.6666666666666666,\"#ed7953\"],[0.7777777777777778,\"#fb9f3a\"],[0.8888888888888888,\"#fdca26\"],[1.0,\"#f0f921\"]]}],\"mesh3d\":[{\"type\":\"mesh3d\",\"colorbar\":{\"outlinewidth\":0,\"ticks\":\"\"}}],\"scatter\":[{\"fillpattern\":{\"fillmode\":\"overlay\",\"size\":10,\"solidity\":0.2},\"type\":\"scatter\"}],\"parcoords\":[{\"type\":\"parcoords\",\"line\":{\"colorbar\":{\"outlinewidth\":0,\"ticks\":\"\"}}}],\"scatterpolargl\":[{\"type\":\"scatterpolargl\",\"marker\":{\"colorbar\":{\"outlinewidth\":0,\"ticks\":\"\"}}}],\"bar\":[{\"error_x\":{\"color\":\"#2a3f5f\"},\"error_y\":{\"color\":\"#2a3f5f\"},\"marker\":{\"line\":{\"color\":\"#E5ECF6\",\"width\":0.5},\"pattern\":{\"fillmode\":\"overlay\",\"size\":10,\"solidity\":0.2}},\"type\":\"bar\"}],\"scattergeo\":[{\"type\":\"scattergeo\",\"marker\":{\"colorbar\":{\"outlinewidth\":0,\"ticks\":\"\"}}}],\"scatterpolar\":[{\"type\":\"scatterpolar\",\"marker\":{\"colorbar\":{\"outlinewidth\":0,\"ticks\":\"\"}}}],\"histogram\":[{\"marker\":{\"pattern\":{\"fillmode\":\"overlay\",\"size\":10,\"solidity\":0.2}},\"type\":\"histogram\"}],\"scattergl\":[{\"type\":\"scattergl\",\"marker\":{\"colorbar\":{\"outlinewidth\":0,\"ticks\":\"\"}}}],\"scatter3d\":[{\"type\":\"scatter3d\",\"line\":{\"colorbar\":{\"outlinewidth\":0,\"ticks\":\"\"}},\"marker\":{\"colorbar\":{\"outlinewidth\":0,\"ticks\":\"\"}}}],\"scattermapbox\":[{\"type\":\"scattermapbox\",\"marker\":{\"colorbar\":{\"outlinewidth\":0,\"ticks\":\"\"}}}],\"scatterternary\":[{\"type\":\"scatterternary\",\"marker\":{\"colorbar\":{\"outlinewidth\":0,\"ticks\":\"\"}}}],\"scattercarpet\":[{\"type\":\"scattercarpet\",\"marker\":{\"colorbar\":{\"outlinewidth\":0,\"ticks\":\"\"}}}],\"carpet\":[{\"aaxis\":{\"endlinecolor\":\"#2a3f5f\",\"gridcolor\":\"white\",\"linecolor\":\"white\",\"minorgridcolor\":\"white\",\"startlinecolor\":\"#2a3f5f\"},\"baxis\":{\"endlinecolor\":\"#2a3f5f\",\"gridcolor\":\"white\",\"linecolor\":\"white\",\"minorgridcolor\":\"white\",\"startlinecolor\":\"#2a3f5f\"},\"type\":\"carpet\"}],\"table\":[{\"cells\":{\"fill\":{\"color\":\"#EBF0F8\"},\"line\":{\"color\":\"white\"}},\"header\":{\"fill\":{\"color\":\"#C8D4E3\"},\"line\":{\"color\":\"white\"}},\"type\":\"table\"}],\"barpolar\":[{\"marker\":{\"line\":{\"color\":\"#E5ECF6\",\"width\":0.5},\"pattern\":{\"fillmode\":\"overlay\",\"size\":10,\"solidity\":0.2}},\"type\":\"barpolar\"}],\"pie\":[{\"automargin\":true,\"type\":\"pie\"}]},\"layout\":{\"autotypenumbers\":\"strict\",\"colorway\":[\"#636efa\",\"#EF553B\",\"#00cc96\",\"#ab63fa\",\"#FFA15A\",\"#19d3f3\",\"#FF6692\",\"#B6E880\",\"#FF97FF\",\"#FECB52\"],\"font\":{\"color\":\"#2a3f5f\"},\"hovermode\":\"closest\",\"hoverlabel\":{\"align\":\"left\"},\"paper_bgcolor\":\"white\",\"plot_bgcolor\":\"#E5ECF6\",\"polar\":{\"bgcolor\":\"#E5ECF6\",\"angularaxis\":{\"gridcolor\":\"white\",\"linecolor\":\"white\",\"ticks\":\"\"},\"radialaxis\":{\"gridcolor\":\"white\",\"linecolor\":\"white\",\"ticks\":\"\"}},\"ternary\":{\"bgcolor\":\"#E5ECF6\",\"aaxis\":{\"gridcolor\":\"white\",\"linecolor\":\"white\",\"ticks\":\"\"},\"baxis\":{\"gridcolor\":\"white\",\"linecolor\":\"white\",\"ticks\":\"\"},\"caxis\":{\"gridcolor\":\"white\",\"linecolor\":\"white\",\"ticks\":\"\"}},\"coloraxis\":{\"colorbar\":{\"outlinewidth\":0,\"ticks\":\"\"}},\"colorscale\":{\"sequential\":[[0.0,\"#0d0887\"],[0.1111111111111111,\"#46039f\"],[0.2222222222222222,\"#7201a8\"],[0.3333333333333333,\"#9c179e\"],[0.4444444444444444,\"#bd3786\"],[0.5555555555555556,\"#d8576b\"],[0.6666666666666666,\"#ed7953\"],[0.7777777777777778,\"#fb9f3a\"],[0.8888888888888888,\"#fdca26\"],[1.0,\"#f0f921\"]],\"sequentialminus\":[[0.0,\"#0d0887\"],[0.1111111111111111,\"#46039f\"],[0.2222222222222222,\"#7201a8\"],[0.3333333333333333,\"#9c179e\"],[0.4444444444444444,\"#bd3786\"],[0.5555555555555556,\"#d8576b\"],[0.6666666666666666,\"#ed7953\"],[0.7777777777777778,\"#fb9f3a\"],[0.8888888888888888,\"#fdca26\"],[1.0,\"#f0f921\"]],\"diverging\":[[0,\"#8e0152\"],[0.1,\"#c51b7d\"],[0.2,\"#de77ae\"],[0.3,\"#f1b6da\"],[0.4,\"#fde0ef\"],[0.5,\"#f7f7f7\"],[0.6,\"#e6f5d0\"],[0.7,\"#b8e186\"],[0.8,\"#7fbc41\"],[0.9,\"#4d9221\"],[1,\"#276419\"]]},\"xaxis\":{\"gridcolor\":\"white\",\"linecolor\":\"white\",\"ticks\":\"\",\"title\":{\"standoff\":15},\"zerolinecolor\":\"white\",\"automargin\":true,\"zerolinewidth\":2},\"yaxis\":{\"gridcolor\":\"white\",\"linecolor\":\"white\",\"ticks\":\"\",\"title\":{\"standoff\":15},\"zerolinecolor\":\"white\",\"automargin\":true,\"zerolinewidth\":2},\"scene\":{\"xaxis\":{\"backgroundcolor\":\"#E5ECF6\",\"gridcolor\":\"white\",\"linecolor\":\"white\",\"showbackground\":true,\"ticks\":\"\",\"zerolinecolor\":\"white\",\"gridwidth\":2},\"yaxis\":{\"backgroundcolor\":\"#E5ECF6\",\"gridcolor\":\"white\",\"linecolor\":\"white\",\"showbackground\":true,\"ticks\":\"\",\"zerolinecolor\":\"white\",\"gridwidth\":2},\"zaxis\":{\"backgroundcolor\":\"#E5ECF6\",\"gridcolor\":\"white\",\"linecolor\":\"white\",\"showbackground\":true,\"ticks\":\"\",\"zerolinecolor\":\"white\",\"gridwidth\":2}},\"shapedefaults\":{\"line\":{\"color\":\"#2a3f5f\"}},\"annotationdefaults\":{\"arrowcolor\":\"#2a3f5f\",\"arrowhead\":0,\"arrowwidth\":1},\"geo\":{\"bgcolor\":\"white\",\"landcolor\":\"#E5ECF6\",\"subunitcolor\":\"white\",\"showland\":true,\"showlakes\":true,\"lakecolor\":\"white\"},\"title\":{\"x\":0.05},\"mapbox\":{\"style\":\"light\"}}}},                        {\"responsive\": true}                    ).then(function(){\n",
              "                            \n",
              "var gd = document.getElementById('af8b0b86-a177-4b42-b8ab-628e1636e417');\n",
              "var x = new MutationObserver(function (mutations, observer) {{\n",
              "        var display = window.getComputedStyle(gd).display;\n",
              "        if (!display || display === 'none') {{\n",
              "            console.log([gd, 'removed!']);\n",
              "            Plotly.purge(gd);\n",
              "            observer.disconnect();\n",
              "        }}\n",
              "}});\n",
              "\n",
              "// Listen for the removal of the full notebook cells\n",
              "var notebookContainer = gd.closest('#notebook-container');\n",
              "if (notebookContainer) {{\n",
              "    x.observe(notebookContainer, {childList: true});\n",
              "}}\n",
              "\n",
              "// Listen for the clearing of the current output cell\n",
              "var outputEl = gd.closest('.output');\n",
              "if (outputEl) {{\n",
              "    x.observe(outputEl, {childList: true});\n",
              "}}\n",
              "\n",
              "                        })                };                            </script>        </div>\n",
              "</body>\n",
              "</html>"
            ]
          },
          "metadata": {},
          "output_type": "display_data"
        }
      ],
      "source": [
        "#sample5\n",
        "specific_rows5 = x.iloc[[21,22,23,24,25,26], :]\n",
        "\n",
        "interpret_model(gbr, data=specific_rows5, plot='pfi')"
      ]
    },
    {
      "cell_type": "code",
      "execution_count": null,
      "id": "qnVvvgUddWqc",
      "metadata": {
        "colab": {
          "base_uri": "https://localhost:8080/",
          "height": 542
        },
        "id": "qnVvvgUddWqc",
        "outputId": "269e5ced-020b-4bf6-e25a-c644517fa8d4"
      },
      "outputs": [
        {
          "data": {
            "text/html": [
              "<html>\n",
              "<head><meta charset=\"utf-8\" /></head>\n",
              "<body>\n",
              "    <div>            <script src=\"https://cdnjs.cloudflare.com/ajax/libs/mathjax/2.7.5/MathJax.js?config=TeX-AMS-MML_SVG\"></script><script type=\"text/javascript\">if (window.MathJax && window.MathJax.Hub && window.MathJax.Hub.Config) {window.MathJax.Hub.Config({SVG: {font: \"STIX-Web\"}});}</script>                <script type=\"text/javascript\">window.PlotlyConfig = {MathJaxConfig: 'local'};</script>\n",
              "        <script charset=\"utf-8\" src=\"https://cdn.plot.ly/plotly-2.24.1.min.js\"></script>                <div id=\"adb1138e-a8c8-4ee2-8d77-29df3fda0bb1\" class=\"plotly-graph-div\" style=\"height:525px; width:100%;\"></div>            <script type=\"text/javascript\">                                    window.PLOTLYENV=window.PLOTLYENV || {};                                    if (document.getElementById(\"adb1138e-a8c8-4ee2-8d77-29df3fda0bb1\")) {                    Plotly.newPlot(                        \"adb1138e-a8c8-4ee2-8d77-29df3fda0bb1\",                        [{\"marker\":{\"color\":[\"#ff7f0e\",\"#ff7f0e\",\"#ff7f0e\",\"#ff7f0e\",\"#ff7f0e\",\"#ff7f0e\",\"#ff7f0e\",\"#ff7f0e\",\"#ff7f0e\",\"#ff7f0e\",\"#ff7f0e\",\"#ff7f0e\",\"#ff7f0e\",\"#ff7f0e\"]},\"orientation\":\"h\",\"x\":[0.10519467683939528,0.1552433923881878,0.1560830412425908,0.16440728723924153,0.1978225061555042,0.24833113116123093,0.25754121596789714,0.3020721276428415,0.31022334260468454,0.34290536824548956,0.44409072210070005,0.5282131557684175,2.9459514832308646,3.1410370075827454],\"y\":[\"Intensity 6\",\"2-theta 3\",\"Intensity 4\",\"2-theta 5\",\"relative_intensity 6\",\"FWHM 5\",\"Intensity 1\",\"Intensity 3\",\"2-theta 1\",\"2-theta 6\",\"Intensity 2\",\"2-theta 2\",\"DROP\",\"relative_intensity 4\"],\"type\":\"bar\"}],                        {\"title\":{\"text\":\"Morris Sensitivity\\u003cbr\\u003eConvergence Index: 0.092\"},\"xaxis\":{\"range\":[0,3.1410370075827454],\"title\":{\"text\":\"\"}},\"yaxis\":{\"automargin\":true,\"dtick\":1,\"title\":{\"text\":\"\"}},\"template\":{\"data\":{\"histogram2dcontour\":[{\"type\":\"histogram2dcontour\",\"colorbar\":{\"outlinewidth\":0,\"ticks\":\"\"},\"colorscale\":[[0.0,\"#0d0887\"],[0.1111111111111111,\"#46039f\"],[0.2222222222222222,\"#7201a8\"],[0.3333333333333333,\"#9c179e\"],[0.4444444444444444,\"#bd3786\"],[0.5555555555555556,\"#d8576b\"],[0.6666666666666666,\"#ed7953\"],[0.7777777777777778,\"#fb9f3a\"],[0.8888888888888888,\"#fdca26\"],[1.0,\"#f0f921\"]]}],\"choropleth\":[{\"type\":\"choropleth\",\"colorbar\":{\"outlinewidth\":0,\"ticks\":\"\"}}],\"histogram2d\":[{\"type\":\"histogram2d\",\"colorbar\":{\"outlinewidth\":0,\"ticks\":\"\"},\"colorscale\":[[0.0,\"#0d0887\"],[0.1111111111111111,\"#46039f\"],[0.2222222222222222,\"#7201a8\"],[0.3333333333333333,\"#9c179e\"],[0.4444444444444444,\"#bd3786\"],[0.5555555555555556,\"#d8576b\"],[0.6666666666666666,\"#ed7953\"],[0.7777777777777778,\"#fb9f3a\"],[0.8888888888888888,\"#fdca26\"],[1.0,\"#f0f921\"]]}],\"heatmap\":[{\"type\":\"heatmap\",\"colorbar\":{\"outlinewidth\":0,\"ticks\":\"\"},\"colorscale\":[[0.0,\"#0d0887\"],[0.1111111111111111,\"#46039f\"],[0.2222222222222222,\"#7201a8\"],[0.3333333333333333,\"#9c179e\"],[0.4444444444444444,\"#bd3786\"],[0.5555555555555556,\"#d8576b\"],[0.6666666666666666,\"#ed7953\"],[0.7777777777777778,\"#fb9f3a\"],[0.8888888888888888,\"#fdca26\"],[1.0,\"#f0f921\"]]}],\"heatmapgl\":[{\"type\":\"heatmapgl\",\"colorbar\":{\"outlinewidth\":0,\"ticks\":\"\"},\"colorscale\":[[0.0,\"#0d0887\"],[0.1111111111111111,\"#46039f\"],[0.2222222222222222,\"#7201a8\"],[0.3333333333333333,\"#9c179e\"],[0.4444444444444444,\"#bd3786\"],[0.5555555555555556,\"#d8576b\"],[0.6666666666666666,\"#ed7953\"],[0.7777777777777778,\"#fb9f3a\"],[0.8888888888888888,\"#fdca26\"],[1.0,\"#f0f921\"]]}],\"contourcarpet\":[{\"type\":\"contourcarpet\",\"colorbar\":{\"outlinewidth\":0,\"ticks\":\"\"}}],\"contour\":[{\"type\":\"contour\",\"colorbar\":{\"outlinewidth\":0,\"ticks\":\"\"},\"colorscale\":[[0.0,\"#0d0887\"],[0.1111111111111111,\"#46039f\"],[0.2222222222222222,\"#7201a8\"],[0.3333333333333333,\"#9c179e\"],[0.4444444444444444,\"#bd3786\"],[0.5555555555555556,\"#d8576b\"],[0.6666666666666666,\"#ed7953\"],[0.7777777777777778,\"#fb9f3a\"],[0.8888888888888888,\"#fdca26\"],[1.0,\"#f0f921\"]]}],\"surface\":[{\"type\":\"surface\",\"colorbar\":{\"outlinewidth\":0,\"ticks\":\"\"},\"colorscale\":[[0.0,\"#0d0887\"],[0.1111111111111111,\"#46039f\"],[0.2222222222222222,\"#7201a8\"],[0.3333333333333333,\"#9c179e\"],[0.4444444444444444,\"#bd3786\"],[0.5555555555555556,\"#d8576b\"],[0.6666666666666666,\"#ed7953\"],[0.7777777777777778,\"#fb9f3a\"],[0.8888888888888888,\"#fdca26\"],[1.0,\"#f0f921\"]]}],\"mesh3d\":[{\"type\":\"mesh3d\",\"colorbar\":{\"outlinewidth\":0,\"ticks\":\"\"}}],\"scatter\":[{\"fillpattern\":{\"fillmode\":\"overlay\",\"size\":10,\"solidity\":0.2},\"type\":\"scatter\"}],\"parcoords\":[{\"type\":\"parcoords\",\"line\":{\"colorbar\":{\"outlinewidth\":0,\"ticks\":\"\"}}}],\"scatterpolargl\":[{\"type\":\"scatterpolargl\",\"marker\":{\"colorbar\":{\"outlinewidth\":0,\"ticks\":\"\"}}}],\"bar\":[{\"error_x\":{\"color\":\"#2a3f5f\"},\"error_y\":{\"color\":\"#2a3f5f\"},\"marker\":{\"line\":{\"color\":\"#E5ECF6\",\"width\":0.5},\"pattern\":{\"fillmode\":\"overlay\",\"size\":10,\"solidity\":0.2}},\"type\":\"bar\"}],\"scattergeo\":[{\"type\":\"scattergeo\",\"marker\":{\"colorbar\":{\"outlinewidth\":0,\"ticks\":\"\"}}}],\"scatterpolar\":[{\"type\":\"scatterpolar\",\"marker\":{\"colorbar\":{\"outlinewidth\":0,\"ticks\":\"\"}}}],\"histogram\":[{\"marker\":{\"pattern\":{\"fillmode\":\"overlay\",\"size\":10,\"solidity\":0.2}},\"type\":\"histogram\"}],\"scattergl\":[{\"type\":\"scattergl\",\"marker\":{\"colorbar\":{\"outlinewidth\":0,\"ticks\":\"\"}}}],\"scatter3d\":[{\"type\":\"scatter3d\",\"line\":{\"colorbar\":{\"outlinewidth\":0,\"ticks\":\"\"}},\"marker\":{\"colorbar\":{\"outlinewidth\":0,\"ticks\":\"\"}}}],\"scattermapbox\":[{\"type\":\"scattermapbox\",\"marker\":{\"colorbar\":{\"outlinewidth\":0,\"ticks\":\"\"}}}],\"scatterternary\":[{\"type\":\"scatterternary\",\"marker\":{\"colorbar\":{\"outlinewidth\":0,\"ticks\":\"\"}}}],\"scattercarpet\":[{\"type\":\"scattercarpet\",\"marker\":{\"colorbar\":{\"outlinewidth\":0,\"ticks\":\"\"}}}],\"carpet\":[{\"aaxis\":{\"endlinecolor\":\"#2a3f5f\",\"gridcolor\":\"white\",\"linecolor\":\"white\",\"minorgridcolor\":\"white\",\"startlinecolor\":\"#2a3f5f\"},\"baxis\":{\"endlinecolor\":\"#2a3f5f\",\"gridcolor\":\"white\",\"linecolor\":\"white\",\"minorgridcolor\":\"white\",\"startlinecolor\":\"#2a3f5f\"},\"type\":\"carpet\"}],\"table\":[{\"cells\":{\"fill\":{\"color\":\"#EBF0F8\"},\"line\":{\"color\":\"white\"}},\"header\":{\"fill\":{\"color\":\"#C8D4E3\"},\"line\":{\"color\":\"white\"}},\"type\":\"table\"}],\"barpolar\":[{\"marker\":{\"line\":{\"color\":\"#E5ECF6\",\"width\":0.5},\"pattern\":{\"fillmode\":\"overlay\",\"size\":10,\"solidity\":0.2}},\"type\":\"barpolar\"}],\"pie\":[{\"automargin\":true,\"type\":\"pie\"}]},\"layout\":{\"autotypenumbers\":\"strict\",\"colorway\":[\"#636efa\",\"#EF553B\",\"#00cc96\",\"#ab63fa\",\"#FFA15A\",\"#19d3f3\",\"#FF6692\",\"#B6E880\",\"#FF97FF\",\"#FECB52\"],\"font\":{\"color\":\"#2a3f5f\"},\"hovermode\":\"closest\",\"hoverlabel\":{\"align\":\"left\"},\"paper_bgcolor\":\"white\",\"plot_bgcolor\":\"#E5ECF6\",\"polar\":{\"bgcolor\":\"#E5ECF6\",\"angularaxis\":{\"gridcolor\":\"white\",\"linecolor\":\"white\",\"ticks\":\"\"},\"radialaxis\":{\"gridcolor\":\"white\",\"linecolor\":\"white\",\"ticks\":\"\"}},\"ternary\":{\"bgcolor\":\"#E5ECF6\",\"aaxis\":{\"gridcolor\":\"white\",\"linecolor\":\"white\",\"ticks\":\"\"},\"baxis\":{\"gridcolor\":\"white\",\"linecolor\":\"white\",\"ticks\":\"\"},\"caxis\":{\"gridcolor\":\"white\",\"linecolor\":\"white\",\"ticks\":\"\"}},\"coloraxis\":{\"colorbar\":{\"outlinewidth\":0,\"ticks\":\"\"}},\"colorscale\":{\"sequential\":[[0.0,\"#0d0887\"],[0.1111111111111111,\"#46039f\"],[0.2222222222222222,\"#7201a8\"],[0.3333333333333333,\"#9c179e\"],[0.4444444444444444,\"#bd3786\"],[0.5555555555555556,\"#d8576b\"],[0.6666666666666666,\"#ed7953\"],[0.7777777777777778,\"#fb9f3a\"],[0.8888888888888888,\"#fdca26\"],[1.0,\"#f0f921\"]],\"sequentialminus\":[[0.0,\"#0d0887\"],[0.1111111111111111,\"#46039f\"],[0.2222222222222222,\"#7201a8\"],[0.3333333333333333,\"#9c179e\"],[0.4444444444444444,\"#bd3786\"],[0.5555555555555556,\"#d8576b\"],[0.6666666666666666,\"#ed7953\"],[0.7777777777777778,\"#fb9f3a\"],[0.8888888888888888,\"#fdca26\"],[1.0,\"#f0f921\"]],\"diverging\":[[0,\"#8e0152\"],[0.1,\"#c51b7d\"],[0.2,\"#de77ae\"],[0.3,\"#f1b6da\"],[0.4,\"#fde0ef\"],[0.5,\"#f7f7f7\"],[0.6,\"#e6f5d0\"],[0.7,\"#b8e186\"],[0.8,\"#7fbc41\"],[0.9,\"#4d9221\"],[1,\"#276419\"]]},\"xaxis\":{\"gridcolor\":\"white\",\"linecolor\":\"white\",\"ticks\":\"\",\"title\":{\"standoff\":15},\"zerolinecolor\":\"white\",\"automargin\":true,\"zerolinewidth\":2},\"yaxis\":{\"gridcolor\":\"white\",\"linecolor\":\"white\",\"ticks\":\"\",\"title\":{\"standoff\":15},\"zerolinecolor\":\"white\",\"automargin\":true,\"zerolinewidth\":2},\"scene\":{\"xaxis\":{\"backgroundcolor\":\"#E5ECF6\",\"gridcolor\":\"white\",\"linecolor\":\"white\",\"showbackground\":true,\"ticks\":\"\",\"zerolinecolor\":\"white\",\"gridwidth\":2},\"yaxis\":{\"backgroundcolor\":\"#E5ECF6\",\"gridcolor\":\"white\",\"linecolor\":\"white\",\"showbackground\":true,\"ticks\":\"\",\"zerolinecolor\":\"white\",\"gridwidth\":2},\"zaxis\":{\"backgroundcolor\":\"#E5ECF6\",\"gridcolor\":\"white\",\"linecolor\":\"white\",\"showbackground\":true,\"ticks\":\"\",\"zerolinecolor\":\"white\",\"gridwidth\":2}},\"shapedefaults\":{\"line\":{\"color\":\"#2a3f5f\"}},\"annotationdefaults\":{\"arrowcolor\":\"#2a3f5f\",\"arrowhead\":0,\"arrowwidth\":1},\"geo\":{\"bgcolor\":\"white\",\"landcolor\":\"#E5ECF6\",\"subunitcolor\":\"white\",\"showland\":true,\"showlakes\":true,\"lakecolor\":\"white\"},\"title\":{\"x\":0.05},\"mapbox\":{\"style\":\"light\"}}}},                        {\"responsive\": true}                    ).then(function(){\n",
              "                            \n",
              "var gd = document.getElementById('adb1138e-a8c8-4ee2-8d77-29df3fda0bb1');\n",
              "var x = new MutationObserver(function (mutations, observer) {{\n",
              "        var display = window.getComputedStyle(gd).display;\n",
              "        if (!display || display === 'none') {{\n",
              "            console.log([gd, 'removed!']);\n",
              "            Plotly.purge(gd);\n",
              "            observer.disconnect();\n",
              "        }}\n",
              "}});\n",
              "\n",
              "// Listen for the removal of the full notebook cells\n",
              "var notebookContainer = gd.closest('#notebook-container');\n",
              "if (notebookContainer) {{\n",
              "    x.observe(notebookContainer, {childList: true});\n",
              "}}\n",
              "\n",
              "// Listen for the clearing of the current output cell\n",
              "var outputEl = gd.closest('.output');\n",
              "if (outputEl) {{\n",
              "    x.observe(outputEl, {childList: true});\n",
              "}}\n",
              "\n",
              "                        })                };                            </script>        </div>\n",
              "</body>\n",
              "</html>"
            ]
          },
          "metadata": {},
          "output_type": "display_data"
        }
      ],
      "source": [
        "interpret_model(gbr, data=specific_rows5, plot='msa')"
      ]
    },
    {
      "cell_type": "markdown",
      "id": "J-hT07_idZxS",
      "metadata": {
        "id": "J-hT07_idZxS"
      },
      "source": [
        "Rf"
      ]
    },
    {
      "cell_type": "code",
      "execution_count": null,
      "id": "PkCte882ZMl9",
      "metadata": {
        "colab": {
          "base_uri": "https://localhost:8080/",
          "height": 665,
          "referenced_widgets": [
            "4ffa79c76a8e4bebb3ac09e1342189ae",
            "08f18c6e67df4822a932d0b4895e78ea",
            "ab9c8287c6784906b465b5f5c188697c",
            "f43c493fe93542ee9d64e5387a2fae1e",
            "cd92e938b074432f83fd86e57692ebab",
            "1947fdf02a2649d49a78c9b7dc7e91c0",
            "5c61df2cd831427d8daaab61349c4cb6",
            "a6054364ac0a463d847d21dde3a4698b",
            "91480fc090274f68986453009c7ce797",
            "602d93bf72a84959a46b5d5ead47a75c",
            "0a996b775d9a4537809a77ba141305aa",
            "96540189d37944efb825d18b6a037624",
            "5620b5360a5b460c8681c494a02e479c",
            "2c130ac2e51f4c929c5fc8c28ab6cd2c",
            "879e279a4d8a4523b15f6c27176fc56a",
            "b000119db3d54228859a2d99e837d4be",
            "b96c605a2fad4877b886d847af51b270",
            "f4f05f9285c045fe985e8d3ae6ea2c6a"
          ]
        },
        "id": "PkCte882ZMl9",
        "outputId": "8e585e00-39f6-4846-a282-2655e4a80d36"
      },
      "outputs": [
        {
          "data": {
            "text/html": [],
            "text/plain": [
              "<IPython.core.display.HTML object>"
            ]
          },
          "metadata": {},
          "output_type": "display_data"
        },
        {
          "data": {
            "text/html": [
              "<style type=\"text/css\">\n",
              "</style>\n",
              "<table id=\"T_623d7\" class=\"dataframe\">\n",
              "  <thead>\n",
              "    <tr>\n",
              "      <th class=\"blank level0\" >&nbsp;</th>\n",
              "      <th id=\"T_623d7_level0_col0\" class=\"col_heading level0 col0\" >MAE</th>\n",
              "      <th id=\"T_623d7_level0_col1\" class=\"col_heading level0 col1\" >MSE</th>\n",
              "      <th id=\"T_623d7_level0_col2\" class=\"col_heading level0 col2\" >RMSE</th>\n",
              "      <th id=\"T_623d7_level0_col3\" class=\"col_heading level0 col3\" >R2</th>\n",
              "      <th id=\"T_623d7_level0_col4\" class=\"col_heading level0 col4\" >RMSLE</th>\n",
              "      <th id=\"T_623d7_level0_col5\" class=\"col_heading level0 col5\" >MAPE</th>\n",
              "    </tr>\n",
              "  </thead>\n",
              "  <tbody>\n",
              "    <tr>\n",
              "      <th id=\"T_623d7_level0_row0\" class=\"row_heading level0 row0\" >Test</th>\n",
              "      <td id=\"T_623d7_row0_col0\" class=\"data row0 col0\" >0.8604</td>\n",
              "      <td id=\"T_623d7_row0_col1\" class=\"data row0 col1\" >1.1369</td>\n",
              "      <td id=\"T_623d7_row0_col2\" class=\"data row0 col2\" >1.0663</td>\n",
              "      <td id=\"T_623d7_row0_col3\" class=\"data row0 col3\" >0.8375</td>\n",
              "      <td id=\"T_623d7_row0_col4\" class=\"data row0 col4\" >0.0253</td>\n",
              "      <td id=\"T_623d7_row0_col5\" class=\"data row0 col5\" >0.0207</td>\n",
              "    </tr>\n",
              "    <tr>\n",
              "      <th id=\"T_623d7_level0_row1\" class=\"row_heading level0 row1\" >Train</th>\n",
              "      <td id=\"T_623d7_row1_col0\" class=\"data row1 col0\" >0.6878</td>\n",
              "      <td id=\"T_623d7_row1_col1\" class=\"data row1 col1\" >0.7775</td>\n",
              "      <td id=\"T_623d7_row1_col2\" class=\"data row1 col2\" >0.8817</td>\n",
              "      <td id=\"T_623d7_row1_col3\" class=\"data row1 col3\" >0.8501</td>\n",
              "      <td id=\"T_623d7_row1_col4\" class=\"data row1 col4\" >0.0202</td>\n",
              "      <td id=\"T_623d7_row1_col5\" class=\"data row1 col5\" >0.0159</td>\n",
              "    </tr>\n",
              "  </tbody>\n",
              "</table>\n"
            ],
            "text/plain": [
              "<pandas.io.formats.style.Styler at 0x7e8a33036f80>"
            ]
          },
          "metadata": {},
          "output_type": "display_data"
        },
        {
          "data": {
            "application/vnd.jupyter.widget-view+json": {
              "model_id": "4ffa79c76a8e4bebb3ac09e1342189ae",
              "version_major": 2,
              "version_minor": 0
            },
            "text/plain": [
              "Processing:   0%|          | 0/4 [00:00<?, ?it/s]"
            ]
          },
          "metadata": {
            "application/vnd.jupyter.widget-view+json": {
              "colab": {
                "custom_widget_manager": {
                  "url": "https://ssl.gstatic.com/colaboratory-static/widgets/colab-cdn-widget-manager/b3e629b1971e1542/manager.min.js"
                }
              }
            }
          },
          "output_type": "display_data"
        },
        {
          "data": {
            "text/html": [],
            "text/plain": [
              "<IPython.core.display.HTML object>"
            ]
          },
          "metadata": {},
          "output_type": "display_data"
        },
        {
          "data": {
            "application/vnd.jupyter.widget-view+json": {
              "model_id": "b000119db3d54228859a2d99e837d4be",
              "version_major": 2,
              "version_minor": 0
            },
            "text/plain": [
              "interactive(children=(ToggleButtons(description='Plot Type:', icons=('',), options=(('Pipeline Plot', 'pipelin…"
            ]
          },
          "metadata": {
            "application/vnd.jupyter.widget-view+json": {
              "colab": {
                "custom_widget_manager": {
                  "url": "https://ssl.gstatic.com/colaboratory-static/widgets/colab-cdn-widget-manager/b3e629b1971e1542/manager.min.js"
                }
              }
            }
          },
          "output_type": "display_data"
        }
      ],
      "source": [
        "rf=create_model('rf',cross_validation = False, return_train_score=True)\n",
        "evaluate_model(rf)"
      ]
    },
    {
      "cell_type": "code",
      "execution_count": null,
      "id": "8mYUJheUZMpC",
      "metadata": {
        "colab": {
          "base_uri": "https://localhost:8080/",
          "height": 711
        },
        "id": "8mYUJheUZMpC",
        "outputId": "b439ceeb-21e7-4d42-fe93-8873ecc5fa68"
      },
      "outputs": [
        {
          "data": {
            "image/png": "[encoded data removed]",
            "text/plain": [
              "<Figure size 800x710 with 2 Axes>"
            ]
          },
          "metadata": {},
          "output_type": "display_data"
        }
      ],
      "source": [
        "#all rows(samples)\n",
        "interpret_model(rf, plot='summary')"
      ]
    },
    {
      "cell_type": "code",
      "execution_count": null,
      "id": "23AfxGnxZMsu",
      "metadata": {
        "colab": {
          "base_uri": "https://localhost:8080/",
          "height": 560
        },
        "id": "23AfxGnxZMsu",
        "outputId": "82b2f43a-02a8-404c-a43b-5ed59ea0ef4a"
      },
      "outputs": [
        {
          "name": "stderr",
          "output_type": "stream",
          "text": [
            "14it [00:00, 27.23it/s]\n"
          ]
        },
        {
          "data": {
            "text/html": [
              "<html>\n",
              "<head><meta charset=\"utf-8\" /></head>\n",
              "<body>\n",
              "    <div>            <script src=\"https://cdnjs.cloudflare.com/ajax/libs/mathjax/2.7.5/MathJax.js?config=TeX-AMS-MML_SVG\"></script><script type=\"text/javascript\">if (window.MathJax && window.MathJax.Hub && window.MathJax.Hub.Config) {window.MathJax.Hub.Config({SVG: {font: \"STIX-Web\"}});}</script>                <script type=\"text/javascript\">window.PlotlyConfig = {MathJaxConfig: 'local'};</script>\n",
              "        <script charset=\"utf-8\" src=\"https://cdn.plot.ly/plotly-2.24.1.min.js\"></script>                <div id=\"ef0e0d32-0fd2-401f-a069-bbb22eeccea4\" class=\"plotly-graph-div\" style=\"height:525px; width:100%;\"></div>            <script type=\"text/javascript\">                                    window.PLOTLYENV=window.PLOTLYENV || {};                                    if (document.getElementById(\"ef0e0d32-0fd2-401f-a069-bbb22eeccea4\")) {                    Plotly.newPlot(                        \"ef0e0d32-0fd2-401f-a069-bbb22eeccea4\",                        [{\"marker\":{\"color\":[\"#1f77b4\",\"#ff7f0e\",\"#ff7f0e\",\"#ff7f0e\",\"#ff7f0e\",\"#1f77b4\",\"#1f77b4\",\"#1f77b4\",\"#1f77b4\",\"#1f77b4\",\"#1f77b4\",\"#1f77b4\",\"#1f77b4\",\"#1f77b4\"]},\"orientation\":\"h\",\"x\":[-0.0026811981201184665,0.014466578165689414,0.01525103251139126,0.01572020848592004,0.021454645792642113,-0.02201027552287016,-0.02707752863566415,-0.028224747975668207,-0.02979768117268833,-0.0791928164164245,-0.11251224517822322,-0.1161620330810571,-0.16152296702067315,-0.3450487709045441],\"y\":[\"2-theta 6\",\"FWHM 5\",\"2-theta 2\",\"2-theta 1\",\"2-theta 3\",\"Intensity 3\",\"Intensity 1\",\"2-theta 5\",\"Intensity 2\",\"Intensity 6\",\"relative_intensity 6\",\"Intensity 4\",\"DROP\",\"relative_intensity 4\"],\"type\":\"bar\"}],                        {\"title\":{\"text\":\"\"},\"xaxis\":{\"range\":[-0.3450487709045441,0.3450487709045441],\"title\":{\"text\":\"\"}},\"yaxis\":{\"automargin\":true,\"dtick\":1,\"title\":{\"text\":\"\"}},\"template\":{\"data\":{\"histogram2dcontour\":[{\"type\":\"histogram2dcontour\",\"colorbar\":{\"outlinewidth\":0,\"ticks\":\"\"},\"colorscale\":[[0.0,\"#0d0887\"],[0.1111111111111111,\"#46039f\"],[0.2222222222222222,\"#7201a8\"],[0.3333333333333333,\"#9c179e\"],[0.4444444444444444,\"#bd3786\"],[0.5555555555555556,\"#d8576b\"],[0.6666666666666666,\"#ed7953\"],[0.7777777777777778,\"#fb9f3a\"],[0.8888888888888888,\"#fdca26\"],[1.0,\"#f0f921\"]]}],\"choropleth\":[{\"type\":\"choropleth\",\"colorbar\":{\"outlinewidth\":0,\"ticks\":\"\"}}],\"histogram2d\":[{\"type\":\"histogram2d\",\"colorbar\":{\"outlinewidth\":0,\"ticks\":\"\"},\"colorscale\":[[0.0,\"#0d0887\"],[0.1111111111111111,\"#46039f\"],[0.2222222222222222,\"#7201a8\"],[0.3333333333333333,\"#9c179e\"],[0.4444444444444444,\"#bd3786\"],[0.5555555555555556,\"#d8576b\"],[0.6666666666666666,\"#ed7953\"],[0.7777777777777778,\"#fb9f3a\"],[0.8888888888888888,\"#fdca26\"],[1.0,\"#f0f921\"]]}],\"heatmap\":[{\"type\":\"heatmap\",\"colorbar\":{\"outlinewidth\":0,\"ticks\":\"\"},\"colorscale\":[[0.0,\"#0d0887\"],[0.1111111111111111,\"#46039f\"],[0.2222222222222222,\"#7201a8\"],[0.3333333333333333,\"#9c179e\"],[0.4444444444444444,\"#bd3786\"],[0.5555555555555556,\"#d8576b\"],[0.6666666666666666,\"#ed7953\"],[0.7777777777777778,\"#fb9f3a\"],[0.8888888888888888,\"#fdca26\"],[1.0,\"#f0f921\"]]}],\"heatmapgl\":[{\"type\":\"heatmapgl\",\"colorbar\":{\"outlinewidth\":0,\"ticks\":\"\"},\"colorscale\":[[0.0,\"#0d0887\"],[0.1111111111111111,\"#46039f\"],[0.2222222222222222,\"#7201a8\"],[0.3333333333333333,\"#9c179e\"],[0.4444444444444444,\"#bd3786\"],[0.5555555555555556,\"#d8576b\"],[0.6666666666666666,\"#ed7953\"],[0.7777777777777778,\"#fb9f3a\"],[0.8888888888888888,\"#fdca26\"],[1.0,\"#f0f921\"]]}],\"contourcarpet\":[{\"type\":\"contourcarpet\",\"colorbar\":{\"outlinewidth\":0,\"ticks\":\"\"}}],\"contour\":[{\"type\":\"contour\",\"colorbar\":{\"outlinewidth\":0,\"ticks\":\"\"},\"colorscale\":[[0.0,\"#0d0887\"],[0.1111111111111111,\"#46039f\"],[0.2222222222222222,\"#7201a8\"],[0.3333333333333333,\"#9c179e\"],[0.4444444444444444,\"#bd3786\"],[0.5555555555555556,\"#d8576b\"],[0.6666666666666666,\"#ed7953\"],[0.7777777777777778,\"#fb9f3a\"],[0.8888888888888888,\"#fdca26\"],[1.0,\"#f0f921\"]]}],\"surface\":[{\"type\":\"surface\",\"colorbar\":{\"outlinewidth\":0,\"ticks\":\"\"},\"colorscale\":[[0.0,\"#0d0887\"],[0.1111111111111111,\"#46039f\"],[0.2222222222222222,\"#7201a8\"],[0.3333333333333333,\"#9c179e\"],[0.4444444444444444,\"#bd3786\"],[0.5555555555555556,\"#d8576b\"],[0.6666666666666666,\"#ed7953\"],[0.7777777777777778,\"#fb9f3a\"],[0.8888888888888888,\"#fdca26\"],[1.0,\"#f0f921\"]]}],\"mesh3d\":[{\"type\":\"mesh3d\",\"colorbar\":{\"outlinewidth\":0,\"ticks\":\"\"}}],\"scatter\":[{\"fillpattern\":{\"fillmode\":\"overlay\",\"size\":10,\"solidity\":0.2},\"type\":\"scatter\"}],\"parcoords\":[{\"type\":\"parcoords\",\"line\":{\"colorbar\":{\"outlinewidth\":0,\"ticks\":\"\"}}}],\"scatterpolargl\":[{\"type\":\"scatterpolargl\",\"marker\":{\"colorbar\":{\"outlinewidth\":0,\"ticks\":\"\"}}}],\"bar\":[{\"error_x\":{\"color\":\"#2a3f5f\"},\"error_y\":{\"color\":\"#2a3f5f\"},\"marker\":{\"line\":{\"color\":\"#E5ECF6\",\"width\":0.5},\"pattern\":{\"fillmode\":\"overlay\",\"size\":10,\"solidity\":0.2}},\"type\":\"bar\"}],\"scattergeo\":[{\"type\":\"scattergeo\",\"marker\":{\"colorbar\":{\"outlinewidth\":0,\"ticks\":\"\"}}}],\"scatterpolar\":[{\"type\":\"scatterpolar\",\"marker\":{\"colorbar\":{\"outlinewidth\":0,\"ticks\":\"\"}}}],\"histogram\":[{\"marker\":{\"pattern\":{\"fillmode\":\"overlay\",\"size\":10,\"solidity\":0.2}},\"type\":\"histogram\"}],\"scattergl\":[{\"type\":\"scattergl\",\"marker\":{\"colorbar\":{\"outlinewidth\":0,\"ticks\":\"\"}}}],\"scatter3d\":[{\"type\":\"scatter3d\",\"line\":{\"colorbar\":{\"outlinewidth\":0,\"ticks\":\"\"}},\"marker\":{\"colorbar\":{\"outlinewidth\":0,\"ticks\":\"\"}}}],\"scattermapbox\":[{\"type\":\"scattermapbox\",\"marker\":{\"colorbar\":{\"outlinewidth\":0,\"ticks\":\"\"}}}],\"scatterternary\":[{\"type\":\"scatterternary\",\"marker\":{\"colorbar\":{\"outlinewidth\":0,\"ticks\":\"\"}}}],\"scattercarpet\":[{\"type\":\"scattercarpet\",\"marker\":{\"colorbar\":{\"outlinewidth\":0,\"ticks\":\"\"}}}],\"carpet\":[{\"aaxis\":{\"endlinecolor\":\"#2a3f5f\",\"gridcolor\":\"white\",\"linecolor\":\"white\",\"minorgridcolor\":\"white\",\"startlinecolor\":\"#2a3f5f\"},\"baxis\":{\"endlinecolor\":\"#2a3f5f\",\"gridcolor\":\"white\",\"linecolor\":\"white\",\"minorgridcolor\":\"white\",\"startlinecolor\":\"#2a3f5f\"},\"type\":\"carpet\"}],\"table\":[{\"cells\":{\"fill\":{\"color\":\"#EBF0F8\"},\"line\":{\"color\":\"white\"}},\"header\":{\"fill\":{\"color\":\"#C8D4E3\"},\"line\":{\"color\":\"white\"}},\"type\":\"table\"}],\"barpolar\":[{\"marker\":{\"line\":{\"color\":\"#E5ECF6\",\"width\":0.5},\"pattern\":{\"fillmode\":\"overlay\",\"size\":10,\"solidity\":0.2}},\"type\":\"barpolar\"}],\"pie\":[{\"automargin\":true,\"type\":\"pie\"}]},\"layout\":{\"autotypenumbers\":\"strict\",\"colorway\":[\"#636efa\",\"#EF553B\",\"#00cc96\",\"#ab63fa\",\"#FFA15A\",\"#19d3f3\",\"#FF6692\",\"#B6E880\",\"#FF97FF\",\"#FECB52\"],\"font\":{\"color\":\"#2a3f5f\"},\"hovermode\":\"closest\",\"hoverlabel\":{\"align\":\"left\"},\"paper_bgcolor\":\"white\",\"plot_bgcolor\":\"#E5ECF6\",\"polar\":{\"bgcolor\":\"#E5ECF6\",\"angularaxis\":{\"gridcolor\":\"white\",\"linecolor\":\"white\",\"ticks\":\"\"},\"radialaxis\":{\"gridcolor\":\"white\",\"linecolor\":\"white\",\"ticks\":\"\"}},\"ternary\":{\"bgcolor\":\"#E5ECF6\",\"aaxis\":{\"gridcolor\":\"white\",\"linecolor\":\"white\",\"ticks\":\"\"},\"baxis\":{\"gridcolor\":\"white\",\"linecolor\":\"white\",\"ticks\":\"\"},\"caxis\":{\"gridcolor\":\"white\",\"linecolor\":\"white\",\"ticks\":\"\"}},\"coloraxis\":{\"colorbar\":{\"outlinewidth\":0,\"ticks\":\"\"}},\"colorscale\":{\"sequential\":[[0.0,\"#0d0887\"],[0.1111111111111111,\"#46039f\"],[0.2222222222222222,\"#7201a8\"],[0.3333333333333333,\"#9c179e\"],[0.4444444444444444,\"#bd3786\"],[0.5555555555555556,\"#d8576b\"],[0.6666666666666666,\"#ed7953\"],[0.7777777777777778,\"#fb9f3a\"],[0.8888888888888888,\"#fdca26\"],[1.0,\"#f0f921\"]],\"sequentialminus\":[[0.0,\"#0d0887\"],[0.1111111111111111,\"#46039f\"],[0.2222222222222222,\"#7201a8\"],[0.3333333333333333,\"#9c179e\"],[0.4444444444444444,\"#bd3786\"],[0.5555555555555556,\"#d8576b\"],[0.6666666666666666,\"#ed7953\"],[0.7777777777777778,\"#fb9f3a\"],[0.8888888888888888,\"#fdca26\"],[1.0,\"#f0f921\"]],\"diverging\":[[0,\"#8e0152\"],[0.1,\"#c51b7d\"],[0.2,\"#de77ae\"],[0.3,\"#f1b6da\"],[0.4,\"#fde0ef\"],[0.5,\"#f7f7f7\"],[0.6,\"#e6f5d0\"],[0.7,\"#b8e186\"],[0.8,\"#7fbc41\"],[0.9,\"#4d9221\"],[1,\"#276419\"]]},\"xaxis\":{\"gridcolor\":\"white\",\"linecolor\":\"white\",\"ticks\":\"\",\"title\":{\"standoff\":15},\"zerolinecolor\":\"white\",\"automargin\":true,\"zerolinewidth\":2},\"yaxis\":{\"gridcolor\":\"white\",\"linecolor\":\"white\",\"ticks\":\"\",\"title\":{\"standoff\":15},\"zerolinecolor\":\"white\",\"automargin\":true,\"zerolinewidth\":2},\"scene\":{\"xaxis\":{\"backgroundcolor\":\"#E5ECF6\",\"gridcolor\":\"white\",\"linecolor\":\"white\",\"showbackground\":true,\"ticks\":\"\",\"zerolinecolor\":\"white\",\"gridwidth\":2},\"yaxis\":{\"backgroundcolor\":\"#E5ECF6\",\"gridcolor\":\"white\",\"linecolor\":\"white\",\"showbackground\":true,\"ticks\":\"\",\"zerolinecolor\":\"white\",\"gridwidth\":2},\"zaxis\":{\"backgroundcolor\":\"#E5ECF6\",\"gridcolor\":\"white\",\"linecolor\":\"white\",\"showbackground\":true,\"ticks\":\"\",\"zerolinecolor\":\"white\",\"gridwidth\":2}},\"shapedefaults\":{\"line\":{\"color\":\"#2a3f5f\"}},\"annotationdefaults\":{\"arrowcolor\":\"#2a3f5f\",\"arrowhead\":0,\"arrowwidth\":1},\"geo\":{\"bgcolor\":\"white\",\"landcolor\":\"#E5ECF6\",\"subunitcolor\":\"white\",\"showland\":true,\"showlakes\":true,\"lakecolor\":\"white\"},\"title\":{\"x\":0.05},\"mapbox\":{\"style\":\"light\"}}}},                        {\"responsive\": true}                    ).then(function(){\n",
              "                            \n",
              "var gd = document.getElementById('ef0e0d32-0fd2-401f-a069-bbb22eeccea4');\n",
              "var x = new MutationObserver(function (mutations, observer) {{\n",
              "        var display = window.getComputedStyle(gd).display;\n",
              "        if (!display || display === 'none') {{\n",
              "            console.log([gd, 'removed!']);\n",
              "            Plotly.purge(gd);\n",
              "            observer.disconnect();\n",
              "        }}\n",
              "}});\n",
              "\n",
              "// Listen for the removal of the full notebook cells\n",
              "var notebookContainer = gd.closest('#notebook-container');\n",
              "if (notebookContainer) {{\n",
              "    x.observe(notebookContainer, {childList: true});\n",
              "}}\n",
              "\n",
              "// Listen for the clearing of the current output cell\n",
              "var outputEl = gd.closest('.output');\n",
              "if (outputEl) {{\n",
              "    x.observe(outputEl, {childList: true});\n",
              "}}\n",
              "\n",
              "                        })                };                            </script>        </div>\n",
              "</body>\n",
              "</html>"
            ]
          },
          "metadata": {},
          "output_type": "display_data"
        }
      ],
      "source": [
        "#interpret_model(rf, plot='correlation')\n",
        "interpret_model(rf, plot='pfi')"
      ]
    },
    {
      "cell_type": "code",
      "execution_count": null,
      "id": "GRGepMULZM09",
      "metadata": {
        "colab": {
          "base_uri": "https://localhost:8080/",
          "height": 560
        },
        "id": "GRGepMULZM09",
        "outputId": "a37d3b77-a6b7-411a-c5a4-1453ecd8ccea"
      },
      "outputs": [
        {
          "name": "stderr",
          "output_type": "stream",
          "text": [
            "14it [00:00, 34.08it/s]\n"
          ]
        },
        {
          "data": {
            "text/html": [
              "<html>\n",
              "<head><meta charset=\"utf-8\" /></head>\n",
              "<body>\n",
              "    <div>            <script src=\"https://cdnjs.cloudflare.com/ajax/libs/mathjax/2.7.5/MathJax.js?config=TeX-AMS-MML_SVG\"></script><script type=\"text/javascript\">if (window.MathJax && window.MathJax.Hub && window.MathJax.Hub.Config) {window.MathJax.Hub.Config({SVG: {font: \"STIX-Web\"}});}</script>                <script type=\"text/javascript\">window.PlotlyConfig = {MathJaxConfig: 'local'};</script>\n",
              "        <script charset=\"utf-8\" src=\"https://cdn.plot.ly/plotly-2.24.1.min.js\"></script>                <div id=\"0ba618ce-d70c-4e58-9d25-75d6a09d1792\" class=\"plotly-graph-div\" style=\"height:525px; width:100%;\"></div>            <script type=\"text/javascript\">                                    window.PLOTLYENV=window.PLOTLYENV || {};                                    if (document.getElementById(\"0ba618ce-d70c-4e58-9d25-75d6a09d1792\")) {                    Plotly.newPlot(                        \"0ba618ce-d70c-4e58-9d25-75d6a09d1792\",                        [{\"marker\":{\"color\":[\"#1f77b4\",\"#ff7f0e\",\"#ff7f0e\",\"#ff7f0e\",\"#ff7f0e\",\"#1f77b4\",\"#1f77b4\",\"#1f77b4\",\"#1f77b4\",\"#1f77b4\",\"#1f77b4\",\"#1f77b4\",\"#1f77b4\",\"#1f77b4\"]},\"orientation\":\"h\",\"x\":[-0.0026811981201184665,0.014466578165689414,0.01525103251139126,0.01572020848592004,0.021454645792642113,-0.02201027552287016,-0.02707752863566415,-0.028224747975668207,-0.02979768117268833,-0.0791928164164245,-0.11251224517822322,-0.1161620330810571,-0.16152296702067315,-0.3450487709045441],\"y\":[\"2-theta 6\",\"FWHM 5\",\"2-theta 2\",\"2-theta 1\",\"2-theta 3\",\"Intensity 3\",\"Intensity 1\",\"2-theta 5\",\"Intensity 2\",\"Intensity 6\",\"relative_intensity 6\",\"Intensity 4\",\"DROP\",\"relative_intensity 4\"],\"type\":\"bar\"}],                        {\"title\":{\"text\":\"\"},\"xaxis\":{\"range\":[-0.3450487709045441,0.3450487709045441],\"title\":{\"text\":\"\"}},\"yaxis\":{\"automargin\":true,\"dtick\":1,\"title\":{\"text\":\"\"}},\"template\":{\"data\":{\"histogram2dcontour\":[{\"type\":\"histogram2dcontour\",\"colorbar\":{\"outlinewidth\":0,\"ticks\":\"\"},\"colorscale\":[[0.0,\"#0d0887\"],[0.1111111111111111,\"#46039f\"],[0.2222222222222222,\"#7201a8\"],[0.3333333333333333,\"#9c179e\"],[0.4444444444444444,\"#bd3786\"],[0.5555555555555556,\"#d8576b\"],[0.6666666666666666,\"#ed7953\"],[0.7777777777777778,\"#fb9f3a\"],[0.8888888888888888,\"#fdca26\"],[1.0,\"#f0f921\"]]}],\"choropleth\":[{\"type\":\"choropleth\",\"colorbar\":{\"outlinewidth\":0,\"ticks\":\"\"}}],\"histogram2d\":[{\"type\":\"histogram2d\",\"colorbar\":{\"outlinewidth\":0,\"ticks\":\"\"},\"colorscale\":[[0.0,\"#0d0887\"],[0.1111111111111111,\"#46039f\"],[0.2222222222222222,\"#7201a8\"],[0.3333333333333333,\"#9c179e\"],[0.4444444444444444,\"#bd3786\"],[0.5555555555555556,\"#d8576b\"],[0.6666666666666666,\"#ed7953\"],[0.7777777777777778,\"#fb9f3a\"],[0.8888888888888888,\"#fdca26\"],[1.0,\"#f0f921\"]]}],\"heatmap\":[{\"type\":\"heatmap\",\"colorbar\":{\"outlinewidth\":0,\"ticks\":\"\"},\"colorscale\":[[0.0,\"#0d0887\"],[0.1111111111111111,\"#46039f\"],[0.2222222222222222,\"#7201a8\"],[0.3333333333333333,\"#9c179e\"],[0.4444444444444444,\"#bd3786\"],[0.5555555555555556,\"#d8576b\"],[0.6666666666666666,\"#ed7953\"],[0.7777777777777778,\"#fb9f3a\"],[0.8888888888888888,\"#fdca26\"],[1.0,\"#f0f921\"]]}],\"heatmapgl\":[{\"type\":\"heatmapgl\",\"colorbar\":{\"outlinewidth\":0,\"ticks\":\"\"},\"colorscale\":[[0.0,\"#0d0887\"],[0.1111111111111111,\"#46039f\"],[0.2222222222222222,\"#7201a8\"],[0.3333333333333333,\"#9c179e\"],[0.4444444444444444,\"#bd3786\"],[0.5555555555555556,\"#d8576b\"],[0.6666666666666666,\"#ed7953\"],[0.7777777777777778,\"#fb9f3a\"],[0.8888888888888888,\"#fdca26\"],[1.0,\"#f0f921\"]]}],\"contourcarpet\":[{\"type\":\"contourcarpet\",\"colorbar\":{\"outlinewidth\":0,\"ticks\":\"\"}}],\"contour\":[{\"type\":\"contour\",\"colorbar\":{\"outlinewidth\":0,\"ticks\":\"\"},\"colorscale\":[[0.0,\"#0d0887\"],[0.1111111111111111,\"#46039f\"],[0.2222222222222222,\"#7201a8\"],[0.3333333333333333,\"#9c179e\"],[0.4444444444444444,\"#bd3786\"],[0.5555555555555556,\"#d8576b\"],[0.6666666666666666,\"#ed7953\"],[0.7777777777777778,\"#fb9f3a\"],[0.8888888888888888,\"#fdca26\"],[1.0,\"#f0f921\"]]}],\"surface\":[{\"type\":\"surface\",\"colorbar\":{\"outlinewidth\":0,\"ticks\":\"\"},\"colorscale\":[[0.0,\"#0d0887\"],[0.1111111111111111,\"#46039f\"],[0.2222222222222222,\"#7201a8\"],[0.3333333333333333,\"#9c179e\"],[0.4444444444444444,\"#bd3786\"],[0.5555555555555556,\"#d8576b\"],[0.6666666666666666,\"#ed7953\"],[0.7777777777777778,\"#fb9f3a\"],[0.8888888888888888,\"#fdca26\"],[1.0,\"#f0f921\"]]}],\"mesh3d\":[{\"type\":\"mesh3d\",\"colorbar\":{\"outlinewidth\":0,\"ticks\":\"\"}}],\"scatter\":[{\"fillpattern\":{\"fillmode\":\"overlay\",\"size\":10,\"solidity\":0.2},\"type\":\"scatter\"}],\"parcoords\":[{\"type\":\"parcoords\",\"line\":{\"colorbar\":{\"outlinewidth\":0,\"ticks\":\"\"}}}],\"scatterpolargl\":[{\"type\":\"scatterpolargl\",\"marker\":{\"colorbar\":{\"outlinewidth\":0,\"ticks\":\"\"}}}],\"bar\":[{\"error_x\":{\"color\":\"#2a3f5f\"},\"error_y\":{\"color\":\"#2a3f5f\"},\"marker\":{\"line\":{\"color\":\"#E5ECF6\",\"width\":0.5},\"pattern\":{\"fillmode\":\"overlay\",\"size\":10,\"solidity\":0.2}},\"type\":\"bar\"}],\"scattergeo\":[{\"type\":\"scattergeo\",\"marker\":{\"colorbar\":{\"outlinewidth\":0,\"ticks\":\"\"}}}],\"scatterpolar\":[{\"type\":\"scatterpolar\",\"marker\":{\"colorbar\":{\"outlinewidth\":0,\"ticks\":\"\"}}}],\"histogram\":[{\"marker\":{\"pattern\":{\"fillmode\":\"overlay\",\"size\":10,\"solidity\":0.2}},\"type\":\"histogram\"}],\"scattergl\":[{\"type\":\"scattergl\",\"marker\":{\"colorbar\":{\"outlinewidth\":0,\"ticks\":\"\"}}}],\"scatter3d\":[{\"type\":\"scatter3d\",\"line\":{\"colorbar\":{\"outlinewidth\":0,\"ticks\":\"\"}},\"marker\":{\"colorbar\":{\"outlinewidth\":0,\"ticks\":\"\"}}}],\"scattermapbox\":[{\"type\":\"scattermapbox\",\"marker\":{\"colorbar\":{\"outlinewidth\":0,\"ticks\":\"\"}}}],\"scatterternary\":[{\"type\":\"scatterternary\",\"marker\":{\"colorbar\":{\"outlinewidth\":0,\"ticks\":\"\"}}}],\"scattercarpet\":[{\"type\":\"scattercarpet\",\"marker\":{\"colorbar\":{\"outlinewidth\":0,\"ticks\":\"\"}}}],\"carpet\":[{\"aaxis\":{\"endlinecolor\":\"#2a3f5f\",\"gridcolor\":\"white\",\"linecolor\":\"white\",\"minorgridcolor\":\"white\",\"startlinecolor\":\"#2a3f5f\"},\"baxis\":{\"endlinecolor\":\"#2a3f5f\",\"gridcolor\":\"white\",\"linecolor\":\"white\",\"minorgridcolor\":\"white\",\"startlinecolor\":\"#2a3f5f\"},\"type\":\"carpet\"}],\"table\":[{\"cells\":{\"fill\":{\"color\":\"#EBF0F8\"},\"line\":{\"color\":\"white\"}},\"header\":{\"fill\":{\"color\":\"#C8D4E3\"},\"line\":{\"color\":\"white\"}},\"type\":\"table\"}],\"barpolar\":[{\"marker\":{\"line\":{\"color\":\"#E5ECF6\",\"width\":0.5},\"pattern\":{\"fillmode\":\"overlay\",\"size\":10,\"solidity\":0.2}},\"type\":\"barpolar\"}],\"pie\":[{\"automargin\":true,\"type\":\"pie\"}]},\"layout\":{\"autotypenumbers\":\"strict\",\"colorway\":[\"#636efa\",\"#EF553B\",\"#00cc96\",\"#ab63fa\",\"#FFA15A\",\"#19d3f3\",\"#FF6692\",\"#B6E880\",\"#FF97FF\",\"#FECB52\"],\"font\":{\"color\":\"#2a3f5f\"},\"hovermode\":\"closest\",\"hoverlabel\":{\"align\":\"left\"},\"paper_bgcolor\":\"white\",\"plot_bgcolor\":\"#E5ECF6\",\"polar\":{\"bgcolor\":\"#E5ECF6\",\"angularaxis\":{\"gridcolor\":\"white\",\"linecolor\":\"white\",\"ticks\":\"\"},\"radialaxis\":{\"gridcolor\":\"white\",\"linecolor\":\"white\",\"ticks\":\"\"}},\"ternary\":{\"bgcolor\":\"#E5ECF6\",\"aaxis\":{\"gridcolor\":\"white\",\"linecolor\":\"white\",\"ticks\":\"\"},\"baxis\":{\"gridcolor\":\"white\",\"linecolor\":\"white\",\"ticks\":\"\"},\"caxis\":{\"gridcolor\":\"white\",\"linecolor\":\"white\",\"ticks\":\"\"}},\"coloraxis\":{\"colorbar\":{\"outlinewidth\":0,\"ticks\":\"\"}},\"colorscale\":{\"sequential\":[[0.0,\"#0d0887\"],[0.1111111111111111,\"#46039f\"],[0.2222222222222222,\"#7201a8\"],[0.3333333333333333,\"#9c179e\"],[0.4444444444444444,\"#bd3786\"],[0.5555555555555556,\"#d8576b\"],[0.6666666666666666,\"#ed7953\"],[0.7777777777777778,\"#fb9f3a\"],[0.8888888888888888,\"#fdca26\"],[1.0,\"#f0f921\"]],\"sequentialminus\":[[0.0,\"#0d0887\"],[0.1111111111111111,\"#46039f\"],[0.2222222222222222,\"#7201a8\"],[0.3333333333333333,\"#9c179e\"],[0.4444444444444444,\"#bd3786\"],[0.5555555555555556,\"#d8576b\"],[0.6666666666666666,\"#ed7953\"],[0.7777777777777778,\"#fb9f3a\"],[0.8888888888888888,\"#fdca26\"],[1.0,\"#f0f921\"]],\"diverging\":[[0,\"#8e0152\"],[0.1,\"#c51b7d\"],[0.2,\"#de77ae\"],[0.3,\"#f1b6da\"],[0.4,\"#fde0ef\"],[0.5,\"#f7f7f7\"],[0.6,\"#e6f5d0\"],[0.7,\"#b8e186\"],[0.8,\"#7fbc41\"],[0.9,\"#4d9221\"],[1,\"#276419\"]]},\"xaxis\":{\"gridcolor\":\"white\",\"linecolor\":\"white\",\"ticks\":\"\",\"title\":{\"standoff\":15},\"zerolinecolor\":\"white\",\"automargin\":true,\"zerolinewidth\":2},\"yaxis\":{\"gridcolor\":\"white\",\"linecolor\":\"white\",\"ticks\":\"\",\"title\":{\"standoff\":15},\"zerolinecolor\":\"white\",\"automargin\":true,\"zerolinewidth\":2},\"scene\":{\"xaxis\":{\"backgroundcolor\":\"#E5ECF6\",\"gridcolor\":\"white\",\"linecolor\":\"white\",\"showbackground\":true,\"ticks\":\"\",\"zerolinecolor\":\"white\",\"gridwidth\":2},\"yaxis\":{\"backgroundcolor\":\"#E5ECF6\",\"gridcolor\":\"white\",\"linecolor\":\"white\",\"showbackground\":true,\"ticks\":\"\",\"zerolinecolor\":\"white\",\"gridwidth\":2},\"zaxis\":{\"backgroundcolor\":\"#E5ECF6\",\"gridcolor\":\"white\",\"linecolor\":\"white\",\"showbackground\":true,\"ticks\":\"\",\"zerolinecolor\":\"white\",\"gridwidth\":2}},\"shapedefaults\":{\"line\":{\"color\":\"#2a3f5f\"}},\"annotationdefaults\":{\"arrowcolor\":\"#2a3f5f\",\"arrowhead\":0,\"arrowwidth\":1},\"geo\":{\"bgcolor\":\"white\",\"landcolor\":\"#E5ECF6\",\"subunitcolor\":\"white\",\"showland\":true,\"showlakes\":true,\"lakecolor\":\"white\"},\"title\":{\"x\":0.05},\"mapbox\":{\"style\":\"light\"}}}},                        {\"responsive\": true}                    ).then(function(){\n",
              "                            \n",
              "var gd = document.getElementById('0ba618ce-d70c-4e58-9d25-75d6a09d1792');\n",
              "var x = new MutationObserver(function (mutations, observer) {{\n",
              "        var display = window.getComputedStyle(gd).display;\n",
              "        if (!display || display === 'none') {{\n",
              "            console.log([gd, 'removed!']);\n",
              "            Plotly.purge(gd);\n",
              "            observer.disconnect();\n",
              "        }}\n",
              "}});\n",
              "\n",
              "// Listen for the removal of the full notebook cells\n",
              "var notebookContainer = gd.closest('#notebook-container');\n",
              "if (notebookContainer) {{\n",
              "    x.observe(notebookContainer, {childList: true});\n",
              "}}\n",
              "\n",
              "// Listen for the clearing of the current output cell\n",
              "var outputEl = gd.closest('.output');\n",
              "if (outputEl) {{\n",
              "    x.observe(outputEl, {childList: true});\n",
              "}}\n",
              "\n",
              "                        })                };                            </script>        </div>\n",
              "</body>\n",
              "</html>"
            ]
          },
          "metadata": {},
          "output_type": "display_data"
        }
      ],
      "source": [
        "#sample1\n",
        "specific_rows1= x.iloc[[0, 1, 2,3,4,5], :]\n",
        "\n",
        "# Get pfi for the specific rows\n",
        "interpret_model(rf, data=specific_rows1, plot='pfi')"
      ]
    },
    {
      "cell_type": "code",
      "execution_count": null,
      "id": "gzSmzFBtZM57",
      "metadata": {
        "colab": {
          "base_uri": "https://localhost:8080/",
          "height": 560
        },
        "id": "gzSmzFBtZM57",
        "outputId": "52c5866e-0c98-48f1-ddec-472f8dd1d9af"
      },
      "outputs": [
        {
          "name": "stderr",
          "output_type": "stream",
          "text": [
            "14it [00:00, 28.19it/s]\n"
          ]
        },
        {
          "data": {
            "text/html": [
              "<html>\n",
              "<head><meta charset=\"utf-8\" /></head>\n",
              "<body>\n",
              "    <div>            <script src=\"https://cdnjs.cloudflare.com/ajax/libs/mathjax/2.7.5/MathJax.js?config=TeX-AMS-MML_SVG\"></script><script type=\"text/javascript\">if (window.MathJax && window.MathJax.Hub && window.MathJax.Hub.Config) {window.MathJax.Hub.Config({SVG: {font: \"STIX-Web\"}});}</script>                <script type=\"text/javascript\">window.PlotlyConfig = {MathJaxConfig: 'local'};</script>\n",
              "        <script charset=\"utf-8\" src=\"https://cdn.plot.ly/plotly-2.24.1.min.js\"></script>                <div id=\"f187f81e-1c47-4cbd-93ae-267e3abf9c32\" class=\"plotly-graph-div\" style=\"height:525px; width:100%;\"></div>            <script type=\"text/javascript\">                                    window.PLOTLYENV=window.PLOTLYENV || {};                                    if (document.getElementById(\"f187f81e-1c47-4cbd-93ae-267e3abf9c32\")) {                    Plotly.newPlot(                        \"f187f81e-1c47-4cbd-93ae-267e3abf9c32\",                        [{\"marker\":{\"color\":[\"#1f77b4\",\"#ff7f0e\",\"#ff7f0e\",\"#ff7f0e\",\"#ff7f0e\",\"#1f77b4\",\"#1f77b4\",\"#1f77b4\",\"#1f77b4\",\"#1f77b4\",\"#1f77b4\",\"#1f77b4\",\"#1f77b4\",\"#1f77b4\"]},\"orientation\":\"h\",\"x\":[-0.0026811981201184665,0.014466578165689414,0.01525103251139126,0.01572020848592004,0.021454645792642113,-0.02201027552287016,-0.02707752863566415,-0.028224747975668207,-0.02979768117268833,-0.0791928164164245,-0.11251224517822322,-0.1161620330810571,-0.16152296702067315,-0.3450487709045441],\"y\":[\"2-theta 6\",\"FWHM 5\",\"2-theta 2\",\"2-theta 1\",\"2-theta 3\",\"Intensity 3\",\"Intensity 1\",\"2-theta 5\",\"Intensity 2\",\"Intensity 6\",\"relative_intensity 6\",\"Intensity 4\",\"DROP\",\"relative_intensity 4\"],\"type\":\"bar\"}],                        {\"title\":{\"text\":\"\"},\"xaxis\":{\"range\":[-0.3450487709045441,0.3450487709045441],\"title\":{\"text\":\"\"}},\"yaxis\":{\"automargin\":true,\"dtick\":1,\"title\":{\"text\":\"\"}},\"template\":{\"data\":{\"histogram2dcontour\":[{\"type\":\"histogram2dcontour\",\"colorbar\":{\"outlinewidth\":0,\"ticks\":\"\"},\"colorscale\":[[0.0,\"#0d0887\"],[0.1111111111111111,\"#46039f\"],[0.2222222222222222,\"#7201a8\"],[0.3333333333333333,\"#9c179e\"],[0.4444444444444444,\"#bd3786\"],[0.5555555555555556,\"#d8576b\"],[0.6666666666666666,\"#ed7953\"],[0.7777777777777778,\"#fb9f3a\"],[0.8888888888888888,\"#fdca26\"],[1.0,\"#f0f921\"]]}],\"choropleth\":[{\"type\":\"choropleth\",\"colorbar\":{\"outlinewidth\":0,\"ticks\":\"\"}}],\"histogram2d\":[{\"type\":\"histogram2d\",\"colorbar\":{\"outlinewidth\":0,\"ticks\":\"\"},\"colorscale\":[[0.0,\"#0d0887\"],[0.1111111111111111,\"#46039f\"],[0.2222222222222222,\"#7201a8\"],[0.3333333333333333,\"#9c179e\"],[0.4444444444444444,\"#bd3786\"],[0.5555555555555556,\"#d8576b\"],[0.6666666666666666,\"#ed7953\"],[0.7777777777777778,\"#fb9f3a\"],[0.8888888888888888,\"#fdca26\"],[1.0,\"#f0f921\"]]}],\"heatmap\":[{\"type\":\"heatmap\",\"colorbar\":{\"outlinewidth\":0,\"ticks\":\"\"},\"colorscale\":[[0.0,\"#0d0887\"],[0.1111111111111111,\"#46039f\"],[0.2222222222222222,\"#7201a8\"],[0.3333333333333333,\"#9c179e\"],[0.4444444444444444,\"#bd3786\"],[0.5555555555555556,\"#d8576b\"],[0.6666666666666666,\"#ed7953\"],[0.7777777777777778,\"#fb9f3a\"],[0.8888888888888888,\"#fdca26\"],[1.0,\"#f0f921\"]]}],\"heatmapgl\":[{\"type\":\"heatmapgl\",\"colorbar\":{\"outlinewidth\":0,\"ticks\":\"\"},\"colorscale\":[[0.0,\"#0d0887\"],[0.1111111111111111,\"#46039f\"],[0.2222222222222222,\"#7201a8\"],[0.3333333333333333,\"#9c179e\"],[0.4444444444444444,\"#bd3786\"],[0.5555555555555556,\"#d8576b\"],[0.6666666666666666,\"#ed7953\"],[0.7777777777777778,\"#fb9f3a\"],[0.8888888888888888,\"#fdca26\"],[1.0,\"#f0f921\"]]}],\"contourcarpet\":[{\"type\":\"contourcarpet\",\"colorbar\":{\"outlinewidth\":0,\"ticks\":\"\"}}],\"contour\":[{\"type\":\"contour\",\"colorbar\":{\"outlinewidth\":0,\"ticks\":\"\"},\"colorscale\":[[0.0,\"#0d0887\"],[0.1111111111111111,\"#46039f\"],[0.2222222222222222,\"#7201a8\"],[0.3333333333333333,\"#9c179e\"],[0.4444444444444444,\"#bd3786\"],[0.5555555555555556,\"#d8576b\"],[0.6666666666666666,\"#ed7953\"],[0.7777777777777778,\"#fb9f3a\"],[0.8888888888888888,\"#fdca26\"],[1.0,\"#f0f921\"]]}],\"surface\":[{\"type\":\"surface\",\"colorbar\":{\"outlinewidth\":0,\"ticks\":\"\"},\"colorscale\":[[0.0,\"#0d0887\"],[0.1111111111111111,\"#46039f\"],[0.2222222222222222,\"#7201a8\"],[0.3333333333333333,\"#9c179e\"],[0.4444444444444444,\"#bd3786\"],[0.5555555555555556,\"#d8576b\"],[0.6666666666666666,\"#ed7953\"],[0.7777777777777778,\"#fb9f3a\"],[0.8888888888888888,\"#fdca26\"],[1.0,\"#f0f921\"]]}],\"mesh3d\":[{\"type\":\"mesh3d\",\"colorbar\":{\"outlinewidth\":0,\"ticks\":\"\"}}],\"scatter\":[{\"fillpattern\":{\"fillmode\":\"overlay\",\"size\":10,\"solidity\":0.2},\"type\":\"scatter\"}],\"parcoords\":[{\"type\":\"parcoords\",\"line\":{\"colorbar\":{\"outlinewidth\":0,\"ticks\":\"\"}}}],\"scatterpolargl\":[{\"type\":\"scatterpolargl\",\"marker\":{\"colorbar\":{\"outlinewidth\":0,\"ticks\":\"\"}}}],\"bar\":[{\"error_x\":{\"color\":\"#2a3f5f\"},\"error_y\":{\"color\":\"#2a3f5f\"},\"marker\":{\"line\":{\"color\":\"#E5ECF6\",\"width\":0.5},\"pattern\":{\"fillmode\":\"overlay\",\"size\":10,\"solidity\":0.2}},\"type\":\"bar\"}],\"scattergeo\":[{\"type\":\"scattergeo\",\"marker\":{\"colorbar\":{\"outlinewidth\":0,\"ticks\":\"\"}}}],\"scatterpolar\":[{\"type\":\"scatterpolar\",\"marker\":{\"colorbar\":{\"outlinewidth\":0,\"ticks\":\"\"}}}],\"histogram\":[{\"marker\":{\"pattern\":{\"fillmode\":\"overlay\",\"size\":10,\"solidity\":0.2}},\"type\":\"histogram\"}],\"scattergl\":[{\"type\":\"scattergl\",\"marker\":{\"colorbar\":{\"outlinewidth\":0,\"ticks\":\"\"}}}],\"scatter3d\":[{\"type\":\"scatter3d\",\"line\":{\"colorbar\":{\"outlinewidth\":0,\"ticks\":\"\"}},\"marker\":{\"colorbar\":{\"outlinewidth\":0,\"ticks\":\"\"}}}],\"scattermapbox\":[{\"type\":\"scattermapbox\",\"marker\":{\"colorbar\":{\"outlinewidth\":0,\"ticks\":\"\"}}}],\"scatterternary\":[{\"type\":\"scatterternary\",\"marker\":{\"colorbar\":{\"outlinewidth\":0,\"ticks\":\"\"}}}],\"scattercarpet\":[{\"type\":\"scattercarpet\",\"marker\":{\"colorbar\":{\"outlinewidth\":0,\"ticks\":\"\"}}}],\"carpet\":[{\"aaxis\":{\"endlinecolor\":\"#2a3f5f\",\"gridcolor\":\"white\",\"linecolor\":\"white\",\"minorgridcolor\":\"white\",\"startlinecolor\":\"#2a3f5f\"},\"baxis\":{\"endlinecolor\":\"#2a3f5f\",\"gridcolor\":\"white\",\"linecolor\":\"white\",\"minorgridcolor\":\"white\",\"startlinecolor\":\"#2a3f5f\"},\"type\":\"carpet\"}],\"table\":[{\"cells\":{\"fill\":{\"color\":\"#EBF0F8\"},\"line\":{\"color\":\"white\"}},\"header\":{\"fill\":{\"color\":\"#C8D4E3\"},\"line\":{\"color\":\"white\"}},\"type\":\"table\"}],\"barpolar\":[{\"marker\":{\"line\":{\"color\":\"#E5ECF6\",\"width\":0.5},\"pattern\":{\"fillmode\":\"overlay\",\"size\":10,\"solidity\":0.2}},\"type\":\"barpolar\"}],\"pie\":[{\"automargin\":true,\"type\":\"pie\"}]},\"layout\":{\"autotypenumbers\":\"strict\",\"colorway\":[\"#636efa\",\"#EF553B\",\"#00cc96\",\"#ab63fa\",\"#FFA15A\",\"#19d3f3\",\"#FF6692\",\"#B6E880\",\"#FF97FF\",\"#FECB52\"],\"font\":{\"color\":\"#2a3f5f\"},\"hovermode\":\"closest\",\"hoverlabel\":{\"align\":\"left\"},\"paper_bgcolor\":\"white\",\"plot_bgcolor\":\"#E5ECF6\",\"polar\":{\"bgcolor\":\"#E5ECF6\",\"angularaxis\":{\"gridcolor\":\"white\",\"linecolor\":\"white\",\"ticks\":\"\"},\"radialaxis\":{\"gridcolor\":\"white\",\"linecolor\":\"white\",\"ticks\":\"\"}},\"ternary\":{\"bgcolor\":\"#E5ECF6\",\"aaxis\":{\"gridcolor\":\"white\",\"linecolor\":\"white\",\"ticks\":\"\"},\"baxis\":{\"gridcolor\":\"white\",\"linecolor\":\"white\",\"ticks\":\"\"},\"caxis\":{\"gridcolor\":\"white\",\"linecolor\":\"white\",\"ticks\":\"\"}},\"coloraxis\":{\"colorbar\":{\"outlinewidth\":0,\"ticks\":\"\"}},\"colorscale\":{\"sequential\":[[0.0,\"#0d0887\"],[0.1111111111111111,\"#46039f\"],[0.2222222222222222,\"#7201a8\"],[0.3333333333333333,\"#9c179e\"],[0.4444444444444444,\"#bd3786\"],[0.5555555555555556,\"#d8576b\"],[0.6666666666666666,\"#ed7953\"],[0.7777777777777778,\"#fb9f3a\"],[0.8888888888888888,\"#fdca26\"],[1.0,\"#f0f921\"]],\"sequentialminus\":[[0.0,\"#0d0887\"],[0.1111111111111111,\"#46039f\"],[0.2222222222222222,\"#7201a8\"],[0.3333333333333333,\"#9c179e\"],[0.4444444444444444,\"#bd3786\"],[0.5555555555555556,\"#d8576b\"],[0.6666666666666666,\"#ed7953\"],[0.7777777777777778,\"#fb9f3a\"],[0.8888888888888888,\"#fdca26\"],[1.0,\"#f0f921\"]],\"diverging\":[[0,\"#8e0152\"],[0.1,\"#c51b7d\"],[0.2,\"#de77ae\"],[0.3,\"#f1b6da\"],[0.4,\"#fde0ef\"],[0.5,\"#f7f7f7\"],[0.6,\"#e6f5d0\"],[0.7,\"#b8e186\"],[0.8,\"#7fbc41\"],[0.9,\"#4d9221\"],[1,\"#276419\"]]},\"xaxis\":{\"gridcolor\":\"white\",\"linecolor\":\"white\",\"ticks\":\"\",\"title\":{\"standoff\":15},\"zerolinecolor\":\"white\",\"automargin\":true,\"zerolinewidth\":2},\"yaxis\":{\"gridcolor\":\"white\",\"linecolor\":\"white\",\"ticks\":\"\",\"title\":{\"standoff\":15},\"zerolinecolor\":\"white\",\"automargin\":true,\"zerolinewidth\":2},\"scene\":{\"xaxis\":{\"backgroundcolor\":\"#E5ECF6\",\"gridcolor\":\"white\",\"linecolor\":\"white\",\"showbackground\":true,\"ticks\":\"\",\"zerolinecolor\":\"white\",\"gridwidth\":2},\"yaxis\":{\"backgroundcolor\":\"#E5ECF6\",\"gridcolor\":\"white\",\"linecolor\":\"white\",\"showbackground\":true,\"ticks\":\"\",\"zerolinecolor\":\"white\",\"gridwidth\":2},\"zaxis\":{\"backgroundcolor\":\"#E5ECF6\",\"gridcolor\":\"white\",\"linecolor\":\"white\",\"showbackground\":true,\"ticks\":\"\",\"zerolinecolor\":\"white\",\"gridwidth\":2}},\"shapedefaults\":{\"line\":{\"color\":\"#2a3f5f\"}},\"annotationdefaults\":{\"arrowcolor\":\"#2a3f5f\",\"arrowhead\":0,\"arrowwidth\":1},\"geo\":{\"bgcolor\":\"white\",\"landcolor\":\"#E5ECF6\",\"subunitcolor\":\"white\",\"showland\":true,\"showlakes\":true,\"lakecolor\":\"white\"},\"title\":{\"x\":0.05},\"mapbox\":{\"style\":\"light\"}}}},                        {\"responsive\": true}                    ).then(function(){\n",
              "                            \n",
              "var gd = document.getElementById('f187f81e-1c47-4cbd-93ae-267e3abf9c32');\n",
              "var x = new MutationObserver(function (mutations, observer) {{\n",
              "        var display = window.getComputedStyle(gd).display;\n",
              "        if (!display || display === 'none') {{\n",
              "            console.log([gd, 'removed!']);\n",
              "            Plotly.purge(gd);\n",
              "            observer.disconnect();\n",
              "        }}\n",
              "}});\n",
              "\n",
              "// Listen for the removal of the full notebook cells\n",
              "var notebookContainer = gd.closest('#notebook-container');\n",
              "if (notebookContainer) {{\n",
              "    x.observe(notebookContainer, {childList: true});\n",
              "}}\n",
              "\n",
              "// Listen for the clearing of the current output cell\n",
              "var outputEl = gd.closest('.output');\n",
              "if (outputEl) {{\n",
              "    x.observe(outputEl, {childList: true});\n",
              "}}\n",
              "\n",
              "                        })                };                            </script>        </div>\n",
              "</body>\n",
              "</html>"
            ]
          },
          "metadata": {},
          "output_type": "display_data"
        }
      ],
      "source": [
        "#sample2\n",
        "specific_rows2 = x.iloc[[6,7,8], :]\n",
        "\n",
        "interpret_model(rf, data=specific_rows2, plot='pfi')"
      ]
    },
    {
      "cell_type": "code",
      "execution_count": null,
      "id": "6A-ubBHgZNAo",
      "metadata": {
        "colab": {
          "base_uri": "https://localhost:8080/",
          "height": 560
        },
        "id": "6A-ubBHgZNAo",
        "outputId": "0b4d73bd-5a1f-4498-ad42-dd9d55984287"
      },
      "outputs": [
        {
          "name": "stderr",
          "output_type": "stream",
          "text": [
            "14it [00:00, 27.57it/s]\n"
          ]
        },
        {
          "data": {
            "text/html": [
              "<html>\n",
              "<head><meta charset=\"utf-8\" /></head>\n",
              "<body>\n",
              "    <div>            <script src=\"https://cdnjs.cloudflare.com/ajax/libs/mathjax/2.7.5/MathJax.js?config=TeX-AMS-MML_SVG\"></script><script type=\"text/javascript\">if (window.MathJax && window.MathJax.Hub && window.MathJax.Hub.Config) {window.MathJax.Hub.Config({SVG: {font: \"STIX-Web\"}});}</script>                <script type=\"text/javascript\">window.PlotlyConfig = {MathJaxConfig: 'local'};</script>\n",
              "        <script charset=\"utf-8\" src=\"https://cdn.plot.ly/plotly-2.24.1.min.js\"></script>                <div id=\"63939664-68b1-4966-9334-3ddc146bf6d4\" class=\"plotly-graph-div\" style=\"height:525px; width:100%;\"></div>            <script type=\"text/javascript\">                                    window.PLOTLYENV=window.PLOTLYENV || {};                                    if (document.getElementById(\"63939664-68b1-4966-9334-3ddc146bf6d4\")) {                    Plotly.newPlot(                        \"63939664-68b1-4966-9334-3ddc146bf6d4\",                        [{\"marker\":{\"color\":[\"#1f77b4\",\"#ff7f0e\",\"#ff7f0e\",\"#ff7f0e\",\"#ff7f0e\",\"#1f77b4\",\"#1f77b4\",\"#1f77b4\",\"#1f77b4\",\"#1f77b4\",\"#1f77b4\",\"#1f77b4\",\"#1f77b4\",\"#1f77b4\"]},\"orientation\":\"h\",\"x\":[-0.0026811981201184665,0.014466578165689414,0.01525103251139126,0.01572020848592004,0.021454645792642113,-0.02201027552287016,-0.02707752863566415,-0.028224747975668207,-0.02979768117268833,-0.0791928164164245,-0.11251224517822322,-0.1161620330810571,-0.16152296702067315,-0.3450487709045441],\"y\":[\"2-theta 6\",\"FWHM 5\",\"2-theta 2\",\"2-theta 1\",\"2-theta 3\",\"Intensity 3\",\"Intensity 1\",\"2-theta 5\",\"Intensity 2\",\"Intensity 6\",\"relative_intensity 6\",\"Intensity 4\",\"DROP\",\"relative_intensity 4\"],\"type\":\"bar\"}],                        {\"title\":{\"text\":\"\"},\"xaxis\":{\"range\":[-0.3450487709045441,0.3450487709045441],\"title\":{\"text\":\"\"}},\"yaxis\":{\"automargin\":true,\"dtick\":1,\"title\":{\"text\":\"\"}},\"template\":{\"data\":{\"histogram2dcontour\":[{\"type\":\"histogram2dcontour\",\"colorbar\":{\"outlinewidth\":0,\"ticks\":\"\"},\"colorscale\":[[0.0,\"#0d0887\"],[0.1111111111111111,\"#46039f\"],[0.2222222222222222,\"#7201a8\"],[0.3333333333333333,\"#9c179e\"],[0.4444444444444444,\"#bd3786\"],[0.5555555555555556,\"#d8576b\"],[0.6666666666666666,\"#ed7953\"],[0.7777777777777778,\"#fb9f3a\"],[0.8888888888888888,\"#fdca26\"],[1.0,\"#f0f921\"]]}],\"choropleth\":[{\"type\":\"choropleth\",\"colorbar\":{\"outlinewidth\":0,\"ticks\":\"\"}}],\"histogram2d\":[{\"type\":\"histogram2d\",\"colorbar\":{\"outlinewidth\":0,\"ticks\":\"\"},\"colorscale\":[[0.0,\"#0d0887\"],[0.1111111111111111,\"#46039f\"],[0.2222222222222222,\"#7201a8\"],[0.3333333333333333,\"#9c179e\"],[0.4444444444444444,\"#bd3786\"],[0.5555555555555556,\"#d8576b\"],[0.6666666666666666,\"#ed7953\"],[0.7777777777777778,\"#fb9f3a\"],[0.8888888888888888,\"#fdca26\"],[1.0,\"#f0f921\"]]}],\"heatmap\":[{\"type\":\"heatmap\",\"colorbar\":{\"outlinewidth\":0,\"ticks\":\"\"},\"colorscale\":[[0.0,\"#0d0887\"],[0.1111111111111111,\"#46039f\"],[0.2222222222222222,\"#7201a8\"],[0.3333333333333333,\"#9c179e\"],[0.4444444444444444,\"#bd3786\"],[0.5555555555555556,\"#d8576b\"],[0.6666666666666666,\"#ed7953\"],[0.7777777777777778,\"#fb9f3a\"],[0.8888888888888888,\"#fdca26\"],[1.0,\"#f0f921\"]]}],\"heatmapgl\":[{\"type\":\"heatmapgl\",\"colorbar\":{\"outlinewidth\":0,\"ticks\":\"\"},\"colorscale\":[[0.0,\"#0d0887\"],[0.1111111111111111,\"#46039f\"],[0.2222222222222222,\"#7201a8\"],[0.3333333333333333,\"#9c179e\"],[0.4444444444444444,\"#bd3786\"],[0.5555555555555556,\"#d8576b\"],[0.6666666666666666,\"#ed7953\"],[0.7777777777777778,\"#fb9f3a\"],[0.8888888888888888,\"#fdca26\"],[1.0,\"#f0f921\"]]}],\"contourcarpet\":[{\"type\":\"contourcarpet\",\"colorbar\":{\"outlinewidth\":0,\"ticks\":\"\"}}],\"contour\":[{\"type\":\"contour\",\"colorbar\":{\"outlinewidth\":0,\"ticks\":\"\"},\"colorscale\":[[0.0,\"#0d0887\"],[0.1111111111111111,\"#46039f\"],[0.2222222222222222,\"#7201a8\"],[0.3333333333333333,\"#9c179e\"],[0.4444444444444444,\"#bd3786\"],[0.5555555555555556,\"#d8576b\"],[0.6666666666666666,\"#ed7953\"],[0.7777777777777778,\"#fb9f3a\"],[0.8888888888888888,\"#fdca26\"],[1.0,\"#f0f921\"]]}],\"surface\":[{\"type\":\"surface\",\"colorbar\":{\"outlinewidth\":0,\"ticks\":\"\"},\"colorscale\":[[0.0,\"#0d0887\"],[0.1111111111111111,\"#46039f\"],[0.2222222222222222,\"#7201a8\"],[0.3333333333333333,\"#9c179e\"],[0.4444444444444444,\"#bd3786\"],[0.5555555555555556,\"#d8576b\"],[0.6666666666666666,\"#ed7953\"],[0.7777777777777778,\"#fb9f3a\"],[0.8888888888888888,\"#fdca26\"],[1.0,\"#f0f921\"]]}],\"mesh3d\":[{\"type\":\"mesh3d\",\"colorbar\":{\"outlinewidth\":0,\"ticks\":\"\"}}],\"scatter\":[{\"fillpattern\":{\"fillmode\":\"overlay\",\"size\":10,\"solidity\":0.2},\"type\":\"scatter\"}],\"parcoords\":[{\"type\":\"parcoords\",\"line\":{\"colorbar\":{\"outlinewidth\":0,\"ticks\":\"\"}}}],\"scatterpolargl\":[{\"type\":\"scatterpolargl\",\"marker\":{\"colorbar\":{\"outlinewidth\":0,\"ticks\":\"\"}}}],\"bar\":[{\"error_x\":{\"color\":\"#2a3f5f\"},\"error_y\":{\"color\":\"#2a3f5f\"},\"marker\":{\"line\":{\"color\":\"#E5ECF6\",\"width\":0.5},\"pattern\":{\"fillmode\":\"overlay\",\"size\":10,\"solidity\":0.2}},\"type\":\"bar\"}],\"scattergeo\":[{\"type\":\"scattergeo\",\"marker\":{\"colorbar\":{\"outlinewidth\":0,\"ticks\":\"\"}}}],\"scatterpolar\":[{\"type\":\"scatterpolar\",\"marker\":{\"colorbar\":{\"outlinewidth\":0,\"ticks\":\"\"}}}],\"histogram\":[{\"marker\":{\"pattern\":{\"fillmode\":\"overlay\",\"size\":10,\"solidity\":0.2}},\"type\":\"histogram\"}],\"scattergl\":[{\"type\":\"scattergl\",\"marker\":{\"colorbar\":{\"outlinewidth\":0,\"ticks\":\"\"}}}],\"scatter3d\":[{\"type\":\"scatter3d\",\"line\":{\"colorbar\":{\"outlinewidth\":0,\"ticks\":\"\"}},\"marker\":{\"colorbar\":{\"outlinewidth\":0,\"ticks\":\"\"}}}],\"scattermapbox\":[{\"type\":\"scattermapbox\",\"marker\":{\"colorbar\":{\"outlinewidth\":0,\"ticks\":\"\"}}}],\"scatterternary\":[{\"type\":\"scatterternary\",\"marker\":{\"colorbar\":{\"outlinewidth\":0,\"ticks\":\"\"}}}],\"scattercarpet\":[{\"type\":\"scattercarpet\",\"marker\":{\"colorbar\":{\"outlinewidth\":0,\"ticks\":\"\"}}}],\"carpet\":[{\"aaxis\":{\"endlinecolor\":\"#2a3f5f\",\"gridcolor\":\"white\",\"linecolor\":\"white\",\"minorgridcolor\":\"white\",\"startlinecolor\":\"#2a3f5f\"},\"baxis\":{\"endlinecolor\":\"#2a3f5f\",\"gridcolor\":\"white\",\"linecolor\":\"white\",\"minorgridcolor\":\"white\",\"startlinecolor\":\"#2a3f5f\"},\"type\":\"carpet\"}],\"table\":[{\"cells\":{\"fill\":{\"color\":\"#EBF0F8\"},\"line\":{\"color\":\"white\"}},\"header\":{\"fill\":{\"color\":\"#C8D4E3\"},\"line\":{\"color\":\"white\"}},\"type\":\"table\"}],\"barpolar\":[{\"marker\":{\"line\":{\"color\":\"#E5ECF6\",\"width\":0.5},\"pattern\":{\"fillmode\":\"overlay\",\"size\":10,\"solidity\":0.2}},\"type\":\"barpolar\"}],\"pie\":[{\"automargin\":true,\"type\":\"pie\"}]},\"layout\":{\"autotypenumbers\":\"strict\",\"colorway\":[\"#636efa\",\"#EF553B\",\"#00cc96\",\"#ab63fa\",\"#FFA15A\",\"#19d3f3\",\"#FF6692\",\"#B6E880\",\"#FF97FF\",\"#FECB52\"],\"font\":{\"color\":\"#2a3f5f\"},\"hovermode\":\"closest\",\"hoverlabel\":{\"align\":\"left\"},\"paper_bgcolor\":\"white\",\"plot_bgcolor\":\"#E5ECF6\",\"polar\":{\"bgcolor\":\"#E5ECF6\",\"angularaxis\":{\"gridcolor\":\"white\",\"linecolor\":\"white\",\"ticks\":\"\"},\"radialaxis\":{\"gridcolor\":\"white\",\"linecolor\":\"white\",\"ticks\":\"\"}},\"ternary\":{\"bgcolor\":\"#E5ECF6\",\"aaxis\":{\"gridcolor\":\"white\",\"linecolor\":\"white\",\"ticks\":\"\"},\"baxis\":{\"gridcolor\":\"white\",\"linecolor\":\"white\",\"ticks\":\"\"},\"caxis\":{\"gridcolor\":\"white\",\"linecolor\":\"white\",\"ticks\":\"\"}},\"coloraxis\":{\"colorbar\":{\"outlinewidth\":0,\"ticks\":\"\"}},\"colorscale\":{\"sequential\":[[0.0,\"#0d0887\"],[0.1111111111111111,\"#46039f\"],[0.2222222222222222,\"#7201a8\"],[0.3333333333333333,\"#9c179e\"],[0.4444444444444444,\"#bd3786\"],[0.5555555555555556,\"#d8576b\"],[0.6666666666666666,\"#ed7953\"],[0.7777777777777778,\"#fb9f3a\"],[0.8888888888888888,\"#fdca26\"],[1.0,\"#f0f921\"]],\"sequentialminus\":[[0.0,\"#0d0887\"],[0.1111111111111111,\"#46039f\"],[0.2222222222222222,\"#7201a8\"],[0.3333333333333333,\"#9c179e\"],[0.4444444444444444,\"#bd3786\"],[0.5555555555555556,\"#d8576b\"],[0.6666666666666666,\"#ed7953\"],[0.7777777777777778,\"#fb9f3a\"],[0.8888888888888888,\"#fdca26\"],[1.0,\"#f0f921\"]],\"diverging\":[[0,\"#8e0152\"],[0.1,\"#c51b7d\"],[0.2,\"#de77ae\"],[0.3,\"#f1b6da\"],[0.4,\"#fde0ef\"],[0.5,\"#f7f7f7\"],[0.6,\"#e6f5d0\"],[0.7,\"#b8e186\"],[0.8,\"#7fbc41\"],[0.9,\"#4d9221\"],[1,\"#276419\"]]},\"xaxis\":{\"gridcolor\":\"white\",\"linecolor\":\"white\",\"ticks\":\"\",\"title\":{\"standoff\":15},\"zerolinecolor\":\"white\",\"automargin\":true,\"zerolinewidth\":2},\"yaxis\":{\"gridcolor\":\"white\",\"linecolor\":\"white\",\"ticks\":\"\",\"title\":{\"standoff\":15},\"zerolinecolor\":\"white\",\"automargin\":true,\"zerolinewidth\":2},\"scene\":{\"xaxis\":{\"backgroundcolor\":\"#E5ECF6\",\"gridcolor\":\"white\",\"linecolor\":\"white\",\"showbackground\":true,\"ticks\":\"\",\"zerolinecolor\":\"white\",\"gridwidth\":2},\"yaxis\":{\"backgroundcolor\":\"#E5ECF6\",\"gridcolor\":\"white\",\"linecolor\":\"white\",\"showbackground\":true,\"ticks\":\"\",\"zerolinecolor\":\"white\",\"gridwidth\":2},\"zaxis\":{\"backgroundcolor\":\"#E5ECF6\",\"gridcolor\":\"white\",\"linecolor\":\"white\",\"showbackground\":true,\"ticks\":\"\",\"zerolinecolor\":\"white\",\"gridwidth\":2}},\"shapedefaults\":{\"line\":{\"color\":\"#2a3f5f\"}},\"annotationdefaults\":{\"arrowcolor\":\"#2a3f5f\",\"arrowhead\":0,\"arrowwidth\":1},\"geo\":{\"bgcolor\":\"white\",\"landcolor\":\"#E5ECF6\",\"subunitcolor\":\"white\",\"showland\":true,\"showlakes\":true,\"lakecolor\":\"white\"},\"title\":{\"x\":0.05},\"mapbox\":{\"style\":\"light\"}}}},                        {\"responsive\": true}                    ).then(function(){\n",
              "                            \n",
              "var gd = document.getElementById('63939664-68b1-4966-9334-3ddc146bf6d4');\n",
              "var x = new MutationObserver(function (mutations, observer) {{\n",
              "        var display = window.getComputedStyle(gd).display;\n",
              "        if (!display || display === 'none') {{\n",
              "            console.log([gd, 'removed!']);\n",
              "            Plotly.purge(gd);\n",
              "            observer.disconnect();\n",
              "        }}\n",
              "}});\n",
              "\n",
              "// Listen for the removal of the full notebook cells\n",
              "var notebookContainer = gd.closest('#notebook-container');\n",
              "if (notebookContainer) {{\n",
              "    x.observe(notebookContainer, {childList: true});\n",
              "}}\n",
              "\n",
              "// Listen for the clearing of the current output cell\n",
              "var outputEl = gd.closest('.output');\n",
              "if (outputEl) {{\n",
              "    x.observe(outputEl, {childList: true});\n",
              "}}\n",
              "\n",
              "                        })                };                            </script>        </div>\n",
              "</body>\n",
              "</html>"
            ]
          },
          "metadata": {},
          "output_type": "display_data"
        }
      ],
      "source": [
        "#sample3\n",
        "specific_rows3 = x.iloc[[9,10,11,12,13,14], :]\n",
        "\n",
        "interpret_model(rf, data=specific_rows3, plot='pfi')"
      ]
    },
    {
      "cell_type": "code",
      "execution_count": null,
      "id": "CGRqReGijSUa",
      "metadata": {
        "colab": {
          "base_uri": "https://localhost:8080/",
          "height": 560
        },
        "id": "CGRqReGijSUa",
        "outputId": "e7fd046e-8208-447d-b729-5697190dc2fd"
      },
      "outputs": [
        {
          "name": "stderr",
          "output_type": "stream",
          "text": [
            "14it [00:00, 36.79it/s]\n"
          ]
        },
        {
          "data": {
            "text/html": [
              "<html>\n",
              "<head><meta charset=\"utf-8\" /></head>\n",
              "<body>\n",
              "    <div>            <script src=\"https://cdnjs.cloudflare.com/ajax/libs/mathjax/2.7.5/MathJax.js?config=TeX-AMS-MML_SVG\"></script><script type=\"text/javascript\">if (window.MathJax && window.MathJax.Hub && window.MathJax.Hub.Config) {window.MathJax.Hub.Config({SVG: {font: \"STIX-Web\"}});}</script>                <script type=\"text/javascript\">window.PlotlyConfig = {MathJaxConfig: 'local'};</script>\n",
              "        <script charset=\"utf-8\" src=\"https://cdn.plot.ly/plotly-2.24.1.min.js\"></script>                <div id=\"12e5bccd-89a7-40e1-829d-dc9f34e7102f\" class=\"plotly-graph-div\" style=\"height:525px; width:100%;\"></div>            <script type=\"text/javascript\">                                    window.PLOTLYENV=window.PLOTLYENV || {};                                    if (document.getElementById(\"12e5bccd-89a7-40e1-829d-dc9f34e7102f\")) {                    Plotly.newPlot(                        \"12e5bccd-89a7-40e1-829d-dc9f34e7102f\",                        [{\"marker\":{\"color\":[\"#1f77b4\",\"#ff7f0e\",\"#ff7f0e\",\"#ff7f0e\",\"#ff7f0e\",\"#1f77b4\",\"#1f77b4\",\"#1f77b4\",\"#1f77b4\",\"#1f77b4\",\"#1f77b4\",\"#1f77b4\",\"#1f77b4\",\"#1f77b4\"]},\"orientation\":\"h\",\"x\":[-0.0026811981201184665,0.014466578165689414,0.01525103251139126,0.01572020848592004,0.021454645792642113,-0.02201027552287016,-0.02707752863566415,-0.028224747975668207,-0.02979768117268833,-0.0791928164164245,-0.11251224517822322,-0.1161620330810571,-0.16152296702067315,-0.3450487709045441],\"y\":[\"2-theta 6\",\"FWHM 5\",\"2-theta 2\",\"2-theta 1\",\"2-theta 3\",\"Intensity 3\",\"Intensity 1\",\"2-theta 5\",\"Intensity 2\",\"Intensity 6\",\"relative_intensity 6\",\"Intensity 4\",\"DROP\",\"relative_intensity 4\"],\"type\":\"bar\"}],                        {\"title\":{\"text\":\"\"},\"xaxis\":{\"range\":[-0.3450487709045441,0.3450487709045441],\"title\":{\"text\":\"\"}},\"yaxis\":{\"automargin\":true,\"dtick\":1,\"title\":{\"text\":\"\"}},\"template\":{\"data\":{\"histogram2dcontour\":[{\"type\":\"histogram2dcontour\",\"colorbar\":{\"outlinewidth\":0,\"ticks\":\"\"},\"colorscale\":[[0.0,\"#0d0887\"],[0.1111111111111111,\"#46039f\"],[0.2222222222222222,\"#7201a8\"],[0.3333333333333333,\"#9c179e\"],[0.4444444444444444,\"#bd3786\"],[0.5555555555555556,\"#d8576b\"],[0.6666666666666666,\"#ed7953\"],[0.7777777777777778,\"#fb9f3a\"],[0.8888888888888888,\"#fdca26\"],[1.0,\"#f0f921\"]]}],\"choropleth\":[{\"type\":\"choropleth\",\"colorbar\":{\"outlinewidth\":0,\"ticks\":\"\"}}],\"histogram2d\":[{\"type\":\"histogram2d\",\"colorbar\":{\"outlinewidth\":0,\"ticks\":\"\"},\"colorscale\":[[0.0,\"#0d0887\"],[0.1111111111111111,\"#46039f\"],[0.2222222222222222,\"#7201a8\"],[0.3333333333333333,\"#9c179e\"],[0.4444444444444444,\"#bd3786\"],[0.5555555555555556,\"#d8576b\"],[0.6666666666666666,\"#ed7953\"],[0.7777777777777778,\"#fb9f3a\"],[0.8888888888888888,\"#fdca26\"],[1.0,\"#f0f921\"]]}],\"heatmap\":[{\"type\":\"heatmap\",\"colorbar\":{\"outlinewidth\":0,\"ticks\":\"\"},\"colorscale\":[[0.0,\"#0d0887\"],[0.1111111111111111,\"#46039f\"],[0.2222222222222222,\"#7201a8\"],[0.3333333333333333,\"#9c179e\"],[0.4444444444444444,\"#bd3786\"],[0.5555555555555556,\"#d8576b\"],[0.6666666666666666,\"#ed7953\"],[0.7777777777777778,\"#fb9f3a\"],[0.8888888888888888,\"#fdca26\"],[1.0,\"#f0f921\"]]}],\"heatmapgl\":[{\"type\":\"heatmapgl\",\"colorbar\":{\"outlinewidth\":0,\"ticks\":\"\"},\"colorscale\":[[0.0,\"#0d0887\"],[0.1111111111111111,\"#46039f\"],[0.2222222222222222,\"#7201a8\"],[0.3333333333333333,\"#9c179e\"],[0.4444444444444444,\"#bd3786\"],[0.5555555555555556,\"#d8576b\"],[0.6666666666666666,\"#ed7953\"],[0.7777777777777778,\"#fb9f3a\"],[0.8888888888888888,\"#fdca26\"],[1.0,\"#f0f921\"]]}],\"contourcarpet\":[{\"type\":\"contourcarpet\",\"colorbar\":{\"outlinewidth\":0,\"ticks\":\"\"}}],\"contour\":[{\"type\":\"contour\",\"colorbar\":{\"outlinewidth\":0,\"ticks\":\"\"},\"colorscale\":[[0.0,\"#0d0887\"],[0.1111111111111111,\"#46039f\"],[0.2222222222222222,\"#7201a8\"],[0.3333333333333333,\"#9c179e\"],[0.4444444444444444,\"#bd3786\"],[0.5555555555555556,\"#d8576b\"],[0.6666666666666666,\"#ed7953\"],[0.7777777777777778,\"#fb9f3a\"],[0.8888888888888888,\"#fdca26\"],[1.0,\"#f0f921\"]]}],\"surface\":[{\"type\":\"surface\",\"colorbar\":{\"outlinewidth\":0,\"ticks\":\"\"},\"colorscale\":[[0.0,\"#0d0887\"],[0.1111111111111111,\"#46039f\"],[0.2222222222222222,\"#7201a8\"],[0.3333333333333333,\"#9c179e\"],[0.4444444444444444,\"#bd3786\"],[0.5555555555555556,\"#d8576b\"],[0.6666666666666666,\"#ed7953\"],[0.7777777777777778,\"#fb9f3a\"],[0.8888888888888888,\"#fdca26\"],[1.0,\"#f0f921\"]]}],\"mesh3d\":[{\"type\":\"mesh3d\",\"colorbar\":{\"outlinewidth\":0,\"ticks\":\"\"}}],\"scatter\":[{\"fillpattern\":{\"fillmode\":\"overlay\",\"size\":10,\"solidity\":0.2},\"type\":\"scatter\"}],\"parcoords\":[{\"type\":\"parcoords\",\"line\":{\"colorbar\":{\"outlinewidth\":0,\"ticks\":\"\"}}}],\"scatterpolargl\":[{\"type\":\"scatterpolargl\",\"marker\":{\"colorbar\":{\"outlinewidth\":0,\"ticks\":\"\"}}}],\"bar\":[{\"error_x\":{\"color\":\"#2a3f5f\"},\"error_y\":{\"color\":\"#2a3f5f\"},\"marker\":{\"line\":{\"color\":\"#E5ECF6\",\"width\":0.5},\"pattern\":{\"fillmode\":\"overlay\",\"size\":10,\"solidity\":0.2}},\"type\":\"bar\"}],\"scattergeo\":[{\"type\":\"scattergeo\",\"marker\":{\"colorbar\":{\"outlinewidth\":0,\"ticks\":\"\"}}}],\"scatterpolar\":[{\"type\":\"scatterpolar\",\"marker\":{\"colorbar\":{\"outlinewidth\":0,\"ticks\":\"\"}}}],\"histogram\":[{\"marker\":{\"pattern\":{\"fillmode\":\"overlay\",\"size\":10,\"solidity\":0.2}},\"type\":\"histogram\"}],\"scattergl\":[{\"type\":\"scattergl\",\"marker\":{\"colorbar\":{\"outlinewidth\":0,\"ticks\":\"\"}}}],\"scatter3d\":[{\"type\":\"scatter3d\",\"line\":{\"colorbar\":{\"outlinewidth\":0,\"ticks\":\"\"}},\"marker\":{\"colorbar\":{\"outlinewidth\":0,\"ticks\":\"\"}}}],\"scattermapbox\":[{\"type\":\"scattermapbox\",\"marker\":{\"colorbar\":{\"outlinewidth\":0,\"ticks\":\"\"}}}],\"scatterternary\":[{\"type\":\"scatterternary\",\"marker\":{\"colorbar\":{\"outlinewidth\":0,\"ticks\":\"\"}}}],\"scattercarpet\":[{\"type\":\"scattercarpet\",\"marker\":{\"colorbar\":{\"outlinewidth\":0,\"ticks\":\"\"}}}],\"carpet\":[{\"aaxis\":{\"endlinecolor\":\"#2a3f5f\",\"gridcolor\":\"white\",\"linecolor\":\"white\",\"minorgridcolor\":\"white\",\"startlinecolor\":\"#2a3f5f\"},\"baxis\":{\"endlinecolor\":\"#2a3f5f\",\"gridcolor\":\"white\",\"linecolor\":\"white\",\"minorgridcolor\":\"white\",\"startlinecolor\":\"#2a3f5f\"},\"type\":\"carpet\"}],\"table\":[{\"cells\":{\"fill\":{\"color\":\"#EBF0F8\"},\"line\":{\"color\":\"white\"}},\"header\":{\"fill\":{\"color\":\"#C8D4E3\"},\"line\":{\"color\":\"white\"}},\"type\":\"table\"}],\"barpolar\":[{\"marker\":{\"line\":{\"color\":\"#E5ECF6\",\"width\":0.5},\"pattern\":{\"fillmode\":\"overlay\",\"size\":10,\"solidity\":0.2}},\"type\":\"barpolar\"}],\"pie\":[{\"automargin\":true,\"type\":\"pie\"}]},\"layout\":{\"autotypenumbers\":\"strict\",\"colorway\":[\"#636efa\",\"#EF553B\",\"#00cc96\",\"#ab63fa\",\"#FFA15A\",\"#19d3f3\",\"#FF6692\",\"#B6E880\",\"#FF97FF\",\"#FECB52\"],\"font\":{\"color\":\"#2a3f5f\"},\"hovermode\":\"closest\",\"hoverlabel\":{\"align\":\"left\"},\"paper_bgcolor\":\"white\",\"plot_bgcolor\":\"#E5ECF6\",\"polar\":{\"bgcolor\":\"#E5ECF6\",\"angularaxis\":{\"gridcolor\":\"white\",\"linecolor\":\"white\",\"ticks\":\"\"},\"radialaxis\":{\"gridcolor\":\"white\",\"linecolor\":\"white\",\"ticks\":\"\"}},\"ternary\":{\"bgcolor\":\"#E5ECF6\",\"aaxis\":{\"gridcolor\":\"white\",\"linecolor\":\"white\",\"ticks\":\"\"},\"baxis\":{\"gridcolor\":\"white\",\"linecolor\":\"white\",\"ticks\":\"\"},\"caxis\":{\"gridcolor\":\"white\",\"linecolor\":\"white\",\"ticks\":\"\"}},\"coloraxis\":{\"colorbar\":{\"outlinewidth\":0,\"ticks\":\"\"}},\"colorscale\":{\"sequential\":[[0.0,\"#0d0887\"],[0.1111111111111111,\"#46039f\"],[0.2222222222222222,\"#7201a8\"],[0.3333333333333333,\"#9c179e\"],[0.4444444444444444,\"#bd3786\"],[0.5555555555555556,\"#d8576b\"],[0.6666666666666666,\"#ed7953\"],[0.7777777777777778,\"#fb9f3a\"],[0.8888888888888888,\"#fdca26\"],[1.0,\"#f0f921\"]],\"sequentialminus\":[[0.0,\"#0d0887\"],[0.1111111111111111,\"#46039f\"],[0.2222222222222222,\"#7201a8\"],[0.3333333333333333,\"#9c179e\"],[0.4444444444444444,\"#bd3786\"],[0.5555555555555556,\"#d8576b\"],[0.6666666666666666,\"#ed7953\"],[0.7777777777777778,\"#fb9f3a\"],[0.8888888888888888,\"#fdca26\"],[1.0,\"#f0f921\"]],\"diverging\":[[0,\"#8e0152\"],[0.1,\"#c51b7d\"],[0.2,\"#de77ae\"],[0.3,\"#f1b6da\"],[0.4,\"#fde0ef\"],[0.5,\"#f7f7f7\"],[0.6,\"#e6f5d0\"],[0.7,\"#b8e186\"],[0.8,\"#7fbc41\"],[0.9,\"#4d9221\"],[1,\"#276419\"]]},\"xaxis\":{\"gridcolor\":\"white\",\"linecolor\":\"white\",\"ticks\":\"\",\"title\":{\"standoff\":15},\"zerolinecolor\":\"white\",\"automargin\":true,\"zerolinewidth\":2},\"yaxis\":{\"gridcolor\":\"white\",\"linecolor\":\"white\",\"ticks\":\"\",\"title\":{\"standoff\":15},\"zerolinecolor\":\"white\",\"automargin\":true,\"zerolinewidth\":2},\"scene\":{\"xaxis\":{\"backgroundcolor\":\"#E5ECF6\",\"gridcolor\":\"white\",\"linecolor\":\"white\",\"showbackground\":true,\"ticks\":\"\",\"zerolinecolor\":\"white\",\"gridwidth\":2},\"yaxis\":{\"backgroundcolor\":\"#E5ECF6\",\"gridcolor\":\"white\",\"linecolor\":\"white\",\"showbackground\":true,\"ticks\":\"\",\"zerolinecolor\":\"white\",\"gridwidth\":2},\"zaxis\":{\"backgroundcolor\":\"#E5ECF6\",\"gridcolor\":\"white\",\"linecolor\":\"white\",\"showbackground\":true,\"ticks\":\"\",\"zerolinecolor\":\"white\",\"gridwidth\":2}},\"shapedefaults\":{\"line\":{\"color\":\"#2a3f5f\"}},\"annotationdefaults\":{\"arrowcolor\":\"#2a3f5f\",\"arrowhead\":0,\"arrowwidth\":1},\"geo\":{\"bgcolor\":\"white\",\"landcolor\":\"#E5ECF6\",\"subunitcolor\":\"white\",\"showland\":true,\"showlakes\":true,\"lakecolor\":\"white\"},\"title\":{\"x\":0.05},\"mapbox\":{\"style\":\"light\"}}}},                        {\"responsive\": true}                    ).then(function(){\n",
              "                            \n",
              "var gd = document.getElementById('12e5bccd-89a7-40e1-829d-dc9f34e7102f');\n",
              "var x = new MutationObserver(function (mutations, observer) {{\n",
              "        var display = window.getComputedStyle(gd).display;\n",
              "        if (!display || display === 'none') {{\n",
              "            console.log([gd, 'removed!']);\n",
              "            Plotly.purge(gd);\n",
              "            observer.disconnect();\n",
              "        }}\n",
              "}});\n",
              "\n",
              "// Listen for the removal of the full notebook cells\n",
              "var notebookContainer = gd.closest('#notebook-container');\n",
              "if (notebookContainer) {{\n",
              "    x.observe(notebookContainer, {childList: true});\n",
              "}}\n",
              "\n",
              "// Listen for the clearing of the current output cell\n",
              "var outputEl = gd.closest('.output');\n",
              "if (outputEl) {{\n",
              "    x.observe(outputEl, {childList: true});\n",
              "}}\n",
              "\n",
              "                        })                };                            </script>        </div>\n",
              "</body>\n",
              "</html>"
            ]
          },
          "metadata": {},
          "output_type": "display_data"
        }
      ],
      "source": [
        "#sample4\n",
        "specific_rows4 = x.iloc[[15,16,17,18,19,20], :]\n",
        "\n",
        "interpret_model(rf, data=specific_rows4, plot='pfi')"
      ]
    },
    {
      "cell_type": "code",
      "execution_count": null,
      "id": "4DtybUIUjScN",
      "metadata": {
        "colab": {
          "base_uri": "https://localhost:8080/",
          "height": 560
        },
        "id": "4DtybUIUjScN",
        "outputId": "c22e7b99-ca8a-4a6f-8a69-fce3e1644531"
      },
      "outputs": [
        {
          "name": "stderr",
          "output_type": "stream",
          "text": [
            "14it [00:00, 19.54it/s]\n"
          ]
        },
        {
          "data": {
            "text/html": [
              "<html>\n",
              "<head><meta charset=\"utf-8\" /></head>\n",
              "<body>\n",
              "    <div>            <script src=\"https://cdnjs.cloudflare.com/ajax/libs/mathjax/2.7.5/MathJax.js?config=TeX-AMS-MML_SVG\"></script><script type=\"text/javascript\">if (window.MathJax && window.MathJax.Hub && window.MathJax.Hub.Config) {window.MathJax.Hub.Config({SVG: {font: \"STIX-Web\"}});}</script>                <script type=\"text/javascript\">window.PlotlyConfig = {MathJaxConfig: 'local'};</script>\n",
              "        <script charset=\"utf-8\" src=\"https://cdn.plot.ly/plotly-2.24.1.min.js\"></script>                <div id=\"e0239a2f-d471-4756-998c-9a9f57f1c5cf\" class=\"plotly-graph-div\" style=\"height:525px; width:100%;\"></div>            <script type=\"text/javascript\">                                    window.PLOTLYENV=window.PLOTLYENV || {};                                    if (document.getElementById(\"e0239a2f-d471-4756-998c-9a9f57f1c5cf\")) {                    Plotly.newPlot(                        \"e0239a2f-d471-4756-998c-9a9f57f1c5cf\",                        [{\"marker\":{\"color\":[\"#1f77b4\",\"#ff7f0e\",\"#ff7f0e\",\"#ff7f0e\",\"#ff7f0e\",\"#1f77b4\",\"#1f77b4\",\"#1f77b4\",\"#1f77b4\",\"#1f77b4\",\"#1f77b4\",\"#1f77b4\",\"#1f77b4\",\"#1f77b4\"]},\"orientation\":\"h\",\"x\":[-0.0026811981201184665,0.014466578165689414,0.01525103251139126,0.01572020848592004,0.021454645792642113,-0.02201027552287016,-0.02707752863566415,-0.028224747975668207,-0.02979768117268833,-0.0791928164164245,-0.11251224517822322,-0.1161620330810571,-0.16152296702067315,-0.3450487709045441],\"y\":[\"2-theta 6\",\"FWHM 5\",\"2-theta 2\",\"2-theta 1\",\"2-theta 3\",\"Intensity 3\",\"Intensity 1\",\"2-theta 5\",\"Intensity 2\",\"Intensity 6\",\"relative_intensity 6\",\"Intensity 4\",\"DROP\",\"relative_intensity 4\"],\"type\":\"bar\"}],                        {\"title\":{\"text\":\"\"},\"xaxis\":{\"range\":[-0.3450487709045441,0.3450487709045441],\"title\":{\"text\":\"\"}},\"yaxis\":{\"automargin\":true,\"dtick\":1,\"title\":{\"text\":\"\"}},\"template\":{\"data\":{\"histogram2dcontour\":[{\"type\":\"histogram2dcontour\",\"colorbar\":{\"outlinewidth\":0,\"ticks\":\"\"},\"colorscale\":[[0.0,\"#0d0887\"],[0.1111111111111111,\"#46039f\"],[0.2222222222222222,\"#7201a8\"],[0.3333333333333333,\"#9c179e\"],[0.4444444444444444,\"#bd3786\"],[0.5555555555555556,\"#d8576b\"],[0.6666666666666666,\"#ed7953\"],[0.7777777777777778,\"#fb9f3a\"],[0.8888888888888888,\"#fdca26\"],[1.0,\"#f0f921\"]]}],\"choropleth\":[{\"type\":\"choropleth\",\"colorbar\":{\"outlinewidth\":0,\"ticks\":\"\"}}],\"histogram2d\":[{\"type\":\"histogram2d\",\"colorbar\":{\"outlinewidth\":0,\"ticks\":\"\"},\"colorscale\":[[0.0,\"#0d0887\"],[0.1111111111111111,\"#46039f\"],[0.2222222222222222,\"#7201a8\"],[0.3333333333333333,\"#9c179e\"],[0.4444444444444444,\"#bd3786\"],[0.5555555555555556,\"#d8576b\"],[0.6666666666666666,\"#ed7953\"],[0.7777777777777778,\"#fb9f3a\"],[0.8888888888888888,\"#fdca26\"],[1.0,\"#f0f921\"]]}],\"heatmap\":[{\"type\":\"heatmap\",\"colorbar\":{\"outlinewidth\":0,\"ticks\":\"\"},\"colorscale\":[[0.0,\"#0d0887\"],[0.1111111111111111,\"#46039f\"],[0.2222222222222222,\"#7201a8\"],[0.3333333333333333,\"#9c179e\"],[0.4444444444444444,\"#bd3786\"],[0.5555555555555556,\"#d8576b\"],[0.6666666666666666,\"#ed7953\"],[0.7777777777777778,\"#fb9f3a\"],[0.8888888888888888,\"#fdca26\"],[1.0,\"#f0f921\"]]}],\"heatmapgl\":[{\"type\":\"heatmapgl\",\"colorbar\":{\"outlinewidth\":0,\"ticks\":\"\"},\"colorscale\":[[0.0,\"#0d0887\"],[0.1111111111111111,\"#46039f\"],[0.2222222222222222,\"#7201a8\"],[0.3333333333333333,\"#9c179e\"],[0.4444444444444444,\"#bd3786\"],[0.5555555555555556,\"#d8576b\"],[0.6666666666666666,\"#ed7953\"],[0.7777777777777778,\"#fb9f3a\"],[0.8888888888888888,\"#fdca26\"],[1.0,\"#f0f921\"]]}],\"contourcarpet\":[{\"type\":\"contourcarpet\",\"colorbar\":{\"outlinewidth\":0,\"ticks\":\"\"}}],\"contour\":[{\"type\":\"contour\",\"colorbar\":{\"outlinewidth\":0,\"ticks\":\"\"},\"colorscale\":[[0.0,\"#0d0887\"],[0.1111111111111111,\"#46039f\"],[0.2222222222222222,\"#7201a8\"],[0.3333333333333333,\"#9c179e\"],[0.4444444444444444,\"#bd3786\"],[0.5555555555555556,\"#d8576b\"],[0.6666666666666666,\"#ed7953\"],[0.7777777777777778,\"#fb9f3a\"],[0.8888888888888888,\"#fdca26\"],[1.0,\"#f0f921\"]]}],\"surface\":[{\"type\":\"surface\",\"colorbar\":{\"outlinewidth\":0,\"ticks\":\"\"},\"colorscale\":[[0.0,\"#0d0887\"],[0.1111111111111111,\"#46039f\"],[0.2222222222222222,\"#7201a8\"],[0.3333333333333333,\"#9c179e\"],[0.4444444444444444,\"#bd3786\"],[0.5555555555555556,\"#d8576b\"],[0.6666666666666666,\"#ed7953\"],[0.7777777777777778,\"#fb9f3a\"],[0.8888888888888888,\"#fdca26\"],[1.0,\"#f0f921\"]]}],\"mesh3d\":[{\"type\":\"mesh3d\",\"colorbar\":{\"outlinewidth\":0,\"ticks\":\"\"}}],\"scatter\":[{\"fillpattern\":{\"fillmode\":\"overlay\",\"size\":10,\"solidity\":0.2},\"type\":\"scatter\"}],\"parcoords\":[{\"type\":\"parcoords\",\"line\":{\"colorbar\":{\"outlinewidth\":0,\"ticks\":\"\"}}}],\"scatterpolargl\":[{\"type\":\"scatterpolargl\",\"marker\":{\"colorbar\":{\"outlinewidth\":0,\"ticks\":\"\"}}}],\"bar\":[{\"error_x\":{\"color\":\"#2a3f5f\"},\"error_y\":{\"color\":\"#2a3f5f\"},\"marker\":{\"line\":{\"color\":\"#E5ECF6\",\"width\":0.5},\"pattern\":{\"fillmode\":\"overlay\",\"size\":10,\"solidity\":0.2}},\"type\":\"bar\"}],\"scattergeo\":[{\"type\":\"scattergeo\",\"marker\":{\"colorbar\":{\"outlinewidth\":0,\"ticks\":\"\"}}}],\"scatterpolar\":[{\"type\":\"scatterpolar\",\"marker\":{\"colorbar\":{\"outlinewidth\":0,\"ticks\":\"\"}}}],\"histogram\":[{\"marker\":{\"pattern\":{\"fillmode\":\"overlay\",\"size\":10,\"solidity\":0.2}},\"type\":\"histogram\"}],\"scattergl\":[{\"type\":\"scattergl\",\"marker\":{\"colorbar\":{\"outlinewidth\":0,\"ticks\":\"\"}}}],\"scatter3d\":[{\"type\":\"scatter3d\",\"line\":{\"colorbar\":{\"outlinewidth\":0,\"ticks\":\"\"}},\"marker\":{\"colorbar\":{\"outlinewidth\":0,\"ticks\":\"\"}}}],\"scattermapbox\":[{\"type\":\"scattermapbox\",\"marker\":{\"colorbar\":{\"outlinewidth\":0,\"ticks\":\"\"}}}],\"scatterternary\":[{\"type\":\"scatterternary\",\"marker\":{\"colorbar\":{\"outlinewidth\":0,\"ticks\":\"\"}}}],\"scattercarpet\":[{\"type\":\"scattercarpet\",\"marker\":{\"colorbar\":{\"outlinewidth\":0,\"ticks\":\"\"}}}],\"carpet\":[{\"aaxis\":{\"endlinecolor\":\"#2a3f5f\",\"gridcolor\":\"white\",\"linecolor\":\"white\",\"minorgridcolor\":\"white\",\"startlinecolor\":\"#2a3f5f\"},\"baxis\":{\"endlinecolor\":\"#2a3f5f\",\"gridcolor\":\"white\",\"linecolor\":\"white\",\"minorgridcolor\":\"white\",\"startlinecolor\":\"#2a3f5f\"},\"type\":\"carpet\"}],\"table\":[{\"cells\":{\"fill\":{\"color\":\"#EBF0F8\"},\"line\":{\"color\":\"white\"}},\"header\":{\"fill\":{\"color\":\"#C8D4E3\"},\"line\":{\"color\":\"white\"}},\"type\":\"table\"}],\"barpolar\":[{\"marker\":{\"line\":{\"color\":\"#E5ECF6\",\"width\":0.5},\"pattern\":{\"fillmode\":\"overlay\",\"size\":10,\"solidity\":0.2}},\"type\":\"barpolar\"}],\"pie\":[{\"automargin\":true,\"type\":\"pie\"}]},\"layout\":{\"autotypenumbers\":\"strict\",\"colorway\":[\"#636efa\",\"#EF553B\",\"#00cc96\",\"#ab63fa\",\"#FFA15A\",\"#19d3f3\",\"#FF6692\",\"#B6E880\",\"#FF97FF\",\"#FECB52\"],\"font\":{\"color\":\"#2a3f5f\"},\"hovermode\":\"closest\",\"hoverlabel\":{\"align\":\"left\"},\"paper_bgcolor\":\"white\",\"plot_bgcolor\":\"#E5ECF6\",\"polar\":{\"bgcolor\":\"#E5ECF6\",\"angularaxis\":{\"gridcolor\":\"white\",\"linecolor\":\"white\",\"ticks\":\"\"},\"radialaxis\":{\"gridcolor\":\"white\",\"linecolor\":\"white\",\"ticks\":\"\"}},\"ternary\":{\"bgcolor\":\"#E5ECF6\",\"aaxis\":{\"gridcolor\":\"white\",\"linecolor\":\"white\",\"ticks\":\"\"},\"baxis\":{\"gridcolor\":\"white\",\"linecolor\":\"white\",\"ticks\":\"\"},\"caxis\":{\"gridcolor\":\"white\",\"linecolor\":\"white\",\"ticks\":\"\"}},\"coloraxis\":{\"colorbar\":{\"outlinewidth\":0,\"ticks\":\"\"}},\"colorscale\":{\"sequential\":[[0.0,\"#0d0887\"],[0.1111111111111111,\"#46039f\"],[0.2222222222222222,\"#7201a8\"],[0.3333333333333333,\"#9c179e\"],[0.4444444444444444,\"#bd3786\"],[0.5555555555555556,\"#d8576b\"],[0.6666666666666666,\"#ed7953\"],[0.7777777777777778,\"#fb9f3a\"],[0.8888888888888888,\"#fdca26\"],[1.0,\"#f0f921\"]],\"sequentialminus\":[[0.0,\"#0d0887\"],[0.1111111111111111,\"#46039f\"],[0.2222222222222222,\"#7201a8\"],[0.3333333333333333,\"#9c179e\"],[0.4444444444444444,\"#bd3786\"],[0.5555555555555556,\"#d8576b\"],[0.6666666666666666,\"#ed7953\"],[0.7777777777777778,\"#fb9f3a\"],[0.8888888888888888,\"#fdca26\"],[1.0,\"#f0f921\"]],\"diverging\":[[0,\"#8e0152\"],[0.1,\"#c51b7d\"],[0.2,\"#de77ae\"],[0.3,\"#f1b6da\"],[0.4,\"#fde0ef\"],[0.5,\"#f7f7f7\"],[0.6,\"#e6f5d0\"],[0.7,\"#b8e186\"],[0.8,\"#7fbc41\"],[0.9,\"#4d9221\"],[1,\"#276419\"]]},\"xaxis\":{\"gridcolor\":\"white\",\"linecolor\":\"white\",\"ticks\":\"\",\"title\":{\"standoff\":15},\"zerolinecolor\":\"white\",\"automargin\":true,\"zerolinewidth\":2},\"yaxis\":{\"gridcolor\":\"white\",\"linecolor\":\"white\",\"ticks\":\"\",\"title\":{\"standoff\":15},\"zerolinecolor\":\"white\",\"automargin\":true,\"zerolinewidth\":2},\"scene\":{\"xaxis\":{\"backgroundcolor\":\"#E5ECF6\",\"gridcolor\":\"white\",\"linecolor\":\"white\",\"showbackground\":true,\"ticks\":\"\",\"zerolinecolor\":\"white\",\"gridwidth\":2},\"yaxis\":{\"backgroundcolor\":\"#E5ECF6\",\"gridcolor\":\"white\",\"linecolor\":\"white\",\"showbackground\":true,\"ticks\":\"\",\"zerolinecolor\":\"white\",\"gridwidth\":2},\"zaxis\":{\"backgroundcolor\":\"#E5ECF6\",\"gridcolor\":\"white\",\"linecolor\":\"white\",\"showbackground\":true,\"ticks\":\"\",\"zerolinecolor\":\"white\",\"gridwidth\":2}},\"shapedefaults\":{\"line\":{\"color\":\"#2a3f5f\"}},\"annotationdefaults\":{\"arrowcolor\":\"#2a3f5f\",\"arrowhead\":0,\"arrowwidth\":1},\"geo\":{\"bgcolor\":\"white\",\"landcolor\":\"#E5ECF6\",\"subunitcolor\":\"white\",\"showland\":true,\"showlakes\":true,\"lakecolor\":\"white\"},\"title\":{\"x\":0.05},\"mapbox\":{\"style\":\"light\"}}}},                        {\"responsive\": true}                    ).then(function(){\n",
              "                            \n",
              "var gd = document.getElementById('e0239a2f-d471-4756-998c-9a9f57f1c5cf');\n",
              "var x = new MutationObserver(function (mutations, observer) {{\n",
              "        var display = window.getComputedStyle(gd).display;\n",
              "        if (!display || display === 'none') {{\n",
              "            console.log([gd, 'removed!']);\n",
              "            Plotly.purge(gd);\n",
              "            observer.disconnect();\n",
              "        }}\n",
              "}});\n",
              "\n",
              "// Listen for the removal of the full notebook cells\n",
              "var notebookContainer = gd.closest('#notebook-container');\n",
              "if (notebookContainer) {{\n",
              "    x.observe(notebookContainer, {childList: true});\n",
              "}}\n",
              "\n",
              "// Listen for the clearing of the current output cell\n",
              "var outputEl = gd.closest('.output');\n",
              "if (outputEl) {{\n",
              "    x.observe(outputEl, {childList: true});\n",
              "}}\n",
              "\n",
              "                        })                };                            </script>        </div>\n",
              "</body>\n",
              "</html>"
            ]
          },
          "metadata": {},
          "output_type": "display_data"
        }
      ],
      "source": [
        "#sample5\n",
        "specific_rows5 = x.iloc[[21,22,23,24,25,26], :]\n",
        "\n",
        "interpret_model(rf, data=specific_rows5, plot='pfi')"
      ]
    },
    {
      "cell_type": "code",
      "execution_count": null,
      "id": "KNudLo7rjShg",
      "metadata": {
        "id": "KNudLo7rjShg"
      },
      "outputs": [],
      "source": []
    },
    {
      "cell_type": "code",
      "execution_count": null,
      "id": "jp0TbbSBnZLS",
      "metadata": {
        "id": "jp0TbbSBnZLS"
      },
      "outputs": [],
      "source": [
        "df.info()"
      ]
    },
    {
      "cell_type": "code",
      "execution_count": null,
      "id": "A6dIIIKOjSkP",
      "metadata": {
        "id": "A6dIIIKOjSkP"
      },
      "outputs": [],
      "source": [
        "x=df.drop('Isc', axis=1)\n",
        "\n",
        "reg= setup(data=x , target = 'FF' ,normalize=True , normalize_method='minmax',train_size=0.8,fold=3\n",
        "           ,ordinal_features= { 'DROP' : [1,2,3,4,5,6] }\n",
        "\n",
        "             ,ignore_features=['schw 1', 'schw 2','schw 3', 'schw 4', 'schw 5', 'schw 6']\n",
        "\n",
        "            ,remove_multicollinearity = True, multicollinearity_threshold= 0.9\n",
        "\n",
        "            ,session_id=1543)"
      ]
    },
    {
      "cell_type": "code",
      "execution_count": null,
      "id": "5ipGXRUIjSnK",
      "metadata": {
        "colab": {
          "base_uri": "https://localhost:8080/",
          "height": 677,
          "referenced_widgets": [
            "44188c08c659413199ff4a22badd97b1",
            "643bcd7e5d2a496289f08c57b7cfb4aa",
            "a86f6860a3d342e59454a32274f6beda",
            "14e4b99901a245778e37557062f6da36",
            "12e3a2760e5f49baa46df364e41a9634",
            "0acf4838cd6d4647b13bc1a4ce0c3be5",
            "d054dbeb5f8c46c795db98d4723bb54f",
            "6d003211c93b475c87acee5552caf5a8",
            "52e772ba40f843bba59e215ce716fca8",
            "0378482d64ca489888868ce1e507b054",
            "4949a01b3d8f45689f95c76d5d844463"
          ]
        },
        "id": "5ipGXRUIjSnK",
        "outputId": "9e4d05e2-f7a5-49d5-9cd9-db3667b7d0b6"
      },
      "outputs": [
        {
          "data": {
            "text/html": [],
            "text/plain": [
              "<IPython.core.display.HTML object>"
            ]
          },
          "metadata": {},
          "output_type": "display_data"
        },
        {
          "data": {
            "text/html": [
              "<style type=\"text/css\">\n",
              "#T_73264 th {\n",
              "  text-align: left;\n",
              "}\n",
              "#T_73264_row0_col0, #T_73264_row1_col0, #T_73264_row1_col1, #T_73264_row1_col2, #T_73264_row1_col3, #T_73264_row1_col4, #T_73264_row1_col5, #T_73264_row1_col6, #T_73264_row2_col0, #T_73264_row2_col1, #T_73264_row2_col2, #T_73264_row2_col3, #T_73264_row2_col4, #T_73264_row2_col5, #T_73264_row2_col6, #T_73264_row3_col0, #T_73264_row3_col1, #T_73264_row3_col2, #T_73264_row3_col3, #T_73264_row3_col4, #T_73264_row3_col5, #T_73264_row3_col6, #T_73264_row4_col0, #T_73264_row4_col1, #T_73264_row4_col2, #T_73264_row4_col3, #T_73264_row4_col4, #T_73264_row4_col5, #T_73264_row4_col6, #T_73264_row5_col0, #T_73264_row5_col1, #T_73264_row5_col2, #T_73264_row5_col3, #T_73264_row5_col4, #T_73264_row5_col5, #T_73264_row5_col6, #T_73264_row6_col0, #T_73264_row6_col1, #T_73264_row6_col2, #T_73264_row6_col3, #T_73264_row6_col4, #T_73264_row6_col5, #T_73264_row6_col6, #T_73264_row7_col0, #T_73264_row7_col1, #T_73264_row7_col2, #T_73264_row7_col3, #T_73264_row7_col4, #T_73264_row7_col5, #T_73264_row7_col6, #T_73264_row8_col0, #T_73264_row8_col1, #T_73264_row8_col2, #T_73264_row8_col3, #T_73264_row8_col4, #T_73264_row8_col5, #T_73264_row8_col6, #T_73264_row9_col0, #T_73264_row9_col1, #T_73264_row9_col2, #T_73264_row9_col3, #T_73264_row9_col4, #T_73264_row9_col5, #T_73264_row9_col6, #T_73264_row10_col0, #T_73264_row10_col1, #T_73264_row10_col2, #T_73264_row10_col3, #T_73264_row10_col4, #T_73264_row10_col5, #T_73264_row10_col6, #T_73264_row11_col0, #T_73264_row11_col1, #T_73264_row11_col2, #T_73264_row11_col3, #T_73264_row11_col4, #T_73264_row11_col5, #T_73264_row11_col6, #T_73264_row12_col0, #T_73264_row12_col1, #T_73264_row12_col2, #T_73264_row12_col3, #T_73264_row12_col4, #T_73264_row12_col5, #T_73264_row12_col6, #T_73264_row13_col0, #T_73264_row13_col1, #T_73264_row13_col2, #T_73264_row13_col3, #T_73264_row13_col4, #T_73264_row13_col5, #T_73264_row13_col6, #T_73264_row14_col0, #T_73264_row14_col1, #T_73264_row14_col2, #T_73264_row14_col3, #T_73264_row14_col4, #T_73264_row14_col5, #T_73264_row14_col6, #T_73264_row15_col0, #T_73264_row15_col1, #T_73264_row15_col2, #T_73264_row15_col3, #T_73264_row15_col4, #T_73264_row15_col5, #T_73264_row15_col6, #T_73264_row16_col0, #T_73264_row16_col1, #T_73264_row16_col2, #T_73264_row16_col3, #T_73264_row16_col4, #T_73264_row16_col5, #T_73264_row16_col6, #T_73264_row17_col0, #T_73264_row17_col1, #T_73264_row17_col2, #T_73264_row17_col3, #T_73264_row17_col4, #T_73264_row17_col5, #T_73264_row17_col6, #T_73264_row18_col0, #T_73264_row18_col1, #T_73264_row18_col2, #T_73264_row18_col3, #T_73264_row18_col4, #T_73264_row18_col5, #T_73264_row18_col6, #T_73264_row19_col0, #T_73264_row19_col1, #T_73264_row19_col2, #T_73264_row19_col3, #T_73264_row19_col4, #T_73264_row19_col5, #T_73264_row19_col6 {\n",
              "  text-align: left;\n",
              "}\n",
              "#T_73264_row0_col1, #T_73264_row0_col2, #T_73264_row0_col3, #T_73264_row0_col4, #T_73264_row0_col5, #T_73264_row0_col6 {\n",
              "  text-align: left;\n",
              "  background-color: yellow;\n",
              "}\n",
              "#T_73264_row0_col7, #T_73264_row2_col7, #T_73264_row3_col7, #T_73264_row4_col7, #T_73264_row5_col7, #T_73264_row6_col7, #T_73264_row7_col7, #T_73264_row8_col7, #T_73264_row9_col7, #T_73264_row10_col7, #T_73264_row11_col7, #T_73264_row12_col7, #T_73264_row13_col7, #T_73264_row14_col7, #T_73264_row15_col7, #T_73264_row16_col7, #T_73264_row17_col7, #T_73264_row18_col7, #T_73264_row19_col7 {\n",
              "  text-align: left;\n",
              "  background-color: lightgrey;\n",
              "}\n",
              "#T_73264_row1_col7 {\n",
              "  text-align: left;\n",
              "  background-color: yellow;\n",
              "  background-color: lightgrey;\n",
              "}\n",
              "</style>\n",
              "<table id=\"T_73264\" class=\"dataframe\">\n",
              "  <thead>\n",
              "    <tr>\n",
              "      <th class=\"blank level0\" >&nbsp;</th>\n",
              "      <th id=\"T_73264_level0_col0\" class=\"col_heading level0 col0\" >Model</th>\n",
              "      <th id=\"T_73264_level0_col1\" class=\"col_heading level0 col1\" >MAE</th>\n",
              "      <th id=\"T_73264_level0_col2\" class=\"col_heading level0 col2\" >MSE</th>\n",
              "      <th id=\"T_73264_level0_col3\" class=\"col_heading level0 col3\" >RMSE</th>\n",
              "      <th id=\"T_73264_level0_col4\" class=\"col_heading level0 col4\" >R2</th>\n",
              "      <th id=\"T_73264_level0_col5\" class=\"col_heading level0 col5\" >RMSLE</th>\n",
              "      <th id=\"T_73264_level0_col6\" class=\"col_heading level0 col6\" >MAPE</th>\n",
              "      <th id=\"T_73264_level0_col7\" class=\"col_heading level0 col7\" >TT (Sec)</th>\n",
              "    </tr>\n",
              "  </thead>\n",
              "  <tbody>\n",
              "    <tr>\n",
              "      <th id=\"T_73264_level0_row0\" class=\"row_heading level0 row0\" >gbr</th>\n",
              "      <td id=\"T_73264_row0_col0\" class=\"data row0 col0\" >Gradient Boosting Regressor</td>\n",
              "      <td id=\"T_73264_row0_col1\" class=\"data row0 col1\" >0.4193</td>\n",
              "      <td id=\"T_73264_row0_col2\" class=\"data row0 col2\" >0.2960</td>\n",
              "      <td id=\"T_73264_row0_col3\" class=\"data row0 col3\" >0.5440</td>\n",
              "      <td id=\"T_73264_row0_col4\" class=\"data row0 col4\" >0.9577</td>\n",
              "      <td id=\"T_73264_row0_col5\" class=\"data row0 col5\" >0.0117</td>\n",
              "      <td id=\"T_73264_row0_col6\" class=\"data row0 col6\" >0.0094</td>\n",
              "      <td id=\"T_73264_row0_col7\" class=\"data row0 col7\" >0.1100</td>\n",
              "    </tr>\n",
              "    <tr>\n",
              "      <th id=\"T_73264_level0_row1\" class=\"row_heading level0 row1\" >dt</th>\n",
              "      <td id=\"T_73264_row1_col0\" class=\"data row1 col0\" >Decision Tree Regressor</td>\n",
              "      <td id=\"T_73264_row1_col1\" class=\"data row1 col1\" >0.6857</td>\n",
              "      <td id=\"T_73264_row1_col2\" class=\"data row1 col2\" >0.9939</td>\n",
              "      <td id=\"T_73264_row1_col3\" class=\"data row1 col3\" >0.9969</td>\n",
              "      <td id=\"T_73264_row1_col4\" class=\"data row1 col4\" >0.8580</td>\n",
              "      <td id=\"T_73264_row1_col5\" class=\"data row1 col5\" >0.0232</td>\n",
              "      <td id=\"T_73264_row1_col6\" class=\"data row1 col6\" >0.0159</td>\n",
              "      <td id=\"T_73264_row1_col7\" class=\"data row1 col7\" >0.0600</td>\n",
              "    </tr>\n",
              "    <tr>\n",
              "      <th id=\"T_73264_level0_row2\" class=\"row_heading level0 row2\" >xgboost</th>\n",
              "      <td id=\"T_73264_row2_col0\" class=\"data row2 col0\" >Extreme Gradient Boosting</td>\n",
              "      <td id=\"T_73264_row2_col1\" class=\"data row2 col1\" >0.7718</td>\n",
              "      <td id=\"T_73264_row2_col2\" class=\"data row2 col2\" >1.0272</td>\n",
              "      <td id=\"T_73264_row2_col3\" class=\"data row2 col3\" >1.0135</td>\n",
              "      <td id=\"T_73264_row2_col4\" class=\"data row2 col4\" >0.8532</td>\n",
              "      <td id=\"T_73264_row2_col5\" class=\"data row2 col5\" >0.0223</td>\n",
              "      <td id=\"T_73264_row2_col6\" class=\"data row2 col6\" >0.0175</td>\n",
              "      <td id=\"T_73264_row2_col7\" class=\"data row2 col7\" >4.1100</td>\n",
              "    </tr>\n",
              "    <tr>\n",
              "      <th id=\"T_73264_level0_row3\" class=\"row_heading level0 row3\" >rf</th>\n",
              "      <td id=\"T_73264_row3_col0\" class=\"data row3 col0\" >Random Forest Regressor</td>\n",
              "      <td id=\"T_73264_row3_col1\" class=\"data row3 col1\" >0.8990</td>\n",
              "      <td id=\"T_73264_row3_col2\" class=\"data row3 col2\" >1.2365</td>\n",
              "      <td id=\"T_73264_row3_col3\" class=\"data row3 col3\" >1.1120</td>\n",
              "      <td id=\"T_73264_row3_col4\" class=\"data row3 col4\" >0.8233</td>\n",
              "      <td id=\"T_73264_row3_col5\" class=\"data row3 col5\" >0.0263</td>\n",
              "      <td id=\"T_73264_row3_col6\" class=\"data row3 col6\" >0.0217</td>\n",
              "      <td id=\"T_73264_row3_col7\" class=\"data row3 col7\" >0.2200</td>\n",
              "    </tr>\n",
              "    <tr>\n",
              "      <th id=\"T_73264_level0_row4\" class=\"row_heading level0 row4\" >ada</th>\n",
              "      <td id=\"T_73264_row4_col0\" class=\"data row4 col0\" >AdaBoost Regressor</td>\n",
              "      <td id=\"T_73264_row4_col1\" class=\"data row4 col1\" >1.1757</td>\n",
              "      <td id=\"T_73264_row4_col2\" class=\"data row4 col2\" >1.4449</td>\n",
              "      <td id=\"T_73264_row4_col3\" class=\"data row4 col3\" >1.2020</td>\n",
              "      <td id=\"T_73264_row4_col4\" class=\"data row4 col4\" >0.7935</td>\n",
              "      <td id=\"T_73264_row4_col5\" class=\"data row4 col5\" >0.0270</td>\n",
              "      <td id=\"T_73264_row4_col6\" class=\"data row4 col6\" >0.0273</td>\n",
              "      <td id=\"T_73264_row4_col7\" class=\"data row4 col7\" >0.1300</td>\n",
              "    </tr>\n",
              "    <tr>\n",
              "      <th id=\"T_73264_level0_row5\" class=\"row_heading level0 row5\" >et</th>\n",
              "      <td id=\"T_73264_row5_col0\" class=\"data row5 col0\" >Extra Trees Regressor</td>\n",
              "      <td id=\"T_73264_row5_col1\" class=\"data row5 col1\" >1.3089</td>\n",
              "      <td id=\"T_73264_row5_col2\" class=\"data row5 col2\" >1.7824</td>\n",
              "      <td id=\"T_73264_row5_col3\" class=\"data row5 col3\" >1.3351</td>\n",
              "      <td id=\"T_73264_row5_col4\" class=\"data row5 col4\" >0.7453</td>\n",
              "      <td id=\"T_73264_row5_col5\" class=\"data row5 col5\" >0.0306</td>\n",
              "      <td id=\"T_73264_row5_col6\" class=\"data row5 col6\" >0.0307</td>\n",
              "      <td id=\"T_73264_row5_col7\" class=\"data row5 col7\" >0.1700</td>\n",
              "    </tr>\n",
              "    <tr>\n",
              "      <th id=\"T_73264_level0_row6\" class=\"row_heading level0 row6\" >lr</th>\n",
              "      <td id=\"T_73264_row6_col0\" class=\"data row6 col0\" >Linear Regression</td>\n",
              "      <td id=\"T_73264_row6_col1\" class=\"data row6 col1\" >1.2535</td>\n",
              "      <td id=\"T_73264_row6_col2\" class=\"data row6 col2\" >2.2228</td>\n",
              "      <td id=\"T_73264_row6_col3\" class=\"data row6 col3\" >1.4909</td>\n",
              "      <td id=\"T_73264_row6_col4\" class=\"data row6 col4\" >0.6823</td>\n",
              "      <td id=\"T_73264_row6_col5\" class=\"data row6 col5\" >0.0340</td>\n",
              "      <td id=\"T_73264_row6_col6\" class=\"data row6 col6\" >0.0293</td>\n",
              "      <td id=\"T_73264_row6_col7\" class=\"data row6 col7\" >0.2200</td>\n",
              "    </tr>\n",
              "    <tr>\n",
              "      <th id=\"T_73264_level0_row7\" class=\"row_heading level0 row7\" >lar</th>\n",
              "      <td id=\"T_73264_row7_col0\" class=\"data row7 col0\" >Least Angle Regression</td>\n",
              "      <td id=\"T_73264_row7_col1\" class=\"data row7 col1\" >1.2535</td>\n",
              "      <td id=\"T_73264_row7_col2\" class=\"data row7 col2\" >2.2228</td>\n",
              "      <td id=\"T_73264_row7_col3\" class=\"data row7 col3\" >1.4909</td>\n",
              "      <td id=\"T_73264_row7_col4\" class=\"data row7 col4\" >0.6823</td>\n",
              "      <td id=\"T_73264_row7_col5\" class=\"data row7 col5\" >0.0340</td>\n",
              "      <td id=\"T_73264_row7_col6\" class=\"data row7 col6\" >0.0293</td>\n",
              "      <td id=\"T_73264_row7_col7\" class=\"data row7 col7\" >0.2200</td>\n",
              "    </tr>\n",
              "    <tr>\n",
              "      <th id=\"T_73264_level0_row8\" class=\"row_heading level0 row8\" >ridge</th>\n",
              "      <td id=\"T_73264_row8_col0\" class=\"data row8 col0\" >Ridge Regression</td>\n",
              "      <td id=\"T_73264_row8_col1\" class=\"data row8 col1\" >1.1996</td>\n",
              "      <td id=\"T_73264_row8_col2\" class=\"data row8 col2\" >2.4122</td>\n",
              "      <td id=\"T_73264_row8_col3\" class=\"data row8 col3\" >1.5531</td>\n",
              "      <td id=\"T_73264_row8_col4\" class=\"data row8 col4\" >0.6553</td>\n",
              "      <td id=\"T_73264_row8_col5\" class=\"data row8 col5\" >0.0361</td>\n",
              "      <td id=\"T_73264_row8_col6\" class=\"data row8 col6\" >0.0286</td>\n",
              "      <td id=\"T_73264_row8_col7\" class=\"data row8 col7\" >0.2500</td>\n",
              "    </tr>\n",
              "    <tr>\n",
              "      <th id=\"T_73264_level0_row9\" class=\"row_heading level0 row9\" >par</th>\n",
              "      <td id=\"T_73264_row9_col0\" class=\"data row9 col0\" >Passive Aggressive Regressor</td>\n",
              "      <td id=\"T_73264_row9_col1\" class=\"data row9 col1\" >1.3335</td>\n",
              "      <td id=\"T_73264_row9_col2\" class=\"data row9 col2\" >2.4576</td>\n",
              "      <td id=\"T_73264_row9_col3\" class=\"data row9 col3\" >1.5677</td>\n",
              "      <td id=\"T_73264_row9_col4\" class=\"data row9 col4\" >0.6488</td>\n",
              "      <td id=\"T_73264_row9_col5\" class=\"data row9 col5\" >0.0368</td>\n",
              "      <td id=\"T_73264_row9_col6\" class=\"data row9 col6\" >0.0320</td>\n",
              "      <td id=\"T_73264_row9_col7\" class=\"data row9 col7\" >0.1200</td>\n",
              "    </tr>\n",
              "    <tr>\n",
              "      <th id=\"T_73264_level0_row10\" class=\"row_heading level0 row10\" >huber</th>\n",
              "      <td id=\"T_73264_row10_col0\" class=\"data row10 col0\" >Huber Regressor</td>\n",
              "      <td id=\"T_73264_row10_col1\" class=\"data row10 col1\" >1.4011</td>\n",
              "      <td id=\"T_73264_row10_col2\" class=\"data row10 col2\" >2.7382</td>\n",
              "      <td id=\"T_73264_row10_col3\" class=\"data row10 col3\" >1.6547</td>\n",
              "      <td id=\"T_73264_row10_col4\" class=\"data row10 col4\" >0.6087</td>\n",
              "      <td id=\"T_73264_row10_col5\" class=\"data row10 col5\" >0.0374</td>\n",
              "      <td id=\"T_73264_row10_col6\" class=\"data row10 col6\" >0.0326</td>\n",
              "      <td id=\"T_73264_row10_col7\" class=\"data row10 col7\" >0.0700</td>\n",
              "    </tr>\n",
              "    <tr>\n",
              "      <th id=\"T_73264_level0_row11\" class=\"row_heading level0 row11\" >knn</th>\n",
              "      <td id=\"T_73264_row11_col0\" class=\"data row11 col0\" >K Neighbors Regressor</td>\n",
              "      <td id=\"T_73264_row11_col1\" class=\"data row11 col1\" >1.2809</td>\n",
              "      <td id=\"T_73264_row11_col2\" class=\"data row11 col2\" >2.9203</td>\n",
              "      <td id=\"T_73264_row11_col3\" class=\"data row11 col3\" >1.7089</td>\n",
              "      <td id=\"T_73264_row11_col4\" class=\"data row11 col4\" >0.5826</td>\n",
              "      <td id=\"T_73264_row11_col5\" class=\"data row11 col5\" >0.0405</td>\n",
              "      <td id=\"T_73264_row11_col6\" class=\"data row11 col6\" >0.0311</td>\n",
              "      <td id=\"T_73264_row11_col7\" class=\"data row11 col7\" >0.0700</td>\n",
              "    </tr>\n",
              "    <tr>\n",
              "      <th id=\"T_73264_level0_row12\" class=\"row_heading level0 row12\" >br</th>\n",
              "      <td id=\"T_73264_row12_col0\" class=\"data row12 col0\" >Bayesian Ridge</td>\n",
              "      <td id=\"T_73264_row12_col1\" class=\"data row12 col1\" >1.3371</td>\n",
              "      <td id=\"T_73264_row12_col2\" class=\"data row12 col2\" >3.1779</td>\n",
              "      <td id=\"T_73264_row12_col3\" class=\"data row12 col3\" >1.7827</td>\n",
              "      <td id=\"T_73264_row12_col4\" class=\"data row12 col4\" >0.5458</td>\n",
              "      <td id=\"T_73264_row12_col5\" class=\"data row12 col5\" >0.0418</td>\n",
              "      <td id=\"T_73264_row12_col6\" class=\"data row12 col6\" >0.0321</td>\n",
              "      <td id=\"T_73264_row12_col7\" class=\"data row12 col7\" >0.1000</td>\n",
              "    </tr>\n",
              "    <tr>\n",
              "      <th id=\"T_73264_level0_row13\" class=\"row_heading level0 row13\" >omp</th>\n",
              "      <td id=\"T_73264_row13_col0\" class=\"data row13 col0\" >Orthogonal Matching Pursuit</td>\n",
              "      <td id=\"T_73264_row13_col1\" class=\"data row13 col1\" >1.3224</td>\n",
              "      <td id=\"T_73264_row13_col2\" class=\"data row13 col2\" >3.4390</td>\n",
              "      <td id=\"T_73264_row13_col3\" class=\"data row13 col3\" >1.8544</td>\n",
              "      <td id=\"T_73264_row13_col4\" class=\"data row13 col4\" >0.5085</td>\n",
              "      <td id=\"T_73264_row13_col5\" class=\"data row13 col5\" >0.0440</td>\n",
              "      <td id=\"T_73264_row13_col6\" class=\"data row13 col6\" >0.0322</td>\n",
              "      <td id=\"T_73264_row13_col7\" class=\"data row13 col7\" >0.0900</td>\n",
              "    </tr>\n",
              "    <tr>\n",
              "      <th id=\"T_73264_level0_row14\" class=\"row_heading level0 row14\" >catboost</th>\n",
              "      <td id=\"T_73264_row14_col0\" class=\"data row14 col0\" >CatBoost Regressor</td>\n",
              "      <td id=\"T_73264_row14_col1\" class=\"data row14 col1\" >1.6628</td>\n",
              "      <td id=\"T_73264_row14_col2\" class=\"data row14 col2\" >3.7011</td>\n",
              "      <td id=\"T_73264_row14_col3\" class=\"data row14 col3\" >1.9238</td>\n",
              "      <td id=\"T_73264_row14_col4\" class=\"data row14 col4\" >0.4710</td>\n",
              "      <td id=\"T_73264_row14_col5\" class=\"data row14 col5\" >0.0454</td>\n",
              "      <td id=\"T_73264_row14_col6\" class=\"data row14 col6\" >0.0398</td>\n",
              "      <td id=\"T_73264_row14_col7\" class=\"data row14 col7\" >1.0600</td>\n",
              "    </tr>\n",
              "    <tr>\n",
              "      <th id=\"T_73264_level0_row15\" class=\"row_heading level0 row15\" >en</th>\n",
              "      <td id=\"T_73264_row15_col0\" class=\"data row15 col0\" >Elastic Net</td>\n",
              "      <td id=\"T_73264_row15_col1\" class=\"data row15 col1\" >2.3123</td>\n",
              "      <td id=\"T_73264_row15_col2\" class=\"data row15 col2\" >7.4887</td>\n",
              "      <td id=\"T_73264_row15_col3\" class=\"data row15 col3\" >2.7365</td>\n",
              "      <td id=\"T_73264_row15_col4\" class=\"data row15 col4\" >-0.0703</td>\n",
              "      <td id=\"T_73264_row15_col5\" class=\"data row15 col5\" >0.0634</td>\n",
              "      <td id=\"T_73264_row15_col6\" class=\"data row15 col6\" >0.0553</td>\n",
              "      <td id=\"T_73264_row15_col7\" class=\"data row15 col7\" >0.1600</td>\n",
              "    </tr>\n",
              "    <tr>\n",
              "      <th id=\"T_73264_level0_row16\" class=\"row_heading level0 row16\" >lasso</th>\n",
              "      <td id=\"T_73264_row16_col0\" class=\"data row16 col0\" >Lasso Regression</td>\n",
              "      <td id=\"T_73264_row16_col1\" class=\"data row16 col1\" >2.3305</td>\n",
              "      <td id=\"T_73264_row16_col2\" class=\"data row16 col2\" >7.5724</td>\n",
              "      <td id=\"T_73264_row16_col3\" class=\"data row16 col3\" >2.7518</td>\n",
              "      <td id=\"T_73264_row16_col4\" class=\"data row16 col4\" >-0.0822</td>\n",
              "      <td id=\"T_73264_row16_col5\" class=\"data row16 col5\" >0.0638</td>\n",
              "      <td id=\"T_73264_row16_col6\" class=\"data row16 col6\" >0.0557</td>\n",
              "      <td id=\"T_73264_row16_col7\" class=\"data row16 col7\" >0.2400</td>\n",
              "    </tr>\n",
              "    <tr>\n",
              "      <th id=\"T_73264_level0_row17\" class=\"row_heading level0 row17\" >llar</th>\n",
              "      <td id=\"T_73264_row17_col0\" class=\"data row17 col0\" >Lasso Least Angle Regression</td>\n",
              "      <td id=\"T_73264_row17_col1\" class=\"data row17 col1\" >2.3305</td>\n",
              "      <td id=\"T_73264_row17_col2\" class=\"data row17 col2\" >7.5724</td>\n",
              "      <td id=\"T_73264_row17_col3\" class=\"data row17 col3\" >2.7518</td>\n",
              "      <td id=\"T_73264_row17_col4\" class=\"data row17 col4\" >-0.0822</td>\n",
              "      <td id=\"T_73264_row17_col5\" class=\"data row17 col5\" >0.0638</td>\n",
              "      <td id=\"T_73264_row17_col6\" class=\"data row17 col6\" >0.0557</td>\n",
              "      <td id=\"T_73264_row17_col7\" class=\"data row17 col7\" >0.0900</td>\n",
              "    </tr>\n",
              "    <tr>\n",
              "      <th id=\"T_73264_level0_row18\" class=\"row_heading level0 row18\" >lightgbm</th>\n",
              "      <td id=\"T_73264_row18_col0\" class=\"data row18 col0\" >Light Gradient Boosting Machine</td>\n",
              "      <td id=\"T_73264_row18_col1\" class=\"data row18 col1\" >2.3305</td>\n",
              "      <td id=\"T_73264_row18_col2\" class=\"data row18 col2\" >7.5724</td>\n",
              "      <td id=\"T_73264_row18_col3\" class=\"data row18 col3\" >2.7518</td>\n",
              "      <td id=\"T_73264_row18_col4\" class=\"data row18 col4\" >-0.0822</td>\n",
              "      <td id=\"T_73264_row18_col5\" class=\"data row18 col5\" >0.0638</td>\n",
              "      <td id=\"T_73264_row18_col6\" class=\"data row18 col6\" >0.0557</td>\n",
              "      <td id=\"T_73264_row18_col7\" class=\"data row18 col7\" >0.1500</td>\n",
              "    </tr>\n",
              "    <tr>\n",
              "      <th id=\"T_73264_level0_row19\" class=\"row_heading level0 row19\" >dummy</th>\n",
              "      <td id=\"T_73264_row19_col0\" class=\"data row19 col0\" >Dummy Regressor</td>\n",
              "      <td id=\"T_73264_row19_col1\" class=\"data row19 col1\" >2.3305</td>\n",
              "      <td id=\"T_73264_row19_col2\" class=\"data row19 col2\" >7.5724</td>\n",
              "      <td id=\"T_73264_row19_col3\" class=\"data row19 col3\" >2.7518</td>\n",
              "      <td id=\"T_73264_row19_col4\" class=\"data row19 col4\" >-0.0823</td>\n",
              "      <td id=\"T_73264_row19_col5\" class=\"data row19 col5\" >0.0638</td>\n",
              "      <td id=\"T_73264_row19_col6\" class=\"data row19 col6\" >0.0557</td>\n",
              "      <td id=\"T_73264_row19_col7\" class=\"data row19 col7\" >0.1000</td>\n",
              "    </tr>\n",
              "  </tbody>\n",
              "</table>\n"
            ],
            "text/plain": [
              "<pandas.io.formats.style.Styler at 0x7a14544cba00>"
            ]
          },
          "metadata": {},
          "output_type": "display_data"
        },
        {
          "data": {
            "application/vnd.jupyter.widget-view+json": {
              "model_id": "44188c08c659413199ff4a22badd97b1",
              "version_major": 2,
              "version_minor": 0
            },
            "text/plain": [
              "Processing:   0%|          | 0/85 [00:00<?, ?it/s]"
            ]
          },
          "metadata": {
            "application/vnd.jupyter.widget-view+json": {
              "colab": {
                "custom_widget_manager": {
                  "url": "https://ssl.gstatic.com/colaboratory-static/widgets/colab-cdn-widget-manager/b3e629b1971e1542/manager.min.js"
                }
              }
            }
          },
          "output_type": "display_data"
        },
        {
          "data": {
            "text/html": [],
            "text/plain": [
              "<IPython.core.display.HTML object>"
            ]
          },
          "metadata": {},
          "output_type": "display_data"
        }
      ],
      "source": [
        "best = compare_models(cross_validation=False)"
      ]
    },
    {
      "cell_type": "code",
      "execution_count": null,
      "id": "g4ysyp6PjSp0",
      "metadata": {
        "colab": {
          "base_uri": "https://localhost:8080/",
          "height": 665,
          "referenced_widgets": [
            "e7f37f3627a7477d82dd19abdca56bcc",
            "e0543bbf829c43d5848f34023c7f1016",
            "7ddfabecb9cd46d2a6c7598deb5234d5",
            "8016cf8f32134accb02f2cff986fe3cf",
            "4040656650d341bdbe3210424d42a42e",
            "55b8dcccf9e9464499dc75ba3ad1a342",
            "3828e75f20fe428ca7057fe76ec65a40",
            "fec3252dd31f480aab0962f216178292",
            "cb2848e7b0aa4419b98c5525b5d31362",
            "17f436c1847e40328bdd9aff2f9ab244",
            "d0f335357afd4429921a3bd861bf33fc",
            "0fa853d23b9146b0bbaeda5bc8be1d74",
            "32e0a2fae9ec4916b024e28599a8ff47",
            "0d6b3a4077b74e44ae408ca2686a8cbe",
            "a5f78fc8e2ff4e4888c623177838b4c2",
            "b41f683866dd47e391b778444098889c",
            "6c675ffd98814166a3c14003330507ce",
            "df9a686f7b504418865e3bfbbc31f9eb"
          ]
        },
        "id": "g4ysyp6PjSp0",
        "outputId": "55fe14c8-b1b0-4d3a-f0a9-54b34385fc91"
      },
      "outputs": [
        {
          "data": {
            "text/html": [],
            "text/plain": [
              "<IPython.core.display.HTML object>"
            ]
          },
          "metadata": {},
          "output_type": "display_data"
        },
        {
          "data": {
            "text/html": [
              "<style type=\"text/css\">\n",
              "</style>\n",
              "<table id=\"T_c3d2e\" class=\"dataframe\">\n",
              "  <thead>\n",
              "    <tr>\n",
              "      <th class=\"blank level0\" >&nbsp;</th>\n",
              "      <th id=\"T_c3d2e_level0_col0\" class=\"col_heading level0 col0\" >MAE</th>\n",
              "      <th id=\"T_c3d2e_level0_col1\" class=\"col_heading level0 col1\" >MSE</th>\n",
              "      <th id=\"T_c3d2e_level0_col2\" class=\"col_heading level0 col2\" >RMSE</th>\n",
              "      <th id=\"T_c3d2e_level0_col3\" class=\"col_heading level0 col3\" >R2</th>\n",
              "      <th id=\"T_c3d2e_level0_col4\" class=\"col_heading level0 col4\" >RMSLE</th>\n",
              "      <th id=\"T_c3d2e_level0_col5\" class=\"col_heading level0 col5\" >MAPE</th>\n",
              "    </tr>\n",
              "  </thead>\n",
              "  <tbody>\n",
              "    <tr>\n",
              "      <th id=\"T_c3d2e_level0_row0\" class=\"row_heading level0 row0\" >Test</th>\n",
              "      <td id=\"T_c3d2e_row0_col0\" class=\"data row0 col0\" >0.4193</td>\n",
              "      <td id=\"T_c3d2e_row0_col1\" class=\"data row0 col1\" >0.2960</td>\n",
              "      <td id=\"T_c3d2e_row0_col2\" class=\"data row0 col2\" >0.5440</td>\n",
              "      <td id=\"T_c3d2e_row0_col3\" class=\"data row0 col3\" >0.9577</td>\n",
              "      <td id=\"T_c3d2e_row0_col4\" class=\"data row0 col4\" >0.0117</td>\n",
              "      <td id=\"T_c3d2e_row0_col5\" class=\"data row0 col5\" >0.0094</td>\n",
              "    </tr>\n",
              "    <tr>\n",
              "      <th id=\"T_c3d2e_level0_row1\" class=\"row_heading level0 row1\" >Train</th>\n",
              "      <td id=\"T_c3d2e_row1_col0\" class=\"data row1 col0\" >0.1101</td>\n",
              "      <td id=\"T_c3d2e_row1_col1\" class=\"data row1 col1\" >0.0207</td>\n",
              "      <td id=\"T_c3d2e_row1_col2\" class=\"data row1 col2\" >0.1438</td>\n",
              "      <td id=\"T_c3d2e_row1_col3\" class=\"data row1 col3\" >0.9960</td>\n",
              "      <td id=\"T_c3d2e_row1_col4\" class=\"data row1 col4\" >0.0033</td>\n",
              "      <td id=\"T_c3d2e_row1_col5\" class=\"data row1 col5\" >0.0025</td>\n",
              "    </tr>\n",
              "  </tbody>\n",
              "</table>\n"
            ],
            "text/plain": [
              "<pandas.io.formats.style.Styler at 0x7a13fbd5bdf0>"
            ]
          },
          "metadata": {},
          "output_type": "display_data"
        },
        {
          "data": {
            "application/vnd.jupyter.widget-view+json": {
              "model_id": "e7f37f3627a7477d82dd19abdca56bcc",
              "version_major": 2,
              "version_minor": 0
            },
            "text/plain": [
              "Processing:   0%|          | 0/4 [00:00<?, ?it/s]"
            ]
          },
          "metadata": {
            "application/vnd.jupyter.widget-view+json": {
              "colab": {
                "custom_widget_manager": {
                  "url": "https://ssl.gstatic.com/colaboratory-static/widgets/colab-cdn-widget-manager/b3e629b1971e1542/manager.min.js"
                }
              }
            }
          },
          "output_type": "display_data"
        },
        {
          "data": {
            "text/html": [],
            "text/plain": [
              "<IPython.core.display.HTML object>"
            ]
          },
          "metadata": {},
          "output_type": "display_data"
        },
        {
          "data": {
            "application/vnd.jupyter.widget-view+json": {
              "model_id": "b41f683866dd47e391b778444098889c",
              "version_major": 2,
              "version_minor": 0
            },
            "text/plain": [
              "interactive(children=(ToggleButtons(description='Plot Type:', icons=('',), options=(('Pipeline Plot', 'pipelin…"
            ]
          },
          "metadata": {
            "application/vnd.jupyter.widget-view+json": {
              "colab": {
                "custom_widget_manager": {
                  "url": "https://ssl.gstatic.com/colaboratory-static/widgets/colab-cdn-widget-manager/b3e629b1971e1542/manager.min.js"
                }
              }
            }
          },
          "output_type": "display_data"
        }
      ],
      "source": [
        "gbr=create_model('gbr',cross_validation = False, return_train_score=True)\n",
        "evaluate_model(gbr)"
      ]
    }
  ],
  "metadata": {
    "colab": {
      "provenance": []
    },
    "kernelspec": {
      "display_name": "Python 3 (ipykernel)",
      "language": "python",
      "name": "python3"
    },
    "language_info": {
      "codemirror_mode": {
        "name": "ipython",
        "version": 3
      },
      "file_extension": ".py",
      "mimetype": "text/x-python",
      "name": "python",
      "nbconvert_exporter": "python",
      "pygments_lexer": "ipython3",
      "version": "3.10.6"
    },
    "widgets": {
      "application/vnd.jupyter.widget-state+json": {
        "0378482d64ca489888868ce1e507b054": {
          "model_module": "@jupyter-widgets/base",
          "model_module_version": "1.2.0",
          "model_name": "LayoutModel",
          "state": {
            "_model_module": "@jupyter-widgets/base",
            "_model_module_version": "1.2.0",
            "_model_name": "LayoutModel",
            "_view_count": null,
            "_view_module": "@jupyter-widgets/base",
            "_view_module_version": "1.2.0",
            "_view_name": "LayoutView",
            "align_content": null,
            "align_items": null,
            "align_self": null,
            "border": null,
            "bottom": null,
            "display": null,
            "flex": null,
            "flex_flow": null,
            "grid_area": null,
            "grid_auto_columns": null,
            "grid_auto_flow": null,
            "grid_auto_rows": null,
            "grid_column": null,
            "grid_gap": null,
            "grid_row": null,
            "grid_template_areas": null,
            "grid_template_columns": null,
            "grid_template_rows": null,
            "height": null,
            "justify_content": null,
            "justify_items": null,
            "left": null,
            "margin": null,
            "max_height": null,
            "max_width": null,
            "min_height": null,
            "min_width": null,
            "object_fit": null,
            "object_position": null,
            "order": null,
            "overflow": null,
            "overflow_x": null,
            "overflow_y": null,
            "padding": null,
            "right": null,
            "top": null,
            "visibility": null,
            "width": null
          }
        },
        "08f18c6e67df4822a932d0b4895e78ea": {
          "model_module": "@jupyter-widgets/controls",
          "model_module_version": "1.5.0",
          "model_name": "HTMLModel",
          "state": {
            "_dom_classes": [],
            "_model_module": "@jupyter-widgets/controls",
            "_model_module_version": "1.5.0",
            "_model_name": "HTMLModel",
            "_view_count": null,
            "_view_module": "@jupyter-widgets/controls",
            "_view_module_version": "1.5.0",
            "_view_name": "HTMLView",
            "description": "",
            "description_tooltip": null,
            "layout": "IPY_MODEL_1947fdf02a2649d49a78c9b7dc7e91c0",
            "placeholder": "​",
            "style": "IPY_MODEL_5c61df2cd831427d8daaab61349c4cb6",
            "value": "Processing:  75%"
          }
        },
        "0a996b775d9a4537809a77ba141305aa": {
          "model_module": "@jupyter-widgets/controls",
          "model_module_version": "1.5.0",
          "model_name": "DescriptionStyleModel",
          "state": {
            "_model_module": "@jupyter-widgets/controls",
            "_model_module_version": "1.5.0",
            "_model_name": "DescriptionStyleModel",
            "_view_count": null,
            "_view_module": "@jupyter-widgets/base",
            "_view_module_version": "1.2.0",
            "_view_name": "StyleView",
            "description_width": ""
          }
        },
        "0acf4838cd6d4647b13bc1a4ce0c3be5": {
          "model_module": "@jupyter-widgets/base",
          "model_module_version": "1.2.0",
          "model_name": "LayoutModel",
          "state": {
            "_model_module": "@jupyter-widgets/base",
            "_model_module_version": "1.2.0",
            "_model_name": "LayoutModel",
            "_view_count": null,
            "_view_module": "@jupyter-widgets/base",
            "_view_module_version": "1.2.0",
            "_view_name": "LayoutView",
            "align_content": null,
            "align_items": null,
            "align_self": null,
            "border": null,
            "bottom": null,
            "display": null,
            "flex": null,
            "flex_flow": null,
            "grid_area": null,
            "grid_auto_columns": null,
            "grid_auto_flow": null,
            "grid_auto_rows": null,
            "grid_column": null,
            "grid_gap": null,
            "grid_row": null,
            "grid_template_areas": null,
            "grid_template_columns": null,
            "grid_template_rows": null,
            "height": null,
            "justify_content": null,
            "justify_items": null,
            "left": null,
            "margin": null,
            "max_height": null,
            "max_width": null,
            "min_height": null,
            "min_width": null,
            "object_fit": null,
            "object_position": null,
            "order": null,
            "overflow": null,
            "overflow_x": null,
            "overflow_y": null,
            "padding": null,
            "right": null,
            "top": null,
            "visibility": null,
            "width": null
          }
        },
        "0d6b3a4077b74e44ae408ca2686a8cbe": {
          "model_module": "@jupyter-widgets/base",
          "model_module_version": "1.2.0",
          "model_name": "LayoutModel",
          "state": {
            "_model_module": "@jupyter-widgets/base",
            "_model_module_version": "1.2.0",
            "_model_name": "LayoutModel",
            "_view_count": null,
            "_view_module": "@jupyter-widgets/base",
            "_view_module_version": "1.2.0",
            "_view_name": "LayoutView",
            "align_content": null,
            "align_items": null,
            "align_self": null,
            "border": null,
            "bottom": null,
            "display": null,
            "flex": null,
            "flex_flow": null,
            "grid_area": null,
            "grid_auto_columns": null,
            "grid_auto_flow": null,
            "grid_auto_rows": null,
            "grid_column": null,
            "grid_gap": null,
            "grid_row": null,
            "grid_template_areas": null,
            "grid_template_columns": null,
            "grid_template_rows": null,
            "height": null,
            "justify_content": null,
            "justify_items": null,
            "left": null,
            "margin": null,
            "max_height": null,
            "max_width": null,
            "min_height": null,
            "min_width": null,
            "object_fit": null,
            "object_position": null,
            "order": null,
            "overflow": null,
            "overflow_x": null,
            "overflow_y": null,
            "padding": null,
            "right": null,
            "top": null,
            "visibility": null,
            "width": null
          }
        },
        "0efb4aa94ae1470fb7d34eadda66c360": {
          "model_module": "@jupyter-widgets/base",
          "model_module_version": "1.2.0",
          "model_name": "LayoutModel",
          "state": {
            "_model_module": "@jupyter-widgets/base",
            "_model_module_version": "1.2.0",
            "_model_name": "LayoutModel",
            "_view_count": null,
            "_view_module": "@jupyter-widgets/base",
            "_view_module_version": "1.2.0",
            "_view_name": "LayoutView",
            "align_content": null,
            "align_items": null,
            "align_self": null,
            "border": null,
            "bottom": null,
            "display": null,
            "flex": null,
            "flex_flow": null,
            "grid_area": null,
            "grid_auto_columns": null,
            "grid_auto_flow": null,
            "grid_auto_rows": null,
            "grid_column": null,
            "grid_gap": null,
            "grid_row": null,
            "grid_template_areas": null,
            "grid_template_columns": null,
            "grid_template_rows": null,
            "height": null,
            "justify_content": null,
            "justify_items": null,
            "left": null,
            "margin": null,
            "max_height": null,
            "max_width": null,
            "min_height": null,
            "min_width": null,
            "object_fit": null,
            "object_position": null,
            "order": null,
            "overflow": null,
            "overflow_x": null,
            "overflow_y": null,
            "padding": null,
            "right": null,
            "top": null,
            "visibility": null,
            "width": null
          }
        },
        "0fa853d23b9146b0bbaeda5bc8be1d74": {
          "model_module": "@jupyter-widgets/base",
          "model_module_version": "1.2.0",
          "model_name": "LayoutModel",
          "state": {
            "_model_module": "@jupyter-widgets/base",
            "_model_module_version": "1.2.0",
            "_model_name": "LayoutModel",
            "_view_count": null,
            "_view_module": "@jupyter-widgets/base",
            "_view_module_version": "1.2.0",
            "_view_name": "LayoutView",
            "align_content": null,
            "align_items": null,
            "align_self": null,
            "border": null,
            "bottom": null,
            "display": null,
            "flex": null,
            "flex_flow": null,
            "grid_area": null,
            "grid_auto_columns": null,
            "grid_auto_flow": null,
            "grid_auto_rows": null,
            "grid_column": null,
            "grid_gap": null,
            "grid_row": null,
            "grid_template_areas": null,
            "grid_template_columns": null,
            "grid_template_rows": null,
            "height": null,
            "justify_content": null,
            "justify_items": null,
            "left": null,
            "margin": null,
            "max_height": null,
            "max_width": null,
            "min_height": null,
            "min_width": null,
            "object_fit": null,
            "object_position": null,
            "order": null,
            "overflow": null,
            "overflow_x": null,
            "overflow_y": null,
            "padding": null,
            "right": null,
            "top": null,
            "visibility": null,
            "width": null
          }
        },
        "12e3a2760e5f49baa46df364e41a9634": {
          "model_module": "@jupyter-widgets/base",
          "model_module_version": "1.2.0",
          "model_name": "LayoutModel",
          "state": {
            "_model_module": "@jupyter-widgets/base",
            "_model_module_version": "1.2.0",
            "_model_name": "LayoutModel",
            "_view_count": null,
            "_view_module": "@jupyter-widgets/base",
            "_view_module_version": "1.2.0",
            "_view_name": "LayoutView",
            "align_content": null,
            "align_items": null,
            "align_self": null,
            "border": null,
            "bottom": null,
            "display": null,
            "flex": null,
            "flex_flow": null,
            "grid_area": null,
            "grid_auto_columns": null,
            "grid_auto_flow": null,
            "grid_auto_rows": null,
            "grid_column": null,
            "grid_gap": null,
            "grid_row": null,
            "grid_template_areas": null,
            "grid_template_columns": null,
            "grid_template_rows": null,
            "height": null,
            "justify_content": null,
            "justify_items": null,
            "left": null,
            "margin": null,
            "max_height": null,
            "max_width": null,
            "min_height": null,
            "min_width": null,
            "object_fit": null,
            "object_position": null,
            "order": null,
            "overflow": null,
            "overflow_x": null,
            "overflow_y": null,
            "padding": null,
            "right": null,
            "top": null,
            "visibility": "hidden",
            "width": null
          }
        },
        "14e4b99901a245778e37557062f6da36": {
          "model_module": "@jupyter-widgets/controls",
          "model_module_version": "1.5.0",
          "model_name": "HTMLModel",
          "state": {
            "_dom_classes": [],
            "_model_module": "@jupyter-widgets/controls",
            "_model_module_version": "1.5.0",
            "_model_name": "HTMLModel",
            "_view_count": null,
            "_view_module": "@jupyter-widgets/controls",
            "_view_module_version": "1.5.0",
            "_view_name": "HTMLView",
            "description": "",
            "description_tooltip": null,
            "layout": "IPY_MODEL_0378482d64ca489888868ce1e507b054",
            "placeholder": "​",
            "style": "IPY_MODEL_4949a01b3d8f45689f95c76d5d844463",
            "value": " 85/85 [00:47&lt;00:00,  1.94it/s]"
          }
        },
        "17f436c1847e40328bdd9aff2f9ab244": {
          "model_module": "@jupyter-widgets/base",
          "model_module_version": "1.2.0",
          "model_name": "LayoutModel",
          "state": {
            "_model_module": "@jupyter-widgets/base",
            "_model_module_version": "1.2.0",
            "_model_name": "LayoutModel",
            "_view_count": null,
            "_view_module": "@jupyter-widgets/base",
            "_view_module_version": "1.2.0",
            "_view_name": "LayoutView",
            "align_content": null,
            "align_items": null,
            "align_self": null,
            "border": null,
            "bottom": null,
            "display": null,
            "flex": null,
            "flex_flow": null,
            "grid_area": null,
            "grid_auto_columns": null,
            "grid_auto_flow": null,
            "grid_auto_rows": null,
            "grid_column": null,
            "grid_gap": null,
            "grid_row": null,
            "grid_template_areas": null,
            "grid_template_columns": null,
            "grid_template_rows": null,
            "height": null,
            "justify_content": null,
            "justify_items": null,
            "left": null,
            "margin": null,
            "max_height": null,
            "max_width": null,
            "min_height": null,
            "min_width": null,
            "object_fit": null,
            "object_position": null,
            "order": null,
            "overflow": null,
            "overflow_x": null,
            "overflow_y": null,
            "padding": null,
            "right": null,
            "top": null,
            "visibility": null,
            "width": null
          }
        },
        "1947fdf02a2649d49a78c9b7dc7e91c0": {
          "model_module": "@jupyter-widgets/base",
          "model_module_version": "1.2.0",
          "model_name": "LayoutModel",
          "state": {
            "_model_module": "@jupyter-widgets/base",
            "_model_module_version": "1.2.0",
            "_model_name": "LayoutModel",
            "_view_count": null,
            "_view_module": "@jupyter-widgets/base",
            "_view_module_version": "1.2.0",
            "_view_name": "LayoutView",
            "align_content": null,
            "align_items": null,
            "align_self": null,
            "border": null,
            "bottom": null,
            "display": null,
            "flex": null,
            "flex_flow": null,
            "grid_area": null,
            "grid_auto_columns": null,
            "grid_auto_flow": null,
            "grid_auto_rows": null,
            "grid_column": null,
            "grid_gap": null,
            "grid_row": null,
            "grid_template_areas": null,
            "grid_template_columns": null,
            "grid_template_rows": null,
            "height": null,
            "justify_content": null,
            "justify_items": null,
            "left": null,
            "margin": null,
            "max_height": null,
            "max_width": null,
            "min_height": null,
            "min_width": null,
            "object_fit": null,
            "object_position": null,
            "order": null,
            "overflow": null,
            "overflow_x": null,
            "overflow_y": null,
            "padding": null,
            "right": null,
            "top": null,
            "visibility": null,
            "width": null
          }
        },
        "1cbc65f6706e4385b02af8dd559aec07": {
          "model_module": "@jupyter-widgets/controls",
          "model_module_version": "1.5.0",
          "model_name": "HBoxModel",
          "state": {
            "_dom_classes": [],
            "_model_module": "@jupyter-widgets/controls",
            "_model_module_version": "1.5.0",
            "_model_name": "HBoxModel",
            "_view_count": null,
            "_view_module": "@jupyter-widgets/controls",
            "_view_module_version": "1.5.0",
            "_view_name": "HBoxView",
            "box_style": "",
            "children": [
              "IPY_MODEL_45e303cb94c84c849a23c029f3e42ca0",
              "IPY_MODEL_58e82124e0124c2a99fcfaac53aec402",
              "IPY_MODEL_76aefd0f70d74d66ae03831f9f4da02d"
            ],
            "layout": "IPY_MODEL_75f81b1890ae4d63a2ea50350e3b445b"
          }
        },
        "23f3136df9af425baf404e6b49900654": {
          "model_module": "@jupyter-widgets/base",
          "model_module_version": "1.2.0",
          "model_name": "LayoutModel",
          "state": {
            "_model_module": "@jupyter-widgets/base",
            "_model_module_version": "1.2.0",
            "_model_name": "LayoutModel",
            "_view_count": null,
            "_view_module": "@jupyter-widgets/base",
            "_view_module_version": "1.2.0",
            "_view_name": "LayoutView",
            "align_content": null,
            "align_items": null,
            "align_self": null,
            "border": null,
            "bottom": null,
            "display": null,
            "flex": null,
            "flex_flow": null,
            "grid_area": null,
            "grid_auto_columns": null,
            "grid_auto_flow": null,
            "grid_auto_rows": null,
            "grid_column": null,
            "grid_gap": null,
            "grid_row": null,
            "grid_template_areas": null,
            "grid_template_columns": null,
            "grid_template_rows": null,
            "height": null,
            "justify_content": null,
            "justify_items": null,
            "left": null,
            "margin": null,
            "max_height": null,
            "max_width": null,
            "min_height": null,
            "min_width": null,
            "object_fit": null,
            "object_position": null,
            "order": null,
            "overflow": null,
            "overflow_x": null,
            "overflow_y": null,
            "padding": null,
            "right": null,
            "top": null,
            "visibility": null,
            "width": null
          }
        },
        "2c130ac2e51f4c929c5fc8c28ab6cd2c": {
          "model_module": "@jupyter-widgets/base",
          "model_module_version": "1.2.0",
          "model_name": "LayoutModel",
          "state": {
            "_model_module": "@jupyter-widgets/base",
            "_model_module_version": "1.2.0",
            "_model_name": "LayoutModel",
            "_view_count": null,
            "_view_module": "@jupyter-widgets/base",
            "_view_module_version": "1.2.0",
            "_view_name": "LayoutView",
            "align_content": null,
            "align_items": null,
            "align_self": null,
            "border": null,
            "bottom": null,
            "display": null,
            "flex": null,
            "flex_flow": null,
            "grid_area": null,
            "grid_auto_columns": null,
            "grid_auto_flow": null,
            "grid_auto_rows": null,
            "grid_column": null,
            "grid_gap": null,
            "grid_row": null,
            "grid_template_areas": null,
            "grid_template_columns": null,
            "grid_template_rows": null,
            "height": null,
            "justify_content": null,
            "justify_items": null,
            "left": null,
            "margin": null,
            "max_height": null,
            "max_width": null,
            "min_height": null,
            "min_width": null,
            "object_fit": null,
            "object_position": null,
            "order": null,
            "overflow": null,
            "overflow_x": null,
            "overflow_y": null,
            "padding": null,
            "right": null,
            "top": null,
            "visibility": null,
            "width": null
          }
        },
        "2ff037fceda246369ef9ecac297978ed": {
          "model_module": "@jupyter-widgets/controls",
          "model_module_version": "1.5.0",
          "model_name": "DescriptionStyleModel",
          "state": {
            "_model_module": "@jupyter-widgets/controls",
            "_model_module_version": "1.5.0",
            "_model_name": "DescriptionStyleModel",
            "_view_count": null,
            "_view_module": "@jupyter-widgets/base",
            "_view_module_version": "1.2.0",
            "_view_name": "StyleView",
            "description_width": ""
          }
        },
        "32e0a2fae9ec4916b024e28599a8ff47": {
          "model_module": "@jupyter-widgets/controls",
          "model_module_version": "1.5.0",
          "model_name": "ToggleButtonsStyleModel",
          "state": {
            "_model_module": "@jupyter-widgets/controls",
            "_model_module_version": "1.5.0",
            "_model_name": "ToggleButtonsStyleModel",
            "_view_count": null,
            "_view_module": "@jupyter-widgets/base",
            "_view_module_version": "1.2.0",
            "_view_name": "StyleView",
            "button_width": "",
            "description_width": "",
            "font_weight": ""
          }
        },
        "3828e75f20fe428ca7057fe76ec65a40": {
          "model_module": "@jupyter-widgets/controls",
          "model_module_version": "1.5.0",
          "model_name": "DescriptionStyleModel",
          "state": {
            "_model_module": "@jupyter-widgets/controls",
            "_model_module_version": "1.5.0",
            "_model_name": "DescriptionStyleModel",
            "_view_count": null,
            "_view_module": "@jupyter-widgets/base",
            "_view_module_version": "1.2.0",
            "_view_name": "StyleView",
            "description_width": ""
          }
        },
        "3a1a98dbf80549f0a9f0a57df97715b2": {
          "model_module": "@jupyter-widgets/controls",
          "model_module_version": "1.5.0",
          "model_name": "FloatProgressModel",
          "state": {
            "_dom_classes": [],
            "_model_module": "@jupyter-widgets/controls",
            "_model_module_version": "1.5.0",
            "_model_name": "FloatProgressModel",
            "_view_count": null,
            "_view_module": "@jupyter-widgets/controls",
            "_view_module_version": "1.5.0",
            "_view_name": "ProgressView",
            "bar_style": "",
            "description": "",
            "description_tooltip": null,
            "layout": "IPY_MODEL_5ba279e9cc9a4fa4826eab67484cd848",
            "max": 85,
            "min": 0,
            "orientation": "horizontal",
            "style": "IPY_MODEL_3d136fa47c514727bb96765501699188",
            "value": 85
          }
        },
        "3d136fa47c514727bb96765501699188": {
          "model_module": "@jupyter-widgets/controls",
          "model_module_version": "1.5.0",
          "model_name": "ProgressStyleModel",
          "state": {
            "_model_module": "@jupyter-widgets/controls",
            "_model_module_version": "1.5.0",
            "_model_name": "ProgressStyleModel",
            "_view_count": null,
            "_view_module": "@jupyter-widgets/base",
            "_view_module_version": "1.2.0",
            "_view_name": "StyleView",
            "bar_color": null,
            "description_width": ""
          }
        },
        "4040656650d341bdbe3210424d42a42e": {
          "model_module": "@jupyter-widgets/base",
          "model_module_version": "1.2.0",
          "model_name": "LayoutModel",
          "state": {
            "_model_module": "@jupyter-widgets/base",
            "_model_module_version": "1.2.0",
            "_model_name": "LayoutModel",
            "_view_count": null,
            "_view_module": "@jupyter-widgets/base",
            "_view_module_version": "1.2.0",
            "_view_name": "LayoutView",
            "align_content": null,
            "align_items": null,
            "align_self": null,
            "border": null,
            "bottom": null,
            "display": null,
            "flex": null,
            "flex_flow": null,
            "grid_area": null,
            "grid_auto_columns": null,
            "grid_auto_flow": null,
            "grid_auto_rows": null,
            "grid_column": null,
            "grid_gap": null,
            "grid_row": null,
            "grid_template_areas": null,
            "grid_template_columns": null,
            "grid_template_rows": null,
            "height": null,
            "justify_content": null,
            "justify_items": null,
            "left": null,
            "margin": null,
            "max_height": null,
            "max_width": null,
            "min_height": null,
            "min_width": null,
            "object_fit": null,
            "object_position": null,
            "order": null,
            "overflow": null,
            "overflow_x": null,
            "overflow_y": null,
            "padding": null,
            "right": null,
            "top": null,
            "visibility": null,
            "width": null
          }
        },
        "43cf1c973ef4456f8438223fc17150b9": {
          "model_module": "@jupyter-widgets/controls",
          "model_module_version": "1.5.0",
          "model_name": "DescriptionStyleModel",
          "state": {
            "_model_module": "@jupyter-widgets/controls",
            "_model_module_version": "1.5.0",
            "_model_name": "DescriptionStyleModel",
            "_view_count": null,
            "_view_module": "@jupyter-widgets/base",
            "_view_module_version": "1.2.0",
            "_view_name": "StyleView",
            "description_width": ""
          }
        },
        "44188c08c659413199ff4a22badd97b1": {
          "model_module": "@jupyter-widgets/controls",
          "model_module_version": "1.5.0",
          "model_name": "HBoxModel",
          "state": {
            "_dom_classes": [],
            "_model_module": "@jupyter-widgets/controls",
            "_model_module_version": "1.5.0",
            "_model_name": "HBoxModel",
            "_view_count": null,
            "_view_module": "@jupyter-widgets/controls",
            "_view_module_version": "1.5.0",
            "_view_name": "HBoxView",
            "box_style": "",
            "children": [
              "IPY_MODEL_643bcd7e5d2a496289f08c57b7cfb4aa",
              "IPY_MODEL_a86f6860a3d342e59454a32274f6beda",
              "IPY_MODEL_14e4b99901a245778e37557062f6da36"
            ],
            "layout": "IPY_MODEL_12e3a2760e5f49baa46df364e41a9634"
          }
        },
        "441c10e2465848c8b106d89c7479735a": {
          "model_module": "@jupyter-widgets/controls",
          "model_module_version": "1.5.0",
          "model_name": "DescriptionStyleModel",
          "state": {
            "_model_module": "@jupyter-widgets/controls",
            "_model_module_version": "1.5.0",
            "_model_name": "DescriptionStyleModel",
            "_view_count": null,
            "_view_module": "@jupyter-widgets/base",
            "_view_module_version": "1.2.0",
            "_view_name": "StyleView",
            "description_width": ""
          }
        },
        "45e303cb94c84c849a23c029f3e42ca0": {
          "model_module": "@jupyter-widgets/controls",
          "model_module_version": "1.5.0",
          "model_name": "HTMLModel",
          "state": {
            "_dom_classes": [],
            "_model_module": "@jupyter-widgets/controls",
            "_model_module_version": "1.5.0",
            "_model_name": "HTMLModel",
            "_view_count": null,
            "_view_module": "@jupyter-widgets/controls",
            "_view_module_version": "1.5.0",
            "_view_name": "HTMLView",
            "description": "",
            "description_tooltip": null,
            "layout": "IPY_MODEL_54b215c9054c49389a3c327c7bdb48d8",
            "placeholder": "​",
            "style": "IPY_MODEL_2ff037fceda246369ef9ecac297978ed",
            "value": "Processing:  75%"
          }
        },
        "4949a01b3d8f45689f95c76d5d844463": {
          "model_module": "@jupyter-widgets/controls",
          "model_module_version": "1.5.0",
          "model_name": "DescriptionStyleModel",
          "state": {
            "_model_module": "@jupyter-widgets/controls",
            "_model_module_version": "1.5.0",
            "_model_name": "DescriptionStyleModel",
            "_view_count": null,
            "_view_module": "@jupyter-widgets/base",
            "_view_module_version": "1.2.0",
            "_view_name": "StyleView",
            "description_width": ""
          }
        },
        "4ffa79c76a8e4bebb3ac09e1342189ae": {
          "model_module": "@jupyter-widgets/controls",
          "model_module_version": "1.5.0",
          "model_name": "HBoxModel",
          "state": {
            "_dom_classes": [],
            "_model_module": "@jupyter-widgets/controls",
            "_model_module_version": "1.5.0",
            "_model_name": "HBoxModel",
            "_view_count": null,
            "_view_module": "@jupyter-widgets/controls",
            "_view_module_version": "1.5.0",
            "_view_name": "HBoxView",
            "box_style": "",
            "children": [
              "IPY_MODEL_08f18c6e67df4822a932d0b4895e78ea",
              "IPY_MODEL_ab9c8287c6784906b465b5f5c188697c",
              "IPY_MODEL_f43c493fe93542ee9d64e5387a2fae1e"
            ],
            "layout": "IPY_MODEL_cd92e938b074432f83fd86e57692ebab"
          }
        },
        "52e772ba40f843bba59e215ce716fca8": {
          "model_module": "@jupyter-widgets/controls",
          "model_module_version": "1.5.0",
          "model_name": "ProgressStyleModel",
          "state": {
            "_model_module": "@jupyter-widgets/controls",
            "_model_module_version": "1.5.0",
            "_model_name": "ProgressStyleModel",
            "_view_count": null,
            "_view_module": "@jupyter-widgets/base",
            "_view_module_version": "1.2.0",
            "_view_name": "StyleView",
            "bar_color": null,
            "description_width": ""
          }
        },
        "533f7621698b4c7e9411a1bfd5b8be53": {
          "model_module": "@jupyter-widgets/controls",
          "model_module_version": "1.5.0",
          "model_name": "DescriptionStyleModel",
          "state": {
            "_model_module": "@jupyter-widgets/controls",
            "_model_module_version": "1.5.0",
            "_model_name": "DescriptionStyleModel",
            "_view_count": null,
            "_view_module": "@jupyter-widgets/base",
            "_view_module_version": "1.2.0",
            "_view_name": "StyleView",
            "description_width": ""
          }
        },
        "54b215c9054c49389a3c327c7bdb48d8": {
          "model_module": "@jupyter-widgets/base",
          "model_module_version": "1.2.0",
          "model_name": "LayoutModel",
          "state": {
            "_model_module": "@jupyter-widgets/base",
            "_model_module_version": "1.2.0",
            "_model_name": "LayoutModel",
            "_view_count": null,
            "_view_module": "@jupyter-widgets/base",
            "_view_module_version": "1.2.0",
            "_view_name": "LayoutView",
            "align_content": null,
            "align_items": null,
            "align_self": null,
            "border": null,
            "bottom": null,
            "display": null,
            "flex": null,
            "flex_flow": null,
            "grid_area": null,
            "grid_auto_columns": null,
            "grid_auto_flow": null,
            "grid_auto_rows": null,
            "grid_column": null,
            "grid_gap": null,
            "grid_row": null,
            "grid_template_areas": null,
            "grid_template_columns": null,
            "grid_template_rows": null,
            "height": null,
            "justify_content": null,
            "justify_items": null,
            "left": null,
            "margin": null,
            "max_height": null,
            "max_width": null,
            "min_height": null,
            "min_width": null,
            "object_fit": null,
            "object_position": null,
            "order": null,
            "overflow": null,
            "overflow_x": null,
            "overflow_y": null,
            "padding": null,
            "right": null,
            "top": null,
            "visibility": null,
            "width": null
          }
        },
        "55b8dcccf9e9464499dc75ba3ad1a342": {
          "model_module": "@jupyter-widgets/base",
          "model_module_version": "1.2.0",
          "model_name": "LayoutModel",
          "state": {
            "_model_module": "@jupyter-widgets/base",
            "_model_module_version": "1.2.0",
            "_model_name": "LayoutModel",
            "_view_count": null,
            "_view_module": "@jupyter-widgets/base",
            "_view_module_version": "1.2.0",
            "_view_name": "LayoutView",
            "align_content": null,
            "align_items": null,
            "align_self": null,
            "border": null,
            "bottom": null,
            "display": null,
            "flex": null,
            "flex_flow": null,
            "grid_area": null,
            "grid_auto_columns": null,
            "grid_auto_flow": null,
            "grid_auto_rows": null,
            "grid_column": null,
            "grid_gap": null,
            "grid_row": null,
            "grid_template_areas": null,
            "grid_template_columns": null,
            "grid_template_rows": null,
            "height": null,
            "justify_content": null,
            "justify_items": null,
            "left": null,
            "margin": null,
            "max_height": null,
            "max_width": null,
            "min_height": null,
            "min_width": null,
            "object_fit": null,
            "object_position": null,
            "order": null,
            "overflow": null,
            "overflow_x": null,
            "overflow_y": null,
            "padding": null,
            "right": null,
            "top": null,
            "visibility": null,
            "width": null
          }
        },
        "5620b5360a5b460c8681c494a02e479c": {
          "model_module": "@jupyter-widgets/controls",
          "model_module_version": "1.5.0",
          "model_name": "ToggleButtonsStyleModel",
          "state": {
            "_model_module": "@jupyter-widgets/controls",
            "_model_module_version": "1.5.0",
            "_model_name": "ToggleButtonsStyleModel",
            "_view_count": null,
            "_view_module": "@jupyter-widgets/base",
            "_view_module_version": "1.2.0",
            "_view_name": "StyleView",
            "button_width": "",
            "description_width": "",
            "font_weight": ""
          }
        },
        "58e82124e0124c2a99fcfaac53aec402": {
          "model_module": "@jupyter-widgets/controls",
          "model_module_version": "1.5.0",
          "model_name": "FloatProgressModel",
          "state": {
            "_dom_classes": [],
            "_model_module": "@jupyter-widgets/controls",
            "_model_module_version": "1.5.0",
            "_model_name": "FloatProgressModel",
            "_view_count": null,
            "_view_module": "@jupyter-widgets/controls",
            "_view_module_version": "1.5.0",
            "_view_name": "ProgressView",
            "bar_style": "danger",
            "description": "",
            "description_tooltip": null,
            "layout": "IPY_MODEL_c28c364df6b14585aae7d21027fa97cc",
            "max": 4,
            "min": 0,
            "orientation": "horizontal",
            "style": "IPY_MODEL_b8bed0a52a7543499fe2a7fb847d27d1",
            "value": 3
          }
        },
        "5ba279e9cc9a4fa4826eab67484cd848": {
          "model_module": "@jupyter-widgets/base",
          "model_module_version": "1.2.0",
          "model_name": "LayoutModel",
          "state": {
            "_model_module": "@jupyter-widgets/base",
            "_model_module_version": "1.2.0",
            "_model_name": "LayoutModel",
            "_view_count": null,
            "_view_module": "@jupyter-widgets/base",
            "_view_module_version": "1.2.0",
            "_view_name": "LayoutView",
            "align_content": null,
            "align_items": null,
            "align_self": null,
            "border": null,
            "bottom": null,
            "display": null,
            "flex": null,
            "flex_flow": null,
            "grid_area": null,
            "grid_auto_columns": null,
            "grid_auto_flow": null,
            "grid_auto_rows": null,
            "grid_column": null,
            "grid_gap": null,
            "grid_row": null,
            "grid_template_areas": null,
            "grid_template_columns": null,
            "grid_template_rows": null,
            "height": null,
            "justify_content": null,
            "justify_items": null,
            "left": null,
            "margin": null,
            "max_height": null,
            "max_width": null,
            "min_height": null,
            "min_width": null,
            "object_fit": null,
            "object_position": null,
            "order": null,
            "overflow": null,
            "overflow_x": null,
            "overflow_y": null,
            "padding": null,
            "right": null,
            "top": null,
            "visibility": null,
            "width": null
          }
        },
        "5c61df2cd831427d8daaab61349c4cb6": {
          "model_module": "@jupyter-widgets/controls",
          "model_module_version": "1.5.0",
          "model_name": "DescriptionStyleModel",
          "state": {
            "_model_module": "@jupyter-widgets/controls",
            "_model_module_version": "1.5.0",
            "_model_name": "DescriptionStyleModel",
            "_view_count": null,
            "_view_module": "@jupyter-widgets/base",
            "_view_module_version": "1.2.0",
            "_view_name": "StyleView",
            "description_width": ""
          }
        },
        "5d9ec3d391a142a99b9027c830d7c886": {
          "model_module": "@jupyter-widgets/controls",
          "model_module_version": "1.5.0",
          "model_name": "ToggleButtonsModel",
          "state": {
            "_dom_classes": [],
            "_model_module": "@jupyter-widgets/controls",
            "_model_module_version": "1.5.0",
            "_model_name": "ToggleButtonsModel",
            "_options_labels": [
              "Pipeline Plot",
              "Hyperparameters",
              "Residuals",
              "Prediction Error",
              "Cooks Distance",
              "Feature Selection",
              "Learning Curve",
              "Manifold Learning",
              "Validation Curve",
              "Feature Importance",
              "Feature Importance (All)",
              "Decision Tree",
              "Interactive Residuals"
            ],
            "_view_count": null,
            "_view_module": "@jupyter-widgets/controls",
            "_view_module_version": "1.5.0",
            "_view_name": "ToggleButtonsView",
            "button_style": "",
            "description": "Plot Type:",
            "description_tooltip": null,
            "disabled": false,
            "icons": [
              ""
            ],
            "index": 10,
            "layout": "IPY_MODEL_0efb4aa94ae1470fb7d34eadda66c360",
            "style": "IPY_MODEL_6212e3f7571e43288f2ae5296c41ec25",
            "tooltips": []
          }
        },
        "5f7a3f234e9f4150ac95bbc799a1f290": {
          "model_module": "@jupyter-widgets/base",
          "model_module_version": "1.2.0",
          "model_name": "LayoutModel",
          "state": {
            "_model_module": "@jupyter-widgets/base",
            "_model_module_version": "1.2.0",
            "_model_name": "LayoutModel",
            "_view_count": null,
            "_view_module": "@jupyter-widgets/base",
            "_view_module_version": "1.2.0",
            "_view_name": "LayoutView",
            "align_content": null,
            "align_items": null,
            "align_self": null,
            "border": null,
            "bottom": null,
            "display": null,
            "flex": null,
            "flex_flow": null,
            "grid_area": null,
            "grid_auto_columns": null,
            "grid_auto_flow": null,
            "grid_auto_rows": null,
            "grid_column": null,
            "grid_gap": null,
            "grid_row": null,
            "grid_template_areas": null,
            "grid_template_columns": null,
            "grid_template_rows": null,
            "height": null,
            "justify_content": null,
            "justify_items": null,
            "left": null,
            "margin": null,
            "max_height": null,
            "max_width": null,
            "min_height": null,
            "min_width": null,
            "object_fit": null,
            "object_position": null,
            "order": null,
            "overflow": null,
            "overflow_x": null,
            "overflow_y": null,
            "padding": null,
            "right": null,
            "top": null,
            "visibility": null,
            "width": null
          }
        },
        "602d93bf72a84959a46b5d5ead47a75c": {
          "model_module": "@jupyter-widgets/base",
          "model_module_version": "1.2.0",
          "model_name": "LayoutModel",
          "state": {
            "_model_module": "@jupyter-widgets/base",
            "_model_module_version": "1.2.0",
            "_model_name": "LayoutModel",
            "_view_count": null,
            "_view_module": "@jupyter-widgets/base",
            "_view_module_version": "1.2.0",
            "_view_name": "LayoutView",
            "align_content": null,
            "align_items": null,
            "align_self": null,
            "border": null,
            "bottom": null,
            "display": null,
            "flex": null,
            "flex_flow": null,
            "grid_area": null,
            "grid_auto_columns": null,
            "grid_auto_flow": null,
            "grid_auto_rows": null,
            "grid_column": null,
            "grid_gap": null,
            "grid_row": null,
            "grid_template_areas": null,
            "grid_template_columns": null,
            "grid_template_rows": null,
            "height": null,
            "justify_content": null,
            "justify_items": null,
            "left": null,
            "margin": null,
            "max_height": null,
            "max_width": null,
            "min_height": null,
            "min_width": null,
            "object_fit": null,
            "object_position": null,
            "order": null,
            "overflow": null,
            "overflow_x": null,
            "overflow_y": null,
            "padding": null,
            "right": null,
            "top": null,
            "visibility": null,
            "width": null
          }
        },
        "6212e3f7571e43288f2ae5296c41ec25": {
          "model_module": "@jupyter-widgets/controls",
          "model_module_version": "1.5.0",
          "model_name": "ToggleButtonsStyleModel",
          "state": {
            "_model_module": "@jupyter-widgets/controls",
            "_model_module_version": "1.5.0",
            "_model_name": "ToggleButtonsStyleModel",
            "_view_count": null,
            "_view_module": "@jupyter-widgets/base",
            "_view_module_version": "1.2.0",
            "_view_name": "StyleView",
            "button_width": "",
            "description_width": "",
            "font_weight": ""
          }
        },
        "643bcd7e5d2a496289f08c57b7cfb4aa": {
          "model_module": "@jupyter-widgets/controls",
          "model_module_version": "1.5.0",
          "model_name": "HTMLModel",
          "state": {
            "_dom_classes": [],
            "_model_module": "@jupyter-widgets/controls",
            "_model_module_version": "1.5.0",
            "_model_name": "HTMLModel",
            "_view_count": null,
            "_view_module": "@jupyter-widgets/controls",
            "_view_module_version": "1.5.0",
            "_view_name": "HTMLView",
            "description": "",
            "description_tooltip": null,
            "layout": "IPY_MODEL_0acf4838cd6d4647b13bc1a4ce0c3be5",
            "placeholder": "​",
            "style": "IPY_MODEL_d054dbeb5f8c46c795db98d4723bb54f",
            "value": "Processing: 100%"
          }
        },
        "6c675ffd98814166a3c14003330507ce": {
          "model_module": "@jupyter-widgets/controls",
          "model_module_version": "1.5.0",
          "model_name": "ToggleButtonsModel",
          "state": {
            "_dom_classes": [],
            "_model_module": "@jupyter-widgets/controls",
            "_model_module_version": "1.5.0",
            "_model_name": "ToggleButtonsModel",
            "_options_labels": [
              "Pipeline Plot",
              "Hyperparameters",
              "Residuals",
              "Prediction Error",
              "Cooks Distance",
              "Feature Selection",
              "Learning Curve",
              "Manifold Learning",
              "Validation Curve",
              "Feature Importance",
              "Feature Importance (All)",
              "Decision Tree",
              "Interactive Residuals"
            ],
            "_view_count": null,
            "_view_module": "@jupyter-widgets/controls",
            "_view_module_version": "1.5.0",
            "_view_name": "ToggleButtonsView",
            "button_style": "",
            "description": "Plot Type:",
            "description_tooltip": null,
            "disabled": false,
            "icons": [
              ""
            ],
            "index": 10,
            "layout": "IPY_MODEL_0fa853d23b9146b0bbaeda5bc8be1d74",
            "style": "IPY_MODEL_32e0a2fae9ec4916b024e28599a8ff47",
            "tooltips": []
          }
        },
        "6d003211c93b475c87acee5552caf5a8": {
          "model_module": "@jupyter-widgets/base",
          "model_module_version": "1.2.0",
          "model_name": "LayoutModel",
          "state": {
            "_model_module": "@jupyter-widgets/base",
            "_model_module_version": "1.2.0",
            "_model_name": "LayoutModel",
            "_view_count": null,
            "_view_module": "@jupyter-widgets/base",
            "_view_module_version": "1.2.0",
            "_view_name": "LayoutView",
            "align_content": null,
            "align_items": null,
            "align_self": null,
            "border": null,
            "bottom": null,
            "display": null,
            "flex": null,
            "flex_flow": null,
            "grid_area": null,
            "grid_auto_columns": null,
            "grid_auto_flow": null,
            "grid_auto_rows": null,
            "grid_column": null,
            "grid_gap": null,
            "grid_row": null,
            "grid_template_areas": null,
            "grid_template_columns": null,
            "grid_template_rows": null,
            "height": null,
            "justify_content": null,
            "justify_items": null,
            "left": null,
            "margin": null,
            "max_height": null,
            "max_width": null,
            "min_height": null,
            "min_width": null,
            "object_fit": null,
            "object_position": null,
            "order": null,
            "overflow": null,
            "overflow_x": null,
            "overflow_y": null,
            "padding": null,
            "right": null,
            "top": null,
            "visibility": null,
            "width": null
          }
        },
        "73200bf67acf4e0e85a9589639789e46": {
          "model_module": "@jupyter-widgets/base",
          "model_module_version": "1.2.0",
          "model_name": "LayoutModel",
          "state": {
            "_model_module": "@jupyter-widgets/base",
            "_model_module_version": "1.2.0",
            "_model_name": "LayoutModel",
            "_view_count": null,
            "_view_module": "@jupyter-widgets/base",
            "_view_module_version": "1.2.0",
            "_view_name": "LayoutView",
            "align_content": null,
            "align_items": null,
            "align_self": null,
            "border": null,
            "bottom": null,
            "display": null,
            "flex": null,
            "flex_flow": null,
            "grid_area": null,
            "grid_auto_columns": null,
            "grid_auto_flow": null,
            "grid_auto_rows": null,
            "grid_column": null,
            "grid_gap": null,
            "grid_row": null,
            "grid_template_areas": null,
            "grid_template_columns": null,
            "grid_template_rows": null,
            "height": null,
            "justify_content": null,
            "justify_items": null,
            "left": null,
            "margin": null,
            "max_height": null,
            "max_width": null,
            "min_height": null,
            "min_width": null,
            "object_fit": null,
            "object_position": null,
            "order": null,
            "overflow": null,
            "overflow_x": null,
            "overflow_y": null,
            "padding": null,
            "right": null,
            "top": null,
            "visibility": null,
            "width": null
          }
        },
        "7433892b125246479ae58a6ba0dfc8e7": {
          "model_module": "@jupyter-widgets/controls",
          "model_module_version": "1.5.0",
          "model_name": "HTMLModel",
          "state": {
            "_dom_classes": [],
            "_model_module": "@jupyter-widgets/controls",
            "_model_module_version": "1.5.0",
            "_model_name": "HTMLModel",
            "_view_count": null,
            "_view_module": "@jupyter-widgets/controls",
            "_view_module_version": "1.5.0",
            "_view_name": "HTMLView",
            "description": "",
            "description_tooltip": null,
            "layout": "IPY_MODEL_23f3136df9af425baf404e6b49900654",
            "placeholder": "​",
            "style": "IPY_MODEL_441c10e2465848c8b106d89c7479735a",
            "value": " 85/85 [00:16&lt;00:00,  3.98it/s]"
          }
        },
        "75f81b1890ae4d63a2ea50350e3b445b": {
          "model_module": "@jupyter-widgets/base",
          "model_module_version": "1.2.0",
          "model_name": "LayoutModel",
          "state": {
            "_model_module": "@jupyter-widgets/base",
            "_model_module_version": "1.2.0",
            "_model_name": "LayoutModel",
            "_view_count": null,
            "_view_module": "@jupyter-widgets/base",
            "_view_module_version": "1.2.0",
            "_view_name": "LayoutView",
            "align_content": null,
            "align_items": null,
            "align_self": null,
            "border": null,
            "bottom": null,
            "display": null,
            "flex": null,
            "flex_flow": null,
            "grid_area": null,
            "grid_auto_columns": null,
            "grid_auto_flow": null,
            "grid_auto_rows": null,
            "grid_column": null,
            "grid_gap": null,
            "grid_row": null,
            "grid_template_areas": null,
            "grid_template_columns": null,
            "grid_template_rows": null,
            "height": null,
            "justify_content": null,
            "justify_items": null,
            "left": null,
            "margin": null,
            "max_height": null,
            "max_width": null,
            "min_height": null,
            "min_width": null,
            "object_fit": null,
            "object_position": null,
            "order": null,
            "overflow": null,
            "overflow_x": null,
            "overflow_y": null,
            "padding": null,
            "right": null,
            "top": null,
            "visibility": null,
            "width": null
          }
        },
        "76aefd0f70d74d66ae03831f9f4da02d": {
          "model_module": "@jupyter-widgets/controls",
          "model_module_version": "1.5.0",
          "model_name": "HTMLModel",
          "state": {
            "_dom_classes": [],
            "_model_module": "@jupyter-widgets/controls",
            "_model_module_version": "1.5.0",
            "_model_name": "HTMLModel",
            "_view_count": null,
            "_view_module": "@jupyter-widgets/controls",
            "_view_module_version": "1.5.0",
            "_view_name": "HTMLView",
            "description": "",
            "description_tooltip": null,
            "layout": "IPY_MODEL_d5b5e45166cf4eb5a736af3f0d37b24b",
            "placeholder": "​",
            "style": "IPY_MODEL_533f7621698b4c7e9411a1bfd5b8be53",
            "value": " 3/4 [00:01&lt;00:00,  2.99it/s]"
          }
        },
        "7ddfabecb9cd46d2a6c7598deb5234d5": {
          "model_module": "@jupyter-widgets/controls",
          "model_module_version": "1.5.0",
          "model_name": "FloatProgressModel",
          "state": {
            "_dom_classes": [],
            "_model_module": "@jupyter-widgets/controls",
            "_model_module_version": "1.5.0",
            "_model_name": "FloatProgressModel",
            "_view_count": null,
            "_view_module": "@jupyter-widgets/controls",
            "_view_module_version": "1.5.0",
            "_view_name": "ProgressView",
            "bar_style": "danger",
            "description": "",
            "description_tooltip": null,
            "layout": "IPY_MODEL_fec3252dd31f480aab0962f216178292",
            "max": 4,
            "min": 0,
            "orientation": "horizontal",
            "style": "IPY_MODEL_cb2848e7b0aa4419b98c5525b5d31362",
            "value": 3
          }
        },
        "8016cf8f32134accb02f2cff986fe3cf": {
          "model_module": "@jupyter-widgets/controls",
          "model_module_version": "1.5.0",
          "model_name": "HTMLModel",
          "state": {
            "_dom_classes": [],
            "_model_module": "@jupyter-widgets/controls",
            "_model_module_version": "1.5.0",
            "_model_name": "HTMLModel",
            "_view_count": null,
            "_view_module": "@jupyter-widgets/controls",
            "_view_module_version": "1.5.0",
            "_view_name": "HTMLView",
            "description": "",
            "description_tooltip": null,
            "layout": "IPY_MODEL_17f436c1847e40328bdd9aff2f9ab244",
            "placeholder": "​",
            "style": "IPY_MODEL_d0f335357afd4429921a3bd861bf33fc",
            "value": " 3/4 [00:02&lt;00:00,  1.30it/s]"
          }
        },
        "8108e3f3cc0f43f8a62bc0c4b4712cac": {
          "model_module": "@jupyter-widgets/base",
          "model_module_version": "1.2.0",
          "model_name": "LayoutModel",
          "state": {
            "_model_module": "@jupyter-widgets/base",
            "_model_module_version": "1.2.0",
            "_model_name": "LayoutModel",
            "_view_count": null,
            "_view_module": "@jupyter-widgets/base",
            "_view_module_version": "1.2.0",
            "_view_name": "LayoutView",
            "align_content": null,
            "align_items": null,
            "align_self": null,
            "border": null,
            "bottom": null,
            "display": null,
            "flex": null,
            "flex_flow": null,
            "grid_area": null,
            "grid_auto_columns": null,
            "grid_auto_flow": null,
            "grid_auto_rows": null,
            "grid_column": null,
            "grid_gap": null,
            "grid_row": null,
            "grid_template_areas": null,
            "grid_template_columns": null,
            "grid_template_rows": null,
            "height": null,
            "justify_content": null,
            "justify_items": null,
            "left": null,
            "margin": null,
            "max_height": null,
            "max_width": null,
            "min_height": null,
            "min_width": null,
            "object_fit": null,
            "object_position": null,
            "order": null,
            "overflow": null,
            "overflow_x": null,
            "overflow_y": null,
            "padding": null,
            "right": null,
            "top": null,
            "visibility": "hidden",
            "width": null
          }
        },
        "879e279a4d8a4523b15f6c27176fc56a": {
          "model_module": "@jupyter-widgets/base",
          "model_module_version": "1.2.0",
          "model_name": "LayoutModel",
          "state": {
            "_model_module": "@jupyter-widgets/base",
            "_model_module_version": "1.2.0",
            "_model_name": "LayoutModel",
            "_view_count": null,
            "_view_module": "@jupyter-widgets/base",
            "_view_module_version": "1.2.0",
            "_view_name": "LayoutView",
            "align_content": null,
            "align_items": null,
            "align_self": null,
            "border": null,
            "bottom": null,
            "display": null,
            "flex": null,
            "flex_flow": null,
            "grid_area": null,
            "grid_auto_columns": null,
            "grid_auto_flow": null,
            "grid_auto_rows": null,
            "grid_column": null,
            "grid_gap": null,
            "grid_row": null,
            "grid_template_areas": null,
            "grid_template_columns": null,
            "grid_template_rows": null,
            "height": null,
            "justify_content": null,
            "justify_items": null,
            "left": null,
            "margin": null,
            "max_height": null,
            "max_width": null,
            "min_height": null,
            "min_width": null,
            "object_fit": null,
            "object_position": null,
            "order": null,
            "overflow": null,
            "overflow_x": null,
            "overflow_y": null,
            "padding": null,
            "right": null,
            "top": null,
            "visibility": null,
            "width": null
          }
        },
        "91480fc090274f68986453009c7ce797": {
          "model_module": "@jupyter-widgets/controls",
          "model_module_version": "1.5.0",
          "model_name": "ProgressStyleModel",
          "state": {
            "_model_module": "@jupyter-widgets/controls",
            "_model_module_version": "1.5.0",
            "_model_name": "ProgressStyleModel",
            "_view_count": null,
            "_view_module": "@jupyter-widgets/base",
            "_view_module_version": "1.2.0",
            "_view_name": "StyleView",
            "bar_color": null,
            "description_width": ""
          }
        },
        "96540189d37944efb825d18b6a037624": {
          "model_module": "@jupyter-widgets/base",
          "model_module_version": "1.2.0",
          "model_name": "LayoutModel",
          "state": {
            "_model_module": "@jupyter-widgets/base",
            "_model_module_version": "1.2.0",
            "_model_name": "LayoutModel",
            "_view_count": null,
            "_view_module": "@jupyter-widgets/base",
            "_view_module_version": "1.2.0",
            "_view_name": "LayoutView",
            "align_content": null,
            "align_items": null,
            "align_self": null,
            "border": null,
            "bottom": null,
            "display": null,
            "flex": null,
            "flex_flow": null,
            "grid_area": null,
            "grid_auto_columns": null,
            "grid_auto_flow": null,
            "grid_auto_rows": null,
            "grid_column": null,
            "grid_gap": null,
            "grid_row": null,
            "grid_template_areas": null,
            "grid_template_columns": null,
            "grid_template_rows": null,
            "height": null,
            "justify_content": null,
            "justify_items": null,
            "left": null,
            "margin": null,
            "max_height": null,
            "max_width": null,
            "min_height": null,
            "min_width": null,
            "object_fit": null,
            "object_position": null,
            "order": null,
            "overflow": null,
            "overflow_x": null,
            "overflow_y": null,
            "padding": null,
            "right": null,
            "top": null,
            "visibility": null,
            "width": null
          }
        },
        "9721924d92c643fe9effc63b6b7ab48e": {
          "model_module": "@jupyter-widgets/output",
          "model_module_version": "1.0.0",
          "model_name": "OutputModel",
          "state": {
            "_dom_classes": [],
            "_model_module": "@jupyter-widgets/output",
            "_model_module_version": "1.0.0",
            "_model_name": "OutputModel",
            "_view_count": null,
            "_view_module": "@jupyter-widgets/output",
            "_view_module_version": "1.0.0",
            "_view_name": "OutputView",
            "layout": "IPY_MODEL_f003266c381f4fefa94bf90321ddde4f",
            "msg_id": "",
            "outputs": [
              {
                "data": {
                  "image/png": "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\n",
                  "text/plain": "<Figure size 800x500 with 1 Axes>"
                },
                "metadata": {},
                "output_type": "display_data"
              }
            ]
          }
        },
        "9ba2d68dfbf94c16a4055d59e4d5ca20": {
          "model_module": "@jupyter-widgets/controls",
          "model_module_version": "1.5.0",
          "model_name": "VBoxModel",
          "state": {
            "_dom_classes": [
              "widget-interact"
            ],
            "_model_module": "@jupyter-widgets/controls",
            "_model_module_version": "1.5.0",
            "_model_name": "VBoxModel",
            "_view_count": null,
            "_view_module": "@jupyter-widgets/controls",
            "_view_module_version": "1.5.0",
            "_view_name": "VBoxView",
            "box_style": "",
            "children": [
              "IPY_MODEL_5d9ec3d391a142a99b9027c830d7c886",
              "IPY_MODEL_9721924d92c643fe9effc63b6b7ab48e"
            ],
            "layout": "IPY_MODEL_73200bf67acf4e0e85a9589639789e46"
          }
        },
        "a3c603cbacd942ca839d1121007b773c": {
          "model_module": "@jupyter-widgets/controls",
          "model_module_version": "1.5.0",
          "model_name": "HTMLModel",
          "state": {
            "_dom_classes": [],
            "_model_module": "@jupyter-widgets/controls",
            "_model_module_version": "1.5.0",
            "_model_name": "HTMLModel",
            "_view_count": null,
            "_view_module": "@jupyter-widgets/controls",
            "_view_module_version": "1.5.0",
            "_view_name": "HTMLView",
            "description": "",
            "description_tooltip": null,
            "layout": "IPY_MODEL_5f7a3f234e9f4150ac95bbc799a1f290",
            "placeholder": "​",
            "style": "IPY_MODEL_43cf1c973ef4456f8438223fc17150b9",
            "value": "Processing: 100%"
          }
        },
        "a5f78fc8e2ff4e4888c623177838b4c2": {
          "model_module": "@jupyter-widgets/base",
          "model_module_version": "1.2.0",
          "model_name": "LayoutModel",
          "state": {
            "_model_module": "@jupyter-widgets/base",
            "_model_module_version": "1.2.0",
            "_model_name": "LayoutModel",
            "_view_count": null,
            "_view_module": "@jupyter-widgets/base",
            "_view_module_version": "1.2.0",
            "_view_name": "LayoutView",
            "align_content": null,
            "align_items": null,
            "align_self": null,
            "border": null,
            "bottom": null,
            "display": null,
            "flex": null,
            "flex_flow": null,
            "grid_area": null,
            "grid_auto_columns": null,
            "grid_auto_flow": null,
            "grid_auto_rows": null,
            "grid_column": null,
            "grid_gap": null,
            "grid_row": null,
            "grid_template_areas": null,
            "grid_template_columns": null,
            "grid_template_rows": null,
            "height": null,
            "justify_content": null,
            "justify_items": null,
            "left": null,
            "margin": null,
            "max_height": null,
            "max_width": null,
            "min_height": null,
            "min_width": null,
            "object_fit": null,
            "object_position": null,
            "order": null,
            "overflow": null,
            "overflow_x": null,
            "overflow_y": null,
            "padding": null,
            "right": null,
            "top": null,
            "visibility": null,
            "width": null
          }
        },
        "a6054364ac0a463d847d21dde3a4698b": {
          "model_module": "@jupyter-widgets/base",
          "model_module_version": "1.2.0",
          "model_name": "LayoutModel",
          "state": {
            "_model_module": "@jupyter-widgets/base",
            "_model_module_version": "1.2.0",
            "_model_name": "LayoutModel",
            "_view_count": null,
            "_view_module": "@jupyter-widgets/base",
            "_view_module_version": "1.2.0",
            "_view_name": "LayoutView",
            "align_content": null,
            "align_items": null,
            "align_self": null,
            "border": null,
            "bottom": null,
            "display": null,
            "flex": null,
            "flex_flow": null,
            "grid_area": null,
            "grid_auto_columns": null,
            "grid_auto_flow": null,
            "grid_auto_rows": null,
            "grid_column": null,
            "grid_gap": null,
            "grid_row": null,
            "grid_template_areas": null,
            "grid_template_columns": null,
            "grid_template_rows": null,
            "height": null,
            "justify_content": null,
            "justify_items": null,
            "left": null,
            "margin": null,
            "max_height": null,
            "max_width": null,
            "min_height": null,
            "min_width": null,
            "object_fit": null,
            "object_position": null,
            "order": null,
            "overflow": null,
            "overflow_x": null,
            "overflow_y": null,
            "padding": null,
            "right": null,
            "top": null,
            "visibility": null,
            "width": null
          }
        },
        "a86f6860a3d342e59454a32274f6beda": {
          "model_module": "@jupyter-widgets/controls",
          "model_module_version": "1.5.0",
          "model_name": "FloatProgressModel",
          "state": {
            "_dom_classes": [],
            "_model_module": "@jupyter-widgets/controls",
            "_model_module_version": "1.5.0",
            "_model_name": "FloatProgressModel",
            "_view_count": null,
            "_view_module": "@jupyter-widgets/controls",
            "_view_module_version": "1.5.0",
            "_view_name": "ProgressView",
            "bar_style": "",
            "description": "",
            "description_tooltip": null,
            "layout": "IPY_MODEL_6d003211c93b475c87acee5552caf5a8",
            "max": 85,
            "min": 0,
            "orientation": "horizontal",
            "style": "IPY_MODEL_52e772ba40f843bba59e215ce716fca8",
            "value": 85
          }
        },
        "ab9c8287c6784906b465b5f5c188697c": {
          "model_module": "@jupyter-widgets/controls",
          "model_module_version": "1.5.0",
          "model_name": "FloatProgressModel",
          "state": {
            "_dom_classes": [],
            "_model_module": "@jupyter-widgets/controls",
            "_model_module_version": "1.5.0",
            "_model_name": "FloatProgressModel",
            "_view_count": null,
            "_view_module": "@jupyter-widgets/controls",
            "_view_module_version": "1.5.0",
            "_view_name": "ProgressView",
            "bar_style": "danger",
            "description": "",
            "description_tooltip": null,
            "layout": "IPY_MODEL_a6054364ac0a463d847d21dde3a4698b",
            "max": 4,
            "min": 0,
            "orientation": "horizontal",
            "style": "IPY_MODEL_91480fc090274f68986453009c7ce797",
            "value": 3
          }
        },
        "b000119db3d54228859a2d99e837d4be": {
          "model_module": "@jupyter-widgets/controls",
          "model_module_version": "1.5.0",
          "model_name": "VBoxModel",
          "state": {
            "_dom_classes": [
              "widget-interact"
            ],
            "_model_module": "@jupyter-widgets/controls",
            "_model_module_version": "1.5.0",
            "_model_name": "VBoxModel",
            "_view_count": null,
            "_view_module": "@jupyter-widgets/controls",
            "_view_module_version": "1.5.0",
            "_view_name": "VBoxView",
            "box_style": "",
            "children": [
              "IPY_MODEL_b96c605a2fad4877b886d847af51b270",
              "IPY_MODEL_f4f05f9285c045fe985e8d3ae6ea2c6a"
            ],
            "layout": "IPY_MODEL_2c130ac2e51f4c929c5fc8c28ab6cd2c"
          }
        },
        "b41f683866dd47e391b778444098889c": {
          "model_module": "@jupyter-widgets/controls",
          "model_module_version": "1.5.0",
          "model_name": "VBoxModel",
          "state": {
            "_dom_classes": [
              "widget-interact"
            ],
            "_model_module": "@jupyter-widgets/controls",
            "_model_module_version": "1.5.0",
            "_model_name": "VBoxModel",
            "_view_count": null,
            "_view_module": "@jupyter-widgets/controls",
            "_view_module_version": "1.5.0",
            "_view_name": "VBoxView",
            "box_style": "",
            "children": [
              "IPY_MODEL_6c675ffd98814166a3c14003330507ce",
              "IPY_MODEL_df9a686f7b504418865e3bfbbc31f9eb"
            ],
            "layout": "IPY_MODEL_0d6b3a4077b74e44ae408ca2686a8cbe"
          }
        },
        "b8bed0a52a7543499fe2a7fb847d27d1": {
          "model_module": "@jupyter-widgets/controls",
          "model_module_version": "1.5.0",
          "model_name": "ProgressStyleModel",
          "state": {
            "_model_module": "@jupyter-widgets/controls",
            "_model_module_version": "1.5.0",
            "_model_name": "ProgressStyleModel",
            "_view_count": null,
            "_view_module": "@jupyter-widgets/base",
            "_view_module_version": "1.2.0",
            "_view_name": "StyleView",
            "bar_color": null,
            "description_width": ""
          }
        },
        "b96c605a2fad4877b886d847af51b270": {
          "model_module": "@jupyter-widgets/controls",
          "model_module_version": "1.5.0",
          "model_name": "ToggleButtonsModel",
          "state": {
            "_dom_classes": [],
            "_model_module": "@jupyter-widgets/controls",
            "_model_module_version": "1.5.0",
            "_model_name": "ToggleButtonsModel",
            "_options_labels": [
              "Pipeline Plot",
              "Hyperparameters",
              "Residuals",
              "Prediction Error",
              "Cooks Distance",
              "Feature Selection",
              "Learning Curve",
              "Manifold Learning",
              "Validation Curve",
              "Feature Importance",
              "Feature Importance (All)",
              "Decision Tree",
              "Interactive Residuals"
            ],
            "_view_count": null,
            "_view_module": "@jupyter-widgets/controls",
            "_view_module_version": "1.5.0",
            "_view_name": "ToggleButtonsView",
            "button_style": "",
            "description": "Plot Type:",
            "description_tooltip": null,
            "disabled": false,
            "icons": [
              ""
            ],
            "index": 10,
            "layout": "IPY_MODEL_96540189d37944efb825d18b6a037624",
            "style": "IPY_MODEL_5620b5360a5b460c8681c494a02e479c",
            "tooltips": []
          }
        },
        "c28c364df6b14585aae7d21027fa97cc": {
          "model_module": "@jupyter-widgets/base",
          "model_module_version": "1.2.0",
          "model_name": "LayoutModel",
          "state": {
            "_model_module": "@jupyter-widgets/base",
            "_model_module_version": "1.2.0",
            "_model_name": "LayoutModel",
            "_view_count": null,
            "_view_module": "@jupyter-widgets/base",
            "_view_module_version": "1.2.0",
            "_view_name": "LayoutView",
            "align_content": null,
            "align_items": null,
            "align_self": null,
            "border": null,
            "bottom": null,
            "display": null,
            "flex": null,
            "flex_flow": null,
            "grid_area": null,
            "grid_auto_columns": null,
            "grid_auto_flow": null,
            "grid_auto_rows": null,
            "grid_column": null,
            "grid_gap": null,
            "grid_row": null,
            "grid_template_areas": null,
            "grid_template_columns": null,
            "grid_template_rows": null,
            "height": null,
            "justify_content": null,
            "justify_items": null,
            "left": null,
            "margin": null,
            "max_height": null,
            "max_width": null,
            "min_height": null,
            "min_width": null,
            "object_fit": null,
            "object_position": null,
            "order": null,
            "overflow": null,
            "overflow_x": null,
            "overflow_y": null,
            "padding": null,
            "right": null,
            "top": null,
            "visibility": null,
            "width": null
          }
        },
        "cb2848e7b0aa4419b98c5525b5d31362": {
          "model_module": "@jupyter-widgets/controls",
          "model_module_version": "1.5.0",
          "model_name": "ProgressStyleModel",
          "state": {
            "_model_module": "@jupyter-widgets/controls",
            "_model_module_version": "1.5.0",
            "_model_name": "ProgressStyleModel",
            "_view_count": null,
            "_view_module": "@jupyter-widgets/base",
            "_view_module_version": "1.2.0",
            "_view_name": "StyleView",
            "bar_color": null,
            "description_width": ""
          }
        },
        "cd92e938b074432f83fd86e57692ebab": {
          "model_module": "@jupyter-widgets/base",
          "model_module_version": "1.2.0",
          "model_name": "LayoutModel",
          "state": {
            "_model_module": "@jupyter-widgets/base",
            "_model_module_version": "1.2.0",
            "_model_name": "LayoutModel",
            "_view_count": null,
            "_view_module": "@jupyter-widgets/base",
            "_view_module_version": "1.2.0",
            "_view_name": "LayoutView",
            "align_content": null,
            "align_items": null,
            "align_self": null,
            "border": null,
            "bottom": null,
            "display": null,
            "flex": null,
            "flex_flow": null,
            "grid_area": null,
            "grid_auto_columns": null,
            "grid_auto_flow": null,
            "grid_auto_rows": null,
            "grid_column": null,
            "grid_gap": null,
            "grid_row": null,
            "grid_template_areas": null,
            "grid_template_columns": null,
            "grid_template_rows": null,
            "height": null,
            "justify_content": null,
            "justify_items": null,
            "left": null,
            "margin": null,
            "max_height": null,
            "max_width": null,
            "min_height": null,
            "min_width": null,
            "object_fit": null,
            "object_position": null,
            "order": null,
            "overflow": null,
            "overflow_x": null,
            "overflow_y": null,
            "padding": null,
            "right": null,
            "top": null,
            "visibility": null,
            "width": null
          }
        },
        "ceb66f281f7941f986d22cf40c500ab2": {
          "model_module": "@jupyter-widgets/controls",
          "model_module_version": "1.5.0",
          "model_name": "HBoxModel",
          "state": {
            "_dom_classes": [],
            "_model_module": "@jupyter-widgets/controls",
            "_model_module_version": "1.5.0",
            "_model_name": "HBoxModel",
            "_view_count": null,
            "_view_module": "@jupyter-widgets/controls",
            "_view_module_version": "1.5.0",
            "_view_name": "HBoxView",
            "box_style": "",
            "children": [
              "IPY_MODEL_a3c603cbacd942ca839d1121007b773c",
              "IPY_MODEL_3a1a98dbf80549f0a9f0a57df97715b2",
              "IPY_MODEL_7433892b125246479ae58a6ba0dfc8e7"
            ],
            "layout": "IPY_MODEL_8108e3f3cc0f43f8a62bc0c4b4712cac"
          }
        },
        "d054dbeb5f8c46c795db98d4723bb54f": {
          "model_module": "@jupyter-widgets/controls",
          "model_module_version": "1.5.0",
          "model_name": "DescriptionStyleModel",
          "state": {
            "_model_module": "@jupyter-widgets/controls",
            "_model_module_version": "1.5.0",
            "_model_name": "DescriptionStyleModel",
            "_view_count": null,
            "_view_module": "@jupyter-widgets/base",
            "_view_module_version": "1.2.0",
            "_view_name": "StyleView",
            "description_width": ""
          }
        },
        "d0f335357afd4429921a3bd861bf33fc": {
          "model_module": "@jupyter-widgets/controls",
          "model_module_version": "1.5.0",
          "model_name": "DescriptionStyleModel",
          "state": {
            "_model_module": "@jupyter-widgets/controls",
            "_model_module_version": "1.5.0",
            "_model_name": "DescriptionStyleModel",
            "_view_count": null,
            "_view_module": "@jupyter-widgets/base",
            "_view_module_version": "1.2.0",
            "_view_name": "StyleView",
            "description_width": ""
          }
        },
        "d5b5e45166cf4eb5a736af3f0d37b24b": {
          "model_module": "@jupyter-widgets/base",
          "model_module_version": "1.2.0",
          "model_name": "LayoutModel",
          "state": {
            "_model_module": "@jupyter-widgets/base",
            "_model_module_version": "1.2.0",
            "_model_name": "LayoutModel",
            "_view_count": null,
            "_view_module": "@jupyter-widgets/base",
            "_view_module_version": "1.2.0",
            "_view_name": "LayoutView",
            "align_content": null,
            "align_items": null,
            "align_self": null,
            "border": null,
            "bottom": null,
            "display": null,
            "flex": null,
            "flex_flow": null,
            "grid_area": null,
            "grid_auto_columns": null,
            "grid_auto_flow": null,
            "grid_auto_rows": null,
            "grid_column": null,
            "grid_gap": null,
            "grid_row": null,
            "grid_template_areas": null,
            "grid_template_columns": null,
            "grid_template_rows": null,
            "height": null,
            "justify_content": null,
            "justify_items": null,
            "left": null,
            "margin": null,
            "max_height": null,
            "max_width": null,
            "min_height": null,
            "min_width": null,
            "object_fit": null,
            "object_position": null,
            "order": null,
            "overflow": null,
            "overflow_x": null,
            "overflow_y": null,
            "padding": null,
            "right": null,
            "top": null,
            "visibility": null,
            "width": null
          }
        },
        "df9a686f7b504418865e3bfbbc31f9eb": {
          "model_module": "@jupyter-widgets/output",
          "model_module_version": "1.0.0",
          "model_name": "OutputModel",
          "state": {
            "_dom_classes": [],
            "_model_module": "@jupyter-widgets/output",
            "_model_module_version": "1.0.0",
            "_model_name": "OutputModel",
            "_view_count": null,
            "_view_module": "@jupyter-widgets/output",
            "_view_module_version": "1.0.0",
            "_view_name": "OutputView",
            "layout": "IPY_MODEL_a5f78fc8e2ff4e4888c623177838b4c2",
            "msg_id": "",
            "outputs": [
              {
                "data": {
                  "image/png": "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\n",
                  "text/plain": "<Figure size 800x500 with 1 Axes>"
                },
                "metadata": {},
                "output_type": "display_data"
              }
            ]
          }
        },
        "e0543bbf829c43d5848f34023c7f1016": {
          "model_module": "@jupyter-widgets/controls",
          "model_module_version": "1.5.0",
          "model_name": "HTMLModel",
          "state": {
            "_dom_classes": [],
            "_model_module": "@jupyter-widgets/controls",
            "_model_module_version": "1.5.0",
            "_model_name": "HTMLModel",
            "_view_count": null,
            "_view_module": "@jupyter-widgets/controls",
            "_view_module_version": "1.5.0",
            "_view_name": "HTMLView",
            "description": "",
            "description_tooltip": null,
            "layout": "IPY_MODEL_55b8dcccf9e9464499dc75ba3ad1a342",
            "placeholder": "​",
            "style": "IPY_MODEL_3828e75f20fe428ca7057fe76ec65a40",
            "value": "Processing:  75%"
          }
        },
        "e7f37f3627a7477d82dd19abdca56bcc": {
          "model_module": "@jupyter-widgets/controls",
          "model_module_version": "1.5.0",
          "model_name": "HBoxModel",
          "state": {
            "_dom_classes": [],
            "_model_module": "@jupyter-widgets/controls",
            "_model_module_version": "1.5.0",
            "_model_name": "HBoxModel",
            "_view_count": null,
            "_view_module": "@jupyter-widgets/controls",
            "_view_module_version": "1.5.0",
            "_view_name": "HBoxView",
            "box_style": "",
            "children": [
              "IPY_MODEL_e0543bbf829c43d5848f34023c7f1016",
              "IPY_MODEL_7ddfabecb9cd46d2a6c7598deb5234d5",
              "IPY_MODEL_8016cf8f32134accb02f2cff986fe3cf"
            ],
            "layout": "IPY_MODEL_4040656650d341bdbe3210424d42a42e"
          }
        },
        "f003266c381f4fefa94bf90321ddde4f": {
          "model_module": "@jupyter-widgets/base",
          "model_module_version": "1.2.0",
          "model_name": "LayoutModel",
          "state": {
            "_model_module": "@jupyter-widgets/base",
            "_model_module_version": "1.2.0",
            "_model_name": "LayoutModel",
            "_view_count": null,
            "_view_module": "@jupyter-widgets/base",
            "_view_module_version": "1.2.0",
            "_view_name": "LayoutView",
            "align_content": null,
            "align_items": null,
            "align_self": null,
            "border": null,
            "bottom": null,
            "display": null,
            "flex": null,
            "flex_flow": null,
            "grid_area": null,
            "grid_auto_columns": null,
            "grid_auto_flow": null,
            "grid_auto_rows": null,
            "grid_column": null,
            "grid_gap": null,
            "grid_row": null,
            "grid_template_areas": null,
            "grid_template_columns": null,
            "grid_template_rows": null,
            "height": null,
            "justify_content": null,
            "justify_items": null,
            "left": null,
            "margin": null,
            "max_height": null,
            "max_width": null,
            "min_height": null,
            "min_width": null,
            "object_fit": null,
            "object_position": null,
            "order": null,
            "overflow": null,
            "overflow_x": null,
            "overflow_y": null,
            "padding": null,
            "right": null,
            "top": null,
            "visibility": null,
            "width": null
          }
        },
        "f43c493fe93542ee9d64e5387a2fae1e": {
          "model_module": "@jupyter-widgets/controls",
          "model_module_version": "1.5.0",
          "model_name": "HTMLModel",
          "state": {
            "_dom_classes": [],
            "_model_module": "@jupyter-widgets/controls",
            "_model_module_version": "1.5.0",
            "_model_name": "HTMLModel",
            "_view_count": null,
            "_view_module": "@jupyter-widgets/controls",
            "_view_module_version": "1.5.0",
            "_view_name": "HTMLView",
            "description": "",
            "description_tooltip": null,
            "layout": "IPY_MODEL_602d93bf72a84959a46b5d5ead47a75c",
            "placeholder": "​",
            "style": "IPY_MODEL_0a996b775d9a4537809a77ba141305aa",
            "value": " 3/4 [00:01&lt;00:00,  2.36it/s]"
          }
        },
        "f4f05f9285c045fe985e8d3ae6ea2c6a": {
          "model_module": "@jupyter-widgets/output",
          "model_module_version": "1.0.0",
          "model_name": "OutputModel",
          "state": {
            "_dom_classes": [],
            "_model_module": "@jupyter-widgets/output",
            "_model_module_version": "1.0.0",
            "_model_name": "OutputModel",
            "_view_count": null,
            "_view_module": "@jupyter-widgets/output",
            "_view_module_version": "1.0.0",
            "_view_name": "OutputView",
            "layout": "IPY_MODEL_879e279a4d8a4523b15f6c27176fc56a",
            "msg_id": "",
            "outputs": [
              {
                "data": {
                  "image/png": "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\n",
                  "text/plain": "<Figure size 800x500 with 1 Axes>"
                },
                "metadata": {},
                "output_type": "display_data"
              }
            ]
          }
        },
        "fec3252dd31f480aab0962f216178292": {
          "model_module": "@jupyter-widgets/base",
          "model_module_version": "1.2.0",
          "model_name": "LayoutModel",
          "state": {
            "_model_module": "@jupyter-widgets/base",
            "_model_module_version": "1.2.0",
            "_model_name": "LayoutModel",
            "_view_count": null,
            "_view_module": "@jupyter-widgets/base",
            "_view_module_version": "1.2.0",
            "_view_name": "LayoutView",
            "align_content": null,
            "align_items": null,
            "align_self": null,
            "border": null,
            "bottom": null,
            "display": null,
            "flex": null,
            "flex_flow": null,
            "grid_area": null,
            "grid_auto_columns": null,
            "grid_auto_flow": null,
            "grid_auto_rows": null,
            "grid_column": null,
            "grid_gap": null,
            "grid_row": null,
            "grid_template_areas": null,
            "grid_template_columns": null,
            "grid_template_rows": null,
            "height": null,
            "justify_content": null,
            "justify_items": null,
            "left": null,
            "margin": null,
            "max_height": null,
            "max_width": null,
            "min_height": null,
            "min_width": null,
            "object_fit": null,
            "object_position": null,
            "order": null,
            "overflow": null,
            "overflow_x": null,
            "overflow_y": null,
            "padding": null,
            "right": null,
            "top": null,
            "visibility": null,
            "width": null
          }
        }
      }
    }
  },
  "nbformat": 4,
  "nbformat_minor": 5
}
