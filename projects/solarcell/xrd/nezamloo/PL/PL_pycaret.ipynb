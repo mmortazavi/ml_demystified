{
  "nbformat": 4,
  "nbformat_minor": 0,
  "metadata": {
    "colab": {
      "provenance": []
    },
    "kernelspec": {
      "name": "python3",
      "display_name": "Python 3"
    },
    "language_info": {
      "name": "python"
    },
    "widgets": {
      "application/vnd.jupyter.widget-state+json": {
        "21786952dfa3414f8891efd65e92118a": {
          "model_module": "@jupyter-widgets/controls",
          "model_name": "HBoxModel",
          "model_module_version": "1.5.0",
          "state": {
            "_dom_classes": [],
            "_model_module": "@jupyter-widgets/controls",
            "_model_module_version": "1.5.0",
            "_model_name": "HBoxModel",
            "_view_count": null,
            "_view_module": "@jupyter-widgets/controls",
            "_view_module_version": "1.5.0",
            "_view_name": "HBoxView",
            "box_style": "",
            "children": [
              "IPY_MODEL_f46e31af0dbe4abcaaed03e020c1ac6f",
              "IPY_MODEL_fa0b80a961aa462bbfa02159e6340dfe",
              "IPY_MODEL_c915f98ef1a242d88caf8f3b55af0f71"
            ],
            "layout": "IPY_MODEL_18cf9dd3f62b4360af29d431702f4a7c"
          }
        },
        "f46e31af0dbe4abcaaed03e020c1ac6f": {
          "model_module": "@jupyter-widgets/controls",
          "model_name": "HTMLModel",
          "model_module_version": "1.5.0",
          "state": {
            "_dom_classes": [],
            "_model_module": "@jupyter-widgets/controls",
            "_model_module_version": "1.5.0",
            "_model_name": "HTMLModel",
            "_view_count": null,
            "_view_module": "@jupyter-widgets/controls",
            "_view_module_version": "1.5.0",
            "_view_name": "HTMLView",
            "description": "",
            "description_tooltip": null,
            "layout": "IPY_MODEL_71798cf3ca0b468998a785476d769eaf",
            "placeholder": "​",
            "style": "IPY_MODEL_326a57d734d042578c7f76a0ed69c069",
            "value": "Processing: 100%"
          }
        },
        "fa0b80a961aa462bbfa02159e6340dfe": {
          "model_module": "@jupyter-widgets/controls",
          "model_name": "FloatProgressModel",
          "model_module_version": "1.5.0",
          "state": {
            "_dom_classes": [],
            "_model_module": "@jupyter-widgets/controls",
            "_model_module_version": "1.5.0",
            "_model_name": "FloatProgressModel",
            "_view_count": null,
            "_view_module": "@jupyter-widgets/controls",
            "_view_module_version": "1.5.0",
            "_view_name": "ProgressView",
            "bar_style": "",
            "description": "",
            "description_tooltip": null,
            "layout": "IPY_MODEL_41f41a5f24b74624b71cb3950d253d88",
            "max": 85,
            "min": 0,
            "orientation": "horizontal",
            "style": "IPY_MODEL_535697e1fd58415ca9db50149f424557",
            "value": 85
          }
        },
        "c915f98ef1a242d88caf8f3b55af0f71": {
          "model_module": "@jupyter-widgets/controls",
          "model_name": "HTMLModel",
          "model_module_version": "1.5.0",
          "state": {
            "_dom_classes": [],
            "_model_module": "@jupyter-widgets/controls",
            "_model_module_version": "1.5.0",
            "_model_name": "HTMLModel",
            "_view_count": null,
            "_view_module": "@jupyter-widgets/controls",
            "_view_module_version": "1.5.0",
            "_view_name": "HTMLView",
            "description": "",
            "description_tooltip": null,
            "layout": "IPY_MODEL_178817034cc14760af189dccb478f0c6",
            "placeholder": "​",
            "style": "IPY_MODEL_286e63abf77d40d280ad2d144f428d58",
            "value": " 85/85 [00:11&lt;00:00,  7.50it/s]"
          }
        },
        "18cf9dd3f62b4360af29d431702f4a7c": {
          "model_module": "@jupyter-widgets/base",
          "model_name": "LayoutModel",
          "model_module_version": "1.2.0",
          "state": {
            "_model_module": "@jupyter-widgets/base",
            "_model_module_version": "1.2.0",
            "_model_name": "LayoutModel",
            "_view_count": null,
            "_view_module": "@jupyter-widgets/base",
            "_view_module_version": "1.2.0",
            "_view_name": "LayoutView",
            "align_content": null,
            "align_items": null,
            "align_self": null,
            "border": null,
            "bottom": null,
            "display": null,
            "flex": null,
            "flex_flow": null,
            "grid_area": null,
            "grid_auto_columns": null,
            "grid_auto_flow": null,
            "grid_auto_rows": null,
            "grid_column": null,
            "grid_gap": null,
            "grid_row": null,
            "grid_template_areas": null,
            "grid_template_columns": null,
            "grid_template_rows": null,
            "height": null,
            "justify_content": null,
            "justify_items": null,
            "left": null,
            "margin": null,
            "max_height": null,
            "max_width": null,
            "min_height": null,
            "min_width": null,
            "object_fit": null,
            "object_position": null,
            "order": null,
            "overflow": null,
            "overflow_x": null,
            "overflow_y": null,
            "padding": null,
            "right": null,
            "top": null,
            "visibility": "hidden",
            "width": null
          }
        },
        "71798cf3ca0b468998a785476d769eaf": {
          "model_module": "@jupyter-widgets/base",
          "model_name": "LayoutModel",
          "model_module_version": "1.2.0",
          "state": {
            "_model_module": "@jupyter-widgets/base",
            "_model_module_version": "1.2.0",
            "_model_name": "LayoutModel",
            "_view_count": null,
            "_view_module": "@jupyter-widgets/base",
            "_view_module_version": "1.2.0",
            "_view_name": "LayoutView",
            "align_content": null,
            "align_items": null,
            "align_self": null,
            "border": null,
            "bottom": null,
            "display": null,
            "flex": null,
            "flex_flow": null,
            "grid_area": null,
            "grid_auto_columns": null,
            "grid_auto_flow": null,
            "grid_auto_rows": null,
            "grid_column": null,
            "grid_gap": null,
            "grid_row": null,
            "grid_template_areas": null,
            "grid_template_columns": null,
            "grid_template_rows": null,
            "height": null,
            "justify_content": null,
            "justify_items": null,
            "left": null,
            "margin": null,
            "max_height": null,
            "max_width": null,
            "min_height": null,
            "min_width": null,
            "object_fit": null,
            "object_position": null,
            "order": null,
            "overflow": null,
            "overflow_x": null,
            "overflow_y": null,
            "padding": null,
            "right": null,
            "top": null,
            "visibility": null,
            "width": null
          }
        },
        "326a57d734d042578c7f76a0ed69c069": {
          "model_module": "@jupyter-widgets/controls",
          "model_name": "DescriptionStyleModel",
          "model_module_version": "1.5.0",
          "state": {
            "_model_module": "@jupyter-widgets/controls",
            "_model_module_version": "1.5.0",
            "_model_name": "DescriptionStyleModel",
            "_view_count": null,
            "_view_module": "@jupyter-widgets/base",
            "_view_module_version": "1.2.0",
            "_view_name": "StyleView",
            "description_width": ""
          }
        },
        "41f41a5f24b74624b71cb3950d253d88": {
          "model_module": "@jupyter-widgets/base",
          "model_name": "LayoutModel",
          "model_module_version": "1.2.0",
          "state": {
            "_model_module": "@jupyter-widgets/base",
            "_model_module_version": "1.2.0",
            "_model_name": "LayoutModel",
            "_view_count": null,
            "_view_module": "@jupyter-widgets/base",
            "_view_module_version": "1.2.0",
            "_view_name": "LayoutView",
            "align_content": null,
            "align_items": null,
            "align_self": null,
            "border": null,
            "bottom": null,
            "display": null,
            "flex": null,
            "flex_flow": null,
            "grid_area": null,
            "grid_auto_columns": null,
            "grid_auto_flow": null,
            "grid_auto_rows": null,
            "grid_column": null,
            "grid_gap": null,
            "grid_row": null,
            "grid_template_areas": null,
            "grid_template_columns": null,
            "grid_template_rows": null,
            "height": null,
            "justify_content": null,
            "justify_items": null,
            "left": null,
            "margin": null,
            "max_height": null,
            "max_width": null,
            "min_height": null,
            "min_width": null,
            "object_fit": null,
            "object_position": null,
            "order": null,
            "overflow": null,
            "overflow_x": null,
            "overflow_y": null,
            "padding": null,
            "right": null,
            "top": null,
            "visibility": null,
            "width": null
          }
        },
        "535697e1fd58415ca9db50149f424557": {
          "model_module": "@jupyter-widgets/controls",
          "model_name": "ProgressStyleModel",
          "model_module_version": "1.5.0",
          "state": {
            "_model_module": "@jupyter-widgets/controls",
            "_model_module_version": "1.5.0",
            "_model_name": "ProgressStyleModel",
            "_view_count": null,
            "_view_module": "@jupyter-widgets/base",
            "_view_module_version": "1.2.0",
            "_view_name": "StyleView",
            "bar_color": null,
            "description_width": ""
          }
        },
        "178817034cc14760af189dccb478f0c6": {
          "model_module": "@jupyter-widgets/base",
          "model_name": "LayoutModel",
          "model_module_version": "1.2.0",
          "state": {
            "_model_module": "@jupyter-widgets/base",
            "_model_module_version": "1.2.0",
            "_model_name": "LayoutModel",
            "_view_count": null,
            "_view_module": "@jupyter-widgets/base",
            "_view_module_version": "1.2.0",
            "_view_name": "LayoutView",
            "align_content": null,
            "align_items": null,
            "align_self": null,
            "border": null,
            "bottom": null,
            "display": null,
            "flex": null,
            "flex_flow": null,
            "grid_area": null,
            "grid_auto_columns": null,
            "grid_auto_flow": null,
            "grid_auto_rows": null,
            "grid_column": null,
            "grid_gap": null,
            "grid_row": null,
            "grid_template_areas": null,
            "grid_template_columns": null,
            "grid_template_rows": null,
            "height": null,
            "justify_content": null,
            "justify_items": null,
            "left": null,
            "margin": null,
            "max_height": null,
            "max_width": null,
            "min_height": null,
            "min_width": null,
            "object_fit": null,
            "object_position": null,
            "order": null,
            "overflow": null,
            "overflow_x": null,
            "overflow_y": null,
            "padding": null,
            "right": null,
            "top": null,
            "visibility": null,
            "width": null
          }
        },
        "286e63abf77d40d280ad2d144f428d58": {
          "model_module": "@jupyter-widgets/controls",
          "model_name": "DescriptionStyleModel",
          "model_module_version": "1.5.0",
          "state": {
            "_model_module": "@jupyter-widgets/controls",
            "_model_module_version": "1.5.0",
            "_model_name": "DescriptionStyleModel",
            "_view_count": null,
            "_view_module": "@jupyter-widgets/base",
            "_view_module_version": "1.2.0",
            "_view_name": "StyleView",
            "description_width": ""
          }
        },
        "76ef4fbf51fc493ea037835a88cf02eb": {
          "model_module": "@jupyter-widgets/controls",
          "model_name": "HBoxModel",
          "model_module_version": "1.5.0",
          "state": {
            "_dom_classes": [],
            "_model_module": "@jupyter-widgets/controls",
            "_model_module_version": "1.5.0",
            "_model_name": "HBoxModel",
            "_view_count": null,
            "_view_module": "@jupyter-widgets/controls",
            "_view_module_version": "1.5.0",
            "_view_name": "HBoxView",
            "box_style": "",
            "children": [
              "IPY_MODEL_40ae8c0e544a496183c1152500ffc478",
              "IPY_MODEL_2b50ffb57dc9439390ebbd9f8c5884bb",
              "IPY_MODEL_d7120da756084d5cb41d05d215f0285b"
            ],
            "layout": "IPY_MODEL_7db9c764e7104f2eb445d4ecff357e82"
          }
        },
        "40ae8c0e544a496183c1152500ffc478": {
          "model_module": "@jupyter-widgets/controls",
          "model_name": "HTMLModel",
          "model_module_version": "1.5.0",
          "state": {
            "_dom_classes": [],
            "_model_module": "@jupyter-widgets/controls",
            "_model_module_version": "1.5.0",
            "_model_name": "HTMLModel",
            "_view_count": null,
            "_view_module": "@jupyter-widgets/controls",
            "_view_module_version": "1.5.0",
            "_view_name": "HTMLView",
            "description": "",
            "description_tooltip": null,
            "layout": "IPY_MODEL_db39160e81a4405fa92b8a06ab6e620f",
            "placeholder": "​",
            "style": "IPY_MODEL_1ae291264c6e4eb5af0e25f67662abdf",
            "value": "Processing:  75%"
          }
        },
        "2b50ffb57dc9439390ebbd9f8c5884bb": {
          "model_module": "@jupyter-widgets/controls",
          "model_name": "FloatProgressModel",
          "model_module_version": "1.5.0",
          "state": {
            "_dom_classes": [],
            "_model_module": "@jupyter-widgets/controls",
            "_model_module_version": "1.5.0",
            "_model_name": "FloatProgressModel",
            "_view_count": null,
            "_view_module": "@jupyter-widgets/controls",
            "_view_module_version": "1.5.0",
            "_view_name": "ProgressView",
            "bar_style": "danger",
            "description": "",
            "description_tooltip": null,
            "layout": "IPY_MODEL_3d3863104f42407cac39182a19ef6ccd",
            "max": 4,
            "min": 0,
            "orientation": "horizontal",
            "style": "IPY_MODEL_70b676d08321493e843d47e773b398c5",
            "value": 3
          }
        },
        "d7120da756084d5cb41d05d215f0285b": {
          "model_module": "@jupyter-widgets/controls",
          "model_name": "HTMLModel",
          "model_module_version": "1.5.0",
          "state": {
            "_dom_classes": [],
            "_model_module": "@jupyter-widgets/controls",
            "_model_module_version": "1.5.0",
            "_model_name": "HTMLModel",
            "_view_count": null,
            "_view_module": "@jupyter-widgets/controls",
            "_view_module_version": "1.5.0",
            "_view_name": "HTMLView",
            "description": "",
            "description_tooltip": null,
            "layout": "IPY_MODEL_242a75a609a74f4fa5294480a3914924",
            "placeholder": "​",
            "style": "IPY_MODEL_5dee681090ef4c8491bb7f077490ac31",
            "value": " 3/4 [00:00&lt;00:00,  6.55it/s]"
          }
        },
        "7db9c764e7104f2eb445d4ecff357e82": {
          "model_module": "@jupyter-widgets/base",
          "model_name": "LayoutModel",
          "model_module_version": "1.2.0",
          "state": {
            "_model_module": "@jupyter-widgets/base",
            "_model_module_version": "1.2.0",
            "_model_name": "LayoutModel",
            "_view_count": null,
            "_view_module": "@jupyter-widgets/base",
            "_view_module_version": "1.2.0",
            "_view_name": "LayoutView",
            "align_content": null,
            "align_items": null,
            "align_self": null,
            "border": null,
            "bottom": null,
            "display": null,
            "flex": null,
            "flex_flow": null,
            "grid_area": null,
            "grid_auto_columns": null,
            "grid_auto_flow": null,
            "grid_auto_rows": null,
            "grid_column": null,
            "grid_gap": null,
            "grid_row": null,
            "grid_template_areas": null,
            "grid_template_columns": null,
            "grid_template_rows": null,
            "height": null,
            "justify_content": null,
            "justify_items": null,
            "left": null,
            "margin": null,
            "max_height": null,
            "max_width": null,
            "min_height": null,
            "min_width": null,
            "object_fit": null,
            "object_position": null,
            "order": null,
            "overflow": null,
            "overflow_x": null,
            "overflow_y": null,
            "padding": null,
            "right": null,
            "top": null,
            "visibility": null,
            "width": null
          }
        },
        "db39160e81a4405fa92b8a06ab6e620f": {
          "model_module": "@jupyter-widgets/base",
          "model_name": "LayoutModel",
          "model_module_version": "1.2.0",
          "state": {
            "_model_module": "@jupyter-widgets/base",
            "_model_module_version": "1.2.0",
            "_model_name": "LayoutModel",
            "_view_count": null,
            "_view_module": "@jupyter-widgets/base",
            "_view_module_version": "1.2.0",
            "_view_name": "LayoutView",
            "align_content": null,
            "align_items": null,
            "align_self": null,
            "border": null,
            "bottom": null,
            "display": null,
            "flex": null,
            "flex_flow": null,
            "grid_area": null,
            "grid_auto_columns": null,
            "grid_auto_flow": null,
            "grid_auto_rows": null,
            "grid_column": null,
            "grid_gap": null,
            "grid_row": null,
            "grid_template_areas": null,
            "grid_template_columns": null,
            "grid_template_rows": null,
            "height": null,
            "justify_content": null,
            "justify_items": null,
            "left": null,
            "margin": null,
            "max_height": null,
            "max_width": null,
            "min_height": null,
            "min_width": null,
            "object_fit": null,
            "object_position": null,
            "order": null,
            "overflow": null,
            "overflow_x": null,
            "overflow_y": null,
            "padding": null,
            "right": null,
            "top": null,
            "visibility": null,
            "width": null
          }
        },
        "1ae291264c6e4eb5af0e25f67662abdf": {
          "model_module": "@jupyter-widgets/controls",
          "model_name": "DescriptionStyleModel",
          "model_module_version": "1.5.0",
          "state": {
            "_model_module": "@jupyter-widgets/controls",
            "_model_module_version": "1.5.0",
            "_model_name": "DescriptionStyleModel",
            "_view_count": null,
            "_view_module": "@jupyter-widgets/base",
            "_view_module_version": "1.2.0",
            "_view_name": "StyleView",
            "description_width": ""
          }
        },
        "3d3863104f42407cac39182a19ef6ccd": {
          "model_module": "@jupyter-widgets/base",
          "model_name": "LayoutModel",
          "model_module_version": "1.2.0",
          "state": {
            "_model_module": "@jupyter-widgets/base",
            "_model_module_version": "1.2.0",
            "_model_name": "LayoutModel",
            "_view_count": null,
            "_view_module": "@jupyter-widgets/base",
            "_view_module_version": "1.2.0",
            "_view_name": "LayoutView",
            "align_content": null,
            "align_items": null,
            "align_self": null,
            "border": null,
            "bottom": null,
            "display": null,
            "flex": null,
            "flex_flow": null,
            "grid_area": null,
            "grid_auto_columns": null,
            "grid_auto_flow": null,
            "grid_auto_rows": null,
            "grid_column": null,
            "grid_gap": null,
            "grid_row": null,
            "grid_template_areas": null,
            "grid_template_columns": null,
            "grid_template_rows": null,
            "height": null,
            "justify_content": null,
            "justify_items": null,
            "left": null,
            "margin": null,
            "max_height": null,
            "max_width": null,
            "min_height": null,
            "min_width": null,
            "object_fit": null,
            "object_position": null,
            "order": null,
            "overflow": null,
            "overflow_x": null,
            "overflow_y": null,
            "padding": null,
            "right": null,
            "top": null,
            "visibility": null,
            "width": null
          }
        },
        "70b676d08321493e843d47e773b398c5": {
          "model_module": "@jupyter-widgets/controls",
          "model_name": "ProgressStyleModel",
          "model_module_version": "1.5.0",
          "state": {
            "_model_module": "@jupyter-widgets/controls",
            "_model_module_version": "1.5.0",
            "_model_name": "ProgressStyleModel",
            "_view_count": null,
            "_view_module": "@jupyter-widgets/base",
            "_view_module_version": "1.2.0",
            "_view_name": "StyleView",
            "bar_color": null,
            "description_width": ""
          }
        },
        "242a75a609a74f4fa5294480a3914924": {
          "model_module": "@jupyter-widgets/base",
          "model_name": "LayoutModel",
          "model_module_version": "1.2.0",
          "state": {
            "_model_module": "@jupyter-widgets/base",
            "_model_module_version": "1.2.0",
            "_model_name": "LayoutModel",
            "_view_count": null,
            "_view_module": "@jupyter-widgets/base",
            "_view_module_version": "1.2.0",
            "_view_name": "LayoutView",
            "align_content": null,
            "align_items": null,
            "align_self": null,
            "border": null,
            "bottom": null,
            "display": null,
            "flex": null,
            "flex_flow": null,
            "grid_area": null,
            "grid_auto_columns": null,
            "grid_auto_flow": null,
            "grid_auto_rows": null,
            "grid_column": null,
            "grid_gap": null,
            "grid_row": null,
            "grid_template_areas": null,
            "grid_template_columns": null,
            "grid_template_rows": null,
            "height": null,
            "justify_content": null,
            "justify_items": null,
            "left": null,
            "margin": null,
            "max_height": null,
            "max_width": null,
            "min_height": null,
            "min_width": null,
            "object_fit": null,
            "object_position": null,
            "order": null,
            "overflow": null,
            "overflow_x": null,
            "overflow_y": null,
            "padding": null,
            "right": null,
            "top": null,
            "visibility": null,
            "width": null
          }
        },
        "5dee681090ef4c8491bb7f077490ac31": {
          "model_module": "@jupyter-widgets/controls",
          "model_name": "DescriptionStyleModel",
          "model_module_version": "1.5.0",
          "state": {
            "_model_module": "@jupyter-widgets/controls",
            "_model_module_version": "1.5.0",
            "_model_name": "DescriptionStyleModel",
            "_view_count": null,
            "_view_module": "@jupyter-widgets/base",
            "_view_module_version": "1.2.0",
            "_view_name": "StyleView",
            "description_width": ""
          }
        },
        "91aba554937e4dc9a852527498484d5c": {
          "model_module": "@jupyter-widgets/base",
          "model_name": "LayoutModel",
          "model_module_version": "1.2.0",
          "state": {
            "_model_module": "@jupyter-widgets/base",
            "_model_module_version": "1.2.0",
            "_model_name": "LayoutModel",
            "_view_count": null,
            "_view_module": "@jupyter-widgets/base",
            "_view_module_version": "1.2.0",
            "_view_name": "LayoutView",
            "align_content": null,
            "align_items": null,
            "align_self": null,
            "border": null,
            "bottom": null,
            "display": null,
            "flex": null,
            "flex_flow": null,
            "grid_area": null,
            "grid_auto_columns": null,
            "grid_auto_flow": null,
            "grid_auto_rows": null,
            "grid_column": null,
            "grid_gap": null,
            "grid_row": null,
            "grid_template_areas": null,
            "grid_template_columns": null,
            "grid_template_rows": null,
            "height": null,
            "justify_content": null,
            "justify_items": null,
            "left": null,
            "margin": null,
            "max_height": null,
            "max_width": null,
            "min_height": null,
            "min_width": null,
            "object_fit": null,
            "object_position": null,
            "order": null,
            "overflow": null,
            "overflow_x": null,
            "overflow_y": null,
            "padding": null,
            "right": null,
            "top": null,
            "visibility": null,
            "width": null
          }
        },
        "884807ea147e406c8150f97a736f33bb": {
          "model_module": "@jupyter-widgets/controls",
          "model_name": "ToggleButtonsStyleModel",
          "model_module_version": "1.5.0",
          "state": {
            "_model_module": "@jupyter-widgets/controls",
            "_model_module_version": "1.5.0",
            "_model_name": "ToggleButtonsStyleModel",
            "_view_count": null,
            "_view_module": "@jupyter-widgets/base",
            "_view_module_version": "1.2.0",
            "_view_name": "StyleView",
            "button_width": "",
            "description_width": "",
            "font_weight": ""
          }
        },
        "a25338810c0644a3a5eb9348ff627cee": {
          "model_module": "@jupyter-widgets/base",
          "model_name": "LayoutModel",
          "model_module_version": "1.2.0",
          "state": {
            "_model_module": "@jupyter-widgets/base",
            "_model_module_version": "1.2.0",
            "_model_name": "LayoutModel",
            "_view_count": null,
            "_view_module": "@jupyter-widgets/base",
            "_view_module_version": "1.2.0",
            "_view_name": "LayoutView",
            "align_content": null,
            "align_items": null,
            "align_self": null,
            "border": null,
            "bottom": null,
            "display": null,
            "flex": null,
            "flex_flow": null,
            "grid_area": null,
            "grid_auto_columns": null,
            "grid_auto_flow": null,
            "grid_auto_rows": null,
            "grid_column": null,
            "grid_gap": null,
            "grid_row": null,
            "grid_template_areas": null,
            "grid_template_columns": null,
            "grid_template_rows": null,
            "height": null,
            "justify_content": null,
            "justify_items": null,
            "left": null,
            "margin": null,
            "max_height": null,
            "max_width": null,
            "min_height": null,
            "min_width": null,
            "object_fit": null,
            "object_position": null,
            "order": null,
            "overflow": null,
            "overflow_x": null,
            "overflow_y": null,
            "padding": null,
            "right": null,
            "top": null,
            "visibility": null,
            "width": null
          }
        },
        "004a4f9e457049929d19f5e057eb5938": {
          "model_module": "@jupyter-widgets/base",
          "model_name": "LayoutModel",
          "model_module_version": "1.2.0",
          "state": {
            "_model_module": "@jupyter-widgets/base",
            "_model_module_version": "1.2.0",
            "_model_name": "LayoutModel",
            "_view_count": null,
            "_view_module": "@jupyter-widgets/base",
            "_view_module_version": "1.2.0",
            "_view_name": "LayoutView",
            "align_content": null,
            "align_items": null,
            "align_self": null,
            "border": null,
            "bottom": null,
            "display": null,
            "flex": null,
            "flex_flow": null,
            "grid_area": null,
            "grid_auto_columns": null,
            "grid_auto_flow": null,
            "grid_auto_rows": null,
            "grid_column": null,
            "grid_gap": null,
            "grid_row": null,
            "grid_template_areas": null,
            "grid_template_columns": null,
            "grid_template_rows": null,
            "height": null,
            "justify_content": null,
            "justify_items": null,
            "left": null,
            "margin": null,
            "max_height": null,
            "max_width": null,
            "min_height": null,
            "min_width": null,
            "object_fit": null,
            "object_position": null,
            "order": null,
            "overflow": null,
            "overflow_x": null,
            "overflow_y": null,
            "padding": null,
            "right": null,
            "top": null,
            "visibility": null,
            "width": null
          }
        },
        "45f8853519ca4b028d603e55b42cea7a": {
          "model_module": "@jupyter-widgets/controls",
          "model_name": "VBoxModel",
          "model_module_version": "1.5.0",
          "state": {
            "_dom_classes": [
              "widget-interact"
            ],
            "_model_module": "@jupyter-widgets/controls",
            "_model_module_version": "1.5.0",
            "_model_name": "VBoxModel",
            "_view_count": null,
            "_view_module": "@jupyter-widgets/controls",
            "_view_module_version": "1.5.0",
            "_view_name": "VBoxView",
            "box_style": "",
            "children": [
              "IPY_MODEL_72766f7a7f154399bd426befb1ee1b3e",
              "IPY_MODEL_caee9ddb4736415e889af1fd65ed0c8f"
            ],
            "layout": "IPY_MODEL_a25338810c0644a3a5eb9348ff627cee"
          }
        },
        "72766f7a7f154399bd426befb1ee1b3e": {
          "model_module": "@jupyter-widgets/controls",
          "model_name": "ToggleButtonsModel",
          "model_module_version": "1.5.0",
          "state": {
            "_dom_classes": [],
            "_model_module": "@jupyter-widgets/controls",
            "_model_module_version": "1.5.0",
            "_model_name": "ToggleButtonsModel",
            "_options_labels": [
              "Pipeline Plot",
              "Hyperparameters",
              "Residuals",
              "Prediction Error",
              "Cooks Distance",
              "Feature Selection",
              "Learning Curve",
              "Manifold Learning",
              "Validation Curve",
              "Feature Importance",
              "Feature Importance (All)",
              "Decision Tree",
              "Interactive Residuals"
            ],
            "_view_count": null,
            "_view_module": "@jupyter-widgets/controls",
            "_view_module_version": "1.5.0",
            "_view_name": "ToggleButtonsView",
            "button_style": "",
            "description": "Plot Type:",
            "description_tooltip": null,
            "disabled": false,
            "icons": [
              ""
            ],
            "index": 9,
            "layout": "IPY_MODEL_91aba554937e4dc9a852527498484d5c",
            "style": "IPY_MODEL_884807ea147e406c8150f97a736f33bb",
            "tooltips": []
          }
        },
        "caee9ddb4736415e889af1fd65ed0c8f": {
          "model_module": "@jupyter-widgets/output",
          "model_name": "OutputModel",
          "model_module_version": "1.0.0",
          "state": {
            "_dom_classes": [],
            "_model_module": "@jupyter-widgets/output",
            "_model_module_version": "1.0.0",
            "_model_name": "OutputModel",
            "_view_count": null,
            "_view_module": "@jupyter-widgets/output",
            "_view_module_version": "1.0.0",
            "_view_name": "OutputView",
            "layout": "IPY_MODEL_004a4f9e457049929d19f5e057eb5938",
            "msg_id": "",
            "outputs": [
              {
                "output_type": "display_data",
                "data": {
                  "text/plain": "<Figure size 800x500 with 1 Axes>",
                  "image/png": "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\n"
                },
                "metadata": {}
              }
            ]
          }
        },
        "7029b14fa01a404ab3e73120282bbd79": {
          "model_module": "@jupyter-widgets/controls",
          "model_name": "HBoxModel",
          "model_module_version": "1.5.0",
          "state": {
            "_dom_classes": [],
            "_model_module": "@jupyter-widgets/controls",
            "_model_module_version": "1.5.0",
            "_model_name": "HBoxModel",
            "_view_count": null,
            "_view_module": "@jupyter-widgets/controls",
            "_view_module_version": "1.5.0",
            "_view_name": "HBoxView",
            "box_style": "",
            "children": [
              "IPY_MODEL_975ecd27263440ddb5ccf16050c213d3",
              "IPY_MODEL_318c8f2732d94ed596ab70468b04d110",
              "IPY_MODEL_f0c2202146a74a6fa30a9f7be004a09e"
            ],
            "layout": "IPY_MODEL_6e85b0c07061411cb02739d623262abd"
          }
        },
        "975ecd27263440ddb5ccf16050c213d3": {
          "model_module": "@jupyter-widgets/controls",
          "model_name": "HTMLModel",
          "model_module_version": "1.5.0",
          "state": {
            "_dom_classes": [],
            "_model_module": "@jupyter-widgets/controls",
            "_model_module_version": "1.5.0",
            "_model_name": "HTMLModel",
            "_view_count": null,
            "_view_module": "@jupyter-widgets/controls",
            "_view_module_version": "1.5.0",
            "_view_name": "HTMLView",
            "description": "",
            "description_tooltip": null,
            "layout": "IPY_MODEL_f6c4eb794bc844508f0f62f0982c63bf",
            "placeholder": "​",
            "style": "IPY_MODEL_7a7bb61e11444450af9d1ba46e197c77",
            "value": "Processing:  75%"
          }
        },
        "318c8f2732d94ed596ab70468b04d110": {
          "model_module": "@jupyter-widgets/controls",
          "model_name": "FloatProgressModel",
          "model_module_version": "1.5.0",
          "state": {
            "_dom_classes": [],
            "_model_module": "@jupyter-widgets/controls",
            "_model_module_version": "1.5.0",
            "_model_name": "FloatProgressModel",
            "_view_count": null,
            "_view_module": "@jupyter-widgets/controls",
            "_view_module_version": "1.5.0",
            "_view_name": "ProgressView",
            "bar_style": "danger",
            "description": "",
            "description_tooltip": null,
            "layout": "IPY_MODEL_51db5bd202734ae4917f2601a0d34fed",
            "max": 4,
            "min": 0,
            "orientation": "horizontal",
            "style": "IPY_MODEL_eff5ce85ab18432f8b771868b1dcd640",
            "value": 3
          }
        },
        "f0c2202146a74a6fa30a9f7be004a09e": {
          "model_module": "@jupyter-widgets/controls",
          "model_name": "HTMLModel",
          "model_module_version": "1.5.0",
          "state": {
            "_dom_classes": [],
            "_model_module": "@jupyter-widgets/controls",
            "_model_module_version": "1.5.0",
            "_model_name": "HTMLModel",
            "_view_count": null,
            "_view_module": "@jupyter-widgets/controls",
            "_view_module_version": "1.5.0",
            "_view_name": "HTMLView",
            "description": "",
            "description_tooltip": null,
            "layout": "IPY_MODEL_580ff54ae8414f029c5c2233cd490b2f",
            "placeholder": "​",
            "style": "IPY_MODEL_20e6ddb077f24144a5f2ced26e7fce3c",
            "value": " 3/4 [00:00&lt;00:00,  4.06it/s]"
          }
        },
        "6e85b0c07061411cb02739d623262abd": {
          "model_module": "@jupyter-widgets/base",
          "model_name": "LayoutModel",
          "model_module_version": "1.2.0",
          "state": {
            "_model_module": "@jupyter-widgets/base",
            "_model_module_version": "1.2.0",
            "_model_name": "LayoutModel",
            "_view_count": null,
            "_view_module": "@jupyter-widgets/base",
            "_view_module_version": "1.2.0",
            "_view_name": "LayoutView",
            "align_content": null,
            "align_items": null,
            "align_self": null,
            "border": null,
            "bottom": null,
            "display": null,
            "flex": null,
            "flex_flow": null,
            "grid_area": null,
            "grid_auto_columns": null,
            "grid_auto_flow": null,
            "grid_auto_rows": null,
            "grid_column": null,
            "grid_gap": null,
            "grid_row": null,
            "grid_template_areas": null,
            "grid_template_columns": null,
            "grid_template_rows": null,
            "height": null,
            "justify_content": null,
            "justify_items": null,
            "left": null,
            "margin": null,
            "max_height": null,
            "max_width": null,
            "min_height": null,
            "min_width": null,
            "object_fit": null,
            "object_position": null,
            "order": null,
            "overflow": null,
            "overflow_x": null,
            "overflow_y": null,
            "padding": null,
            "right": null,
            "top": null,
            "visibility": null,
            "width": null
          }
        },
        "f6c4eb794bc844508f0f62f0982c63bf": {
          "model_module": "@jupyter-widgets/base",
          "model_name": "LayoutModel",
          "model_module_version": "1.2.0",
          "state": {
            "_model_module": "@jupyter-widgets/base",
            "_model_module_version": "1.2.0",
            "_model_name": "LayoutModel",
            "_view_count": null,
            "_view_module": "@jupyter-widgets/base",
            "_view_module_version": "1.2.0",
            "_view_name": "LayoutView",
            "align_content": null,
            "align_items": null,
            "align_self": null,
            "border": null,
            "bottom": null,
            "display": null,
            "flex": null,
            "flex_flow": null,
            "grid_area": null,
            "grid_auto_columns": null,
            "grid_auto_flow": null,
            "grid_auto_rows": null,
            "grid_column": null,
            "grid_gap": null,
            "grid_row": null,
            "grid_template_areas": null,
            "grid_template_columns": null,
            "grid_template_rows": null,
            "height": null,
            "justify_content": null,
            "justify_items": null,
            "left": null,
            "margin": null,
            "max_height": null,
            "max_width": null,
            "min_height": null,
            "min_width": null,
            "object_fit": null,
            "object_position": null,
            "order": null,
            "overflow": null,
            "overflow_x": null,
            "overflow_y": null,
            "padding": null,
            "right": null,
            "top": null,
            "visibility": null,
            "width": null
          }
        },
        "7a7bb61e11444450af9d1ba46e197c77": {
          "model_module": "@jupyter-widgets/controls",
          "model_name": "DescriptionStyleModel",
          "model_module_version": "1.5.0",
          "state": {
            "_model_module": "@jupyter-widgets/controls",
            "_model_module_version": "1.5.0",
            "_model_name": "DescriptionStyleModel",
            "_view_count": null,
            "_view_module": "@jupyter-widgets/base",
            "_view_module_version": "1.2.0",
            "_view_name": "StyleView",
            "description_width": ""
          }
        },
        "51db5bd202734ae4917f2601a0d34fed": {
          "model_module": "@jupyter-widgets/base",
          "model_name": "LayoutModel",
          "model_module_version": "1.2.0",
          "state": {
            "_model_module": "@jupyter-widgets/base",
            "_model_module_version": "1.2.0",
            "_model_name": "LayoutModel",
            "_view_count": null,
            "_view_module": "@jupyter-widgets/base",
            "_view_module_version": "1.2.0",
            "_view_name": "LayoutView",
            "align_content": null,
            "align_items": null,
            "align_self": null,
            "border": null,
            "bottom": null,
            "display": null,
            "flex": null,
            "flex_flow": null,
            "grid_area": null,
            "grid_auto_columns": null,
            "grid_auto_flow": null,
            "grid_auto_rows": null,
            "grid_column": null,
            "grid_gap": null,
            "grid_row": null,
            "grid_template_areas": null,
            "grid_template_columns": null,
            "grid_template_rows": null,
            "height": null,
            "justify_content": null,
            "justify_items": null,
            "left": null,
            "margin": null,
            "max_height": null,
            "max_width": null,
            "min_height": null,
            "min_width": null,
            "object_fit": null,
            "object_position": null,
            "order": null,
            "overflow": null,
            "overflow_x": null,
            "overflow_y": null,
            "padding": null,
            "right": null,
            "top": null,
            "visibility": null,
            "width": null
          }
        },
        "eff5ce85ab18432f8b771868b1dcd640": {
          "model_module": "@jupyter-widgets/controls",
          "model_name": "ProgressStyleModel",
          "model_module_version": "1.5.0",
          "state": {
            "_model_module": "@jupyter-widgets/controls",
            "_model_module_version": "1.5.0",
            "_model_name": "ProgressStyleModel",
            "_view_count": null,
            "_view_module": "@jupyter-widgets/base",
            "_view_module_version": "1.2.0",
            "_view_name": "StyleView",
            "bar_color": null,
            "description_width": ""
          }
        },
        "580ff54ae8414f029c5c2233cd490b2f": {
          "model_module": "@jupyter-widgets/base",
          "model_name": "LayoutModel",
          "model_module_version": "1.2.0",
          "state": {
            "_model_module": "@jupyter-widgets/base",
            "_model_module_version": "1.2.0",
            "_model_name": "LayoutModel",
            "_view_count": null,
            "_view_module": "@jupyter-widgets/base",
            "_view_module_version": "1.2.0",
            "_view_name": "LayoutView",
            "align_content": null,
            "align_items": null,
            "align_self": null,
            "border": null,
            "bottom": null,
            "display": null,
            "flex": null,
            "flex_flow": null,
            "grid_area": null,
            "grid_auto_columns": null,
            "grid_auto_flow": null,
            "grid_auto_rows": null,
            "grid_column": null,
            "grid_gap": null,
            "grid_row": null,
            "grid_template_areas": null,
            "grid_template_columns": null,
            "grid_template_rows": null,
            "height": null,
            "justify_content": null,
            "justify_items": null,
            "left": null,
            "margin": null,
            "max_height": null,
            "max_width": null,
            "min_height": null,
            "min_width": null,
            "object_fit": null,
            "object_position": null,
            "order": null,
            "overflow": null,
            "overflow_x": null,
            "overflow_y": null,
            "padding": null,
            "right": null,
            "top": null,
            "visibility": null,
            "width": null
          }
        },
        "20e6ddb077f24144a5f2ced26e7fce3c": {
          "model_module": "@jupyter-widgets/controls",
          "model_name": "DescriptionStyleModel",
          "model_module_version": "1.5.0",
          "state": {
            "_model_module": "@jupyter-widgets/controls",
            "_model_module_version": "1.5.0",
            "_model_name": "DescriptionStyleModel",
            "_view_count": null,
            "_view_module": "@jupyter-widgets/base",
            "_view_module_version": "1.2.0",
            "_view_name": "StyleView",
            "description_width": ""
          }
        },
        "3e0b551644db4afc8e967b9436b0c472": {
          "model_module": "@jupyter-widgets/base",
          "model_name": "LayoutModel",
          "model_module_version": "1.2.0",
          "state": {
            "_model_module": "@jupyter-widgets/base",
            "_model_module_version": "1.2.0",
            "_model_name": "LayoutModel",
            "_view_count": null,
            "_view_module": "@jupyter-widgets/base",
            "_view_module_version": "1.2.0",
            "_view_name": "LayoutView",
            "align_content": null,
            "align_items": null,
            "align_self": null,
            "border": null,
            "bottom": null,
            "display": null,
            "flex": null,
            "flex_flow": null,
            "grid_area": null,
            "grid_auto_columns": null,
            "grid_auto_flow": null,
            "grid_auto_rows": null,
            "grid_column": null,
            "grid_gap": null,
            "grid_row": null,
            "grid_template_areas": null,
            "grid_template_columns": null,
            "grid_template_rows": null,
            "height": null,
            "justify_content": null,
            "justify_items": null,
            "left": null,
            "margin": null,
            "max_height": null,
            "max_width": null,
            "min_height": null,
            "min_width": null,
            "object_fit": null,
            "object_position": null,
            "order": null,
            "overflow": null,
            "overflow_x": null,
            "overflow_y": null,
            "padding": null,
            "right": null,
            "top": null,
            "visibility": null,
            "width": null
          }
        },
        "cfde103782b04f8fa707e727fdbe866e": {
          "model_module": "@jupyter-widgets/controls",
          "model_name": "ToggleButtonsStyleModel",
          "model_module_version": "1.5.0",
          "state": {
            "_model_module": "@jupyter-widgets/controls",
            "_model_module_version": "1.5.0",
            "_model_name": "ToggleButtonsStyleModel",
            "_view_count": null,
            "_view_module": "@jupyter-widgets/base",
            "_view_module_version": "1.2.0",
            "_view_name": "StyleView",
            "button_width": "",
            "description_width": "",
            "font_weight": ""
          }
        },
        "b0384126df074b10a5ae1672d8cd61ca": {
          "model_module": "@jupyter-widgets/base",
          "model_name": "LayoutModel",
          "model_module_version": "1.2.0",
          "state": {
            "_model_module": "@jupyter-widgets/base",
            "_model_module_version": "1.2.0",
            "_model_name": "LayoutModel",
            "_view_count": null,
            "_view_module": "@jupyter-widgets/base",
            "_view_module_version": "1.2.0",
            "_view_name": "LayoutView",
            "align_content": null,
            "align_items": null,
            "align_self": null,
            "border": null,
            "bottom": null,
            "display": null,
            "flex": null,
            "flex_flow": null,
            "grid_area": null,
            "grid_auto_columns": null,
            "grid_auto_flow": null,
            "grid_auto_rows": null,
            "grid_column": null,
            "grid_gap": null,
            "grid_row": null,
            "grid_template_areas": null,
            "grid_template_columns": null,
            "grid_template_rows": null,
            "height": null,
            "justify_content": null,
            "justify_items": null,
            "left": null,
            "margin": null,
            "max_height": null,
            "max_width": null,
            "min_height": null,
            "min_width": null,
            "object_fit": null,
            "object_position": null,
            "order": null,
            "overflow": null,
            "overflow_x": null,
            "overflow_y": null,
            "padding": null,
            "right": null,
            "top": null,
            "visibility": null,
            "width": null
          }
        },
        "18d615b17d3a45d6b1a4229ca85d2fe5": {
          "model_module": "@jupyter-widgets/base",
          "model_name": "LayoutModel",
          "model_module_version": "1.2.0",
          "state": {
            "_model_module": "@jupyter-widgets/base",
            "_model_module_version": "1.2.0",
            "_model_name": "LayoutModel",
            "_view_count": null,
            "_view_module": "@jupyter-widgets/base",
            "_view_module_version": "1.2.0",
            "_view_name": "LayoutView",
            "align_content": null,
            "align_items": null,
            "align_self": null,
            "border": null,
            "bottom": null,
            "display": null,
            "flex": null,
            "flex_flow": null,
            "grid_area": null,
            "grid_auto_columns": null,
            "grid_auto_flow": null,
            "grid_auto_rows": null,
            "grid_column": null,
            "grid_gap": null,
            "grid_row": null,
            "grid_template_areas": null,
            "grid_template_columns": null,
            "grid_template_rows": null,
            "height": null,
            "justify_content": null,
            "justify_items": null,
            "left": null,
            "margin": null,
            "max_height": null,
            "max_width": null,
            "min_height": null,
            "min_width": null,
            "object_fit": null,
            "object_position": null,
            "order": null,
            "overflow": null,
            "overflow_x": null,
            "overflow_y": null,
            "padding": null,
            "right": null,
            "top": null,
            "visibility": null,
            "width": null
          }
        },
        "9d2036ea5f824c64bf5fbda0a9cc7da3": {
          "model_module": "@jupyter-widgets/controls",
          "model_name": "VBoxModel",
          "model_module_version": "1.5.0",
          "state": {
            "_dom_classes": [
              "widget-interact"
            ],
            "_model_module": "@jupyter-widgets/controls",
            "_model_module_version": "1.5.0",
            "_model_name": "VBoxModel",
            "_view_count": null,
            "_view_module": "@jupyter-widgets/controls",
            "_view_module_version": "1.5.0",
            "_view_name": "VBoxView",
            "box_style": "",
            "children": [
              "IPY_MODEL_b71442c0ea29487c85aa943a9aca3774",
              "IPY_MODEL_b1edace308a7446bb5ed5bd293189dd9"
            ],
            "layout": "IPY_MODEL_b0384126df074b10a5ae1672d8cd61ca"
          }
        },
        "b71442c0ea29487c85aa943a9aca3774": {
          "model_module": "@jupyter-widgets/controls",
          "model_name": "ToggleButtonsModel",
          "model_module_version": "1.5.0",
          "state": {
            "_dom_classes": [],
            "_model_module": "@jupyter-widgets/controls",
            "_model_module_version": "1.5.0",
            "_model_name": "ToggleButtonsModel",
            "_options_labels": [
              "Pipeline Plot",
              "Hyperparameters",
              "Residuals",
              "Prediction Error",
              "Cooks Distance",
              "Feature Selection",
              "Learning Curve",
              "Manifold Learning",
              "Validation Curve",
              "Feature Importance",
              "Feature Importance (All)",
              "Decision Tree",
              "Interactive Residuals"
            ],
            "_view_count": null,
            "_view_module": "@jupyter-widgets/controls",
            "_view_module_version": "1.5.0",
            "_view_name": "ToggleButtonsView",
            "button_style": "",
            "description": "Plot Type:",
            "description_tooltip": null,
            "disabled": false,
            "icons": [
              ""
            ],
            "index": 9,
            "layout": "IPY_MODEL_3e0b551644db4afc8e967b9436b0c472",
            "style": "IPY_MODEL_cfde103782b04f8fa707e727fdbe866e",
            "tooltips": []
          }
        },
        "b1edace308a7446bb5ed5bd293189dd9": {
          "model_module": "@jupyter-widgets/output",
          "model_name": "OutputModel",
          "model_module_version": "1.0.0",
          "state": {
            "_dom_classes": [],
            "_model_module": "@jupyter-widgets/output",
            "_model_module_version": "1.0.0",
            "_model_name": "OutputModel",
            "_view_count": null,
            "_view_module": "@jupyter-widgets/output",
            "_view_module_version": "1.0.0",
            "_view_name": "OutputView",
            "layout": "IPY_MODEL_18d615b17d3a45d6b1a4229ca85d2fe5",
            "msg_id": "",
            "outputs": [
              {
                "output_type": "display_data",
                "data": {
                  "text/plain": "<Figure size 800x500 with 1 Axes>",
                  "image/png": "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\n"
                },
                "metadata": {}
              }
            ]
          }
        }
      }
    }
  },
  "cells": [
    {
      "cell_type": "code",
      "execution_count": null,
      "metadata": {
        "id": "58L0PJdRqcQ8"
      },
      "outputs": [],
      "source": [
        "pip install pycaret[full]"
      ]
    },
    {
      "cell_type": "code",
      "source": [
        "pip install interpret-community\n"
      ],
      "metadata": {
        "id": "NfwQBWtU0mVD"
      },
      "execution_count": null,
      "outputs": []
    },
    {
      "cell_type": "code",
      "source": [
        "#Importing necessary libraries\n",
        "import pandas as pd\n",
        "import numpy as np\n",
        "\n",
        "import seaborn as sns\n",
        "import matplotlib.pyplot as plt\n",
        "from pycaret.regression import *\n",
        "from sklearn.ensemble import RandomForestRegressor\n",
        "from sklearn.preprocessing import StandardScaler\n",
        "from sklearn.model_selection import  GridSearchCV,train_test_split\n",
        "from sklearn.inspection import permutation_importance\n",
        "from sklearn.metrics import mean_absolute_error, mean_squared_error, r2_score\n"
      ],
      "metadata": {
        "id": "49JMal2VqyVj"
      },
      "execution_count": 33,
      "outputs": []
    },
    {
      "cell_type": "code",
      "source": [
        "#split and scale data\n",
        "def split_and_scale_data(x, y, test_size=0.2, random_state=42):\n",
        "    X_train, X_test, y_train, y_test = train_test_split(x, y, test_size=test_size, random_state=random_state)\n",
        "    scaler = StandardScaler()\n",
        "    X_train = scaler.fit_transform(X_train)\n",
        "    X_test = scaler.transform(X_test)\n",
        "    return X_train, X_test, y_train, y_test\n",
        "from sklearn.ensemble import AdaBoostRegressor,GradientBoostingRegressor,RandomForestRegressor\n",
        "from sklearn.model_selection import  GridSearchCV"
      ],
      "metadata": {
        "id": "B67VDBEYFgn3"
      },
      "execution_count": 26,
      "outputs": []
    },
    {
      "cell_type": "code",
      "source": [
        "from google.colab import files\n",
        "uploaded = files.upload()"
      ],
      "metadata": {
        "id": "kgh--9M4r11t"
      },
      "execution_count": null,
      "outputs": []
    },
    {
      "cell_type": "code",
      "source": [
        "data= pd.read_excel('data.xlsx',sheet_name='Sheet6')\n",
        "data=data.drop(['schw 1', 'schw 2','schw 3', 'schw 4', 'schw 5', 'schw 6','FWHM 1', 'FWHM 2', 'FWHM 3', 'FWHM 4', 'FWHM 5',\n",
        "       'FWHM 6', '2-theta 1', '2-theta 2', '2-theta 3', '2-theta 4',\n",
        "       '2-theta 5', '2-theta 6', 'Intensity 1', 'Intensity 2', 'Intensity 3',\n",
        "       'Intensity 4', 'Intensity 5', 'Intensity 6', 'relative_intensity 1',\n",
        "       'relative_intensity 2', 'relative_intensity 3', 'relative_intensity 4',\n",
        "       'relative_intensity 5', 'relative_intensity 6',], axis=1)\n"
      ],
      "metadata": {
        "id": "iqNbGAkyr8Vf"
      },
      "execution_count": 3,
      "outputs": []
    },
    {
      "cell_type": "markdown",
      "source": [
        "#Pycaret"
      ],
      "metadata": {
        "id": "IEt1KVKssJ7D"
      }
    },
    {
      "cell_type": "code",
      "source": [
        "x1=data.drop(['Isc'], axis=1)\n",
        "\n",
        "reg = setup(data=x1 , target = 'FF' ,normalize=True , normalize_method='minmax',train_size=0.8,fold=5,\n",
        "\n",
        "            keep_features=['DROP','PL_amplitude_peak1',\n",
        "       'PL_amplitude_peak2', 'PL_fwhm_peak1', 'PL_fwhm_peak2',\n",
        "       'PL_peak_positions_peak1', 'PL_peak_positions_peak2',\n",
        "       'PL_relative_amplitude_peak1', 'PL_relative_amplitude_peak2']\n",
        "\n",
        "\n",
        "            ,remove_multicollinearity = True, multicollinearity_threshold= 0.9\n",
        "\n",
        "            ,session_id=1543\n",
        "\n",
        "            )"
      ],
      "metadata": {
        "colab": {
          "base_uri": "https://localhost:8080/",
          "height": 802
        },
        "id": "BdhoMNHHsMfI",
        "outputId": "0dcaa7ff-925d-4e34-de6a-601061ed1da8"
      },
      "execution_count": 5,
      "outputs": [
        {
          "output_type": "display_data",
          "data": {
            "text/plain": [
              "<pandas.io.formats.style.Styler at 0x7d9d3e89cdf0>"
            ],
            "text/html": [
              "<style type=\"text/css\">\n",
              "#T_200b4_row9_col1, #T_200b4_row13_col1, #T_200b4_row15_col1 {\n",
              "  background-color: lightgreen;\n",
              "}\n",
              "</style>\n",
              "<table id=\"T_200b4\" class=\"dataframe\">\n",
              "  <thead>\n",
              "    <tr>\n",
              "      <th class=\"blank level0\" >&nbsp;</th>\n",
              "      <th id=\"T_200b4_level0_col0\" class=\"col_heading level0 col0\" >Description</th>\n",
              "      <th id=\"T_200b4_level0_col1\" class=\"col_heading level0 col1\" >Value</th>\n",
              "    </tr>\n",
              "  </thead>\n",
              "  <tbody>\n",
              "    <tr>\n",
              "      <th id=\"T_200b4_level0_row0\" class=\"row_heading level0 row0\" >0</th>\n",
              "      <td id=\"T_200b4_row0_col0\" class=\"data row0 col0\" >Session id</td>\n",
              "      <td id=\"T_200b4_row0_col1\" class=\"data row0 col1\" >1543</td>\n",
              "    </tr>\n",
              "    <tr>\n",
              "      <th id=\"T_200b4_level0_row1\" class=\"row_heading level0 row1\" >1</th>\n",
              "      <td id=\"T_200b4_row1_col0\" class=\"data row1 col0\" >Target</td>\n",
              "      <td id=\"T_200b4_row1_col1\" class=\"data row1 col1\" >FF</td>\n",
              "    </tr>\n",
              "    <tr>\n",
              "      <th id=\"T_200b4_level0_row2\" class=\"row_heading level0 row2\" >2</th>\n",
              "      <td id=\"T_200b4_row2_col0\" class=\"data row2 col0\" >Target type</td>\n",
              "      <td id=\"T_200b4_row2_col1\" class=\"data row2 col1\" >Regression</td>\n",
              "    </tr>\n",
              "    <tr>\n",
              "      <th id=\"T_200b4_level0_row3\" class=\"row_heading level0 row3\" >3</th>\n",
              "      <td id=\"T_200b4_row3_col0\" class=\"data row3 col0\" >Original data shape</td>\n",
              "      <td id=\"T_200b4_row3_col1\" class=\"data row3 col1\" >(27, 10)</td>\n",
              "    </tr>\n",
              "    <tr>\n",
              "      <th id=\"T_200b4_level0_row4\" class=\"row_heading level0 row4\" >4</th>\n",
              "      <td id=\"T_200b4_row4_col0\" class=\"data row4 col0\" >Transformed data shape</td>\n",
              "      <td id=\"T_200b4_row4_col1\" class=\"data row4 col1\" >(27, 10)</td>\n",
              "    </tr>\n",
              "    <tr>\n",
              "      <th id=\"T_200b4_level0_row5\" class=\"row_heading level0 row5\" >5</th>\n",
              "      <td id=\"T_200b4_row5_col0\" class=\"data row5 col0\" >Transformed train set shape</td>\n",
              "      <td id=\"T_200b4_row5_col1\" class=\"data row5 col1\" >(21, 10)</td>\n",
              "    </tr>\n",
              "    <tr>\n",
              "      <th id=\"T_200b4_level0_row6\" class=\"row_heading level0 row6\" >6</th>\n",
              "      <td id=\"T_200b4_row6_col0\" class=\"data row6 col0\" >Transformed test set shape</td>\n",
              "      <td id=\"T_200b4_row6_col1\" class=\"data row6 col1\" >(6, 10)</td>\n",
              "    </tr>\n",
              "    <tr>\n",
              "      <th id=\"T_200b4_level0_row7\" class=\"row_heading level0 row7\" >7</th>\n",
              "      <td id=\"T_200b4_row7_col0\" class=\"data row7 col0\" >Numeric features</td>\n",
              "      <td id=\"T_200b4_row7_col1\" class=\"data row7 col1\" >9</td>\n",
              "    </tr>\n",
              "    <tr>\n",
              "      <th id=\"T_200b4_level0_row8\" class=\"row_heading level0 row8\" >8</th>\n",
              "      <td id=\"T_200b4_row8_col0\" class=\"data row8 col0\" >Keep features</td>\n",
              "      <td id=\"T_200b4_row8_col1\" class=\"data row8 col1\" >9</td>\n",
              "    </tr>\n",
              "    <tr>\n",
              "      <th id=\"T_200b4_level0_row9\" class=\"row_heading level0 row9\" >9</th>\n",
              "      <td id=\"T_200b4_row9_col0\" class=\"data row9 col0\" >Preprocess</td>\n",
              "      <td id=\"T_200b4_row9_col1\" class=\"data row9 col1\" >True</td>\n",
              "    </tr>\n",
              "    <tr>\n",
              "      <th id=\"T_200b4_level0_row10\" class=\"row_heading level0 row10\" >10</th>\n",
              "      <td id=\"T_200b4_row10_col0\" class=\"data row10 col0\" >Imputation type</td>\n",
              "      <td id=\"T_200b4_row10_col1\" class=\"data row10 col1\" >simple</td>\n",
              "    </tr>\n",
              "    <tr>\n",
              "      <th id=\"T_200b4_level0_row11\" class=\"row_heading level0 row11\" >11</th>\n",
              "      <td id=\"T_200b4_row11_col0\" class=\"data row11 col0\" >Numeric imputation</td>\n",
              "      <td id=\"T_200b4_row11_col1\" class=\"data row11 col1\" >mean</td>\n",
              "    </tr>\n",
              "    <tr>\n",
              "      <th id=\"T_200b4_level0_row12\" class=\"row_heading level0 row12\" >12</th>\n",
              "      <td id=\"T_200b4_row12_col0\" class=\"data row12 col0\" >Categorical imputation</td>\n",
              "      <td id=\"T_200b4_row12_col1\" class=\"data row12 col1\" >mode</td>\n",
              "    </tr>\n",
              "    <tr>\n",
              "      <th id=\"T_200b4_level0_row13\" class=\"row_heading level0 row13\" >13</th>\n",
              "      <td id=\"T_200b4_row13_col0\" class=\"data row13 col0\" >Remove multicollinearity</td>\n",
              "      <td id=\"T_200b4_row13_col1\" class=\"data row13 col1\" >True</td>\n",
              "    </tr>\n",
              "    <tr>\n",
              "      <th id=\"T_200b4_level0_row14\" class=\"row_heading level0 row14\" >14</th>\n",
              "      <td id=\"T_200b4_row14_col0\" class=\"data row14 col0\" >Multicollinearity threshold</td>\n",
              "      <td id=\"T_200b4_row14_col1\" class=\"data row14 col1\" >0.900000</td>\n",
              "    </tr>\n",
              "    <tr>\n",
              "      <th id=\"T_200b4_level0_row15\" class=\"row_heading level0 row15\" >15</th>\n",
              "      <td id=\"T_200b4_row15_col0\" class=\"data row15 col0\" >Normalize</td>\n",
              "      <td id=\"T_200b4_row15_col1\" class=\"data row15 col1\" >True</td>\n",
              "    </tr>\n",
              "    <tr>\n",
              "      <th id=\"T_200b4_level0_row16\" class=\"row_heading level0 row16\" >16</th>\n",
              "      <td id=\"T_200b4_row16_col0\" class=\"data row16 col0\" >Normalize method</td>\n",
              "      <td id=\"T_200b4_row16_col1\" class=\"data row16 col1\" >minmax</td>\n",
              "    </tr>\n",
              "    <tr>\n",
              "      <th id=\"T_200b4_level0_row17\" class=\"row_heading level0 row17\" >17</th>\n",
              "      <td id=\"T_200b4_row17_col0\" class=\"data row17 col0\" >Fold Generator</td>\n",
              "      <td id=\"T_200b4_row17_col1\" class=\"data row17 col1\" >KFold</td>\n",
              "    </tr>\n",
              "    <tr>\n",
              "      <th id=\"T_200b4_level0_row18\" class=\"row_heading level0 row18\" >18</th>\n",
              "      <td id=\"T_200b4_row18_col0\" class=\"data row18 col0\" >Fold Number</td>\n",
              "      <td id=\"T_200b4_row18_col1\" class=\"data row18 col1\" >5</td>\n",
              "    </tr>\n",
              "    <tr>\n",
              "      <th id=\"T_200b4_level0_row19\" class=\"row_heading level0 row19\" >19</th>\n",
              "      <td id=\"T_200b4_row19_col0\" class=\"data row19 col0\" >CPU Jobs</td>\n",
              "      <td id=\"T_200b4_row19_col1\" class=\"data row19 col1\" >-1</td>\n",
              "    </tr>\n",
              "    <tr>\n",
              "      <th id=\"T_200b4_level0_row20\" class=\"row_heading level0 row20\" >20</th>\n",
              "      <td id=\"T_200b4_row20_col0\" class=\"data row20 col0\" >Use GPU</td>\n",
              "      <td id=\"T_200b4_row20_col1\" class=\"data row20 col1\" >False</td>\n",
              "    </tr>\n",
              "    <tr>\n",
              "      <th id=\"T_200b4_level0_row21\" class=\"row_heading level0 row21\" >21</th>\n",
              "      <td id=\"T_200b4_row21_col0\" class=\"data row21 col0\" >Log Experiment</td>\n",
              "      <td id=\"T_200b4_row21_col1\" class=\"data row21 col1\" >False</td>\n",
              "    </tr>\n",
              "    <tr>\n",
              "      <th id=\"T_200b4_level0_row22\" class=\"row_heading level0 row22\" >22</th>\n",
              "      <td id=\"T_200b4_row22_col0\" class=\"data row22 col0\" >Experiment Name</td>\n",
              "      <td id=\"T_200b4_row22_col1\" class=\"data row22 col1\" >reg-default-name</td>\n",
              "    </tr>\n",
              "    <tr>\n",
              "      <th id=\"T_200b4_level0_row23\" class=\"row_heading level0 row23\" >23</th>\n",
              "      <td id=\"T_200b4_row23_col0\" class=\"data row23 col0\" >USI</td>\n",
              "      <td id=\"T_200b4_row23_col1\" class=\"data row23 col1\" >0137</td>\n",
              "    </tr>\n",
              "  </tbody>\n",
              "</table>\n"
            ]
          },
          "metadata": {}
        }
      ]
    },
    {
      "cell_type": "code",
      "source": [
        "best = compare_models(cross_validation=False)"
      ],
      "metadata": {
        "colab": {
          "base_uri": "https://localhost:8080/",
          "height": 677,
          "referenced_widgets": [
            "21786952dfa3414f8891efd65e92118a",
            "f46e31af0dbe4abcaaed03e020c1ac6f",
            "fa0b80a961aa462bbfa02159e6340dfe",
            "c915f98ef1a242d88caf8f3b55af0f71",
            "18cf9dd3f62b4360af29d431702f4a7c",
            "71798cf3ca0b468998a785476d769eaf",
            "326a57d734d042578c7f76a0ed69c069",
            "41f41a5f24b74624b71cb3950d253d88",
            "535697e1fd58415ca9db50149f424557",
            "178817034cc14760af189dccb478f0c6",
            "286e63abf77d40d280ad2d144f428d58"
          ]
        },
        "id": "3OGbqHIzseBH",
        "outputId": "142013fa-f0ba-4461-c6e8-e8b13e02e6bc"
      },
      "execution_count": 6,
      "outputs": [
        {
          "output_type": "display_data",
          "data": {
            "text/plain": [
              "<IPython.core.display.HTML object>"
            ],
            "text/html": []
          },
          "metadata": {}
        },
        {
          "output_type": "display_data",
          "data": {
            "text/plain": [
              "<pandas.io.formats.style.Styler at 0x7d9d414e6f80>"
            ],
            "text/html": [
              "<style type=\"text/css\">\n",
              "#T_dacfa th {\n",
              "  text-align: left;\n",
              "}\n",
              "#T_dacfa_row0_col0, #T_dacfa_row1_col0, #T_dacfa_row1_col1, #T_dacfa_row1_col2, #T_dacfa_row1_col3, #T_dacfa_row1_col4, #T_dacfa_row1_col5, #T_dacfa_row1_col6, #T_dacfa_row2_col0, #T_dacfa_row2_col1, #T_dacfa_row2_col2, #T_dacfa_row2_col3, #T_dacfa_row2_col4, #T_dacfa_row2_col5, #T_dacfa_row2_col6, #T_dacfa_row3_col0, #T_dacfa_row3_col1, #T_dacfa_row3_col2, #T_dacfa_row3_col3, #T_dacfa_row3_col4, #T_dacfa_row3_col5, #T_dacfa_row3_col6, #T_dacfa_row4_col0, #T_dacfa_row4_col1, #T_dacfa_row4_col2, #T_dacfa_row4_col3, #T_dacfa_row4_col4, #T_dacfa_row4_col5, #T_dacfa_row4_col6, #T_dacfa_row5_col0, #T_dacfa_row5_col1, #T_dacfa_row5_col2, #T_dacfa_row5_col3, #T_dacfa_row5_col4, #T_dacfa_row5_col5, #T_dacfa_row5_col6, #T_dacfa_row6_col0, #T_dacfa_row6_col1, #T_dacfa_row6_col2, #T_dacfa_row6_col3, #T_dacfa_row6_col4, #T_dacfa_row6_col5, #T_dacfa_row6_col6, #T_dacfa_row7_col0, #T_dacfa_row7_col1, #T_dacfa_row7_col2, #T_dacfa_row7_col3, #T_dacfa_row7_col4, #T_dacfa_row7_col5, #T_dacfa_row7_col6, #T_dacfa_row8_col0, #T_dacfa_row8_col1, #T_dacfa_row8_col2, #T_dacfa_row8_col3, #T_dacfa_row8_col4, #T_dacfa_row8_col5, #T_dacfa_row8_col6, #T_dacfa_row9_col0, #T_dacfa_row9_col1, #T_dacfa_row9_col2, #T_dacfa_row9_col3, #T_dacfa_row9_col4, #T_dacfa_row9_col5, #T_dacfa_row9_col6, #T_dacfa_row10_col0, #T_dacfa_row10_col1, #T_dacfa_row10_col2, #T_dacfa_row10_col3, #T_dacfa_row10_col4, #T_dacfa_row10_col5, #T_dacfa_row10_col6, #T_dacfa_row11_col0, #T_dacfa_row11_col1, #T_dacfa_row11_col2, #T_dacfa_row11_col3, #T_dacfa_row11_col4, #T_dacfa_row11_col5, #T_dacfa_row11_col6, #T_dacfa_row12_col0, #T_dacfa_row12_col1, #T_dacfa_row12_col2, #T_dacfa_row12_col3, #T_dacfa_row12_col4, #T_dacfa_row12_col5, #T_dacfa_row12_col6, #T_dacfa_row13_col0, #T_dacfa_row13_col1, #T_dacfa_row13_col2, #T_dacfa_row13_col3, #T_dacfa_row13_col4, #T_dacfa_row13_col5, #T_dacfa_row13_col6, #T_dacfa_row14_col0, #T_dacfa_row14_col1, #T_dacfa_row14_col2, #T_dacfa_row14_col3, #T_dacfa_row14_col4, #T_dacfa_row14_col5, #T_dacfa_row14_col6, #T_dacfa_row15_col0, #T_dacfa_row15_col1, #T_dacfa_row15_col2, #T_dacfa_row15_col3, #T_dacfa_row15_col4, #T_dacfa_row15_col5, #T_dacfa_row15_col6, #T_dacfa_row16_col0, #T_dacfa_row16_col1, #T_dacfa_row16_col2, #T_dacfa_row16_col3, #T_dacfa_row16_col4, #T_dacfa_row16_col5, #T_dacfa_row16_col6, #T_dacfa_row17_col0, #T_dacfa_row17_col1, #T_dacfa_row17_col2, #T_dacfa_row17_col3, #T_dacfa_row17_col4, #T_dacfa_row17_col5, #T_dacfa_row17_col6, #T_dacfa_row18_col0, #T_dacfa_row18_col1, #T_dacfa_row18_col2, #T_dacfa_row18_col3, #T_dacfa_row18_col4, #T_dacfa_row18_col5, #T_dacfa_row18_col6, #T_dacfa_row19_col0, #T_dacfa_row19_col1, #T_dacfa_row19_col2, #T_dacfa_row19_col3, #T_dacfa_row19_col4, #T_dacfa_row19_col5, #T_dacfa_row19_col6 {\n",
              "  text-align: left;\n",
              "}\n",
              "#T_dacfa_row0_col1, #T_dacfa_row0_col2, #T_dacfa_row0_col3, #T_dacfa_row0_col4, #T_dacfa_row0_col5, #T_dacfa_row0_col6 {\n",
              "  text-align: left;\n",
              "  background-color: yellow;\n",
              "}\n",
              "#T_dacfa_row0_col7, #T_dacfa_row1_col7, #T_dacfa_row2_col7, #T_dacfa_row3_col7, #T_dacfa_row4_col7, #T_dacfa_row6_col7, #T_dacfa_row7_col7, #T_dacfa_row8_col7, #T_dacfa_row9_col7, #T_dacfa_row10_col7, #T_dacfa_row11_col7, #T_dacfa_row12_col7, #T_dacfa_row13_col7, #T_dacfa_row14_col7, #T_dacfa_row15_col7, #T_dacfa_row17_col7, #T_dacfa_row19_col7 {\n",
              "  text-align: left;\n",
              "  background-color: lightgrey;\n",
              "}\n",
              "#T_dacfa_row5_col7, #T_dacfa_row16_col7, #T_dacfa_row18_col7 {\n",
              "  text-align: left;\n",
              "  background-color: yellow;\n",
              "  background-color: lightgrey;\n",
              "}\n",
              "</style>\n",
              "<table id=\"T_dacfa\" class=\"dataframe\">\n",
              "  <thead>\n",
              "    <tr>\n",
              "      <th class=\"blank level0\" >&nbsp;</th>\n",
              "      <th id=\"T_dacfa_level0_col0\" class=\"col_heading level0 col0\" >Model</th>\n",
              "      <th id=\"T_dacfa_level0_col1\" class=\"col_heading level0 col1\" >MAE</th>\n",
              "      <th id=\"T_dacfa_level0_col2\" class=\"col_heading level0 col2\" >MSE</th>\n",
              "      <th id=\"T_dacfa_level0_col3\" class=\"col_heading level0 col3\" >RMSE</th>\n",
              "      <th id=\"T_dacfa_level0_col4\" class=\"col_heading level0 col4\" >R2</th>\n",
              "      <th id=\"T_dacfa_level0_col5\" class=\"col_heading level0 col5\" >RMSLE</th>\n",
              "      <th id=\"T_dacfa_level0_col6\" class=\"col_heading level0 col6\" >MAPE</th>\n",
              "      <th id=\"T_dacfa_level0_col7\" class=\"col_heading level0 col7\" >TT (Sec)</th>\n",
              "    </tr>\n",
              "  </thead>\n",
              "  <tbody>\n",
              "    <tr>\n",
              "      <th id=\"T_dacfa_level0_row0\" class=\"row_heading level0 row0\" >gbr</th>\n",
              "      <td id=\"T_dacfa_row0_col0\" class=\"data row0 col0\" >Gradient Boosting Regressor</td>\n",
              "      <td id=\"T_dacfa_row0_col1\" class=\"data row0 col1\" >0.4616</td>\n",
              "      <td id=\"T_dacfa_row0_col2\" class=\"data row0 col2\" >0.3933</td>\n",
              "      <td id=\"T_dacfa_row0_col3\" class=\"data row0 col3\" >0.6271</td>\n",
              "      <td id=\"T_dacfa_row0_col4\" class=\"data row0 col4\" >0.9438</td>\n",
              "      <td id=\"T_dacfa_row0_col5\" class=\"data row0 col5\" >0.0135</td>\n",
              "      <td id=\"T_dacfa_row0_col6\" class=\"data row0 col6\" >0.0105</td>\n",
              "      <td id=\"T_dacfa_row0_col7\" class=\"data row0 col7\" >0.0800</td>\n",
              "    </tr>\n",
              "    <tr>\n",
              "      <th id=\"T_dacfa_level0_row1\" class=\"row_heading level0 row1\" >dt</th>\n",
              "      <td id=\"T_dacfa_row1_col0\" class=\"data row1 col0\" >Decision Tree Regressor</td>\n",
              "      <td id=\"T_dacfa_row1_col1\" class=\"data row1 col1\" >0.6857</td>\n",
              "      <td id=\"T_dacfa_row1_col2\" class=\"data row1 col2\" >0.9939</td>\n",
              "      <td id=\"T_dacfa_row1_col3\" class=\"data row1 col3\" >0.9969</td>\n",
              "      <td id=\"T_dacfa_row1_col4\" class=\"data row1 col4\" >0.8580</td>\n",
              "      <td id=\"T_dacfa_row1_col5\" class=\"data row1 col5\" >0.0232</td>\n",
              "      <td id=\"T_dacfa_row1_col6\" class=\"data row1 col6\" >0.0159</td>\n",
              "      <td id=\"T_dacfa_row1_col7\" class=\"data row1 col7\" >0.0300</td>\n",
              "    </tr>\n",
              "    <tr>\n",
              "      <th id=\"T_dacfa_level0_row2\" class=\"row_heading level0 row2\" >xgboost</th>\n",
              "      <td id=\"T_dacfa_row2_col0\" class=\"data row2 col0\" >Extreme Gradient Boosting</td>\n",
              "      <td id=\"T_dacfa_row2_col1\" class=\"data row2 col1\" >0.7718</td>\n",
              "      <td id=\"T_dacfa_row2_col2\" class=\"data row2 col2\" >1.0272</td>\n",
              "      <td id=\"T_dacfa_row2_col3\" class=\"data row2 col3\" >1.0135</td>\n",
              "      <td id=\"T_dacfa_row2_col4\" class=\"data row2 col4\" >0.8532</td>\n",
              "      <td id=\"T_dacfa_row2_col5\" class=\"data row2 col5\" >0.0223</td>\n",
              "      <td id=\"T_dacfa_row2_col6\" class=\"data row2 col6\" >0.0175</td>\n",
              "      <td id=\"T_dacfa_row2_col7\" class=\"data row2 col7\" >0.5900</td>\n",
              "    </tr>\n",
              "    <tr>\n",
              "      <th id=\"T_dacfa_level0_row3\" class=\"row_heading level0 row3\" >rf</th>\n",
              "      <td id=\"T_dacfa_row3_col0\" class=\"data row3 col0\" >Random Forest Regressor</td>\n",
              "      <td id=\"T_dacfa_row3_col1\" class=\"data row3 col1\" >1.0631</td>\n",
              "      <td id=\"T_dacfa_row3_col2\" class=\"data row3 col2\" >1.3843</td>\n",
              "      <td id=\"T_dacfa_row3_col3\" class=\"data row3 col3\" >1.1765</td>\n",
              "      <td id=\"T_dacfa_row3_col4\" class=\"data row3 col4\" >0.8022</td>\n",
              "      <td id=\"T_dacfa_row3_col5\" class=\"data row3 col5\" >0.0277</td>\n",
              "      <td id=\"T_dacfa_row3_col6\" class=\"data row3 col6\" >0.0254</td>\n",
              "      <td id=\"T_dacfa_row3_col7\" class=\"data row3 col7\" >0.1800</td>\n",
              "    </tr>\n",
              "    <tr>\n",
              "      <th id=\"T_dacfa_level0_row4\" class=\"row_heading level0 row4\" >ada</th>\n",
              "      <td id=\"T_dacfa_row4_col0\" class=\"data row4 col0\" >AdaBoost Regressor</td>\n",
              "      <td id=\"T_dacfa_row4_col1\" class=\"data row4 col1\" >1.1732</td>\n",
              "      <td id=\"T_dacfa_row4_col2\" class=\"data row4 col2\" >1.5035</td>\n",
              "      <td id=\"T_dacfa_row4_col3\" class=\"data row4 col3\" >1.2262</td>\n",
              "      <td id=\"T_dacfa_row4_col4\" class=\"data row4 col4\" >0.7851</td>\n",
              "      <td id=\"T_dacfa_row4_col5\" class=\"data row4 col5\" >0.0276</td>\n",
              "      <td id=\"T_dacfa_row4_col6\" class=\"data row4 col6\" >0.0273</td>\n",
              "      <td id=\"T_dacfa_row4_col7\" class=\"data row4 col7\" >0.0900</td>\n",
              "    </tr>\n",
              "    <tr>\n",
              "      <th id=\"T_dacfa_level0_row5\" class=\"row_heading level0 row5\" >lr</th>\n",
              "      <td id=\"T_dacfa_row5_col0\" class=\"data row5 col0\" >Linear Regression</td>\n",
              "      <td id=\"T_dacfa_row5_col1\" class=\"data row5 col1\" >1.2535</td>\n",
              "      <td id=\"T_dacfa_row5_col2\" class=\"data row5 col2\" >2.2228</td>\n",
              "      <td id=\"T_dacfa_row5_col3\" class=\"data row5 col3\" >1.4909</td>\n",
              "      <td id=\"T_dacfa_row5_col4\" class=\"data row5 col4\" >0.6823</td>\n",
              "      <td id=\"T_dacfa_row5_col5\" class=\"data row5 col5\" >0.0340</td>\n",
              "      <td id=\"T_dacfa_row5_col6\" class=\"data row5 col6\" >0.0293</td>\n",
              "      <td id=\"T_dacfa_row5_col7\" class=\"data row5 col7\" >0.0100</td>\n",
              "    </tr>\n",
              "    <tr>\n",
              "      <th id=\"T_dacfa_level0_row6\" class=\"row_heading level0 row6\" >lar</th>\n",
              "      <td id=\"T_dacfa_row6_col0\" class=\"data row6 col0\" >Least Angle Regression</td>\n",
              "      <td id=\"T_dacfa_row6_col1\" class=\"data row6 col1\" >1.2535</td>\n",
              "      <td id=\"T_dacfa_row6_col2\" class=\"data row6 col2\" >2.2228</td>\n",
              "      <td id=\"T_dacfa_row6_col3\" class=\"data row6 col3\" >1.4909</td>\n",
              "      <td id=\"T_dacfa_row6_col4\" class=\"data row6 col4\" >0.6823</td>\n",
              "      <td id=\"T_dacfa_row6_col5\" class=\"data row6 col5\" >0.0340</td>\n",
              "      <td id=\"T_dacfa_row6_col6\" class=\"data row6 col6\" >0.0293</td>\n",
              "      <td id=\"T_dacfa_row6_col7\" class=\"data row6 col7\" >0.0300</td>\n",
              "    </tr>\n",
              "    <tr>\n",
              "      <th id=\"T_dacfa_level0_row7\" class=\"row_heading level0 row7\" >et</th>\n",
              "      <td id=\"T_dacfa_row7_col0\" class=\"data row7 col0\" >Extra Trees Regressor</td>\n",
              "      <td id=\"T_dacfa_row7_col1\" class=\"data row7 col1\" >1.4914</td>\n",
              "      <td id=\"T_dacfa_row7_col2\" class=\"data row7 col2\" >2.6694</td>\n",
              "      <td id=\"T_dacfa_row7_col3\" class=\"data row7 col3\" >1.6338</td>\n",
              "      <td id=\"T_dacfa_row7_col4\" class=\"data row7 col4\" >0.6185</td>\n",
              "      <td id=\"T_dacfa_row7_col5\" class=\"data row7 col5\" >0.0376</td>\n",
              "      <td id=\"T_dacfa_row7_col6\" class=\"data row7 col6\" >0.0350</td>\n",
              "      <td id=\"T_dacfa_row7_col7\" class=\"data row7 col7\" >0.1500</td>\n",
              "    </tr>\n",
              "    <tr>\n",
              "      <th id=\"T_dacfa_level0_row8\" class=\"row_heading level0 row8\" >huber</th>\n",
              "      <td id=\"T_dacfa_row8_col0\" class=\"data row8 col0\" >Huber Regressor</td>\n",
              "      <td id=\"T_dacfa_row8_col1\" class=\"data row8 col1\" >1.4011</td>\n",
              "      <td id=\"T_dacfa_row8_col2\" class=\"data row8 col2\" >2.7381</td>\n",
              "      <td id=\"T_dacfa_row8_col3\" class=\"data row8 col3\" >1.6547</td>\n",
              "      <td id=\"T_dacfa_row8_col4\" class=\"data row8 col4\" >0.6087</td>\n",
              "      <td id=\"T_dacfa_row8_col5\" class=\"data row8 col5\" >0.0374</td>\n",
              "      <td id=\"T_dacfa_row8_col6\" class=\"data row8 col6\" >0.0325</td>\n",
              "      <td id=\"T_dacfa_row8_col7\" class=\"data row8 col7\" >0.0500</td>\n",
              "    </tr>\n",
              "    <tr>\n",
              "      <th id=\"T_dacfa_level0_row9\" class=\"row_heading level0 row9\" >br</th>\n",
              "      <td id=\"T_dacfa_row9_col0\" class=\"data row9 col0\" >Bayesian Ridge</td>\n",
              "      <td id=\"T_dacfa_row9_col1\" class=\"data row9 col1\" >1.3836</td>\n",
              "      <td id=\"T_dacfa_row9_col2\" class=\"data row9 col2\" >3.1281</td>\n",
              "      <td id=\"T_dacfa_row9_col3\" class=\"data row9 col3\" >1.7686</td>\n",
              "      <td id=\"T_dacfa_row9_col4\" class=\"data row9 col4\" >0.5529</td>\n",
              "      <td id=\"T_dacfa_row9_col5\" class=\"data row9 col5\" >0.0411</td>\n",
              "      <td id=\"T_dacfa_row9_col6\" class=\"data row9 col6\" >0.0330</td>\n",
              "      <td id=\"T_dacfa_row9_col7\" class=\"data row9 col7\" >0.0200</td>\n",
              "    </tr>\n",
              "    <tr>\n",
              "      <th id=\"T_dacfa_level0_row10\" class=\"row_heading level0 row10\" >ridge</th>\n",
              "      <td id=\"T_dacfa_row10_col0\" class=\"data row10 col0\" >Ridge Regression</td>\n",
              "      <td id=\"T_dacfa_row10_col1\" class=\"data row10 col1\" >1.3938</td>\n",
              "      <td id=\"T_dacfa_row10_col2\" class=\"data row10 col2\" >3.1971</td>\n",
              "      <td id=\"T_dacfa_row10_col3\" class=\"data row10 col3\" >1.7881</td>\n",
              "      <td id=\"T_dacfa_row10_col4\" class=\"data row10 col4\" >0.5431</td>\n",
              "      <td id=\"T_dacfa_row10_col5\" class=\"data row10 col5\" >0.0416</td>\n",
              "      <td id=\"T_dacfa_row10_col6\" class=\"data row10 col6\" >0.0333</td>\n",
              "      <td id=\"T_dacfa_row10_col7\" class=\"data row10 col7\" >0.0200</td>\n",
              "    </tr>\n",
              "    <tr>\n",
              "      <th id=\"T_dacfa_level0_row11\" class=\"row_heading level0 row11\" >catboost</th>\n",
              "      <td id=\"T_dacfa_row11_col0\" class=\"data row11 col0\" >CatBoost Regressor</td>\n",
              "      <td id=\"T_dacfa_row11_col1\" class=\"data row11 col1\" >1.6696</td>\n",
              "      <td id=\"T_dacfa_row11_col2\" class=\"data row11 col2\" >3.6447</td>\n",
              "      <td id=\"T_dacfa_row11_col3\" class=\"data row11 col3\" >1.9091</td>\n",
              "      <td id=\"T_dacfa_row11_col4\" class=\"data row11 col4\" >0.4791</td>\n",
              "      <td id=\"T_dacfa_row11_col5\" class=\"data row11 col5\" >0.0449</td>\n",
              "      <td id=\"T_dacfa_row11_col6\" class=\"data row11 col6\" >0.0399</td>\n",
              "      <td id=\"T_dacfa_row11_col7\" class=\"data row11 col7\" >0.5500</td>\n",
              "    </tr>\n",
              "    <tr>\n",
              "      <th id=\"T_dacfa_level0_row12\" class=\"row_heading level0 row12\" >knn</th>\n",
              "      <td id=\"T_dacfa_row12_col0\" class=\"data row12 col0\" >K Neighbors Regressor</td>\n",
              "      <td id=\"T_dacfa_row12_col1\" class=\"data row12 col1\" >1.6319</td>\n",
              "      <td id=\"T_dacfa_row12_col2\" class=\"data row12 col2\" >3.9286</td>\n",
              "      <td id=\"T_dacfa_row12_col3\" class=\"data row12 col3\" >1.9821</td>\n",
              "      <td id=\"T_dacfa_row12_col4\" class=\"data row12 col4\" >0.4385</td>\n",
              "      <td id=\"T_dacfa_row12_col5\" class=\"data row12 col5\" >0.0461</td>\n",
              "      <td id=\"T_dacfa_row12_col6\" class=\"data row12 col6\" >0.0389</td>\n",
              "      <td id=\"T_dacfa_row12_col7\" class=\"data row12 col7\" >0.0200</td>\n",
              "    </tr>\n",
              "    <tr>\n",
              "      <th id=\"T_dacfa_level0_row13\" class=\"row_heading level0 row13\" >omp</th>\n",
              "      <td id=\"T_dacfa_row13_col0\" class=\"data row13 col0\" >Orthogonal Matching Pursuit</td>\n",
              "      <td id=\"T_dacfa_row13_col1\" class=\"data row13 col1\" >1.6328</td>\n",
              "      <td id=\"T_dacfa_row13_col2\" class=\"data row13 col2\" >4.9851</td>\n",
              "      <td id=\"T_dacfa_row13_col3\" class=\"data row13 col3\" >2.2327</td>\n",
              "      <td id=\"T_dacfa_row13_col4\" class=\"data row13 col4\" >0.2875</td>\n",
              "      <td id=\"T_dacfa_row13_col5\" class=\"data row13 col5\" >0.0521</td>\n",
              "      <td id=\"T_dacfa_row13_col6\" class=\"data row13 col6\" >0.0393</td>\n",
              "      <td id=\"T_dacfa_row13_col7\" class=\"data row13 col7\" >0.0200</td>\n",
              "    </tr>\n",
              "    <tr>\n",
              "      <th id=\"T_dacfa_level0_row14\" class=\"row_heading level0 row14\" >lightgbm</th>\n",
              "      <td id=\"T_dacfa_row14_col0\" class=\"data row14 col0\" >Light Gradient Boosting Machine</td>\n",
              "      <td id=\"T_dacfa_row14_col1\" class=\"data row14 col1\" >2.3305</td>\n",
              "      <td id=\"T_dacfa_row14_col2\" class=\"data row14 col2\" >7.5724</td>\n",
              "      <td id=\"T_dacfa_row14_col3\" class=\"data row14 col3\" >2.7518</td>\n",
              "      <td id=\"T_dacfa_row14_col4\" class=\"data row14 col4\" >-0.0822</td>\n",
              "      <td id=\"T_dacfa_row14_col5\" class=\"data row14 col5\" >0.0638</td>\n",
              "      <td id=\"T_dacfa_row14_col6\" class=\"data row14 col6\" >0.0557</td>\n",
              "      <td id=\"T_dacfa_row14_col7\" class=\"data row14 col7\" >0.1000</td>\n",
              "    </tr>\n",
              "    <tr>\n",
              "      <th id=\"T_dacfa_level0_row15\" class=\"row_heading level0 row15\" >lasso</th>\n",
              "      <td id=\"T_dacfa_row15_col0\" class=\"data row15 col0\" >Lasso Regression</td>\n",
              "      <td id=\"T_dacfa_row15_col1\" class=\"data row15 col1\" >2.3305</td>\n",
              "      <td id=\"T_dacfa_row15_col2\" class=\"data row15 col2\" >7.5724</td>\n",
              "      <td id=\"T_dacfa_row15_col3\" class=\"data row15 col3\" >2.7518</td>\n",
              "      <td id=\"T_dacfa_row15_col4\" class=\"data row15 col4\" >-0.0823</td>\n",
              "      <td id=\"T_dacfa_row15_col5\" class=\"data row15 col5\" >0.0638</td>\n",
              "      <td id=\"T_dacfa_row15_col6\" class=\"data row15 col6\" >0.0557</td>\n",
              "      <td id=\"T_dacfa_row15_col7\" class=\"data row15 col7\" >0.0200</td>\n",
              "    </tr>\n",
              "    <tr>\n",
              "      <th id=\"T_dacfa_level0_row16\" class=\"row_heading level0 row16\" >en</th>\n",
              "      <td id=\"T_dacfa_row16_col0\" class=\"data row16 col0\" >Elastic Net</td>\n",
              "      <td id=\"T_dacfa_row16_col1\" class=\"data row16 col1\" >2.3305</td>\n",
              "      <td id=\"T_dacfa_row16_col2\" class=\"data row16 col2\" >7.5724</td>\n",
              "      <td id=\"T_dacfa_row16_col3\" class=\"data row16 col3\" >2.7518</td>\n",
              "      <td id=\"T_dacfa_row16_col4\" class=\"data row16 col4\" >-0.0823</td>\n",
              "      <td id=\"T_dacfa_row16_col5\" class=\"data row16 col5\" >0.0638</td>\n",
              "      <td id=\"T_dacfa_row16_col6\" class=\"data row16 col6\" >0.0557</td>\n",
              "      <td id=\"T_dacfa_row16_col7\" class=\"data row16 col7\" >0.0100</td>\n",
              "    </tr>\n",
              "    <tr>\n",
              "      <th id=\"T_dacfa_level0_row17\" class=\"row_heading level0 row17\" >llar</th>\n",
              "      <td id=\"T_dacfa_row17_col0\" class=\"data row17 col0\" >Lasso Least Angle Regression</td>\n",
              "      <td id=\"T_dacfa_row17_col1\" class=\"data row17 col1\" >2.3305</td>\n",
              "      <td id=\"T_dacfa_row17_col2\" class=\"data row17 col2\" >7.5724</td>\n",
              "      <td id=\"T_dacfa_row17_col3\" class=\"data row17 col3\" >2.7518</td>\n",
              "      <td id=\"T_dacfa_row17_col4\" class=\"data row17 col4\" >-0.0823</td>\n",
              "      <td id=\"T_dacfa_row17_col5\" class=\"data row17 col5\" >0.0638</td>\n",
              "      <td id=\"T_dacfa_row17_col6\" class=\"data row17 col6\" >0.0557</td>\n",
              "      <td id=\"T_dacfa_row17_col7\" class=\"data row17 col7\" >0.0200</td>\n",
              "    </tr>\n",
              "    <tr>\n",
              "      <th id=\"T_dacfa_level0_row18\" class=\"row_heading level0 row18\" >dummy</th>\n",
              "      <td id=\"T_dacfa_row18_col0\" class=\"data row18 col0\" >Dummy Regressor</td>\n",
              "      <td id=\"T_dacfa_row18_col1\" class=\"data row18 col1\" >2.3305</td>\n",
              "      <td id=\"T_dacfa_row18_col2\" class=\"data row18 col2\" >7.5724</td>\n",
              "      <td id=\"T_dacfa_row18_col3\" class=\"data row18 col3\" >2.7518</td>\n",
              "      <td id=\"T_dacfa_row18_col4\" class=\"data row18 col4\" >-0.0823</td>\n",
              "      <td id=\"T_dacfa_row18_col5\" class=\"data row18 col5\" >0.0638</td>\n",
              "      <td id=\"T_dacfa_row18_col6\" class=\"data row18 col6\" >0.0557</td>\n",
              "      <td id=\"T_dacfa_row18_col7\" class=\"data row18 col7\" >0.0100</td>\n",
              "    </tr>\n",
              "    <tr>\n",
              "      <th id=\"T_dacfa_level0_row19\" class=\"row_heading level0 row19\" >par</th>\n",
              "      <td id=\"T_dacfa_row19_col0\" class=\"data row19 col0\" >Passive Aggressive Regressor</td>\n",
              "      <td id=\"T_dacfa_row19_col1\" class=\"data row19 col1\" >3.9050</td>\n",
              "      <td id=\"T_dacfa_row19_col2\" class=\"data row19 col2\" >17.6916</td>\n",
              "      <td id=\"T_dacfa_row19_col3\" class=\"data row19 col3\" >4.2061</td>\n",
              "      <td id=\"T_dacfa_row19_col4\" class=\"data row19 col4\" >-1.5285</td>\n",
              "      <td id=\"T_dacfa_row19_col5\" class=\"data row19 col5\" >0.0932</td>\n",
              "      <td id=\"T_dacfa_row19_col6\" class=\"data row19 col6\" >0.0928</td>\n",
              "      <td id=\"T_dacfa_row19_col7\" class=\"data row19 col7\" >0.0200</td>\n",
              "    </tr>\n",
              "  </tbody>\n",
              "</table>\n"
            ]
          },
          "metadata": {}
        },
        {
          "output_type": "display_data",
          "data": {
            "text/plain": [
              "Processing:   0%|          | 0/85 [00:00<?, ?it/s]"
            ],
            "application/vnd.jupyter.widget-view+json": {
              "version_major": 2,
              "version_minor": 0,
              "model_id": "21786952dfa3414f8891efd65e92118a"
            }
          },
          "metadata": {
            "application/vnd.jupyter.widget-view+json": {
              "colab": {
                "custom_widget_manager": {
                  "url": "https://ssl.gstatic.com/colaboratory-static/widgets/colab-cdn-widget-manager/b3e629b1971e1542/manager.min.js"
                }
              }
            }
          }
        },
        {
          "output_type": "display_data",
          "data": {
            "text/plain": [
              "<IPython.core.display.HTML object>"
            ],
            "text/html": []
          },
          "metadata": {}
        }
      ]
    },
    {
      "cell_type": "code",
      "source": [
        "gbr=create_model('gbr',cross_validation = False, return_train_score=True)\n",
        "evaluate_model(gbr)"
      ],
      "metadata": {
        "colab": {
          "base_uri": "https://localhost:8080/",
          "height": 667,
          "referenced_widgets": [
            "76ef4fbf51fc493ea037835a88cf02eb",
            "40ae8c0e544a496183c1152500ffc478",
            "2b50ffb57dc9439390ebbd9f8c5884bb",
            "d7120da756084d5cb41d05d215f0285b",
            "7db9c764e7104f2eb445d4ecff357e82",
            "db39160e81a4405fa92b8a06ab6e620f",
            "1ae291264c6e4eb5af0e25f67662abdf",
            "3d3863104f42407cac39182a19ef6ccd",
            "70b676d08321493e843d47e773b398c5",
            "242a75a609a74f4fa5294480a3914924",
            "5dee681090ef4c8491bb7f077490ac31",
            "91aba554937e4dc9a852527498484d5c",
            "884807ea147e406c8150f97a736f33bb",
            "a25338810c0644a3a5eb9348ff627cee",
            "004a4f9e457049929d19f5e057eb5938",
            "45f8853519ca4b028d603e55b42cea7a",
            "72766f7a7f154399bd426befb1ee1b3e",
            "caee9ddb4736415e889af1fd65ed0c8f"
          ]
        },
        "id": "s_ltXwxjs4IY",
        "outputId": "fa417af9-f962-44b7-f9a1-5ff79e2a4513"
      },
      "execution_count": 7,
      "outputs": [
        {
          "output_type": "display_data",
          "data": {
            "text/plain": [
              "<IPython.core.display.HTML object>"
            ],
            "text/html": []
          },
          "metadata": {}
        },
        {
          "output_type": "display_data",
          "data": {
            "text/plain": [
              "<pandas.io.formats.style.Styler at 0x7d9d3e8738b0>"
            ],
            "text/html": [
              "<style type=\"text/css\">\n",
              "</style>\n",
              "<table id=\"T_6570f\" class=\"dataframe\">\n",
              "  <thead>\n",
              "    <tr>\n",
              "      <th class=\"blank level0\" >&nbsp;</th>\n",
              "      <th id=\"T_6570f_level0_col0\" class=\"col_heading level0 col0\" >MAE</th>\n",
              "      <th id=\"T_6570f_level0_col1\" class=\"col_heading level0 col1\" >MSE</th>\n",
              "      <th id=\"T_6570f_level0_col2\" class=\"col_heading level0 col2\" >RMSE</th>\n",
              "      <th id=\"T_6570f_level0_col3\" class=\"col_heading level0 col3\" >R2</th>\n",
              "      <th id=\"T_6570f_level0_col4\" class=\"col_heading level0 col4\" >RMSLE</th>\n",
              "      <th id=\"T_6570f_level0_col5\" class=\"col_heading level0 col5\" >MAPE</th>\n",
              "    </tr>\n",
              "  </thead>\n",
              "  <tbody>\n",
              "    <tr>\n",
              "      <th id=\"T_6570f_level0_row0\" class=\"row_heading level0 row0\" >Test</th>\n",
              "      <td id=\"T_6570f_row0_col0\" class=\"data row0 col0\" >0.4616</td>\n",
              "      <td id=\"T_6570f_row0_col1\" class=\"data row0 col1\" >0.3933</td>\n",
              "      <td id=\"T_6570f_row0_col2\" class=\"data row0 col2\" >0.6271</td>\n",
              "      <td id=\"T_6570f_row0_col3\" class=\"data row0 col3\" >0.9438</td>\n",
              "      <td id=\"T_6570f_row0_col4\" class=\"data row0 col4\" >0.0135</td>\n",
              "      <td id=\"T_6570f_row0_col5\" class=\"data row0 col5\" >0.0105</td>\n",
              "    </tr>\n",
              "    <tr>\n",
              "      <th id=\"T_6570f_level0_row1\" class=\"row_heading level0 row1\" >Train</th>\n",
              "      <td id=\"T_6570f_row1_col0\" class=\"data row1 col0\" >0.1081</td>\n",
              "      <td id=\"T_6570f_row1_col1\" class=\"data row1 col1\" >0.0166</td>\n",
              "      <td id=\"T_6570f_row1_col2\" class=\"data row1 col2\" >0.1289</td>\n",
              "      <td id=\"T_6570f_row1_col3\" class=\"data row1 col3\" >0.9968</td>\n",
              "      <td id=\"T_6570f_row1_col4\" class=\"data row1 col4\" >0.0029</td>\n",
              "      <td id=\"T_6570f_row1_col5\" class=\"data row1 col5\" >0.0025</td>\n",
              "    </tr>\n",
              "  </tbody>\n",
              "</table>\n"
            ]
          },
          "metadata": {}
        },
        {
          "output_type": "display_data",
          "data": {
            "text/plain": [
              "Processing:   0%|          | 0/4 [00:00<?, ?it/s]"
            ],
            "application/vnd.jupyter.widget-view+json": {
              "version_major": 2,
              "version_minor": 0,
              "model_id": "76ef4fbf51fc493ea037835a88cf02eb"
            }
          },
          "metadata": {
            "application/vnd.jupyter.widget-view+json": {
              "colab": {
                "custom_widget_manager": {
                  "url": "https://ssl.gstatic.com/colaboratory-static/widgets/colab-cdn-widget-manager/b3e629b1971e1542/manager.min.js"
                }
              }
            }
          }
        },
        {
          "output_type": "display_data",
          "data": {
            "text/plain": [
              "<IPython.core.display.HTML object>"
            ],
            "text/html": []
          },
          "metadata": {}
        },
        {
          "output_type": "display_data",
          "data": {
            "text/plain": [
              "interactive(children=(ToggleButtons(description='Plot Type:', icons=('',), options=(('Pipeline Plot', 'pipelin…"
            ],
            "application/vnd.jupyter.widget-view+json": {
              "version_major": 2,
              "version_minor": 0,
              "model_id": "45f8853519ca4b028d603e55b42cea7a"
            }
          },
          "metadata": {
            "application/vnd.jupyter.widget-view+json": {
              "colab": {
                "custom_widget_manager": {
                  "url": "https://ssl.gstatic.com/colaboratory-static/widgets/colab-cdn-widget-manager/b3e629b1971e1542/manager.min.js"
                }
              }
            }
          }
        }
      ]
    },
    {
      "cell_type": "code",
      "source": [
        "rf=create_model('rf',cross_validation = False, return_train_score=True)\n",
        "evaluate_model(rf)"
      ],
      "metadata": {
        "colab": {
          "base_uri": "https://localhost:8080/",
          "height": 667,
          "referenced_widgets": [
            "7029b14fa01a404ab3e73120282bbd79",
            "975ecd27263440ddb5ccf16050c213d3",
            "318c8f2732d94ed596ab70468b04d110",
            "f0c2202146a74a6fa30a9f7be004a09e",
            "6e85b0c07061411cb02739d623262abd",
            "f6c4eb794bc844508f0f62f0982c63bf",
            "7a7bb61e11444450af9d1ba46e197c77",
            "51db5bd202734ae4917f2601a0d34fed",
            "eff5ce85ab18432f8b771868b1dcd640",
            "580ff54ae8414f029c5c2233cd490b2f",
            "20e6ddb077f24144a5f2ced26e7fce3c",
            "3e0b551644db4afc8e967b9436b0c472",
            "cfde103782b04f8fa707e727fdbe866e",
            "b0384126df074b10a5ae1672d8cd61ca",
            "18d615b17d3a45d6b1a4229ca85d2fe5",
            "9d2036ea5f824c64bf5fbda0a9cc7da3",
            "b71442c0ea29487c85aa943a9aca3774",
            "b1edace308a7446bb5ed5bd293189dd9"
          ]
        },
        "id": "F23Tzu25wUqr",
        "outputId": "ca183e65-dccf-469c-d7b1-55f6d1742d2b"
      },
      "execution_count": 10,
      "outputs": [
        {
          "output_type": "display_data",
          "data": {
            "text/plain": [
              "<IPython.core.display.HTML object>"
            ],
            "text/html": []
          },
          "metadata": {}
        },
        {
          "output_type": "display_data",
          "data": {
            "text/plain": [
              "<pandas.io.formats.style.Styler at 0x7d9d60d33d90>"
            ],
            "text/html": [
              "<style type=\"text/css\">\n",
              "</style>\n",
              "<table id=\"T_fe693\" class=\"dataframe\">\n",
              "  <thead>\n",
              "    <tr>\n",
              "      <th class=\"blank level0\" >&nbsp;</th>\n",
              "      <th id=\"T_fe693_level0_col0\" class=\"col_heading level0 col0\" >MAE</th>\n",
              "      <th id=\"T_fe693_level0_col1\" class=\"col_heading level0 col1\" >MSE</th>\n",
              "      <th id=\"T_fe693_level0_col2\" class=\"col_heading level0 col2\" >RMSE</th>\n",
              "      <th id=\"T_fe693_level0_col3\" class=\"col_heading level0 col3\" >R2</th>\n",
              "      <th id=\"T_fe693_level0_col4\" class=\"col_heading level0 col4\" >RMSLE</th>\n",
              "      <th id=\"T_fe693_level0_col5\" class=\"col_heading level0 col5\" >MAPE</th>\n",
              "    </tr>\n",
              "  </thead>\n",
              "  <tbody>\n",
              "    <tr>\n",
              "      <th id=\"T_fe693_level0_row0\" class=\"row_heading level0 row0\" >Test</th>\n",
              "      <td id=\"T_fe693_row0_col0\" class=\"data row0 col0\" >1.0631</td>\n",
              "      <td id=\"T_fe693_row0_col1\" class=\"data row0 col1\" >1.3843</td>\n",
              "      <td id=\"T_fe693_row0_col2\" class=\"data row0 col2\" >1.1765</td>\n",
              "      <td id=\"T_fe693_row0_col3\" class=\"data row0 col3\" >0.8022</td>\n",
              "      <td id=\"T_fe693_row0_col4\" class=\"data row0 col4\" >0.0277</td>\n",
              "      <td id=\"T_fe693_row0_col5\" class=\"data row0 col5\" >0.0254</td>\n",
              "    </tr>\n",
              "    <tr>\n",
              "      <th id=\"T_fe693_level0_row1\" class=\"row_heading level0 row1\" >Train</th>\n",
              "      <td id=\"T_fe693_row1_col0\" class=\"data row1 col0\" >0.7019</td>\n",
              "      <td id=\"T_fe693_row1_col1\" class=\"data row1 col1\" >0.7853</td>\n",
              "      <td id=\"T_fe693_row1_col2\" class=\"data row1 col2\" >0.8862</td>\n",
              "      <td id=\"T_fe693_row1_col3\" class=\"data row1 col3\" >0.8486</td>\n",
              "      <td id=\"T_fe693_row1_col4\" class=\"data row1 col4\" >0.0203</td>\n",
              "      <td id=\"T_fe693_row1_col5\" class=\"data row1 col5\" >0.0163</td>\n",
              "    </tr>\n",
              "  </tbody>\n",
              "</table>\n"
            ]
          },
          "metadata": {}
        },
        {
          "output_type": "display_data",
          "data": {
            "text/plain": [
              "Processing:   0%|          | 0/4 [00:00<?, ?it/s]"
            ],
            "application/vnd.jupyter.widget-view+json": {
              "version_major": 2,
              "version_minor": 0,
              "model_id": "7029b14fa01a404ab3e73120282bbd79"
            }
          },
          "metadata": {
            "application/vnd.jupyter.widget-view+json": {
              "colab": {
                "custom_widget_manager": {
                  "url": "https://ssl.gstatic.com/colaboratory-static/widgets/colab-cdn-widget-manager/b3e629b1971e1542/manager.min.js"
                }
              }
            }
          }
        },
        {
          "output_type": "display_data",
          "data": {
            "text/plain": [
              "<IPython.core.display.HTML object>"
            ],
            "text/html": []
          },
          "metadata": {}
        },
        {
          "output_type": "display_data",
          "data": {
            "text/plain": [
              "interactive(children=(ToggleButtons(description='Plot Type:', icons=('',), options=(('Pipeline Plot', 'pipelin…"
            ],
            "application/vnd.jupyter.widget-view+json": {
              "version_major": 2,
              "version_minor": 0,
              "model_id": "9d2036ea5f824c64bf5fbda0a9cc7da3"
            }
          },
          "metadata": {
            "application/vnd.jupyter.widget-view+json": {
              "colab": {
                "custom_widget_manager": {
                  "url": "https://ssl.gstatic.com/colaboratory-static/widgets/colab-cdn-widget-manager/b3e629b1971e1542/manager.min.js"
                }
              }
            }
          }
        }
      ]
    },
    {
      "cell_type": "markdown",
      "source": [
        "#regression result"
      ],
      "metadata": {
        "id": "Hrzvoun6EuIC"
      }
    },
    {
      "cell_type": "code",
      "source": [
        "data.columns"
      ],
      "metadata": {
        "colab": {
          "base_uri": "https://localhost:8080/"
        },
        "id": "I8UWr4RzE4Jz",
        "outputId": "cd7d2141-1d70-4388-8f5f-51fa780be6b7"
      },
      "execution_count": 16,
      "outputs": [
        {
          "output_type": "execute_result",
          "data": {
            "text/plain": [
              "Index(['DROP', 'Isc', 'FF', 'PL_amplitude_peak1', 'PL_amplitude_peak2',\n",
              "       'PL_fwhm_peak1', 'PL_fwhm_peak2', 'PL_peak_positions_peak1',\n",
              "       'PL_peak_positions_peak2', 'PL_relative_amplitude_peak1',\n",
              "       'PL_relative_amplitude_peak2'],\n",
              "      dtype='object')"
            ]
          },
          "metadata": {},
          "execution_count": 16
        }
      ]
    },
    {
      "cell_type": "code",
      "source": [
        "x=data.drop(['Isc','FF'], axis=1)\n",
        "y=data[['FF']]"
      ],
      "metadata": {
        "id": "ATVdrJoUEwfi"
      },
      "execution_count": 35,
      "outputs": []
    },
    {
      "cell_type": "code",
      "source": [
        "X_train, X_test, y_train, y_test = split_and_scale_data(x, y, test_size=0.2, random_state=78)"
      ],
      "metadata": {
        "id": "h01lI4RYFF9h"
      },
      "execution_count": 36,
      "outputs": []
    },
    {
      "cell_type": "code",
      "source": [
        "param_grid = {\n",
        "    'n_estimators': [100, 200, 300],\n",
        "    'max_depth': [None, 5, 10],\n",
        "    'min_samples_split': [2, 5, 10],\n",
        "    'min_samples_leaf': [1, 2, 4]\n",
        "}\n",
        "\n",
        "model = RandomForestRegressor(random_state=42)\n",
        "\n",
        "grid_search = GridSearchCV(model, param_grid, cv=5, scoring='neg_mean_squared_error')\n",
        "grid_search.fit(X_train, np.ravel(y_train))\n",
        "best_model = grid_search.best_estimator_\n",
        "\n",
        "y_pred = best_model.predict(X_test)\n",
        "mse = mean_squared_error(y_test, y_pred)\n",
        "rmse = np.sqrt(mse)\n",
        "mae = mean_absolute_error(y_test, y_pred)\n",
        "r2 = r2_score(y_test, y_pred)\n",
        "\n",
        "y_pred_train = best_model.predict(X_train)\n",
        "r2_train = r2_score(y_train, y_pred_train)\n",
        "\n",
        "# Get feature importances\n",
        "feature_importances = best_model.feature_importances_\n",
        "feature_names = x.columns\n",
        "\n",
        "# Permutation importance\n",
        "perm_importance = permutation_importance(best_model, X_test, y_test)\n",
        "\n",
        "importance_df = pd.DataFrame({'Feature': feature_names, 'Importance': feature_importances})\n",
        "importance_df = importance_df.sort_values('Importance', ascending=False)\n",
        "\n",
        "# Sort permutation importance by feature importance\n",
        "sorted_indices = importance_df.index.values\n",
        "perm_importance_df = pd.DataFrame({'Feature': x.columns, 'Importance': perm_importance['importances_mean']})\n",
        "perm_importance_df = perm_importance_df.reindex(sorted_indices)\n",
        "\n",
        "evaluation_metrics = {\n",
        "    'R-squared Score (Test)': r2,\n",
        "    'R-squared Score (Train)': r2_train,\n",
        "    'Best Hyperparameters': grid_search.best_params_,\n",
        "    'Mean Absolute Error': mae,\n",
        "    'Mean Squared Error': mse,\n",
        "    'RMSE': rmse\n",
        "}\n",
        "\n",
        "print(\"Feature Importance:\")\n",
        "print(importance_df)\n",
        "print(\"\\nPermutation Importance:\")\n",
        "print(perm_importance_df)\n",
        "print(\"\\nEvaluation Metrics:\")\n",
        "print(pd.Series(evaluation_metrics))"
      ],
      "metadata": {
        "colab": {
          "base_uri": "https://localhost:8080/"
        },
        "id": "JOhGc-AUFILO",
        "outputId": "c5593266-9d29-43e5-f8e4-585bfb4810aa"
      },
      "execution_count": 37,
      "outputs": [
        {
          "output_type": "stream",
          "name": "stdout",
          "text": [
            "Feature Importance:\n",
            "                       Feature  Importance\n",
            "0                         DROP    0.418024\n",
            "6      PL_peak_positions_peak2    0.345673\n",
            "3                PL_fwhm_peak1    0.057146\n",
            "1           PL_amplitude_peak1    0.049538\n",
            "2           PL_amplitude_peak2    0.035305\n",
            "4                PL_fwhm_peak2    0.028545\n",
            "7  PL_relative_amplitude_peak1    0.028202\n",
            "5      PL_peak_positions_peak1    0.026466\n",
            "8  PL_relative_amplitude_peak2    0.011101\n",
            "\n",
            "Permutation Importance:\n",
            "                       Feature  Importance\n",
            "0                         DROP    0.700287\n",
            "6      PL_peak_positions_peak2    1.690871\n",
            "3                PL_fwhm_peak1    0.041976\n",
            "1           PL_amplitude_peak1    0.017668\n",
            "2           PL_amplitude_peak2    0.004429\n",
            "4                PL_fwhm_peak2    0.000529\n",
            "7  PL_relative_amplitude_peak1    0.006930\n",
            "5      PL_peak_positions_peak1    0.009171\n",
            "8  PL_relative_amplitude_peak2   -0.000879\n",
            "\n",
            "Evaluation Metrics:\n",
            "R-squared Score (Test)                                              0.826947\n",
            "R-squared Score (Train)                                             0.885484\n",
            "Best Hyperparameters       {'max_depth': None, 'min_samples_leaf': 1, 'mi...\n",
            "Mean Absolute Error                                                 0.640272\n",
            "Mean Squared Error                                                  0.529052\n",
            "RMSE                                                                 0.72736\n",
            "dtype: object\n"
          ]
        }
      ]
    },
    {
      "cell_type": "code",
      "source": [
        "feature_importances = importance_df['Importance'].values\n",
        "feature_names = importance_df['Feature'].values\n",
        "sorted_indices = np.argsort(feature_importances)[::-1]\n",
        "sorted_feature_importances = feature_importances[sorted_indices]\n",
        "sorted_feature_names = feature_names[sorted_indices]\n",
        "plt.figure(figsize=(10, 8))\n",
        "plt.barh(range(len(sorted_feature_importances)), sorted_feature_importances, align='center')\n",
        "plt.yticks(range(len(sorted_feature_importances)), sorted_feature_names)\n",
        "plt.xlabel('Importance')\n",
        "plt.ylabel('Feature')\n",
        "plt.title('Feature Importance')\n",
        "plt.show()"
      ],
      "metadata": {
        "colab": {
          "base_uri": "https://localhost:8080/",
          "height": 716
        },
        "id": "cLWi0Zs5Gs_x",
        "outputId": "fc2b3044-db6c-432d-fba1-edf2dc64672d"
      },
      "execution_count": 38,
      "outputs": [
        {
          "output_type": "display_data",
          "data": {
            "text/plain": [
              "<Figure size 1000x800 with 1 Axes>"
            ],
            "image/png": "[encoded data removed]"
          },
          "metadata": {}
        }
      ]
    }
  ]
}