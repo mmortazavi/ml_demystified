{
 "cells": [
  {
   "cell_type": "code",
   "execution_count": 185,
   "id": "097f688d",
   "metadata": {},
   "outputs": [],
   "source": [
    "import pandas as pd\n",
    "import numpy as np\n",
    "import matplotlib.pyplot as plt\n",
    "import seaborn as sns"
   ]
  },
  {
   "cell_type": "code",
   "execution_count": 188,
   "id": "23730590",
   "metadata": {},
   "outputs": [],
   "source": [
    "import scipy"
   ]
  },
  {
   "cell_type": "code",
   "execution_count": 186,
   "id": "be3f8828",
   "metadata": {},
   "outputs": [],
   "source": [
    "from heapq import nsmallest"
   ]
  },
  {
   "cell_type": "code",
   "execution_count": 187,
   "id": "0f286019",
   "metadata": {},
   "outputs": [],
   "source": [
    "from scipy import optimize, signal\n",
    "from scipy.signal import find_peaks\n",
    "from scipy.optimize import curve_fit\n",
    "\n",
    "from lmfit import models"
   ]
  },
  {
   "cell_type": "code",
   "execution_count": 111,
   "id": "1c0a8f9e",
   "metadata": {},
   "outputs": [],
   "source": [
    "from scipy.optimize import leastsq"
   ]
  },
  {
   "cell_type": "code",
   "execution_count": 165,
   "id": "a8f4c6d6",
   "metadata": {},
   "outputs": [],
   "source": [
    "from lmfit.models import ExponentialModel, GaussianModel"
   ]
  },
  {
   "cell_type": "code",
   "execution_count": 202,
   "id": "d9633742",
   "metadata": {},
   "outputs": [],
   "source": [
    "import lumispy\n"
   ]
  },
  {
   "cell_type": "code",
   "execution_count": null,
   "id": "2057b2af",
   "metadata": {},
   "outputs": [],
   "source": [
    "from pyphotonics.photoluminescence import Photoluminescence"
   ]
  },
  {
   "cell_type": "code",
   "execution_count": 112,
   "id": "a9da4a11",
   "metadata": {},
   "outputs": [],
   "source": [
    "# from specutils import Spectrum1D, SpectralRegion"
   ]
  },
  {
   "cell_type": "code",
   "execution_count": 113,
   "id": "32ed41d1",
   "metadata": {},
   "outputs": [],
   "source": [
    "pl= pd.read_excel(r'C:\\Users\\Asus\\Desktop\\solar_cell\\Paper 1\\pl.xlsx')"
   ]
  },
  {
   "cell_type": "code",
   "execution_count": 114,
   "id": "5a11f01f",
   "metadata": {},
   "outputs": [],
   "source": [
    "pl.dropna(axis=1, how='all',inplace=True)"
   ]
  },
  {
   "cell_type": "code",
   "execution_count": 115,
   "id": "0f99f77f",
   "metadata": {},
   "outputs": [],
   "source": [
    "pl.dropna(axis=0, how='any',inplace=True)"
   ]
  },
  {
   "cell_type": "code",
   "execution_count": 116,
   "id": "77cad6f9",
   "metadata": {},
   "outputs": [],
   "source": [
    "pl=pl.copy().rename(columns={'Unnamed: 0': 'wavelength'})"
   ]
  },
  {
   "cell_type": "code",
   "execution_count": 117,
   "id": "003626fe",
   "metadata": {},
   "outputs": [
    {
     "data": {
      "text/html": [
       "<div>\n",
       "<style scoped>\n",
       "    .dataframe tbody tr th:only-of-type {\n",
       "        vertical-align: middle;\n",
       "    }\n",
       "\n",
       "    .dataframe tbody tr th {\n",
       "        vertical-align: top;\n",
       "    }\n",
       "\n",
       "    .dataframe thead th {\n",
       "        text-align: right;\n",
       "    }\n",
       "</style>\n",
       "<table border=\"1\" class=\"dataframe\">\n",
       "  <thead>\n",
       "    <tr style=\"text-align: right;\">\n",
       "      <th></th>\n",
       "      <th>wavelength</th>\n",
       "      <th>Sample #1</th>\n",
       "      <th>Sample #2</th>\n",
       "      <th>Sample #3</th>\n",
       "      <th>Sample #4</th>\n",
       "      <th>Sample #5</th>\n",
       "    </tr>\n",
       "  </thead>\n",
       "  <tbody>\n",
       "    <tr>\n",
       "      <th>0</th>\n",
       "      <td>351.0</td>\n",
       "      <td>8.362423</td>\n",
       "      <td>8.322040</td>\n",
       "      <td>5.846693</td>\n",
       "      <td>4.614909</td>\n",
       "      <td>9.212210</td>\n",
       "    </tr>\n",
       "    <tr>\n",
       "      <th>1</th>\n",
       "      <td>351.5</td>\n",
       "      <td>8.367572</td>\n",
       "      <td>8.322989</td>\n",
       "      <td>5.878439</td>\n",
       "      <td>4.651046</td>\n",
       "      <td>9.213130</td>\n",
       "    </tr>\n",
       "    <tr>\n",
       "      <th>2</th>\n",
       "      <td>352.0</td>\n",
       "      <td>8.357429</td>\n",
       "      <td>8.328711</td>\n",
       "      <td>5.880992</td>\n",
       "      <td>4.667770</td>\n",
       "      <td>9.182086</td>\n",
       "    </tr>\n",
       "    <tr>\n",
       "      <th>3</th>\n",
       "      <td>352.5</td>\n",
       "      <td>8.319901</td>\n",
       "      <td>8.334703</td>\n",
       "      <td>5.875514</td>\n",
       "      <td>4.699085</td>\n",
       "      <td>9.158171</td>\n",
       "    </tr>\n",
       "    <tr>\n",
       "      <th>4</th>\n",
       "      <td>353.0</td>\n",
       "      <td>8.285076</td>\n",
       "      <td>8.350400</td>\n",
       "      <td>5.862088</td>\n",
       "      <td>4.751971</td>\n",
       "      <td>9.134147</td>\n",
       "    </tr>\n",
       "    <tr>\n",
       "      <th>...</th>\n",
       "      <td>...</td>\n",
       "      <td>...</td>\n",
       "      <td>...</td>\n",
       "      <td>...</td>\n",
       "      <td>...</td>\n",
       "      <td>...</td>\n",
       "    </tr>\n",
       "    <tr>\n",
       "      <th>533</th>\n",
       "      <td>617.5</td>\n",
       "      <td>6.476886</td>\n",
       "      <td>6.660176</td>\n",
       "      <td>5.873828</td>\n",
       "      <td>2.764193</td>\n",
       "      <td>8.550463</td>\n",
       "    </tr>\n",
       "    <tr>\n",
       "      <th>534</th>\n",
       "      <td>618.0</td>\n",
       "      <td>6.431819</td>\n",
       "      <td>6.648390</td>\n",
       "      <td>5.863926</td>\n",
       "      <td>2.756905</td>\n",
       "      <td>8.530504</td>\n",
       "    </tr>\n",
       "    <tr>\n",
       "      <th>535</th>\n",
       "      <td>618.5</td>\n",
       "      <td>6.391367</td>\n",
       "      <td>6.639472</td>\n",
       "      <td>5.850224</td>\n",
       "      <td>2.746599</td>\n",
       "      <td>8.523877</td>\n",
       "    </tr>\n",
       "    <tr>\n",
       "      <th>536</th>\n",
       "      <td>619.0</td>\n",
       "      <td>6.366954</td>\n",
       "      <td>6.637024</td>\n",
       "      <td>5.828432</td>\n",
       "      <td>2.739335</td>\n",
       "      <td>8.525598</td>\n",
       "    </tr>\n",
       "    <tr>\n",
       "      <th>537</th>\n",
       "      <td>619.5</td>\n",
       "      <td>6.371041</td>\n",
       "      <td>6.626886</td>\n",
       "      <td>5.797905</td>\n",
       "      <td>2.735643</td>\n",
       "      <td>8.513773</td>\n",
       "    </tr>\n",
       "  </tbody>\n",
       "</table>\n",
       "<p>538 rows × 6 columns</p>\n",
       "</div>"
      ],
      "text/plain": [
       "     wavelength  Sample #1  Sample #2  Sample #3  Sample #4  Sample #5\n",
       "0         351.0   8.362423   8.322040   5.846693   4.614909   9.212210\n",
       "1         351.5   8.367572   8.322989   5.878439   4.651046   9.213130\n",
       "2         352.0   8.357429   8.328711   5.880992   4.667770   9.182086\n",
       "3         352.5   8.319901   8.334703   5.875514   4.699085   9.158171\n",
       "4         353.0   8.285076   8.350400   5.862088   4.751971   9.134147\n",
       "..          ...        ...        ...        ...        ...        ...\n",
       "533       617.5   6.476886   6.660176   5.873828   2.764193   8.550463\n",
       "534       618.0   6.431819   6.648390   5.863926   2.756905   8.530504\n",
       "535       618.5   6.391367   6.639472   5.850224   2.746599   8.523877\n",
       "536       619.0   6.366954   6.637024   5.828432   2.739335   8.525598\n",
       "537       619.5   6.371041   6.626886   5.797905   2.735643   8.513773\n",
       "\n",
       "[538 rows x 6 columns]"
      ]
     },
     "execution_count": 117,
     "metadata": {},
     "output_type": "execute_result"
    }
   ],
   "source": [
    "pl"
   ]
  },
  {
   "cell_type": "code",
   "execution_count": 118,
   "id": "07a2bf63",
   "metadata": {},
   "outputs": [],
   "source": [
    "#excitation wavelenght = 325nm "
   ]
  },
  {
   "cell_type": "code",
   "execution_count": 192,
   "id": "f53db506",
   "metadata": {},
   "outputs": [],
   "source": [
    "#x\n",
    "x=(((pl.iloc[:,0:1]).to_numpy()).flatten())"
   ]
  },
  {
   "cell_type": "code",
   "execution_count": 193,
   "id": "9ea2d8a3",
   "metadata": {},
   "outputs": [],
   "source": [
    "#sample1\n",
    "y1=(((pl.iloc[:,1:2]).to_numpy()).flatten())\n",
    "#sample2\n",
    "y2=(((pl.iloc[:,2:3]).to_numpy()).flatten())\n",
    "#sample3\n",
    "y3=(((pl.iloc[:,3:4]).to_numpy()).flatten())\n",
    "#sample4\n",
    "y4=(((pl.iloc[:,4:5]).to_numpy()).flatten())\n",
    "#sample5\n",
    "y5=(((pl.iloc[:,5:6]).to_numpy()).flatten())"
   ]
  },
  {
   "cell_type": "markdown",
   "id": "3590eba8",
   "metadata": {},
   "source": [
    "# fwhm"
   ]
  },
  {
   "cell_type": "code",
   "execution_count": null,
   "id": "a7bf5846",
   "metadata": {},
   "outputs": [],
   "source": [
    "#draft"
   ]
  },
  {
   "cell_type": "code",
   "execution_count": 121,
   "id": "ebeda5b6",
   "metadata": {},
   "outputs": [],
   "source": [
    "def lorentzian( x, x0, a, gam ):\n",
    "    return a * gam**2 / ( gam**2 + ( x - x0 )**2 )\n",
    "\n",
    "def multi_lorentz( x, params ):\n",
    "    off = params[0]\n",
    "    paramsRest = params[1:]\n",
    "    assert not ( len( paramsRest ) % 3 )\n",
    "    return off + sum( [ lorentzian( x, *paramsRest[ i : i+3 ] ) for i in range( 0, len( paramsRest ), 3 ) ] )\n",
    "\n",
    "def res_multi_lorentz( params, xData, yData ):\n",
    "    diff = [ multi_lorentz( x, params ) - y for x, y in zip( xData, yData ) ]\n",
    "    return diff"
   ]
  },
  {
   "cell_type": "code",
   "execution_count": 122,
   "id": "0db535ac",
   "metadata": {},
   "outputs": [],
   "source": [
    "def cFWHM(x,y):\n",
    "    \"\"\" returns coarse full width at half maximum, and the two\n",
    "        xcoordinates of the first and last values above the half maximum \"\"\"\n",
    "    where, = np.where(y >= y.max()/2.)\n",
    "    maxi = x[where[-1]]\n",
    "    mini = x[where[0]]\n",
    "    return maxi-mini, mini, maxi"
   ]
  },
  {
   "cell_type": "code",
   "execution_count": 123,
   "id": "55ac68d4",
   "metadata": {},
   "outputs": [],
   "source": [
    "def fFWHM(x,y):\n",
    "    \"\"\" returns interpolated full width at half maximum, and the two\n",
    "        xcoordinates at the (interpolated) half maximum \"\"\"\n",
    "    def find_roots(x,y):\n",
    "        s = np.abs(np.diff(np.sign(y))).astype(bool)\n",
    "        return x[:-1][s] + np.diff(x)[s]/(np.abs(y[1:][s]/y[:-1][s])+1)\n",
    "\n",
    "    z = find_roots(x,y-y.max()/2)\n",
    "    return z.max()-z.min(), z.min(), z.max()"
   ]
  },
  {
   "cell_type": "code",
   "execution_count": 124,
   "id": "29a7d646",
   "metadata": {},
   "outputs": [],
   "source": [
    "def fwhm(y_values_temp, x_values):\n",
    "    y_values, temp_l, temp_r = [], [], []\n",
    "\n",
    "    # To make 'y_values_temp', a numpy array, into a python list\n",
    "    for x in range(0,len(y_values_temp)):\n",
    "        y_values.append(y_values_temp[x])\n",
    "    peak_height = max(y_values)\n",
    "    half_peak_height = max(y_values)/2\n",
    "    \n",
    "    # Splitting the y_values data into before and after x_value at peak height\n",
    "    y_l_temp = y_values[0:y_values.index(peak_height)]\n",
    "    y_r_temp = y_values[y_values.index(peak_height):len(y_values)]\n",
    "    \n",
    "    # Finds 1st closest value to half_peak_height in y_l and y_r\n",
    "    y_l = nsmallest(1, y_l_temp, key=lambda x: abs(x-half_peak_height))\n",
    "    y_r = nsmallest(1, y_r_temp, key=lambda x: abs(x-half_peak_height))\n",
    "    \n",
    "    # Gets x_value pairs for y_l and y_r\n",
    "    temp_l.append(x_values[y_l.index(y_l[0])])\n",
    "    temp_r.append(x_values[y_r.index(y_r[0]) + len(y_l) -1])\n",
    "    fwhm_n = temp_l[0] - temp_r[0]\n",
    "    return abs(fwhm_n)"
   ]
  },
  {
   "cell_type": "code",
   "execution_count": 125,
   "id": "e4f88a37",
   "metadata": {},
   "outputs": [
    {
     "name": "stdout",
     "output_type": "stream",
     "text": [
      "FWHM:143.234\n"
     ]
    }
   ],
   "source": [
    "from matplotlib import pyplot as mp\n",
    "import numpy as np\n",
    "\n",
    "def peak(x, c):\n",
    "    return np.exp(-np.power(x - c, 2) / 16.0)\n",
    "\n",
    "def lin_interp(x, y, i, half):\n",
    "    return x[i] + (x[i+1] - x[i]) * ((half - y[i]) / (y[i+1] - y[i]))\n",
    "\n",
    "def half_max_x(x, y):\n",
    "    half = max(y)/2.0\n",
    "    signs = np.sign(np.add(y, -half))\n",
    "    zero_crossings = (signs[0:-2] != signs[1:-1])\n",
    "    zero_crossings_i = np.where(zero_crossings)[0]\n",
    "    return [lin_interp(x, y, zero_crossings_i[0], half),\n",
    "            lin_interp(x, y, zero_crossings_i[1], half)]\n",
    "\n",
    "\n",
    "# find the two crossing points\n",
    "hmx = half_max_x(x,y4)\n",
    "\n",
    "# print the answer\n",
    "fwhm = hmx[1] - hmx[0]\n",
    "print(\"FWHM:{:.3f}\".format(fwhm))"
   ]
  },
  {
   "cell_type": "code",
   "execution_count": 126,
   "id": "ed343543",
   "metadata": {},
   "outputs": [],
   "source": [
    "# # Example data\n",
    "# arr_x = np.linspace(norm.ppf(0.00001), norm.ppf(0.99999), 10000)\n",
    "# arr_y = norm.pdf(arr_x)\n",
    "\n",
    "# Effective code\n",
    "\n",
    "def fwhm (arr_x,arr_y):\n",
    "    \n",
    "    difference = max(arr_y) - min(arr_y)\n",
    "    HM = difference / 2\n",
    "\n",
    "    pos_extremum = arr_y.argmax()  # or in your case: arr_y.argmin()\n",
    "\n",
    "    nearest_above = (np.abs(arr_y[pos_extremum:-1] - HM)).argmin()\n",
    "    nearest_below = (np   .abs(arr_y[0:pos_extremum] - HM)).argmin()\n",
    "  \n",
    "    FWHM = (np.mean(arr_x[nearest_above + pos_extremum]) - np.mean(arr_x[nearest_below]))\n",
    "    \n",
    "    return (FWHM)"
   ]
  },
  {
   "cell_type": "markdown",
   "id": "c4187d0b",
   "metadata": {},
   "source": [
    "# sample1"
   ]
  },
  {
   "cell_type": "code",
   "execution_count": 208,
   "id": "588d84b3",
   "metadata": {},
   "outputs": [
    {
     "data": {
      "text/plain": [
       "(array([ 34.69669946,  18.44419231, 183.46932857,   6.46958954,\n",
       "          7.59972764,   5.50700929]),\n",
       " array([30.814104, 23.994625, 48.319876, 46.751002, 46.346889,  6.606656]))"
      ]
     },
     "execution_count": 208,
     "metadata": {},
     "output_type": "execute_result"
    }
   ],
   "source": [
    "#find peak properties (peak position, amplitude, full width half maximum ) to use as initial guesses for \n",
    "#          the curve_fit function. \n",
    "pk1, properties1 = find_peaks(y1 , height=.05, width = 3 ) \n",
    "#pk returns peaks position  \n",
    "# properties returns other properties associated with the peaks\n",
    "\n",
    "I1 = properties1 ['peak_heights'] #amplitude\n",
    "fwhm1 = (properties1['widths']) #full width half maximum \n",
    "\n",
    "fwhm1,I1"
   ]
  },
  {
   "cell_type": "code",
   "execution_count": 218,
   "id": "a77f357c",
   "metadata": {},
   "outputs": [
    {
     "data": {
      "text/plain": [
       "{'peak_heights': array([30.814104, 23.994625, 48.319876, 46.751002, 46.346889,  6.606656]),\n",
       " 'prominences': array([ 9.020978,  1.65855 , 40.093582,  0.294115,  0.46859 ,  0.093805]),\n",
       " 'left_bases': array([  7, 115,   7, 281, 297, 519], dtype=int64),\n",
       " 'right_bases': array([151, 151, 536, 536, 536, 536], dtype=int64),\n",
       " 'widths': array([ 34.69669946,  18.44419231, 183.46932857,   6.46958954,\n",
       "          7.59972764,   5.50700929]),\n",
       " 'width_heights': array([26.303615 , 23.16535  , 28.273085 , 46.6039445, 46.112594 ,\n",
       "         6.5597535]),\n",
       " 'left_ips': array([ 50.61114678, 122.33964723, 185.21896831, 283.677126  ,\n",
       "        301.87297218, 525.17742458]),\n",
       " 'right_ips': array([ 85.30784624, 140.78383954, 368.68829688, 290.14671554,\n",
       "        309.47269982, 530.68443387])}"
      ]
     },
     "execution_count": 218,
     "metadata": {},
     "output_type": "execute_result"
    }
   ],
   "source": [
    "pk, properties = find_peaks( y1, height = .05, width = 3 )\n",
    "#extract peak heights and fwhm \n",
    "I = properties [ 'peak_heights' ]\n",
    "fwhm = properties[ 'widths' ]\n",
    "properties1"
   ]
  },
  {
   "cell_type": "code",
   "execution_count": null,
   "id": "af46e027",
   "metadata": {},
   "outputs": [],
   "source": []
  },
  {
   "cell_type": "code",
   "execution_count": 221,
   "id": "9a3dfaa3",
   "metadata": {},
   "outputs": [
    {
     "data": {
      "text/plain": [
       "array([  0.        ,  63.        ,  34.69669946, 130.        ,\n",
       "        18.44419231, 264.        , 183.46932857, 287.        ,\n",
       "         6.46958954, 306.        ,   7.59972764, 528.        ,\n",
       "         5.50700929])"
      ]
     },
     "execution_count": 221,
     "metadata": {},
     "output_type": "execute_result"
    }
   ],
   "source": [
    "guess = [0]\n",
    "for i in range( len( pk ) ): \n",
    "    guess.append( pk[i] )\n",
    "#     guess.append( I[i] )\n",
    "    guess.append( fwhm[i] ) \n",
    "guess=np.array( guess )\n",
    "guess"
   ]
  },
  {
   "cell_type": "code",
   "execution_count": 212,
   "id": "8cae9a28",
   "metadata": {},
   "outputs": [
    {
     "data": {
      "image/png": "[encoded data removed]",
      "text/plain": [
       "<Figure size 1440x720 with 1 Axes>"
      ]
     },
     "metadata": {
      "needs_background": "light"
     },
     "output_type": "display_data"
    }
   ],
   "source": [
    "fig= plt.figure( figsize=( 20, 10 ) )\n",
    "\n",
    "ax= fig.add_subplot( 2, 1, 1 )\n",
    "# ax.plot( pk, yData[pk], 'o', ms=5 )\n",
    "ax.plot( x, y1, 'ok', ms=1 )\n",
    "# ax.plot( xData, testData , 'r--', lw=1.5 )\n",
    "plt.show()"
   ]
  },
  {
   "cell_type": "code",
   "execution_count": null,
   "id": "f8d320e1",
   "metadata": {},
   "outputs": [],
   "source": [
    "shape"
   ]
  },
  {
   "cell_type": "code",
   "execution_count": null,
   "id": "56060a0a",
   "metadata": {},
   "outputs": [],
   "source": [
    "x =x\n",
    "y =y1\n",
    "\n",
    "exp_mod = ExponentialModel(prefix='exp_')\n",
    "gauss1 = GaussianModel(prefix='g1_')\n",
    "gauss2 = GaussianModel(prefix='g2_')\n",
    "\n",
    "\n",
    "def index_of(arrval, value):\n",
    "    \"\"\"Return index of array *at or below* value.\"\"\"\n",
    "    if value < min(arrval):\n",
    "        return 0\n",
    "    return max(np.where(arrval <= value)[0])\n",
    "\n",
    "\n",
    "ix1 = index_of(x, 400)\n",
    "ix2 = index_of(x, 490)\n",
    "# ix3 = index_of(x, 175)\n",
    "\n",
    "pars1 = exp_mod.guess(y[:ix1], x=x[:ix1])\n",
    "pars2 = gauss1.guess(y[ix1:ix2], x=x[ix1:ix2])\n",
    "# pars3 = gauss2.guess(y[ix2:ix3], x=x[ix2:ix3])\n",
    "\n",
    "pars = pars1 + pars2 #+ pars3\n",
    "mod = gauss1 + gauss2 + exp_mod\n",
    "\n",
    "out = mod.fit(y, pars, x=x)\n",
    "\n",
    "# print(out.fit_report(min_correl=0.5))\n",
    "\n",
    "plt.plot(x, y)\n",
    "plt.plot(x, out.init_fit, '--', label='initial fit')\n",
    "plt.plot(x, out.best_fit, '-', label='best fit')\n",
    "plt.legend()\n",
    "plt.show()"
   ]
  },
  {
   "cell_type": "code",
   "execution_count": 161,
   "id": "fb6464cf",
   "metadata": {},
   "outputs": [
    {
     "name": "stderr",
     "output_type": "stream",
     "text": [
      "C:\\Users\\Asus\\anaconda3\\lib\\site-packages\\scipy\\optimize\\minpack.py:476: RuntimeWarning: Number of calls to function has reached maxfev = 3400.\n",
      "  warnings.warn(errors[info][0], RuntimeWarning)\n"
     ]
    },
    {
     "data": {
      "image/png": "[encoded data removed]",
      "text/plain": [
       "<Figure size 1440x720 with 2 Axes>"
      ]
     },
     "metadata": {
      "needs_background": "light"
     },
     "output_type": "display_data"
    }
   ],
   "source": [
    "y0 =y1\n",
    "yData =y1\n",
    "xData =x\n",
    "\n",
    "yGround = min( yData ) #0.0\n",
    "yData = yData - yGround\n",
    "yAmp = max( yData )#1.0\n",
    "yData = yData / yAmp \n",
    "\n",
    "#initial properties of peaks \n",
    "pk, properties = find_peaks( yData, height = .05, width = 3 )\n",
    "#extract peak heights and fwhm \n",
    "I = properties [ 'peak_heights' ]\n",
    "fwhm = properties[ 'widths' ]\n",
    "\n",
    "\n",
    "guess = [0]\n",
    "for i in range( len( pk ) ): \n",
    "    guess.append( pk[i] )\n",
    "    guess.append( I[i] )\n",
    "    guess.append( fwhm[i] ) \n",
    "guess=np.array( guess )\n",
    "\n",
    "\n",
    "popt, pcov = leastsq( res_multi_lorentz, x0=guess, args=( xData, yData ) )\n",
    "# print( popt )\n",
    "\n",
    "\n",
    "testData = [ multi_lorentz( x, popt ) for x in xData ]\n",
    "fitData = [ yGround + yAmp * multi_lorentz( x, popt ) for x in xData ]\n",
    "\n",
    "fig= plt.figure( figsize=( 20, 10 ) )\n",
    "\n",
    "ax= fig.add_subplot( 2, 1, 1 )\n",
    "bx= fig.add_subplot( 2, 1, 2 )\n",
    "\n",
    "ax.plot( pk, yData[pk], 'o', ms=5 )\n",
    "ax.plot( xData, yData, 'ok', ms=1 )\n",
    "ax.plot( xData, testData , 'r--', lw=1.5 )\n",
    "\n",
    "bx.plot( xData, y0, ls='', marker='o', markersize=2 )\n",
    "bx.plot( xData, fitData )\n",
    "\n",
    "\n",
    "plt.show()"
   ]
  },
  {
   "cell_type": "code",
   "execution_count": 28,
   "id": "de343b8b",
   "metadata": {},
   "outputs": [
    {
     "data": {
      "text/plain": [
       "(array([ 32.3956507 , 181.42896471]), array([30.58142421, 48.41385883]))"
      ]
     },
     "execution_count": 28,
     "metadata": {},
     "output_type": "execute_result"
    }
   ],
   "source": [
    "pk, properties = find_peaks( fitData, height = .05, width = 3 )#, prominence=0.1 )\n",
    "#extract peak heights and fwhm \n",
    "I = properties [ 'peak_heights' ]\n",
    "fwhm = properties[ 'widths' ]\n",
    "\n",
    "fwhm ,I"
   ]
  },
  {
   "cell_type": "code",
   "execution_count": 24,
   "id": "cc7c35fa",
   "metadata": {},
   "outputs": [
    {
     "name": "stdout",
     "output_type": "stream",
     "text": [
      "[-4.49058050e-03  3.77002580e+02  2.77731841e+00 -1.77008708e+01\n",
      "  3.58668711e+02  1.92301459e+00 -6.42093434e+01  4.94226812e+02\n",
      "  1.25510740e+00  5.25646189e+01  1.50900045e+02 -3.28381341e+01\n",
      " -4.60054526e+01  3.74927000e+02 -2.98949570e+00 -2.02413284e+01]\n"
     ]
    }
   ],
   "source": [
    "print( popt )"
   ]
  },
  {
   "cell_type": "code",
   "execution_count": 219,
   "id": "c5497dac",
   "metadata": {},
   "outputs": [
    {
     "data": {
      "text/html": [
       "<div>\n",
       "<style scoped>\n",
       "    .dataframe tbody tr th:only-of-type {\n",
       "        vertical-align: middle;\n",
       "    }\n",
       "\n",
       "    .dataframe tbody tr th {\n",
       "        vertical-align: top;\n",
       "    }\n",
       "\n",
       "    .dataframe thead th {\n",
       "        text-align: right;\n",
       "    }\n",
       "</style>\n",
       "<table border=\"1\" class=\"dataframe\">\n",
       "  <thead>\n",
       "    <tr style=\"text-align: right;\">\n",
       "      <th></th>\n",
       "      <th>int</th>\n",
       "    </tr>\n",
       "  </thead>\n",
       "  <tbody>\n",
       "    <tr>\n",
       "      <th>0.00000</th>\n",
       "      <td>NaN</td>\n",
       "    </tr>\n",
       "    <tr>\n",
       "      <th>0.01001</th>\n",
       "      <td>NaN</td>\n",
       "    </tr>\n",
       "    <tr>\n",
       "      <th>0.02002</th>\n",
       "      <td>NaN</td>\n",
       "    </tr>\n",
       "    <tr>\n",
       "      <th>0.03003</th>\n",
       "      <td>NaN</td>\n",
       "    </tr>\n",
       "    <tr>\n",
       "      <th>0.04004</th>\n",
       "      <td>NaN</td>\n",
       "    </tr>\n",
       "    <tr>\n",
       "      <th>...</th>\n",
       "      <td>...</td>\n",
       "    </tr>\n",
       "    <tr>\n",
       "      <th>9.95996</th>\n",
       "      <td>NaN</td>\n",
       "    </tr>\n",
       "    <tr>\n",
       "      <th>9.96997</th>\n",
       "      <td>NaN</td>\n",
       "    </tr>\n",
       "    <tr>\n",
       "      <th>9.97998</th>\n",
       "      <td>NaN</td>\n",
       "    </tr>\n",
       "    <tr>\n",
       "      <th>9.98999</th>\n",
       "      <td>NaN</td>\n",
       "    </tr>\n",
       "    <tr>\n",
       "      <th>10.00000</th>\n",
       "      <td>NaN</td>\n",
       "    </tr>\n",
       "  </tbody>\n",
       "</table>\n",
       "<p>1000 rows × 1 columns</p>\n",
       "</div>"
      ],
      "text/plain": [
       "          int\n",
       "0.00000   NaN\n",
       "0.01001   NaN\n",
       "0.02002   NaN\n",
       "0.03003   NaN\n",
       "0.04004   NaN\n",
       "...       ...\n",
       "9.95996   NaN\n",
       "9.96997   NaN\n",
       "9.97998   NaN\n",
       "9.98999   NaN\n",
       "10.00000  NaN\n",
       "\n",
       "[1000 rows x 1 columns]"
      ]
     },
     "execution_count": 219,
     "metadata": {},
     "output_type": "execute_result"
    }
   ],
   "source": [
    "df=pd.DataFrame(index=np.linspace(0,10,num=1000),columns=['int'])\n",
    "df"
   ]
  },
  {
   "cell_type": "code",
   "execution_count": null,
   "id": "c611b291",
   "metadata": {},
   "outputs": [],
   "source": [
    "amp1 = 1\n",
    "cen1 = 1\n",
    "sigma1 = 0.05\n",
    "\n",
    "\n",
    "def _ngaussian(x, amps,cens,sigmas):\n",
    "    fn = 0\n",
    "    if len(amps)== len(cens)== len(sigmas):\n",
    "        for i in range(len(amps)):\n",
    "            fn = fn+amps[i]*(1/(sigmas[i]*(np.sqrt(2*np.pi))))*\\\n",
    "            (np.exp((-1.0/2.0)*(((x-cens[i])/sigmas[i])**2)))\n",
    "            fn = fn+np.random.normal(size=len(x), scale=0.05)\n",
    "    else:\n",
    "        print('Your inputs have unequal lengths')\n",
    "    return fn\n",
    "\n",
    "amps = [1.30, 0.92, 2.11]\n",
    "cens = [1.10, 1.73, 2.06]\n",
    "sigmas=[0.05, 0.09, 0.07]\n",
    "\n",
    "popt_peaks = [amps,cens,sigmas]\n",
    "\n",
    "\n",
    "df['peaks'] = _ngaussian(df.index, *popt_peaks)\n",
    "\n",
    "# create a model with 3 Gaussians: pretty easy to generalize\n",
    "# to a loop to make N peaks\n",
    "model = (GaussianModel(prefix='p1_') +\n",
    "         GaussianModel(prefix='p2_') +\n",
    "         GaussianModel(prefix='p3_') )\n",
    "\n",
    "# create Parameters (named from function arguments). For\n",
    "# Gaussian, Lorentzian, Voigt, etc these are \"center\", \"amplitude\", \"sigma\"\n",
    "params = model.make_params(p1_center=1.0, p1_amplitude=2, p1_sigma=0.1,\n",
    "                           p2_center=1.5, p2_amplitude=2, p2_sigma=0.1,\n",
    "                           p3_center=2.0, p3_amplitude=2, p3_sigma=0.1)\n",
    "\n",
    "# Parameters can have min/max bounds, be fixed (`.vary = False`)\n",
    "# or constrained to a mathematical expression of other Parameter values\n",
    "params['p1_center'].min = 0.8\n",
    "params['p1_center'].max = 1.5\n",
    "\n",
    "params['p2_center'].min = 1.1\n",
    "params['p2_center'].max = 1.9\n",
    "\n",
    "params['p3_center'].min = 1.88\n",
    "params['p3_center'].max = 3.00\n",
    "\n",
    "# run the fit\n",
    "result = model.fit(df['peaks'], params, x=df.index)\n",
    "\n",
    "# print out the fit results\n",
    "print(result.fit_report())\n",
    "\n",
    "# plot results\n",
    "plt.plot(df.index, df['peaks'],     'o', label='data')\n",
    "plt.plot(df.index, result.best_fit, '-', label='fit')\n",
    "plt.legend()\n",
    "plt.gca().set_xlim(0, 3)\n",
    "plt.show()"
   ]
  },
  {
   "cell_type": "code",
   "execution_count": null,
   "id": "57569a45",
   "metadata": {},
   "outputs": [],
   "source": []
  },
  {
   "cell_type": "code",
   "execution_count": null,
   "id": "f86956ee",
   "metadata": {},
   "outputs": [],
   "source": []
  },
  {
   "cell_type": "code",
   "execution_count": null,
   "id": "93101cce",
   "metadata": {},
   "outputs": [],
   "source": []
  },
  {
   "cell_type": "code",
   "execution_count": null,
   "id": "a085d0ba",
   "metadata": {},
   "outputs": [],
   "source": []
  },
  {
   "cell_type": "code",
   "execution_count": null,
   "id": "827e63ce",
   "metadata": {},
   "outputs": [],
   "source": []
  },
  {
   "cell_type": "markdown",
   "id": "1e44234e",
   "metadata": {},
   "source": [
    "# sample2"
   ]
  },
  {
   "cell_type": "code",
   "execution_count": 38,
   "id": "23cdfe68",
   "metadata": {},
   "outputs": [
    {
     "data": {
      "text/plain": [
       "(array([ 33.04410615,  17.22087757, 186.42082633]),\n",
       " array([40.427269, 27.778406, 52.336339]))"
      ]
     },
     "execution_count": 38,
     "metadata": {},
     "output_type": "execute_result"
    }
   ],
   "source": [
    "pk2, properties2 = find_peaks(y2 , height=3, width = 3,prominence=0.1 ) \n",
    "\n",
    "I2 = properties2 ['peak_heights'] #amplitude\n",
    "fwhm2 = (properties2['widths']) #full width half maximum \n",
    "\n",
    "fwhm2,I2"
   ]
  },
  {
   "cell_type": "code",
   "execution_count": 41,
   "id": "58366a2a",
   "metadata": {},
   "outputs": [
    {
     "name": "stderr",
     "output_type": "stream",
     "text": [
      "C:\\Users\\Asus\\anaconda3\\lib\\site-packages\\scipy\\optimize\\minpack.py:476: RuntimeWarning: Number of calls to function has reached maxfev = 2200.\n",
      "  warnings.warn(errors[info][0], RuntimeWarning)\n"
     ]
    },
    {
     "data": {
      "image/png": "[encoded data removed]",
      "text/plain": [
       "<Figure size 1296x1080 with 1 Axes>"
      ]
     },
     "metadata": {
      "needs_background": "light"
     },
     "output_type": "display_data"
    }
   ],
   "source": [
    "y0 =y2\n",
    "yData =y2\n",
    "\n",
    "xData =x\n",
    "yGround = min( yData )\n",
    "yData = yData - yGround\n",
    "yAmp = max( yData )\n",
    "yData = yData / yAmp \n",
    "\n",
    "#initial properties of peaks \n",
    "pk, properties = find_peaks( yData, height = .05, width = 3) #prominence=0.1 )\n",
    "#extract peak heights and fwhm \n",
    "I = properties [ 'peak_heights' ]\n",
    "fwhm = properties[ 'widths' ]\n",
    "\n",
    "guess = [0]\n",
    "\n",
    "for i in range( len( pk ) ): \n",
    "    guess.append( pk[i] )\n",
    "    guess.append( I[i] )\n",
    "    guess.append( fwhm[i] ) \n",
    "\n",
    "guess=np.array( guess )\n",
    "\n",
    "popt, pcov = leastsq( res_multi_lorentz, x0=guess, args=( xData, yData ) )\n",
    "# print( popt )\n",
    "\n",
    "\n",
    "testData = [ multi_lorentz( x, popt ) for x in xData ]\n",
    "fitData = [ yGround + yAmp * multi_lorentz( x, popt ) for x in xData ]\n",
    "\n",
    "fig= plt.figure( figsize=( 18, 15 ) )\n",
    "\n",
    "# ax= fig.add_subplot( 2, 1, 1 )\n",
    "bx= fig.add_subplot( 2, 1, 2 )\n",
    "\n",
    "# ax.plot( pk, yData[pk], 'o', ms=5 )\n",
    "# ax.plot( xData, yData, 'ok', ms=1 )\n",
    "# ax.plot( xData, testData , 'r--', lw=1.5 )\n",
    "\n",
    "bx.plot( xData, y0, ls='', marker='o', markersize=2 )\n",
    "bx.plot( xData, fitData ,marker='o', markersize=2.5 )\n",
    "\n",
    "\n",
    "plt.show()"
   ]
  },
  {
   "cell_type": "code",
   "execution_count": 42,
   "id": "71aa2512",
   "metadata": {},
   "outputs": [
    {
     "data": {
      "text/plain": [
       "(array([ 40.99624331, 185.15899833]), array([38.5459424 , 50.79176739]))"
      ]
     },
     "execution_count": 42,
     "metadata": {},
     "output_type": "execute_result"
    }
   ],
   "source": [
    "pk, properties = find_peaks( fitData, height = .05, width = 3 )\n",
    "#extract peak heights and fwhm \n",
    "I = properties [ 'peak_heights' ]\n",
    "fwhm = properties[ 'widths' ]\n",
    "\n",
    "fwhm ,I"
   ]
  },
  {
   "cell_type": "markdown",
   "id": "fc68671a",
   "metadata": {},
   "source": [
    "# sampl3"
   ]
  },
  {
   "cell_type": "code",
   "execution_count": 43,
   "id": "555b16bc",
   "metadata": {},
   "outputs": [
    {
     "data": {
      "text/plain": [
       "(array([ 37.40364474,  16.31264104, 200.36678614]),\n",
       " array([37.203542, 36.296903, 62.694144]))"
      ]
     },
     "execution_count": 43,
     "metadata": {},
     "output_type": "execute_result"
    }
   ],
   "source": [
    "pk3, properties3 = find_peaks(y3 , height=3, width = 3,prominence=0.1 ) \n",
    "\n",
    "I3 = properties3 ['peak_heights'] #amplitude\n",
    "fwhm3 = (properties3['widths']) #full width half maximum \n",
    "\n",
    "fwhm3,I3"
   ]
  },
  {
   "cell_type": "code",
   "execution_count": 44,
   "id": "dedf5de8",
   "metadata": {},
   "outputs": [
    {
     "name": "stderr",
     "output_type": "stream",
     "text": [
      "C:\\Users\\Asus\\anaconda3\\lib\\site-packages\\scipy\\optimize\\minpack.py:476: RuntimeWarning: Number of calls to function has reached maxfev = 2200.\n",
      "  warnings.warn(errors[info][0], RuntimeWarning)\n"
     ]
    },
    {
     "data": {
      "image/png": "[encoded data removed]",
      "text/plain": [
       "<Figure size 1296x1080 with 1 Axes>"
      ]
     },
     "metadata": {
      "needs_background": "light"
     },
     "output_type": "display_data"
    }
   ],
   "source": [
    "y0 =y3\n",
    "yData =y3\n",
    "\n",
    "xData =x\n",
    "yGround = min( yData )\n",
    "yData = yData - yGround\n",
    "yAmp = max( yData )\n",
    "yData = yData / yAmp \n",
    "\n",
    "#initial properties of peaks \n",
    "pk, properties = find_peaks( yData, height = .05, width = 3) #prominence=0.1 )\n",
    "#extract peak heights and fwhm \n",
    "I = properties [ 'peak_heights' ]\n",
    "fwhm = properties[ 'widths' ]\n",
    "\n",
    "guess = [0]\n",
    "\n",
    "for i in range( len( pk ) ): \n",
    "    guess.append( pk[i] )\n",
    "    guess.append( I[i] )\n",
    "    guess.append( fwhm[i] ) \n",
    "\n",
    "guess=np.array( guess )\n",
    "\n",
    "popt, pcov = leastsq( res_multi_lorentz, x0=guess, args=( xData, yData ) )\n",
    "# print( popt )\n",
    "\n",
    "\n",
    "testData = [ multi_lorentz( x, popt ) for x in xData ]\n",
    "fitData = [ yGround + yAmp * multi_lorentz( x, popt ) for x in xData ]\n",
    "\n",
    "fig= plt.figure( figsize=( 18, 15 ) )\n",
    "\n",
    "# ax= fig.add_subplot( 2, 1, 1 )\n",
    "bx= fig.add_subplot( 2, 1, 2 )\n",
    "\n",
    "# ax.plot( pk, yData[pk], 'o', ms=5 )\n",
    "# ax.plot( xData, yData, 'ok', ms=1 )\n",
    "# ax.plot( xData, testData , 'r--', lw=1.5 )\n",
    "\n",
    "bx.plot( xData, y0, ls='', marker='o', markersize=2 )\n",
    "bx.plot( xData, fitData ,marker='o', markersize=2.5 )\n",
    "\n",
    "\n",
    "plt.show()"
   ]
  },
  {
   "cell_type": "code",
   "execution_count": 45,
   "id": "a527054d",
   "metadata": {},
   "outputs": [
    {
     "data": {
      "text/plain": [
       "(array([ 39.66372596, 219.90913013]), array([37.10200691, 60.12818322]))"
      ]
     },
     "execution_count": 45,
     "metadata": {},
     "output_type": "execute_result"
    }
   ],
   "source": [
    "pk, properties = find_peaks( fitData, height = .05, width = 3 )#, prominence=0.1 )\n",
    "#extract peak heights and fwhm \n",
    "I = properties [ 'peak_heights' ]\n",
    "fwhm = properties[ 'widths' ]\n",
    "\n",
    "fwhm ,I"
   ]
  },
  {
   "cell_type": "markdown",
   "id": "286c6a7b",
   "metadata": {},
   "source": [
    "# sample4"
   ]
  },
  {
   "cell_type": "code",
   "execution_count": 194,
   "id": "93dbc423",
   "metadata": {},
   "outputs": [
    {
     "data": {
      "text/plain": [
       "(array([243.35659407,  12.91436863,  27.65609836,   8.17310307,\n",
       "         17.2053897 ]),\n",
       " array([23.771622, 17.527781, 16.449155, 15.758147, 17.301943]))"
      ]
     },
     "execution_count": 194,
     "metadata": {},
     "output_type": "execute_result"
    }
   ],
   "source": [
    "pk4, properties4 = find_peaks(y4 , height=3, width = 3,prominence=0.1 ) \n",
    "\n",
    "I4 = properties4 ['peak_heights'] #amplitude\n",
    "fwhm4= (properties4['widths']) #full width half maximum \n",
    "\n",
    "fwhm4,I4"
   ]
  },
  {
   "cell_type": "code",
   "execution_count": 195,
   "id": "8cc61453",
   "metadata": {},
   "outputs": [
    {
     "data": {
      "text/plain": [
       "array([ 60, 130, 167, 208, 260], dtype=int64)"
      ]
     },
     "execution_count": 195,
     "metadata": {},
     "output_type": "execute_result"
    }
   ],
   "source": [
    "pk4"
   ]
  },
  {
   "cell_type": "code",
   "execution_count": 52,
   "id": "b1abc492",
   "metadata": {},
   "outputs": [
    {
     "name": "stderr",
     "output_type": "stream",
     "text": [
      "C:\\Users\\Asus\\anaconda3\\lib\\site-packages\\scipy\\optimize\\minpack.py:476: RuntimeWarning: Number of calls to function has reached maxfev = 3400.\n",
      "  warnings.warn(errors[info][0], RuntimeWarning)\n"
     ]
    },
    {
     "data": {
      "image/png": "[encoded data removed]",
      "text/plain": [
       "<Figure size 1296x1080 with 1 Axes>"
      ]
     },
     "metadata": {
      "needs_background": "light"
     },
     "output_type": "display_data"
    }
   ],
   "source": [
    "y0 =y4\n",
    "yData =y4\n",
    "\n",
    "xData =x\n",
    "yGround = min( yData )\n",
    "yData = yData - yGround\n",
    "yAmp = max( yData )\n",
    "yData = yData / yAmp \n",
    "\n",
    "#initial properties of peaks \n",
    "pk, properties = find_peaks( yData, height = .05, width = 3 )#prominence=0.1 )\n",
    "#extract peak heights and fwhm \n",
    "I = properties [ 'peak_heights' ]\n",
    "fwhm = properties[ 'widths' ]\n",
    "\n",
    "guess = [0]\n",
    "\n",
    "for i in range( len( pk ) ): \n",
    "    guess.append( pk[i] )\n",
    "    guess.append( I[i] )\n",
    "    guess.append( fwhm[i] ) \n",
    "\n",
    "guess=np.array( guess )\n",
    "\n",
    "popt, pcov = leastsq( res_multi_lorentz, x0=guess, args=( xData, yData ) )\n",
    "# print( popt )\n",
    "\n",
    "\n",
    "testData = [ multi_lorentz( x, popt ) for x in xData ]\n",
    "fitData = [ yGround + yAmp * multi_lorentz( x, popt ) for x in xData ]\n",
    "\n",
    "fig= plt.figure( figsize=( 18, 15 ) )\n",
    "\n",
    "# ax= fig.add_subplot( 2, 1, 1 )\n",
    "bx= fig.add_subplot( 2, 1, 2 )\n",
    "\n",
    "# ax.plot( pk, yData[pk], 'o', ms=5 )\n",
    "# ax.plot( xData, yData, 'ok', ms=1 )\n",
    "# ax.plot( xData, testData , 'r--', lw=1.5 )\n",
    "\n",
    "bx.plot( xData, y0, ls='', marker='o', markersize=2 )\n",
    "bx.plot( xData, fitData ,marker='o', markersize=2.5 )\n",
    "\n",
    "\n",
    "plt.show()"
   ]
  },
  {
   "cell_type": "code",
   "execution_count": 67,
   "id": "88436a89",
   "metadata": {},
   "outputs": [
    {
     "data": {
      "text/plain": [
       "(198.72544084778616, 91.6236162932765)"
      ]
     },
     "execution_count": 67,
     "metadata": {},
     "output_type": "execute_result"
    }
   ],
   "source": [
    "pk, properties = find_peaks( fitData, height = .05, width = 3 )#, prominence=0.1 )\n",
    "#extract peak heights and fwhm \n",
    "I = properties [ 'peak_heights' ]\n",
    "fwhm = properties[ 'widths' ]\n",
    "\n",
    "max(fwhm ),max(I)"
   ]
  },
  {
   "cell_type": "code",
   "execution_count": null,
   "id": "d8cd9795",
   "metadata": {},
   "outputs": [],
   "source": []
  },
  {
   "cell_type": "code",
   "execution_count": null,
   "id": "daea0683",
   "metadata": {},
   "outputs": [],
   "source": []
  },
  {
   "cell_type": "markdown",
   "id": "dccd502f",
   "metadata": {},
   "source": [
    "# sample5"
   ]
  },
  {
   "cell_type": "code",
   "execution_count": 61,
   "id": "23b2bfbb",
   "metadata": {},
   "outputs": [
    {
     "data": {
      "text/plain": [
       "(array([ 29.80719506,  17.12119097, 191.15678736]),\n",
       " array([50.915769, 48.165562, 94.822116]))"
      ]
     },
     "execution_count": 61,
     "metadata": {},
     "output_type": "execute_result"
    }
   ],
   "source": [
    "pk5, properties5 = find_peaks(y5 , height=3, width = 3,prominence=0.1 ) \n",
    "\n",
    "I5 = properties5 ['peak_heights'] #amplitude\n",
    "fwhm5= (properties5 ['widths']) #full width half maximum \n",
    "\n",
    "fwhm5,I5"
   ]
  },
  {
   "cell_type": "code",
   "execution_count": 62,
   "id": "e462da4d",
   "metadata": {
    "scrolled": false
   },
   "outputs": [
    {
     "name": "stderr",
     "output_type": "stream",
     "text": [
      "C:\\Users\\Asus\\anaconda3\\lib\\site-packages\\scipy\\optimize\\minpack.py:476: RuntimeWarning: Number of calls to function has reached maxfev = 2200.\n",
      "  warnings.warn(errors[info][0], RuntimeWarning)\n"
     ]
    },
    {
     "data": {
      "image/png": "[encoded data removed]",
      "text/plain": [
       "<Figure size 1296x1080 with 1 Axes>"
      ]
     },
     "metadata": {
      "needs_background": "light"
     },
     "output_type": "display_data"
    }
   ],
   "source": [
    "y0 =y5\n",
    "yData =y5\n",
    "\n",
    "xData =x\n",
    "yGround = min( yData )\n",
    "yData = yData - yGround\n",
    "yAmp = max( yData )\n",
    "yData = yData / yAmp \n",
    "\n",
    "#initial properties of peaks \n",
    "pk, properties = find_peaks( yData, height = .05, width = 3 )#prominence=0.1 )\n",
    "#extract peak heights and fwhm \n",
    "I = properties [ 'peak_heights' ]\n",
    "fwhm = properties[ 'widths' ]\n",
    "\n",
    "guess = [0]\n",
    "\n",
    "for i in range( len( pk ) ): \n",
    "    guess.append( pk[i] )\n",
    "    guess.append( I[i] )\n",
    "    guess.append( fwhm[i] ) \n",
    "\n",
    "guess=np.array( guess )\n",
    "\n",
    "popt, pcov = leastsq( res_multi_lorentz, x0=guess, args=( xData, yData ) )\n",
    "# print( popt )\n",
    "\n",
    "\n",
    "testData = [ multi_lorentz( x, popt ) for x in xData ]\n",
    "fitData = [ yGround + yAmp * multi_lorentz( x, popt ) for x in xData ]\n",
    "\n",
    "fig= plt.figure( figsize=( 18, 15 ) )\n",
    "\n",
    "# ax= fig.add_subplot( 2, 1, 1 )\n",
    "bx= fig.add_subplot( 2, 1, 2 )\n",
    "\n",
    "# ax.plot( pk, yData[pk], 'o', ms=5 )\n",
    "# ax.plot( xData, yData, 'ok', ms=1 )\n",
    "# ax.plot( xData, testData , 'r--', lw=1.5 )\n",
    "\n",
    "bx.plot( xData, y0, ls='', marker='o', markersize=2 )\n",
    "bx.plot( xData, fitData ,marker='o', markersize=2.5 )\n",
    "\n",
    "\n",
    "plt.show()"
   ]
  },
  {
   "cell_type": "code",
   "execution_count": null,
   "id": "624ddcad",
   "metadata": {},
   "outputs": [],
   "source": []
  },
  {
   "cell_type": "code",
   "execution_count": null,
   "id": "2af28c51",
   "metadata": {},
   "outputs": [],
   "source": []
  },
  {
   "cell_type": "code",
   "execution_count": null,
   "id": "566a52ac",
   "metadata": {},
   "outputs": [],
   "source": []
  },
  {
   "cell_type": "code",
   "execution_count": null,
   "id": "84e62425",
   "metadata": {},
   "outputs": [],
   "source": []
  },
  {
   "cell_type": "code",
   "execution_count": null,
   "id": "ae293494",
   "metadata": {},
   "outputs": [],
   "source": []
  },
  {
   "cell_type": "markdown",
   "id": "e85cb406",
   "metadata": {},
   "source": [
    "# Uv"
   ]
  },
  {
   "cell_type": "code",
   "execution_count": 98,
   "id": "ec29fb7f",
   "metadata": {},
   "outputs": [],
   "source": [
    "uv= pd.read_excel(r'C:\\Users\\Asus\\Desktop\\solar_cell\\Paper 1\\absorption.xlsx' ,sheet_name='Sheet2')"
   ]
  },
  {
   "cell_type": "code",
   "execution_count": 99,
   "id": "cd96d9ae",
   "metadata": {},
   "outputs": [],
   "source": [
    "uv.dropna(axis=1, how='all',inplace=True)"
   ]
  },
  {
   "cell_type": "code",
   "execution_count": 100,
   "id": "e14f0240",
   "metadata": {},
   "outputs": [],
   "source": [
    "uv=uv.copy().rename(columns={'Unnamed: 0': 'wavelength(nm)',\n",
    "                           })"
   ]
  },
  {
   "cell_type": "code",
   "execution_count": 101,
   "id": "6d877426",
   "metadata": {},
   "outputs": [],
   "source": [
    "uv.drop(['Unnamed: 3','Unnamed: 6','Unnamed: 9','Unnamed: 12'], axis=1, inplace=True)"
   ]
  }
 ],
 "metadata": {
  "kernelspec": {
   "display_name": "Python 3.9.12 ('base')",
   "language": "python",
   "name": "python3"
  },
  "language_info": {
   "codemirror_mode": {
    "name": "ipython",
    "version": 3
   },
   "file_extension": ".py",
   "mimetype": "text/x-python",
   "name": "python",
   "nbconvert_exporter": "python",
   "pygments_lexer": "ipython3",
   "version": "3.9.12"
  },
  "vscode": {
   "interpreter": {
    "hash": "52d90d3cc821dd0beedd6e719dbdecc722c226b9d90ed1b663c34e1877f1142e"
   }
  }
 },
 "nbformat": 4,
 "nbformat_minor": 5
}
