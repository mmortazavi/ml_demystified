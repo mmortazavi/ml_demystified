{
 "cells": [
  {
   "cell_type": "code",
   "execution_count": null,
   "id": "5dd658c3",
   "metadata": {},
   "outputs": [],
   "source": [
    "import pandas as pd\n",
    "import numpy as np"
   ]
  },
  {
   "cell_type": "code",
   "execution_count": 112,
   "id": "e59b9fad",
   "metadata": {},
   "outputs": [],
   "source": [
    "import pvlib \n",
    "from iv_params import IV_Params"
   ]
  },
  {
   "cell_type": "code",
   "execution_count": 113,
   "id": "eab7a435",
   "metadata": {},
   "outputs": [],
   "source": [
    "from pvlib.ivtools.utils import _schumaker_qspline\n",
    "from iv_params import IV_Params\n",
    "from numpy.polynomial.polynomial import Polynomial as Poly"
   ]
  },
  {
   "cell_type": "code",
   "execution_count": 114,
   "id": "305fdf76",
   "metadata": {},
   "outputs": [],
   "source": [
    "import seaborn as sns\n",
    "import matplotlib.pyplot as plt"
   ]
  },
  {
   "cell_type": "code",
   "execution_count": 115,
   "id": "db2e0c52",
   "metadata": {},
   "outputs": [],
   "source": [
    "from scipy.optimize import curve_fit"
   ]
  },
  {
   "cell_type": "code",
   "execution_count": 74,
   "id": "86405c27",
   "metadata": {},
   "outputs": [],
   "source": [
    "from pandas.plotting import table"
   ]
  },
  {
   "cell_type": "code",
   "execution_count": 75,
   "id": "bb73a19f",
   "metadata": {},
   "outputs": [],
   "source": [
    "import plotly.figure_factory as ff"
   ]
  },
  {
   "cell_type": "code",
   "execution_count": 7,
   "id": "ee9bbf45",
   "metadata": {},
   "outputs": [],
   "source": [
    "#Draft"
   ]
  },
  {
   "cell_type": "raw",
   "id": "01d66855",
   "metadata": {},
   "source": [
    "iv1_s1['Current (mA) - Plot 0'] = iv1_s1['Current (mA) - Plot 0'].apply(lambda x: x*-1)"
   ]
  },
  {
   "cell_type": "raw",
   "id": "4e2b44cc",
   "metadata": {},
   "source": [
    "def ff(pmax,voc,isc):\n",
    "    ff=pmax/(voc*isc)\n",
    "    return ff"
   ]
  },
  {
   "cell_type": "code",
   "execution_count": null,
   "id": "489c3fa5",
   "metadata": {},
   "outputs": [],
   "source": []
  },
  {
   "cell_type": "markdown",
   "id": "cf30ea31",
   "metadata": {},
   "source": [
    "# function"
   ]
  },
  {
   "cell_type": "code",
   "execution_count": 89,
   "id": "7f54322c",
   "metadata": {},
   "outputs": [],
   "source": [
    "def res(df):\n",
    "    \n",
    "#     v=df.iloc[:,0:1]\n",
    "#     c=df.iloc[:,1:2]\n",
    "#     p=df.iloc[:,2:3]\n",
    "    \n",
    "    df.iloc[:,1:2]=df.iloc[:,1:2].apply(lambda x:x*-1)\n",
    "    df=df[df.iloc[:,0:3]>=0]\n",
    "    df=df.dropna(axis=0, how='any')\n",
    "\n",
    "    v=(((df.iloc[:,0:1]).to_numpy()).flatten())\n",
    "    i=(((df.iloc[:,1:2]).to_numpy()).flatten())\n",
    "    p=(((df.iloc[:,2:3]).to_numpy()).flatten())\n",
    "    \n",
    "\n",
    "    isc = i[0]  # short circuit current\n",
    "    voc = v[-1]  # open circuit voltage\n",
    "    \n",
    "    p = v * i \n",
    "    idx = np.argmax(p)\n",
    "    p_max=np.max(p)\n",
    "    \n",
    "    \n",
    "    ff=(v[idx]*i[idx])/(v[-1]*i[0])\n",
    "    \n",
    "    result = {\n",
    "        'voc': voc,\n",
    "        'isc': isc,\n",
    "        \n",
    "        'P_max':p_max,\n",
    "        'V_mp':v[idx],\n",
    "        'I_mp':i[idx],\n",
    "        \n",
    "        'Eff A=12':p_max/12,\n",
    "        'Eff A=10':p_max/10,\n",
    "        \n",
    "        'ff*100':ff*100 ,\n",
    "        'ff*1.2*100':ff*1.2*100 }\n",
    "    return result\n",
    "    "
   ]
  },
  {
   "cell_type": "code",
   "execution_count": 110,
   "id": "a2119f31",
   "metadata": {},
   "outputs": [],
   "source": [
    "# bare=iv1_s1.iloc[:,:3]\n",
    "# drop1=iv1_s1.iloc[:,3:6]\n",
    "# drop2=iv1_s1.iloc[:,6:9]\n",
    "# drop3=iv1_s1.iloc[:,9:12]\n",
    "# drop4=iv1_s1.iloc[:,12:15]\n",
    "# drop5=iv1_s1.iloc[:,15:18]\n",
    "# drop6=iv1_s1.iloc[:,18:21]\n",
    "\n",
    "\n",
    "# print( 'sample#1 :','\\n','bare:','\\n', res(bare),'\\n','drop1:','\\n',res(drop1),'\\n','drop6:','\\n',res(drop6))"
   ]
  },
  {
   "cell_type": "markdown",
   "id": "4c2410d9",
   "metadata": {},
   "source": [
    "# folder1 #sample1"
   ]
  },
  {
   "cell_type": "code",
   "execution_count": null,
   "id": "9750cfcf",
   "metadata": {},
   "outputs": [],
   "source": [
    "iv1_s1= pd.read_excel(r'C:\\Users\\Asus\\Desktop\\solar_cell\\I-V data\\1\\IV.xlsx', sheet_name='Sample #1')\n",
    "iv1_s1.dropna(axis='columns',inplace=True)\n",
    "iv1_s1=iv1_s1.copy().rename(columns={'Unnamed: 2': 'power0' ,\n",
    "                                'Unnamed: 9': 'power1',\n",
    "                              'Unnamed: 16': 'power2' ,\n",
    "                               'Unnamed: 23': 'power3',\n",
    "                              'Unnamed: 29': 'power4',\n",
    "                              'Unnamed: 35': 'power5',\n",
    "                              'Unnamed: 41': 'power6'})"
   ]
  },
  {
   "cell_type": "code",
   "execution_count": null,
   "id": "edbcb089",
   "metadata": {},
   "outputs": [],
   "source": [
    "# bare=iv1_s1.iloc[:,:3]\n",
    "# drop1=iv1_s1.iloc[:,3:6]\n",
    "# drop2=iv1_s1.iloc[:,6:9]\n",
    "# drop3=iv1_s1.iloc[:,9:12]\n",
    "# drop4=iv1_s1.iloc[:,12:15]\n",
    "# drop5=iv1_s1.iloc[:,15:18]\n",
    "# drop6=iv1_s1.iloc[:,18:21]\n",
    "\n",
    "\n",
    "# print( 'sample#1 :','\\n','bare:','\\n', res(bare),'\\n','drop1:','\\n',res(drop1),'\\n','drop6:','\\n',res(drop6))"
   ]
  },
  {
   "cell_type": "code",
   "execution_count": null,
   "id": "c0e420b8",
   "metadata": {},
   "outputs": [],
   "source": [
    "#bare"
   ]
  },
  {
   "cell_type": "code",
   "execution_count": 11,
   "id": "272b7c53",
   "metadata": {},
   "outputs": [
    {
     "name": "stderr",
     "output_type": "stream",
     "text": [
      "C:\\Users\\Asus\\AppData\\Local\\Temp\\ipykernel_11048\\814757102.py:2: SettingWithCopyWarning: \n",
      "A value is trying to be set on a copy of a slice from a DataFrame.\n",
      "Try using .loc[row_indexer,col_indexer] = value instead\n",
      "\n",
      "See the caveats in the documentation: https://pandas.pydata.org/pandas-docs/stable/user_guide/indexing.html#returning-a-view-versus-a-copy\n",
      "  bare['Current (mA) - Plot 0'] = bare['Current (mA) - Plot 0'].apply(lambda x: x*-1)\n"
     ]
    }
   ],
   "source": [
    "bare=iv1_s1.iloc[:,:3]\n",
    "bare['Current (mA) - Plot 0'] = bare['Current (mA) - Plot 0'].apply(lambda x: x*-1)\n",
    "bare=bare[bare['Current (mA) - Plot 0'] > 0]"
   ]
  },
  {
   "cell_type": "code",
   "execution_count": 13,
   "id": "d09d2b3e",
   "metadata": {},
   "outputs": [
    {
     "data": {
      "text/plain": [
       "(67.425,\n",
       " 0.57,\n",
       " 378.9,\n",
       " 31.219180175299694,\n",
       " 37.463016210359626,\n",
       " 5.6187499999999995,\n",
       " 6.7425)"
      ]
     },
     "execution_count": 13,
     "metadata": {},
     "output_type": "execute_result"
    }
   ],
   "source": [
    "p0_max=bare['power0'].max()\n",
    "voc0=bare['Voltage (V) - Plot 0'].max()\n",
    "isc0=bare['Current (mA) - Plot 0'].max()\n",
    "\n",
    "ff0=p0_max/(voc0*isc0)\n",
    "eff0=p0_max/12\n",
    "\n",
    "p0_max , voc0 , isc0 , ff0*100 , ff0*1.2*100 , p0_max/12 , p0_max/10"
   ]
  },
  {
   "cell_type": "code",
   "execution_count": 14,
   "id": "de357fed",
   "metadata": {},
   "outputs": [],
   "source": [
    "#drop1"
   ]
  },
  {
   "cell_type": "code",
   "execution_count": 15,
   "id": "c4655a00",
   "metadata": {},
   "outputs": [
    {
     "name": "stderr",
     "output_type": "stream",
     "text": [
      "C:\\Users\\Asus\\AppData\\Local\\Temp\\ipykernel_11048\\1407367874.py:2: SettingWithCopyWarning: \n",
      "A value is trying to be set on a copy of a slice from a DataFrame.\n",
      "Try using .loc[row_indexer,col_indexer] = value instead\n",
      "\n",
      "See the caveats in the documentation: https://pandas.pydata.org/pandas-docs/stable/user_guide/indexing.html#returning-a-view-versus-a-copy\n",
      "  drop1['Current (mA) - Plot 0.1'] = drop1['Current (mA) - Plot 0.1'].apply(lambda x: x*-1)\n"
     ]
    }
   ],
   "source": [
    "drop1=iv1_s1.iloc[:,3:6]\n",
    "drop1['Current (mA) - Plot 0.1'] = drop1['Current (mA) - Plot 0.1'].apply(lambda x: x*-1)\n",
    "drop1=drop1[drop1['Current (mA) - Plot 0.1'] > 0]"
   ]
  },
  {
   "cell_type": "code",
   "execution_count": 17,
   "id": "3f3ac634",
   "metadata": {},
   "outputs": [
    {
     "data": {
      "text/plain": [
       "(69.89,\n",
       " 0.55,\n",
       " 396.2,\n",
       " 32.07287412234409,\n",
       " 38.487448946812904,\n",
       " 5.824166666666667,\n",
       " 6.989)"
      ]
     },
     "execution_count": 17,
     "metadata": {},
     "output_type": "execute_result"
    }
   ],
   "source": [
    "p1_max=drop1['power1'].max()\n",
    "voc1=drop1['Voltage (V) - Plot 0.1'].max()\n",
    "isc1=drop1['Current (mA) - Plot 0.1'].max()\n",
    "\n",
    "ff1=p1_max/(voc1*isc1)\n",
    "eff1=p1_max/12\n",
    "\n",
    "p1_max , voc1 , isc1 , ff1*100 , ff1*1.2*100 , p1_max/12 , p1_max/10"
   ]
  },
  {
   "cell_type": "code",
   "execution_count": 18,
   "id": "bf215e7a",
   "metadata": {},
   "outputs": [],
   "source": [
    "#drop2"
   ]
  },
  {
   "cell_type": "code",
   "execution_count": 19,
   "id": "163c40c6",
   "metadata": {},
   "outputs": [
    {
     "name": "stderr",
     "output_type": "stream",
     "text": [
      "C:\\Users\\Asus\\AppData\\Local\\Temp\\ipykernel_11048\\277022536.py:2: SettingWithCopyWarning: \n",
      "A value is trying to be set on a copy of a slice from a DataFrame.\n",
      "Try using .loc[row_indexer,col_indexer] = value instead\n",
      "\n",
      "See the caveats in the documentation: https://pandas.pydata.org/pandas-docs/stable/user_guide/indexing.html#returning-a-view-versus-a-copy\n",
      "  drop2['Current (mA) - Plot 0.2'] = drop2['Current (mA) - Plot 0.2'].apply(lambda x: x*-1)\n"
     ]
    }
   ],
   "source": [
    "drop2=iv1_s1.iloc[:,6:9]\n",
    "drop2['Current (mA) - Plot 0.2'] = drop2['Current (mA) - Plot 0.2'].apply(lambda x: x*-1)\n",
    "drop2=drop2[drop2['Current (mA) - Plot 0.2'] > 0]"
   ]
  },
  {
   "cell_type": "code",
   "execution_count": 21,
   "id": "8706f924",
   "metadata": {},
   "outputs": [
    {
     "data": {
      "text/plain": [
       "(78.967,\n",
       " 0.57,\n",
       " 400.5,\n",
       " 34.59140986048142,\n",
       " 41.50969183257771,\n",
       " 6.580583333333333,\n",
       " 7.8967)"
      ]
     },
     "execution_count": 21,
     "metadata": {},
     "output_type": "execute_result"
    }
   ],
   "source": [
    "p2_max=drop2['power2'].max()\n",
    "voc2=drop2['Voltage (V) - Plot 0.2'].max()\n",
    "isc2=drop2['Current (mA) - Plot 0.2'].max()\n",
    "\n",
    "ff2=p2_max/(voc2*isc2)\n",
    "\n",
    "eff2=p2_max/12\n",
    "\n",
    "p2_max , voc2 , isc2 , ff2*100 , ff2*1.2*100 , p2_max/12 , p2_max/10"
   ]
  },
  {
   "cell_type": "code",
   "execution_count": 22,
   "id": "f56f7645",
   "metadata": {},
   "outputs": [],
   "source": [
    "#drop3"
   ]
  },
  {
   "cell_type": "code",
   "execution_count": 25,
   "id": "2ae2a1a1",
   "metadata": {},
   "outputs": [
    {
     "name": "stderr",
     "output_type": "stream",
     "text": [
      "C:\\Users\\Asus\\AppData\\Local\\Temp\\ipykernel_11048\\3465229441.py:2: SettingWithCopyWarning: \n",
      "A value is trying to be set on a copy of a slice from a DataFrame.\n",
      "Try using .loc[row_indexer,col_indexer] = value instead\n",
      "\n",
      "See the caveats in the documentation: https://pandas.pydata.org/pandas-docs/stable/user_guide/indexing.html#returning-a-view-versus-a-copy\n",
      "  drop3['Current (mA) - Plot 0.3'] = drop3['Current (mA) - Plot 0.3'].apply(lambda x: x*-1)\n"
     ]
    }
   ],
   "source": [
    "drop3=iv1_s1.iloc[:,9:12]\n",
    "drop3['Current (mA) - Plot 0.3'] = drop3['Current (mA) - Plot 0.3'].apply(lambda x: x*-1)\n",
    "drop3=drop3[drop3['Current (mA) - Plot 0.3'] > 0]"
   ]
  },
  {
   "cell_type": "code",
   "execution_count": 27,
   "id": "4f847a55",
   "metadata": {},
   "outputs": [
    {
     "data": {
      "text/plain": [
       "(73.457,\n",
       " 0.55,\n",
       " 392.1,\n",
       " 34.06227539356843,\n",
       " 40.87473047228211,\n",
       " 6.121416666666666,\n",
       " 7.345699999999999)"
      ]
     },
     "execution_count": 27,
     "metadata": {},
     "output_type": "execute_result"
    }
   ],
   "source": [
    "p3_max=drop3['power3'].max()\n",
    "voc3=drop3['Voltage (V) - Plot 0.3'].max()\n",
    "isc3=drop3['Current (mA) - Plot 0.3'].max()\n",
    "\n",
    "ff3=p3_max/(voc3*isc3)\n",
    "\n",
    "\n",
    "p3_max,voc3,isc3,  ff3*100 , ff3*1.2*100 , p3_max/12 , p3_max/10"
   ]
  },
  {
   "cell_type": "code",
   "execution_count": 28,
   "id": "797beb88",
   "metadata": {},
   "outputs": [],
   "source": [
    "#drop4"
   ]
  },
  {
   "cell_type": "code",
   "execution_count": 29,
   "id": "10861b22",
   "metadata": {},
   "outputs": [
    {
     "name": "stderr",
     "output_type": "stream",
     "text": [
      "C:\\Users\\Asus\\AppData\\Local\\Temp\\ipykernel_11048\\119067162.py:2: SettingWithCopyWarning: \n",
      "A value is trying to be set on a copy of a slice from a DataFrame.\n",
      "Try using .loc[row_indexer,col_indexer] = value instead\n",
      "\n",
      "See the caveats in the documentation: https://pandas.pydata.org/pandas-docs/stable/user_guide/indexing.html#returning-a-view-versus-a-copy\n",
      "  drop4['Current (mA) - Plot 0.4'] = drop4['Current (mA) - Plot 0.4'].apply(lambda x: x*-1)\n"
     ]
    }
   ],
   "source": [
    "drop4=iv1_s1.iloc[:,12:15]\n",
    "drop4['Current (mA) - Plot 0.4'] = drop4['Current (mA) - Plot 0.4'].apply(lambda x: x*-1)\n",
    "drop4=drop4[drop4['Current (mA) - Plot 0.4'] > 0]"
   ]
  },
  {
   "cell_type": "code",
   "execution_count": 31,
   "id": "a41b6356",
   "metadata": {},
   "outputs": [
    {
     "data": {
      "text/plain": [
       "(74.82,\n",
       " 0.55,\n",
       " 415.7,\n",
       " 32.72464845714785,\n",
       " 39.269578148577416,\n",
       " 6.234999999999999,\n",
       " 7.481999999999999)"
      ]
     },
     "execution_count": 31,
     "metadata": {},
     "output_type": "execute_result"
    }
   ],
   "source": [
    "p4_max=drop4['power4'].max()\n",
    "voc4=drop4['Voltage (V) - Plot 0.4'].max()\n",
    "isc4=drop4['Current (mA) - Plot 0.4'].max()\n",
    "\n",
    "ff4=p4_max/(voc4*isc4)\n",
    "eff4=p4_max/12\n",
    "\n",
    "p4_max,voc4,isc4,  ff4*100 , ff4*1.2*100 , p4_max/12 , p4_max/10"
   ]
  },
  {
   "cell_type": "code",
   "execution_count": 32,
   "id": "578d9536",
   "metadata": {},
   "outputs": [],
   "source": [
    "#drop5"
   ]
  },
  {
   "cell_type": "code",
   "execution_count": 33,
   "id": "5030c014",
   "metadata": {},
   "outputs": [
    {
     "name": "stderr",
     "output_type": "stream",
     "text": [
      "C:\\Users\\Asus\\AppData\\Local\\Temp\\ipykernel_11048\\3887377279.py:2: SettingWithCopyWarning: \n",
      "A value is trying to be set on a copy of a slice from a DataFrame.\n",
      "Try using .loc[row_indexer,col_indexer] = value instead\n",
      "\n",
      "See the caveats in the documentation: https://pandas.pydata.org/pandas-docs/stable/user_guide/indexing.html#returning-a-view-versus-a-copy\n",
      "  drop5['Current (mA) - Plot 0.5'] = drop5['Current (mA) - Plot 0.5'].apply(lambda x: x*-1)\n"
     ]
    }
   ],
   "source": [
    "drop5=iv1_s1.iloc[:,15:18]\n",
    "drop5['Current (mA) - Plot 0.5'] = drop5['Current (mA) - Plot 0.5'].apply(lambda x: x*-1)\n",
    "drop5=drop5[drop5['Current (mA) - Plot 0.5'] > 0]"
   ]
  },
  {
   "cell_type": "code",
   "execution_count": 35,
   "id": "7b2bd0a2",
   "metadata": {},
   "outputs": [
    {
     "data": {
      "text/plain": [
       "(80.972,\n",
       " 0.57,\n",
       " 373.0,\n",
       " 38.084756126240535,\n",
       " 45.701707351488636,\n",
       " 6.7476666666666665,\n",
       " 8.097199999999999)"
      ]
     },
     "execution_count": 35,
     "metadata": {},
     "output_type": "execute_result"
    }
   ],
   "source": [
    "p5_max=drop5['power5'].max()\n",
    "voc5=drop5['Voltage (V) - Plot 0.5'].max()\n",
    "isc5=drop5['Current (mA) - Plot 0.5'].max()\n",
    "\n",
    "ff5=p5_max/(voc5*isc5)\n",
    "eff5=p5_max/12\n",
    "\n",
    "p5_max , voc5 , isc5 ,  ff5*100 , ff5*1.2*100 , p5_max/12 , p5_max/10"
   ]
  },
  {
   "cell_type": "code",
   "execution_count": 36,
   "id": "801dd469",
   "metadata": {},
   "outputs": [],
   "source": [
    "#drop6"
   ]
  },
  {
   "cell_type": "code",
   "execution_count": 39,
   "id": "b4df1fa1",
   "metadata": {},
   "outputs": [
    {
     "name": "stderr",
     "output_type": "stream",
     "text": [
      "C:\\Users\\Asus\\AppData\\Local\\Temp\\ipykernel_11048\\2907517621.py:2: SettingWithCopyWarning: \n",
      "A value is trying to be set on a copy of a slice from a DataFrame.\n",
      "Try using .loc[row_indexer,col_indexer] = value instead\n",
      "\n",
      "See the caveats in the documentation: https://pandas.pydata.org/pandas-docs/stable/user_guide/indexing.html#returning-a-view-versus-a-copy\n",
      "  drop6['Current (mA) - Plot 0.6'] = drop6['Current (mA) - Plot 0.6'].apply(lambda x: x*-1)\n"
     ]
    }
   ],
   "source": [
    "drop6=iv1_s1.iloc[:,18:21]\n",
    "drop6['Current (mA) - Plot 0.6'] = drop6['Current (mA) - Plot 0.6'].apply(lambda x: x*-1)\n",
    "drop6=drop6[drop6['Current (mA) - Plot 0.6'] > 0]"
   ]
  },
  {
   "cell_type": "code",
   "execution_count": 41,
   "id": "4fd1f63d",
   "metadata": {},
   "outputs": [
    {
     "data": {
      "text/plain": [
       "(79.98, 0.57, 395.6, 35.46910755148742, 42.5629290617849, 6.665, 7.998)"
      ]
     },
     "execution_count": 41,
     "metadata": {},
     "output_type": "execute_result"
    }
   ],
   "source": [
    "p6_max=drop6['power6'].max()\n",
    "voc6=drop6['Voltage (V) - Plot 0.6'].max()\n",
    "isc6=drop6['Current (mA) - Plot 0.6'].max()\n",
    "\n",
    "ff6=p6_max/(voc6*isc6)\n",
    "\n",
    "p6_max , voc6 , isc6 ,  ff6*100 , ff6*1.2*100 , p6_max/12 , p6_max/10"
   ]
  },
  {
   "cell_type": "code",
   "execution_count": 42,
   "id": "09683925",
   "metadata": {},
   "outputs": [
    {
     "data": {
      "text/html": [
       "<style type=\"text/css\">\n",
       "#T_fb021 caption {\n",
       "  text-align: center;\n",
       "  font-size: 150%;\n",
       "  color: red;\n",
       "}\n",
       "</style>\n",
       "<table id=\"T_fb021\">\n",
       "  <caption>sample #1 _ folder1</caption>\n",
       "  <thead>\n",
       "    <tr>\n",
       "      <th class=\"blank level0\" >&nbsp;</th>\n",
       "      <th id=\"T_fb021_level0_col0\" class=\"col_heading level0 col0\" >voc_s1</th>\n",
       "      <th id=\"T_fb021_level0_col1\" class=\"col_heading level0 col1\" >isc_s1</th>\n",
       "      <th id=\"T_fb021_level0_col2\" class=\"col_heading level0 col2\" >p_max</th>\n",
       "      <th id=\"T_fb021_level0_col3\" class=\"col_heading level0 col3\" >ff*100</th>\n",
       "      <th id=\"T_fb021_level0_col4\" class=\"col_heading level0 col4\" >ff*1.2*100</th>\n",
       "      <th id=\"T_fb021_level0_col5\" class=\"col_heading level0 col5\" >p_max/12 (eff)</th>\n",
       "      <th id=\"T_fb021_level0_col6\" class=\"col_heading level0 col6\" >p_max/10 (eff)</th>\n",
       "    </tr>\n",
       "  </thead>\n",
       "  <tbody>\n",
       "    <tr>\n",
       "      <th id=\"T_fb021_level0_row0\" class=\"row_heading level0 row0\" >BARE</th>\n",
       "      <td id=\"T_fb021_row0_col0\" class=\"data row0 col0\" >0.570000</td>\n",
       "      <td id=\"T_fb021_row0_col1\" class=\"data row0 col1\" >378.900000</td>\n",
       "      <td id=\"T_fb021_row0_col2\" class=\"data row0 col2\" >67.425000</td>\n",
       "      <td id=\"T_fb021_row0_col3\" class=\"data row0 col3\" >31.219180</td>\n",
       "      <td id=\"T_fb021_row0_col4\" class=\"data row0 col4\" >37.463016</td>\n",
       "      <td id=\"T_fb021_row0_col5\" class=\"data row0 col5\" >5.618750</td>\n",
       "      <td id=\"T_fb021_row0_col6\" class=\"data row0 col6\" >6.742500</td>\n",
       "    </tr>\n",
       "    <tr>\n",
       "      <th id=\"T_fb021_level0_row1\" class=\"row_heading level0 row1\" >DROP1</th>\n",
       "      <td id=\"T_fb021_row1_col0\" class=\"data row1 col0\" >0.550000</td>\n",
       "      <td id=\"T_fb021_row1_col1\" class=\"data row1 col1\" >396.200000</td>\n",
       "      <td id=\"T_fb021_row1_col2\" class=\"data row1 col2\" >69.890000</td>\n",
       "      <td id=\"T_fb021_row1_col3\" class=\"data row1 col3\" >32.072874</td>\n",
       "      <td id=\"T_fb021_row1_col4\" class=\"data row1 col4\" >38.487449</td>\n",
       "      <td id=\"T_fb021_row1_col5\" class=\"data row1 col5\" >5.824167</td>\n",
       "      <td id=\"T_fb021_row1_col6\" class=\"data row1 col6\" >6.989000</td>\n",
       "    </tr>\n",
       "    <tr>\n",
       "      <th id=\"T_fb021_level0_row2\" class=\"row_heading level0 row2\" >DROP2</th>\n",
       "      <td id=\"T_fb021_row2_col0\" class=\"data row2 col0\" >0.570000</td>\n",
       "      <td id=\"T_fb021_row2_col1\" class=\"data row2 col1\" >400.500000</td>\n",
       "      <td id=\"T_fb021_row2_col2\" class=\"data row2 col2\" >78.967000</td>\n",
       "      <td id=\"T_fb021_row2_col3\" class=\"data row2 col3\" >34.591410</td>\n",
       "      <td id=\"T_fb021_row2_col4\" class=\"data row2 col4\" >41.509692</td>\n",
       "      <td id=\"T_fb021_row2_col5\" class=\"data row2 col5\" >6.580583</td>\n",
       "      <td id=\"T_fb021_row2_col6\" class=\"data row2 col6\" >7.896700</td>\n",
       "    </tr>\n",
       "    <tr>\n",
       "      <th id=\"T_fb021_level0_row3\" class=\"row_heading level0 row3\" >DROP3</th>\n",
       "      <td id=\"T_fb021_row3_col0\" class=\"data row3 col0\" >0.550000</td>\n",
       "      <td id=\"T_fb021_row3_col1\" class=\"data row3 col1\" >392.100000</td>\n",
       "      <td id=\"T_fb021_row3_col2\" class=\"data row3 col2\" >73.457000</td>\n",
       "      <td id=\"T_fb021_row3_col3\" class=\"data row3 col3\" >34.062275</td>\n",
       "      <td id=\"T_fb021_row3_col4\" class=\"data row3 col4\" >40.874730</td>\n",
       "      <td id=\"T_fb021_row3_col5\" class=\"data row3 col5\" >6.121417</td>\n",
       "      <td id=\"T_fb021_row3_col6\" class=\"data row3 col6\" >7.345700</td>\n",
       "    </tr>\n",
       "    <tr>\n",
       "      <th id=\"T_fb021_level0_row4\" class=\"row_heading level0 row4\" >DROP4</th>\n",
       "      <td id=\"T_fb021_row4_col0\" class=\"data row4 col0\" >0.550000</td>\n",
       "      <td id=\"T_fb021_row4_col1\" class=\"data row4 col1\" >415.700000</td>\n",
       "      <td id=\"T_fb021_row4_col2\" class=\"data row4 col2\" >74.820000</td>\n",
       "      <td id=\"T_fb021_row4_col3\" class=\"data row4 col3\" >32.724648</td>\n",
       "      <td id=\"T_fb021_row4_col4\" class=\"data row4 col4\" >39.269578</td>\n",
       "      <td id=\"T_fb021_row4_col5\" class=\"data row4 col5\" >6.235000</td>\n",
       "      <td id=\"T_fb021_row4_col6\" class=\"data row4 col6\" >7.482000</td>\n",
       "    </tr>\n",
       "    <tr>\n",
       "      <th id=\"T_fb021_level0_row5\" class=\"row_heading level0 row5\" >DROP5</th>\n",
       "      <td id=\"T_fb021_row5_col0\" class=\"data row5 col0\" >0.570000</td>\n",
       "      <td id=\"T_fb021_row5_col1\" class=\"data row5 col1\" >373.000000</td>\n",
       "      <td id=\"T_fb021_row5_col2\" class=\"data row5 col2\" >80.972000</td>\n",
       "      <td id=\"T_fb021_row5_col3\" class=\"data row5 col3\" >38.084756</td>\n",
       "      <td id=\"T_fb021_row5_col4\" class=\"data row5 col4\" >45.701707</td>\n",
       "      <td id=\"T_fb021_row5_col5\" class=\"data row5 col5\" >6.747667</td>\n",
       "      <td id=\"T_fb021_row5_col6\" class=\"data row5 col6\" >8.097200</td>\n",
       "    </tr>\n",
       "    <tr>\n",
       "      <th id=\"T_fb021_level0_row6\" class=\"row_heading level0 row6\" >DROP6</th>\n",
       "      <td id=\"T_fb021_row6_col0\" class=\"data row6 col0\" >0.570000</td>\n",
       "      <td id=\"T_fb021_row6_col1\" class=\"data row6 col1\" >395.600000</td>\n",
       "      <td id=\"T_fb021_row6_col2\" class=\"data row6 col2\" >79.980000</td>\n",
       "      <td id=\"T_fb021_row6_col3\" class=\"data row6 col3\" >35.469108</td>\n",
       "      <td id=\"T_fb021_row6_col4\" class=\"data row6 col4\" >42.562929</td>\n",
       "      <td id=\"T_fb021_row6_col5\" class=\"data row6 col5\" >6.665000</td>\n",
       "      <td id=\"T_fb021_row6_col6\" class=\"data row6 col6\" >7.998000</td>\n",
       "    </tr>\n",
       "  </tbody>\n",
       "</table>\n"
      ],
      "text/plain": [
       "<pandas.io.formats.style.Styler at 0x2371e63e700>"
      ]
     },
     "execution_count": 42,
     "metadata": {},
     "output_type": "execute_result"
    }
   ],
   "source": [
    "x1={'voc_s1':[voc0,voc1,voc2,voc3,voc4,voc5,voc6],\n",
    "             \n",
    "             'isc_s1':[isc0,isc1,isc2,isc3,isc4,isc5,isc6],\n",
    "    \n",
    "            'p_max':[p0_max,p1_max,p2_max,p3_max,p4_max,p5_max,p6_max],\n",
    "    \n",
    "    \n",
    "             'ff*100':[ff0*100,ff1*100,ff2*100,ff3*100,ff4*100,ff5*100,ff6*100],\n",
    "    \n",
    "    'ff*1.2*100':[ff0*100*1.2,ff1*100*1.2,ff2*100*1.2,ff3*100*1.2,ff4*100*1.2,ff5*100*1.2,ff6*100*1.2],\n",
    "    \n",
    "    'p_max/12 (eff)':[p0_max/12,p1_max/12,p2_max/12,p3_max/12,p4_max/12,p5_max/12,p6_max/12],\n",
    "    \n",
    "    'p_max/10 (eff)':[p0_max/10,p1_max/10,p2_max/10,p3_max/10,p4_max/10,p5_max/10,p6_max/10]\n",
    "    \n",
    "    \n",
    "    \n",
    "    \n",
    "             \n",
    "              }\n",
    "\n",
    "x1 = pd.DataFrame(x1,index=['BARE','DROP1','DROP2','DROP3','DROP4','DROP5','DROP6'])\n",
    "\n",
    "styles = [dict(selector=\"caption\",\n",
    "                       props=[(\"text-align\", \"center\"),\n",
    "                              (\"font-size\", \"150%\"),\n",
    "                              (\"color\", 'red')])]\n",
    "\n",
    "x1 = x1.style.set_caption(\"sample #1 _ folder1\").set_table_styles(styles)\n",
    "\n",
    "\n",
    "x1"
   ]
  },
  {
   "cell_type": "markdown",
   "id": "1ce76011",
   "metadata": {},
   "source": [
    "# folder1 #sample2"
   ]
  },
  {
   "cell_type": "code",
   "execution_count": 79,
   "id": "77946dec",
   "metadata": {},
   "outputs": [],
   "source": [
    "iv1_s2= pd.read_excel(r'C:\\Users\\Asus\\Desktop\\solar_cell\\I-V data\\1\\IV.xlsx', sheet_name='Sample #2')\n"
   ]
  },
  {
   "cell_type": "code",
   "execution_count": 80,
   "id": "1b53b919",
   "metadata": {},
   "outputs": [],
   "source": [
    "iv1_s2 = iv1_s2.drop([49,50])\n",
    "iv1_s2.dropna(axis='columns',inplace=True)\n"
   ]
  },
  {
   "cell_type": "code",
   "execution_count": 81,
   "id": "9dd7e9d0",
   "metadata": {},
   "outputs": [],
   "source": [
    "iv1_s2=iv1_s2.copy().rename(columns={'Unnamed: 2': 'power0' ,\n",
    "                                'Unnamed: 9': 'power1',\n",
    "                              'Unnamed: 17': 'power2' ,\n",
    "                               'Unnamed: 24': 'power3',\n",
    "                              })"
   ]
  },
  {
   "cell_type": "code",
   "execution_count": 8,
   "id": "b5cef6bc",
   "metadata": {},
   "outputs": [
    {
     "data": {
      "text/plain": [
       "Index(['Voltage (V) - Plot 0', 'Current (mA) - Plot 0', 'power0',\n",
       "       'Voltage (V) - Plot 0.1', 'Current (mA) - Plot 0.1', 'power1',\n",
       "       'Voltage (V) - Plot 0.2', 'Current (mA) - Plot 0.2', 'power2',\n",
       "       'Voltage (V) - Plot 0.3', 'Current (mA) - Plot 0.3', 'power3'],\n",
       "      dtype='object')"
      ]
     },
     "execution_count": 8,
     "metadata": {},
     "output_type": "execute_result"
    }
   ],
   "source": [
    "iv1_s2.columns"
   ]
  },
  {
   "cell_type": "code",
   "execution_count": 10,
   "id": "235ac229",
   "metadata": {},
   "outputs": [],
   "source": [
    "#bare"
   ]
  },
  {
   "cell_type": "code",
   "execution_count": 15,
   "id": "f51c2a3f",
   "metadata": {},
   "outputs": [],
   "source": [
    "bare=iv1_s2.iloc[:,:3]\n",
    "# bare['Current (mA) - Plot 0'] = bare['Current (mA) - Plot 0'].apply(lambda x: x*-1)\n",
    "# bare=bare[bare['Current (mA) - Plot 0'] > 0]"
   ]
  },
  {
   "cell_type": "code",
   "execution_count": null,
   "id": "7fcf0ebe",
   "metadata": {},
   "outputs": [],
   "source": [
    "bare['Current (mA) - Plot 0'] = bare['Current (mA) - Plot 0'].apply(lambda x: x*-1)\n",
    "bare=bare[bare['Current (mA) - Plot 0'] > 0]"
   ]
  },
  {
   "cell_type": "code",
   "execution_count": 55,
   "id": "df898717",
   "metadata": {},
   "outputs": [
    {
     "data": {
      "text/plain": [
       "(68.93299999999999,\n",
       " 0.57,\n",
       " 391.3,\n",
       " 30.905976928008748,\n",
       " 37.0871723136105,\n",
       " 5.744416666666666,\n",
       " 6.893299999999999)"
      ]
     },
     "execution_count": 55,
     "metadata": {},
     "output_type": "execute_result"
    }
   ],
   "source": [
    "p0_max=bare['power0'].max()\n",
    "voc0=bare['Voltage (V) - Plot 0'].max()\n",
    "isc0=bare['Current (mA) - Plot 0'].max()\n",
    "\n",
    "ff0=p0_max/(voc0*isc0)\n",
    "eff0=p0_max/12\n",
    "\n",
    "p0_max , voc0 , isc0 , ff0*100 , ff0*1.2*100 , p0_max/12 , p0_max/10"
   ]
  },
  {
   "cell_type": "code",
   "execution_count": 204,
   "id": "21f4f2e9",
   "metadata": {},
   "outputs": [],
   "source": [
    "#drop1"
   ]
  },
  {
   "cell_type": "code",
   "execution_count": 205,
   "id": "4717e8f6",
   "metadata": {},
   "outputs": [
    {
     "name": "stderr",
     "output_type": "stream",
     "text": [
      "C:\\Users\\Asus\\AppData\\Local\\Temp\\ipykernel_28412\\2869856346.py:2: SettingWithCopyWarning: \n",
      "A value is trying to be set on a copy of a slice from a DataFrame.\n",
      "Try using .loc[row_indexer,col_indexer] = value instead\n",
      "\n",
      "See the caveats in the documentation: https://pandas.pydata.org/pandas-docs/stable/user_guide/indexing.html#returning-a-view-versus-a-copy\n",
      "  drop1['Current (mA) - Plot 0.1'] = drop1['Current (mA) - Plot 0.1'].apply(lambda x: x*-1)\n",
      "C:\\Users\\Asus\\AppData\\Local\\Temp\\ipykernel_28412\\2869856346.py:3: SettingWithCopyWarning: \n",
      "A value is trying to be set on a copy of a slice from a DataFrame.\n",
      "Try using .loc[row_indexer,col_indexer] = value instead\n",
      "\n",
      "See the caveats in the documentation: https://pandas.pydata.org/pandas-docs/stable/user_guide/indexing.html#returning-a-view-versus-a-copy\n",
      "  drop1['power1'] = drop1['power1'].apply(lambda x: x*-1)\n"
     ]
    }
   ],
   "source": [
    "drop1=iv1_s2.iloc[:,3:6]\n",
    "drop1['Current (mA) - Plot 0.1'] = drop1['Current (mA) - Plot 0.1'].apply(lambda x: x*-1)\n",
    "drop1['power1'] = drop1['power1'].apply(lambda x: x*-1)\n",
    "\n"
   ]
  },
  {
   "cell_type": "code",
   "execution_count": 58,
   "id": "b3724e0b",
   "metadata": {},
   "outputs": [],
   "source": [
    "drop1=drop1[drop1['Current (mA) - Plot 0.1'] > 0]\n"
   ]
  },
  {
   "cell_type": "code",
   "execution_count": 60,
   "id": "845ef61d",
   "metadata": {},
   "outputs": [
    {
     "data": {
      "text/plain": [
       "(70.153,\n",
       " 0.55,\n",
       " 357.0,\n",
       " 35.728545963840084,\n",
       " 42.87425515660809,\n",
       " 5.8460833333333335,\n",
       " 7.015300000000001)"
      ]
     },
     "execution_count": 60,
     "metadata": {},
     "output_type": "execute_result"
    }
   ],
   "source": [
    "p1_max=drop1['power1'].max()\n",
    "voc1=drop1['Voltage (V) - Plot 0.1'].max()\n",
    "isc1=drop1['Current (mA) - Plot 0.1'].max()\n",
    "\n",
    "ff1=p1_max/(voc1*isc1)\n",
    "eff1=p1_max/12\n",
    "\n",
    "p1_max , voc1 , isc1 , ff1*100 , ff1*1.2*100 , p1_max/12 , p1_max/10"
   ]
  },
  {
   "cell_type": "code",
   "execution_count": 61,
   "id": "9ecc40ec",
   "metadata": {},
   "outputs": [],
   "source": [
    "# drop2"
   ]
  },
  {
   "cell_type": "code",
   "execution_count": 62,
   "id": "9d25a286",
   "metadata": {},
   "outputs": [
    {
     "name": "stderr",
     "output_type": "stream",
     "text": [
      "C:\\Users\\Asus\\AppData\\Local\\Temp\\ipykernel_11048\\3430739626.py:2: SettingWithCopyWarning: \n",
      "A value is trying to be set on a copy of a slice from a DataFrame.\n",
      "Try using .loc[row_indexer,col_indexer] = value instead\n",
      "\n",
      "See the caveats in the documentation: https://pandas.pydata.org/pandas-docs/stable/user_guide/indexing.html#returning-a-view-versus-a-copy\n",
      "  drop2['Current (mA) - Plot 0.2'] = drop2['Current (mA) - Plot 0.2'].apply(lambda x: x*-1)\n"
     ]
    }
   ],
   "source": [
    "drop2=iv1_s2.iloc[:,6:9]\n",
    "drop2['Current (mA) - Plot 0.2'] = drop2['Current (mA) - Plot 0.2'].apply(lambda x: x*-1)\n",
    "drop2=drop2[drop2['Current (mA) - Plot 0.2'] > 0]"
   ]
  },
  {
   "cell_type": "code",
   "execution_count": 63,
   "id": "9bebbf16",
   "metadata": {},
   "outputs": [
    {
     "data": {
      "text/plain": [
       "(78.399, 0.57, 384.2, 35.79961094824517, 42.9595331378942, 6.53325, 7.8399)"
      ]
     },
     "execution_count": 63,
     "metadata": {},
     "output_type": "execute_result"
    }
   ],
   "source": [
    "p2_max=drop2['power2'].max()\n",
    "voc2=drop2['Voltage (V) - Plot 0.2'].max()\n",
    "isc2=drop2['Current (mA) - Plot 0.2'].max()\n",
    "\n",
    "ff2=p2_max/(voc2*isc2)\n",
    "\n",
    "eff2=p2_max/12\n",
    "\n",
    "p2_max , voc2 , isc2 , ff2*100 , ff2*1.2*100 , p2_max/12 , p2_max/10"
   ]
  },
  {
   "cell_type": "code",
   "execution_count": 65,
   "id": "465c121a",
   "metadata": {},
   "outputs": [],
   "source": [
    "#drop3"
   ]
  },
  {
   "cell_type": "code",
   "execution_count": 66,
   "id": "c2298b63",
   "metadata": {},
   "outputs": [
    {
     "name": "stderr",
     "output_type": "stream",
     "text": [
      "C:\\Users\\Asus\\AppData\\Local\\Temp\\ipykernel_11048\\3795629627.py:2: SettingWithCopyWarning: \n",
      "A value is trying to be set on a copy of a slice from a DataFrame.\n",
      "Try using .loc[row_indexer,col_indexer] = value instead\n",
      "\n",
      "See the caveats in the documentation: https://pandas.pydata.org/pandas-docs/stable/user_guide/indexing.html#returning-a-view-versus-a-copy\n",
      "  drop3['Current (mA) - Plot 0.3'] = drop3['Current (mA) - Plot 0.3'].apply(lambda x: x*-1)\n"
     ]
    }
   ],
   "source": [
    "drop3=iv1_s2.iloc[:,9:12]\n",
    "drop3['Current (mA) - Plot 0.3'] = drop3['Current (mA) - Plot 0.3'].apply(lambda x: x*-1)"
   ]
  },
  {
   "cell_type": "code",
   "execution_count": 67,
   "id": "b1fc649c",
   "metadata": {},
   "outputs": [],
   "source": [
    "drop3=drop3[drop3['Current (mA) - Plot 0.3'] > 0]"
   ]
  },
  {
   "cell_type": "code",
   "execution_count": 68,
   "id": "0f667f5e",
   "metadata": {},
   "outputs": [
    {
     "data": {
      "text/plain": [
       "(75.702,\n",
       " 0.55,\n",
       " 368.9,\n",
       " 37.310924369747895,\n",
       " 44.773109243697476,\n",
       " 6.3084999999999996,\n",
       " 7.5702)"
      ]
     },
     "execution_count": 68,
     "metadata": {},
     "output_type": "execute_result"
    }
   ],
   "source": [
    "p3_max=drop3['power3'].max()\n",
    "voc3=drop3['Voltage (V) - Plot 0.3'].max()\n",
    "isc3=drop3['Current (mA) - Plot 0.3'].max()\n",
    "\n",
    "ff3=p3_max/(voc3*isc3)\n",
    "\n",
    "\n",
    "p3_max,voc3,isc3,  ff3*100 , ff3*1.2*100 , p3_max/12 , p3_max/10"
   ]
  },
  {
   "cell_type": "code",
   "execution_count": 70,
   "id": "d5b7d57d",
   "metadata": {},
   "outputs": [
    {
     "data": {
      "text/html": [
       "<style type=\"text/css\">\n",
       "#T_6d0e9 caption {\n",
       "  text-align: center;\n",
       "  font-size: 150%;\n",
       "  color: red;\n",
       "}\n",
       "</style>\n",
       "<table id=\"T_6d0e9\">\n",
       "  <caption>sample #2 _ folder1</caption>\n",
       "  <thead>\n",
       "    <tr>\n",
       "      <th class=\"blank level0\" >&nbsp;</th>\n",
       "      <th id=\"T_6d0e9_level0_col0\" class=\"col_heading level0 col0\" >voc_s2</th>\n",
       "      <th id=\"T_6d0e9_level0_col1\" class=\"col_heading level0 col1\" >isc_s2</th>\n",
       "      <th id=\"T_6d0e9_level0_col2\" class=\"col_heading level0 col2\" >p_max</th>\n",
       "      <th id=\"T_6d0e9_level0_col3\" class=\"col_heading level0 col3\" >ff*100</th>\n",
       "      <th id=\"T_6d0e9_level0_col4\" class=\"col_heading level0 col4\" >ff*1.2*100</th>\n",
       "      <th id=\"T_6d0e9_level0_col5\" class=\"col_heading level0 col5\" >p_max/12 (eff)</th>\n",
       "      <th id=\"T_6d0e9_level0_col6\" class=\"col_heading level0 col6\" >p_max/10 (eff)</th>\n",
       "    </tr>\n",
       "  </thead>\n",
       "  <tbody>\n",
       "    <tr>\n",
       "      <th id=\"T_6d0e9_level0_row0\" class=\"row_heading level0 row0\" >BARE</th>\n",
       "      <td id=\"T_6d0e9_row0_col0\" class=\"data row0 col0\" >0.570000</td>\n",
       "      <td id=\"T_6d0e9_row0_col1\" class=\"data row0 col1\" >391.300000</td>\n",
       "      <td id=\"T_6d0e9_row0_col2\" class=\"data row0 col2\" >68.933000</td>\n",
       "      <td id=\"T_6d0e9_row0_col3\" class=\"data row0 col3\" >30.905977</td>\n",
       "      <td id=\"T_6d0e9_row0_col4\" class=\"data row0 col4\" >37.087172</td>\n",
       "      <td id=\"T_6d0e9_row0_col5\" class=\"data row0 col5\" >5.744417</td>\n",
       "      <td id=\"T_6d0e9_row0_col6\" class=\"data row0 col6\" >6.893300</td>\n",
       "    </tr>\n",
       "    <tr>\n",
       "      <th id=\"T_6d0e9_level0_row1\" class=\"row_heading level0 row1\" >DROP1</th>\n",
       "      <td id=\"T_6d0e9_row1_col0\" class=\"data row1 col0\" >0.550000</td>\n",
       "      <td id=\"T_6d0e9_row1_col1\" class=\"data row1 col1\" >357.000000</td>\n",
       "      <td id=\"T_6d0e9_row1_col2\" class=\"data row1 col2\" >70.153000</td>\n",
       "      <td id=\"T_6d0e9_row1_col3\" class=\"data row1 col3\" >35.728546</td>\n",
       "      <td id=\"T_6d0e9_row1_col4\" class=\"data row1 col4\" >42.874255</td>\n",
       "      <td id=\"T_6d0e9_row1_col5\" class=\"data row1 col5\" >5.846083</td>\n",
       "      <td id=\"T_6d0e9_row1_col6\" class=\"data row1 col6\" >7.015300</td>\n",
       "    </tr>\n",
       "    <tr>\n",
       "      <th id=\"T_6d0e9_level0_row2\" class=\"row_heading level0 row2\" >DROP2</th>\n",
       "      <td id=\"T_6d0e9_row2_col0\" class=\"data row2 col0\" >0.570000</td>\n",
       "      <td id=\"T_6d0e9_row2_col1\" class=\"data row2 col1\" >384.200000</td>\n",
       "      <td id=\"T_6d0e9_row2_col2\" class=\"data row2 col2\" >78.399000</td>\n",
       "      <td id=\"T_6d0e9_row2_col3\" class=\"data row2 col3\" >35.799611</td>\n",
       "      <td id=\"T_6d0e9_row2_col4\" class=\"data row2 col4\" >42.959533</td>\n",
       "      <td id=\"T_6d0e9_row2_col5\" class=\"data row2 col5\" >6.533250</td>\n",
       "      <td id=\"T_6d0e9_row2_col6\" class=\"data row2 col6\" >7.839900</td>\n",
       "    </tr>\n",
       "    <tr>\n",
       "      <th id=\"T_6d0e9_level0_row3\" class=\"row_heading level0 row3\" >DROP3</th>\n",
       "      <td id=\"T_6d0e9_row3_col0\" class=\"data row3 col0\" >0.550000</td>\n",
       "      <td id=\"T_6d0e9_row3_col1\" class=\"data row3 col1\" >368.900000</td>\n",
       "      <td id=\"T_6d0e9_row3_col2\" class=\"data row3 col2\" >75.702000</td>\n",
       "      <td id=\"T_6d0e9_row3_col3\" class=\"data row3 col3\" >37.310924</td>\n",
       "      <td id=\"T_6d0e9_row3_col4\" class=\"data row3 col4\" >44.773109</td>\n",
       "      <td id=\"T_6d0e9_row3_col5\" class=\"data row3 col5\" >6.308500</td>\n",
       "      <td id=\"T_6d0e9_row3_col6\" class=\"data row3 col6\" >7.570200</td>\n",
       "    </tr>\n",
       "  </tbody>\n",
       "</table>\n"
      ],
      "text/plain": [
       "<pandas.io.formats.style.Styler at 0x2371e9e5640>"
      ]
     },
     "execution_count": 70,
     "metadata": {},
     "output_type": "execute_result"
    }
   ],
   "source": [
    "x1={'voc_s2':[voc0,voc1,voc2,voc3],\n",
    "             \n",
    "             'isc_s2':[isc0,isc1,isc2,isc3],\n",
    "    \n",
    "            'p_max':[p0_max,p1_max,p2_max,p3_max],\n",
    "    \n",
    "    \n",
    "             'ff*100':[ff0*100,ff1*100,ff2*100,ff3*100],\n",
    "    \n",
    "    'ff*1.2*100':[ff0*100*1.2,ff1*100*1.2,ff2*100*1.2,ff3*100*1.2],\n",
    "    \n",
    "    'p_max/12 (eff)':[p0_max/12,p1_max/12,p2_max/12,p3_max/12],\n",
    "    \n",
    "    'p_max/10 (eff)':[p0_max/10,p1_max/10,p2_max/10,p3_max/10]\n",
    "    \n",
    "    \n",
    "    \n",
    "    \n",
    "             \n",
    "              }\n",
    "\n",
    "x1 = pd.DataFrame(x1,index=['BARE','DROP1','DROP2','DROP3'])\n",
    "\n",
    "styles = [dict(selector=\"caption\",\n",
    "                       props=[(\"text-align\", \"center\"),\n",
    "                              (\"font-size\", \"150%\"),\n",
    "                              (\"color\", 'red')])]\n",
    "\n",
    "x1 = x1.style.set_caption(\"sample #2 _ folder1\").set_table_styles(styles)\n",
    "\n",
    "\n",
    "x1"
   ]
  },
  {
   "cell_type": "markdown",
   "id": "85516284",
   "metadata": {},
   "source": [
    "# folder1 #sample3"
   ]
  },
  {
   "cell_type": "code",
   "execution_count": 69,
   "id": "71dd786e",
   "metadata": {},
   "outputs": [],
   "source": [
    "iv1_s3= pd.read_excel(r'C:\\Users\\Asus\\Desktop\\solar_cell\\I-V data\\1\\IV.xlsx', sheet_name='Sample #3')\n",
    "iv1_s3.dropna(axis='columns',inplace=True)\n",
    "iv1_s3=iv1_s3.copy().rename(columns={'Unnamed: 2': 'power0' ,\n",
    "                                'Unnamed: 9': 'power1',\n",
    "                              'Unnamed: 16': 'power2' ,\n",
    "                               'Unnamed: 22': 'power3',\n",
    "                              'Unnamed: 29': 'power4',\n",
    "                              'Unnamed: 35': 'power5',\n",
    "                              'Unnamed: 41': 'power6'})"
   ]
  },
  {
   "cell_type": "code",
   "execution_count": 70,
   "id": "4809ee28",
   "metadata": {
    "scrolled": true
   },
   "outputs": [
    {
     "data": {
      "text/plain": [
       "Index(['Voltage (V) - Plot 0', 'Current (mA) - Plot 0', 'power0',\n",
       "       'Voltage (V) - Plot 0.1', 'Current (mA) - Plot 0.1', 'power1',\n",
       "       'Voltage (V) - Plot 0.2', 'Current (mA) - Plot 0.2', 'power2',\n",
       "       'Voltage (V) - Plot 0.3', 'Current (mA) - Plot 0.3', 'power3',\n",
       "       'Voltage (V) - Plot 0.4', 'Current (mA) - Plot 0.4', 'power4',\n",
       "       'Voltage (V) - Plot 0.5', 'Current (mA) - Plot 0.5', 'power5',\n",
       "       'Voltage (V) - Plot 0.6', 'Current (mA) - Plot 0.6', 'power6'],\n",
       "      dtype='object')"
      ]
     },
     "execution_count": 70,
     "metadata": {},
     "output_type": "execute_result"
    }
   ],
   "source": [
    "iv1_s3.columns"
   ]
  },
  {
   "cell_type": "code",
   "execution_count": 71,
   "id": "5d0daf91",
   "metadata": {},
   "outputs": [],
   "source": [
    "#bare"
   ]
  },
  {
   "cell_type": "code",
   "execution_count": 72,
   "id": "574ee4d1",
   "metadata": {},
   "outputs": [
    {
     "name": "stderr",
     "output_type": "stream",
     "text": [
      "C:\\Users\\Asus\\AppData\\Local\\Temp\\ipykernel_11912\\4182143435.py:7: SettingWithCopyWarning: \n",
      "A value is trying to be set on a copy of a slice from a DataFrame\n",
      "\n",
      "See the caveats in the documentation: https://pandas.pydata.org/pandas-docs/stable/user_guide/indexing.html#returning-a-view-versus-a-copy\n",
      "  df.iloc[:,1:2]=df.iloc[:,1:2].apply(lambda x:x*-1)\n"
     ]
    },
    {
     "data": {
      "text/plain": [
       "(0.57,\n",
       " 367.1,\n",
       " 4.784999999999999,\n",
       " 5.741999999999999,\n",
       " 32.92950436565398,\n",
       " 27.441253638044987)"
      ]
     },
     "execution_count": 72,
     "metadata": {},
     "output_type": "execute_result"
    }
   ],
   "source": [
    "bare=iv1_s3.iloc[:,:3]\n",
    "res(bare)"
   ]
  },
  {
   "cell_type": "code",
   "execution_count": 67,
   "id": "d8bcb5c1",
   "metadata": {},
   "outputs": [
    {
     "name": "stderr",
     "output_type": "stream",
     "text": [
      "C:\\Users\\Asus\\AppData\\Local\\Temp\\ipykernel_11912\\3824582325.py:2: SettingWithCopyWarning: \n",
      "A value is trying to be set on a copy of a slice from a DataFrame.\n",
      "Try using .loc[row_indexer,col_indexer] = value instead\n",
      "\n",
      "See the caveats in the documentation: https://pandas.pydata.org/pandas-docs/stable/user_guide/indexing.html#returning-a-view-versus-a-copy\n",
      "  bare['Current (mA) - Plot 0'] = bare['Current (mA) - Plot 0'].apply(lambda x: x*-1)\n"
     ]
    }
   ],
   "source": [
    "bare=iv1_s3.iloc[:,:3]\n",
    "bare['Current (mA) - Plot 0'] = bare['Current (mA) - Plot 0'].apply(lambda x: x*-1)\n",
    "bare=bare[bare['Current (mA) - Plot 0'] > 0]"
   ]
  },
  {
   "cell_type": "code",
   "execution_count": 68,
   "id": "87b8ebf4",
   "metadata": {},
   "outputs": [
    {
     "data": {
      "text/plain": [
       "(57.419999999999995,\n",
       " 0.57,\n",
       " 367.1,\n",
       " 27.441253638044987,\n",
       " 32.92950436565398,\n",
       " 4.784999999999999,\n",
       " 5.741999999999999)"
      ]
     },
     "execution_count": 68,
     "metadata": {},
     "output_type": "execute_result"
    }
   ],
   "source": [
    "p0_max=bare['power0'].max()\n",
    "voc0=bare['Voltage (V) - Plot 0'].max()\n",
    "isc0=bare['Current (mA) - Plot 0'].max()\n",
    "\n",
    "ff0=p0_max/(voc0*isc0)\n",
    "eff0=p0_max/12\n",
    "\n",
    "p0_max , voc0 , isc0 , ff0*100 , ff0*1.2*100 , p0_max/12 , p0_max/10"
   ]
  },
  {
   "cell_type": "code",
   "execution_count": 85,
   "id": "398327ee",
   "metadata": {},
   "outputs": [],
   "source": [
    "# drop1"
   ]
  },
  {
   "cell_type": "code",
   "execution_count": 86,
   "id": "f5c71a41",
   "metadata": {},
   "outputs": [],
   "source": [
    "drop1=iv1_s3.iloc[:,3:6]\n",
    "drop1['Current (mA) - Plot 0.1'] = drop1['Current (mA) - Plot 0.1'].apply(lambda x: x*-1)\n",
    "drop1=drop1[drop1['Current (mA) - Plot 0.1'] > 0]"
   ]
  },
  {
   "cell_type": "code",
   "execution_count": 87,
   "id": "5429fc85",
   "metadata": {},
   "outputs": [
    {
     "data": {
      "text/plain": [
       "(67.642,\n",
       " 0.57,\n",
       " 368.9,\n",
       " 32.168656936458795,\n",
       " 38.60238832375055,\n",
       " 5.636833333333333,\n",
       " 6.7642)"
      ]
     },
     "execution_count": 87,
     "metadata": {},
     "output_type": "execute_result"
    }
   ],
   "source": [
    "p1_max=drop1['power1'].max()\n",
    "voc1=drop1['Voltage (V) - Plot 0.1'].max()\n",
    "isc1=drop1['Current (mA) - Plot 0.1'].max()\n",
    "\n",
    "ff1=p1_max/(voc1*isc1)\n",
    "eff1=p1_max/12\n",
    "\n",
    "p1_max , voc1 , isc1 , ff1*100 , ff1*1.2*100 , p1_max/12 , p1_max/10"
   ]
  },
  {
   "cell_type": "code",
   "execution_count": 88,
   "id": "3b0c99af",
   "metadata": {},
   "outputs": [],
   "source": [
    "#drop2"
   ]
  },
  {
   "cell_type": "code",
   "execution_count": 89,
   "id": "fd8116f6",
   "metadata": {},
   "outputs": [],
   "source": [
    "drop2=iv1_s3.iloc[:,6:9]\n",
    "drop2['Current (mA) - Plot 0.2'] = drop2['Current (mA) - Plot 0.2'].apply(lambda x: x*-1)\n",
    "drop2=drop2[drop2['Current (mA) - Plot 0.2'] > 0]"
   ]
  },
  {
   "cell_type": "code",
   "execution_count": 90,
   "id": "e13ecfd0",
   "metadata": {},
   "outputs": [
    {
     "data": {
      "text/plain": [
       "(77.19,\n",
       " 0.57,\n",
       " 379.9,\n",
       " 35.64649977140799,\n",
       " 42.77579972568959,\n",
       " 6.4325,\n",
       " 7.718999999999999)"
      ]
     },
     "execution_count": 90,
     "metadata": {},
     "output_type": "execute_result"
    }
   ],
   "source": [
    "p2_max=drop2['power2'].max()\n",
    "voc2=drop2['Voltage (V) - Plot 0.2'].max()\n",
    "isc2=drop2['Current (mA) - Plot 0.2'].max()\n",
    "\n",
    "ff2=p2_max/(voc2*isc2)\n",
    "\n",
    "eff2=p2_max/12\n",
    "\n",
    "p2_max , voc2 , isc2 , ff2*100 , ff2*1.2*100 , p2_max/12 , p2_max/10"
   ]
  },
  {
   "cell_type": "code",
   "execution_count": 91,
   "id": "806cbaf2",
   "metadata": {},
   "outputs": [],
   "source": [
    "#drop3"
   ]
  },
  {
   "cell_type": "code",
   "execution_count": 92,
   "id": "428ec113",
   "metadata": {},
   "outputs": [],
   "source": [
    "drop3=iv1_s3.iloc[:,9:12]\n",
    "drop3['Current (mA) - Plot 0.3'] = drop3['Current (mA) - Plot 0.3'].apply(lambda x: x*-1)"
   ]
  },
  {
   "cell_type": "code",
   "execution_count": 93,
   "id": "1599ce09",
   "metadata": {},
   "outputs": [],
   "source": [
    "drop3=drop3[drop3['Current (mA) - Plot 0.3'] > 0]"
   ]
  },
  {
   "cell_type": "code",
   "execution_count": 94,
   "id": "2e09d5ac",
   "metadata": {},
   "outputs": [
    {
     "data": {
      "text/plain": [
       "(69.409,\n",
       " 0.57,\n",
       " 339.5,\n",
       " 35.86750381107408,\n",
       " 43.041004573288895,\n",
       " 5.784083333333334,\n",
       " 6.940900000000001)"
      ]
     },
     "execution_count": 94,
     "metadata": {},
     "output_type": "execute_result"
    }
   ],
   "source": [
    "p3_max=drop3['power3'].max()\n",
    "voc3=drop3['Voltage (V) - Plot 0.3'].max()\n",
    "isc3=drop3['Current (mA) - Plot 0.3'].max()\n",
    "\n",
    "ff3=p3_max/(voc3*isc3)\n",
    "\n",
    "\n",
    "p3_max,voc3,isc3,  ff3*100 , ff3*1.2*100 , p3_max/12 , p3_max/10"
   ]
  },
  {
   "cell_type": "code",
   "execution_count": 95,
   "id": "973ef2ff",
   "metadata": {},
   "outputs": [],
   "source": [
    "#drop4"
   ]
  },
  {
   "cell_type": "code",
   "execution_count": 96,
   "id": "23aee8ea",
   "metadata": {},
   "outputs": [],
   "source": [
    "drop4=iv1_s3.iloc[:,12:15]\n",
    "drop4['Current (mA) - Plot 0.4'] = drop4['Current (mA) - Plot 0.4'].apply(lambda x: x*-1)\n",
    "drop4=drop4[drop4['Current (mA) - Plot 0.4'] > 0]"
   ]
  },
  {
   "cell_type": "code",
   "execution_count": 97,
   "id": "fdd14fb6",
   "metadata": {},
   "outputs": [
    {
     "data": {
      "text/plain": [
       "(79.577,\n",
       " 0.55,\n",
       " 420.7,\n",
       " 34.39159841822071,\n",
       " 41.26991810186485,\n",
       " 6.6314166666666665,\n",
       " 7.9577)"
      ]
     },
     "execution_count": 97,
     "metadata": {},
     "output_type": "execute_result"
    }
   ],
   "source": [
    "p4_max=drop4['power4'].max()\n",
    "voc4=drop4['Voltage (V) - Plot 0.4'].max()\n",
    "isc4=drop4['Current (mA) - Plot 0.4'].max()\n",
    "\n",
    "ff4=p4_max/(voc4*isc4)\n",
    "eff4=p4_max/12\n",
    "\n",
    "p4_max,voc4,isc4,  ff4*100 , ff4*1.2*100 , p4_max/12 , p4_max/10"
   ]
  },
  {
   "cell_type": "code",
   "execution_count": 98,
   "id": "0b10508a",
   "metadata": {},
   "outputs": [],
   "source": [
    "#drop5"
   ]
  },
  {
   "cell_type": "code",
   "execution_count": 99,
   "id": "db6a9eef",
   "metadata": {},
   "outputs": [],
   "source": [
    "drop5=iv1_s3.iloc[:,15:18]\n",
    "drop5['Current (mA) - Plot 0.5'] = drop5['Current (mA) - Plot 0.5'].apply(lambda x: x*-1)\n",
    "drop5=drop5[drop5['Current (mA) - Plot 0.5'] > 0]"
   ]
  },
  {
   "cell_type": "code",
   "execution_count": 100,
   "id": "6e7cec81",
   "metadata": {},
   "outputs": [
    {
     "data": {
      "text/plain": [
       "(72.881,\n",
       " 0.57,\n",
       " 349.5,\n",
       " 36.584092563310996,\n",
       " 43.9009110759732,\n",
       " 6.073416666666667,\n",
       " 7.2881)"
      ]
     },
     "execution_count": 100,
     "metadata": {},
     "output_type": "execute_result"
    }
   ],
   "source": [
    "p5_max=drop5['power5'].max()\n",
    "voc5=drop5['Voltage (V) - Plot 0.5'].max()\n",
    "isc5=drop5['Current (mA) - Plot 0.5'].max()\n",
    "\n",
    "ff5=p5_max/(voc5*isc5)\n",
    "eff5=p5_max/12\n",
    "\n",
    "p5_max , voc5 , isc5 ,  ff5*100 , ff5*1.2*100 , p5_max/12 , p5_max/10"
   ]
  },
  {
   "cell_type": "code",
   "execution_count": 101,
   "id": "5f3416fb",
   "metadata": {},
   "outputs": [],
   "source": [
    "#drop6"
   ]
  },
  {
   "cell_type": "code",
   "execution_count": 102,
   "id": "bedf960d",
   "metadata": {},
   "outputs": [],
   "source": [
    "drop6=iv1_s3.iloc[:,18:21]\n",
    "drop6['Current (mA) - Plot 0.6'] = drop6['Current (mA) - Plot 0.6'].apply(lambda x: x*-1)\n",
    "drop6=drop6[drop6['Current (mA) - Plot 0.6'] > 0]"
   ]
  },
  {
   "cell_type": "code",
   "execution_count": 103,
   "id": "26ebdd81",
   "metadata": {},
   "outputs": [
    {
     "data": {
      "text/plain": [
       "(79.918,\n",
       " 0.57,\n",
       " 381.6,\n",
       " 36.74188090772004,\n",
       " 44.09025708926404,\n",
       " 6.659833333333334,\n",
       " 7.9918000000000005)"
      ]
     },
     "execution_count": 103,
     "metadata": {},
     "output_type": "execute_result"
    }
   ],
   "source": [
    "p6_max=drop6['power6'].max()\n",
    "voc6=drop6['Voltage (V) - Plot 0.6'].max()\n",
    "isc6=drop6['Current (mA) - Plot 0.6'].max()\n",
    "\n",
    "ff6=p6_max/(voc6*isc6)\n",
    "\n",
    "p6_max , voc6 , isc6 ,  ff6*100 , ff6*1.2*100 , p6_max/12 , p6_max/10"
   ]
  },
  {
   "cell_type": "code",
   "execution_count": 104,
   "id": "d808b4f3",
   "metadata": {},
   "outputs": [
    {
     "data": {
      "text/html": [
       "<style type=\"text/css\">\n",
       "#T_9f6dd caption {\n",
       "  text-align: center;\n",
       "  font-size: 150%;\n",
       "  color: red;\n",
       "}\n",
       "</style>\n",
       "<table id=\"T_9f6dd\">\n",
       "  <caption>sample #3 _ folder1</caption>\n",
       "  <thead>\n",
       "    <tr>\n",
       "      <th class=\"blank level0\" >&nbsp;</th>\n",
       "      <th id=\"T_9f6dd_level0_col0\" class=\"col_heading level0 col0\" >voc_s3</th>\n",
       "      <th id=\"T_9f6dd_level0_col1\" class=\"col_heading level0 col1\" >isc_s3</th>\n",
       "      <th id=\"T_9f6dd_level0_col2\" class=\"col_heading level0 col2\" >p_max</th>\n",
       "      <th id=\"T_9f6dd_level0_col3\" class=\"col_heading level0 col3\" >ff*100</th>\n",
       "      <th id=\"T_9f6dd_level0_col4\" class=\"col_heading level0 col4\" >ff*1.2*100</th>\n",
       "      <th id=\"T_9f6dd_level0_col5\" class=\"col_heading level0 col5\" >p_max/12 (eff)</th>\n",
       "      <th id=\"T_9f6dd_level0_col6\" class=\"col_heading level0 col6\" >p_max/10 (eff)</th>\n",
       "    </tr>\n",
       "  </thead>\n",
       "  <tbody>\n",
       "    <tr>\n",
       "      <th id=\"T_9f6dd_level0_row0\" class=\"row_heading level0 row0\" >BARE</th>\n",
       "      <td id=\"T_9f6dd_row0_col0\" class=\"data row0 col0\" >0.570000</td>\n",
       "      <td id=\"T_9f6dd_row0_col1\" class=\"data row0 col1\" >367.100000</td>\n",
       "      <td id=\"T_9f6dd_row0_col2\" class=\"data row0 col2\" >57.420000</td>\n",
       "      <td id=\"T_9f6dd_row0_col3\" class=\"data row0 col3\" >27.441254</td>\n",
       "      <td id=\"T_9f6dd_row0_col4\" class=\"data row0 col4\" >32.929504</td>\n",
       "      <td id=\"T_9f6dd_row0_col5\" class=\"data row0 col5\" >4.785000</td>\n",
       "      <td id=\"T_9f6dd_row0_col6\" class=\"data row0 col6\" >5.742000</td>\n",
       "    </tr>\n",
       "    <tr>\n",
       "      <th id=\"T_9f6dd_level0_row1\" class=\"row_heading level0 row1\" >DROP1</th>\n",
       "      <td id=\"T_9f6dd_row1_col0\" class=\"data row1 col0\" >0.570000</td>\n",
       "      <td id=\"T_9f6dd_row1_col1\" class=\"data row1 col1\" >368.900000</td>\n",
       "      <td id=\"T_9f6dd_row1_col2\" class=\"data row1 col2\" >67.642000</td>\n",
       "      <td id=\"T_9f6dd_row1_col3\" class=\"data row1 col3\" >32.168657</td>\n",
       "      <td id=\"T_9f6dd_row1_col4\" class=\"data row1 col4\" >38.602388</td>\n",
       "      <td id=\"T_9f6dd_row1_col5\" class=\"data row1 col5\" >5.636833</td>\n",
       "      <td id=\"T_9f6dd_row1_col6\" class=\"data row1 col6\" >6.764200</td>\n",
       "    </tr>\n",
       "    <tr>\n",
       "      <th id=\"T_9f6dd_level0_row2\" class=\"row_heading level0 row2\" >DROP2</th>\n",
       "      <td id=\"T_9f6dd_row2_col0\" class=\"data row2 col0\" >0.570000</td>\n",
       "      <td id=\"T_9f6dd_row2_col1\" class=\"data row2 col1\" >379.900000</td>\n",
       "      <td id=\"T_9f6dd_row2_col2\" class=\"data row2 col2\" >77.190000</td>\n",
       "      <td id=\"T_9f6dd_row2_col3\" class=\"data row2 col3\" >35.646500</td>\n",
       "      <td id=\"T_9f6dd_row2_col4\" class=\"data row2 col4\" >42.775800</td>\n",
       "      <td id=\"T_9f6dd_row2_col5\" class=\"data row2 col5\" >6.432500</td>\n",
       "      <td id=\"T_9f6dd_row2_col6\" class=\"data row2 col6\" >7.719000</td>\n",
       "    </tr>\n",
       "    <tr>\n",
       "      <th id=\"T_9f6dd_level0_row3\" class=\"row_heading level0 row3\" >DROP3</th>\n",
       "      <td id=\"T_9f6dd_row3_col0\" class=\"data row3 col0\" >0.570000</td>\n",
       "      <td id=\"T_9f6dd_row3_col1\" class=\"data row3 col1\" >339.500000</td>\n",
       "      <td id=\"T_9f6dd_row3_col2\" class=\"data row3 col2\" >69.409000</td>\n",
       "      <td id=\"T_9f6dd_row3_col3\" class=\"data row3 col3\" >35.867504</td>\n",
       "      <td id=\"T_9f6dd_row3_col4\" class=\"data row3 col4\" >43.041005</td>\n",
       "      <td id=\"T_9f6dd_row3_col5\" class=\"data row3 col5\" >5.784083</td>\n",
       "      <td id=\"T_9f6dd_row3_col6\" class=\"data row3 col6\" >6.940900</td>\n",
       "    </tr>\n",
       "    <tr>\n",
       "      <th id=\"T_9f6dd_level0_row4\" class=\"row_heading level0 row4\" >DROP4</th>\n",
       "      <td id=\"T_9f6dd_row4_col0\" class=\"data row4 col0\" >0.550000</td>\n",
       "      <td id=\"T_9f6dd_row4_col1\" class=\"data row4 col1\" >420.700000</td>\n",
       "      <td id=\"T_9f6dd_row4_col2\" class=\"data row4 col2\" >79.577000</td>\n",
       "      <td id=\"T_9f6dd_row4_col3\" class=\"data row4 col3\" >34.391598</td>\n",
       "      <td id=\"T_9f6dd_row4_col4\" class=\"data row4 col4\" >41.269918</td>\n",
       "      <td id=\"T_9f6dd_row4_col5\" class=\"data row4 col5\" >6.631417</td>\n",
       "      <td id=\"T_9f6dd_row4_col6\" class=\"data row4 col6\" >7.957700</td>\n",
       "    </tr>\n",
       "    <tr>\n",
       "      <th id=\"T_9f6dd_level0_row5\" class=\"row_heading level0 row5\" >DROP5</th>\n",
       "      <td id=\"T_9f6dd_row5_col0\" class=\"data row5 col0\" >0.570000</td>\n",
       "      <td id=\"T_9f6dd_row5_col1\" class=\"data row5 col1\" >349.500000</td>\n",
       "      <td id=\"T_9f6dd_row5_col2\" class=\"data row5 col2\" >72.881000</td>\n",
       "      <td id=\"T_9f6dd_row5_col3\" class=\"data row5 col3\" >36.584093</td>\n",
       "      <td id=\"T_9f6dd_row5_col4\" class=\"data row5 col4\" >43.900911</td>\n",
       "      <td id=\"T_9f6dd_row5_col5\" class=\"data row5 col5\" >6.073417</td>\n",
       "      <td id=\"T_9f6dd_row5_col6\" class=\"data row5 col6\" >7.288100</td>\n",
       "    </tr>\n",
       "    <tr>\n",
       "      <th id=\"T_9f6dd_level0_row6\" class=\"row_heading level0 row6\" >DROP6</th>\n",
       "      <td id=\"T_9f6dd_row6_col0\" class=\"data row6 col0\" >0.570000</td>\n",
       "      <td id=\"T_9f6dd_row6_col1\" class=\"data row6 col1\" >381.600000</td>\n",
       "      <td id=\"T_9f6dd_row6_col2\" class=\"data row6 col2\" >79.918000</td>\n",
       "      <td id=\"T_9f6dd_row6_col3\" class=\"data row6 col3\" >36.741881</td>\n",
       "      <td id=\"T_9f6dd_row6_col4\" class=\"data row6 col4\" >44.090257</td>\n",
       "      <td id=\"T_9f6dd_row6_col5\" class=\"data row6 col5\" >6.659833</td>\n",
       "      <td id=\"T_9f6dd_row6_col6\" class=\"data row6 col6\" >7.991800</td>\n",
       "    </tr>\n",
       "  </tbody>\n",
       "</table>\n"
      ],
      "text/plain": [
       "<pandas.io.formats.style.Styler at 0x23721895b50>"
      ]
     },
     "execution_count": 104,
     "metadata": {},
     "output_type": "execute_result"
    }
   ],
   "source": [
    "x1={'voc_s3':[voc0,voc1,voc2,voc3,voc4,voc5,voc6],\n",
    "             \n",
    "             'isc_s3':[isc0,isc1,isc2,isc3,isc4,isc5,isc6],\n",
    "    \n",
    "            'p_max':[p0_max,p1_max,p2_max,p3_max,p4_max,p5_max,p6_max],\n",
    "    \n",
    "    \n",
    "             'ff*100':[ff0*100,ff1*100,ff2*100,ff3*100,ff4*100,ff5*100,ff6*100],\n",
    "    \n",
    "    'ff*1.2*100':[ff0*100*1.2,ff1*100*1.2,ff2*100*1.2,ff3*100*1.2,ff4*100*1.2,ff5*100*1.2,ff6*100*1.2],\n",
    "    \n",
    "    'p_max/12 (eff)':[p0_max/12,p1_max/12,p2_max/12,p3_max/12,p4_max/12,p5_max/12,p6_max/12],\n",
    "    \n",
    "    'p_max/10 (eff)':[p0_max/10,p1_max/10,p2_max/10,p3_max/10,p4_max/10,p5_max/10,p6_max/10]\n",
    "    \n",
    "    \n",
    "    \n",
    "    \n",
    "             \n",
    "              }\n",
    "\n",
    "x1 = pd.DataFrame(x1,index=['BARE','DROP1','DROP2','DROP3','DROP4','DROP5','DROP6'])\n",
    "\n",
    "styles = [dict(selector=\"caption\",\n",
    "                       props=[(\"text-align\", \"center\"),\n",
    "                              (\"font-size\", \"150%\"),\n",
    "                              (\"color\", 'red')])]\n",
    "\n",
    "x1 = x1.style.set_caption(\"sample #3 _ folder1\").set_table_styles(styles)\n",
    "\n",
    "\n",
    "x1"
   ]
  },
  {
   "cell_type": "markdown",
   "id": "c43f5b75",
   "metadata": {},
   "source": [
    "# folder1 #sample4"
   ]
  },
  {
   "cell_type": "code",
   "execution_count": 142,
   "id": "c79a9bbc",
   "metadata": {},
   "outputs": [],
   "source": [
    "iv1_s4= pd.read_excel(r'C:\\Users\\Asus\\Desktop\\solar_cell\\I-V data\\1\\IV.xlsx', sheet_name='Sample #4')\n"
   ]
  },
  {
   "cell_type": "code",
   "execution_count": 143,
   "id": "ad7e2bb6",
   "metadata": {},
   "outputs": [],
   "source": [
    "iv1_s4.dropna(axis='columns',inplace=True)"
   ]
  },
  {
   "cell_type": "code",
   "execution_count": 144,
   "id": "f2ee4905",
   "metadata": {},
   "outputs": [],
   "source": [
    "iv1_s4=iv1_s4.copy().rename(columns={'Unnamed: 2': 'power0' ,\n",
    "                                'Unnamed: 9': 'power1',\n",
    "                              'Unnamed: 16': 'power2' ,\n",
    "                               'Unnamed: 22': 'power3',\n",
    "                              'Unnamed: 28': 'power4',\n",
    "                              'Unnamed: 34': 'power5',\n",
    "                              'Unnamed: 40': 'power6'})"
   ]
  },
  {
   "cell_type": "code",
   "execution_count": 145,
   "id": "0d976936",
   "metadata": {},
   "outputs": [
    {
     "data": {
      "text/plain": [
       "Index(['Voltage (V) - Plot 0', 'Current (mA) - Plot 0', 'power0',\n",
       "       'Voltage (V) - Plot 0.1', 'Current (mA) - Plot 0.1', 'power1',\n",
       "       'Voltage (V) - Plot 0.2', 'Current (mA) - Plot 0.2', 'power2',\n",
       "       'Voltage (V) - Plot 0.3', 'Current (mA) - Plot 0.3', 'power3',\n",
       "       'Voltage (V) - Plot 0.4', 'Current (mA) - Plot 0.4', 'power4',\n",
       "       'Voltage (V) - Plot 0.5', 'Current (mA) - Plot 0.5', 'power5',\n",
       "       'Voltage (V) - Plot 0.6', 'Current (mA) - Plot 0.6', 'power6'],\n",
       "      dtype='object')"
      ]
     },
     "execution_count": 145,
     "metadata": {},
     "output_type": "execute_result"
    }
   ],
   "source": [
    "iv1_s4.columns"
   ]
  },
  {
   "cell_type": "code",
   "execution_count": 146,
   "id": "d041f598",
   "metadata": {},
   "outputs": [],
   "source": [
    "#bare"
   ]
  },
  {
   "cell_type": "code",
   "execution_count": 147,
   "id": "5e5605bd",
   "metadata": {},
   "outputs": [],
   "source": [
    "bare=iv1_s4.iloc[:,:3]\n",
    "bare['Current (mA) - Plot 0'] = bare['Current (mA) - Plot 0'].apply(lambda x: x*-1)\n",
    "bare=bare[bare['Current (mA) - Plot 0'] > 0]"
   ]
  },
  {
   "cell_type": "code",
   "execution_count": 148,
   "id": "9ca34f26",
   "metadata": {},
   "outputs": [
    {
     "data": {
      "text/plain": [
       "(68.045,\n",
       " 0.55,\n",
       " 363.8,\n",
       " 34.007196761457344,\n",
       " 40.80863611374881,\n",
       " 5.670416666666667,\n",
       " 6.8045)"
      ]
     },
     "execution_count": 148,
     "metadata": {},
     "output_type": "execute_result"
    }
   ],
   "source": [
    "p0_max=bare['power0'].max()\n",
    "voc0=bare['Voltage (V) - Plot 0'].max()\n",
    "isc0=bare['Current (mA) - Plot 0'].max()\n",
    "\n",
    "ff0=p0_max/(voc0*isc0)\n",
    "eff0=p0_max/12\n",
    "\n",
    "p0_max , voc0 , isc0 , ff0*100 , ff0*1.2*100 , p0_max/12 , p0_max/10"
   ]
  },
  {
   "cell_type": "code",
   "execution_count": 149,
   "id": "3190e9f6",
   "metadata": {},
   "outputs": [],
   "source": [
    "#drop1"
   ]
  },
  {
   "cell_type": "code",
   "execution_count": 150,
   "id": "7db0277c",
   "metadata": {},
   "outputs": [],
   "source": [
    "drop1=iv1_s4.iloc[:,3:6]\n",
    "drop1['Current (mA) - Plot 0.1'] = drop1['Current (mA) - Plot 0.1'].apply(lambda x: x*-1)\n",
    "drop1=drop1[drop1['Current (mA) - Plot 0.1'] > 0]"
   ]
  },
  {
   "cell_type": "code",
   "execution_count": 151,
   "id": "e8e34d4f",
   "metadata": {},
   "outputs": [
    {
     "data": {
      "text/plain": [
       "(71.331,\n",
       " 0.55,\n",
       " 357.5,\n",
       " 36.27768595041322,\n",
       " 43.53322314049586,\n",
       " 5.94425,\n",
       " 7.133100000000001)"
      ]
     },
     "execution_count": 151,
     "metadata": {},
     "output_type": "execute_result"
    }
   ],
   "source": [
    "p1_max=drop1['power1'].max()\n",
    "voc1=drop1['Voltage (V) - Plot 0.1'].max()\n",
    "isc1=drop1['Current (mA) - Plot 0.1'].max()\n",
    "\n",
    "ff1=p1_max/(voc1*isc1)\n",
    "eff1=p1_max/12\n",
    "\n",
    "p1_max , voc1 , isc1 , ff1*100 , ff1*1.2*100 , p1_max/12 , p1_max/10"
   ]
  },
  {
   "cell_type": "code",
   "execution_count": 152,
   "id": "892d11ac",
   "metadata": {},
   "outputs": [],
   "source": [
    "#drop2"
   ]
  },
  {
   "cell_type": "code",
   "execution_count": 153,
   "id": "23e73e1f",
   "metadata": {},
   "outputs": [],
   "source": [
    "drop2=iv1_s4.iloc[:,6:9]\n",
    "drop2['Current (mA) - Plot 0.2'] = drop2['Current (mA) - Plot 0.2'].apply(lambda x: x*-1)\n",
    "drop2=drop2[drop2['Current (mA) - Plot 0.2'] > 0]"
   ]
  },
  {
   "cell_type": "code",
   "execution_count": 154,
   "id": "36530565",
   "metadata": {},
   "outputs": [
    {
     "data": {
      "text/plain": [
       "(72.881,\n",
       " 0.57,\n",
       " 337.1,\n",
       " 37.929814152706,\n",
       " 45.5157769832472,\n",
       " 6.073416666666667,\n",
       " 7.2881)"
      ]
     },
     "execution_count": 154,
     "metadata": {},
     "output_type": "execute_result"
    }
   ],
   "source": [
    "p2_max=drop2['power2'].max()\n",
    "voc2=drop2['Voltage (V) - Plot 0.2'].max()\n",
    "isc2=drop2['Current (mA) - Plot 0.2'].max()\n",
    "\n",
    "ff2=p2_max/(voc2*isc2)\n",
    "\n",
    "eff2=p2_max/12\n",
    "\n",
    "p2_max , voc2 , isc2 , ff2*100 , ff2*1.2*100 , p2_max/12 , p2_max/10"
   ]
  },
  {
   "cell_type": "code",
   "execution_count": 155,
   "id": "d8408cc5",
   "metadata": {},
   "outputs": [],
   "source": [
    "#drop3"
   ]
  },
  {
   "cell_type": "code",
   "execution_count": 156,
   "id": "590d6347",
   "metadata": {},
   "outputs": [],
   "source": [
    "drop3=iv1_s4.iloc[:,9:12]\n",
    "drop3['Current (mA) - Plot 0.3'] = drop3['Current (mA) - Plot 0.3'].apply(lambda x: x*-1)\n",
    "drop3=drop3[drop3['Current (mA) - Plot 0.3'] > 0]"
   ]
  },
  {
   "cell_type": "code",
   "execution_count": 157,
   "id": "60430376",
   "metadata": {},
   "outputs": [
    {
     "data": {
      "text/plain": [
       "(71.238, 0.55, 373.2, 34.70622624963461, 41.647471499561526, 5.9365, 7.1238)"
      ]
     },
     "execution_count": 157,
     "metadata": {},
     "output_type": "execute_result"
    }
   ],
   "source": [
    "p3_max=drop3['power3'].max()\n",
    "voc3=drop3['Voltage (V) - Plot 0.3'].max()\n",
    "isc3=drop3['Current (mA) - Plot 0.3'].max()\n",
    "\n",
    "ff3=p3_max/(voc3*isc3)\n",
    "\n",
    "\n",
    "p3_max,voc3,isc3,  ff3*100 , ff3*1.2*100 , p3_max/12 , p3_max/10"
   ]
  },
  {
   "cell_type": "code",
   "execution_count": 158,
   "id": "9208a2b4",
   "metadata": {},
   "outputs": [],
   "source": [
    "#drop4"
   ]
  },
  {
   "cell_type": "code",
   "execution_count": 159,
   "id": "69d194ca",
   "metadata": {},
   "outputs": [],
   "source": [
    "drop4=iv1_s4.iloc[:,12:15]\n",
    "drop4['Current (mA) - Plot 0.4'] = drop4['Current (mA) - Plot 0.4'].apply(lambda x: x*-1)\n",
    "drop4=drop4[drop4['Current (mA) - Plot 0.4'] > 0]"
   ]
  },
  {
   "cell_type": "code",
   "execution_count": 160,
   "id": "075bbc38",
   "metadata": {},
   "outputs": [
    {
     "data": {
      "text/plain": [
       "(80.197,\n",
       " 0.57,\n",
       " 359.4,\n",
       " 39.147604682267726,\n",
       " 46.97712561872127,\n",
       " 6.683083333333333,\n",
       " 8.0197)"
      ]
     },
     "execution_count": 160,
     "metadata": {},
     "output_type": "execute_result"
    }
   ],
   "source": [
    "p4_max=drop4['power4'].max()\n",
    "voc4=drop4['Voltage (V) - Plot 0.4'].max()\n",
    "isc4=drop4['Current (mA) - Plot 0.4'].max()\n",
    "\n",
    "ff4=p4_max/(voc4*isc4)\n",
    "eff4=p4_max/12\n",
    "\n",
    "p4_max,voc4,isc4,  ff4*100 , ff4*1.2*100 , p4_max/12 , p4_max/10"
   ]
  },
  {
   "cell_type": "code",
   "execution_count": 161,
   "id": "d59715b6",
   "metadata": {},
   "outputs": [],
   "source": [
    "#drop5"
   ]
  },
  {
   "cell_type": "code",
   "execution_count": 162,
   "id": "b3d875fc",
   "metadata": {},
   "outputs": [],
   "source": [
    "drop5=iv1_s4.iloc[:,15:18]\n",
    "drop5['Current (mA) - Plot 0.5'] = drop5['Current (mA) - Plot 0.5'].apply(lambda x: x*-1)\n",
    "drop5=drop5[drop5['Current (mA) - Plot 0.5'] > 0]"
   ]
  },
  {
   "cell_type": "code",
   "execution_count": 163,
   "id": "68e4452e",
   "metadata": {},
   "outputs": [
    {
     "data": {
      "text/plain": [
       "(75.67099999999999,\n",
       " 0.57,\n",
       " 349.0,\n",
       " 38.039008696526416,\n",
       " 45.646810435831696,\n",
       " 6.305916666666666,\n",
       " 7.567099999999999)"
      ]
     },
     "execution_count": 163,
     "metadata": {},
     "output_type": "execute_result"
    }
   ],
   "source": [
    "p5_max=drop5['power5'].max()\n",
    "voc5=drop5['Voltage (V) - Plot 0.5'].max()\n",
    "isc5=drop5['Current (mA) - Plot 0.5'].max()\n",
    "\n",
    "ff5=p5_max/(voc5*isc5)\n",
    "eff5=p5_max/12\n",
    "\n",
    "p5_max , voc5 , isc5 ,  ff5*100 , ff5*1.2*100 , p5_max/12 , p5_max/10"
   ]
  },
  {
   "cell_type": "code",
   "execution_count": 164,
   "id": "f6077254",
   "metadata": {},
   "outputs": [],
   "source": [
    "#drop6"
   ]
  },
  {
   "cell_type": "code",
   "execution_count": 165,
   "id": "8e7ed9af",
   "metadata": {},
   "outputs": [],
   "source": [
    "drop6=iv1_s4.iloc[:,18:21]\n",
    "drop6['Current (mA) - Plot 0.6'] = drop6['Current (mA) - Plot 0.6'].apply(lambda x: x*-1)\n",
    "drop6=drop6[drop6['Current (mA) - Plot 0.6'] > 0]"
   ]
  },
  {
   "cell_type": "code",
   "execution_count": 166,
   "id": "384dfaf6",
   "metadata": {},
   "outputs": [
    {
     "data": {
      "text/plain": [
       "(79.546,\n",
       " 0.57,\n",
       " 352.7,\n",
       " 39.567447112251855,\n",
       " 47.48093653470223,\n",
       " 6.628833333333334,\n",
       " 7.954600000000001)"
      ]
     },
     "execution_count": 166,
     "metadata": {},
     "output_type": "execute_result"
    }
   ],
   "source": [
    "p6_max=drop6['power6'].max()\n",
    "voc6=drop6['Voltage (V) - Plot 0.6'].max()\n",
    "isc6=drop6['Current (mA) - Plot 0.6'].max()\n",
    "\n",
    "ff6=p6_max/(voc6*isc6)\n",
    "\n",
    "p6_max , voc6 , isc6 ,  ff6*100 , ff6*1.2*100 , p6_max/12 , p6_max/10"
   ]
  },
  {
   "cell_type": "code",
   "execution_count": 167,
   "id": "d3569850",
   "metadata": {},
   "outputs": [
    {
     "data": {
      "text/html": [
       "<style type=\"text/css\">\n",
       "#T_9248d caption {\n",
       "  text-align: center;\n",
       "  font-size: 150%;\n",
       "  color: red;\n",
       "}\n",
       "</style>\n",
       "<table id=\"T_9248d\">\n",
       "  <caption>sample #4 _ folder1</caption>\n",
       "  <thead>\n",
       "    <tr>\n",
       "      <th class=\"blank level0\" >&nbsp;</th>\n",
       "      <th id=\"T_9248d_level0_col0\" class=\"col_heading level0 col0\" >voc_s4</th>\n",
       "      <th id=\"T_9248d_level0_col1\" class=\"col_heading level0 col1\" >isc_s4</th>\n",
       "      <th id=\"T_9248d_level0_col2\" class=\"col_heading level0 col2\" >p_max</th>\n",
       "      <th id=\"T_9248d_level0_col3\" class=\"col_heading level0 col3\" >ff*100</th>\n",
       "      <th id=\"T_9248d_level0_col4\" class=\"col_heading level0 col4\" >ff*1.2*100</th>\n",
       "      <th id=\"T_9248d_level0_col5\" class=\"col_heading level0 col5\" >p_max/12 (eff)</th>\n",
       "      <th id=\"T_9248d_level0_col6\" class=\"col_heading level0 col6\" >p_max/10 (eff)</th>\n",
       "    </tr>\n",
       "  </thead>\n",
       "  <tbody>\n",
       "    <tr>\n",
       "      <th id=\"T_9248d_level0_row0\" class=\"row_heading level0 row0\" >BARE</th>\n",
       "      <td id=\"T_9248d_row0_col0\" class=\"data row0 col0\" >0.550000</td>\n",
       "      <td id=\"T_9248d_row0_col1\" class=\"data row0 col1\" >363.800000</td>\n",
       "      <td id=\"T_9248d_row0_col2\" class=\"data row0 col2\" >68.045000</td>\n",
       "      <td id=\"T_9248d_row0_col3\" class=\"data row0 col3\" >34.007197</td>\n",
       "      <td id=\"T_9248d_row0_col4\" class=\"data row0 col4\" >40.808636</td>\n",
       "      <td id=\"T_9248d_row0_col5\" class=\"data row0 col5\" >5.670417</td>\n",
       "      <td id=\"T_9248d_row0_col6\" class=\"data row0 col6\" >6.804500</td>\n",
       "    </tr>\n",
       "    <tr>\n",
       "      <th id=\"T_9248d_level0_row1\" class=\"row_heading level0 row1\" >DROP1</th>\n",
       "      <td id=\"T_9248d_row1_col0\" class=\"data row1 col0\" >0.550000</td>\n",
       "      <td id=\"T_9248d_row1_col1\" class=\"data row1 col1\" >357.500000</td>\n",
       "      <td id=\"T_9248d_row1_col2\" class=\"data row1 col2\" >71.331000</td>\n",
       "      <td id=\"T_9248d_row1_col3\" class=\"data row1 col3\" >36.277686</td>\n",
       "      <td id=\"T_9248d_row1_col4\" class=\"data row1 col4\" >43.533223</td>\n",
       "      <td id=\"T_9248d_row1_col5\" class=\"data row1 col5\" >5.944250</td>\n",
       "      <td id=\"T_9248d_row1_col6\" class=\"data row1 col6\" >7.133100</td>\n",
       "    </tr>\n",
       "    <tr>\n",
       "      <th id=\"T_9248d_level0_row2\" class=\"row_heading level0 row2\" >DROP2</th>\n",
       "      <td id=\"T_9248d_row2_col0\" class=\"data row2 col0\" >0.570000</td>\n",
       "      <td id=\"T_9248d_row2_col1\" class=\"data row2 col1\" >337.100000</td>\n",
       "      <td id=\"T_9248d_row2_col2\" class=\"data row2 col2\" >72.881000</td>\n",
       "      <td id=\"T_9248d_row2_col3\" class=\"data row2 col3\" >37.929814</td>\n",
       "      <td id=\"T_9248d_row2_col4\" class=\"data row2 col4\" >45.515777</td>\n",
       "      <td id=\"T_9248d_row2_col5\" class=\"data row2 col5\" >6.073417</td>\n",
       "      <td id=\"T_9248d_row2_col6\" class=\"data row2 col6\" >7.288100</td>\n",
       "    </tr>\n",
       "    <tr>\n",
       "      <th id=\"T_9248d_level0_row3\" class=\"row_heading level0 row3\" >DROP3</th>\n",
       "      <td id=\"T_9248d_row3_col0\" class=\"data row3 col0\" >0.550000</td>\n",
       "      <td id=\"T_9248d_row3_col1\" class=\"data row3 col1\" >373.200000</td>\n",
       "      <td id=\"T_9248d_row3_col2\" class=\"data row3 col2\" >71.238000</td>\n",
       "      <td id=\"T_9248d_row3_col3\" class=\"data row3 col3\" >34.706226</td>\n",
       "      <td id=\"T_9248d_row3_col4\" class=\"data row3 col4\" >41.647471</td>\n",
       "      <td id=\"T_9248d_row3_col5\" class=\"data row3 col5\" >5.936500</td>\n",
       "      <td id=\"T_9248d_row3_col6\" class=\"data row3 col6\" >7.123800</td>\n",
       "    </tr>\n",
       "    <tr>\n",
       "      <th id=\"T_9248d_level0_row4\" class=\"row_heading level0 row4\" >DROP4</th>\n",
       "      <td id=\"T_9248d_row4_col0\" class=\"data row4 col0\" >0.570000</td>\n",
       "      <td id=\"T_9248d_row4_col1\" class=\"data row4 col1\" >359.400000</td>\n",
       "      <td id=\"T_9248d_row4_col2\" class=\"data row4 col2\" >80.197000</td>\n",
       "      <td id=\"T_9248d_row4_col3\" class=\"data row4 col3\" >39.147605</td>\n",
       "      <td id=\"T_9248d_row4_col4\" class=\"data row4 col4\" >46.977126</td>\n",
       "      <td id=\"T_9248d_row4_col5\" class=\"data row4 col5\" >6.683083</td>\n",
       "      <td id=\"T_9248d_row4_col6\" class=\"data row4 col6\" >8.019700</td>\n",
       "    </tr>\n",
       "    <tr>\n",
       "      <th id=\"T_9248d_level0_row5\" class=\"row_heading level0 row5\" >DROP5</th>\n",
       "      <td id=\"T_9248d_row5_col0\" class=\"data row5 col0\" >0.570000</td>\n",
       "      <td id=\"T_9248d_row5_col1\" class=\"data row5 col1\" >349.000000</td>\n",
       "      <td id=\"T_9248d_row5_col2\" class=\"data row5 col2\" >75.671000</td>\n",
       "      <td id=\"T_9248d_row5_col3\" class=\"data row5 col3\" >38.039009</td>\n",
       "      <td id=\"T_9248d_row5_col4\" class=\"data row5 col4\" >45.646810</td>\n",
       "      <td id=\"T_9248d_row5_col5\" class=\"data row5 col5\" >6.305917</td>\n",
       "      <td id=\"T_9248d_row5_col6\" class=\"data row5 col6\" >7.567100</td>\n",
       "    </tr>\n",
       "    <tr>\n",
       "      <th id=\"T_9248d_level0_row6\" class=\"row_heading level0 row6\" >DROP6</th>\n",
       "      <td id=\"T_9248d_row6_col0\" class=\"data row6 col0\" >0.570000</td>\n",
       "      <td id=\"T_9248d_row6_col1\" class=\"data row6 col1\" >352.700000</td>\n",
       "      <td id=\"T_9248d_row6_col2\" class=\"data row6 col2\" >79.546000</td>\n",
       "      <td id=\"T_9248d_row6_col3\" class=\"data row6 col3\" >39.567447</td>\n",
       "      <td id=\"T_9248d_row6_col4\" class=\"data row6 col4\" >47.480937</td>\n",
       "      <td id=\"T_9248d_row6_col5\" class=\"data row6 col5\" >6.628833</td>\n",
       "      <td id=\"T_9248d_row6_col6\" class=\"data row6 col6\" >7.954600</td>\n",
       "    </tr>\n",
       "  </tbody>\n",
       "</table>\n"
      ],
      "text/plain": [
       "<pandas.io.formats.style.Styler at 0x23721895d60>"
      ]
     },
     "execution_count": 167,
     "metadata": {},
     "output_type": "execute_result"
    }
   ],
   "source": [
    "x1={'voc_s4':[voc0,voc1,voc2,voc3,voc4,voc5,voc6],\n",
    "             \n",
    "             'isc_s4':[isc0,isc1,isc2,isc3,isc4,isc5,isc6],\n",
    "    \n",
    "            'p_max':[p0_max,p1_max,p2_max,p3_max,p4_max,p5_max,p6_max],\n",
    "    \n",
    "    \n",
    "             'ff*100':[ff0*100,ff1*100,ff2*100,ff3*100,ff4*100,ff5*100,ff6*100],\n",
    "    \n",
    "    'ff*1.2*100':[ff0*100*1.2,ff1*100*1.2,ff2*100*1.2,ff3*100*1.2,ff4*100*1.2,ff5*100*1.2,ff6*100*1.2],\n",
    "    \n",
    "    'p_max/12 (eff)':[p0_max/12,p1_max/12,p2_max/12,p3_max/12,p4_max/12,p5_max/12,p6_max/12],\n",
    "    \n",
    "    'p_max/10 (eff)':[p0_max/10,p1_max/10,p2_max/10,p3_max/10,p4_max/10,p5_max/10,p6_max/10]\n",
    "    \n",
    "    \n",
    "    \n",
    "    \n",
    "             \n",
    "              }\n",
    "\n",
    "x1 = pd.DataFrame(x1,index=['BARE','DROP1','DROP2','DROP3','DROP4','DROP5','DROP6'])\n",
    "\n",
    "styles = [dict(selector=\"caption\",\n",
    "                       props=[(\"text-align\", \"center\"),\n",
    "                              (\"font-size\", \"150%\"),\n",
    "                              (\"color\", 'red')])]\n",
    "\n",
    "x1 = x1.style.set_caption(\"sample #4 _ folder1\").set_table_styles(styles)\n",
    "\n",
    "\n",
    "x1"
   ]
  },
  {
   "cell_type": "markdown",
   "id": "ae0e26c3",
   "metadata": {},
   "source": [
    "# folder1 #Sample5"
   ]
  },
  {
   "cell_type": "code",
   "execution_count": 175,
   "id": "3a661df7",
   "metadata": {},
   "outputs": [],
   "source": [
    "iv1_s5= pd.read_excel(r'C:\\Users\\Asus\\Desktop\\solar_cell\\I-V data\\1\\IV.xlsx', sheet_name='Sample # 5')"
   ]
  },
  {
   "cell_type": "code",
   "execution_count": 176,
   "id": "c55f2a11",
   "metadata": {},
   "outputs": [],
   "source": [
    "iv1_s5.dropna(axis='columns',inplace=True)"
   ]
  },
  {
   "cell_type": "code",
   "execution_count": 177,
   "id": "c122ddfc",
   "metadata": {},
   "outputs": [],
   "source": [
    "iv1_s5=iv1_s5.copy().rename(columns={'Unnamed: 2': 'power0' ,\n",
    "                                'Unnamed: 9': 'power1',\n",
    "                              'Unnamed: 16': 'power2' ,\n",
    "                               'Unnamed: 22': 'power3',\n",
    "                              'Unnamed: 28': 'power4',\n",
    "                              'Unnamed: 34': 'power5',\n",
    "                              'Unnamed: 40': 'power6'})"
   ]
  },
  {
   "cell_type": "code",
   "execution_count": 178,
   "id": "07b31902",
   "metadata": {},
   "outputs": [
    {
     "data": {
      "text/plain": [
       "Index(['Voltage (V) - Plot 0', 'Current (mA) - Plot 0', 'power0',\n",
       "       'Voltage (V) - Plot 0.1', 'Current (mA) - Plot 0.1', 'power1',\n",
       "       'Voltage (V) - Plot 0.2', 'Current (mA) - Plot 0.2', 'power2',\n",
       "       'Voltage (V) - Plot 0.3', 'Current (mA) - Plot 0.3', 'power3',\n",
       "       'Voltage (V) - Plot 0.4', 'Current (mA) - Plot 0.4', 'power4',\n",
       "       'Voltage (V) - Plot 0.5', 'Current (mA) - Plot 0.5', 'power5',\n",
       "       'Voltage (V) - Plot 0.6', 'Current (mA) - Plot 0.6', 'power6'],\n",
       "      dtype='object')"
      ]
     },
     "execution_count": 178,
     "metadata": {},
     "output_type": "execute_result"
    }
   ],
   "source": [
    "iv1_s5.columns"
   ]
  },
  {
   "cell_type": "code",
   "execution_count": 179,
   "id": "b6f53350",
   "metadata": {},
   "outputs": [],
   "source": [
    "#bare"
   ]
  },
  {
   "cell_type": "code",
   "execution_count": 180,
   "id": "1a78a094",
   "metadata": {},
   "outputs": [],
   "source": [
    "bare=iv1_s5.iloc[:,:3]\n",
    "bare['Current (mA) - Plot 0'] = bare['Current (mA) - Plot 0'].apply(lambda x: x*-1)\n",
    "bare=bare[bare['Current (mA) - Plot 0'] > 0]"
   ]
  },
  {
   "cell_type": "code",
   "execution_count": 181,
   "id": "eeacdbe6",
   "metadata": {},
   "outputs": [
    {
     "data": {
      "text/plain": [
       "(60.66799999999999,\n",
       " 0.57,\n",
       " 353.2,\n",
       " 30.13450954680018,\n",
       " 36.16141145616022,\n",
       " 5.055666666666666,\n",
       " 6.066799999999999)"
      ]
     },
     "execution_count": 181,
     "metadata": {},
     "output_type": "execute_result"
    }
   ],
   "source": [
    "p0_max=bare['power0'].max()\n",
    "voc0=bare['Voltage (V) - Plot 0'].max()\n",
    "isc0=bare['Current (mA) - Plot 0'].max()\n",
    "\n",
    "ff0=p0_max/(voc0*isc0)\n",
    "eff0=p0_max/12\n",
    "\n",
    "p0_max , voc0 , isc0 , ff0*100 , ff0*1.2*100 , p0_max/12 , p0_max/10"
   ]
  },
  {
   "cell_type": "code",
   "execution_count": 182,
   "id": "3d6b9d1f",
   "metadata": {},
   "outputs": [],
   "source": [
    "#drop1"
   ]
  },
  {
   "cell_type": "code",
   "execution_count": 183,
   "id": "a9c30257",
   "metadata": {},
   "outputs": [],
   "source": [
    "drop1=iv1_s5.iloc[:,3:6]\n",
    "drop1['Current (mA) - Plot 0.1'] = drop1['Current (mA) - Plot 0.1'].apply(lambda x: x*-1)\n",
    "drop1=drop1[drop1['Current (mA) - Plot 0.1'] > 0]"
   ]
  },
  {
   "cell_type": "code",
   "execution_count": 184,
   "id": "3bf57673",
   "metadata": {},
   "outputs": [
    {
     "data": {
      "text/plain": [
       "(74.989,\n",
       " 0.55,\n",
       " 355.0,\n",
       " 38.40665813060179,\n",
       " 46.087989756722145,\n",
       " 6.249083333333334,\n",
       " 7.498900000000001)"
      ]
     },
     "execution_count": 184,
     "metadata": {},
     "output_type": "execute_result"
    }
   ],
   "source": [
    "p1_max=drop1['power1'].max()\n",
    "voc1=drop1['Voltage (V) - Plot 0.1'].max()\n",
    "isc1=drop1['Current (mA) - Plot 0.1'].max()\n",
    "\n",
    "ff1=p1_max/(voc1*isc1)\n",
    "eff1=p1_max/12\n",
    "\n",
    "p1_max , voc1 , isc1 , ff1*100 , ff1*1.2*100 , p1_max/12 , p1_max/10"
   ]
  },
  {
   "cell_type": "code",
   "execution_count": 185,
   "id": "fb1467cb",
   "metadata": {},
   "outputs": [],
   "source": [
    "#drop2"
   ]
  },
  {
   "cell_type": "code",
   "execution_count": 186,
   "id": "1e63d2d2",
   "metadata": {},
   "outputs": [],
   "source": [
    "drop2=iv1_s5.iloc[:,6:9]\n",
    "drop2['Current (mA) - Plot 0.2'] = drop2['Current (mA) - Plot 0.2'].apply(lambda x: x*-1)\n",
    "drop2=drop2[drop2['Current (mA) - Plot 0.2'] > 0]"
   ]
  },
  {
   "cell_type": "code",
   "execution_count": 187,
   "id": "f1cff7dc",
   "metadata": {},
   "outputs": [
    {
     "data": {
      "text/plain": [
       "(81.096, 0.57, 367.9, 38.671835882176225, 46.40620305861147, 6.758, 8.1096)"
      ]
     },
     "execution_count": 187,
     "metadata": {},
     "output_type": "execute_result"
    }
   ],
   "source": [
    "p2_max=drop2['power2'].max()\n",
    "voc2=drop2['Voltage (V) - Plot 0.2'].max()\n",
    "isc2=drop2['Current (mA) - Plot 0.2'].max()\n",
    "\n",
    "ff2=p2_max/(voc2*isc2)\n",
    "\n",
    "eff2=p2_max/12\n",
    "\n",
    "p2_max , voc2 , isc2 , ff2*100 , ff2*1.2*100 , p2_max/12 , p2_max/10"
   ]
  },
  {
   "cell_type": "code",
   "execution_count": 188,
   "id": "dbba6ded",
   "metadata": {},
   "outputs": [],
   "source": [
    "#drop3"
   ]
  },
  {
   "cell_type": "code",
   "execution_count": 189,
   "id": "c32e6786",
   "metadata": {},
   "outputs": [],
   "source": [
    "drop3=iv1_s5.iloc[:,9:12]\n",
    "drop3['Current (mA) - Plot 0.3'] = drop3['Current (mA) - Plot 0.3'].apply(lambda x: x*-1)\n",
    "drop3=drop3[drop3['Current (mA) - Plot 0.3'] > 0]"
   ]
  },
  {
   "cell_type": "code",
   "execution_count": 190,
   "id": "9f909adb",
   "metadata": {},
   "outputs": [
    {
     "data": {
      "text/plain": [
       "(80.38300000000001,\n",
       " 0.57,\n",
       " 386.2,\n",
       " 36.51548602215015,\n",
       " 43.81858322658018,\n",
       " 6.6985833333333344,\n",
       " 8.038300000000001)"
      ]
     },
     "execution_count": 190,
     "metadata": {},
     "output_type": "execute_result"
    }
   ],
   "source": [
    "p3_max=drop3['power3'].max()\n",
    "voc3=drop3['Voltage (V) - Plot 0.3'].max()\n",
    "isc3=drop3['Current (mA) - Plot 0.3'].max()\n",
    "\n",
    "ff3=p3_max/(voc3*isc3)\n",
    "\n",
    "\n",
    "p3_max,voc3,isc3,  ff3*100 , ff3*1.2*100 , p3_max/12 , p3_max/10"
   ]
  },
  {
   "cell_type": "code",
   "execution_count": 191,
   "id": "3c204c6e",
   "metadata": {},
   "outputs": [],
   "source": [
    "#drop4"
   ]
  },
  {
   "cell_type": "code",
   "execution_count": 192,
   "id": "80e429f2",
   "metadata": {},
   "outputs": [],
   "source": [
    "drop4=iv1_s5.iloc[:,12:15]\n",
    "drop4['Current (mA) - Plot 0.4'] = drop4['Current (mA) - Plot 0.4'].apply(lambda x: x*-1)\n",
    "drop4=drop4[drop4['Current (mA) - Plot 0.4'] > 0]"
   ]
  },
  {
   "cell_type": "code",
   "execution_count": 193,
   "id": "88e77b03",
   "metadata": {},
   "outputs": [
    {
     "data": {
      "text/plain": [
       "(71.703, 0.55, 346.4, 37.63541885366365, 45.16250262439638, 5.97525, 7.1703)"
      ]
     },
     "execution_count": 193,
     "metadata": {},
     "output_type": "execute_result"
    }
   ],
   "source": [
    "p4_max=drop4['power4'].max()\n",
    "voc4=drop4['Voltage (V) - Plot 0.4'].max()\n",
    "isc4=drop4['Current (mA) - Plot 0.4'].max()\n",
    "\n",
    "ff4=p4_max/(voc4*isc4)\n",
    "eff4=p4_max/12\n",
    "\n",
    "p4_max,voc4,isc4,  ff4*100 , ff4*1.2*100 , p4_max/12 , p4_max/10"
   ]
  },
  {
   "cell_type": "code",
   "execution_count": 194,
   "id": "c62baf16",
   "metadata": {},
   "outputs": [],
   "source": [
    "#drop5"
   ]
  },
  {
   "cell_type": "code",
   "execution_count": 195,
   "id": "aa28b3f9",
   "metadata": {},
   "outputs": [],
   "source": [
    "drop5=iv1_s5.iloc[:,15:18]\n",
    "drop5['Current (mA) - Plot 0.5'] = drop5['Current (mA) - Plot 0.5'].apply(lambda x: x*-1)\n",
    "drop5=drop5[drop5['Current (mA) - Plot 0.5'] > 0]"
   ]
  },
  {
   "cell_type": "code",
   "execution_count": 196,
   "id": "73dc6476",
   "metadata": {},
   "outputs": [
    {
     "data": {
      "text/plain": [
       "(74.214, 0.57, 351.6, 37.03071672354948, 44.436860068259385, 6.1845, 7.4214)"
      ]
     },
     "execution_count": 196,
     "metadata": {},
     "output_type": "execute_result"
    }
   ],
   "source": [
    "p5_max=drop5['power5'].max()\n",
    "voc5=drop5['Voltage (V) - Plot 0.5'].max()\n",
    "isc5=drop5['Current (mA) - Plot 0.5'].max()\n",
    "\n",
    "ff5=p5_max/(voc5*isc5)\n",
    "eff5=p5_max/12\n",
    "\n",
    "p5_max , voc5 , isc5 ,  ff5*100 , ff5*1.2*100 , p5_max/12 , p5_max/10"
   ]
  },
  {
   "cell_type": "code",
   "execution_count": 197,
   "id": "b08a6abb",
   "metadata": {},
   "outputs": [],
   "source": [
    "#drop6"
   ]
  },
  {
   "cell_type": "code",
   "execution_count": 198,
   "id": "0327e609",
   "metadata": {},
   "outputs": [],
   "source": [
    "drop6=iv1_s5.iloc[:,18:21]\n",
    "drop6['Current (mA) - Plot 0.6'] = drop6['Current (mA) - Plot 0.6'].apply(lambda x: x*-1)\n",
    "drop6=drop6[drop6['Current (mA) - Plot 0.6'] > 0]"
   ]
  },
  {
   "cell_type": "code",
   "execution_count": 199,
   "id": "ac328512",
   "metadata": {},
   "outputs": [
    {
     "data": {
      "text/plain": [
       "(82.491, 0.57, 385.1, 37.580122729571265, 45.096147275485514, 6.87425, 8.2491)"
      ]
     },
     "execution_count": 199,
     "metadata": {},
     "output_type": "execute_result"
    }
   ],
   "source": [
    "p6_max=drop6['power6'].max()\n",
    "voc6=drop6['Voltage (V) - Plot 0.6'].max()\n",
    "isc6=drop6['Current (mA) - Plot 0.6'].max()\n",
    "\n",
    "ff6=p6_max/(voc6*isc6)\n",
    "\n",
    "p6_max , voc6 , isc6 ,  ff6*100 , ff6*1.2*100 , p6_max/12 , p6_max/10"
   ]
  },
  {
   "cell_type": "code",
   "execution_count": 200,
   "id": "29d4e51d",
   "metadata": {},
   "outputs": [
    {
     "data": {
      "text/html": [
       "<style type=\"text/css\">\n",
       "#T_77f67 caption {\n",
       "  text-align: center;\n",
       "  font-size: 150%;\n",
       "  color: red;\n",
       "}\n",
       "</style>\n",
       "<table id=\"T_77f67\">\n",
       "  <caption>sample #5 _ folder1</caption>\n",
       "  <thead>\n",
       "    <tr>\n",
       "      <th class=\"blank level0\" >&nbsp;</th>\n",
       "      <th id=\"T_77f67_level0_col0\" class=\"col_heading level0 col0\" >voc_s5</th>\n",
       "      <th id=\"T_77f67_level0_col1\" class=\"col_heading level0 col1\" >isc_s5</th>\n",
       "      <th id=\"T_77f67_level0_col2\" class=\"col_heading level0 col2\" >p_max</th>\n",
       "      <th id=\"T_77f67_level0_col3\" class=\"col_heading level0 col3\" >ff*100</th>\n",
       "      <th id=\"T_77f67_level0_col4\" class=\"col_heading level0 col4\" >ff*1.2*100</th>\n",
       "      <th id=\"T_77f67_level0_col5\" class=\"col_heading level0 col5\" >p_max/12 (eff)</th>\n",
       "      <th id=\"T_77f67_level0_col6\" class=\"col_heading level0 col6\" >p_max/10 (eff)</th>\n",
       "    </tr>\n",
       "  </thead>\n",
       "  <tbody>\n",
       "    <tr>\n",
       "      <th id=\"T_77f67_level0_row0\" class=\"row_heading level0 row0\" >BARE</th>\n",
       "      <td id=\"T_77f67_row0_col0\" class=\"data row0 col0\" >0.570000</td>\n",
       "      <td id=\"T_77f67_row0_col1\" class=\"data row0 col1\" >353.200000</td>\n",
       "      <td id=\"T_77f67_row0_col2\" class=\"data row0 col2\" >60.668000</td>\n",
       "      <td id=\"T_77f67_row0_col3\" class=\"data row0 col3\" >30.134510</td>\n",
       "      <td id=\"T_77f67_row0_col4\" class=\"data row0 col4\" >36.161411</td>\n",
       "      <td id=\"T_77f67_row0_col5\" class=\"data row0 col5\" >5.055667</td>\n",
       "      <td id=\"T_77f67_row0_col6\" class=\"data row0 col6\" >6.066800</td>\n",
       "    </tr>\n",
       "    <tr>\n",
       "      <th id=\"T_77f67_level0_row1\" class=\"row_heading level0 row1\" >DROP1</th>\n",
       "      <td id=\"T_77f67_row1_col0\" class=\"data row1 col0\" >0.550000</td>\n",
       "      <td id=\"T_77f67_row1_col1\" class=\"data row1 col1\" >355.000000</td>\n",
       "      <td id=\"T_77f67_row1_col2\" class=\"data row1 col2\" >74.989000</td>\n",
       "      <td id=\"T_77f67_row1_col3\" class=\"data row1 col3\" >38.406658</td>\n",
       "      <td id=\"T_77f67_row1_col4\" class=\"data row1 col4\" >46.087990</td>\n",
       "      <td id=\"T_77f67_row1_col5\" class=\"data row1 col5\" >6.249083</td>\n",
       "      <td id=\"T_77f67_row1_col6\" class=\"data row1 col6\" >7.498900</td>\n",
       "    </tr>\n",
       "    <tr>\n",
       "      <th id=\"T_77f67_level0_row2\" class=\"row_heading level0 row2\" >DROP2</th>\n",
       "      <td id=\"T_77f67_row2_col0\" class=\"data row2 col0\" >0.570000</td>\n",
       "      <td id=\"T_77f67_row2_col1\" class=\"data row2 col1\" >367.900000</td>\n",
       "      <td id=\"T_77f67_row2_col2\" class=\"data row2 col2\" >81.096000</td>\n",
       "      <td id=\"T_77f67_row2_col3\" class=\"data row2 col3\" >38.671836</td>\n",
       "      <td id=\"T_77f67_row2_col4\" class=\"data row2 col4\" >46.406203</td>\n",
       "      <td id=\"T_77f67_row2_col5\" class=\"data row2 col5\" >6.758000</td>\n",
       "      <td id=\"T_77f67_row2_col6\" class=\"data row2 col6\" >8.109600</td>\n",
       "    </tr>\n",
       "    <tr>\n",
       "      <th id=\"T_77f67_level0_row3\" class=\"row_heading level0 row3\" >DROP3</th>\n",
       "      <td id=\"T_77f67_row3_col0\" class=\"data row3 col0\" >0.570000</td>\n",
       "      <td id=\"T_77f67_row3_col1\" class=\"data row3 col1\" >386.200000</td>\n",
       "      <td id=\"T_77f67_row3_col2\" class=\"data row3 col2\" >80.383000</td>\n",
       "      <td id=\"T_77f67_row3_col3\" class=\"data row3 col3\" >36.515486</td>\n",
       "      <td id=\"T_77f67_row3_col4\" class=\"data row3 col4\" >43.818583</td>\n",
       "      <td id=\"T_77f67_row3_col5\" class=\"data row3 col5\" >6.698583</td>\n",
       "      <td id=\"T_77f67_row3_col6\" class=\"data row3 col6\" >8.038300</td>\n",
       "    </tr>\n",
       "    <tr>\n",
       "      <th id=\"T_77f67_level0_row4\" class=\"row_heading level0 row4\" >DROP4</th>\n",
       "      <td id=\"T_77f67_row4_col0\" class=\"data row4 col0\" >0.550000</td>\n",
       "      <td id=\"T_77f67_row4_col1\" class=\"data row4 col1\" >346.400000</td>\n",
       "      <td id=\"T_77f67_row4_col2\" class=\"data row4 col2\" >71.703000</td>\n",
       "      <td id=\"T_77f67_row4_col3\" class=\"data row4 col3\" >37.635419</td>\n",
       "      <td id=\"T_77f67_row4_col4\" class=\"data row4 col4\" >45.162503</td>\n",
       "      <td id=\"T_77f67_row4_col5\" class=\"data row4 col5\" >5.975250</td>\n",
       "      <td id=\"T_77f67_row4_col6\" class=\"data row4 col6\" >7.170300</td>\n",
       "    </tr>\n",
       "    <tr>\n",
       "      <th id=\"T_77f67_level0_row5\" class=\"row_heading level0 row5\" >DROP5</th>\n",
       "      <td id=\"T_77f67_row5_col0\" class=\"data row5 col0\" >0.570000</td>\n",
       "      <td id=\"T_77f67_row5_col1\" class=\"data row5 col1\" >351.600000</td>\n",
       "      <td id=\"T_77f67_row5_col2\" class=\"data row5 col2\" >74.214000</td>\n",
       "      <td id=\"T_77f67_row5_col3\" class=\"data row5 col3\" >37.030717</td>\n",
       "      <td id=\"T_77f67_row5_col4\" class=\"data row5 col4\" >44.436860</td>\n",
       "      <td id=\"T_77f67_row5_col5\" class=\"data row5 col5\" >6.184500</td>\n",
       "      <td id=\"T_77f67_row5_col6\" class=\"data row5 col6\" >7.421400</td>\n",
       "    </tr>\n",
       "    <tr>\n",
       "      <th id=\"T_77f67_level0_row6\" class=\"row_heading level0 row6\" >DROP6</th>\n",
       "      <td id=\"T_77f67_row6_col0\" class=\"data row6 col0\" >0.570000</td>\n",
       "      <td id=\"T_77f67_row6_col1\" class=\"data row6 col1\" >385.100000</td>\n",
       "      <td id=\"T_77f67_row6_col2\" class=\"data row6 col2\" >82.491000</td>\n",
       "      <td id=\"T_77f67_row6_col3\" class=\"data row6 col3\" >37.580123</td>\n",
       "      <td id=\"T_77f67_row6_col4\" class=\"data row6 col4\" >45.096147</td>\n",
       "      <td id=\"T_77f67_row6_col5\" class=\"data row6 col5\" >6.874250</td>\n",
       "      <td id=\"T_77f67_row6_col6\" class=\"data row6 col6\" >8.249100</td>\n",
       "    </tr>\n",
       "  </tbody>\n",
       "</table>\n"
      ],
      "text/plain": [
       "<pandas.io.formats.style.Styler at 0x23721a00a00>"
      ]
     },
     "execution_count": 200,
     "metadata": {},
     "output_type": "execute_result"
    }
   ],
   "source": [
    "x1={'voc_s5':[voc0,voc1,voc2,voc3,voc4,voc5,voc6],\n",
    "             \n",
    "             'isc_s5':[isc0,isc1,isc2,isc3,isc4,isc5,isc6],\n",
    "    \n",
    "            'p_max':[p0_max,p1_max,p2_max,p3_max,p4_max,p5_max,p6_max],\n",
    "    \n",
    "    \n",
    "             'ff*100':[ff0*100,ff1*100,ff2*100,ff3*100,ff4*100,ff5*100,ff6*100],\n",
    "    \n",
    "    'ff*1.2*100':[ff0*100*1.2,ff1*100*1.2,ff2*100*1.2,ff3*100*1.2,ff4*100*1.2,ff5*100*1.2,ff6*100*1.2],\n",
    "    \n",
    "    'p_max/12 (eff)':[p0_max/12,p1_max/12,p2_max/12,p3_max/12,p4_max/12,p5_max/12,p6_max/12],\n",
    "    \n",
    "    'p_max/10 (eff)':[p0_max/10,p1_max/10,p2_max/10,p3_max/10,p4_max/10,p5_max/10,p6_max/10]\n",
    "    \n",
    "    \n",
    "    \n",
    "    \n",
    "             \n",
    "              }\n",
    "\n",
    "x1 = pd.DataFrame(x1,index=['BARE','DROP1','DROP2','DROP3','DROP4','DROP5','DROP6'])\n",
    "\n",
    "styles = [dict(selector=\"caption\",\n",
    "                       props=[(\"text-align\", \"center\"),\n",
    "                              (\"font-size\", \"150%\"),\n",
    "                              (\"color\", 'red')])]\n",
    "\n",
    "x1 = x1.style.set_caption(\"sample #5 _ folder1\").set_table_styles(styles)\n",
    "\n",
    "\n",
    "x1"
   ]
  },
  {
   "cell_type": "code",
   "execution_count": 207,
   "id": "c87ed312",
   "metadata": {},
   "outputs": [
    {
     "data": {
      "text/html": [
       "<div>\n",
       "<style scoped>\n",
       "    .dataframe tbody tr th:only-of-type {\n",
       "        vertical-align: middle;\n",
       "    }\n",
       "\n",
       "    .dataframe tbody tr th {\n",
       "        vertical-align: top;\n",
       "    }\n",
       "\n",
       "    .dataframe thead th {\n",
       "        text-align: right;\n",
       "    }\n",
       "</style>\n",
       "<table border=\"1\" class=\"dataframe\">\n",
       "  <thead>\n",
       "    <tr style=\"text-align: right;\">\n",
       "      <th></th>\n",
       "      <th>Voltage (V) - Plot 0.6</th>\n",
       "      <th>Current (mA) - Plot 0.6</th>\n",
       "      <th>power6</th>\n",
       "    </tr>\n",
       "  </thead>\n",
       "  <tbody>\n",
       "    <tr>\n",
       "      <th>24</th>\n",
       "      <td>0.49</td>\n",
       "      <td>88.91</td>\n",
       "      <td>43.5659</td>\n",
       "    </tr>\n",
       "    <tr>\n",
       "      <th>25</th>\n",
       "      <td>0.51</td>\n",
       "      <td>67.36</td>\n",
       "      <td>34.3536</td>\n",
       "    </tr>\n",
       "    <tr>\n",
       "      <th>26</th>\n",
       "      <td>0.53</td>\n",
       "      <td>45.51</td>\n",
       "      <td>24.1203</td>\n",
       "    </tr>\n",
       "    <tr>\n",
       "      <th>27</th>\n",
       "      <td>0.55</td>\n",
       "      <td>23.45</td>\n",
       "      <td>12.8975</td>\n",
       "    </tr>\n",
       "    <tr>\n",
       "      <th>28</th>\n",
       "      <td>0.57</td>\n",
       "      <td>1.02</td>\n",
       "      <td>0.5814</td>\n",
       "    </tr>\n",
       "  </tbody>\n",
       "</table>\n",
       "</div>"
      ],
      "text/plain": [
       "    Voltage (V) - Plot 0.6  Current (mA) - Plot 0.6   power6\n",
       "24                    0.49                    88.91  43.5659\n",
       "25                    0.51                    67.36  34.3536\n",
       "26                    0.53                    45.51  24.1203\n",
       "27                    0.55                    23.45  12.8975\n",
       "28                    0.57                     1.02   0.5814"
      ]
     },
     "execution_count": 207,
     "metadata": {},
     "output_type": "execute_result"
    }
   ],
   "source": [
    "drop6.tail()"
   ]
  },
  {
   "cell_type": "code",
   "execution_count": null,
   "id": "19ec1043",
   "metadata": {},
   "outputs": [],
   "source": []
  }
 ],
 "metadata": {
  "kernelspec": {
   "display_name": "Python 3.9.12 ('base')",
   "language": "python",
   "name": "python3"
  },
  "language_info": {
   "codemirror_mode": {
    "name": "ipython",
    "version": 3
   },
   "file_extension": ".py",
   "mimetype": "text/x-python",
   "name": "python",
   "nbconvert_exporter": "python",
   "pygments_lexer": "ipython3",
   "version": "3.9.12"
  },
  "vscode": {
   "interpreter": {
    "hash": "52d90d3cc821dd0beedd6e719dbdecc722c226b9d90ed1b663c34e1877f1142e"
   }
  }
 },
 "nbformat": 4,
 "nbformat_minor": 5
}
