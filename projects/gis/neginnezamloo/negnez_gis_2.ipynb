{
 "cells": [
  {
   "cell_type": "markdown",
   "metadata": {},
   "source": [
    "#new_gis"
   ]
  },
  {
   "cell_type": "code",
   "execution_count": 140,
   "metadata": {},
   "outputs": [],
   "source": [
    "#Importing libraries\n",
    "import pandas as pd\n",
    "import numpy as np\n",
    "from sklearn.preprocessing import LabelEncoder\n",
    "import seaborn as sns\n",
    "from matplotlib import pyplot as plt\n",
    "from sklearn.impute import SimpleImputer\n",
    "from sklearn.preprocessing import StandardScaler\n",
    "from sklearn.decomposition import PCA\n",
    "from sklearn.model_selection import train_test_split\n",
    "from sklearn.neighbors import KNeighborsClassifier\n",
    "from sklearn.metrics import accuracy_score"
   ]
  },
  {
   "cell_type": "markdown",
   "metadata": {},
   "source": [
    "# Data loading and overview"
   ]
  },
  {
   "cell_type": "code",
   "execution_count": 164,
   "metadata": {},
   "outputs": [],
   "source": [
    "#preprocessed data\n",
    "pp= pd.read_csv(r'https://github.com/mmortazavi/ml_demystified/raw/main/projects/gis/gis_data.csv')\n",
    "pp.drop(['Unnamed: 0'], axis=1,inplace=True)"
   ]
  },
  {
   "cell_type": "code",
   "execution_count": 4,
   "metadata": {},
   "outputs": [],
   "source": [
    "#raw data\n",
    "raw=pd.read_excel('https://github.com/mmortazavi/ml_demystified/raw/main/projects/gis/raw_data.xlsx') "
   ]
  },
  {
   "cell_type": "code",
   "execution_count": 9,
   "metadata": {
    "collapsed": true
   },
   "outputs": [
    {
     "name": "stdout",
     "output_type": "stream",
     "text": [
      "city\n",
      "postal code\n",
      "city_GIS_1\n",
      "city_GIS_2\n",
      "branch_GIS_1\n",
      "branch_GIS_2\n",
      "postalcode_GIS_1\n",
      "postalcode_GIS_2\n"
     ]
    }
   ],
   "source": [
    "# pp column names\n",
    "for col in pp.columns:\n",
    "    print(col)"
   ]
  },
  {
   "cell_type": "markdown",
   "metadata": {},
   "source": [
    "\"postal code\" is the target variable of the preprocessed dataset. "
   ]
  },
  {
   "cell_type": "code",
   "execution_count": 5,
   "metadata": {
    "collapsed": true
   },
   "outputs": [
    {
     "name": "stdout",
     "output_type": "stream",
     "text": [
      "نام\n",
      "نام خانوادگی\n",
      "کد ملی\n",
      "موبایل\n",
      "مرحله ثبت نام\n",
      "شهر مورد تقاضا\n",
      "شهر محل سکونت\n",
      "آدرس متقاضی\n",
      "کدپستی\n",
      "وضعیت بارگذاری مدارک\n",
      "وضعیت سرپرستی\n",
      "شغل\n",
      "جنسیت\n",
      "میزان تحصیلات\n",
      "نام پدر\n",
      "شماره شناسنامه\n",
      "تاریخ تولد\n",
      "تعداد فرزندان\n",
      "بعد خانوار\n",
      "کد شعبه\n",
      "نام شعبه\n",
      "شماره حساب\n"
     ]
    }
   ],
   "source": [
    "# raw column names\n",
    "for col in raw.columns:\n",
    "    print(col)"
   ]
  },
  {
   "cell_type": "markdown",
   "metadata": {},
   "source": [
    "<!-- 'کدپستی'      ,    'شهر مورد تقاضا'    ,   'شهر محل سکونت'      are related to the target. -->"
   ]
  },
  {
   "cell_type": "code",
   "execution_count": 5,
   "metadata": {},
   "outputs": [],
   "source": [
    "#renaming columns to english\n",
    "# raw.rename(columns={\"کدپستی\": \"postal code\" , \"شهر مورد تقاضا\"  : \"city_requested \" , \"شهر محل سکونت\" :\"city_residance\"} , inplace=True)\n",
    "# col3=raw[[\"postal code\",'city_residance','city_requested ']]"
   ]
  },
  {
   "cell_type": "code",
   "execution_count": 6,
   "metadata": {},
   "outputs": [],
   "source": [
    "#concatenating pp and col3 \n",
    "# pp= pd.concat([pp, col3], axis=1) #final dataset"
   ]
  },
  {
   "cell_type": "markdown",
   "metadata": {},
   "source": [
    "getting information on pp"
   ]
  },
  {
   "cell_type": "code",
   "execution_count": 38,
   "metadata": {
    "collapsed": true
   },
   "outputs": [
    {
     "name": "stdout",
     "output_type": "stream",
     "text": [
      "<class 'pandas.core.frame.DataFrame'>\n",
      "RangeIndex: 6899 entries, 0 to 6898\n",
      "Data columns (total 8 columns):\n",
      " #   Column            Non-Null Count  Dtype  \n",
      "---  ------            --------------  -----  \n",
      " 0   city              6899 non-null   object \n",
      " 1   postal code       6214 non-null   object \n",
      " 2   city_GIS_1        6886 non-null   float64\n",
      " 3   city_GIS_2        6886 non-null   float64\n",
      " 4   branch_GIS_1      4633 non-null   float64\n",
      " 5   branch_GIS_2      4633 non-null   float64\n",
      " 6   postalcode_GIS_1  5197 non-null   float64\n",
      " 7   postalcode_GIS_2  5179 non-null   float64\n",
      "dtypes: float64(6), object(2)\n",
      "memory usage: 431.3+ KB\n",
      "None\n"
     ]
    }
   ],
   "source": [
    "print(pp.info())"
   ]
  },
  {
   "cell_type": "code",
   "execution_count": 165,
   "metadata": {},
   "outputs": [],
   "source": [
    "total_cells = np.product(pp.shape)"
   ]
  },
  {
   "cell_type": "code",
   "execution_count": 166,
   "metadata": {},
   "outputs": [],
   "source": [
    "# duplicated\n",
    "(pp.duplicated().sum()).sum() #returns 5837 #total duplicated rows\n",
    "(((pp.duplicated().sum()).sum())/total_cells) * 100 #returns 10.57 #percent of data that is duplicated\n",
    "# Dropping duplicate values\n",
    "pp.drop_duplicates(inplace=True)"
   ]
  },
  {
   "cell_type": "code",
   "execution_count": 39,
   "metadata": {
    "collapsed": true
   },
   "outputs": [
    {
     "data": {
      "text/plain": [
       "city                   0\n",
       "postal code          685\n",
       "city_GIS_1            13\n",
       "city_GIS_2            13\n",
       "branch_GIS_1        2266\n",
       "branch_GIS_2        2266\n",
       "postalcode_GIS_1    1702\n",
       "postalcode_GIS_2    1720\n",
       "dtype: int64"
      ]
     },
     "execution_count": 39,
     "metadata": {},
     "output_type": "execute_result"
    }
   ],
   "source": [
    "#Null Value Distribution:\n",
    "pp.isnull().sum()"
   ]
  },
  {
   "cell_type": "code",
   "execution_count": 167,
   "metadata": {},
   "outputs": [
    {
     "data": {
      "text/plain": [
       "4.573126540078272"
      ]
     },
     "execution_count": 167,
     "metadata": {},
     "output_type": "execute_result"
    }
   ],
   "source": [
    "# how many total missing values do we have?\n",
    "total_missing =(pp.isnull().sum()).sum() #returns 2524\n",
    "\n",
    "\n",
    "# percent of data that is missing\n",
    "(total_missing/total_cells) * 100"
   ]
  },
  {
   "cell_type": "code",
   "execution_count": 168,
   "metadata": {},
   "outputs": [
    {
     "data": {
      "text/plain": [
       "city                0.000000\n",
       "postal code         0.021742\n",
       "city_GIS_1          0.023554\n",
       "city_GIS_2          0.023554\n",
       "branch_GIS_1        0.677634\n",
       "branch_GIS_2        0.677634\n",
       "postalcode_GIS_1    1.561821\n",
       "postalcode_GIS_2    1.587187\n",
       "dtype: float64"
      ]
     },
     "execution_count": 168,
     "metadata": {},
     "output_type": "execute_result"
    }
   ],
   "source": [
    "((pp.isnull().sum())/total_cells) * 100"
   ]
  },
  {
   "cell_type": "code",
   "execution_count": 171,
   "metadata": {},
   "outputs": [],
   "source": [
    "#city_encoding\n",
    "labelencoder = LabelEncoder()\n",
    "pp['city_1'] = labelencoder.fit_transform(pp['city'])\n",
    "\n",
    "#Set the index to become the 'city_1' column:\n",
    "pp.set_index('city_1',inplace=True)\n",
    "\n",
    "#sort dataframe by index in ascending order\n",
    "pp.sort_index(ascending=True,inplace=True)\n",
    "\n",
    "# Define postal code to drop null values\n",
    "pp.dropna(subset=['postal code'], inplace=True)"
   ]
  },
  {
   "cell_type": "code",
   "execution_count": 172,
   "metadata": {
    "collapsed": true
   },
   "outputs": [
    {
     "data": {
      "text/html": [
       "<div>\n",
       "<style scoped>\n",
       "    .dataframe tbody tr th:only-of-type {\n",
       "        vertical-align: middle;\n",
       "    }\n",
       "\n",
       "    .dataframe tbody tr th {\n",
       "        vertical-align: top;\n",
       "    }\n",
       "\n",
       "    .dataframe thead th {\n",
       "        text-align: right;\n",
       "    }\n",
       "</style>\n",
       "<table border=\"1\" class=\"dataframe\">\n",
       "  <thead>\n",
       "    <tr style=\"text-align: right;\">\n",
       "      <th></th>\n",
       "      <th>city</th>\n",
       "    </tr>\n",
       "    <tr>\n",
       "      <th>city_1</th>\n",
       "      <th></th>\n",
       "    </tr>\n",
       "  </thead>\n",
       "  <tbody>\n",
       "    <tr>\n",
       "      <th>0</th>\n",
       "      <td>آبگرم</td>\n",
       "    </tr>\n",
       "    <tr>\n",
       "      <th>1</th>\n",
       "      <td>آبیک</td>\n",
       "    </tr>\n",
       "    <tr>\n",
       "      <th>2</th>\n",
       "      <td>آوج</td>\n",
       "    </tr>\n",
       "    <tr>\n",
       "      <th>3</th>\n",
       "      <td>ارداق</td>\n",
       "    </tr>\n",
       "    <tr>\n",
       "      <th>4</th>\n",
       "      <td>اسفرورین</td>\n",
       "    </tr>\n",
       "    <tr>\n",
       "      <th>5</th>\n",
       "      <td>اصفهان</td>\n",
       "    </tr>\n",
       "    <tr>\n",
       "      <th>6</th>\n",
       "      <td>اقبالیه</td>\n",
       "    </tr>\n",
       "    <tr>\n",
       "      <th>7</th>\n",
       "      <td>الوند</td>\n",
       "    </tr>\n",
       "    <tr>\n",
       "      <th>8</th>\n",
       "      <td>ایرانشهر</td>\n",
       "    </tr>\n",
       "    <tr>\n",
       "      <th>9</th>\n",
       "      <td>بوئین زهرا</td>\n",
       "    </tr>\n",
       "    <tr>\n",
       "      <th>10</th>\n",
       "      <td>بیجار</td>\n",
       "    </tr>\n",
       "    <tr>\n",
       "      <th>11</th>\n",
       "      <td>بیدستان</td>\n",
       "    </tr>\n",
       "    <tr>\n",
       "      <th>12</th>\n",
       "      <td>تاکستان</td>\n",
       "    </tr>\n",
       "    <tr>\n",
       "      <th>13</th>\n",
       "      <td>تهران</td>\n",
       "    </tr>\n",
       "    <tr>\n",
       "      <th>14</th>\n",
       "      <td>خاکعلی</td>\n",
       "    </tr>\n",
       "    <tr>\n",
       "      <th>15</th>\n",
       "      <td>خرمدشت</td>\n",
       "    </tr>\n",
       "    <tr>\n",
       "      <th>16</th>\n",
       "      <td>دانسفهان</td>\n",
       "    </tr>\n",
       "    <tr>\n",
       "      <th>17</th>\n",
       "      <td>رازمیان</td>\n",
       "    </tr>\n",
       "    <tr>\n",
       "      <th>18</th>\n",
       "      <td>رباطکریم</td>\n",
       "    </tr>\n",
       "    <tr>\n",
       "      <th>19</th>\n",
       "      <td>سگزآباد</td>\n",
       "    </tr>\n",
       "    <tr>\n",
       "      <th>20</th>\n",
       "      <td>شال</td>\n",
       "    </tr>\n",
       "    <tr>\n",
       "      <th>21</th>\n",
       "      <td>شریفیه</td>\n",
       "    </tr>\n",
       "    <tr>\n",
       "      <th>22</th>\n",
       "      <td>شهرجدیدهشتگرد</td>\n",
       "    </tr>\n",
       "    <tr>\n",
       "      <th>23</th>\n",
       "      <td>ضیاآباد</td>\n",
       "    </tr>\n",
       "    <tr>\n",
       "      <th>24</th>\n",
       "      <td>طارم</td>\n",
       "    </tr>\n",
       "    <tr>\n",
       "      <th>25</th>\n",
       "      <td>قزوین</td>\n",
       "    </tr>\n",
       "    <tr>\n",
       "      <th>26</th>\n",
       "      <td>قم</td>\n",
       "    </tr>\n",
       "    <tr>\n",
       "      <th>27</th>\n",
       "      <td>مجموعه شهری مهرگان</td>\n",
       "    </tr>\n",
       "    <tr>\n",
       "      <th>28</th>\n",
       "      <td>محمدیه</td>\n",
       "    </tr>\n",
       "    <tr>\n",
       "      <th>29</th>\n",
       "      <td>محمودآبادنمونه</td>\n",
       "    </tr>\n",
       "    <tr>\n",
       "      <th>30</th>\n",
       "      <td>معلم کلایه</td>\n",
       "    </tr>\n",
       "    <tr>\n",
       "      <th>31</th>\n",
       "      <td>نرجه</td>\n",
       "    </tr>\n",
       "    <tr>\n",
       "      <th>32</th>\n",
       "      <td>نظرآباد</td>\n",
       "    </tr>\n",
       "    <tr>\n",
       "      <th>33</th>\n",
       "      <td>کرج</td>\n",
       "    </tr>\n",
       "    <tr>\n",
       "      <th>34</th>\n",
       "      <td>کوهین</td>\n",
       "    </tr>\n",
       "  </tbody>\n",
       "</table>\n",
       "</div>"
      ],
      "text/plain": [
       "                      city\n",
       "city_1                    \n",
       "0                    آبگرم\n",
       "1                     آبیک\n",
       "2                      آوج\n",
       "3                    ارداق\n",
       "4                 اسفرورین\n",
       "5                   اصفهان\n",
       "6                  اقبالیه\n",
       "7                    الوند\n",
       "8                 ایرانشهر\n",
       "9               بوئین زهرا\n",
       "10                   بیجار\n",
       "11                 بیدستان\n",
       "12                 تاکستان\n",
       "13                   تهران\n",
       "14                  خاکعلی\n",
       "15                  خرمدشت\n",
       "16                دانسفهان\n",
       "17                 رازمیان\n",
       "18                رباطکریم\n",
       "19                 سگزآباد\n",
       "20                     شال\n",
       "21                  شریفیه\n",
       "22           شهرجدیدهشتگرد\n",
       "23                 ضیاآباد\n",
       "24                    طارم\n",
       "25                   قزوین\n",
       "26                      قم\n",
       "27      مجموعه شهری مهرگان\n",
       "28                  محمدیه\n",
       "29          محمودآبادنمونه\n",
       "30              معلم کلایه\n",
       "31                    نرجه\n",
       "32                 نظرآباد\n",
       "33                     کرج\n",
       "34                   کوهین"
      ]
     },
     "execution_count": 172,
     "metadata": {},
     "output_type": "execute_result"
    }
   ],
   "source": [
    "#each city'value label\n",
    "(pp[['city']]).drop_duplicates()"
   ]
  },
  {
   "cell_type": "code",
   "execution_count": 173,
   "metadata": {},
   "outputs": [],
   "source": [
    "#dropping city\n",
    "pp.drop(['city'], axis=1,inplace=True)"
   ]
  },
  {
   "cell_type": "markdown",
   "metadata": {},
   "source": [
    "# Visualizing the data"
   ]
  },
  {
   "cell_type": "code",
   "execution_count": 100,
   "metadata": {},
   "outputs": [
    {
     "data": {
      "image/png": "[encoded data removed]",
      "text/plain": [
       "<Figure size 720x288 with 1 Axes>"
      ]
     },
     "metadata": {
      "needs_background": "light"
     },
     "output_type": "display_data"
    },
    {
     "data": {
      "image/png": "[encoded data removed]",
      "text/plain": [
       "<Figure size 432x288 with 1 Axes>"
      ]
     },
     "metadata": {
      "needs_background": "light"
     },
     "output_type": "display_data"
    },
    {
     "data": {
      "image/png": "[encoded data removed]",
      "text/plain": [
       "<Figure size 432x288 with 1 Axes>"
      ]
     },
     "metadata": {
      "needs_background": "light"
     },
     "output_type": "display_data"
    },
    {
     "data": {
      "image/png": "[encoded data removed]",
      "text/plain": [
       "<Figure size 432x288 with 1 Axes>"
      ]
     },
     "metadata": {
      "needs_background": "light"
     },
     "output_type": "display_data"
    },
    {
     "data": {
      "image/png": "[encoded data removed]",
      "text/plain": [
       "<Figure size 432x288 with 1 Axes>"
      ]
     },
     "metadata": {
      "needs_background": "light"
     },
     "output_type": "display_data"
    },
    {
     "data": {
      "image/png": "[encoded data removed]",
      "text/plain": [
       "<Figure size 432x288 with 1 Axes>"
      ]
     },
     "metadata": {
      "needs_background": "light"
     },
     "output_type": "display_data"
    }
   ],
   "source": [
    "#Histogram Plot\n",
    "plt.figure(figsize=(10, 4))\n",
    "\n",
    "plt.hist(x[['city_GIS_1']])\n",
    "plt.title(\"'city_GIS_1' Histogram Plot\")\n",
    "plt.show()\n",
    "\n",
    "\n",
    "plt.hist(x[['city_GIS_2']])\n",
    "plt.title(\"'city_GIS_2' Histogram Plot\")\n",
    "plt.show()\n",
    "\n",
    "plt.hist(x[['branch_GIS_1']])\n",
    "plt.title(\"'branch_GIS_1' Histogram Plot\")\n",
    "plt.show()\n",
    "\n",
    "plt.hist(x[['branch_GIS_2']])\n",
    "plt.title(\"'branch_GIS_2' Histogram Plot\")\n",
    "plt.show()\n",
    "\n",
    "plt.hist(x[['postalcode_GIS_1']])\n",
    "plt.title(\"'posta1_GIS_1' Histogram Plot\")\n",
    "plt.show()\n",
    "\n",
    "plt.hist(x[['postalcode_GIS_2']])\n",
    "plt.title(\"'postal_GIS_2' Histogram Plot\")\n",
    "plt.show()"
   ]
  },
  {
   "cell_type": "code",
   "execution_count": 174,
   "metadata": {},
   "outputs": [],
   "source": [
    "#defining x & y\n",
    "x=pp.drop(['postal code'], axis=1)\n",
    "\n",
    "y=pp[['postal code']]"
   ]
  },
  {
   "cell_type": "markdown",
   "metadata": {},
   "source": [
    "# First outlier treatment then missing data imputation ! "
   ]
  },
  {
   "cell_type": "code",
   "execution_count": 36,
   "metadata": {},
   "outputs": [],
   "source": [
    "#discovering outlier and removing them."
   ]
  },
  {
   "cell_type": "code",
   "execution_count": 90,
   "metadata": {},
   "outputs": [
    {
     "data": {
      "text/plain": [
       "city_GIS_1           13\n",
       "city_GIS_2           13\n",
       "branch_GIS_1        368\n",
       "branch_GIS_2        368\n",
       "postalcode_GIS_1    850\n",
       "postalcode_GIS_2    864\n",
       "dtype: int64"
      ]
     },
     "execution_count": 90,
     "metadata": {},
     "output_type": "execute_result"
    }
   ],
   "source": [
    "x.isnull().sum()"
   ]
  },
  {
   "cell_type": "code",
   "execution_count": 175,
   "metadata": {},
   "outputs": [],
   "source": [
    "# Since the data doesn’t follow a normal distribution ,outlier data points will be calculated by interquartile range (IQR).\n",
    "#If the value is not an outlier, it will display as NaN .\n",
    "\n",
    "def find_outliers_IQR(df):\n",
    "    \n",
    "\n",
    "    q1=df.quantile(0.25)\n",
    "\n",
    "    q3=df.quantile(0.75)\n",
    "\n",
    "    IQR=q3-q1\n",
    "\n",
    "    outliers = df[((df<(q1-1.5*IQR)) | (df>(q3+1.5*IQR)))]\n",
    "\n",
    "    return outliers"
   ]
  },
  {
   "cell_type": "code",
   "execution_count": 176,
   "metadata": {
    "collapsed": true
   },
   "outputs": [
    {
     "data": {
      "text/html": [
       "<div>\n",
       "<style scoped>\n",
       "    .dataframe tbody tr th:only-of-type {\n",
       "        vertical-align: middle;\n",
       "    }\n",
       "\n",
       "    .dataframe tbody tr th {\n",
       "        vertical-align: top;\n",
       "    }\n",
       "\n",
       "    .dataframe thead th {\n",
       "        text-align: right;\n",
       "    }\n",
       "</style>\n",
       "<table border=\"1\" class=\"dataframe\">\n",
       "  <thead>\n",
       "    <tr style=\"text-align: right;\">\n",
       "      <th></th>\n",
       "      <th>city_GIS_1</th>\n",
       "      <th>city_GIS_2</th>\n",
       "      <th>branch_GIS_1</th>\n",
       "      <th>branch_GIS_2</th>\n",
       "      <th>postalcode_GIS_1</th>\n",
       "      <th>postalcode_GIS_2</th>\n",
       "    </tr>\n",
       "    <tr>\n",
       "      <th>city_1</th>\n",
       "      <th></th>\n",
       "      <th></th>\n",
       "      <th></th>\n",
       "      <th></th>\n",
       "      <th></th>\n",
       "      <th></th>\n",
       "    </tr>\n",
       "  </thead>\n",
       "  <tbody>\n",
       "    <tr>\n",
       "      <th>0</th>\n",
       "      <td>NaN</td>\n",
       "      <td>49.28575</td>\n",
       "      <td>NaN</td>\n",
       "      <td>49.694056</td>\n",
       "      <td>NaN</td>\n",
       "      <td>NaN</td>\n",
       "    </tr>\n",
       "    <tr>\n",
       "      <th>0</th>\n",
       "      <td>NaN</td>\n",
       "      <td>49.28575</td>\n",
       "      <td>NaN</td>\n",
       "      <td>NaN</td>\n",
       "      <td>NaN</td>\n",
       "      <td>NaN</td>\n",
       "    </tr>\n",
       "    <tr>\n",
       "      <th>0</th>\n",
       "      <td>NaN</td>\n",
       "      <td>49.28575</td>\n",
       "      <td>NaN</td>\n",
       "      <td>NaN</td>\n",
       "      <td>NaN</td>\n",
       "      <td>NaN</td>\n",
       "    </tr>\n",
       "    <tr>\n",
       "      <th>0</th>\n",
       "      <td>NaN</td>\n",
       "      <td>49.28575</td>\n",
       "      <td>NaN</td>\n",
       "      <td>NaN</td>\n",
       "      <td>NaN</td>\n",
       "      <td>NaN</td>\n",
       "    </tr>\n",
       "    <tr>\n",
       "      <th>0</th>\n",
       "      <td>NaN</td>\n",
       "      <td>49.28575</td>\n",
       "      <td>NaN</td>\n",
       "      <td>NaN</td>\n",
       "      <td>NaN</td>\n",
       "      <td>NaN</td>\n",
       "    </tr>\n",
       "    <tr>\n",
       "      <th>...</th>\n",
       "      <td>...</td>\n",
       "      <td>...</td>\n",
       "      <td>...</td>\n",
       "      <td>...</td>\n",
       "      <td>...</td>\n",
       "      <td>...</td>\n",
       "    </tr>\n",
       "    <tr>\n",
       "      <th>34</th>\n",
       "      <td>NaN</td>\n",
       "      <td>49.66200</td>\n",
       "      <td>NaN</td>\n",
       "      <td>NaN</td>\n",
       "      <td>NaN</td>\n",
       "      <td>NaN</td>\n",
       "    </tr>\n",
       "    <tr>\n",
       "      <th>34</th>\n",
       "      <td>NaN</td>\n",
       "      <td>49.66200</td>\n",
       "      <td>NaN</td>\n",
       "      <td>NaN</td>\n",
       "      <td>NaN</td>\n",
       "      <td>NaN</td>\n",
       "    </tr>\n",
       "    <tr>\n",
       "      <th>34</th>\n",
       "      <td>NaN</td>\n",
       "      <td>49.66200</td>\n",
       "      <td>NaN</td>\n",
       "      <td>NaN</td>\n",
       "      <td>NaN</td>\n",
       "      <td>NaN</td>\n",
       "    </tr>\n",
       "    <tr>\n",
       "      <th>34</th>\n",
       "      <td>NaN</td>\n",
       "      <td>49.66200</td>\n",
       "      <td>NaN</td>\n",
       "      <td>NaN</td>\n",
       "      <td>NaN</td>\n",
       "      <td>NaN</td>\n",
       "    </tr>\n",
       "    <tr>\n",
       "      <th>34</th>\n",
       "      <td>NaN</td>\n",
       "      <td>49.66200</td>\n",
       "      <td>NaN</td>\n",
       "      <td>NaN</td>\n",
       "      <td>NaN</td>\n",
       "      <td>NaN</td>\n",
       "    </tr>\n",
       "  </tbody>\n",
       "</table>\n",
       "<p>1050 rows × 6 columns</p>\n",
       "</div>"
      ],
      "text/plain": [
       "        city_GIS_1  city_GIS_2  branch_GIS_1  branch_GIS_2  postalcode_GIS_1  \\\n",
       "city_1                                                                         \n",
       "0              NaN    49.28575           NaN     49.694056               NaN   \n",
       "0              NaN    49.28575           NaN           NaN               NaN   \n",
       "0              NaN    49.28575           NaN           NaN               NaN   \n",
       "0              NaN    49.28575           NaN           NaN               NaN   \n",
       "0              NaN    49.28575           NaN           NaN               NaN   \n",
       "...            ...         ...           ...           ...               ...   \n",
       "34             NaN    49.66200           NaN           NaN               NaN   \n",
       "34             NaN    49.66200           NaN           NaN               NaN   \n",
       "34             NaN    49.66200           NaN           NaN               NaN   \n",
       "34             NaN    49.66200           NaN           NaN               NaN   \n",
       "34             NaN    49.66200           NaN           NaN               NaN   \n",
       "\n",
       "        postalcode_GIS_2  \n",
       "city_1                    \n",
       "0                    NaN  \n",
       "0                    NaN  \n",
       "0                    NaN  \n",
       "0                    NaN  \n",
       "0                    NaN  \n",
       "...                  ...  \n",
       "34                   NaN  \n",
       "34                   NaN  \n",
       "34                   NaN  \n",
       "34                   NaN  \n",
       "34                   NaN  \n",
       "\n",
       "[1050 rows x 6 columns]"
      ]
     },
     "execution_count": 176,
     "metadata": {},
     "output_type": "execute_result"
    }
   ],
   "source": [
    "find_outliers_IQR(x)"
   ]
  },
  {
   "cell_type": "code",
   "execution_count": 113,
   "metadata": {},
   "outputs": [
    {
     "name": "stdout",
     "output_type": "stream",
     "text": [
      "<class 'pandas.core.frame.DataFrame'>\n",
      "Int64Index: 1050 entries, 0 to 34\n",
      "Data columns (total 6 columns):\n",
      " #   Column            Non-Null Count  Dtype  \n",
      "---  ------            --------------  -----  \n",
      " 0   city_GIS_1        0 non-null      float64\n",
      " 1   city_GIS_2        226 non-null    float64\n",
      " 2   branch_GIS_1      0 non-null      float64\n",
      " 3   branch_GIS_2      48 non-null     float64\n",
      " 4   postalcode_GIS_1  33 non-null     float64\n",
      " 5   postalcode_GIS_2  3 non-null      float64\n",
      "dtypes: float64(6)\n",
      "memory usage: 57.4 KB\n"
     ]
    }
   ],
   "source": [
    "find_outliers_IQR(x).info() \n",
    "# null values are reflected as NaN \n",
    "# branch_gis_2 : 48 outliers\n",
    "# postalcode_GIS_1 : 33 outliers\n",
    "# postalcode_GIS_2 : 3 outliers\n",
    "# city_GIS_2       : 226 outliers"
   ]
  },
  {
   "cell_type": "code",
   "execution_count": 247,
   "metadata": {},
   "outputs": [],
   "source": [
    "#mean imputation\n",
    "\n",
    "def impute_outliers_IQR(df):\n",
    "\n",
    "    q1=df.quantile(0.25)\n",
    "\n",
    "    q3=df.quantile(0.75)\n",
    "\n",
    "    IQR=q3-q1\n",
    "\n",
    "    upper = df[~(df>(q3+1.5*IQR))].max()\n",
    "\n",
    "    lower = df[~(df<(q1-1.5*IQR))].min()\n",
    "\n",
    "    df = np.where(df > upper,df.mean(),np.where(df < lower,df.mean(),df))\n",
    "    \n",
    "\n",
    "    return df"
   ]
  },
  {
   "cell_type": "code",
   "execution_count": 249,
   "metadata": {},
   "outputs": [],
   "source": [
    "new_x=pd.DataFrame(impute_outliers_IQR(x),columns=['city_GIS_1', 'city_GIS_2',\n",
    "                                             'branch_GIS_1','branch_GIS_2','postalcode_GIS_1',\"postalcode_GIS_2\"])"
   ]
  },
  {
   "cell_type": "code",
   "execution_count": 250,
   "metadata": {},
   "outputs": [
    {
     "name": "stdout",
     "output_type": "stream",
     "text": [
      "<class 'pandas.core.frame.DataFrame'>\n",
      "RangeIndex: 1050 entries, 0 to 1049\n",
      "Data columns (total 6 columns):\n",
      " #   Column            Non-Null Count  Dtype  \n",
      "---  ------            --------------  -----  \n",
      " 0   city_GIS_1        0 non-null      float64\n",
      " 1   city_GIS_2        17 non-null     float64\n",
      " 2   branch_GIS_1      0 non-null      float64\n",
      " 3   branch_GIS_2      0 non-null      float64\n",
      " 4   postalcode_GIS_1  33 non-null     float64\n",
      " 5   postalcode_GIS_2  1 non-null      float64\n",
      "dtypes: float64(6)\n",
      "memory usage: 49.3 KB\n"
     ]
    }
   ],
   "source": [
    "find_outliers_IQR(new_x).info() \n"
   ]
  },
  {
   "cell_type": "code",
   "execution_count": 251,
   "metadata": {},
   "outputs": [
    {
     "name": "stdout",
     "output_type": "stream",
     "text": [
      "<class 'pandas.core.frame.DataFrame'>\n",
      "Int64Index: 1050 entries, 0 to 34\n",
      "Data columns (total 6 columns):\n",
      " #   Column            Non-Null Count  Dtype  \n",
      "---  ------            --------------  -----  \n",
      " 0   city_GIS_1        0 non-null      float64\n",
      " 1   city_GIS_2        226 non-null    float64\n",
      " 2   branch_GIS_1      0 non-null      float64\n",
      " 3   branch_GIS_2      48 non-null     float64\n",
      " 4   postalcode_GIS_1  33 non-null     float64\n",
      " 5   postalcode_GIS_2  3 non-null      float64\n",
      "dtypes: float64(6)\n",
      "memory usage: 57.4 KB\n"
     ]
    }
   ],
   "source": [
    "find_outliers_IQR(x).info() \n"
   ]
  },
  {
   "cell_type": "code",
   "execution_count": 289,
   "metadata": {},
   "outputs": [],
   "source": [
    "my_imputer = SimpleImputer(strategy='mean')\n",
    "imputed_x = pd.DataFrame(my_imputer.fit_transform(new_x),columns=['city_GIS_1', 'city_GIS_2',\n",
    "                                             'branch_GIS_1','branch_GIS_2','postalcode_GIS_1',\"postalcode_GIS_2\"])"
   ]
  },
  {
   "cell_type": "code",
   "execution_count": 290,
   "metadata": {
    "collapsed": true
   },
   "outputs": [
    {
     "data": {
      "text/html": [
       "<div>\n",
       "<style scoped>\n",
       "    .dataframe tbody tr th:only-of-type {\n",
       "        vertical-align: middle;\n",
       "    }\n",
       "\n",
       "    .dataframe tbody tr th {\n",
       "        vertical-align: top;\n",
       "    }\n",
       "\n",
       "    .dataframe thead th {\n",
       "        text-align: right;\n",
       "    }\n",
       "</style>\n",
       "<table border=\"1\" class=\"dataframe\">\n",
       "  <thead>\n",
       "    <tr style=\"text-align: right;\">\n",
       "      <th></th>\n",
       "      <th>city_GIS_1</th>\n",
       "      <th>city_GIS_2</th>\n",
       "      <th>branch_GIS_1</th>\n",
       "      <th>branch_GIS_2</th>\n",
       "      <th>postalcode_GIS_1</th>\n",
       "      <th>postalcode_GIS_2</th>\n",
       "    </tr>\n",
       "  </thead>\n",
       "  <tbody>\n",
       "    <tr>\n",
       "      <th>0</th>\n",
       "      <td>35.756778</td>\n",
       "      <td>50.036984</td>\n",
       "      <td>36.069361</td>\n",
       "      <td>50.133142</td>\n",
       "      <td>4.587266e+06</td>\n",
       "      <td>49.957304</td>\n",
       "    </tr>\n",
       "    <tr>\n",
       "      <th>1</th>\n",
       "      <td>35.756778</td>\n",
       "      <td>50.036984</td>\n",
       "      <td>36.089383</td>\n",
       "      <td>50.125918</td>\n",
       "      <td>4.587266e+06</td>\n",
       "      <td>49.957304</td>\n",
       "    </tr>\n",
       "    <tr>\n",
       "      <th>2</th>\n",
       "      <td>35.756778</td>\n",
       "      <td>50.036984</td>\n",
       "      <td>36.089383</td>\n",
       "      <td>50.125918</td>\n",
       "      <td>4.587266e+06</td>\n",
       "      <td>49.957304</td>\n",
       "    </tr>\n",
       "    <tr>\n",
       "      <th>3</th>\n",
       "      <td>35.756778</td>\n",
       "      <td>50.036984</td>\n",
       "      <td>36.089383</td>\n",
       "      <td>50.125918</td>\n",
       "      <td>3.575678e+01</td>\n",
       "      <td>49.285750</td>\n",
       "    </tr>\n",
       "    <tr>\n",
       "      <th>4</th>\n",
       "      <td>35.756778</td>\n",
       "      <td>50.036984</td>\n",
       "      <td>36.089383</td>\n",
       "      <td>50.125918</td>\n",
       "      <td>4.587266e+06</td>\n",
       "      <td>49.957304</td>\n",
       "    </tr>\n",
       "    <tr>\n",
       "      <th>...</th>\n",
       "      <td>...</td>\n",
       "      <td>...</td>\n",
       "      <td>...</td>\n",
       "      <td>...</td>\n",
       "      <td>...</td>\n",
       "      <td>...</td>\n",
       "    </tr>\n",
       "    <tr>\n",
       "      <th>1045</th>\n",
       "      <td>36.371667</td>\n",
       "      <td>50.036984</td>\n",
       "      <td>36.089383</td>\n",
       "      <td>50.125918</td>\n",
       "      <td>4.587266e+06</td>\n",
       "      <td>49.957304</td>\n",
       "    </tr>\n",
       "    <tr>\n",
       "      <th>1046</th>\n",
       "      <td>36.371667</td>\n",
       "      <td>50.036984</td>\n",
       "      <td>36.089383</td>\n",
       "      <td>50.125918</td>\n",
       "      <td>3.637167e+01</td>\n",
       "      <td>49.662000</td>\n",
       "    </tr>\n",
       "    <tr>\n",
       "      <th>1047</th>\n",
       "      <td>36.371667</td>\n",
       "      <td>50.036984</td>\n",
       "      <td>36.089383</td>\n",
       "      <td>50.125918</td>\n",
       "      <td>4.587266e+06</td>\n",
       "      <td>49.957304</td>\n",
       "    </tr>\n",
       "    <tr>\n",
       "      <th>1048</th>\n",
       "      <td>36.371667</td>\n",
       "      <td>50.036984</td>\n",
       "      <td>36.089383</td>\n",
       "      <td>50.125918</td>\n",
       "      <td>4.587266e+06</td>\n",
       "      <td>49.957304</td>\n",
       "    </tr>\n",
       "    <tr>\n",
       "      <th>1049</th>\n",
       "      <td>36.371667</td>\n",
       "      <td>50.036984</td>\n",
       "      <td>36.089383</td>\n",
       "      <td>50.125918</td>\n",
       "      <td>4.587266e+06</td>\n",
       "      <td>49.957304</td>\n",
       "    </tr>\n",
       "  </tbody>\n",
       "</table>\n",
       "<p>1050 rows × 6 columns</p>\n",
       "</div>"
      ],
      "text/plain": [
       "      city_GIS_1  city_GIS_2  branch_GIS_1  branch_GIS_2  postalcode_GIS_1  \\\n",
       "0      35.756778   50.036984     36.069361     50.133142      4.587266e+06   \n",
       "1      35.756778   50.036984     36.089383     50.125918      4.587266e+06   \n",
       "2      35.756778   50.036984     36.089383     50.125918      4.587266e+06   \n",
       "3      35.756778   50.036984     36.089383     50.125918      3.575678e+01   \n",
       "4      35.756778   50.036984     36.089383     50.125918      4.587266e+06   \n",
       "...          ...         ...           ...           ...               ...   \n",
       "1045   36.371667   50.036984     36.089383     50.125918      4.587266e+06   \n",
       "1046   36.371667   50.036984     36.089383     50.125918      3.637167e+01   \n",
       "1047   36.371667   50.036984     36.089383     50.125918      4.587266e+06   \n",
       "1048   36.371667   50.036984     36.089383     50.125918      4.587266e+06   \n",
       "1049   36.371667   50.036984     36.089383     50.125918      4.587266e+06   \n",
       "\n",
       "      postalcode_GIS_2  \n",
       "0            49.957304  \n",
       "1            49.957304  \n",
       "2            49.957304  \n",
       "3            49.285750  \n",
       "4            49.957304  \n",
       "...                ...  \n",
       "1045         49.957304  \n",
       "1046         49.662000  \n",
       "1047         49.957304  \n",
       "1048         49.957304  \n",
       "1049         49.957304  \n",
       "\n",
       "[1050 rows x 6 columns]"
      ]
     },
     "execution_count": 290,
     "metadata": {},
     "output_type": "execute_result"
    }
   ],
   "source": [
    "imputed_x"
   ]
  },
  {
   "cell_type": "code",
   "execution_count": 275,
   "metadata": {},
   "outputs": [],
   "source": [
    "x_train, x_test, y_train, y_test = train_test_split( imputed_x , y , test_size=0.3,random_state=42)"
   ]
  },
  {
   "cell_type": "code",
   "execution_count": 276,
   "metadata": {},
   "outputs": [],
   "source": [
    "sc = StandardScaler()\n",
    "x_train = sc.fit_transform(x_train)\n",
    "x_test  = sc.transform(x_test)"
   ]
  },
  {
   "cell_type": "code",
   "execution_count": 277,
   "metadata": {},
   "outputs": [],
   "source": [
    "# Applying PCA :\n",
    "    \n",
    "pca     = PCA()\n",
    "x_train = pca.fit_transform(x_train)\n",
    "x_test  = pca.transform(x_test)"
   ]
  },
  {
   "cell_type": "code",
   "execution_count": 278,
   "metadata": {},
   "outputs": [
    {
     "data": {
      "text/plain": [
       "array([0.40140193, 0.19470381, 0.15918184, 0.11863056, 0.08609985,\n",
       "       0.03998202])"
      ]
     },
     "execution_count": 278,
     "metadata": {},
     "output_type": "execute_result"
    }
   ],
   "source": [
    "explained_variance = pca.explained_variance_ratio_\n",
    "explained_variance"
   ]
  },
  {
   "cell_type": "code",
   "execution_count": 279,
   "metadata": {},
   "outputs": [],
   "source": [
    "pca = PCA(n_components=2)\n",
    "x_train = pca.fit_transform(x_train)\n",
    "x_test = pca.transform(x_test)"
   ]
  },
  {
   "cell_type": "code",
   "execution_count": 283,
   "metadata": {},
   "outputs": [],
   "source": [
    "test_scores  = []\n",
    "train_scores = []\n",
    "\n",
    "for i in range(1,15):\n",
    "\n",
    "    knn = KNeighborsClassifier(i)\n",
    "    \n",
    "    knn.fit(x_train,np.ravel(y_train))\n",
    "    \n",
    "\n",
    "    test_scores.append(knn.score(x_test,np.ravel(y_test)))       "
   ]
  },
  {
   "cell_type": "code",
   "execution_count": 284,
   "metadata": {},
   "outputs": [
    {
     "name": "stdout",
     "output_type": "stream",
     "text": [
      "Max test score 6.031746031746032 % and k = [1, 4]\n"
     ]
    }
   ],
   "source": [
    "max_test_score = max(test_scores)\n",
    "test_scores_ind = [i for i, v in enumerate(test_scores) if v == max_test_score]\n",
    "print('Max test score {} % and k = {}'.format(max_test_score*100,list(map(lambda x: x+1, test_scores_ind))))"
   ]
  }
 ],
 "metadata": {
  "kernelspec": {
   "display_name": "Python 3 (ipykernel)",
   "language": "python",
   "name": "python3"
  },
  "language_info": {
   "codemirror_mode": {
    "name": "ipython",
    "version": 3
   },
   "file_extension": ".py",
   "mimetype": "text/x-python",
   "name": "python",
   "nbconvert_exporter": "python",
   "pygments_lexer": "ipython3",
   "version": "3.9.12"
  },
  "vscode": {
   "interpreter": {
    "hash": "52d90d3cc821dd0beedd6e719dbdecc722c226b9d90ed1b663c34e1877f1142e"
   }
  }
 },
 "nbformat": 4,
 "nbformat_minor": 2
}
