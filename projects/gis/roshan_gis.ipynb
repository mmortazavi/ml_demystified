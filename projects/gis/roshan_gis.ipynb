{
 "cells": [
  {
   "cell_type": "markdown",
   "metadata": {},
   "source": []
  },
  {
   "cell_type": "code",
   "execution_count": 16,
   "metadata": {},
   "outputs": [],
   "source": [
    "import numpy as np\n",
    "import pandas as pd\n",
    "import matplotlib.pyplot as plt\n",
    "import seaborn as sns"
   ]
  },
  {
   "cell_type": "code",
   "execution_count": 11,
   "metadata": {},
   "outputs": [
    {
     "data": {
      "text/html": [
       "<div>\n",
       "<style scoped>\n",
       "    .dataframe tbody tr th:only-of-type {\n",
       "        vertical-align: middle;\n",
       "    }\n",
       "\n",
       "    .dataframe tbody tr th {\n",
       "        vertical-align: top;\n",
       "    }\n",
       "\n",
       "    .dataframe thead th {\n",
       "        text-align: right;\n",
       "    }\n",
       "</style>\n",
       "<table border=\"1\" class=\"dataframe\">\n",
       "  <thead>\n",
       "    <tr style=\"text-align: right;\">\n",
       "      <th></th>\n",
       "      <th>Unnamed: 0</th>\n",
       "      <th>city</th>\n",
       "      <th>postal code</th>\n",
       "      <th>city_GIS_1</th>\n",
       "      <th>city_GIS_2</th>\n",
       "      <th>branch_GIS_1</th>\n",
       "      <th>branch_GIS_2</th>\n",
       "      <th>postalcode_GIS_1</th>\n",
       "      <th>postalcode_GIS_2</th>\n",
       "    </tr>\n",
       "  </thead>\n",
       "  <tbody>\n",
       "    <tr>\n",
       "      <th>0</th>\n",
       "      <td>0</td>\n",
       "      <td>بوئین زهرا</td>\n",
       "      <td>3454178378</td>\n",
       "      <td>35.76775</td>\n",
       "      <td>50.057667</td>\n",
       "      <td>35.76775</td>\n",
       "      <td>50.057667</td>\n",
       "      <td>3.454178e+09</td>\n",
       "      <td>NaN</td>\n",
       "    </tr>\n",
       "    <tr>\n",
       "      <th>1</th>\n",
       "      <td>1</td>\n",
       "      <td>بوئین زهرا</td>\n",
       "      <td>35.767750, 50.057667</td>\n",
       "      <td>35.76775</td>\n",
       "      <td>50.057667</td>\n",
       "      <td>35.76775</td>\n",
       "      <td>50.057667</td>\n",
       "      <td>3.576775e+01</td>\n",
       "      <td>50.057667</td>\n",
       "    </tr>\n",
       "    <tr>\n",
       "      <th>2</th>\n",
       "      <td>2</td>\n",
       "      <td>بوئین زهرا</td>\n",
       "      <td>35.767750, 50.057667</td>\n",
       "      <td>35.76775</td>\n",
       "      <td>50.057667</td>\n",
       "      <td>35.76775</td>\n",
       "      <td>50.057667</td>\n",
       "      <td>3.576775e+01</td>\n",
       "      <td>50.057667</td>\n",
       "    </tr>\n",
       "    <tr>\n",
       "      <th>3</th>\n",
       "      <td>3</td>\n",
       "      <td>بوئین زهرا</td>\n",
       "      <td>35.767750, 50.057667</td>\n",
       "      <td>35.76775</td>\n",
       "      <td>50.057667</td>\n",
       "      <td>35.76775</td>\n",
       "      <td>50.057667</td>\n",
       "      <td>3.576775e+01</td>\n",
       "      <td>50.057667</td>\n",
       "    </tr>\n",
       "    <tr>\n",
       "      <th>4</th>\n",
       "      <td>4</td>\n",
       "      <td>بوئین زهرا</td>\n",
       "      <td>35.767750, 50.057667</td>\n",
       "      <td>35.76775</td>\n",
       "      <td>50.057667</td>\n",
       "      <td>35.76775</td>\n",
       "      <td>50.057667</td>\n",
       "      <td>3.576775e+01</td>\n",
       "      <td>50.057667</td>\n",
       "    </tr>\n",
       "  </tbody>\n",
       "</table>\n",
       "</div>"
      ],
      "text/plain": [
       "   Unnamed: 0        city           postal code  city_GIS_1  city_GIS_2  \\\n",
       "0           0  بوئین زهرا            3454178378    35.76775   50.057667   \n",
       "1           1  بوئین زهرا  35.767750, 50.057667    35.76775   50.057667   \n",
       "2           2  بوئین زهرا  35.767750, 50.057667    35.76775   50.057667   \n",
       "3           3  بوئین زهرا  35.767750, 50.057667    35.76775   50.057667   \n",
       "4           4  بوئین زهرا  35.767750, 50.057667    35.76775   50.057667   \n",
       "\n",
       "   branch_GIS_1  branch_GIS_2  postalcode_GIS_1  postalcode_GIS_2  \n",
       "0      35.76775     50.057667      3.454178e+09               NaN  \n",
       "1      35.76775     50.057667      3.576775e+01         50.057667  \n",
       "2      35.76775     50.057667      3.576775e+01         50.057667  \n",
       "3      35.76775     50.057667      3.576775e+01         50.057667  \n",
       "4      35.76775     50.057667      3.576775e+01         50.057667  "
      ]
     },
     "execution_count": 11,
     "metadata": {},
     "output_type": "execute_result"
    }
   ],
   "source": [
    "df = pd.read_csv(r'C:\\Users\\Roshan\\.ssh\\ml_demystified\\projects\\gis\\gis_data.csv')\n",
    "df.head()"
   ]
  },
  {
   "cell_type": "code",
   "execution_count": 12,
   "metadata": {},
   "outputs": [
    {
     "data": {
      "text/plain": [
       "Unnamed: 0          False\n",
       "city                False\n",
       "postal code          True\n",
       "city_GIS_1           True\n",
       "city_GIS_2           True\n",
       "branch_GIS_1         True\n",
       "branch_GIS_2         True\n",
       "postalcode_GIS_1     True\n",
       "postalcode_GIS_2     True\n",
       "dtype: bool"
      ]
     },
     "execution_count": 12,
     "metadata": {},
     "output_type": "execute_result"
    }
   ],
   "source": [
    "df.isnull().any()"
   ]
  },
  {
   "cell_type": "code",
   "execution_count": 14,
   "metadata": {},
   "outputs": [
    {
     "name": "stdout",
     "output_type": "stream",
     "text": [
      "<class 'pandas.core.frame.DataFrame'>\n",
      "RangeIndex: 6899 entries, 0 to 6898\n",
      "Data columns (total 9 columns):\n",
      " #   Column            Non-Null Count  Dtype  \n",
      "---  ------            --------------  -----  \n",
      " 0   Unnamed: 0        6899 non-null   int64  \n",
      " 1   city              6899 non-null   object \n",
      " 2   postal code       6214 non-null   object \n",
      " 3   city_GIS_1        6886 non-null   float64\n",
      " 4   city_GIS_2        6886 non-null   float64\n",
      " 5   branch_GIS_1      4633 non-null   float64\n",
      " 6   branch_GIS_2      4633 non-null   float64\n",
      " 7   postalcode_GIS_1  5197 non-null   float64\n",
      " 8   postalcode_GIS_2  5179 non-null   float64\n",
      "dtypes: float64(6), int64(1), object(2)\n",
      "memory usage: 485.2+ KB\n",
      "None\n"
     ]
    }
   ],
   "source": [
    "print( df.info())"
   ]
  },
  {
   "cell_type": "code",
   "execution_count": 13,
   "metadata": {},
   "outputs": [
    {
     "data": {
      "text/html": [
       "<div>\n",
       "<style scoped>\n",
       "    .dataframe tbody tr th:only-of-type {\n",
       "        vertical-align: middle;\n",
       "    }\n",
       "\n",
       "    .dataframe tbody tr th {\n",
       "        vertical-align: top;\n",
       "    }\n",
       "\n",
       "    .dataframe thead th {\n",
       "        text-align: right;\n",
       "    }\n",
       "</style>\n",
       "<table border=\"1\" class=\"dataframe\">\n",
       "  <thead>\n",
       "    <tr style=\"text-align: right;\">\n",
       "      <th></th>\n",
       "      <th>Unnamed: 0</th>\n",
       "      <th>city_GIS_1</th>\n",
       "      <th>city_GIS_2</th>\n",
       "      <th>branch_GIS_1</th>\n",
       "      <th>branch_GIS_2</th>\n",
       "      <th>postalcode_GIS_1</th>\n",
       "      <th>postalcode_GIS_2</th>\n",
       "    </tr>\n",
       "  </thead>\n",
       "  <tbody>\n",
       "    <tr>\n",
       "      <th>count</th>\n",
       "      <td>6899.000000</td>\n",
       "      <td>6886.000000</td>\n",
       "      <td>6886.000000</td>\n",
       "      <td>4633.000000</td>\n",
       "      <td>4633.000000</td>\n",
       "      <td>5.197000e+03</td>\n",
       "      <td>5179.000000</td>\n",
       "    </tr>\n",
       "    <tr>\n",
       "      <th>mean</th>\n",
       "      <td>3449.000000</td>\n",
       "      <td>36.126343</td>\n",
       "      <td>50.054557</td>\n",
       "      <td>36.135882</td>\n",
       "      <td>50.119157</td>\n",
       "      <td>1.199879e+06</td>\n",
       "      <td>50.011474</td>\n",
       "    </tr>\n",
       "    <tr>\n",
       "      <th>std</th>\n",
       "      <td>1991.714086</td>\n",
       "      <td>0.197080</td>\n",
       "      <td>0.263723</td>\n",
       "      <td>0.178326</td>\n",
       "      <td>0.151452</td>\n",
       "      <td>4.945171e+07</td>\n",
       "      <td>0.265501</td>\n",
       "    </tr>\n",
       "    <tr>\n",
       "      <th>min</th>\n",
       "      <td>0.000000</td>\n",
       "      <td>35.579889</td>\n",
       "      <td>49.222306</td>\n",
       "      <td>35.707574</td>\n",
       "      <td>49.694056</td>\n",
       "      <td>1.800000e+01</td>\n",
       "      <td>49.190333</td>\n",
       "    </tr>\n",
       "    <tr>\n",
       "      <th>25%</th>\n",
       "      <td>1724.500000</td>\n",
       "      <td>36.044611</td>\n",
       "      <td>50.007111</td>\n",
       "      <td>36.069361</td>\n",
       "      <td>50.057667</td>\n",
       "      <td>3.604461e+01</td>\n",
       "      <td>49.923722</td>\n",
       "    </tr>\n",
       "    <tr>\n",
       "      <th>50%</th>\n",
       "      <td>3449.000000</td>\n",
       "      <td>36.223528</td>\n",
       "      <td>50.057667</td>\n",
       "      <td>36.223528</td>\n",
       "      <td>50.182528</td>\n",
       "      <td>3.623058e+01</td>\n",
       "      <td>50.007111</td>\n",
       "    </tr>\n",
       "    <tr>\n",
       "      <th>75%</th>\n",
       "      <td>5173.500000</td>\n",
       "      <td>36.252528</td>\n",
       "      <td>50.182917</td>\n",
       "      <td>36.223528</td>\n",
       "      <td>50.182528</td>\n",
       "      <td>3.628853e+01</td>\n",
       "      <td>50.058972</td>\n",
       "    </tr>\n",
       "    <tr>\n",
       "      <th>max</th>\n",
       "      <td>6898.000000</td>\n",
       "      <td>36.542111</td>\n",
       "      <td>50.890361</td>\n",
       "      <td>36.288528</td>\n",
       "      <td>51.347655</td>\n",
       "      <td>3.454178e+09</td>\n",
       "      <td>50.890361</td>\n",
       "    </tr>\n",
       "  </tbody>\n",
       "</table>\n",
       "</div>"
      ],
      "text/plain": [
       "        Unnamed: 0   city_GIS_1   city_GIS_2  branch_GIS_1  branch_GIS_2  \\\n",
       "count  6899.000000  6886.000000  6886.000000   4633.000000   4633.000000   \n",
       "mean   3449.000000    36.126343    50.054557     36.135882     50.119157   \n",
       "std    1991.714086     0.197080     0.263723      0.178326      0.151452   \n",
       "min       0.000000    35.579889    49.222306     35.707574     49.694056   \n",
       "25%    1724.500000    36.044611    50.007111     36.069361     50.057667   \n",
       "50%    3449.000000    36.223528    50.057667     36.223528     50.182528   \n",
       "75%    5173.500000    36.252528    50.182917     36.223528     50.182528   \n",
       "max    6898.000000    36.542111    50.890361     36.288528     51.347655   \n",
       "\n",
       "       postalcode_GIS_1  postalcode_GIS_2  \n",
       "count      5.197000e+03       5179.000000  \n",
       "mean       1.199879e+06         50.011474  \n",
       "std        4.945171e+07          0.265501  \n",
       "min        1.800000e+01         49.190333  \n",
       "25%        3.604461e+01         49.923722  \n",
       "50%        3.623058e+01         50.007111  \n",
       "75%        3.628853e+01         50.058972  \n",
       "max        3.454178e+09         50.890361  "
      ]
     },
     "execution_count": 13,
     "metadata": {},
     "output_type": "execute_result"
    }
   ],
   "source": [
    "df.describe()"
   ]
  },
  {
   "cell_type": "code",
   "execution_count": 20,
   "metadata": {},
   "outputs": [
    {
     "ename": "AttributeError",
     "evalue": "module 'matplotlib.pyplot' has no attribute 'pyplot'",
     "output_type": "error",
     "traceback": [
      "\u001b[1;31m---------------------------------------------------------------------------\u001b[0m",
      "\u001b[1;31mAttributeError\u001b[0m                            Traceback (most recent call last)",
      "\u001b[1;32m~\\AppData\\Local\\Temp\\ipykernel_6332\\3274724328.py\u001b[0m in \u001b[0;36m<module>\u001b[1;34m\u001b[0m\n\u001b[1;32m----> 1\u001b[1;33m \u001b[0mplt\u001b[0m\u001b[1;33m.\u001b[0m\u001b[0mpyplot\u001b[0m\u001b[1;33m.\u001b[0m\u001b[0mhist\u001b[0m\u001b[1;33m(\u001b[0m\u001b[1;33m)\u001b[0m\u001b[1;33m\u001b[0m\u001b[1;33m\u001b[0m\u001b[0m\n\u001b[0m",
      "\u001b[1;31mAttributeError\u001b[0m: module 'matplotlib.pyplot' has no attribute 'pyplot'"
     ]
    }
   ],
   "source": []
  }
 ],
 "metadata": {
  "kernelspec": {
   "display_name": "Python 3.9.7 ('base')",
   "language": "python",
   "name": "python3"
  },
  "language_info": {
   "codemirror_mode": {
    "name": "ipython",
    "version": 3
   },
   "file_extension": ".py",
   "mimetype": "text/x-python",
   "name": "python",
   "nbconvert_exporter": "python",
   "pygments_lexer": "ipython3",
   "version": "3.9.7"
  },
  "orig_nbformat": 4,
  "vscode": {
   "interpreter": {
    "hash": "9f287739565b73ab9c5c3ca57defd10e72881d9b0fc3c7b666452042b3b86721"
   }
  }
 },
 "nbformat": 4,
 "nbformat_minor": 2
}
