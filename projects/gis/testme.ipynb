{
 "cells": [
  {
   "cell_type": "code",
   "execution_count": 1,
   "source": [
    "import numpy as np"
   ],
   "outputs": [],
   "metadata": {}
  }
 ],
 "metadata": {
  "kernelspec": {
   "name": "python3",
   "display_name": "Python 3.10.5 64-bit"
  },
  "language_info": {
   "codemirror_mode": {
    "name": "ipython",
    "version": 3
   },
   "file_extension": ".py",
   "mimetype": "text/x-python",
   "name": "python",
   "nbconvert_exporter": "python",
   "pygments_lexer": "ipython3",
   "version": "3.10.5"
  },
  "orig_nbformat": 4,
  "vscode": {
   "interpreter": {
    "hash": "5b8fc3dbd1cece99953e55a485051d4770515c468238e2ef12c773a24b1c7b5e"
   }
  },
  "interpreter": {
   "hash": "d05e90111d00e4c4d2e50218a19c6365183a5e322bd3080b680716a16da67457"
  }
 },
 "nbformat": 4,
 "nbformat_minor": 2
}