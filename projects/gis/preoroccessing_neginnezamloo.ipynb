{
 "cells": [
  {
   "cell_type": "code",
   "execution_count": 585,
   "metadata": {},
   "outputs": [],
   "source": [
    "#Importing libraries\n",
    "import pandas as pd\n",
    "import numpy as np"
   ]
  },
  {
   "cell_type": "code",
   "execution_count": 586,
   "metadata": {},
   "outputs": [],
   "source": [
    "#raw data\n",
    "raw=pd.read_excel(r'C:\\Users\\Asus\\Desktop\\raw_data.xlsx') "
   ]
  },
  {
   "cell_type": "code",
   "execution_count": 631,
   "metadata": {},
   "outputs": [
    {
     "name": "stdout",
     "output_type": "stream",
     "text": [
      "<class 'pandas.core.frame.DataFrame'>\n",
      "RangeIndex: 608 entries, 0 to 607\n",
      "Data columns (total 2 columns):\n",
      " #   Column                  Non-Null Count  Dtype \n",
      "---  ------                  --------------  ----- \n",
      " 0   seh_ragham_avl          608 non-null    object\n",
      " 1   shahr_e_sodor_codemeli  608 non-null    object\n",
      "dtypes: object(2)\n",
      "memory usage: 9.6+ KB\n"
     ]
    }
   ],
   "source": [
    "#importing_codemeli_city_xlsx\n",
    "codemeli_city=pd.read_excel(r'C:\\Users\\Asus\\Desktop\\Book1.xlsx') \n",
    "\n",
    "codemeli_city['seh_ragham_avl']= codemeli_city['seh_ragham_avl'].astype(str)\n",
    "\n",
    "codemeli_city.info()"
   ]
  },
  {
   "cell_type": "code",
   "execution_count": 548,
   "metadata": {
    "collapsed": true
   },
   "outputs": [
    {
     "name": "stdout",
     "output_type": "stream",
     "text": [
      "نام\n",
      "نام خانوادگی\n",
      "کد ملی\n",
      "موبایل\n",
      "مرحله ثبت نام\n",
      "شهر مورد تقاضا\n",
      "شهر محل سکونت\n",
      "آدرس متقاضی\n",
      "کدپستی\n",
      "وضعیت بارگذاری مدارک\n",
      "وضعیت سرپرستی\n",
      "شغل\n",
      "جنسیت\n",
      "میزان تحصیلات\n",
      "نام پدر\n",
      "شماره شناسنامه\n",
      "تاریخ تولد\n",
      "تعداد فرزندان\n",
      "بعد خانوار\n",
      "کد شعبه\n",
      "نام شعبه\n",
      "شماره حساب\n"
     ]
    }
   ],
   "source": [
    "# raw column names\n",
    "for col in raw.columns:\n",
    "    print(col)"
   ]
  },
  {
   "cell_type": "code",
   "execution_count": null,
   "metadata": {},
   "outputs": [],
   "source": [
    "#useful features:\n",
    "\n",
    "# نام\n",
    "# نام خانوادگی\n",
    "# کد ملی\n",
    "# شماره شناسنامه\n",
    "# موبایل\n",
    "# شهر مورد تقاضا\n",
    "# شهر محل سکونت\n",
    "# آدرس متقاضی\n",
    "# کدپستی\n",
    "# جنسیت\n",
    "# نام پدر\n",
    "# تاریخ تولد\n",
    "# شماره حساب"
   ]
  },
  {
   "cell_type": "code",
   "execution_count": 588,
   "metadata": {},
   "outputs": [],
   "source": [
    "#renaming columns to english\n",
    "raw.rename(columns={'نام':\"first_name\"  ,  \"نام خانوادگی\":\"last_name\"  ,  \"کد ملی\":\"national_id\"  ,\"شماره شناسنامه\":\"serial_number\",  \"کدپستی\": \"postal code\" ,\n",
    "                          \"شهر مورد تقاضا\"  : \"city_requested \" , \"شهر محل سکونت\" :\"city_residance\",\"موبایل\":\"mobile_number\",\"آدرس متقاضی\": \"address\" , \n",
    "                          \"جنسیت\":\"gender\",\"نام پدر\":\"Father's name\",\"تاریخ تولد\":\"Birth date\",\"شماره حساب\":\"Bank acc number\"} , inplace=True)\n",
    "\n",
    "raw.drop(columns=['وضعیت بارگذاری مدارک',\"وضعیت سرپرستی\",\"شغل\",\"میزان تحصیلات\",\"تعداد فرزندان\",\"بعد خانوار\" ,\"کد شعبه\",\"نام شعبه\",\"مرحله ثبت نام\"],inplace=True)\n"
   ]
  },
  {
   "cell_type": "markdown",
   "metadata": {},
   "source": [
    "\"کد ملی\"  ;  \"national_id\""
   ]
  },
  {
   "cell_type": "code",
   "execution_count": 111,
   "metadata": {},
   "outputs": [
    {
     "name": "stdout",
     "output_type": "stream",
     "text": [
      "<class 'pandas.core.frame.DataFrame'>\n",
      "RangeIndex: 6899 entries, 0 to 6898\n",
      "Data columns (total 1 columns):\n",
      " #   Column       Non-Null Count  Dtype\n",
      "---  ------       --------------  -----\n",
      " 0   national_id  6899 non-null   int64\n",
      "dtypes: int64(1)\n",
      "memory usage: 54.0 KB\n"
     ]
    }
   ],
   "source": [
    "raw[['national_id']].info()"
   ]
  },
  {
   "cell_type": "code",
   "execution_count": 589,
   "metadata": {},
   "outputs": [],
   "source": [
    "raw['national_id_str'] = raw['national_id'].astype(str)"
   ]
  },
  {
   "cell_type": "code",
   "execution_count": 590,
   "metadata": {},
   "outputs": [],
   "source": [
    "# digits counting\n",
    "def count_digits(string):\n",
    "    return sum(item.isdigit() for item in string)\n",
    "\n",
    "raw['digits_counting_national_id'] = (raw['national_id_str']).apply(count_digits)"
   ]
  },
  {
   "cell_type": "code",
   "execution_count": 591,
   "metadata": {},
   "outputs": [
    {
     "data": {
      "text/plain": [
       "digits_counting_national_id\n",
       "10                             6581\n",
       "8                               188\n",
       "9                               130\n",
       "dtype: int64"
      ]
     },
     "execution_count": 591,
     "metadata": {},
     "output_type": "execute_result"
    }
   ],
   "source": [
    "raw[['digits_counting_national_id']].value_counts() "
   ]
  },
  {
   "cell_type": "code",
   "execution_count": 592,
   "metadata": {},
   "outputs": [],
   "source": [
    "#afrad ba codemelii 10 raghami \n",
    "\n",
    "class_10=raw[raw.digits_counting_national_id == 10]\n",
    "\n",
    "#afrad ba codemelii 9 raghami \n",
    "class_9=raw[raw.digits_counting_national_id == 9]\n",
    "\n",
    "#afrad ba codemelii 8 raghami \n",
    "\n",
    "class_8=raw[raw.digits_counting_national_id == 8]"
   ]
  },
  {
   "cell_type": "markdown",
   "metadata": {},
   "source": [
    "# class10"
   ]
  },
  {
   "cell_type": "code",
   "execution_count": null,
   "metadata": {},
   "outputs": [],
   "source": [
    "#validationn of code e melii in class 10"
   ]
  },
  {
   "cell_type": "code",
   "execution_count": 180,
   "metadata": {
    "collapsed": true
   },
   "outputs": [
    {
     "name": "stderr",
     "output_type": "stream",
     "text": [
      "C:\\Users\\Asus\\AppData\\Local\\Temp\\ipykernel_12296\\2041196692.py:1: SettingWithCopyWarning: \n",
      "A value is trying to be set on a copy of a slice from a DataFrame\n",
      "\n",
      "See the caveats in the documentation: https://pandas.pydata.org/pandas-docs/stable/user_guide/indexing.html#returning-a-view-versus-a-copy\n",
      "  class_10[\"national_id_str\"].mask(class_10[\"national_id_str\"] == '1111111111', '9999999999', inplace=True)\n",
      "C:\\Users\\Asus\\AppData\\Local\\Temp\\ipykernel_12296\\2041196692.py:2: SettingWithCopyWarning: \n",
      "A value is trying to be set on a copy of a slice from a DataFrame\n",
      "\n",
      "See the caveats in the documentation: https://pandas.pydata.org/pandas-docs/stable/user_guide/indexing.html#returning-a-view-versus-a-copy\n",
      "  class_10[\"national_id_str\"].mask(class_10[\"national_id_str\"] == '2222222222', '9999999999', inplace=True)\n",
      "C:\\Users\\Asus\\AppData\\Local\\Temp\\ipykernel_12296\\2041196692.py:3: SettingWithCopyWarning: \n",
      "A value is trying to be set on a copy of a slice from a DataFrame\n",
      "\n",
      "See the caveats in the documentation: https://pandas.pydata.org/pandas-docs/stable/user_guide/indexing.html#returning-a-view-versus-a-copy\n",
      "  class_10[\"national_id_str\"].mask(class_10[\"national_id_str\"] == '3333333333', '9999999999', inplace=True)\n",
      "C:\\Users\\Asus\\AppData\\Local\\Temp\\ipykernel_12296\\2041196692.py:4: SettingWithCopyWarning: \n",
      "A value is trying to be set on a copy of a slice from a DataFrame\n",
      "\n",
      "See the caveats in the documentation: https://pandas.pydata.org/pandas-docs/stable/user_guide/indexing.html#returning-a-view-versus-a-copy\n",
      "  class_10[\"national_id_str\"].mask(class_10[\"national_id_str\"] == '4444444444', '9999999999', inplace=True)\n",
      "C:\\Users\\Asus\\AppData\\Local\\Temp\\ipykernel_12296\\2041196692.py:5: SettingWithCopyWarning: \n",
      "A value is trying to be set on a copy of a slice from a DataFrame\n",
      "\n",
      "See the caveats in the documentation: https://pandas.pydata.org/pandas-docs/stable/user_guide/indexing.html#returning-a-view-versus-a-copy\n",
      "  class_10[\"national_id_str\"].mask(class_10[\"national_id_str\"] == '5555555555', '9999999999', inplace=True)\n",
      "C:\\Users\\Asus\\AppData\\Local\\Temp\\ipykernel_12296\\2041196692.py:6: SettingWithCopyWarning: \n",
      "A value is trying to be set on a copy of a slice from a DataFrame\n",
      "\n",
      "See the caveats in the documentation: https://pandas.pydata.org/pandas-docs/stable/user_guide/indexing.html#returning-a-view-versus-a-copy\n",
      "  class_10[\"national_id_str\"].mask(class_10[\"national_id_str\"] == '6666666666', '9999999999', inplace=True)\n",
      "C:\\Users\\Asus\\AppData\\Local\\Temp\\ipykernel_12296\\2041196692.py:7: SettingWithCopyWarning: \n",
      "A value is trying to be set on a copy of a slice from a DataFrame\n",
      "\n",
      "See the caveats in the documentation: https://pandas.pydata.org/pandas-docs/stable/user_guide/indexing.html#returning-a-view-versus-a-copy\n",
      "  class_10[\"national_id_str\"].mask(class_10[\"national_id_str\"] == '7777777777', '9999999999', inplace=True)\n",
      "C:\\Users\\Asus\\AppData\\Local\\Temp\\ipykernel_12296\\2041196692.py:8: SettingWithCopyWarning: \n",
      "A value is trying to be set on a copy of a slice from a DataFrame\n",
      "\n",
      "See the caveats in the documentation: https://pandas.pydata.org/pandas-docs/stable/user_guide/indexing.html#returning-a-view-versus-a-copy\n",
      "  class_10[\"national_id_str\"].mask(class_10[\"national_id_str\"] == '8888888888', '9999999999', inplace=True)\n",
      "C:\\Users\\Asus\\AppData\\Local\\Temp\\ipykernel_12296\\2041196692.py:9: SettingWithCopyWarning: \n",
      "A value is trying to be set on a copy of a slice from a DataFrame\n",
      "\n",
      "See the caveats in the documentation: https://pandas.pydata.org/pandas-docs/stable/user_guide/indexing.html#returning-a-view-versus-a-copy\n",
      "  class_10[\"national_id_str\"].mask(class_10[\"national_id_str\"] == '0000000000', '9999999999', inplace=True)\n"
     ]
    }
   ],
   "source": [
    "# class_10[\"national_id_str\"].mask(class_10[\"national_id_str\"] == '1111111111', '9999999999', inplace=True)\n",
    "# class_10[\"national_id_str\"].mask(class_10[\"national_id_str\"] == '2222222222', '9999999999', inplace=True)\n",
    "# class_10[\"national_id_str\"].mask(class_10[\"national_id_str\"] == '3333333333', '9999999999', inplace=True)\n",
    "# class_10[\"national_id_str\"].mask(class_10[\"national_id_str\"] == '4444444444', '9999999999', inplace=True)\n",
    "# class_10[\"national_id_str\"].mask(class_10[\"national_id_str\"] == '5555555555', '9999999999', inplace=True)\n",
    "# class_10[\"national_id_str\"].mask(class_10[\"national_id_str\"] == '6666666666', '9999999999', inplace=True)\n",
    "# class_10[\"national_id_str\"].mask(class_10[\"national_id_str\"] == '7777777777', '9999999999', inplace=True)\n",
    "# class_10[\"national_id_str\"].mask(class_10[\"national_id_str\"] == '8888888888', '9999999999', inplace=True)\n",
    "# class_10[\"national_id_str\"].mask(class_10[\"national_id_str\"] == '0000000000', '9999999999', inplace=True)"
   ]
  },
  {
   "cell_type": "code",
   "execution_count": 193,
   "metadata": {},
   "outputs": [],
   "source": [
    "# class_10[class_10.national_id_str == '0000000000']"
   ]
  },
  {
   "cell_type": "code",
   "execution_count": 605,
   "metadata": {},
   "outputs": [
    {
     "name": "stderr",
     "output_type": "stream",
     "text": [
      "C:\\Users\\Asus\\AppData\\Local\\Temp\\ipykernel_12296\\2588875651.py:29: SettingWithCopyWarning: \n",
      "A value is trying to be set on a copy of a slice from a DataFrame.\n",
      "Try using .loc[row_indexer,col_indexer] = value instead\n",
      "\n",
      "See the caveats in the documentation: https://pandas.pydata.org/pandas-docs/stable/user_guide/indexing.html#returning-a-view-versus-a-copy\n",
      "  class_10['seh_ragham_aval']=mylisst_class10.values\n"
     ]
    }
   ],
   "source": [
    "mylisst_class10=[]\n",
    "\n",
    "for codemeli in (class_10['national_id_str']):\n",
    "    \n",
    "    Sum=0\n",
    "    \n",
    "    for j in range(9):\n",
    "        \n",
    "        Sum+= int(codemeli[j])*(10 - j) #sum number code meli 1-9\n",
    "    C=(Sum%11)\n",
    "    \n",
    "    A=int(codemeli[9]) #ragham e control\n",
    "    \n",
    "    B=11-C   \n",
    "    \n",
    "    if ((C<2 and A==0 )) or (C<2 and A==1):\n",
    "        \n",
    "        mylisst_class10.append(codemeli[:3])\n",
    "        \n",
    "    elif (C>=2) and (B==A):\n",
    "        \n",
    "        mylisst_class10.append(codemeli[:3])\n",
    "    else:\n",
    "        mylisst_class10.append(\"999\")\n",
    "        \n",
    "        \n",
    "    \n",
    "mylisst_class10=pd.DataFrame(mylisst_class10,columns =['3 ragham aval'])\n",
    "class_10['seh_ragham_aval']=mylisst_class10.values\n"
   ]
  },
  {
   "cell_type": "code",
   "execution_count": 496,
   "metadata": {},
   "outputs": [
    {
     "name": "stdout",
     "output_type": "stream",
     "text": [
      "<class 'pandas.core.frame.DataFrame'>\n",
      "RangeIndex: 607 entries, 0 to 606\n",
      "Data columns (total 2 columns):\n",
      " #   Column                  Non-Null Count  Dtype \n",
      "---  ------                  --------------  ----- \n",
      " 0   seh_ragham_avl          607 non-null    object\n",
      " 1   shahr_e_sodor_codemeli  607 non-null    object\n",
      "dtypes: object(2)\n",
      "memory usage: 9.6+ KB\n"
     ]
    }
   ],
   "source": [
    "codemeli_city.info()"
   ]
  },
  {
   "cell_type": "code",
   "execution_count": 632,
   "metadata": {},
   "outputs": [],
   "source": [
    "#converting codemeli_city to dict\n",
    "key, value = list(codemeli_city['seh_ragham_avl']), list(codemeli_city['shahr_e_sodor_codemeli'])\n",
    "codemeli_city = dict(zip(key, value))            "
   ]
  },
  {
   "cell_type": "code",
   "execution_count": 633,
   "metadata": {},
   "outputs": [],
   "source": [
    "codes = list(class_10['seh_ragham_aval'])\n",
    "\n",
    "cities_10 = []\n",
    "\n",
    "for i in codes:\n",
    "    \n",
    "    if i in key:\n",
    "        \n",
    "        cities_10.append(dictionary[i])\n",
    "    else:\n",
    "        cities_10.append(\"null\")"
   ]
  },
  {
   "cell_type": "code",
   "execution_count": 635,
   "metadata": {},
   "outputs": [
    {
     "name": "stderr",
     "output_type": "stream",
     "text": [
      "C:\\Users\\Asus\\AppData\\Local\\Temp\\ipykernel_12296\\836367235.py:2: SettingWithCopyWarning: \n",
      "A value is trying to be set on a copy of a slice from a DataFrame.\n",
      "Try using .loc[row_indexer,col_indexer] = value instead\n",
      "\n",
      "See the caveats in the documentation: https://pandas.pydata.org/pandas-docs/stable/user_guide/indexing.html#returning-a-view-versus-a-copy\n",
      "  class_10['shahr_e_sodor_shenasnameh']=cities_10.values\n"
     ]
    }
   ],
   "source": [
    "cities_10=pd.DataFrame ( cities_10 , columns=['cities_10'])\n",
    "class_10['shahr_e_sodor_shenasnameh']=cities_10.values\n"
   ]
  }
 ],
 "metadata": {
  "kernelspec": {
   "display_name": "Python 3 (ipykernel)",
   "language": "python",
   "name": "python3"
  },
  "language_info": {
   "codemirror_mode": {
    "name": "ipython",
    "version": 3
   },
   "file_extension": ".py",
   "mimetype": "text/x-python",
   "name": "python",
   "nbconvert_exporter": "python",
   "pygments_lexer": "ipython3",
   "version": "3.9.12"
  },
  "vscode": {
   "interpreter": {
    "hash": "52d90d3cc821dd0beedd6e719dbdecc722c226b9d90ed1b663c34e1877f1142e"
   }
  }
 },
 "nbformat": 4,
 "nbformat_minor": 2
}
