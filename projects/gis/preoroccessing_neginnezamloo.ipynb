{
 "cells": [
  {
   "cell_type": "code",
   "execution_count": 1,
   "metadata": {},
   "outputs": [],
   "source": [
    "#Importing libraries\n",
    "import pandas as pd\n",
    "import numpy as np"
   ]
  },
  {
   "cell_type": "code",
   "execution_count": 2,
   "metadata": {},
   "outputs": [],
   "source": [
    "#raw data\n",
    "raw=pd.read_excel(r'C:\\Users\\Asus\\Desktop\\raw_data.xlsx') \n",
    "# raw.info()"
   ]
  },
  {
   "cell_type": "code",
   "execution_count": 5,
   "metadata": {},
   "outputs": [
    {
     "data": {
      "text/html": [
       "<div>\n",
       "<style scoped>\n",
       "    .dataframe tbody tr th:only-of-type {\n",
       "        vertical-align: middle;\n",
       "    }\n",
       "\n",
       "    .dataframe tbody tr th {\n",
       "        vertical-align: top;\n",
       "    }\n",
       "\n",
       "    .dataframe thead th {\n",
       "        text-align: right;\n",
       "    }\n",
       "</style>\n",
       "<table border=\"1\" class=\"dataframe\">\n",
       "  <thead>\n",
       "    <tr style=\"text-align: right;\">\n",
       "      <th></th>\n",
       "      <th>seh_ragham_avl</th>\n",
       "      <th>shahr_e_sodor_codemeli</th>\n",
       "    </tr>\n",
       "  </thead>\n",
       "  <tbody>\n",
       "    <tr>\n",
       "      <th>0</th>\n",
       "      <td>149</td>\n",
       "      <td>اهر</td>\n",
       "    </tr>\n",
       "    <tr>\n",
       "      <th>1</th>\n",
       "      <td>169</td>\n",
       "      <td>آذرشهر</td>\n",
       "    </tr>\n",
       "    <tr>\n",
       "      <th>2</th>\n",
       "      <td>170</td>\n",
       "      <td>اسکو</td>\n",
       "    </tr>\n",
       "    <tr>\n",
       "      <th>3</th>\n",
       "      <td>149</td>\n",
       "      <td>اهر</td>\n",
       "    </tr>\n",
       "    <tr>\n",
       "      <th>4</th>\n",
       "      <td>171</td>\n",
       "      <td>بستان آباد</td>\n",
       "    </tr>\n",
       "    <tr>\n",
       "      <th>...</th>\n",
       "      <td>...</td>\n",
       "      <td>...</td>\n",
       "    </tr>\n",
       "    <tr>\n",
       "      <th>603</th>\n",
       "      <td>158</td>\n",
       "      <td>مرند</td>\n",
       "    </tr>\n",
       "    <tr>\n",
       "      <th>604</th>\n",
       "      <td>615</td>\n",
       "      <td>ابهر و خرمدره</td>\n",
       "    </tr>\n",
       "    <tr>\n",
       "      <th>605</th>\n",
       "      <td>152</td>\n",
       "      <td>میانه</td>\n",
       "    </tr>\n",
       "    <tr>\n",
       "      <th>606</th>\n",
       "      <td>153</td>\n",
       "      <td>میانه</td>\n",
       "    </tr>\n",
       "    <tr>\n",
       "      <th>607</th>\n",
       "      <td>999</td>\n",
       "      <td>کد ملی غلط</td>\n",
       "    </tr>\n",
       "  </tbody>\n",
       "</table>\n",
       "<p>608 rows × 2 columns</p>\n",
       "</div>"
      ],
      "text/plain": [
       "    seh_ragham_avl shahr_e_sodor_codemeli\n",
       "0              149                    اهر\n",
       "1              169                 آذرشهر\n",
       "2              170                   اسکو\n",
       "3              149                    اهر\n",
       "4              171             بستان آباد\n",
       "..             ...                    ...\n",
       "603            158                   مرند\n",
       "604            615          ابهر و خرمدره\n",
       "605            152                  میانه\n",
       "606            153                  میانه\n",
       "607            999             کد ملی غلط\n",
       "\n",
       "[608 rows x 2 columns]"
      ]
     },
     "execution_count": 5,
     "metadata": {},
     "output_type": "execute_result"
    }
   ],
   "source": [
    "#importing_codemeli_city_xlsx\n",
    "codemeli_city=pd.read_excel(r'C:\\Users\\Asus\\Desktop\\Book1.xlsx') \n",
    "\n",
    "codemeli_city['seh_ragham_avl']= codemeli_city['seh_ragham_avl'].astype(str)\n",
    "\n",
    "# codemeli_city.info()\n",
    "codemeli_city"
   ]
  },
  {
   "cell_type": "code",
   "execution_count": 205,
   "metadata": {},
   "outputs": [
    {
     "name": "stdout",
     "output_type": "stream",
     "text": [
      "<class 'pandas.core.frame.DataFrame'>\n",
      "RangeIndex: 163 entries, 0 to 162\n",
      "Data columns (total 6 columns):\n",
      " #   Column        Non-Null Count  Dtype  \n",
      "---  ------        --------------  -----  \n",
      " 0   pc            163 non-null    int64  \n",
      " 1   city          150 non-null    object \n",
      " 2   latitude(φ)   147 non-null    object \n",
      " 3   longitude(λ)  147 non-null    object \n",
      " 4   φ(d)          147 non-null    float64\n",
      " 5    λ(d)         147 non-null    float64\n",
      "dtypes: float64(2), int64(1), object(3)\n",
      "memory usage: 7.8+ KB\n"
     ]
    }
   ],
   "source": [
    "#importing pc\n",
    "pc_df=pd.read_excel(r'C:\\Users\\Asus\\Desktop\\pc.xlsx') \n",
    "pc_df.drop(columns=[ 'Unnamed: 0'] , inplace=True)\n",
    "pc_df.info()\n"
   ]
  },
  {
   "cell_type": "code",
   "execution_count": 207,
   "metadata": {},
   "outputs": [
    {
     "data": {
      "text/html": [
       "<div>\n",
       "<style scoped>\n",
       "    .dataframe tbody tr th:only-of-type {\n",
       "        vertical-align: middle;\n",
       "    }\n",
       "\n",
       "    .dataframe tbody tr th {\n",
       "        vertical-align: top;\n",
       "    }\n",
       "\n",
       "    .dataframe thead th {\n",
       "        text-align: right;\n",
       "    }\n",
       "</style>\n",
       "<table border=\"1\" class=\"dataframe\">\n",
       "  <thead>\n",
       "    <tr style=\"text-align: right;\">\n",
       "      <th></th>\n",
       "      <th>pc</th>\n",
       "      <th>city</th>\n",
       "      <th>latitude(φ)</th>\n",
       "      <th>longitude(λ)</th>\n",
       "      <th>φ(d)</th>\n",
       "      <th>λ(d)</th>\n",
       "    </tr>\n",
       "  </thead>\n",
       "  <tbody>\n",
       "    <tr>\n",
       "      <th>0</th>\n",
       "      <td>11111</td>\n",
       "      <td>NaN</td>\n",
       "      <td>NaN</td>\n",
       "      <td>NaN</td>\n",
       "      <td>NaN</td>\n",
       "      <td>NaN</td>\n",
       "    </tr>\n",
       "    <tr>\n",
       "      <th>1</th>\n",
       "      <td>31319</td>\n",
       "      <td>NaN</td>\n",
       "      <td>NaN</td>\n",
       "      <td>NaN</td>\n",
       "      <td>NaN</td>\n",
       "      <td>NaN</td>\n",
       "    </tr>\n",
       "    <tr>\n",
       "      <th>2</th>\n",
       "      <td>31956</td>\n",
       "      <td>NaN</td>\n",
       "      <td>NaN</td>\n",
       "      <td>NaN</td>\n",
       "      <td>NaN</td>\n",
       "      <td>NaN</td>\n",
       "    </tr>\n",
       "    <tr>\n",
       "      <th>3</th>\n",
       "      <td>43131</td>\n",
       "      <td>NaN</td>\n",
       "      <td>NaN</td>\n",
       "      <td>NaN</td>\n",
       "      <td>NaN</td>\n",
       "      <td>NaN</td>\n",
       "    </tr>\n",
       "    <tr>\n",
       "      <th>4</th>\n",
       "      <td>43141</td>\n",
       "      <td>NaN</td>\n",
       "      <td>NaN</td>\n",
       "      <td>NaN</td>\n",
       "      <td>NaN</td>\n",
       "      <td>NaN</td>\n",
       "    </tr>\n",
       "    <tr>\n",
       "      <th>...</th>\n",
       "      <td>...</td>\n",
       "      <td>...</td>\n",
       "      <td>...</td>\n",
       "      <td>...</td>\n",
       "      <td>...</td>\n",
       "      <td>...</td>\n",
       "    </tr>\n",
       "    <tr>\n",
       "      <th>158</th>\n",
       "      <td>34917</td>\n",
       "      <td>محمدیه</td>\n",
       "      <td>36° 13' 26.465\" N</td>\n",
       "      <td>50° 10' 57.313\" E</td>\n",
       "      <td>36.224018</td>\n",
       "      <td>50.182587</td>\n",
       "    </tr>\n",
       "    <tr>\n",
       "      <th>159</th>\n",
       "      <td>34918</td>\n",
       "      <td>محمدیه</td>\n",
       "      <td>36° 13' 26.465\" N</td>\n",
       "      <td>50° 10' 57.313\" E</td>\n",
       "      <td>36.224018</td>\n",
       "      <td>50.182587</td>\n",
       "    </tr>\n",
       "    <tr>\n",
       "      <th>160</th>\n",
       "      <td>34919</td>\n",
       "      <td>محمدیه</td>\n",
       "      <td>36° 13' 26.465\" N</td>\n",
       "      <td>50° 10' 57.313\" E</td>\n",
       "      <td>36.224018</td>\n",
       "      <td>50.182587</td>\n",
       "    </tr>\n",
       "    <tr>\n",
       "      <th>161</th>\n",
       "      <td>34931</td>\n",
       "      <td>معلم کلایه</td>\n",
       "      <td>36° 26' 50.197\" N</td>\n",
       "      <td>50° 28' 41.506\" E</td>\n",
       "      <td>36.447277</td>\n",
       "      <td>50.478195</td>\n",
       "    </tr>\n",
       "    <tr>\n",
       "      <th>162</th>\n",
       "      <td>89189</td>\n",
       "      <td>یزد</td>\n",
       "      <td>31° 53' 0.679\" N</td>\n",
       "      <td>54° 20' 51.864\" E</td>\n",
       "      <td>31.883522</td>\n",
       "      <td>54.347740</td>\n",
       "    </tr>\n",
       "  </tbody>\n",
       "</table>\n",
       "<p>163 rows × 6 columns</p>\n",
       "</div>"
      ],
      "text/plain": [
       "        pc        city        latitude(φ)       longitude(λ)       φ(d)  \\\n",
       "0    11111         NaN                NaN                NaN        NaN   \n",
       "1    31319         NaN                NaN                NaN        NaN   \n",
       "2    31956         NaN                NaN                NaN        NaN   \n",
       "3    43131         NaN                NaN                NaN        NaN   \n",
       "4    43141         NaN                NaN                NaN        NaN   \n",
       "..     ...         ...                ...                ...        ...   \n",
       "158  34917      محمدیه  36° 13' 26.465\" N  50° 10' 57.313\" E  36.224018   \n",
       "159  34918      محمدیه  36° 13' 26.465\" N  50° 10' 57.313\" E  36.224018   \n",
       "160  34919      محمدیه  36° 13' 26.465\" N  50° 10' 57.313\" E  36.224018   \n",
       "161  34931  معلم کلایه  36° 26' 50.197\" N  50° 28' 41.506\" E  36.447277   \n",
       "162  89189         یزد   31° 53' 0.679\" N  54° 20' 51.864\" E  31.883522   \n",
       "\n",
       "          λ(d)  \n",
       "0          NaN  \n",
       "1          NaN  \n",
       "2          NaN  \n",
       "3          NaN  \n",
       "4          NaN  \n",
       "..         ...  \n",
       "158  50.182587  \n",
       "159  50.182587  \n",
       "160  50.182587  \n",
       "161  50.478195  \n",
       "162  54.347740  \n",
       "\n",
       "[163 rows x 6 columns]"
      ]
     },
     "execution_count": 207,
     "metadata": {},
     "output_type": "execute_result"
    }
   ],
   "source": [
    "pc_df"
   ]
  },
  {
   "cell_type": "code",
   "execution_count": 6,
   "metadata": {
    "collapsed": true
   },
   "outputs": [
    {
     "name": "stdout",
     "output_type": "stream",
     "text": [
      "نام\n",
      "نام خانوادگی\n",
      "کد ملی\n",
      "موبایل\n",
      "مرحله ثبت نام\n",
      "شهر مورد تقاضا\n",
      "شهر محل سکونت\n",
      "آدرس متقاضی\n",
      "کدپستی\n",
      "وضعیت بارگذاری مدارک\n",
      "وضعیت سرپرستی\n",
      "شغل\n",
      "جنسیت\n",
      "میزان تحصیلات\n",
      "نام پدر\n",
      "شماره شناسنامه\n",
      "تاریخ تولد\n",
      "تعداد فرزندان\n",
      "بعد خانوار\n",
      "کد شعبه\n",
      "نام شعبه\n",
      "شماره حساب\n"
     ]
    }
   ],
   "source": [
    "# raw column names\n",
    "for col in raw.columns:\n",
    "    print(col)"
   ]
  },
  {
   "cell_type": "code",
   "execution_count": 7,
   "metadata": {},
   "outputs": [],
   "source": [
    "#useful features:\n",
    "\n",
    "# نام\n",
    "# نام خانوادگی\n",
    "# کد ملی\n",
    "# شماره شناسنامه\n",
    "# موبایل\n",
    "# شهر مورد تقاضا\n",
    "# شهر محل سکونت\n",
    "# آدرس متقاضی\n",
    "# کدپستی\n",
    "# جنسیت\n",
    "# نام پدر\n",
    "# تاریخ تولد\n",
    "# شماره حساب"
   ]
  },
  {
   "cell_type": "code",
   "execution_count": 3,
   "metadata": {},
   "outputs": [],
   "source": [
    "#renaming columns to english\n",
    "raw.rename(columns={'نام':\"first_name\"  ,  \"نام خانوادگی\":\"last_name\"  ,  \"کد ملی\":\"national_id\"  ,\"شماره شناسنامه\":\"serial_number\", \n",
    "                    \"کدپستی\": \"postal_code\" ,\n",
    "                    \"شهر مورد تقاضا\"  : \"city_requested \" , \"شهر محل سکونت\" :\"city_residance\",\"موبایل\":\"mobile_number\",\n",
    "                    \"آدرس متقاضی\": \"address\" , \n",
    "                          \"جنسیت\":\"gender\",\"نام پدر\":\"Father's name\",\"تاریخ تولد\":\"Birth date\",\n",
    "                    \"شماره حساب\":\"Bank acc number\"} , inplace=True)\n",
    "\n",
    "raw.drop(columns=['وضعیت بارگذاری مدارک',\"وضعیت سرپرستی\",\"شغل\",\"میزان تحصیلات\",\"تعداد فرزندان\",\"بعد خانوار\" ,\"کد شعبه\",\"نام شعبه\",\"مرحله ثبت نام\"],inplace=True)\n"
   ]
  },
  {
   "cell_type": "code",
   "execution_count": 799,
   "metadata": {},
   "outputs": [],
   "source": [
    "# raw['national_id_str'] = raw['national_id'].astype(str)\n",
    "# raw['postal_code_str'] = raw['postal_code'].astype(str)"
   ]
  },
  {
   "cell_type": "markdown",
   "metadata": {},
   "source": [
    "# \"کد ملی\"  ;  \"national_id\""
   ]
  },
  {
   "cell_type": "code",
   "execution_count": 4,
   "metadata": {},
   "outputs": [],
   "source": [
    "raw['national_id_str'] = raw['national_id'].astype(str)"
   ]
  },
  {
   "cell_type": "code",
   "execution_count": 5,
   "metadata": {},
   "outputs": [],
   "source": [
    "# digits counting\n",
    "\n",
    "def count_digits(string):\n",
    "    \n",
    "    return sum(item.isdigit() for item in string)\n",
    "\n",
    "raw['digits_counting_national_id'] = (raw['national_id_str']).apply(count_digits)"
   ]
  },
  {
   "cell_type": "code",
   "execution_count": 6,
   "metadata": {},
   "outputs": [
    {
     "data": {
      "text/plain": [
       "digits_counting_national_id\n",
       "10                             6581\n",
       "8                               188\n",
       "9                               130\n",
       "dtype: int64"
      ]
     },
     "execution_count": 6,
     "metadata": {},
     "output_type": "execute_result"
    }
   ],
   "source": [
    "raw[['digits_counting_national_id']].value_counts() "
   ]
  },
  {
   "cell_type": "code",
   "execution_count": 7,
   "metadata": {},
   "outputs": [],
   "source": [
    "#afrad ba codemelii 10 raghami \n",
    "\n",
    "class_10=raw[raw.digits_counting_national_id == 10]\n",
    "\n",
    "#afrad ba codemelii 9 raghami \n",
    "class_9=raw[raw.digits_counting_national_id == 9]\n",
    "\n",
    "#afrad ba codemelii 8 raghami \n",
    "\n",
    "class_8=raw[raw.digits_counting_national_id == 8]"
   ]
  },
  {
   "cell_type": "markdown",
   "metadata": {},
   "source": [
    "# class10"
   ]
  },
  {
   "cell_type": "markdown",
   "metadata": {},
   "source": [
    "check validationn of code e melii in class_10"
   ]
  },
  {
   "cell_type": "code",
   "execution_count": 10,
   "metadata": {
    "collapsed": true
   },
   "outputs": [],
   "source": [
    "# class_10[\"national_id_str\"].mask(class_10[\"national_id_str\"] == '1111111111', '9999999999', inplace=True)\n",
    "# class_10[\"national_id_str\"].mask(class_10[\"national_id_str\"] == '2222222222', '9999999999', inplace=True)\n",
    "# class_10[\"national_id_str\"].mask(class_10[\"national_id_str\"] == '3333333333', '9999999999', inplace=True)\n",
    "# class_10[\"national_id_str\"].mask(class_10[\"national_id_str\"] == '4444444444', '9999999999', inplace=True)\n",
    "# class_10[\"national_id_str\"].mask(class_10[\"national_id_str\"] == '5555555555', '9999999999', inplace=True)\n",
    "# class_10[\"national_id_str\"].mask(class_10[\"national_id_str\"] == '6666666666', '9999999999', inplace=True)\n",
    "# class_10[\"national_id_str\"].mask(class_10[\"national_id_str\"] == '7777777777', '9999999999', inplace=True)\n",
    "# class_10[\"national_id_str\"].mask(class_10[\"national_id_str\"] == '8888888888', '9999999999', inplace=True)\n",
    "# class_10[\"national_id_str\"].mask(class_10[\"national_id_str\"] == '0000000000', '9999999999', inplace=True)"
   ]
  },
  {
   "cell_type": "code",
   "execution_count": 14,
   "metadata": {
    "collapsed": true
   },
   "outputs": [
    {
     "data": {
      "text/html": [
       "<div>\n",
       "<style scoped>\n",
       "    .dataframe tbody tr th:only-of-type {\n",
       "        vertical-align: middle;\n",
       "    }\n",
       "\n",
       "    .dataframe tbody tr th {\n",
       "        vertical-align: top;\n",
       "    }\n",
       "\n",
       "    .dataframe thead th {\n",
       "        text-align: right;\n",
       "    }\n",
       "</style>\n",
       "<table border=\"1\" class=\"dataframe\">\n",
       "  <thead>\n",
       "    <tr style=\"text-align: right;\">\n",
       "      <th></th>\n",
       "      <th>first_name</th>\n",
       "      <th>last_name</th>\n",
       "      <th>national_id</th>\n",
       "      <th>mobile_number</th>\n",
       "      <th>city_requested</th>\n",
       "      <th>city_residance</th>\n",
       "      <th>address</th>\n",
       "      <th>postal_code</th>\n",
       "      <th>gender</th>\n",
       "      <th>Father's name</th>\n",
       "      <th>serial_number</th>\n",
       "      <th>Birth date</th>\n",
       "      <th>Bank acc number</th>\n",
       "      <th>national_id_str</th>\n",
       "      <th>digits_counting_national_id</th>\n",
       "    </tr>\n",
       "  </thead>\n",
       "  <tbody>\n",
       "  </tbody>\n",
       "</table>\n",
       "</div>"
      ],
      "text/plain": [
       "Empty DataFrame\n",
       "Columns: [first_name, last_name, national_id, mobile_number, city_requested , city_residance, address, postal_code, gender, Father's name, serial_number, Birth date, Bank acc number, national_id_str, digits_counting_national_id]\n",
       "Index: []"
      ]
     },
     "execution_count": 14,
     "metadata": {},
     "output_type": "execute_result"
    }
   ],
   "source": [
    "class_10[class_10.national_id_str == '']\n",
    "#returns 0 for '0000000000','1111111111','2222222222','3333333333','4444444444','5555555555','7777777777','6666666666',8888888888', '9999999999'\n"
   ]
  },
  {
   "cell_type": "code",
   "execution_count": 13,
   "metadata": {
    "collapsed": true
   },
   "outputs": [],
   "source": [
    "#also using below loop is ok \n",
    "\n",
    "\n",
    "\n",
    "# invalid_list=['0000000000','1111111111','2222222222','3333333333','4444444444','5555555555','6666666666','7777777777','8888888888','9999999999']\n",
    "\n",
    "\n",
    "# for i in class_10['national_id_str']:\n",
    "    \n",
    "#     if i in invalid_list:\n",
    "            \n",
    "#         print(i)\n",
    "#     else:\n",
    "#         print(\"ok\")\n"
   ]
  },
  {
   "cell_type": "markdown",
   "metadata": {},
   "source": [
    "based on the result of the last 3 cells none of the  class_10.national_id_str values are equal to the invalid_list values."
   ]
  },
  {
   "cell_type": "markdown",
   "metadata": {},
   "source": [
    "https://exceliran.com/melli-code-checker-in-excel/  : تشخیص صحت کد ملی"
   ]
  },
  {
   "cell_type": "code",
   "execution_count": 15,
   "metadata": {},
   "outputs": [
    {
     "name": "stderr",
     "output_type": "stream",
     "text": [
      "C:\\Users\\Asus\\AppData\\Local\\Temp\\ipykernel_16788\\3235855644.py:35: SettingWithCopyWarning: \n",
      "A value is trying to be set on a copy of a slice from a DataFrame.\n",
      "Try using .loc[row_indexer,col_indexer] = value instead\n",
      "\n",
      "See the caveats in the documentation: https://pandas.pydata.org/pandas-docs/stable/user_guide/indexing.html#returning-a-view-versus-a-copy\n",
      "  class_10['seh_ragham_aval']=mylist_class10.values\n"
     ]
    }
   ],
   "source": [
    "mylist_class10=[]\n",
    "\n",
    "for codemeli in (class_10['national_id_str']):\n",
    "    \n",
    "    Sum=0\n",
    "    \n",
    "    for j in range(9):\n",
    "        \n",
    "        Sum+= int(codemeli[j])*(10 - j) #sum number code meli 1-9\n",
    "        \n",
    "    C=(Sum%11)\n",
    "    \n",
    "    A=int(codemeli[9]) #ragham e control\n",
    "    \n",
    "    B=11-C   \n",
    "    \n",
    "    if ((C<2 and A==0 )) or (C<2 and A==1):\n",
    "        \n",
    "        mylist_class10.append(codemeli[:3])\n",
    "        \n",
    "    elif (C>=2) and (B==A):\n",
    "        \n",
    "        mylist_class10.append(codemeli[:3])\n",
    "    else:\n",
    "        mylisst_class10.append(\"999\")\n",
    "        \n",
    "        \n",
    "    \n",
    "mylist_class10=pd.DataFrame(mylist_class10,columns =['mylist_class10'])\n",
    "\n",
    "# mylisst_class10.shape=(6581, 1)\n",
    "#class_10[['national_id_str']].shape=(6581, 1)\n",
    "\n",
    "\n",
    "class_10['seh_ragham_aval']=mylist_class10.values\n",
    "# class_10"
   ]
  },
  {
   "cell_type": "code",
   "execution_count": 17,
   "metadata": {},
   "outputs": [],
   "source": [
    "#converting codemeli_city to dict\n",
    "key, value = list(codemeli_city['seh_ragham_avl']), list(codemeli_city['shahr_e_sodor_codemeli'])\n",
    "codemeli_city = dict(zip(key, value))            "
   ]
  },
  {
   "cell_type": "code",
   "execution_count": 18,
   "metadata": {},
   "outputs": [],
   "source": [
    "codes = list(class_10['seh_ragham_aval'])\n",
    "\n",
    "cities_10 = []\n",
    "\n",
    "for i in codes:\n",
    "    \n",
    "    if i in key:\n",
    "        \n",
    "        cities_10.append(codemeli_city[i])\n",
    "    else:\n",
    "        cities_10.append(\"null\")"
   ]
  },
  {
   "cell_type": "code",
   "execution_count": 19,
   "metadata": {
    "collapsed": true
   },
   "outputs": [
    {
     "name": "stderr",
     "output_type": "stream",
     "text": [
      "C:\\Users\\Asus\\AppData\\Local\\Temp\\ipykernel_16788\\3130322988.py:2: SettingWithCopyWarning: \n",
      "A value is trying to be set on a copy of a slice from a DataFrame.\n",
      "Try using .loc[row_indexer,col_indexer] = value instead\n",
      "\n",
      "See the caveats in the documentation: https://pandas.pydata.org/pandas-docs/stable/user_guide/indexing.html#returning-a-view-versus-a-copy\n",
      "  class_10['shahr_e_sodor_shenasnameh']=cities_10.values\n"
     ]
    }
   ],
   "source": [
    "cities_10=pd.DataFrame ( cities_10 , columns=['cities_10'])\n",
    "class_10['shahr_e_sodor_shenasnameh']=cities_10.values"
   ]
  },
  {
   "cell_type": "code",
   "execution_count": 21,
   "metadata": {},
   "outputs": [],
   "source": [
    "# class_10"
   ]
  },
  {
   "cell_type": "markdown",
   "metadata": {},
   "source": [
    "# check validation of postal_code in class_10"
   ]
  },
  {
   "cell_type": "markdown",
   "metadata": {},
   "source": [
    "الگوريتم صحت سنجي عددي كد پستي:\n",
    "\n",
    "- تعداد ارقام كد پستي 10 رقم مي باشد.\n",
    "\n",
    "- عدد صفر در كد پستي استفاده نشده است.\n",
    "\n",
    "- عدد 2 در كد پستي استفاده نشده است.\n",
    "\n",
    "- چهار رقم ابتدايي نمي تواند شبيه هم باشد.\n",
    "\n",
    "- رقم پنجم نمي تواند عدد 5 باشد.\n",
    "\n",
    "-تمامي ارقام نمي تواند شبيه هم باشد."
   ]
  },
  {
   "cell_type": "code",
   "execution_count": 22,
   "metadata": {},
   "outputs": [
    {
     "data": {
      "text/html": [
       "<div>\n",
       "<style scoped>\n",
       "    .dataframe tbody tr th:only-of-type {\n",
       "        vertical-align: middle;\n",
       "    }\n",
       "\n",
       "    .dataframe tbody tr th {\n",
       "        vertical-align: top;\n",
       "    }\n",
       "\n",
       "    .dataframe thead th {\n",
       "        text-align: right;\n",
       "    }\n",
       "</style>\n",
       "<table border=\"1\" class=\"dataframe\">\n",
       "  <thead>\n",
       "    <tr style=\"text-align: right;\">\n",
       "      <th></th>\n",
       "      <th>postal_code</th>\n",
       "    </tr>\n",
       "  </thead>\n",
       "  <tbody>\n",
       "    <tr>\n",
       "      <th>0</th>\n",
       "      <td>3454178378</td>\n",
       "    </tr>\n",
       "    <tr>\n",
       "      <th>1</th>\n",
       "      <td>3451738961</td>\n",
       "    </tr>\n",
       "    <tr>\n",
       "      <th>2</th>\n",
       "      <td>3451646436</td>\n",
       "    </tr>\n",
       "    <tr>\n",
       "      <th>3</th>\n",
       "      <td>3451737955</td>\n",
       "    </tr>\n",
       "    <tr>\n",
       "      <th>4</th>\n",
       "      <td>3451637311</td>\n",
       "    </tr>\n",
       "    <tr>\n",
       "      <th>...</th>\n",
       "      <td>...</td>\n",
       "    </tr>\n",
       "    <tr>\n",
       "      <th>6894</th>\n",
       "      <td>NaN</td>\n",
       "    </tr>\n",
       "    <tr>\n",
       "      <th>6895</th>\n",
       "      <td>3431164685</td>\n",
       "    </tr>\n",
       "    <tr>\n",
       "      <th>6896</th>\n",
       "      <td>3416664781</td>\n",
       "    </tr>\n",
       "    <tr>\n",
       "      <th>6897</th>\n",
       "      <td>3471679831</td>\n",
       "    </tr>\n",
       "    <tr>\n",
       "      <th>6898</th>\n",
       "      <td>3457114379</td>\n",
       "    </tr>\n",
       "  </tbody>\n",
       "</table>\n",
       "<p>6581 rows × 1 columns</p>\n",
       "</div>"
      ],
      "text/plain": [
       "     postal_code\n",
       "0     3454178378\n",
       "1     3451738961\n",
       "2     3451646436\n",
       "3     3451737955\n",
       "4     3451637311\n",
       "...          ...\n",
       "6894         NaN\n",
       "6895  3431164685\n",
       "6896  3416664781\n",
       "6897  3471679831\n",
       "6898  3457114379\n",
       "\n",
       "[6581 rows x 1 columns]"
      ]
     },
     "execution_count": 22,
     "metadata": {},
     "output_type": "execute_result"
    }
   ],
   "source": [
    "class_10[['postal_code']]"
   ]
  },
  {
   "cell_type": "code",
   "execution_count": 20,
   "metadata": {},
   "outputs": [
    {
     "name": "stdout",
     "output_type": "stream",
     "text": [
      "<class 'pandas.core.frame.DataFrame'>\n",
      "Int64Index: 6581 entries, 0 to 6898\n",
      "Data columns (total 1 columns):\n",
      " #   Column       Non-Null Count  Dtype \n",
      "---  ------       --------------  ----- \n",
      " 0   postal_code  5925 non-null   object\n",
      "dtypes: object(1)\n",
      "memory usage: 102.8+ KB\n"
     ]
    }
   ],
   "source": [
    "class_10[['postal_code']].info()\n"
   ]
  },
  {
   "cell_type": "code",
   "execution_count": 8,
   "metadata": {},
   "outputs": [
    {
     "name": "stderr",
     "output_type": "stream",
     "text": [
      "C:\\Users\\Asus\\AppData\\Local\\Temp\\ipykernel_16048\\2863504390.py:3: SettingWithCopyWarning: \n",
      "A value is trying to be set on a copy of a slice from a DataFrame.\n",
      "Try using .loc[row_indexer,col_indexer] = value instead\n",
      "\n",
      "See the caveats in the documentation: https://pandas.pydata.org/pandas-docs/stable/user_guide/indexing.html#returning-a-view-versus-a-copy\n",
      "  class_10[['postal_code']]=class_10[['postal_code']].fillna(1111111111)\n"
     ]
    },
    {
     "data": {
      "text/plain": [
       "postal_code    0\n",
       "dtype: int64"
      ]
     },
     "execution_count": 8,
     "metadata": {},
     "output_type": "execute_result"
    }
   ],
   "source": [
    "class_10[['postal_code']].isna().sum()  #returns 656\n",
    "#replacing nans with 1111111111\n",
    "class_10[['postal_code']]=class_10[['postal_code']].fillna(1111111111)\n",
    "class_10[['postal_code']].isna().sum()#returns 0"
   ]
  },
  {
   "cell_type": "code",
   "execution_count": 9,
   "metadata": {},
   "outputs": [
    {
     "data": {
      "text/plain": [
       "postal_code\n",
       "1111111111     774\n",
       "3414739866      37\n",
       "3481634816      28\n",
       "3451634516      21\n",
       "3419113131      20\n",
       "              ... \n",
       "3419935943       1\n",
       "3419935671       1\n",
       "3419935611       1\n",
       "3419935343       1\n",
       "3447112977       1\n",
       "Length: 5379, dtype: int64"
      ]
     },
     "execution_count": 9,
     "metadata": {},
     "output_type": "execute_result"
    }
   ],
   "source": [
    "class_10[['postal_code']].value_counts()"
   ]
  },
  {
   "cell_type": "markdown",
   "metadata": {},
   "source": [
    "# تعداد ارقام كد پستي 10 رقم مي باشد\n"
   ]
  },
  {
   "cell_type": "code",
   "execution_count": 10,
   "metadata": {},
   "outputs": [
    {
     "name": "stderr",
     "output_type": "stream",
     "text": [
      "C:\\Users\\Asus\\AppData\\Local\\Temp\\ipykernel_16048\\1516624701.py:1: SettingWithCopyWarning: \n",
      "A value is trying to be set on a copy of a slice from a DataFrame.\n",
      "Try using .loc[row_indexer,col_indexer] = value instead\n",
      "\n",
      "See the caveats in the documentation: https://pandas.pydata.org/pandas-docs/stable/user_guide/indexing.html#returning-a-view-versus-a-copy\n",
      "  class_10['digits_counting_postal_code'] = (class_10['postal_code'].astype(str)).apply(count_digits)\n"
     ]
    },
    {
     "data": {
      "text/plain": [
       "10    6562\n",
       "9       10\n",
       "8        3\n",
       "5        2\n",
       "0        2\n",
       "2        1\n",
       "6        1\n",
       "Name: digits_counting_postal_code, dtype: int64"
      ]
     },
     "execution_count": 10,
     "metadata": {},
     "output_type": "execute_result"
    }
   ],
   "source": [
    "class_10['digits_counting_postal_code'] = (class_10['postal_code'].astype(str)).apply(count_digits)\n",
    "class_10['digits_counting_postal_code'].value_counts()"
   ]
  },
  {
   "cell_type": "code",
   "execution_count": 43,
   "metadata": {
    "collapsed": true
   },
   "outputs": [],
   "source": [
    "# class_10[class_10.digits_counting_postal_code == 0]"
   ]
  },
  {
   "cell_type": "code",
   "execution_count": 44,
   "metadata": {
    "collapsed": true
   },
   "outputs": [],
   "source": [
    "# class_10[class_10.digits_counting_postal_code == 2]"
   ]
  },
  {
   "cell_type": "code",
   "execution_count": 45,
   "metadata": {
    "collapsed": true
   },
   "outputs": [],
   "source": [
    "# class_10[class_10.digits_counting_postal_code == 5]"
   ]
  },
  {
   "cell_type": "code",
   "execution_count": 46,
   "metadata": {
    "collapsed": true
   },
   "outputs": [],
   "source": [
    "# class_10[class_10.digits_counting_postal_code == 6]"
   ]
  },
  {
   "cell_type": "code",
   "execution_count": 47,
   "metadata": {
    "collapsed": true
   },
   "outputs": [],
   "source": [
    "# class_10[class_10.digits_counting_postal_code == 8]"
   ]
  },
  {
   "cell_type": "code",
   "execution_count": 48,
   "metadata": {
    "collapsed": true
   },
   "outputs": [],
   "source": [
    "# class_10[class_10.digits_counting_postal_code == 9]"
   ]
  },
  {
   "cell_type": "code",
   "execution_count": 11,
   "metadata": {},
   "outputs": [
    {
     "data": {
      "text/plain": [
       "mylist1   \n",
       "1111111111    793\n",
       "3414739866     37\n",
       "3481634816     28\n",
       "3451634516     21\n",
       "3419113131     20\n",
       "             ... \n",
       "3419938548      1\n",
       "3419938367      1\n",
       "3419938341      1\n",
       "3419938191      1\n",
       "3447118773      1\n",
       "Length: 5365, dtype: int64"
      ]
     },
     "execution_count": 11,
     "metadata": {},
     "output_type": "execute_result"
    }
   ],
   "source": [
    "mylist1=[]\n",
    "\n",
    "for i in class_10['postal_code'].astype(str):\n",
    "    \n",
    "    \n",
    "    if count_digits(i)==10:\n",
    "        \n",
    "            \n",
    "        mylist1.append(i)\n",
    "        \n",
    "    else:\n",
    "         mylist1.append('1111111111')\n",
    "            \n",
    "df_1= pd.DataFrame(mylist1 , columns=['mylist1']) #df_1.shape returns 6581 rows × 1 columns \n",
    "df_1.value_counts()  #returns 793 ta '1111111111' \n"
   ]
  },
  {
   "cell_type": "code",
   "execution_count": 12,
   "metadata": {},
   "outputs": [
    {
     "name": "stderr",
     "output_type": "stream",
     "text": [
      "C:\\Users\\Asus\\AppData\\Local\\Temp\\ipykernel_16048\\1952188133.py:3: SettingWithCopyWarning: \n",
      "A value is trying to be set on a copy of a slice from a DataFrame.\n",
      "Try using .loc[row_indexer,col_indexer] = value instead\n",
      "\n",
      "See the caveats in the documentation: https://pandas.pydata.org/pandas-docs/stable/user_guide/indexing.html#returning-a-view-versus-a-copy\n",
      "  class_10['postal_code']= df_1['mylist1'].values\n"
     ]
    }
   ],
   "source": [
    "# replacing class_10['postal_code'] with df_1\n",
    "\n",
    "class_10['postal_code']= df_1['mylist1'].values"
   ]
  },
  {
   "cell_type": "markdown",
   "metadata": {},
   "source": [
    "# - عدد صفر در كد پستي استفاده نشده است\n",
    "\n"
   ]
  },
  {
   "cell_type": "markdown",
   "metadata": {},
   "source": [
    "# - عدد 2 در كد پستي استفاده نشده است"
   ]
  },
  {
   "cell_type": "code",
   "execution_count": 13,
   "metadata": {},
   "outputs": [],
   "source": [
    "mylist2=[]\n",
    "\n",
    "for i in class_10['postal_code'].astype(str):\n",
    "    \n",
    "    if i.count('2') == 0  and i.count('0')==0:\n",
    "        \n",
    "        mylist2.append(i)\n",
    "        \n",
    "    elif i.count('2') != 0  or i.count('0')!=0:\n",
    "        \n",
    "        mylist2.append('1111111111')\n",
    "        \n",
    "        \n",
    "        \n",
    "df_2= pd.DataFrame(mylist2 , columns=['mylist2'])\n",
    "# df_2.value_counts() #returns 1227 ta '1111111111' "
   ]
  },
  {
   "cell_type": "code",
   "execution_count": 14,
   "metadata": {},
   "outputs": [
    {
     "name": "stderr",
     "output_type": "stream",
     "text": [
      "C:\\Users\\Asus\\AppData\\Local\\Temp\\ipykernel_16048\\643931272.py:3: SettingWithCopyWarning: \n",
      "A value is trying to be set on a copy of a slice from a DataFrame.\n",
      "Try using .loc[row_indexer,col_indexer] = value instead\n",
      "\n",
      "See the caveats in the documentation: https://pandas.pydata.org/pandas-docs/stable/user_guide/indexing.html#returning-a-view-versus-a-copy\n",
      "  class_10['postal_code']= df_2['mylist2'].values\n"
     ]
    }
   ],
   "source": [
    "# replacing class_10['postal_code'] (df_1) with df_2\n",
    "\n",
    "class_10['postal_code']= df_2['mylist2'].values"
   ]
  },
  {
   "cell_type": "markdown",
   "metadata": {},
   "source": [
    "# - چهار رقم ابتدايي نمي تواند شبيه هم باشد\n"
   ]
  },
  {
   "cell_type": "code",
   "execution_count": 15,
   "metadata": {},
   "outputs": [],
   "source": [
    "mylist3=[]\n",
    "\n",
    "for i in class_10['postal_code'].astype(str):\n",
    "    \n",
    "    if i[0:1 ]!= i[1:2]!= i[2:3]!= i[3:4] :\n",
    "        \n",
    "        mylist3.append(i)\n",
    "    else:\n",
    "        mylist3.append('1111111111')\n",
    "        \n",
    "df_3= pd.DataFrame(mylist3 , columns=['mylist3'])\n",
    "# df_3.value_counts() #returns 1872 ta '1111111111' \n"
   ]
  },
  {
   "cell_type": "code",
   "execution_count": 16,
   "metadata": {},
   "outputs": [
    {
     "name": "stderr",
     "output_type": "stream",
     "text": [
      "C:\\Users\\Asus\\AppData\\Local\\Temp\\ipykernel_16048\\2853278166.py:3: SettingWithCopyWarning: \n",
      "A value is trying to be set on a copy of a slice from a DataFrame.\n",
      "Try using .loc[row_indexer,col_indexer] = value instead\n",
      "\n",
      "See the caveats in the documentation: https://pandas.pydata.org/pandas-docs/stable/user_guide/indexing.html#returning-a-view-versus-a-copy\n",
      "  class_10['postal_code']= df_3['mylist3'].values\n"
     ]
    }
   ],
   "source": [
    "# replacing class_10['postal_code'] (df_2) with df_3\n",
    "\n",
    "class_10['postal_code']= df_3['mylist3'].values"
   ]
  },
  {
   "cell_type": "markdown",
   "metadata": {},
   "source": [
    "# - رقم پنجم نمي تواند عدد 5 باشد\n"
   ]
  },
  {
   "cell_type": "code",
   "execution_count": 18,
   "metadata": {},
   "outputs": [
    {
     "data": {
      "text/plain": [
       "mylist4   \n",
       "1111111111    1872\n",
       "3414739866      37\n",
       "3481634816      28\n",
       "3451634516      21\n",
       "3419113131      20\n",
       "              ... \n",
       "3419348539       1\n",
       "3419378638       1\n",
       "3419614418       1\n",
       "3419614748       1\n",
       "9861437513       1\n",
       "Length: 4368, dtype: int64"
      ]
     },
     "execution_count": 18,
     "metadata": {},
     "output_type": "execute_result"
    }
   ],
   "source": [
    "mylist4=[]\n",
    "\n",
    "for i in class_10['postal_code'].astype(str):\n",
    "    \n",
    "    if i[4:5]!='5':\n",
    "        \n",
    "        mylist4.append(i)\n",
    "    else:\n",
    "        mylist4.append('1111111111')\n",
    "        \n",
    "df_4= pd.DataFrame(mylist4 , columns=['mylist4'])\n",
    "df_4.value_counts() #returns 1872 ta '1111111111' \n"
   ]
  },
  {
   "cell_type": "code",
   "execution_count": 19,
   "metadata": {},
   "outputs": [
    {
     "name": "stderr",
     "output_type": "stream",
     "text": [
      "C:\\Users\\Asus\\AppData\\Local\\Temp\\ipykernel_16048\\3745188511.py:3: SettingWithCopyWarning: \n",
      "A value is trying to be set on a copy of a slice from a DataFrame.\n",
      "Try using .loc[row_indexer,col_indexer] = value instead\n",
      "\n",
      "See the caveats in the documentation: https://pandas.pydata.org/pandas-docs/stable/user_guide/indexing.html#returning-a-view-versus-a-copy\n",
      "  class_10['postal_code']= df_4['mylist4'].values\n"
     ]
    }
   ],
   "source": [
    "# replacing class_10['postal_code'] (df_3) with df_4\n",
    "\n",
    "class_10['postal_code']= df_4['mylist4'].values"
   ]
  },
  {
   "cell_type": "markdown",
   "metadata": {},
   "source": [
    "# -تمامي ارقام نمي تواند شبيه هم باشد"
   ]
  },
  {
   "cell_type": "code",
   "execution_count": 56,
   "metadata": {},
   "outputs": [],
   "source": [
    "# class_10[class_10.postal_code == \"1111111111\"] #returns 1872  rows\n",
    "#for \"6666666666\",\"7777777777\",\"8888888888\",\"4444444444\",\"5555555555\",\"0000000000\",\"2222222222\" ,\"3333333333\",'9999999999'\n",
    "                     #returns 0 row"
   ]
  },
  {
   "cell_type": "code",
   "execution_count": 20,
   "metadata": {},
   "outputs": [
    {
     "data": {
      "text/plain": [
       "mylist5   \n",
       "1111111111    1872\n",
       "3414739866      37\n",
       "3481634816      28\n",
       "3451634516      21\n",
       "3419113131      20\n",
       "              ... \n",
       "3419348539       1\n",
       "3419378638       1\n",
       "3419614418       1\n",
       "3419614748       1\n",
       "9861437513       1\n",
       "Length: 4368, dtype: int64"
      ]
     },
     "execution_count": 20,
     "metadata": {},
     "output_type": "execute_result"
    }
   ],
   "source": [
    "mylist5=[]\n",
    "\n",
    "invalid_list=[\"0000000000\",\"1111111111\",\"2222222222\",\"3333333333\",\"4444444444\",\"5555555555\",\"6666666666\",\"7777777777\"\n",
    "              ,\"8888888888\",\"9999999999\"]\n",
    "\n",
    "\n",
    "\n",
    "for i in class_10['postal_code'].astype(str):\n",
    "    \n",
    "    \n",
    "    if i in invalid_list:\n",
    "        \n",
    "            \n",
    "        mylist5.append(1111111111)\n",
    "        \n",
    "    else:\n",
    "         mylist5.append(i)\n",
    "            \n",
    "df_5= pd.DataFrame(mylist5 , columns=['mylist5'])\n",
    "\n",
    "df_5.value_counts() #returns 1872 ta '1111111111' "
   ]
  },
  {
   "cell_type": "code",
   "execution_count": 21,
   "metadata": {
    "collapsed": true
   },
   "outputs": [
    {
     "name": "stderr",
     "output_type": "stream",
     "text": [
      "C:\\Users\\Asus\\AppData\\Local\\Temp\\ipykernel_16048\\168830366.py:3: SettingWithCopyWarning: \n",
      "A value is trying to be set on a copy of a slice from a DataFrame.\n",
      "Try using .loc[row_indexer,col_indexer] = value instead\n",
      "\n",
      "See the caveats in the documentation: https://pandas.pydata.org/pandas-docs/stable/user_guide/indexing.html#returning-a-view-versus-a-copy\n",
      "  class_10['postal_code']= df_5['mylist5'].values\n"
     ]
    }
   ],
   "source": [
    "# replacing class_10['postal_code'] (df_4) with df_5  , it is not necessary but still i'm doing it lol:))\n",
    "\n",
    "class_10['postal_code']= df_5['mylist5'].values"
   ]
  },
  {
   "cell_type": "code",
   "execution_count": 201,
   "metadata": {},
   "outputs": [
    {
     "name": "stderr",
     "output_type": "stream",
     "text": [
      "C:\\Users\\Asus\\AppData\\Local\\Temp\\ipykernel_16048\\3072807357.py:5: SettingWithCopyWarning: \n",
      "A value is trying to be set on a copy of a slice from a DataFrame.\n",
      "Try using .loc[row_indexer,col_indexer] = value instead\n",
      "\n",
      "See the caveats in the documentation: https://pandas.pydata.org/pandas-docs/stable/user_guide/indexing.html#returning-a-view-versus-a-copy\n",
      "  class_10['panj_ragham_aval_postal_code']=pc.values\n"
     ]
    }
   ],
   "source": [
    "pc=[]\n",
    "for postal_code in class_10['postal_code'].astype(str):\n",
    "    pc.append(postal_code[:5])\n",
    "pc=pd.DataFrame(pc,columns=['pc'])\n",
    "class_10['panj_ragham_aval_postal_code']=pc.values"
   ]
  },
  {
   "cell_type": "code",
   "execution_count": 222,
   "metadata": {},
   "outputs": [],
   "source": [
    "#converting codemeli_city to dict\n",
    "keyy, valuee = list(pc_df['pc']), list(pc_df['city'])\n",
    "dict2 = dict(zip(keyy, valuee))"
   ]
  },
  {
   "cell_type": "code",
   "execution_count": 225,
   "metadata": {},
   "outputs": [],
   "source": [
    "code2 = list(class_10['panj_ragham_aval_postal_code'].astype(int))\n",
    "\n",
    "city_2 = []\n",
    "\n",
    "for i in code2:\n",
    "    \n",
    "    if i in keyy:\n",
    "        \n",
    "        city_2.append(dict2[i])\n",
    "    else:\n",
    "        city_2.append(\"null\")\n",
    "\n"
   ]
  },
  {
   "cell_type": "code",
   "execution_count": 230,
   "metadata": {},
   "outputs": [
    {
     "name": "stderr",
     "output_type": "stream",
     "text": [
      "C:\\Users\\Asus\\AppData\\Local\\Temp\\ipykernel_16048\\1124214881.py:1: SettingWithCopyWarning: \n",
      "A value is trying to be set on a copy of a slice from a DataFrame.\n",
      "Try using .loc[row_indexer,col_indexer] = value instead\n",
      "\n",
      "See the caveats in the documentation: https://pandas.pydata.org/pandas-docs/stable/user_guide/indexing.html#returning-a-view-versus-a-copy\n",
      "  class_10['shahr_e_code_posti']=pd.DataFrame(city_2).values\n"
     ]
    }
   ],
   "source": [
    "class_10['shahr_e_code_posti']=pd.DataFrame(city_2).values"
   ]
  },
  {
   "cell_type": "code",
   "execution_count": 233,
   "metadata": {},
   "outputs": [
    {
     "data": {
      "text/html": [
       "<div>\n",
       "<style scoped>\n",
       "    .dataframe tbody tr th:only-of-type {\n",
       "        vertical-align: middle;\n",
       "    }\n",
       "\n",
       "    .dataframe tbody tr th {\n",
       "        vertical-align: top;\n",
       "    }\n",
       "\n",
       "    .dataframe thead th {\n",
       "        text-align: right;\n",
       "    }\n",
       "</style>\n",
       "<table border=\"1\" class=\"dataframe\">\n",
       "  <thead>\n",
       "    <tr style=\"text-align: right;\">\n",
       "      <th></th>\n",
       "      <th>first_name</th>\n",
       "      <th>last_name</th>\n",
       "      <th>city_residance</th>\n",
       "      <th>postal_code</th>\n",
       "      <th>digits_counting_postal_code</th>\n",
       "      <th>shahr_e_code_posti</th>\n",
       "    </tr>\n",
       "  </thead>\n",
       "  <tbody>\n",
       "    <tr>\n",
       "      <th>0</th>\n",
       "      <td>حسن</td>\n",
       "      <td>گروسی</td>\n",
       "      <td>بوئین زهرا</td>\n",
       "      <td>3454178378</td>\n",
       "      <td>10</td>\n",
       "      <td>بوئین زهرا</td>\n",
       "    </tr>\n",
       "    <tr>\n",
       "      <th>1</th>\n",
       "      <td>مرتضی</td>\n",
       "      <td>حاجی حسینی</td>\n",
       "      <td>بوئین زهرا</td>\n",
       "      <td>3451738961</td>\n",
       "      <td>10</td>\n",
       "      <td>بوئین زهرا</td>\n",
       "    </tr>\n",
       "    <tr>\n",
       "      <th>2</th>\n",
       "      <td>رحمان</td>\n",
       "      <td>رفیعی</td>\n",
       "      <td>بوئین زهرا</td>\n",
       "      <td>3451646436</td>\n",
       "      <td>10</td>\n",
       "      <td>بوئین زهرا</td>\n",
       "    </tr>\n",
       "    <tr>\n",
       "      <th>3</th>\n",
       "      <td>ابوالفضل</td>\n",
       "      <td>احمدی</td>\n",
       "      <td>بوئین زهرا</td>\n",
       "      <td>3451737955</td>\n",
       "      <td>10</td>\n",
       "      <td>بوئین زهرا</td>\n",
       "    </tr>\n",
       "    <tr>\n",
       "      <th>4</th>\n",
       "      <td>جعفر</td>\n",
       "      <td>برزگراحمدی</td>\n",
       "      <td>بوئین زهرا</td>\n",
       "      <td>3451637311</td>\n",
       "      <td>10</td>\n",
       "      <td>بوئین زهرا</td>\n",
       "    </tr>\n",
       "    <tr>\n",
       "      <th>...</th>\n",
       "      <td>...</td>\n",
       "      <td>...</td>\n",
       "      <td>...</td>\n",
       "      <td>...</td>\n",
       "      <td>...</td>\n",
       "      <td>...</td>\n",
       "    </tr>\n",
       "    <tr>\n",
       "      <th>6894</th>\n",
       "      <td>صادق</td>\n",
       "      <td>صادقی راد</td>\n",
       "      <td>قزوین</td>\n",
       "      <td>1111111111</td>\n",
       "      <td>10</td>\n",
       "      <td>NaN</td>\n",
       "    </tr>\n",
       "    <tr>\n",
       "      <th>6895</th>\n",
       "      <td>بهمن</td>\n",
       "      <td>گنج ها</td>\n",
       "      <td>قزوین</td>\n",
       "      <td>3431164685</td>\n",
       "      <td>10</td>\n",
       "      <td>الوند</td>\n",
       "    </tr>\n",
       "    <tr>\n",
       "      <th>6896</th>\n",
       "      <td>زهرا</td>\n",
       "      <td>امانی</td>\n",
       "      <td>قزوین</td>\n",
       "      <td>3416664781</td>\n",
       "      <td>10</td>\n",
       "      <td>قزوین</td>\n",
       "    </tr>\n",
       "    <tr>\n",
       "      <th>6897</th>\n",
       "      <td>مجید</td>\n",
       "      <td>عسگری</td>\n",
       "      <td>قزوین</td>\n",
       "      <td>3471679831</td>\n",
       "      <td>10</td>\n",
       "      <td>تاکستان</td>\n",
       "    </tr>\n",
       "    <tr>\n",
       "      <th>6898</th>\n",
       "      <td>لیلا</td>\n",
       "      <td>مهرعلیان</td>\n",
       "      <td>شال</td>\n",
       "      <td>3457114379</td>\n",
       "      <td>10</td>\n",
       "      <td>شال</td>\n",
       "    </tr>\n",
       "  </tbody>\n",
       "</table>\n",
       "<p>6581 rows × 6 columns</p>\n",
       "</div>"
      ],
      "text/plain": [
       "     first_name   last_name city_residance postal_code  \\\n",
       "0           حسن       گروسی     بوئین زهرا  3454178378   \n",
       "1         مرتضی  حاجی حسینی     بوئین زهرا  3451738961   \n",
       "2         رحمان       رفیعی     بوئین زهرا  3451646436   \n",
       "3      ابوالفضل       احمدی     بوئین زهرا  3451737955   \n",
       "4          جعفر  برزگراحمدی     بوئین زهرا  3451637311   \n",
       "...         ...         ...            ...         ...   \n",
       "6894       صادق   صادقی راد          قزوین  1111111111   \n",
       "6895       بهمن      گنج ها          قزوین  3431164685   \n",
       "6896       زهرا       امانی          قزوین  3416664781   \n",
       "6897       مجید       عسگری          قزوین  3471679831   \n",
       "6898       لیلا    مهرعلیان            شال  3457114379   \n",
       "\n",
       "      digits_counting_postal_code shahr_e_code_posti  \n",
       "0                              10         بوئین زهرا  \n",
       "1                              10         بوئین زهرا  \n",
       "2                              10         بوئین زهرا  \n",
       "3                              10         بوئین زهرا  \n",
       "4                              10         بوئین زهرا  \n",
       "...                           ...                ...  \n",
       "6894                           10                NaN  \n",
       "6895                           10              الوند  \n",
       "6896                           10              قزوین  \n",
       "6897                           10            تاکستان  \n",
       "6898                           10                شال  \n",
       "\n",
       "[6581 rows x 6 columns]"
      ]
     },
     "execution_count": 233,
     "metadata": {},
     "output_type": "execute_result"
    }
   ],
   "source": [
    "class_10[['first_name','last_name','city_residance','postal_code','digits_counting_postal_code','shahr_e_code_posti']]"
   ]
  }
 ],
 "metadata": {
  "kernelspec": {
   "display_name": "Python 3 (ipykernel)",
   "language": "python",
   "name": "python3"
  },
  "language_info": {
   "codemirror_mode": {
    "name": "ipython",
    "version": 3
   },
   "file_extension": ".py",
   "mimetype": "text/x-python",
   "name": "python",
   "nbconvert_exporter": "python",
   "pygments_lexer": "ipython3",
   "version": "3.9.12"
  },
  "vscode": {
   "interpreter": {
    "hash": "52d90d3cc821dd0beedd6e719dbdecc722c226b9d90ed1b663c34e1877f1142e"
   }
  }
 },
 "nbformat": 4,
 "nbformat_minor": 2
}
