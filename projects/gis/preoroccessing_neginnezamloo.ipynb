{
 "cells": [
  {
   "cell_type": "code",
   "execution_count": 86,
   "metadata": {},
   "outputs": [],
   "source": [
    "#Importing libraries\n",
    "import pandas as pd\n",
    "import numpy as np"
   ]
  },
  {
   "cell_type": "code",
   "execution_count": 87,
   "metadata": {},
   "outputs": [],
   "source": [
    "#raw data\n",
    "raw=pd.read_excel(r'C:\\Users\\Asus\\Desktop\\raw_data.xlsx') \n",
    "# raw.info()"
   ]
  },
  {
   "cell_type": "code",
   "execution_count": 88,
   "metadata": {},
   "outputs": [
    {
     "data": {
      "text/html": [
       "<div>\n",
       "<style scoped>\n",
       "    .dataframe tbody tr th:only-of-type {\n",
       "        vertical-align: middle;\n",
       "    }\n",
       "\n",
       "    .dataframe tbody tr th {\n",
       "        vertical-align: top;\n",
       "    }\n",
       "\n",
       "    .dataframe thead th {\n",
       "        text-align: right;\n",
       "    }\n",
       "</style>\n",
       "<table border=\"1\" class=\"dataframe\">\n",
       "  <thead>\n",
       "    <tr style=\"text-align: right;\">\n",
       "      <th></th>\n",
       "      <th>seh_ragham_avl</th>\n",
       "      <th>shahr_e_sodor_codemeli</th>\n",
       "    </tr>\n",
       "  </thead>\n",
       "  <tbody>\n",
       "    <tr>\n",
       "      <th>0</th>\n",
       "      <td>149</td>\n",
       "      <td>اهر</td>\n",
       "    </tr>\n",
       "    <tr>\n",
       "      <th>1</th>\n",
       "      <td>169</td>\n",
       "      <td>آذرشهر</td>\n",
       "    </tr>\n",
       "    <tr>\n",
       "      <th>2</th>\n",
       "      <td>170</td>\n",
       "      <td>اسکو</td>\n",
       "    </tr>\n",
       "    <tr>\n",
       "      <th>3</th>\n",
       "      <td>149</td>\n",
       "      <td>اهر</td>\n",
       "    </tr>\n",
       "    <tr>\n",
       "      <th>4</th>\n",
       "      <td>171</td>\n",
       "      <td>بستان آباد</td>\n",
       "    </tr>\n",
       "    <tr>\n",
       "      <th>...</th>\n",
       "      <td>...</td>\n",
       "      <td>...</td>\n",
       "    </tr>\n",
       "    <tr>\n",
       "      <th>603</th>\n",
       "      <td>158</td>\n",
       "      <td>مرند</td>\n",
       "    </tr>\n",
       "    <tr>\n",
       "      <th>604</th>\n",
       "      <td>615</td>\n",
       "      <td>ابهر و خرمدره</td>\n",
       "    </tr>\n",
       "    <tr>\n",
       "      <th>605</th>\n",
       "      <td>152</td>\n",
       "      <td>میانه</td>\n",
       "    </tr>\n",
       "    <tr>\n",
       "      <th>606</th>\n",
       "      <td>153</td>\n",
       "      <td>میانه</td>\n",
       "    </tr>\n",
       "    <tr>\n",
       "      <th>607</th>\n",
       "      <td>999</td>\n",
       "      <td>کد ملی غلط</td>\n",
       "    </tr>\n",
       "  </tbody>\n",
       "</table>\n",
       "<p>608 rows × 2 columns</p>\n",
       "</div>"
      ],
      "text/plain": [
       "    seh_ragham_avl shahr_e_sodor_codemeli\n",
       "0              149                    اهر\n",
       "1              169                 آذرشهر\n",
       "2              170                   اسکو\n",
       "3              149                    اهر\n",
       "4              171             بستان آباد\n",
       "..             ...                    ...\n",
       "603            158                   مرند\n",
       "604            615          ابهر و خرمدره\n",
       "605            152                  میانه\n",
       "606            153                  میانه\n",
       "607            999             کد ملی غلط\n",
       "\n",
       "[608 rows x 2 columns]"
      ]
     },
     "execution_count": 88,
     "metadata": {},
     "output_type": "execute_result"
    }
   ],
   "source": [
    "#importing_codemeli_city_xlsx\n",
    "codemeli_city=pd.read_excel(r'C:\\Users\\Asus\\Desktop\\maskan_mehr_project\\Book1.xlsx') \n",
    "\n",
    "codemeli_city['seh_ragham_avl']= codemeli_city['seh_ragham_avl'].astype(str)\n",
    "\n",
    "# codemeli_city.info()\n",
    "codemeli_city"
   ]
  },
  {
   "cell_type": "code",
   "execution_count": 89,
   "metadata": {},
   "outputs": [
    {
     "name": "stdout",
     "output_type": "stream",
     "text": [
      "<class 'pandas.core.frame.DataFrame'>\n",
      "RangeIndex: 163 entries, 0 to 162\n",
      "Data columns (total 6 columns):\n",
      " #   Column        Non-Null Count  Dtype  \n",
      "---  ------        --------------  -----  \n",
      " 0   pc            163 non-null    int64  \n",
      " 1   city          150 non-null    object \n",
      " 2   latitude(φ)   147 non-null    object \n",
      " 3   longitude(λ)  147 non-null    object \n",
      " 4   φ(d)          147 non-null    float64\n",
      " 5    λ(d)         147 non-null    float64\n",
      "dtypes: float64(2), int64(1), object(3)\n",
      "memory usage: 7.8+ KB\n"
     ]
    }
   ],
   "source": [
    "#importing pc\n",
    "pc_df=pd.read_excel(r'C:\\Users\\Asus\\Desktop\\maskan_mehr_project\\pc.xlsx') \n",
    "pc_df.drop(columns=[ 'Unnamed: 0'] , inplace=True)\n",
    "pc_df.info()\n"
   ]
  },
  {
   "cell_type": "code",
   "execution_count": 90,
   "metadata": {},
   "outputs": [
    {
     "data": {
      "text/html": [
       "<div>\n",
       "<style scoped>\n",
       "    .dataframe tbody tr th:only-of-type {\n",
       "        vertical-align: middle;\n",
       "    }\n",
       "\n",
       "    .dataframe tbody tr th {\n",
       "        vertical-align: top;\n",
       "    }\n",
       "\n",
       "    .dataframe thead th {\n",
       "        text-align: right;\n",
       "    }\n",
       "</style>\n",
       "<table border=\"1\" class=\"dataframe\">\n",
       "  <thead>\n",
       "    <tr style=\"text-align: right;\">\n",
       "      <th></th>\n",
       "      <th>pc</th>\n",
       "      <th>city</th>\n",
       "      <th>latitude(φ)</th>\n",
       "      <th>longitude(λ)</th>\n",
       "      <th>φ(d)</th>\n",
       "      <th>λ(d)</th>\n",
       "    </tr>\n",
       "  </thead>\n",
       "  <tbody>\n",
       "    <tr>\n",
       "      <th>0</th>\n",
       "      <td>11111</td>\n",
       "      <td>NaN</td>\n",
       "      <td>NaN</td>\n",
       "      <td>NaN</td>\n",
       "      <td>NaN</td>\n",
       "      <td>NaN</td>\n",
       "    </tr>\n",
       "    <tr>\n",
       "      <th>1</th>\n",
       "      <td>31319</td>\n",
       "      <td>NaN</td>\n",
       "      <td>NaN</td>\n",
       "      <td>NaN</td>\n",
       "      <td>NaN</td>\n",
       "      <td>NaN</td>\n",
       "    </tr>\n",
       "    <tr>\n",
       "      <th>2</th>\n",
       "      <td>31956</td>\n",
       "      <td>NaN</td>\n",
       "      <td>NaN</td>\n",
       "      <td>NaN</td>\n",
       "      <td>NaN</td>\n",
       "      <td>NaN</td>\n",
       "    </tr>\n",
       "    <tr>\n",
       "      <th>3</th>\n",
       "      <td>43131</td>\n",
       "      <td>NaN</td>\n",
       "      <td>NaN</td>\n",
       "      <td>NaN</td>\n",
       "      <td>NaN</td>\n",
       "      <td>NaN</td>\n",
       "    </tr>\n",
       "    <tr>\n",
       "      <th>4</th>\n",
       "      <td>43141</td>\n",
       "      <td>NaN</td>\n",
       "      <td>NaN</td>\n",
       "      <td>NaN</td>\n",
       "      <td>NaN</td>\n",
       "      <td>NaN</td>\n",
       "    </tr>\n",
       "    <tr>\n",
       "      <th>...</th>\n",
       "      <td>...</td>\n",
       "      <td>...</td>\n",
       "      <td>...</td>\n",
       "      <td>...</td>\n",
       "      <td>...</td>\n",
       "      <td>...</td>\n",
       "    </tr>\n",
       "    <tr>\n",
       "      <th>158</th>\n",
       "      <td>34917</td>\n",
       "      <td>محمدیه</td>\n",
       "      <td>36° 13' 26.465\" N</td>\n",
       "      <td>50° 10' 57.313\" E</td>\n",
       "      <td>36.224018</td>\n",
       "      <td>50.182587</td>\n",
       "    </tr>\n",
       "    <tr>\n",
       "      <th>159</th>\n",
       "      <td>34918</td>\n",
       "      <td>محمدیه</td>\n",
       "      <td>36° 13' 26.465\" N</td>\n",
       "      <td>50° 10' 57.313\" E</td>\n",
       "      <td>36.224018</td>\n",
       "      <td>50.182587</td>\n",
       "    </tr>\n",
       "    <tr>\n",
       "      <th>160</th>\n",
       "      <td>34919</td>\n",
       "      <td>محمدیه</td>\n",
       "      <td>36° 13' 26.465\" N</td>\n",
       "      <td>50° 10' 57.313\" E</td>\n",
       "      <td>36.224018</td>\n",
       "      <td>50.182587</td>\n",
       "    </tr>\n",
       "    <tr>\n",
       "      <th>161</th>\n",
       "      <td>34931</td>\n",
       "      <td>معلم کلایه</td>\n",
       "      <td>36° 26' 50.197\" N</td>\n",
       "      <td>50° 28' 41.506\" E</td>\n",
       "      <td>36.447277</td>\n",
       "      <td>50.478195</td>\n",
       "    </tr>\n",
       "    <tr>\n",
       "      <th>162</th>\n",
       "      <td>89189</td>\n",
       "      <td>یزد</td>\n",
       "      <td>31° 53' 0.679\" N</td>\n",
       "      <td>54° 20' 51.864\" E</td>\n",
       "      <td>31.883522</td>\n",
       "      <td>54.347740</td>\n",
       "    </tr>\n",
       "  </tbody>\n",
       "</table>\n",
       "<p>163 rows × 6 columns</p>\n",
       "</div>"
      ],
      "text/plain": [
       "        pc        city        latitude(φ)       longitude(λ)       φ(d)  \\\n",
       "0    11111         NaN                NaN                NaN        NaN   \n",
       "1    31319         NaN                NaN                NaN        NaN   \n",
       "2    31956         NaN                NaN                NaN        NaN   \n",
       "3    43131         NaN                NaN                NaN        NaN   \n",
       "4    43141         NaN                NaN                NaN        NaN   \n",
       "..     ...         ...                ...                ...        ...   \n",
       "158  34917      محمدیه  36° 13' 26.465\" N  50° 10' 57.313\" E  36.224018   \n",
       "159  34918      محمدیه  36° 13' 26.465\" N  50° 10' 57.313\" E  36.224018   \n",
       "160  34919      محمدیه  36° 13' 26.465\" N  50° 10' 57.313\" E  36.224018   \n",
       "161  34931  معلم کلایه  36° 26' 50.197\" N  50° 28' 41.506\" E  36.447277   \n",
       "162  89189         یزد   31° 53' 0.679\" N  54° 20' 51.864\" E  31.883522   \n",
       "\n",
       "          λ(d)  \n",
       "0          NaN  \n",
       "1          NaN  \n",
       "2          NaN  \n",
       "3          NaN  \n",
       "4          NaN  \n",
       "..         ...  \n",
       "158  50.182587  \n",
       "159  50.182587  \n",
       "160  50.182587  \n",
       "161  50.478195  \n",
       "162  54.347740  \n",
       "\n",
       "[163 rows x 6 columns]"
      ]
     },
     "execution_count": 90,
     "metadata": {},
     "output_type": "execute_result"
    }
   ],
   "source": [
    "pc_df"
   ]
  },
  {
   "cell_type": "code",
   "execution_count": 91,
   "metadata": {
    "collapsed": true
   },
   "outputs": [
    {
     "name": "stdout",
     "output_type": "stream",
     "text": [
      "نام\n",
      "نام خانوادگی\n",
      "کد ملی\n",
      "موبایل\n",
      "مرحله ثبت نام\n",
      "شهر مورد تقاضا\n",
      "شهر محل سکونت\n",
      "آدرس متقاضی\n",
      "کدپستی\n",
      "وضعیت بارگذاری مدارک\n",
      "وضعیت سرپرستی\n",
      "شغل\n",
      "جنسیت\n",
      "میزان تحصیلات\n",
      "نام پدر\n",
      "شماره شناسنامه\n",
      "تاریخ تولد\n",
      "تعداد فرزندان\n",
      "بعد خانوار\n",
      "کد شعبه\n",
      "نام شعبه\n",
      "شماره حساب\n"
     ]
    }
   ],
   "source": [
    "# raw column names\n",
    "for col in raw.columns:\n",
    "    print(col)"
   ]
  },
  {
   "cell_type": "code",
   "execution_count": 92,
   "metadata": {},
   "outputs": [],
   "source": [
    "#useful features:\n",
    "\n",
    "# نام\n",
    "# نام خانوادگی\n",
    "# کد ملی\n",
    "# شماره شناسنامه\n",
    "# موبایل\n",
    "# شهر مورد تقاضا\n",
    "# شهر محل سکونت\n",
    "# آدرس متقاضی\n",
    "# کدپستی\n",
    "# جنسیت\n",
    "# نام پدر\n",
    "# تاریخ تولد\n",
    "# شماره حساب"
   ]
  },
  {
   "cell_type": "code",
   "execution_count": 93,
   "metadata": {},
   "outputs": [],
   "source": [
    "#renaming columns to english\n",
    "raw.rename(columns={'نام':\"first_name\"  ,  \"نام خانوادگی\":\"last_name\"  ,  \"کد ملی\":\"national_id\"  ,\"شماره شناسنامه\":\"serial_number\", \n",
    "                    \"کدپستی\": \"postal_code\" ,\n",
    "                    \"شهر مورد تقاضا\"  : \"city_requested \" , \"شهر محل سکونت\" :\"city_residance\",\"موبایل\":\"mobile_number\",\n",
    "                    \"آدرس متقاضی\": \"address\" , \n",
    "                          \"جنسیت\":\"gender\",\"نام پدر\":\"Father's name\",\"تاریخ تولد\":\"Birth date\",\n",
    "                    \"شماره حساب\":\"Bank acc number\"} , inplace=True)\n",
    "\n",
    "raw.drop(columns=['وضعیت بارگذاری مدارک',\"وضعیت سرپرستی\",\"شغل\",\"میزان تحصیلات\",\"تعداد فرزندان\",\"بعد خانوار\" ,\"کد شعبه\",\"نام شعبه\",\"مرحله ثبت نام\"],inplace=True)\n"
   ]
  },
  {
   "cell_type": "code",
   "execution_count": 94,
   "metadata": {},
   "outputs": [],
   "source": [
    "# raw['national_id_str'] = raw['national_id'].astype(str)\n",
    "# raw['postal_code_str'] = raw['postal_code'].astype(str)"
   ]
  },
  {
   "cell_type": "markdown",
   "metadata": {},
   "source": [
    "# \"کد ملی\"  ;  \"national_id\""
   ]
  },
  {
   "cell_type": "code",
   "execution_count": 95,
   "metadata": {},
   "outputs": [],
   "source": [
    "raw['national_id_str'] = raw['national_id'].astype(str)"
   ]
  },
  {
   "cell_type": "code",
   "execution_count": 96,
   "metadata": {},
   "outputs": [],
   "source": [
    "# digits counting\n",
    "\n",
    "def count_digits(string):\n",
    "    \n",
    "    return sum(item.isdigit() for item in string)\n",
    "\n",
    "raw['digits_counting_national_id'] = (raw['national_id_str']).apply(count_digits)"
   ]
  },
  {
   "cell_type": "code",
   "execution_count": 97,
   "metadata": {},
   "outputs": [
    {
     "data": {
      "text/plain": [
       "digits_counting_national_id\n",
       "10                             6581\n",
       "8                               188\n",
       "9                               130\n",
       "dtype: int64"
      ]
     },
     "execution_count": 97,
     "metadata": {},
     "output_type": "execute_result"
    }
   ],
   "source": [
    "raw[['digits_counting_national_id']].value_counts() "
   ]
  },
  {
   "cell_type": "code",
   "execution_count": 98,
   "metadata": {},
   "outputs": [],
   "source": [
    "#afrad ba codemelii 10 raghami \n",
    "\n",
    "class_10=raw[raw.digits_counting_national_id == 10]\n",
    "\n",
    "#afrad ba codemelii 9 raghami \n",
    "class_9=raw[raw.digits_counting_national_id == 9]\n",
    "\n",
    "#afrad ba codemelii 8 raghami \n",
    "\n",
    "class_8=raw[raw.digits_counting_national_id == 8]"
   ]
  },
  {
   "cell_type": "markdown",
   "metadata": {},
   "source": [
    "# class10"
   ]
  },
  {
   "cell_type": "markdown",
   "metadata": {},
   "source": [
    "check validationn of code e melii in class_10"
   ]
  },
  {
   "cell_type": "code",
   "execution_count": 99,
   "metadata": {
    "collapsed": true
   },
   "outputs": [],
   "source": [
    "# class_10[\"national_id_str\"].mask(class_10[\"national_id_str\"] == '1111111111', '9999999999', inplace=True)\n",
    "# class_10[\"national_id_str\"].mask(class_10[\"national_id_str\"] == '2222222222', '9999999999', inplace=True)\n",
    "# class_10[\"national_id_str\"].mask(class_10[\"national_id_str\"] == '3333333333', '9999999999', inplace=True)\n",
    "# class_10[\"national_id_str\"].mask(class_10[\"national_id_str\"] == '4444444444', '9999999999', inplace=True)\n",
    "# class_10[\"national_id_str\"].mask(class_10[\"national_id_str\"] == '5555555555', '9999999999', inplace=True)\n",
    "# class_10[\"national_id_str\"].mask(class_10[\"national_id_str\"] == '6666666666', '9999999999', inplace=True)\n",
    "# class_10[\"national_id_str\"].mask(class_10[\"national_id_str\"] == '7777777777', '9999999999', inplace=True)\n",
    "# class_10[\"national_id_str\"].mask(class_10[\"national_id_str\"] == '8888888888', '9999999999', inplace=True)\n",
    "# class_10[\"national_id_str\"].mask(class_10[\"national_id_str\"] == '0000000000', '9999999999', inplace=True)"
   ]
  },
  {
   "cell_type": "code",
   "execution_count": 100,
   "metadata": {
    "collapsed": true
   },
   "outputs": [
    {
     "data": {
      "text/html": [
       "<div>\n",
       "<style scoped>\n",
       "    .dataframe tbody tr th:only-of-type {\n",
       "        vertical-align: middle;\n",
       "    }\n",
       "\n",
       "    .dataframe tbody tr th {\n",
       "        vertical-align: top;\n",
       "    }\n",
       "\n",
       "    .dataframe thead th {\n",
       "        text-align: right;\n",
       "    }\n",
       "</style>\n",
       "<table border=\"1\" class=\"dataframe\">\n",
       "  <thead>\n",
       "    <tr style=\"text-align: right;\">\n",
       "      <th></th>\n",
       "      <th>first_name</th>\n",
       "      <th>last_name</th>\n",
       "      <th>national_id</th>\n",
       "      <th>mobile_number</th>\n",
       "      <th>city_requested</th>\n",
       "      <th>city_residance</th>\n",
       "      <th>address</th>\n",
       "      <th>postal_code</th>\n",
       "      <th>gender</th>\n",
       "      <th>Father's name</th>\n",
       "      <th>serial_number</th>\n",
       "      <th>Birth date</th>\n",
       "      <th>Bank acc number</th>\n",
       "      <th>national_id_str</th>\n",
       "      <th>digits_counting_national_id</th>\n",
       "    </tr>\n",
       "  </thead>\n",
       "  <tbody>\n",
       "  </tbody>\n",
       "</table>\n",
       "</div>"
      ],
      "text/plain": [
       "Empty DataFrame\n",
       "Columns: [first_name, last_name, national_id, mobile_number, city_requested , city_residance, address, postal_code, gender, Father's name, serial_number, Birth date, Bank acc number, national_id_str, digits_counting_national_id]\n",
       "Index: []"
      ]
     },
     "execution_count": 100,
     "metadata": {},
     "output_type": "execute_result"
    }
   ],
   "source": [
    "class_10[class_10.national_id_str == '']\n",
    "#returns 0 for '0000000000','1111111111','2222222222','3333333333','4444444444','5555555555','7777777777','6666666666',8888888888', '9999999999'\n"
   ]
  },
  {
   "cell_type": "code",
   "execution_count": 101,
   "metadata": {
    "collapsed": true
   },
   "outputs": [],
   "source": [
    "#also using below loop is ok \n",
    "\n",
    "\n",
    "\n",
    "# invalid_list=['0000000000','1111111111','2222222222','3333333333','4444444444','5555555555','6666666666','7777777777','8888888888','9999999999']\n",
    "\n",
    "\n",
    "# for i in class_10['national_id_str']:\n",
    "    \n",
    "#     if i in invalid_list:\n",
    "            \n",
    "#         print(i)\n",
    "#     else:\n",
    "#         print(\"ok\")\n"
   ]
  },
  {
   "cell_type": "markdown",
   "metadata": {},
   "source": [
    "based on the result of the last 3 cells none of the  class_10.national_id_str values are equal to the invalid_list values."
   ]
  },
  {
   "cell_type": "markdown",
   "metadata": {},
   "source": [
    "https://exceliran.com/melli-code-checker-in-excel/  : تشخیص صحت کد ملی"
   ]
  },
  {
   "cell_type": "code",
   "execution_count": 102,
   "metadata": {},
   "outputs": [
    {
     "name": "stderr",
     "output_type": "stream",
     "text": [
      "C:\\Users\\Asus\\AppData\\Local\\Temp\\ipykernel_15708\\3235855644.py:35: SettingWithCopyWarning: \n",
      "A value is trying to be set on a copy of a slice from a DataFrame.\n",
      "Try using .loc[row_indexer,col_indexer] = value instead\n",
      "\n",
      "See the caveats in the documentation: https://pandas.pydata.org/pandas-docs/stable/user_guide/indexing.html#returning-a-view-versus-a-copy\n",
      "  class_10['seh_ragham_aval']=mylist_class10.values\n"
     ]
    }
   ],
   "source": [
    "mylist_class10=[]\n",
    "\n",
    "for codemeli in (class_10['national_id_str']):\n",
    "    \n",
    "    Sum=0\n",
    "    \n",
    "    for j in range(9):\n",
    "        \n",
    "        Sum+= int(codemeli[j])*(10 - j) #sum number code meli 1-9\n",
    "        \n",
    "    C=(Sum%11)\n",
    "    \n",
    "    A=int(codemeli[9]) #ragham e control\n",
    "    \n",
    "    B=11-C   \n",
    "    \n",
    "    if ((C<2 and A==0 )) or (C<2 and A==1):\n",
    "        \n",
    "        mylist_class10.append(codemeli[:3])\n",
    "        \n",
    "    elif (C>=2) and (B==A):\n",
    "        \n",
    "        mylist_class10.append(codemeli[:3])\n",
    "    else:\n",
    "        mylisst_class10.append(\"999\")\n",
    "        \n",
    "        \n",
    "    \n",
    "mylist_class10=pd.DataFrame(mylist_class10,columns =['mylist_class10'])\n",
    "\n",
    "# mylisst_class10.shape=(6581, 1)\n",
    "#class_10[['national_id_str']].shape=(6581, 1)\n",
    "\n",
    "\n",
    "class_10['seh_ragham_aval']=mylist_class10.values\n",
    "# class_10"
   ]
  },
  {
   "cell_type": "code",
   "execution_count": 103,
   "metadata": {},
   "outputs": [],
   "source": [
    "#converting codemeli_city to dict\n",
    "key, value = list(codemeli_city['seh_ragham_avl']), list(codemeli_city['shahr_e_sodor_codemeli'])\n",
    "codemeli_city = dict(zip(key, value))            "
   ]
  },
  {
   "cell_type": "code",
   "execution_count": 104,
   "metadata": {},
   "outputs": [],
   "source": [
    "codes = list(class_10['seh_ragham_aval'])\n",
    "\n",
    "cities_10 = []\n",
    "\n",
    "for i in codes:\n",
    "    \n",
    "    if i in key:\n",
    "        \n",
    "        cities_10.append(codemeli_city[i])\n",
    "    else:\n",
    "        cities_10.append(\"null\")"
   ]
  },
  {
   "cell_type": "code",
   "execution_count": 105,
   "metadata": {
    "collapsed": true
   },
   "outputs": [
    {
     "name": "stderr",
     "output_type": "stream",
     "text": [
      "C:\\Users\\Asus\\AppData\\Local\\Temp\\ipykernel_15708\\3130322988.py:2: SettingWithCopyWarning: \n",
      "A value is trying to be set on a copy of a slice from a DataFrame.\n",
      "Try using .loc[row_indexer,col_indexer] = value instead\n",
      "\n",
      "See the caveats in the documentation: https://pandas.pydata.org/pandas-docs/stable/user_guide/indexing.html#returning-a-view-versus-a-copy\n",
      "  class_10['shahr_e_sodor_shenasnameh']=cities_10.values\n"
     ]
    }
   ],
   "source": [
    "cities_10=pd.DataFrame ( cities_10 , columns=['cities_10'])\n",
    "class_10['shahr_e_sodor_shenasnameh']=cities_10.values"
   ]
  },
  {
   "cell_type": "code",
   "execution_count": 106,
   "metadata": {},
   "outputs": [],
   "source": [
    "# class_10"
   ]
  },
  {
   "cell_type": "markdown",
   "metadata": {},
   "source": [
    "# check validation of postal_code in class_10"
   ]
  },
  {
   "cell_type": "markdown",
   "metadata": {},
   "source": [
    "الگوريتم صحت سنجي عددي كد پستي:\n",
    "\n",
    "- تعداد ارقام كد پستي 10 رقم مي باشد.\n",
    "\n",
    "- عدد صفر در كد پستي استفاده نشده است.\n",
    "\n",
    "- عدد 2 در كد پستي استفاده نشده است.\n",
    "\n",
    "- چهار رقم ابتدايي نمي تواند شبيه هم باشد.\n",
    "\n",
    "- رقم پنجم نمي تواند عدد 5 باشد.\n",
    "\n",
    "-تمامي ارقام نمي تواند شبيه هم باشد."
   ]
  },
  {
   "cell_type": "code",
   "execution_count": 107,
   "metadata": {},
   "outputs": [
    {
     "data": {
      "text/html": [
       "<div>\n",
       "<style scoped>\n",
       "    .dataframe tbody tr th:only-of-type {\n",
       "        vertical-align: middle;\n",
       "    }\n",
       "\n",
       "    .dataframe tbody tr th {\n",
       "        vertical-align: top;\n",
       "    }\n",
       "\n",
       "    .dataframe thead th {\n",
       "        text-align: right;\n",
       "    }\n",
       "</style>\n",
       "<table border=\"1\" class=\"dataframe\">\n",
       "  <thead>\n",
       "    <tr style=\"text-align: right;\">\n",
       "      <th></th>\n",
       "      <th>postal_code</th>\n",
       "    </tr>\n",
       "  </thead>\n",
       "  <tbody>\n",
       "    <tr>\n",
       "      <th>0</th>\n",
       "      <td>3454178378</td>\n",
       "    </tr>\n",
       "    <tr>\n",
       "      <th>1</th>\n",
       "      <td>3451738961</td>\n",
       "    </tr>\n",
       "    <tr>\n",
       "      <th>2</th>\n",
       "      <td>3451646436</td>\n",
       "    </tr>\n",
       "    <tr>\n",
       "      <th>3</th>\n",
       "      <td>3451737955</td>\n",
       "    </tr>\n",
       "    <tr>\n",
       "      <th>4</th>\n",
       "      <td>3451637311</td>\n",
       "    </tr>\n",
       "    <tr>\n",
       "      <th>...</th>\n",
       "      <td>...</td>\n",
       "    </tr>\n",
       "    <tr>\n",
       "      <th>6894</th>\n",
       "      <td>NaN</td>\n",
       "    </tr>\n",
       "    <tr>\n",
       "      <th>6895</th>\n",
       "      <td>3431164685</td>\n",
       "    </tr>\n",
       "    <tr>\n",
       "      <th>6896</th>\n",
       "      <td>3416664781</td>\n",
       "    </tr>\n",
       "    <tr>\n",
       "      <th>6897</th>\n",
       "      <td>3471679831</td>\n",
       "    </tr>\n",
       "    <tr>\n",
       "      <th>6898</th>\n",
       "      <td>3457114379</td>\n",
       "    </tr>\n",
       "  </tbody>\n",
       "</table>\n",
       "<p>6581 rows × 1 columns</p>\n",
       "</div>"
      ],
      "text/plain": [
       "     postal_code\n",
       "0     3454178378\n",
       "1     3451738961\n",
       "2     3451646436\n",
       "3     3451737955\n",
       "4     3451637311\n",
       "...          ...\n",
       "6894         NaN\n",
       "6895  3431164685\n",
       "6896  3416664781\n",
       "6897  3471679831\n",
       "6898  3457114379\n",
       "\n",
       "[6581 rows x 1 columns]"
      ]
     },
     "execution_count": 107,
     "metadata": {},
     "output_type": "execute_result"
    }
   ],
   "source": [
    "class_10[['postal_code']]"
   ]
  },
  {
   "cell_type": "code",
   "execution_count": 108,
   "metadata": {},
   "outputs": [
    {
     "name": "stdout",
     "output_type": "stream",
     "text": [
      "<class 'pandas.core.frame.DataFrame'>\n",
      "Int64Index: 6581 entries, 0 to 6898\n",
      "Data columns (total 1 columns):\n",
      " #   Column       Non-Null Count  Dtype \n",
      "---  ------       --------------  ----- \n",
      " 0   postal_code  5925 non-null   object\n",
      "dtypes: object(1)\n",
      "memory usage: 102.8+ KB\n"
     ]
    }
   ],
   "source": [
    "class_10[['postal_code']].info()\n"
   ]
  },
  {
   "cell_type": "code",
   "execution_count": 109,
   "metadata": {},
   "outputs": [
    {
     "name": "stderr",
     "output_type": "stream",
     "text": [
      "C:\\Users\\Asus\\AppData\\Local\\Temp\\ipykernel_15708\\2863504390.py:3: SettingWithCopyWarning: \n",
      "A value is trying to be set on a copy of a slice from a DataFrame.\n",
      "Try using .loc[row_indexer,col_indexer] = value instead\n",
      "\n",
      "See the caveats in the documentation: https://pandas.pydata.org/pandas-docs/stable/user_guide/indexing.html#returning-a-view-versus-a-copy\n",
      "  class_10[['postal_code']]=class_10[['postal_code']].fillna(1111111111)\n"
     ]
    },
    {
     "data": {
      "text/plain": [
       "postal_code    0\n",
       "dtype: int64"
      ]
     },
     "execution_count": 109,
     "metadata": {},
     "output_type": "execute_result"
    }
   ],
   "source": [
    "class_10[['postal_code']].isna().sum()  #returns 656\n",
    "#replacing nans with 1111111111\n",
    "class_10[['postal_code']]=class_10[['postal_code']].fillna(1111111111)\n",
    "class_10[['postal_code']].isna().sum()#returns 0"
   ]
  },
  {
   "cell_type": "code",
   "execution_count": 110,
   "metadata": {},
   "outputs": [
    {
     "data": {
      "text/plain": [
       "postal_code\n",
       "1111111111     774\n",
       "3414739866      37\n",
       "3481634816      28\n",
       "3451634516      21\n",
       "3419113131      20\n",
       "              ... \n",
       "3419935943       1\n",
       "3419935671       1\n",
       "3419935611       1\n",
       "3419935343       1\n",
       "3447112977       1\n",
       "Length: 5379, dtype: int64"
      ]
     },
     "execution_count": 110,
     "metadata": {},
     "output_type": "execute_result"
    }
   ],
   "source": [
    "class_10[['postal_code']].value_counts()"
   ]
  },
  {
   "cell_type": "markdown",
   "metadata": {},
   "source": [
    "# تعداد ارقام كد پستي 10 رقم مي باشد\n"
   ]
  },
  {
   "cell_type": "code",
   "execution_count": 111,
   "metadata": {},
   "outputs": [
    {
     "name": "stderr",
     "output_type": "stream",
     "text": [
      "C:\\Users\\Asus\\AppData\\Local\\Temp\\ipykernel_15708\\1516624701.py:1: SettingWithCopyWarning: \n",
      "A value is trying to be set on a copy of a slice from a DataFrame.\n",
      "Try using .loc[row_indexer,col_indexer] = value instead\n",
      "\n",
      "See the caveats in the documentation: https://pandas.pydata.org/pandas-docs/stable/user_guide/indexing.html#returning-a-view-versus-a-copy\n",
      "  class_10['digits_counting_postal_code'] = (class_10['postal_code'].astype(str)).apply(count_digits)\n"
     ]
    },
    {
     "data": {
      "text/plain": [
       "10    6562\n",
       "9       10\n",
       "8        3\n",
       "5        2\n",
       "0        2\n",
       "2        1\n",
       "6        1\n",
       "Name: digits_counting_postal_code, dtype: int64"
      ]
     },
     "execution_count": 111,
     "metadata": {},
     "output_type": "execute_result"
    }
   ],
   "source": [
    "class_10['digits_counting_postal_code'] = (class_10['postal_code'].astype(str)).apply(count_digits)\n",
    "class_10['digits_counting_postal_code'].value_counts()"
   ]
  },
  {
   "cell_type": "code",
   "execution_count": 112,
   "metadata": {
    "collapsed": true
   },
   "outputs": [],
   "source": [
    "# class_10[class_10.digits_counting_postal_code == 0]"
   ]
  },
  {
   "cell_type": "code",
   "execution_count": 113,
   "metadata": {
    "collapsed": true
   },
   "outputs": [],
   "source": [
    "# class_10[class_10.digits_counting_postal_code == 2]"
   ]
  },
  {
   "cell_type": "code",
   "execution_count": 114,
   "metadata": {
    "collapsed": true
   },
   "outputs": [],
   "source": [
    "# class_10[class_10.digits_counting_postal_code == 5]"
   ]
  },
  {
   "cell_type": "code",
   "execution_count": 115,
   "metadata": {
    "collapsed": true
   },
   "outputs": [],
   "source": [
    "# class_10[class_10.digits_counting_postal_code == 6]"
   ]
  },
  {
   "cell_type": "code",
   "execution_count": 116,
   "metadata": {
    "collapsed": true
   },
   "outputs": [],
   "source": [
    "# class_10[class_10.digits_counting_postal_code == 8]"
   ]
  },
  {
   "cell_type": "code",
   "execution_count": 117,
   "metadata": {
    "collapsed": true
   },
   "outputs": [],
   "source": [
    "# class_10[class_10.digits_counting_postal_code == 9]"
   ]
  },
  {
   "cell_type": "code",
   "execution_count": 118,
   "metadata": {},
   "outputs": [
    {
     "data": {
      "text/plain": [
       "mylist1   \n",
       "1111111111    793\n",
       "3414739866     37\n",
       "3481634816     28\n",
       "3451634516     21\n",
       "3419113131     20\n",
       "             ... \n",
       "3419938548      1\n",
       "3419938367      1\n",
       "3419938341      1\n",
       "3419938191      1\n",
       "3447118773      1\n",
       "Length: 5365, dtype: int64"
      ]
     },
     "execution_count": 118,
     "metadata": {},
     "output_type": "execute_result"
    }
   ],
   "source": [
    "mylist1=[]\n",
    "\n",
    "for i in class_10['postal_code'].astype(str):\n",
    "    \n",
    "    \n",
    "    if count_digits(i)==10:\n",
    "        \n",
    "            \n",
    "        mylist1.append(i)\n",
    "        \n",
    "    else:\n",
    "         mylist1.append('1111111111')\n",
    "            \n",
    "df_1= pd.DataFrame(mylist1 , columns=['mylist1']) #df_1.shape returns 6581 rows × 1 columns \n",
    "df_1.value_counts()  #returns 793 ta '1111111111' \n"
   ]
  },
  {
   "cell_type": "code",
   "execution_count": 119,
   "metadata": {},
   "outputs": [
    {
     "name": "stderr",
     "output_type": "stream",
     "text": [
      "C:\\Users\\Asus\\AppData\\Local\\Temp\\ipykernel_15708\\1952188133.py:3: SettingWithCopyWarning: \n",
      "A value is trying to be set on a copy of a slice from a DataFrame.\n",
      "Try using .loc[row_indexer,col_indexer] = value instead\n",
      "\n",
      "See the caveats in the documentation: https://pandas.pydata.org/pandas-docs/stable/user_guide/indexing.html#returning-a-view-versus-a-copy\n",
      "  class_10['postal_code']= df_1['mylist1'].values\n"
     ]
    }
   ],
   "source": [
    "# replacing class_10['postal_code'] with df_1\n",
    "\n",
    "class_10['postal_code']= df_1['mylist1'].values"
   ]
  },
  {
   "cell_type": "markdown",
   "metadata": {},
   "source": [
    "# - عدد صفر در كد پستي استفاده نشده است\n",
    "\n"
   ]
  },
  {
   "cell_type": "markdown",
   "metadata": {},
   "source": [
    "# - عدد 2 در كد پستي استفاده نشده است"
   ]
  },
  {
   "cell_type": "code",
   "execution_count": 120,
   "metadata": {},
   "outputs": [],
   "source": [
    "mylist2=[]\n",
    "\n",
    "for i in class_10['postal_code'].astype(str):\n",
    "    \n",
    "    if i.count('2') == 0  and i.count('0')==0:\n",
    "        \n",
    "        mylist2.append(i)\n",
    "        \n",
    "    elif i.count('2') != 0  or i.count('0')!=0:\n",
    "        \n",
    "        mylist2.append('1111111111')\n",
    "        \n",
    "        \n",
    "        \n",
    "df_2= pd.DataFrame(mylist2 , columns=['mylist2'])\n",
    "# df_2.value_counts() #returns 1227 ta '1111111111' "
   ]
  },
  {
   "cell_type": "code",
   "execution_count": 121,
   "metadata": {},
   "outputs": [
    {
     "name": "stderr",
     "output_type": "stream",
     "text": [
      "C:\\Users\\Asus\\AppData\\Local\\Temp\\ipykernel_15708\\643931272.py:3: SettingWithCopyWarning: \n",
      "A value is trying to be set on a copy of a slice from a DataFrame.\n",
      "Try using .loc[row_indexer,col_indexer] = value instead\n",
      "\n",
      "See the caveats in the documentation: https://pandas.pydata.org/pandas-docs/stable/user_guide/indexing.html#returning-a-view-versus-a-copy\n",
      "  class_10['postal_code']= df_2['mylist2'].values\n"
     ]
    }
   ],
   "source": [
    "# replacing class_10['postal_code'] (df_1) with df_2\n",
    "\n",
    "class_10['postal_code']= df_2['mylist2'].values"
   ]
  },
  {
   "cell_type": "markdown",
   "metadata": {},
   "source": [
    "# - چهار رقم ابتدايي نمي تواند شبيه هم باشد\n"
   ]
  },
  {
   "cell_type": "code",
   "execution_count": 122,
   "metadata": {},
   "outputs": [],
   "source": [
    "mylist3=[]\n",
    "\n",
    "for i in class_10['postal_code'].astype(str):\n",
    "    \n",
    "    if i[0:1 ]!= i[1:2]!= i[2:3]!= i[3:4] :\n",
    "        \n",
    "        mylist3.append(i)\n",
    "    else:\n",
    "        mylist3.append('1111111111')\n",
    "        \n",
    "df_3= pd.DataFrame(mylist3 , columns=['mylist3'])\n",
    "# df_3.value_counts() #returns 1872 ta '1111111111' \n"
   ]
  },
  {
   "cell_type": "code",
   "execution_count": 123,
   "metadata": {},
   "outputs": [
    {
     "name": "stderr",
     "output_type": "stream",
     "text": [
      "C:\\Users\\Asus\\AppData\\Local\\Temp\\ipykernel_15708\\2853278166.py:3: SettingWithCopyWarning: \n",
      "A value is trying to be set on a copy of a slice from a DataFrame.\n",
      "Try using .loc[row_indexer,col_indexer] = value instead\n",
      "\n",
      "See the caveats in the documentation: https://pandas.pydata.org/pandas-docs/stable/user_guide/indexing.html#returning-a-view-versus-a-copy\n",
      "  class_10['postal_code']= df_3['mylist3'].values\n"
     ]
    }
   ],
   "source": [
    "# replacing class_10['postal_code'] (df_2) with df_3\n",
    "\n",
    "class_10['postal_code']= df_3['mylist3'].values"
   ]
  },
  {
   "cell_type": "markdown",
   "metadata": {},
   "source": [
    "# - رقم پنجم نمي تواند عدد 5 باشد\n"
   ]
  },
  {
   "cell_type": "code",
   "execution_count": 124,
   "metadata": {},
   "outputs": [
    {
     "data": {
      "text/plain": [
       "mylist4   \n",
       "1111111111    1872\n",
       "3414739866      37\n",
       "3481634816      28\n",
       "3451634516      21\n",
       "3419113131      20\n",
       "              ... \n",
       "3419348539       1\n",
       "3419378638       1\n",
       "3419614418       1\n",
       "3419614748       1\n",
       "9861437513       1\n",
       "Length: 4368, dtype: int64"
      ]
     },
     "execution_count": 124,
     "metadata": {},
     "output_type": "execute_result"
    }
   ],
   "source": [
    "mylist4=[]\n",
    "\n",
    "for i in class_10['postal_code'].astype(str):\n",
    "    \n",
    "    if i[4:5]!='5':\n",
    "        \n",
    "        mylist4.append(i)\n",
    "    else:\n",
    "        mylist4.append('1111111111')\n",
    "        \n",
    "df_4= pd.DataFrame(mylist4 , columns=['mylist4'])\n",
    "df_4.value_counts() #returns 1872 ta '1111111111' \n"
   ]
  },
  {
   "cell_type": "code",
   "execution_count": 125,
   "metadata": {},
   "outputs": [
    {
     "name": "stderr",
     "output_type": "stream",
     "text": [
      "C:\\Users\\Asus\\AppData\\Local\\Temp\\ipykernel_15708\\3745188511.py:3: SettingWithCopyWarning: \n",
      "A value is trying to be set on a copy of a slice from a DataFrame.\n",
      "Try using .loc[row_indexer,col_indexer] = value instead\n",
      "\n",
      "See the caveats in the documentation: https://pandas.pydata.org/pandas-docs/stable/user_guide/indexing.html#returning-a-view-versus-a-copy\n",
      "  class_10['postal_code']= df_4['mylist4'].values\n"
     ]
    }
   ],
   "source": [
    "# replacing class_10['postal_code'] (df_3) with df_4\n",
    "\n",
    "class_10['postal_code']= df_4['mylist4'].values"
   ]
  },
  {
   "cell_type": "markdown",
   "metadata": {},
   "source": [
    "# -تمامي ارقام نمي تواند شبيه هم باشد"
   ]
  },
  {
   "cell_type": "code",
   "execution_count": 126,
   "metadata": {},
   "outputs": [],
   "source": [
    "# class_10[class_10.postal_code == \"1111111111\"] #returns 1872  rows\n",
    "#for \"6666666666\",\"7777777777\",\"8888888888\",\"4444444444\",\"5555555555\",\"0000000000\",\"2222222222\" ,\"3333333333\",'9999999999'\n",
    "                     #returns 0 row"
   ]
  },
  {
   "cell_type": "code",
   "execution_count": 127,
   "metadata": {},
   "outputs": [
    {
     "data": {
      "text/plain": [
       "mylist5   \n",
       "1111111111    1872\n",
       "3414739866      37\n",
       "3481634816      28\n",
       "3451634516      21\n",
       "3419113131      20\n",
       "              ... \n",
       "3419348539       1\n",
       "3419378638       1\n",
       "3419614418       1\n",
       "3419614748       1\n",
       "9861437513       1\n",
       "Length: 4368, dtype: int64"
      ]
     },
     "execution_count": 127,
     "metadata": {},
     "output_type": "execute_result"
    }
   ],
   "source": [
    "mylist5=[]\n",
    "\n",
    "invalid_list=[\"0000000000\",\"1111111111\",\"2222222222\",\"3333333333\",\"4444444444\",\"5555555555\",\"6666666666\",\"7777777777\"\n",
    "              ,\"8888888888\",\"9999999999\"]\n",
    "\n",
    "\n",
    "\n",
    "for i in class_10['postal_code'].astype(str):\n",
    "    \n",
    "    \n",
    "    if i in invalid_list:\n",
    "        \n",
    "            \n",
    "        mylist5.append(1111111111)\n",
    "        \n",
    "    else:\n",
    "         mylist5.append(i)\n",
    "            \n",
    "df_5= pd.DataFrame(mylist5 , columns=['mylist5'])\n",
    "\n",
    "df_5.value_counts() #returns 1872 ta '1111111111' "
   ]
  },
  {
   "cell_type": "code",
   "execution_count": 128,
   "metadata": {
    "collapsed": true
   },
   "outputs": [
    {
     "name": "stderr",
     "output_type": "stream",
     "text": [
      "C:\\Users\\Asus\\AppData\\Local\\Temp\\ipykernel_15708\\168830366.py:3: SettingWithCopyWarning: \n",
      "A value is trying to be set on a copy of a slice from a DataFrame.\n",
      "Try using .loc[row_indexer,col_indexer] = value instead\n",
      "\n",
      "See the caveats in the documentation: https://pandas.pydata.org/pandas-docs/stable/user_guide/indexing.html#returning-a-view-versus-a-copy\n",
      "  class_10['postal_code']= df_5['mylist5'].values\n"
     ]
    }
   ],
   "source": [
    "# replacing class_10['postal_code'] (df_4) with df_5  , it is not necessary but still i'm doing it lol:))\n",
    "\n",
    "class_10['postal_code']= df_5['mylist5'].values"
   ]
  },
  {
   "cell_type": "code",
   "execution_count": 129,
   "metadata": {},
   "outputs": [
    {
     "name": "stderr",
     "output_type": "stream",
     "text": [
      "C:\\Users\\Asus\\AppData\\Local\\Temp\\ipykernel_15708\\3072807357.py:5: SettingWithCopyWarning: \n",
      "A value is trying to be set on a copy of a slice from a DataFrame.\n",
      "Try using .loc[row_indexer,col_indexer] = value instead\n",
      "\n",
      "See the caveats in the documentation: https://pandas.pydata.org/pandas-docs/stable/user_guide/indexing.html#returning-a-view-versus-a-copy\n",
      "  class_10['panj_ragham_aval_postal_code']=pc.values\n"
     ]
    }
   ],
   "source": [
    "pc=[]\n",
    "for postal_code in class_10['postal_code'].astype(str):\n",
    "    pc.append(postal_code[:5])\n",
    "pc=pd.DataFrame(pc,columns=['pc'])\n",
    "class_10['panj_ragham_aval_postal_code']=pc.values"
   ]
  },
  {
   "cell_type": "code",
   "execution_count": 130,
   "metadata": {},
   "outputs": [],
   "source": [
    "#converting pc  to dict\n",
    "keyy, valuee = list(pc_df['pc']), list(pc_df['city'])\n",
    "dict2 = dict(zip(keyy, valuee))"
   ]
  },
  {
   "cell_type": "code",
   "execution_count": 131,
   "metadata": {},
   "outputs": [],
   "source": [
    "code2 = list(class_10['panj_ragham_aval_postal_code'].astype(int))\n",
    "\n",
    "city_2 = []\n",
    "\n",
    "for i in code2:\n",
    "    \n",
    "    if i in keyy:\n",
    "        \n",
    "        city_2.append(dict2[i])\n",
    "    else:\n",
    "        city_2.append(\"null\")\n",
    "\n"
   ]
  },
  {
   "cell_type": "code",
   "execution_count": 132,
   "metadata": {},
   "outputs": [
    {
     "name": "stderr",
     "output_type": "stream",
     "text": [
      "C:\\Users\\Asus\\AppData\\Local\\Temp\\ipykernel_15708\\1124214881.py:1: SettingWithCopyWarning: \n",
      "A value is trying to be set on a copy of a slice from a DataFrame.\n",
      "Try using .loc[row_indexer,col_indexer] = value instead\n",
      "\n",
      "See the caveats in the documentation: https://pandas.pydata.org/pandas-docs/stable/user_guide/indexing.html#returning-a-view-versus-a-copy\n",
      "  class_10['shahr_e_code_posti']=pd.DataFrame(city_2).values\n"
     ]
    }
   ],
   "source": [
    "class_10['shahr_e_code_posti']=pd.DataFrame(city_2).values"
   ]
  },
  {
   "cell_type": "code",
   "execution_count": 133,
   "metadata": {},
   "outputs": [
    {
     "data": {
      "text/html": [
       "<div>\n",
       "<style scoped>\n",
       "    .dataframe tbody tr th:only-of-type {\n",
       "        vertical-align: middle;\n",
       "    }\n",
       "\n",
       "    .dataframe tbody tr th {\n",
       "        vertical-align: top;\n",
       "    }\n",
       "\n",
       "    .dataframe thead th {\n",
       "        text-align: right;\n",
       "    }\n",
       "</style>\n",
       "<table border=\"1\" class=\"dataframe\">\n",
       "  <thead>\n",
       "    <tr style=\"text-align: right;\">\n",
       "      <th></th>\n",
       "      <th>first_name</th>\n",
       "      <th>last_name</th>\n",
       "      <th>city_residance</th>\n",
       "      <th>postal_code</th>\n",
       "      <th>shahr_e_code_posti</th>\n",
       "    </tr>\n",
       "  </thead>\n",
       "  <tbody>\n",
       "    <tr>\n",
       "      <th>0</th>\n",
       "      <td>حسن</td>\n",
       "      <td>گروسی</td>\n",
       "      <td>بوئین زهرا</td>\n",
       "      <td>3454178378</td>\n",
       "      <td>بوئین زهرا</td>\n",
       "    </tr>\n",
       "    <tr>\n",
       "      <th>1</th>\n",
       "      <td>مرتضی</td>\n",
       "      <td>حاجی حسینی</td>\n",
       "      <td>بوئین زهرا</td>\n",
       "      <td>3451738961</td>\n",
       "      <td>بوئین زهرا</td>\n",
       "    </tr>\n",
       "    <tr>\n",
       "      <th>2</th>\n",
       "      <td>رحمان</td>\n",
       "      <td>رفیعی</td>\n",
       "      <td>بوئین زهرا</td>\n",
       "      <td>3451646436</td>\n",
       "      <td>بوئین زهرا</td>\n",
       "    </tr>\n",
       "    <tr>\n",
       "      <th>3</th>\n",
       "      <td>ابوالفضل</td>\n",
       "      <td>احمدی</td>\n",
       "      <td>بوئین زهرا</td>\n",
       "      <td>3451737955</td>\n",
       "      <td>بوئین زهرا</td>\n",
       "    </tr>\n",
       "    <tr>\n",
       "      <th>4</th>\n",
       "      <td>جعفر</td>\n",
       "      <td>برزگراحمدی</td>\n",
       "      <td>بوئین زهرا</td>\n",
       "      <td>3451637311</td>\n",
       "      <td>بوئین زهرا</td>\n",
       "    </tr>\n",
       "    <tr>\n",
       "      <th>...</th>\n",
       "      <td>...</td>\n",
       "      <td>...</td>\n",
       "      <td>...</td>\n",
       "      <td>...</td>\n",
       "      <td>...</td>\n",
       "    </tr>\n",
       "    <tr>\n",
       "      <th>6894</th>\n",
       "      <td>صادق</td>\n",
       "      <td>صادقی راد</td>\n",
       "      <td>قزوین</td>\n",
       "      <td>1111111111</td>\n",
       "      <td>NaN</td>\n",
       "    </tr>\n",
       "    <tr>\n",
       "      <th>6895</th>\n",
       "      <td>بهمن</td>\n",
       "      <td>گنج ها</td>\n",
       "      <td>قزوین</td>\n",
       "      <td>3431164685</td>\n",
       "      <td>الوند</td>\n",
       "    </tr>\n",
       "    <tr>\n",
       "      <th>6896</th>\n",
       "      <td>زهرا</td>\n",
       "      <td>امانی</td>\n",
       "      <td>قزوین</td>\n",
       "      <td>3416664781</td>\n",
       "      <td>قزوین</td>\n",
       "    </tr>\n",
       "    <tr>\n",
       "      <th>6897</th>\n",
       "      <td>مجید</td>\n",
       "      <td>عسگری</td>\n",
       "      <td>قزوین</td>\n",
       "      <td>3471679831</td>\n",
       "      <td>تاکستان</td>\n",
       "    </tr>\n",
       "    <tr>\n",
       "      <th>6898</th>\n",
       "      <td>لیلا</td>\n",
       "      <td>مهرعلیان</td>\n",
       "      <td>شال</td>\n",
       "      <td>3457114379</td>\n",
       "      <td>شال</td>\n",
       "    </tr>\n",
       "  </tbody>\n",
       "</table>\n",
       "<p>6581 rows × 5 columns</p>\n",
       "</div>"
      ],
      "text/plain": [
       "     first_name   last_name city_residance postal_code shahr_e_code_posti\n",
       "0           حسن       گروسی     بوئین زهرا  3454178378         بوئین زهرا\n",
       "1         مرتضی  حاجی حسینی     بوئین زهرا  3451738961         بوئین زهرا\n",
       "2         رحمان       رفیعی     بوئین زهرا  3451646436         بوئین زهرا\n",
       "3      ابوالفضل       احمدی     بوئین زهرا  3451737955         بوئین زهرا\n",
       "4          جعفر  برزگراحمدی     بوئین زهرا  3451637311         بوئین زهرا\n",
       "...         ...         ...            ...         ...                ...\n",
       "6894       صادق   صادقی راد          قزوین  1111111111                NaN\n",
       "6895       بهمن      گنج ها          قزوین  3431164685              الوند\n",
       "6896       زهرا       امانی          قزوین  3416664781              قزوین\n",
       "6897       مجید       عسگری          قزوین  3471679831            تاکستان\n",
       "6898       لیلا    مهرعلیان            شال  3457114379                شال\n",
       "\n",
       "[6581 rows x 5 columns]"
      ]
     },
     "execution_count": 133,
     "metadata": {},
     "output_type": "execute_result"
    }
   ],
   "source": [
    "class_10[['first_name','last_name','city_residance','postal_code','shahr_e_code_posti']]"
   ]
  },
  {
   "cell_type": "markdown",
   "metadata": {},
   "source": [
    "comparing the values of city_residance and shahr_e_code_posti"
   ]
  },
  {
   "cell_type": "code",
   "execution_count": 134,
   "metadata": {},
   "outputs": [
    {
     "name": "stderr",
     "output_type": "stream",
     "text": [
      "C:\\Users\\Asus\\AppData\\Local\\Temp\\ipykernel_15708\\3054372783.py:1: SettingWithCopyWarning: \n",
      "A value is trying to be set on a copy of a slice from a DataFrame.\n",
      "Try using .loc[row_indexer,col_indexer] = value instead\n",
      "\n",
      "See the caveats in the documentation: https://pandas.pydata.org/pandas-docs/stable/user_guide/indexing.html#returning-a-view-versus-a-copy\n",
      "  class_10['city_cr_pc'] = np.where(  (class_10['city_residance'] == class_10['shahr_e_code_posti']) , 'matched' ,'not_matched' )\n"
     ]
    },
    {
     "data": {
      "text/html": [
       "<div>\n",
       "<style scoped>\n",
       "    .dataframe tbody tr th:only-of-type {\n",
       "        vertical-align: middle;\n",
       "    }\n",
       "\n",
       "    .dataframe tbody tr th {\n",
       "        vertical-align: top;\n",
       "    }\n",
       "\n",
       "    .dataframe thead th {\n",
       "        text-align: right;\n",
       "    }\n",
       "</style>\n",
       "<table border=\"1\" class=\"dataframe\">\n",
       "  <thead>\n",
       "    <tr style=\"text-align: right;\">\n",
       "      <th></th>\n",
       "      <th>city_cr_pc</th>\n",
       "      <th>city_residance</th>\n",
       "      <th>shahr_e_code_posti</th>\n",
       "    </tr>\n",
       "  </thead>\n",
       "  <tbody>\n",
       "    <tr>\n",
       "      <th>0</th>\n",
       "      <td>matched</td>\n",
       "      <td>بوئین زهرا</td>\n",
       "      <td>بوئین زهرا</td>\n",
       "    </tr>\n",
       "    <tr>\n",
       "      <th>1</th>\n",
       "      <td>matched</td>\n",
       "      <td>بوئین زهرا</td>\n",
       "      <td>بوئین زهرا</td>\n",
       "    </tr>\n",
       "    <tr>\n",
       "      <th>2</th>\n",
       "      <td>matched</td>\n",
       "      <td>بوئین زهرا</td>\n",
       "      <td>بوئین زهرا</td>\n",
       "    </tr>\n",
       "    <tr>\n",
       "      <th>3</th>\n",
       "      <td>matched</td>\n",
       "      <td>بوئین زهرا</td>\n",
       "      <td>بوئین زهرا</td>\n",
       "    </tr>\n",
       "    <tr>\n",
       "      <th>4</th>\n",
       "      <td>matched</td>\n",
       "      <td>بوئین زهرا</td>\n",
       "      <td>بوئین زهرا</td>\n",
       "    </tr>\n",
       "    <tr>\n",
       "      <th>...</th>\n",
       "      <td>...</td>\n",
       "      <td>...</td>\n",
       "      <td>...</td>\n",
       "    </tr>\n",
       "    <tr>\n",
       "      <th>6894</th>\n",
       "      <td>not_matched</td>\n",
       "      <td>قزوین</td>\n",
       "      <td>NaN</td>\n",
       "    </tr>\n",
       "    <tr>\n",
       "      <th>6895</th>\n",
       "      <td>not_matched</td>\n",
       "      <td>قزوین</td>\n",
       "      <td>الوند</td>\n",
       "    </tr>\n",
       "    <tr>\n",
       "      <th>6896</th>\n",
       "      <td>matched</td>\n",
       "      <td>قزوین</td>\n",
       "      <td>قزوین</td>\n",
       "    </tr>\n",
       "    <tr>\n",
       "      <th>6897</th>\n",
       "      <td>not_matched</td>\n",
       "      <td>قزوین</td>\n",
       "      <td>تاکستان</td>\n",
       "    </tr>\n",
       "    <tr>\n",
       "      <th>6898</th>\n",
       "      <td>matched</td>\n",
       "      <td>شال</td>\n",
       "      <td>شال</td>\n",
       "    </tr>\n",
       "  </tbody>\n",
       "</table>\n",
       "<p>6581 rows × 3 columns</p>\n",
       "</div>"
      ],
      "text/plain": [
       "       city_cr_pc city_residance shahr_e_code_posti\n",
       "0         matched     بوئین زهرا         بوئین زهرا\n",
       "1         matched     بوئین زهرا         بوئین زهرا\n",
       "2         matched     بوئین زهرا         بوئین زهرا\n",
       "3         matched     بوئین زهرا         بوئین زهرا\n",
       "4         matched     بوئین زهرا         بوئین زهرا\n",
       "...           ...            ...                ...\n",
       "6894  not_matched          قزوین                NaN\n",
       "6895  not_matched          قزوین              الوند\n",
       "6896      matched          قزوین              قزوین\n",
       "6897  not_matched          قزوین            تاکستان\n",
       "6898      matched            شال                شال\n",
       "\n",
       "[6581 rows x 3 columns]"
      ]
     },
     "execution_count": 134,
     "metadata": {},
     "output_type": "execute_result"
    }
   ],
   "source": [
    "class_10['city_cr_pc'] = np.where(  (class_10['city_residance'] == class_10['shahr_e_code_posti']) , 'matched' ,'not_matched' )\n",
    "\n",
    "class_10[['city_cr_pc','city_residance','shahr_e_code_posti']]"
   ]
  },
  {
   "cell_type": "code",
   "execution_count": 135,
   "metadata": {},
   "outputs": [
    {
     "name": "stderr",
     "output_type": "stream",
     "text": [
      "C:\\Users\\Asus\\AppData\\Local\\Temp\\ipykernel_15708\\1279315414.py:22: SettingWithCopyWarning: \n",
      "A value is trying to be set on a copy of a slice from a DataFrame.\n",
      "Try using .loc[row_indexer,col_indexer] = value instead\n",
      "\n",
      "See the caveats in the documentation: https://pandas.pydata.org/pandas-docs/stable/user_guide/indexing.html#returning-a-view-versus-a-copy\n",
      "  class_10['latitude(φ)_by_postal_code']=pd.DataFrame(lat).values\n"
     ]
    }
   ],
   "source": [
    "# latitude(φ)\t\n",
    "\n",
    "\n",
    "key_1, value_1 = list(pc_df['pc']), list(pc_df['latitude(φ)'])\n",
    "dict_lat = dict(zip(key_1, value_1))\n",
    "\n",
    "# dict_lat\n",
    "\n",
    "\n",
    "code2 = list(class_10['panj_ragham_aval_postal_code'].astype(int))\n",
    "\n",
    "lat = []\n",
    "\n",
    "for i in code2:\n",
    "    \n",
    "    if i in key_1:\n",
    "        \n",
    "        lat.append(dict_lat[i])\n",
    "    else:\n",
    "        lat.append(\"null\")\n",
    "\n",
    "class_10['latitude(φ)_by_postal_code']=pd.DataFrame(lat).values"
   ]
  },
  {
   "cell_type": "code",
   "execution_count": 136,
   "metadata": {},
   "outputs": [
    {
     "name": "stderr",
     "output_type": "stream",
     "text": [
      "C:\\Users\\Asus\\AppData\\Local\\Temp\\ipykernel_15708\\1279315414.py:22: SettingWithCopyWarning: \n",
      "A value is trying to be set on a copy of a slice from a DataFrame.\n",
      "Try using .loc[row_indexer,col_indexer] = value instead\n",
      "\n",
      "See the caveats in the documentation: https://pandas.pydata.org/pandas-docs/stable/user_guide/indexing.html#returning-a-view-versus-a-copy\n",
      "  class_10['latitude(φ)_by_postal_code']=pd.DataFrame(lat).values\n"
     ]
    }
   ],
   "source": [
    "# latitude(φ)\t\n",
    "\n",
    "\n",
    "key_1, value_1 = list(pc_df['pc']), list(pc_df['latitude(φ)'])\n",
    "dict_lat = dict(zip(key_1, value_1))\n",
    "\n",
    "# dict_lat\n",
    "\n",
    "\n",
    "code2 = list(class_10['panj_ragham_aval_postal_code'].astype(int))\n",
    "\n",
    "lat = []\n",
    "\n",
    "for i in code2:\n",
    "    \n",
    "    if i in key_1:\n",
    "        \n",
    "        lat.append(dict_lat[i])\n",
    "    else:\n",
    "        lat.append(\"null\")\n",
    "\n",
    "class_10['latitude(φ)_by_postal_code']=pd.DataFrame(lat).values"
   ]
  },
  {
   "cell_type": "code",
   "execution_count": 137,
   "metadata": {},
   "outputs": [
    {
     "name": "stderr",
     "output_type": "stream",
     "text": [
      "C:\\Users\\Asus\\AppData\\Local\\Temp\\ipykernel_15708\\195220457.py:20: SettingWithCopyWarning: \n",
      "A value is trying to be set on a copy of a slice from a DataFrame.\n",
      "Try using .loc[row_indexer,col_indexer] = value instead\n",
      "\n",
      "See the caveats in the documentation: https://pandas.pydata.org/pandas-docs/stable/user_guide/indexing.html#returning-a-view-versus-a-copy\n",
      "  class_10['longitude(λ)_by_postal_code']=pd.DataFrame(longt).values\n"
     ]
    }
   ],
   "source": [
    "# longitude(λ)\n",
    "\n",
    "key_2, value_2 = list(pc_df['pc']), list(pc_df['longitude(λ)'])\n",
    "dict_longt = dict(zip(key_2, value_2))\n",
    "\n",
    "\n",
    "\n",
    "code2 = list(class_10['panj_ragham_aval_postal_code'].astype(int))\n",
    "\n",
    "longt = []\n",
    "\n",
    "for i in code2:\n",
    "    \n",
    "    if i in key_2:\n",
    "        \n",
    "        longt.append(dict_longt[i])\n",
    "    else:\n",
    "        longt.append(\"null\")\n",
    "\n",
    "class_10['longitude(λ)_by_postal_code']=pd.DataFrame(longt).values"
   ]
  },
  {
   "cell_type": "code",
   "execution_count": 138,
   "metadata": {},
   "outputs": [
    {
     "name": "stderr",
     "output_type": "stream",
     "text": [
      "C:\\Users\\Asus\\AppData\\Local\\Temp\\ipykernel_15708\\4051720564.py:21: SettingWithCopyWarning: \n",
      "A value is trying to be set on a copy of a slice from a DataFrame.\n",
      "Try using .loc[row_indexer,col_indexer] = value instead\n",
      "\n",
      "See the caveats in the documentation: https://pandas.pydata.org/pandas-docs/stable/user_guide/indexing.html#returning-a-view-versus-a-copy\n",
      "  class_10['φ(d)_by_postal_code']=pd.DataFrame(φ).values\n"
     ]
    }
   ],
   "source": [
    "# φ(d)\n",
    "\n",
    "key_3, value_3 = list(pc_df['pc']), list(pc_df['φ(d)'])\n",
    "dict_φ = dict(zip(key_3, value_3))\n",
    "\n",
    "# dict_φ\n",
    "\n",
    "\n",
    "code2 = list(class_10['panj_ragham_aval_postal_code'].astype(int))\n",
    "\n",
    "φ = []\n",
    "\n",
    "for i in code2:\n",
    "    \n",
    "    if i in key_3:\n",
    "        \n",
    "        φ.append(dict_φ[i])\n",
    "    else:\n",
    "        φ.append(\"null\")\n",
    "\n",
    "class_10['φ(d)_by_postal_code']=pd.DataFrame(φ).values"
   ]
  },
  {
   "cell_type": "code",
   "execution_count": 141,
   "metadata": {},
   "outputs": [
    {
     "name": "stderr",
     "output_type": "stream",
     "text": [
      "C:\\Users\\Asus\\AppData\\Local\\Temp\\ipykernel_15708\\362334160.py:22: SettingWithCopyWarning: \n",
      "A value is trying to be set on a copy of a slice from a DataFrame.\n",
      "Try using .loc[row_indexer,col_indexer] = value instead\n",
      "\n",
      "See the caveats in the documentation: https://pandas.pydata.org/pandas-docs/stable/user_guide/indexing.html#returning-a-view-versus-a-copy\n",
      "  class_10['λ(d)_by_postal_code']=pd.DataFrame(λ).values\n"
     ]
    }
   ],
   "source": [
    "# λ(d)\n",
    "\n",
    "key_4, value_4 = list(pc_df['pc']), list(pc_df[' λ(d)'])\n",
    "\n",
    "dict_λ = dict(zip(key_4, value_4))\n",
    "\n",
    "# dict_λ\n",
    "\n",
    "\n",
    "code2 = list(class_10['panj_ragham_aval_postal_code'].astype(int))\n",
    "\n",
    "λ = []\n",
    "\n",
    "for i in code2:\n",
    "    \n",
    "    if i in key_4:\n",
    "        \n",
    "        λ.append(dict_λ[i])\n",
    "    else:\n",
    "        λ.append(\"null\")\n",
    "\n",
    "class_10['λ(d)_by_postal_code']=pd.DataFrame(λ).values"
   ]
  },
  {
   "cell_type": "code",
   "execution_count": 142,
   "metadata": {},
   "outputs": [
    {
     "name": "stdout",
     "output_type": "stream",
     "text": [
      "first_name\n",
      "last_name\n",
      "national_id\n",
      "mobile_number\n",
      "city_requested \n",
      "city_residance\n",
      "address\n",
      "postal_code\n",
      "gender\n",
      "Father's name\n",
      "serial_number\n",
      "Birth date\n",
      "Bank acc number\n",
      "national_id_str\n",
      "digits_counting_national_id\n",
      "seh_ragham_aval\n",
      "shahr_e_sodor_shenasnameh\n",
      "digits_counting_postal_code\n",
      "panj_ragham_aval_postal_code\n",
      "shahr_e_code_posti\n",
      "city_cr_pc\n",
      "latitude(φ)_by_postal_code\n",
      "longitude(λ)_by_postal_code\n",
      "φ(d)_by_postal_code\n",
      "λ(d)_by_postal_code\n"
     ]
    }
   ],
   "source": [
    "#class_10\n",
    "for collll in class_10.columns:\n",
    "    print(collll)"
   ]
  },
  {
   "cell_type": "code",
   "execution_count": 143,
   "metadata": {},
   "outputs": [],
   "source": [
    "preprocessed=class_10[['first_name','last_name','national_id','national_id_str','digits_counting_national_id','seh_ragham_aval','shahr_e_sodor_shenasnameh','postal_code','digits_counting_postal_code','panj_ragham_aval_postal_code',\n",
    "             'shahr_e_code_posti','city_residance','city_cr_pc','latitude(φ)_by_postal_code','longitude(λ)_by_postal_code','φ(d)_by_postal_code','λ(d)_by_postal_code','city_requested ']]"
   ]
  },
  {
   "cell_type": "code",
   "execution_count": 144,
   "metadata": {},
   "outputs": [
    {
     "data": {
      "text/html": [
       "<div>\n",
       "<style scoped>\n",
       "    .dataframe tbody tr th:only-of-type {\n",
       "        vertical-align: middle;\n",
       "    }\n",
       "\n",
       "    .dataframe tbody tr th {\n",
       "        vertical-align: top;\n",
       "    }\n",
       "\n",
       "    .dataframe thead th {\n",
       "        text-align: right;\n",
       "    }\n",
       "</style>\n",
       "<table border=\"1\" class=\"dataframe\">\n",
       "  <thead>\n",
       "    <tr style=\"text-align: right;\">\n",
       "      <th></th>\n",
       "      <th>first_name</th>\n",
       "      <th>last_name</th>\n",
       "      <th>national_id</th>\n",
       "      <th>national_id_str</th>\n",
       "      <th>digits_counting_national_id</th>\n",
       "      <th>seh_ragham_aval</th>\n",
       "      <th>shahr_e_sodor_shenasnameh</th>\n",
       "      <th>postal_code</th>\n",
       "      <th>digits_counting_postal_code</th>\n",
       "      <th>panj_ragham_aval_postal_code</th>\n",
       "      <th>shahr_e_code_posti</th>\n",
       "      <th>city_residance</th>\n",
       "      <th>city_cr_pc</th>\n",
       "      <th>latitude(φ)_by_postal_code</th>\n",
       "      <th>longitude(λ)_by_postal_code</th>\n",
       "      <th>φ(d)_by_postal_code</th>\n",
       "      <th>λ(d)_by_postal_code</th>\n",
       "      <th>city_requested</th>\n",
       "    </tr>\n",
       "  </thead>\n",
       "  <tbody>\n",
       "    <tr>\n",
       "      <th>0</th>\n",
       "      <td>حسن</td>\n",
       "      <td>گروسی</td>\n",
       "      <td>5098674451</td>\n",
       "      <td>5098674451</td>\n",
       "      <td>10</td>\n",
       "      <td>509</td>\n",
       "      <td>بوئین زهرا</td>\n",
       "      <td>3454178378</td>\n",
       "      <td>10</td>\n",
       "      <td>34541</td>\n",
       "      <td>بوئین زهرا</td>\n",
       "      <td>بوئین زهرا</td>\n",
       "      <td>matched</td>\n",
       "      <td>35° 45' 25.744\" N</td>\n",
       "      <td>50° 3' 43.085\" E</td>\n",
       "      <td>35.757153</td>\n",
       "      <td>50.061970</td>\n",
       "      <td>بوئین زهرا</td>\n",
       "    </tr>\n",
       "    <tr>\n",
       "      <th>1</th>\n",
       "      <td>مرتضی</td>\n",
       "      <td>حاجی حسینی</td>\n",
       "      <td>4390754092</td>\n",
       "      <td>4390754092</td>\n",
       "      <td>10</td>\n",
       "      <td>439</td>\n",
       "      <td>تاکستان</td>\n",
       "      <td>3451738961</td>\n",
       "      <td>10</td>\n",
       "      <td>34517</td>\n",
       "      <td>بوئین زهرا</td>\n",
       "      <td>بوئین زهرا</td>\n",
       "      <td>matched</td>\n",
       "      <td>35° 45' 25.744\" N</td>\n",
       "      <td>50° 3' 43.085\" E</td>\n",
       "      <td>35.757153</td>\n",
       "      <td>50.061970</td>\n",
       "      <td>بوئین زهرا</td>\n",
       "    </tr>\n",
       "    <tr>\n",
       "      <th>2</th>\n",
       "      <td>رحمان</td>\n",
       "      <td>رفیعی</td>\n",
       "      <td>4391615207</td>\n",
       "      <td>4391615207</td>\n",
       "      <td>10</td>\n",
       "      <td>439</td>\n",
       "      <td>تاکستان</td>\n",
       "      <td>3451646436</td>\n",
       "      <td>10</td>\n",
       "      <td>34516</td>\n",
       "      <td>بوئین زهرا</td>\n",
       "      <td>بوئین زهرا</td>\n",
       "      <td>matched</td>\n",
       "      <td>35° 45' 25.744\" N</td>\n",
       "      <td>50° 3' 43.085\" E</td>\n",
       "      <td>35.757153</td>\n",
       "      <td>50.061970</td>\n",
       "      <td>بوئین زهرا</td>\n",
       "    </tr>\n",
       "    <tr>\n",
       "      <th>3</th>\n",
       "      <td>ابوالفضل</td>\n",
       "      <td>احمدی</td>\n",
       "      <td>5098799899</td>\n",
       "      <td>5098799899</td>\n",
       "      <td>10</td>\n",
       "      <td>509</td>\n",
       "      <td>بوئین زهرا</td>\n",
       "      <td>3451737955</td>\n",
       "      <td>10</td>\n",
       "      <td>34517</td>\n",
       "      <td>بوئین زهرا</td>\n",
       "      <td>بوئین زهرا</td>\n",
       "      <td>matched</td>\n",
       "      <td>35° 45' 25.744\" N</td>\n",
       "      <td>50° 3' 43.085\" E</td>\n",
       "      <td>35.757153</td>\n",
       "      <td>50.061970</td>\n",
       "      <td>بوئین زهرا</td>\n",
       "    </tr>\n",
       "    <tr>\n",
       "      <th>4</th>\n",
       "      <td>جعفر</td>\n",
       "      <td>برزگراحمدی</td>\n",
       "      <td>5099580238</td>\n",
       "      <td>5099580238</td>\n",
       "      <td>10</td>\n",
       "      <td>509</td>\n",
       "      <td>بوئین زهرا</td>\n",
       "      <td>3451637311</td>\n",
       "      <td>10</td>\n",
       "      <td>34516</td>\n",
       "      <td>بوئین زهرا</td>\n",
       "      <td>بوئین زهرا</td>\n",
       "      <td>matched</td>\n",
       "      <td>35° 45' 25.744\" N</td>\n",
       "      <td>50° 3' 43.085\" E</td>\n",
       "      <td>35.757153</td>\n",
       "      <td>50.061970</td>\n",
       "      <td>بوئین زهرا</td>\n",
       "    </tr>\n",
       "    <tr>\n",
       "      <th>...</th>\n",
       "      <td>...</td>\n",
       "      <td>...</td>\n",
       "      <td>...</td>\n",
       "      <td>...</td>\n",
       "      <td>...</td>\n",
       "      <td>...</td>\n",
       "      <td>...</td>\n",
       "      <td>...</td>\n",
       "      <td>...</td>\n",
       "      <td>...</td>\n",
       "      <td>...</td>\n",
       "      <td>...</td>\n",
       "      <td>...</td>\n",
       "      <td>...</td>\n",
       "      <td>...</td>\n",
       "      <td>...</td>\n",
       "      <td>...</td>\n",
       "      <td>...</td>\n",
       "    </tr>\n",
       "    <tr>\n",
       "      <th>6894</th>\n",
       "      <td>صادق</td>\n",
       "      <td>صادقی راد</td>\n",
       "      <td>4380317031</td>\n",
       "      <td>4380317031</td>\n",
       "      <td>10</td>\n",
       "      <td>438</td>\n",
       "      <td>تاکستان</td>\n",
       "      <td>1111111111</td>\n",
       "      <td>10</td>\n",
       "      <td>11111</td>\n",
       "      <td>NaN</td>\n",
       "      <td>قزوین</td>\n",
       "      <td>not_matched</td>\n",
       "      <td>NaN</td>\n",
       "      <td>NaN</td>\n",
       "      <td>NaN</td>\n",
       "      <td>NaN</td>\n",
       "      <td>قزوین</td>\n",
       "    </tr>\n",
       "    <tr>\n",
       "      <th>6895</th>\n",
       "      <td>بهمن</td>\n",
       "      <td>گنج ها</td>\n",
       "      <td>4310661378</td>\n",
       "      <td>4310661378</td>\n",
       "      <td>10</td>\n",
       "      <td>431</td>\n",
       "      <td>قزوین</td>\n",
       "      <td>3431164685</td>\n",
       "      <td>10</td>\n",
       "      <td>34311</td>\n",
       "      <td>الوند</td>\n",
       "      <td>قزوین</td>\n",
       "      <td>not_matched</td>\n",
       "      <td>36° 10' 13.224\" N</td>\n",
       "      <td>50° 4' 26.958\" E</td>\n",
       "      <td>36.170341</td>\n",
       "      <td>50.074154</td>\n",
       "      <td>قزوین</td>\n",
       "    </tr>\n",
       "    <tr>\n",
       "      <th>6896</th>\n",
       "      <td>زهرا</td>\n",
       "      <td>امانی</td>\n",
       "      <td>4324466017</td>\n",
       "      <td>4324466017</td>\n",
       "      <td>10</td>\n",
       "      <td>432</td>\n",
       "      <td>قزوین</td>\n",
       "      <td>3416664781</td>\n",
       "      <td>10</td>\n",
       "      <td>34166</td>\n",
       "      <td>قزوین</td>\n",
       "      <td>قزوین</td>\n",
       "      <td>matched</td>\n",
       "      <td>36° 16' 54.282\" N</td>\n",
       "      <td>50° 0' 7.085\" E</td>\n",
       "      <td>36.281746</td>\n",
       "      <td>50.001968</td>\n",
       "      <td>قزوین</td>\n",
       "    </tr>\n",
       "    <tr>\n",
       "      <th>6897</th>\n",
       "      <td>مجید</td>\n",
       "      <td>عسگری</td>\n",
       "      <td>4323123175</td>\n",
       "      <td>4323123175</td>\n",
       "      <td>10</td>\n",
       "      <td>432</td>\n",
       "      <td>قزوین</td>\n",
       "      <td>3471679831</td>\n",
       "      <td>10</td>\n",
       "      <td>34716</td>\n",
       "      <td>تاکستان</td>\n",
       "      <td>قزوین</td>\n",
       "      <td>not_matched</td>\n",
       "      <td>36° 4' 17.112\" N</td>\n",
       "      <td>49° 41' 46.176\" E</td>\n",
       "      <td>36.071419</td>\n",
       "      <td>49.696159</td>\n",
       "      <td>قزوین</td>\n",
       "    </tr>\n",
       "    <tr>\n",
       "      <th>6898</th>\n",
       "      <td>لیلا</td>\n",
       "      <td>مهرعلیان</td>\n",
       "      <td>4390366726</td>\n",
       "      <td>4390366726</td>\n",
       "      <td>10</td>\n",
       "      <td>439</td>\n",
       "      <td>تاکستان</td>\n",
       "      <td>3457114379</td>\n",
       "      <td>10</td>\n",
       "      <td>34571</td>\n",
       "      <td>شال</td>\n",
       "      <td>شال</td>\n",
       "      <td>matched</td>\n",
       "      <td>35° 53' 51.349\" N</td>\n",
       "      <td>49° 46' 6.118\" E</td>\n",
       "      <td>35.897598</td>\n",
       "      <td>49.768368</td>\n",
       "      <td>شال</td>\n",
       "    </tr>\n",
       "  </tbody>\n",
       "</table>\n",
       "<p>6581 rows × 18 columns</p>\n",
       "</div>"
      ],
      "text/plain": [
       "     first_name   last_name  national_id national_id_str  \\\n",
       "0           حسن       گروسی   5098674451      5098674451   \n",
       "1         مرتضی  حاجی حسینی   4390754092      4390754092   \n",
       "2         رحمان       رفیعی   4391615207      4391615207   \n",
       "3      ابوالفضل       احمدی   5098799899      5098799899   \n",
       "4          جعفر  برزگراحمدی   5099580238      5099580238   \n",
       "...         ...         ...          ...             ...   \n",
       "6894       صادق   صادقی راد   4380317031      4380317031   \n",
       "6895       بهمن      گنج ها   4310661378      4310661378   \n",
       "6896       زهرا       امانی   4324466017      4324466017   \n",
       "6897       مجید       عسگری   4323123175      4323123175   \n",
       "6898       لیلا    مهرعلیان   4390366726      4390366726   \n",
       "\n",
       "      digits_counting_national_id seh_ragham_aval shahr_e_sodor_shenasnameh  \\\n",
       "0                              10             509                بوئین زهرا   \n",
       "1                              10             439                   تاکستان   \n",
       "2                              10             439                   تاکستان   \n",
       "3                              10             509                بوئین زهرا   \n",
       "4                              10             509                بوئین زهرا   \n",
       "...                           ...             ...                       ...   \n",
       "6894                           10             438                   تاکستان   \n",
       "6895                           10             431                     قزوین   \n",
       "6896                           10             432                     قزوین   \n",
       "6897                           10             432                     قزوین   \n",
       "6898                           10             439                   تاکستان   \n",
       "\n",
       "     postal_code  digits_counting_postal_code panj_ragham_aval_postal_code  \\\n",
       "0     3454178378                           10                        34541   \n",
       "1     3451738961                           10                        34517   \n",
       "2     3451646436                           10                        34516   \n",
       "3     3451737955                           10                        34517   \n",
       "4     3451637311                           10                        34516   \n",
       "...          ...                          ...                          ...   \n",
       "6894  1111111111                           10                        11111   \n",
       "6895  3431164685                           10                        34311   \n",
       "6896  3416664781                           10                        34166   \n",
       "6897  3471679831                           10                        34716   \n",
       "6898  3457114379                           10                        34571   \n",
       "\n",
       "     shahr_e_code_posti city_residance   city_cr_pc  \\\n",
       "0            بوئین زهرا     بوئین زهرا      matched   \n",
       "1            بوئین زهرا     بوئین زهرا      matched   \n",
       "2            بوئین زهرا     بوئین زهرا      matched   \n",
       "3            بوئین زهرا     بوئین زهرا      matched   \n",
       "4            بوئین زهرا     بوئین زهرا      matched   \n",
       "...                 ...            ...          ...   \n",
       "6894                NaN          قزوین  not_matched   \n",
       "6895              الوند          قزوین  not_matched   \n",
       "6896              قزوین          قزوین      matched   \n",
       "6897            تاکستان          قزوین  not_matched   \n",
       "6898                شال            شال      matched   \n",
       "\n",
       "     latitude(φ)_by_postal_code longitude(λ)_by_postal_code  \\\n",
       "0             35° 45' 25.744\" N            50° 3' 43.085\" E   \n",
       "1             35° 45' 25.744\" N            50° 3' 43.085\" E   \n",
       "2             35° 45' 25.744\" N            50° 3' 43.085\" E   \n",
       "3             35° 45' 25.744\" N            50° 3' 43.085\" E   \n",
       "4             35° 45' 25.744\" N            50° 3' 43.085\" E   \n",
       "...                         ...                         ...   \n",
       "6894                        NaN                         NaN   \n",
       "6895          36° 10' 13.224\" N            50° 4' 26.958\" E   \n",
       "6896          36° 16' 54.282\" N             50° 0' 7.085\" E   \n",
       "6897           36° 4' 17.112\" N           49° 41' 46.176\" E   \n",
       "6898          35° 53' 51.349\" N            49° 46' 6.118\" E   \n",
       "\n",
       "      φ(d)_by_postal_code  λ(d)_by_postal_code city_requested   \n",
       "0               35.757153            50.061970      بوئین زهرا  \n",
       "1               35.757153            50.061970      بوئین زهرا  \n",
       "2               35.757153            50.061970      بوئین زهرا  \n",
       "3               35.757153            50.061970      بوئین زهرا  \n",
       "4               35.757153            50.061970      بوئین زهرا  \n",
       "...                   ...                  ...             ...  \n",
       "6894                  NaN                  NaN           قزوین  \n",
       "6895            36.170341            50.074154           قزوین  \n",
       "6896            36.281746            50.001968           قزوین  \n",
       "6897            36.071419            49.696159           قزوین  \n",
       "6898            35.897598            49.768368             شال  \n",
       "\n",
       "[6581 rows x 18 columns]"
      ]
     },
     "execution_count": 144,
     "metadata": {},
     "output_type": "execute_result"
    }
   ],
   "source": [
    "preprocessed"
   ]
  },
  {
   "cell_type": "code",
   "execution_count": null,
   "metadata": {},
   "outputs": [],
   "source": [
    "from pathlib import Path  \n",
    "\n",
    "filepath = Path(r'C:\\Users\\Asus\\Desktop\\preprocessed_data_ngnz.xlsx')  \n",
    "\n",
    "filepath.parent.mkdir(parents=True, exist_ok=True)  \n",
    "\n",
    "preprocessed.to_excel(filepath,encoding='utf-8-sig')  "
   ]
  }
 ],
 "metadata": {
  "kernelspec": {
   "display_name": "Python 3 (ipykernel)",
   "language": "python",
   "name": "python3"
  },
  "language_info": {
   "codemirror_mode": {
    "name": "ipython",
    "version": 3
   },
   "file_extension": ".py",
   "mimetype": "text/x-python",
   "name": "python",
   "nbconvert_exporter": "python",
   "pygments_lexer": "ipython3",
   "version": "3.9.12"
  },
  "vscode": {
   "interpreter": {
    "hash": "52d90d3cc821dd0beedd6e719dbdecc722c226b9d90ed1b663c34e1877f1142e"
   }
  }
 },
 "nbformat": 4,
 "nbformat_minor": 2
}
