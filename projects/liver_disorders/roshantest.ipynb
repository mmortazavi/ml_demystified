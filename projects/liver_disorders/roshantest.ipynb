{
 "cells": [
  {
   "cell_type": "code",
   "execution_count": 2,
   "metadata": {},
   "outputs": [],
   "source": [
    "import numpy as np\n",
    "import pandas as pd\n",
    "df = pd.read_csv(\"https://archive.ics.uci.edu/ml/machine-learning-databases/liver-disorders/bupa.data\",\n",
    "                  names=[\"mcv\",\"alkphos\",\"sgpt\",\"sgot\",\"gammagt\",\"drinks\",\"strain/test\"])\n",
    "\n",
    "\n",
    "\n"
   ]
  }
 ],
 "metadata": {
  "kernelspec": {
   "display_name": "Python 3.9.7 ('base')",
   "language": "python",
   "name": "python3"
  },
  "language_info": {
   "codemirror_mode": {
    "name": "ipython",
    "version": 3
   },
   "file_extension": ".py",
   "mimetype": "text/x-python",
   "name": "python",
   "nbconvert_exporter": "python",
   "pygments_lexer": "ipython3",
   "version": "3.9.7"
  },
  "orig_nbformat": 4,
  "vscode": {
   "interpreter": {
    "hash": "9f287739565b73ab9c5c3ca57defd10e72881d9b0fc3c7b666452042b3b86721"
   }
  }
 },
 "nbformat": 4,
 "nbformat_minor": 2
}
