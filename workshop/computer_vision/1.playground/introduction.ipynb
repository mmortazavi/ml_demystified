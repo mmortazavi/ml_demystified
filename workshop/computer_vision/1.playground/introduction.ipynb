{
 "cells": [
  {
   "attachments": {},
   "cell_type": "markdown",
   "metadata": {},
   "source": [
    "## YOLO Inference"
   ]
  },
  {
   "attachments": {},
   "cell_type": "markdown",
   "metadata": {},
   "source": [
    "### YOLOv5 Benchmark"
   ]
  },
  {
   "cell_type": "code",
   "execution_count": 1,
   "metadata": {},
   "outputs": [
    {
     "data": {
      "text/html": [
       "<img src=\"https://user-images.githubusercontent.com/61612323/204180385-84f3aca9-a5e9-43d8-a617-dda7ca12e54a.png\" width=\"800\"/>"
      ],
      "text/plain": [
       "<IPython.core.display.Image object>"
      ]
     },
     "execution_count": 1,
     "metadata": {},
     "output_type": "execute_result"
    }
   ],
   "source": [
    "from IPython.display import Image\n",
    "Image(url=\"https://user-images.githubusercontent.com/61612323/204180385-84f3aca9-a5e9-43d8-a617-dda7ca12e54a.png\", width=800)"
   ]
  },
  {
   "attachments": {},
   "cell_type": "markdown",
   "metadata": {},
   "source": [
    "### YOLOv8 Benchmark"
   ]
  },
  {
   "cell_type": "code",
   "execution_count": 4,
   "metadata": {},
   "outputs": [
    {
     "data": {
      "text/html": [
       "<img src=\"https://raw.githubusercontent.com/ultralytics/assets/main/yolov8/yolo-comparison-plots.png\" width=\"1200\"/>"
      ],
      "text/plain": [
       "<IPython.core.display.Image object>"
      ]
     },
     "execution_count": 4,
     "metadata": {},
     "output_type": "execute_result"
    }
   ],
   "source": [
    "from IPython.display import Image\n",
    "Image(url=\"https://raw.githubusercontent.com/ultralytics/assets/main/yolov8/yolo-comparison-plots.png\", width=1200)"
   ]
  },
  {
   "attachments": {},
   "cell_type": "markdown",
   "metadata": {},
   "source": [
    "### Segmentation Example"
   ]
  },
  {
   "cell_type": "code",
   "execution_count": 2,
   "metadata": {},
   "outputs": [],
   "source": [
    "from yolov5.segment import predict"
   ]
  },
  {
   "cell_type": "code",
   "execution_count": 3,
   "metadata": {},
   "outputs": [
    {
     "name": "stderr",
     "output_type": "stream",
     "text": [
      "Downloading https://github.com/ultralytics/yolov5/raw/master/data/images/zidane.jpg to zidane.jpg...\n",
      "100%|██████████| 165k/165k [00:00<00:00, 2.08MB/s]\n",
      "YOLOv5  2023-4-15 Python-3.9.13 torch-2.0.0+cpu CPU\n",
      "\n",
      "c:\\Users\\majmo\\Git\\ml_demystified\\venv\\lib\\site-packages\\tqdm\\auto.py:21: TqdmWarning: IProgress not found. Please update jupyter and ipywidgets. See https://ipywidgets.readthedocs.io/en/stable/user_install.html\n",
      "  from .autonotebook import tqdm as notebook_tqdm\n",
      "Fusing layers... \n",
      "YOLOv5m-seg summary: 383 layers, 21990397 parameters, 0 gradients, 71.3 GFLOPs\n",
      "image 1/1 C:\\Users\\majmo\\Git\\ml_demystified\\workshop\\computer_vision\\zidane.jpg: 384x640 2 persons, 1 tie, 952.1ms\n",
      "Speed: 1.0ms pre-process, 952.1ms inference, 3.0ms NMS per image at shape (1, 3, 640, 640)\n",
      "Results saved to \u001b[1mC:\\Users\\majmo\\Git\\ml_demystified\\workshop\\computer_vision\\seg-predictions\u001b[0m\n"
     ]
    }
   ],
   "source": [
    "predict.run(weights='models\\\\yolov5m-seg.pt',  # model.pt path(s)\n",
    "            source='https://github.com/ultralytics/yolov5/raw/master/data/images/zidane.jpg',  # file/dir/URL/glob/screen/0(webcam)\n",
    "            conf_thres=0.25,  # confidence threshold\n",
    "            iou_thres=0.45,  # NMS IOU threshold\n",
    "            view_img=False,  # show results\n",
    "            save_txt=False,  # save results to *.txt\n",
    "            save_conf=False,  # save confidences in --save-txt labels\n",
    "            save_crop=True,  # save cropped prediction boxes\n",
    "            project=r\"C:\\Users\\majmo\\Git\\ml_demystified\\workshop\\computer_vision\",  # save results to project/name\n",
    "            name='seg-predictions',  # save results to project/name\n",
    "            exist_ok=False,  # existing project/name ok, do not increment\n",
    "            line_thickness=3,  # bounding box thickness (pixels)\n",
    "            hide_labels=False,  # hide labels\n",
    "            hide_conf=False,  # hide confidences\n",
    "            half=False,  # use FP16 half-precision inference\n",
    "            dnn=False,  # use OpenCV DNN for ONNX inference\n",
    "            vid_stride=1,  # video frame-rate stride\n",
    "            retina_masks=False)"
   ]
  },
  {
   "attachments": {},
   "cell_type": "markdown",
   "metadata": {},
   "source": [
    "## References\n",
    "- https://github.com/ultralytics/yolov5\n",
    "- https://github.com/ultralytics/ultralytics\n",
    " \n",
    "- https://viso.ai/deep-learning/yolov7-guide/\n",
    "- https://ieeexplore.ieee.org/document/7418643\n",
    "- https://figshare.com/articles/dataset/Connecticut_Solar_PV_Semantic_Segmentation_Dataset/18982199?file=33930890"
   ]
  }
 ],
 "metadata": {
  "kernelspec": {
   "display_name": "venv",
   "language": "python",
   "name": "python3"
  },
  "language_info": {
   "codemirror_mode": {
    "name": "ipython",
    "version": 3
   },
   "file_extension": ".py",
   "mimetype": "text/x-python",
   "name": "python",
   "nbconvert_exporter": "python",
   "pygments_lexer": "ipython3",
   "version": "3.9.13"
  },
  "orig_nbformat": 4,
  "vscode": {
   "interpreter": {
    "hash": "afc62f4ea82181413c6e2f980c512127adfecb47a3cbe08ac5dfd51de915ffc4"
   }
  }
 },
 "nbformat": 4,
 "nbformat_minor": 2
}
